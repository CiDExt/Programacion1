{
 "cells": [
  {
   "cell_type": "markdown",
   "id": "67df0523-1d15-4e11-b77f-cdc4f89987b9",
   "metadata": {},
   "source": [
    "# Condicionales (if)"
   ]
  },
  {
   "cell_type": "markdown",
   "id": "12f8deb6-e557-4bba-976a-d614d33f8cdb",
   "metadata": {},
   "source": [
    ":::::{important} ¿Cómo vamos?\n",
    "\n",
    "\n",
    "Hasta el momento debemos tener claro lo siguiente:\n",
    "\n",
    "\n",
    "````{tabbed} Paradigmas de Programación\n",
    "\n",
    ":::{admonition} Recordemos...\n",
    ":class: tip\n",
    "Un **paradigma de programación** indica las guías y métodos de realizar cálculos y la manera en que se deben estructurar y organizar las tareas que debe llevar a cabo un programa. Se asocian a cierto estilo de programación y al modelo de computación (operaciones permitidas) admitido en nuestro sistema.\n",
    ":::\n",
    "````\n",
    "\n",
    "\n",
    "````{tabbed} Variables\n",
    "\n",
    ":::{admonition} Recordemos...\n",
    ":class: tip\n",
    "Una variable en Python sirve para **guardar un valor específico**, ya sea **numérico**, **texto** u otro [**Tipo de Dato**](https://www.w3schools.com/python/python_datatypes.asp) con un nombre que nosotros escojamos. Debemos escribir una expresión de la forma:\n",
    "\n",
    "[Nombre de variable]=[Valor para guardar]\n",
    "\n",
    ":::\n",
    "````\n",
    ":::::"
   ]
  },
  {
   "cell_type": "markdown",
   "id": "db81e799-6a00-47d7-92de-a69e22e8028c",
   "metadata": {},
   "source": [
    "## Programación estructurada\n",
    "\n",
    "Volviendo al teorema del programa estructurado o [teorema de Böhm–Jacopini](https://en.wikipedia.org/wiki/Structured_program_theorem) sabemos que toda función computable se puede implementar utilizando tres estructuras lógicas que permiten modificar el orden de ejecución del programa. A dichas estructuras las llamamos  **estructuras de control** y  corresponden a las siguientes:\n",
    "\n",
    "*Secuencia:*  Que se entiende como la posibilidad de ejecutar una instrucción tras otra.\n",
    "*Selección:* Que ejecuta dos o más secuencias acorde al valor de una expresión booleana.\n",
    "*Iteración:* Que ejecuta una serie de instrucciones mientras una variable booleana es verdadera.\n",
    "\n",
    "Claramente la secuenciación de un programa indica que hay un orden para ejecutar las instrucciones, estudiaremos entonces las estructuras de seleccción, iniciando con la más sencilla de todas: **el condicional**.\n"
   ]
  },
  {
   "cell_type": "markdown",
   "id": "c6db7bc7-b779-4238-952b-85878de235a8",
   "metadata": {},
   "source": [
    "## Condicional básico `if`"
   ]
  },
  {
   "cell_type": "markdown",
   "id": "41a4b748-dead-474b-8be0-c1693a52795a",
   "metadata": {},
   "source": [
    "El `if` se utiliza para evaluar expresiones condicionales, si cierta condición se satisface, se ejecuta un determinado bloque de código, y en caso de no satisfacer la condición puede que ejecute otro bloque de código, evalúe otra condición o simplemente no haga nada. Nosotros abordaremos todos los casos, pero debemos hacerlo desde el caso más sencillo:\n",
    "\n",
    "```\n",
    "Si se cumple cierta condición, ejecute un bloque de código, si no se cumple no haga nada.\n",
    "```\n",
    "\n",
    "\n",
    "\n",
    "Como debemos verificar la validez o no de una condición, la condición que ingresemos debe arrojar como resultado una variable booleana (`True` o `False`).\n",
    "\n",
    "La estructura es la siguiente:\n",
    "\n",
    "```Python\n",
    "if (condición):\n",
    "    instrucción 1\n",
    "    instrucción 2  \n",
    "    ...\n",
    "    instrucción n \n",
    "```\n",
    "\n",
    ":::{admonition} Importante\n",
    ":class: tip\n",
    "En la estructura anterior `condición` hace referencia a una sentencia booleana, cuyos resultados pueden ser verdadero (`True`) o falso (`False`). Tengalo en cuenta siempre que establezca igualdad, donde la sintáxis correcta es `x==y`y no `x=y`.\n",
    "\n",
    "Otro elemento importante es que en esta estructura de control aparece una característica destacada de Python, es la identación, como ven las instrucciones que se ejecutan después de validar la condición se escriben en una sangría a la derecha. Una identación equivocada puede llevar a un error de sintáxis por identación. No hay problema en la sintáxis sino que se manejaron mal los espacios. Ver los ejemplos siguientes.\n",
    ":::"
   ]
  },
  {
   "cell_type": "markdown",
   "id": "03691afb-261d-44c6-8d53-e8635ad82ebd",
   "metadata": {},
   "source": [
    "Veamos que ocurre cuando la condición es verdadera:"
   ]
  },
  {
   "cell_type": "code",
   "execution_count": 5,
   "id": "22ea639d-5818-4d11-9177-337038696ef6",
   "metadata": {},
   "outputs": [
    {
     "name": "stdout",
     "output_type": "stream",
     "text": [
      "El valor de verdad de la condición es verdadera\n"
     ]
    }
   ],
   "source": [
    "if True:\n",
    "    print('El valor de verdad de la condición es verdadera')\n",
    "    "
   ]
  },
  {
   "cell_type": "markdown",
   "id": "5bdaeea4-ce8e-4eb5-876d-cc47344703e8",
   "metadata": {},
   "source": [
    "Cuando no es así:"
   ]
  },
  {
   "cell_type": "code",
   "execution_count": 5,
   "id": "2ef89c5b-3096-440f-8065-7d0db04d97eb",
   "metadata": {},
   "outputs": [],
   "source": [
    "if False:\n",
    "    print('El valor de verdad de la condición es falso')"
   ]
  },
  {
   "cell_type": "markdown",
   "id": "7811fee4-6366-4072-a062-18e54b890816",
   "metadata": {},
   "source": [
    "note que en el bloque de código anterior no hubo respuesta alguna, esto ocurre porque la condición es falsa. \n",
    "\n",
    "Veamos que ocurre si no respetamos la identación:"
   ]
  },
  {
   "cell_type": "code",
   "execution_count": 1,
   "id": "bf9cef89-051d-47ca-8af1-d536328e9f88",
   "metadata": {},
   "outputs": [
    {
     "ename": "IndentationError",
     "evalue": "expected an indented block (2201727748.py, line 2)",
     "output_type": "error",
     "traceback": [
      "\u001b[0;36m  File \u001b[0;32m\"/tmp/ipykernel_128795/2201727748.py\"\u001b[0;36m, line \u001b[0;32m2\u001b[0m\n\u001b[0;31m    print('El valor de verdad de la condición es verdadero')\u001b[0m\n\u001b[0m    ^\u001b[0m\n\u001b[0;31mIndentationError\u001b[0m\u001b[0;31m:\u001b[0m expected an indented block\n"
     ]
    }
   ],
   "source": [
    "if True:\n",
    "print('El valor de verdad de la condición es verdadero')"
   ]
  },
  {
   "cell_type": "markdown",
   "id": "b2043a64-e97a-4cf6-bc4a-a0154aed075a",
   "metadata": {},
   "source": [
    "Aquí tenemos error porque no hay sangría después de los dos puntos que delimitan el final de la condición. \n",
    "\n",
    "Finalmente, comprobemos como actúa la sangría en la ejecución de instrucciones según el valor de verdad de la condición:"
   ]
  },
  {
   "cell_type": "code",
   "execution_count": 7,
   "id": "9cd9da1c-1565-4f37-a3c4-86547cd5c1d7",
   "metadata": {},
   "outputs": [
    {
     "name": "stdout",
     "output_type": "stream",
     "text": [
      "Esta instrucción se ejecuta si la condición es verdadera...\n",
      "Esta también...\n",
      "\n",
      "Esta se ejecuta por fuera del condicional.\n"
     ]
    }
   ],
   "source": [
    "if True:\n",
    "    print('Esta instrucción se ejecuta si la condición es verdadera...')\n",
    "    print('Esta también...\\n')\n",
    "print('Esta instrucción se ejecuta por fuera del condicional.')"
   ]
  },
  {
   "cell_type": "code",
   "execution_count": 9,
   "id": "588cf2ba-4d0e-4a33-b4aa-5d0f4f135e2e",
   "metadata": {},
   "outputs": [
    {
     "name": "stdout",
     "output_type": "stream",
     "text": [
      "Esta instrucción se ejecuta por fuera del condicional.\n"
     ]
    }
   ],
   "source": [
    "if False:\n",
    "    print('Esta instrucción se ejecuta si la condición es verdadera...')\n",
    "    print('Esta también...\\n')\n",
    "print('Esta instrucción se ejecuta por fuera del condicional.')"
   ]
  },
  {
   "cell_type": "markdown",
   "id": "016b99bc-a3fe-4b1e-a9a6-ab94ba0b684f",
   "metadata": {},
   "source": [
    "Esta imagen tomada de [Real Python](https://realpython.com/) no puede ser más aclaradora:\n",
    "\n",
    "![if](https://files.realpython.com/media/t.78f3bacaa261.png)"
   ]
  },
  {
   "cell_type": "markdown",
   "id": "545b0022-a008-4c77-8672-33ce150fc377",
   "metadata": {},
   "source": [
    "**Ejemplo**\n",
    "\n",
    "Diseñe un algoritmo que identifique si es de día, necesitará determinar la hora actual y saber que diremos que es de dia si la hora está entre las 6:00am y las 6:00pm. Para obtener la hora actual use del modulo `datetime` en el paquete `datetime` el método `now` como sigue:\n"
   ]
  },
  {
   "cell_type": "code",
   "execution_count": 13,
   "id": "0d8a5bcc-fa6b-4c4c-9dac-e80b43f975f1",
   "metadata": {},
   "outputs": [
    {
     "data": {
      "text/plain": [
       "datetime.datetime(2021, 11, 16, 23, 23, 10, 966343)"
      ]
     },
     "execution_count": 13,
     "metadata": {},
     "output_type": "execute_result"
    }
   ],
   "source": [
    "from datetime import datetime\n",
    "Ahora=datetime.now()\n",
    "Ahora"
   ]
  },
  {
   "cell_type": "markdown",
   "id": "a7944c41-3cdb-457f-ae3e-134595a68012",
   "metadata": {},
   "source": [
    "Esa instancia que acabo de obtener le puede dar la hora usando:"
   ]
  },
  {
   "cell_type": "code",
   "execution_count": 14,
   "id": "7eb2a1d7-93a6-4dc3-b280-0a831b4f66df",
   "metadata": {},
   "outputs": [
    {
     "data": {
      "text/plain": [
       "23"
      ]
     },
     "execution_count": 14,
     "metadata": {},
     "output_type": "execute_result"
    }
   ],
   "source": [
    "Ahora.hour"
   ]
  },
  {
   "cell_type": "markdown",
   "id": "824e0373-afda-4446-8993-db12ea1817fa",
   "metadata": {},
   "source": [
    "::::{admonition} **Solución**\n",
    ":class: tip, dropdown\n",
    "Una solución simple puede ser:\n",
    "\n",
    "```Python\n",
    "from datetime import datetime\n",
    "Ahora=datetime.now()\n",
    "Ahora\n",
    "if Ahora.hour<18 or Ahora.hour<=6:\n",
    "    print( 'Es de día')\n",
    "```\n",
    "\n",
    "::::"
   ]
  },
  {
   "cell_type": "markdown",
   "id": "85873259-6ce7-424c-ad30-5fe14f2b16ef",
   "metadata": {},
   "source": [
    "Dentro de cada bloque en el que se ejucuta un codicional se puede incluir otro. Lo podemos hacer a una profundidad arbitrária y debemos entender que es la sangria la que indica el nivel en el que hemos anidado el condicional. "
   ]
  },
  {
   "cell_type": "code",
   "execution_count": 2,
   "id": "6adc6bc5-3f78-4d0e-bb85-385391c9341c",
   "metadata": {},
   "outputs": [
    {
     "name": "stdout",
     "output_type": "stream",
     "text": [
      "Vale la condición \"externa\"\n",
      "Una sentencia que depende del primer if\n",
      "Si vale la condición \"interna\" 2\n",
      "Una sentencia que depende del primer if\n",
      "Una sentencia independiente\n"
     ]
    }
   ],
   "source": [
    "# ¿Esta linea se ejecuta?                                   SÍ    NO\n",
    "#                                                          ---   ---\n",
    "if 'foo' in ['foo', 'bar', 'baz']:                       #  x\n",
    "    print('Vale la condición \"externa\"')                 #  x\n",
    "\n",
    "    if 10 > 20:                                          #  x\n",
    "        print('No vale la condición \"interna\" 1')        #        x\n",
    "\n",
    "    print('Una sentencia que depende del primer if')     #  x\n",
    "\n",
    "    if 10 < 20:                                          #  x\n",
    "        print('Si vale la condición \"interna\" 2')        #  x\n",
    "\n",
    "    print('Una sentencia que depende del primer if')     #  x\n",
    "print('Una sentencia independiente')                     #  x"
   ]
  },
  {
   "cell_type": "markdown",
   "id": "98eb07ba-f149-42a7-92c8-f0038b3ebbf4",
   "metadata": {},
   "source": [
    "## Condicional de la forma **if ... else:**"
   ]
  },
  {
   "cell_type": "markdown",
   "id": "18ad04be-8f76-409f-9c09-2c498d43dd58",
   "metadata": {},
   "source": [
    "\n",
    "Este es el segundo caso en el que podemos tener en un `if`, la estructura de selección hace lo siguiente verifica una condición, si se cumple ejecuta un bloque de código, si no se cumple, ejecuta otro bloque de código.\n",
    "\n",
    "Su esquema es el siguiente:\n",
    "\n",
    "```Python\n",
    "if (condición):\n",
    "    instrucción_positiva 1\n",
    "    instrucción_positiva 2\n",
    "    ...\n",
    "    instrucción_positiva n\n",
    "else:\n",
    "    instrucción_negativa 1\n",
    "    instrucción_negativa 2\n",
    "    ...\n",
    "    instrucción_negativa m\n",
    "```\n",
    "\n",
    "Ahora verificaremos si un número que nosotros digitemos es positivo o no:"
   ]
  },
  {
   "cell_type": "markdown",
   "id": "5a0e1447-7155-478c-b68d-b775763dd81e",
   "metadata": {},
   "source": [
    "```Python \n",
    "n = int(input('Escribe el número que deseas verificar: '))\n",
    "```"
   ]
  },
  {
   "cell_type": "markdown",
   "id": "0ec0376a-14ef-4913-b4f6-a5b6347785ef",
   "metadata": {},
   "source": [
    "El condicional debe tener una estructura como sigue:\n"
   ]
  },
  {
   "cell_type": "markdown",
   "id": "4e04d1c0-2b41-4ef7-bcc1-ffaaffd12ca1",
   "metadata": {},
   "source": [
    "<div style=\"width: 100%;\"><div style=\"position: relative; padding-bottom: 50.00%; padding-top: 0; height: 0;\"><iframe frameborder=\"0\" width=\"1000\" height=\"500\" style=\"position: absolute; top: 0; left: 0; width: 100%; height: 100%;\" src=\"https://view.genial.ly/61948c5ec121b10d88a24d1d\" type=\"text/html\" allowscriptaccess=\"always\" allowfullscreen=\"true\" scrolling=\"yes\" allownetworking=\"all\"></iframe> </div> </div>"
   ]
  },
  {
   "cell_type": "markdown",
   "id": "7bc9cbb8-5bdc-4686-b220-a4211c53ce2e",
   "metadata": {},
   "source": [
    "::::{admonition} **Programa Simple**\n",
    ":class: tip, dropdown\n",
    "Identificar si el número ingresado es positivo:\n",
    "\n",
    "```Python\n",
    "n=input('Escriba un número entero: ')\n",
    "if n>0:\n",
    "    print('El número es positivo')\n",
    "else:\n",
    "    print('El número no es positivo')\n",
    "```\n",
    "\n",
    "::::"
   ]
  },
  {
   "cell_type": "markdown",
   "id": "3c52cfb5-d10e-4ad3-a026-42ad2954e977",
   "metadata": {},
   "source": [
    "Para verificar si un número dado es par o no, podemos utilizar el siguiente bloque de código:\n",
    "\n",
    "::::{admonition} **Programa Simple**\n",
    ":class: tip, dropdown\n",
    "Identificar si el número ingresado es positivo:\n",
    "\n",
    "```Python\n",
    "m=input('Escriba un número entero: ')\n",
    "if m%2==0:\n",
    "    print('{0:1d} es par'.format(m))\n",
    "else:\n",
    "    print('{0:1d} es impar'.format(m))\n",
    "```\n",
    "\n",
    "::::"
   ]
  },
  {
   "cell_type": "markdown",
   "id": "5fae1c13-988e-4e46-bd67-86a9eb99b1b8",
   "metadata": {},
   "source": [
    "## Condicional **if...elif...**"
   ]
  },
  {
   "cell_type": "markdown",
   "id": "91bae682-fb2a-459a-ba2b-48942ae02941",
   "metadata": {},
   "source": [
    "El tercer caso, es el siguiente: si se cumple cierta condición ejecute cierto bloque de código, sino, verifica otra condición si se cumple ejecuta otro bloque de código y si no se cumplen las condiciones anteriores, ejecute otro bloque de código.\n",
    "\n",
    "Su estructura es la siguiente:\n",
    "\n",
    "```Python\n",
    "if (condición1):\n",
    "    instrucción_1 1\n",
    "    instrucción_1 2\n",
    "    ...\n",
    "    instrucción_1 n_1\n",
    "    \n",
    "elif (condición2):\n",
    "    instrucción_2 1\n",
    "    instrucción_2 2\n",
    "    ...\n",
    "    instrucción_2 n_2\n",
    "elif (condición3):\n",
    "    instrucción_3 1\n",
    "    instrucción_3 2\n",
    "    ...\n",
    "    instrucción_3 n_3\n",
    "...\n",
    "else \n",
    "    instrucción_m 1\n",
    "    instrucción_m 2\n",
    "    \n",
    "    instrucción_m n_m\n",
    "```\n"
   ]
  },
  {
   "cell_type": "markdown",
   "id": "725e2193-b75c-45d7-873c-d8b3661c4252",
   "metadata": {},
   "source": [
    "Contamos con más opciones:\n",
    "\n",
    "<div style=\"width: 100%;\"><div style=\"position: relative; padding-bottom: 50.00%; padding-top: 0; height: 0;\"><iframe frameborder=\"0\" width=\"1000\" height=\"500\" style=\"position: absolute; top: 0; left: 0; width: 100%; height: 100%;\" src=\"https://view.genial.ly/61948e24726a1e0dcf416eaa\" type=\"text/html\" allowscriptaccess=\"always\" allowfullscreen=\"true\" scrolling=\"yes\" allownetworking=\"all\"></iframe> </div> </div>"
   ]
  },
  {
   "cell_type": "code",
   "execution_count": 10,
   "id": "273aa826-bc61-4ed2-9c9b-19fdaa70d0d1",
   "metadata": {},
   "outputs": [
    {
     "name": "stdout",
     "output_type": "stream",
     "text": [
      "El número es cero\n"
     ]
    }
   ],
   "source": [
    "k=0\n",
    "if k>0:\n",
    "    print('El número es positivo')\n",
    "elif k<0:\n",
    "    print('El número es negativo')\n",
    "else:\n",
    "    print('El número es cero')"
   ]
  },
  {
   "cell_type": "markdown",
   "id": "1146e7de-e5cf-4bdf-b9c1-20316c49bf46",
   "metadata": {},
   "source": [
    "Ahora modificaremos ligeramente el código anterior para verificar la ley de tricotomía entre un par de números reales:"
   ]
  },
  {
   "cell_type": "code",
   "execution_count": 11,
   "id": "aab6953c-dfc7-4917-9181-32cff1d870a7",
   "metadata": {},
   "outputs": [
    {
     "name": "stdout",
     "output_type": "stream",
     "text": [
      "3 es mayor que -4\n"
     ]
    }
   ],
   "source": [
    "a=3\n",
    "b=-4\n",
    "if a>b:\n",
    "    print('{mayor} es mayor que {menor}'.format(mayor=a,menor=b))\n",
    "elif a<b:\n",
    "    print('{mayor} es mayor que {menor}'.format(mayor=b,menor=a))\n",
    "else:\n",
    "    print('Los números son iguales')"
   ]
  },
  {
   "cell_type": "markdown",
   "id": "59abf373-dc31-4a75-b8ef-21291b1e4aae",
   "metadata": {},
   "source": [
    "**Nota:**\n",
    "    \n",
    "Podemos anidar múltiples `elif`, dependiendo de la cantidad de condiciones que necesitemos imponer."
   ]
  },
  {
   "cell_type": "markdown",
   "id": "d5f31b69-48f3-44c9-be4f-e77aa916f0d9",
   "metadata": {
    "tags": []
   },
   "source": [
    "## Sintáxis de una línea\n",
    "\n",
    "En ocasiones, escribir tantas líneas de código resulta abrumador, y hay algunas sentencias simples que para un estilo de escritura de programación (que tiene que ver más con el desarrollador) podrían ser exagerdas definidas como bloques con una indentación adecuada, \n",
    "\n",
    "Afortunadamente Python admite que nosotros pongamos condicionales en una línea, escribimos lo siguiente:\n",
    "\n",
    "\n",
    "```Python\n",
    "if (condición): instrucción_1; instrucción_2; ...;instrucción_n\n",
    "\n",
    "```"
   ]
  },
  {
   "cell_type": "code",
   "execution_count": 2,
   "id": "edb59360-4169-4521-b465-26a05dceb2b4",
   "metadata": {},
   "outputs": [
    {
     "name": "stdout",
     "output_type": "stream",
     "text": [
      "20 es menor que 100\n",
      "Esta es una sentencia condicional de una línea\n"
     ]
    }
   ],
   "source": [
    "if 20<100: print('20 es menor que 100'); print('Esta es una sentencia condicional de una línea')"
   ]
  },
  {
   "cell_type": "markdown",
   "id": "42fc4115-e939-4959-97b3-d78efef08285",
   "metadata": {},
   "source": [
    "El punto y coma que separa las instrucciones, si la condición no se satisface todo lo que esta al frente de los dos puntos no se ejecuta."
   ]
  },
  {
   "cell_type": "code",
   "execution_count": 3,
   "id": "15848ba2-3b00-4cd7-9a5d-e5a13a26bfb6",
   "metadata": {},
   "outputs": [],
   "source": [
    "if 20>100: print('20 es mayor que 100'); print('Esta es una sentencia condicional de una línea')"
   ]
  },
  {
   "cell_type": "markdown",
   "id": "e75510a0-c485-4371-b305-37c9615e8b6d",
   "metadata": {},
   "source": [
    "Los bloques que dependen de `else`, y `elif` se dejan en líneas aparte:\n",
    "```Python\n",
    "if (condición_1): instrucción_1_1; instrucción_1_2; ...;instrucción_1__n;\n",
    "elif (condición_2): instrucción_2_1; instrucción_2_2; ...;instrucción_2_m;\n",
    "else (condición_3): instrucción_3_1; instrucción_3_2; ...;instrucción_3_k;\n",
    "```"
   ]
  },
  {
   "cell_type": "code",
   "execution_count": 5,
   "id": "71bca53a-013b-4e2a-910b-a00eac5e18b1",
   "metadata": {},
   "outputs": [
    {
     "name": "stdout",
     "output_type": "stream",
     "text": [
      "20 es menor que 100\n",
      "Esta es una sentencia condicional de la línea elif\n"
     ]
    }
   ],
   "source": [
    "if 20>100: print('20 es mayor que 100'); print('Esta es una sentencia condicional de la línea if')\n",
    "elif 20<100: print('20 es menor que 100'); print('Esta es una sentencia condicional de la línea elif')\n",
    "else: print('20 es igual que 100'); print('Esta es una sentencia condicional de la línea else')"
   ]
  },
  {
   "cell_type": "code",
   "execution_count": 6,
   "id": "914220f4-75ca-4f39-b95f-2e8e0e32ce34",
   "metadata": {},
   "outputs": [
    {
     "name": "stdout",
     "output_type": "stream",
     "text": [
      "20 es menor que 100\n",
      "Esta es una sentencia condicional de la línea if\n"
     ]
    }
   ],
   "source": [
    "if 20<100: print('20 es menor que 100'); print('Esta es una sentencia condicional de la línea if')\n",
    "elif 20==100: print('20 es igual que 100'); print('Esta es una sentencia condicional de la línea elif')\n",
    "else: print('20 es mayor que 100'); print('Esta es una sentencia condicional de la línea else')"
   ]
  },
  {
   "cell_type": "code",
   "execution_count": 7,
   "id": "e0afaeab-f51a-4d13-bca1-1dbfaa8e2d82",
   "metadata": {},
   "outputs": [
    {
     "name": "stdout",
     "output_type": "stream",
     "text": [
      "20 es menor que 100\n",
      "Esta es una sentencia condicional de la línea else\n"
     ]
    }
   ],
   "source": [
    "if 20>100: print('20 es mayor que 100'); print('Esta es una sentencia condicional de la línea if')\n",
    "elif 20==100: print('20 es igual que 100'); print('Esta es una sentencia condicional de la línea elif')\n",
    "else: print('20 es menor que 100'); print('Esta es una sentencia condicional de la línea else')"
   ]
  },
  {
   "cell_type": "markdown",
   "id": "13940b9c-43b7-4332-9794-4b1d111177ad",
   "metadata": {},
   "source": [
    "Usar esta sintáxis no es tan agradable a la vista como la clásica, pero podría ser funcional para condicionales simples."
   ]
  },
  {
   "cell_type": "markdown",
   "id": "62440efa-2022-4b3a-b99f-e20ab36482b1",
   "metadata": {},
   "source": [
    "## Operador ternario\n",
    "\n",
    "Uno de los elementos interesantes de Python es que permite sugerencias de los usuarios para mejorar su sintáxis en pro de tener una mejora del lenguaje. La documentación de estas mejoras se puede encontrar en los [índices PEP](https://www.python.org/dev/peps/) de la página oficial. Entre ellos hay una que se hizo a los condicionales con el fin de introducir el [operador ternario](https://es.wikipedia.org/wiki/Operador_ternario) de otros lenguajes como C, Java o Perl.\n",
    "\n",
    "En este operador la idea es tomar tres argumentos: (condicion; valor si la condicion es cierta; valor si la condición es falsa) y dar un resultado acorde a la validación. En los lenguajes clásicos esta se expresaba así:\n",
    "\n",
    "```\n",
    "expresión boleana ? valor si cierto : valor si falso\n",
    "\n",
    "```\n",
    "\n",
    "En Python, la sintaxis es:\n",
    "\n",
    "```Python\n",
    "valor_si_cierto if condición else valor_si_falso\n",
    "```"
   ]
  },
  {
   "cell_type": "markdown",
   "id": "81f35748-eaca-4d7c-a42a-f80847e4debd",
   "metadata": {},
   "source": [
    "Veamos un ejemplo en el cual asignaremos `Pasó` si la nota es mayor o igual que 3 y `Perdió` si la nota es menor que 3:"
   ]
  },
  {
   "cell_type": "code",
   "execution_count": 3,
   "id": "a2604a42-c6e1-44a0-b9a7-e0c837f08da9",
   "metadata": {},
   "outputs": [
    {
     "data": {
      "text/plain": [
       "'Perdió'"
      ]
     },
     "execution_count": 3,
     "metadata": {},
     "output_type": "execute_result"
    }
   ],
   "source": [
    "nota=2.5\n",
    "'Pasó' if nota>3 else 'Perdió'"
   ]
  },
  {
   "cell_type": "code",
   "execution_count": 4,
   "id": "e4db8b5a-580f-4fc6-8b83-5d849d6ab746",
   "metadata": {},
   "outputs": [
    {
     "data": {
      "text/plain": [
       "'Paso'"
      ]
     },
     "execution_count": 4,
     "metadata": {},
     "output_type": "execute_result"
    }
   ],
   "source": [
    "nota=4.5\n",
    "'Pasó' if nota>3 else 'Perdió'"
   ]
  },
  {
   "cell_type": "markdown",
   "id": "13daa648-129a-401e-a20c-7e0b66c50044",
   "metadata": {},
   "source": [
    "Ese resultado lo podemos asignar a una variable:"
   ]
  },
  {
   "cell_type": "code",
   "execution_count": 7,
   "id": "3f6cfb5d-3881-4968-aedb-471ba1d0d702",
   "metadata": {},
   "outputs": [
    {
     "name": "stdout",
     "output_type": "stream",
     "text": [
      "En esta nota usted: Pasó\n"
     ]
    }
   ],
   "source": [
    "nota=4.5\n",
    "res='Pasó' if nota>3 else 'Perdió'\n",
    "\n",
    "print('En esta nota usted: '+res)"
   ]
  },
  {
   "cell_type": "markdown",
   "id": "bb3a6fa0-e3b2-4703-b779-8e26ef70cc8b",
   "metadata": {},
   "source": [
    "## Dejemoslo pasar con `Pass`\n",
    "\n",
    "Hay veces en que usamos un condicional pero no tenemos que hacer nada, por ejemplo:\n"
   ]
  },
  {
   "cell_type": "code",
   "execution_count": 8,
   "id": "cabdd568-be79-463f-a331-8e5c23c14903",
   "metadata": {},
   "outputs": [
    {
     "name": "stdout",
     "output_type": "stream",
     "text": [
      "No hago nada\n"
     ]
    }
   ],
   "source": [
    "if 5>1:\n",
    "    print('No hago nada')\n",
    "else:\n",
    "    print('5 es mayor que 1')"
   ]
  },
  {
   "cell_type": "markdown",
   "id": "85f1f2b4-fe4b-475a-8380-74e5fb50b58d",
   "metadata": {},
   "source": [
    "Aunque imprimi `NO hago nada`sí estoy haciendo algo **imprimir `No hago nada`** para resolver este lío podríamos no escribir nada, así:"
   ]
  },
  {
   "cell_type": "code",
   "execution_count": 9,
   "id": "c01389bd-f16a-46f2-9209-3bc804e6e27b",
   "metadata": {},
   "outputs": [
    {
     "ename": "IndentationError",
     "evalue": "expected an indented block (2099162262.py, line 2)",
     "output_type": "error",
     "traceback": [
      "\u001b[0;36m  File \u001b[0;32m\"/tmp/ipykernel_5348/2099162262.py\"\u001b[0;36m, line \u001b[0;32m2\u001b[0m\n\u001b[0;31m    else:\u001b[0m\n\u001b[0m    ^\u001b[0m\n\u001b[0;31mIndentationError\u001b[0m\u001b[0;31m:\u001b[0m expected an indented block\n"
     ]
    }
   ],
   "source": [
    "if 5>1:\n",
    "else:\n",
    "    print('5 es mayor que 1')"
   ]
  },
  {
   "cell_type": "markdown",
   "id": "1df403d4-f772-4437-848e-e6c075acf502",
   "metadata": {},
   "source": [
    "Pero la indentación me lo cobra caro.  Este problema lo arreglamos con `pass`:"
   ]
  },
  {
   "cell_type": "code",
   "execution_count": 10,
   "id": "8f6d58d0-534e-41d0-a09e-bdfca7af732e",
   "metadata": {},
   "outputs": [],
   "source": [
    "if 5>1:\n",
    "    pass\n",
    "else:\n",
    "    print('5 es mayor que 1')"
   ]
  },
  {
   "cell_type": "markdown",
   "id": "41585568-39ab-4027-baf8-ab8452c0dc74",
   "metadata": {},
   "source": [
    "Y aquí de verdad que no hicimos nada."
   ]
  },
  {
   "cell_type": "markdown",
   "id": "0e48d8b0-fad6-4ef8-83c0-74238adeb7eb",
   "metadata": {},
   "source": [
    "## Cierre\n",
    "\n",
    "Esta es nuestra primera experiencia con una estructura de control, aquí podemos seleccionar bloques de código e incluso aplicar esa idea en la definición de variables. en lo que sigue trabajaremos con las iteraciones, una estructura que permite repetir varias veces una secuencia de instrucciones. "
   ]
  },
  {
   "cell_type": "markdown",
   "id": "2fc784d4-5905-431e-99cb-02bc0355b934",
   "metadata": {},
   "source": [
    "## Ejercicios\n",
    "\n",
    "Una materia se evaluó con 5 notas con los siguientes porcentajes: *Nota 1:* $10%$, *Nota 2:* $15%$, *Nota 3:* $20%$, *Nota 4:* $25%$ y *Nota 5:* $30%$.\n",
    "\n",
    "1. Escriba un bloque de código que le permita al usuario introducir sus 5 notas y que calcule su definitiva.\n",
    "2. Si se desea dejar un comentario en el sistema, dependiendo de la nota obtenida, haga un bloque de código de tal forma que clasifique a los estudiantes según su definitiva, como sigue: \n",
    "* Rendimiento deficiente $0\\leq definitiva \\leq 1.5$.\n",
    "* Rendimiento insuficiente $1.5< definitiva < 3$.\n",
    "* Rendimiento aceptable $3\\leq definitiva \\leq 3.8$.\n",
    "* Rendimiento sobresaliente $3.8< definitiva \\leq 4.5$.\n",
    "* Rendimiento sobresaliente $4.5< definitiva \\leq 5$.\n"
   ]
  },
  {
   "cell_type": "markdown",
   "id": "05f44a89-66a4-4b3c-9e8f-0163b6bc6d84",
   "metadata": {},
   "source": [
    "En las condiciones también podemos tener operadores lógicos, como podremos ver en las siguientes líneas:"
   ]
  },
  {
   "cell_type": "code",
   "execution_count": 12,
   "id": "01dd80be-5871-422b-8bb6-c2e2b4249899",
   "metadata": {},
   "outputs": [],
   "source": [
    "x=2\n",
    "if (x%2==0 and x%3==0):\n",
    "    print(x,'es divisible por 2 y 3')"
   ]
  },
  {
   "cell_type": "code",
   "execution_count": 13,
   "id": "549f4f0f-d60a-46d6-b304-676545e28c6c",
   "metadata": {},
   "outputs": [
    {
     "name": "stdout",
     "output_type": "stream",
     "text": [
      "5 no se puede dividir ni por 2 ni por 3\n"
     ]
    }
   ],
   "source": [
    "x=5\n",
    "if (x%2==0 and not x%3==0):\n",
    "    print(x,'es divisible por 2 y no por 3')\n",
    "elif (not x%2==0 and x%3==0):\n",
    "    print(x,'es divisible por 3 y no por 2')\n",
    "elif (x%2==0 and x%3==0):\n",
    "    print(x,'es divisible por 2 y 3')\n",
    "else:\n",
    "    print(x,'no se puede dividir ni por 2 ni por 3')"
   ]
  }
 ],
 "metadata": {
  "kernelspec": {
   "display_name": "Python 3 (ipykernel)",
   "language": "python",
   "name": "python3"
  },
  "language_info": {
   "codemirror_mode": {
    "name": "ipython",
    "version": 3
   },
   "file_extension": ".py",
   "mimetype": "text/x-python",
   "name": "python",
   "nbconvert_exporter": "python",
   "pygments_lexer": "ipython3",
   "version": "3.9.5"
  }
 },
 "nbformat": 4,
 "nbformat_minor": 5
}
