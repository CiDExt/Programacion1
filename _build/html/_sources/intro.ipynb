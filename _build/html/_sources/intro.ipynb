{
 "cells": [
  {
   "cell_type": "markdown",
   "id": "66326098-7044-4f87-9110-623d189cf4f8",
   "metadata": {},
   "source": [
    "# Introducción a la programación\n",
    "**Pregrado - Ciencia de Datos**\n",
    "***Universidad Externado de Colombia***\n",
    "\n",
    "*Miguel Angel Rippe Espinoza* \n",
    "[miguel.rippe@uexternado.edu.co](mailto:miguel.rippe@uexternado.edu.co)\n",
    "\n",
    "*Carlos Isaac Zainea Maya* \n",
    "[carlos.zainea@uexternado.edu.co](mailto:carlos.zainea@uexternado.edu.co)\n",
    "\n",
    "Quizás los grandes avances que ha tenido la ciencia hasta estos días no se hubieran alcanzado sin las computadoras, una idea que empezó a tener forma a eso de 1936 cuando Alan Turing en su mente formalizaba la idea de algoritmo y creaba una máquina hipotética que representaba la posibilidad del cálculo mecánico, posteriormente en EE.UU., Alemania e Inglaterra se crearon dichas máquinas de computo  inspirados en esta idea (los primeros computadores). \n"
   ]
  },
  {
   "cell_type": "markdown",
   "id": "36e4f1db-232a-4f1d-9101-15cc5c002a39",
   "metadata": {},
   "source": [
    "|**Primera computadora creada por IBM 1944**|\n",
    "|:--|\n",
    "|[![Harvard Mark I Computer - Right Segment.JPG](https://upload.wikimedia.org/wikipedia/commons/thumb/3/35/Harvard_Mark_I_Computer_-_Right_Segment.JPG/1200px-Harvard_Mark_I_Computer_-_Right_Segment.JPG)](https://commons.wikimedia.org/wiki/File:Harvard_Mark_I_Computer_-_Right_Segment.JPG#/media/Archivo:Harvard_Mark_I_Computer_-_Right_Segment.JPG)|\n",
    "|[Creative Commons Attribution-Share Alike 3.0](http://creativecommons.org/licenses/by-sa/3.0/)|\n",
    "|[Enlace Wikipedia](https://commons.wikimedia.org/w/index.php?curid=601387)|\n"
   ]
  },
  {
   "cell_type": "markdown",
   "id": "704965f6-1f3f-4365-91d0-a5c0e38dd846",
   "metadata": {},
   "source": [
    "Sin embargo, el acceso a esas máquinas requerían un lenguaje muy diferente al que estamos acostumbrados, era necesario un alto grado de formalidad y crear instrucciones capaces de reconocer, sin ambigüedades, las ordenes que le proponemos a la máquina, en ese sentido, la comunicación con la dicha máquina de computo se convirtió en el problema de los programadores y hasta hoy se constituye como el reto de hacer que las máquinas hagan los trabajos por nosotros. El día de hoy iniciaremos ese camino para enseñarle al computador, aprenderemos ese lenguaje libre de ambigüedades y nos especializaremos en la creación de algoritmos, uno de los eslabones entre el hombre y la máquina.\n",
    "\n",
    "**¡Bienvenidos a su curso de programación!**"
   ]
  },
  {
   "cell_type": "markdown",
   "id": "926961f8-317c-4f87-9f4e-d5a2dd18d9ec",
   "metadata": {},
   "source": [
    "## ¿Qué hace un programador?\n",
    "\n",
    "La tarea se puede describir fácilmente:\n",
    "\n",
    "***\n",
    "*Convertir **soluciones** en instrucciones que pueda seguir un computador*\n",
    "***\n",
    "\n",
    "Dejamos la palabra soluciones resaltada porque hay una gran cantidad de tareas que se pueden enmarcar como una solución y debemos ser cuidadosos porque las soluciones aquí planteadas deben llevarse a cabo por computadores. Por ejemplo, si la solución es buscar la paz mundial seguramente no habrá una máquina que pueda llevarla a cabo y un programador que sea capaz de desarrollar una solución a esa tarea...¿o no?"
   ]
  },
  {
   "cell_type": "markdown",
   "id": "e9ddab1c-4ef7-437e-8ed4-75a0b4f1031a",
   "metadata": {},
   "source": [
    "|  |\n",
    "|:--|\n",
    "|[![Ultron2013.jpg](https://upload.wikimedia.org/wikipedia/en/4/4f/Ultron2013.jpg)](https://en.wikipedia.org/wiki/File:Ultron2013.jpg#/media/File:Ultron2013.jpg)|\n",
    "|*Ultron*|\n",
    "|[Fair use of copyrighted material in the context of Ultron](https:///en.wikipedia.org/wiki/File:Ultron2013.jpg)|\n",
    "|[Enlace Wikipedia](https://en.wikipedia.org/w/index.php?curid=40339454)|\n",
    "\n"
   ]
  },
  {
   "cell_type": "markdown",
   "id": "88efb571-f9a8-4586-bee5-b396fc9faf6b",
   "metadata": {},
   "source": [
    "Volviendo al tema, esas soluciones son planteadas como una sucesión de reglas bien escritas y sin ningún tipo de ambigüedades. Las conocemos como algoritmos (que de aquí en adelante serán nuestro principal objeto de estudio) y los describiremos, principalmente, en el lenguaje de programación Python, sin embargo iniciaremos con ejemplos de la vida diaria, porque esos algoritmos son más empleados de lo que ustedes creen."
   ]
  },
  {
   "cell_type": "markdown",
   "id": "69e50511-f709-455e-9c9a-112d5d375671",
   "metadata": {},
   "source": [
    "## Algoritmos entre nosotros\n",
    "\n",
    "Casi todas las actividades que realizamos, las reglas que seguimos o los hábitos que tenemos son tareas que hacen parte de un algoritmo. Una definición formal de algoritmo puede llevarnos mucho tiempo y quizás debemos entender un poco más de matemáticas para comprenderla. No obstante, una definición intuitiva que podría ser de gran utilidad es la siguiente:\n",
    "\n",
    "***\n",
    "Un algoritmo es una sucesión de tareas (procedimiento) bien definido que permite resolver un problema.  \n",
    "***\n",
    "\n",
    "Así:\n",
    "\n",
    "* Identificar la ropa sucia de mi cuarto es un proceso algorítmico, que si bien puede llevarse a cabo de diferentes maneras, una de ellas podría ser la siguiente:\n",
    "\n",
    "    1. Dejar toda la ropa a inspeccionar en un solo lugar.\n",
    "    2. Decidir según su olor, color y textura si está sucia o no.\n",
    "    3. Empaquetar la ropa sucia en un contenedor adecuado y hacer un proceso similar con la ropa limpia, es claro que los contenedores deben ser diferentes.\n",
    "    4. Entregar la ropa sucia a las personas que lo han requerido.\n",
    "    \n",
    "    \n",
    "* Una **receta de cocina** podría ser una forma de registrar un proceso algorítmico, tenga cuidado con las ambigüedades, porque esas frases como: *sal al gusto*, *una taza de harina (sin especificar una referencia en capacidad adecuada)*, son las que dañan las preparaciones. \n",
    "* Los **métodos de factorización** esos procesos lindísimos del álgebra elemental para poder expresar un tipo de polinomios en la multiplicación de polinomios de menor grado son algoritmos completos y coherentes sin ambigüedades y fáciles de ejecutar.\n",
    "\n",
    "* Entre muchos otros ejemplos ¿Identificas algoritmos en tu rutina?"
   ]
  },
  {
   "cell_type": "markdown",
   "id": "c265b7c4-ce61-485e-93ed-8266ed356945",
   "metadata": {},
   "source": [
    "## Cierre\n",
    "\n",
    "En esencia estudiaremos en este curso tres aspectos fundamentales:\n",
    "\n",
    "- Los *algoritmos*, algunas consideraciones y herramientas que deben considerarse para diseñar una solución adecuada.\n",
    "- La *codificación*, particularmente usamos el lenguaje de programación Python para expresar los algoritmos que pueden solucionarse en los computadores.\n",
    "- Las *buenas prácticas*: una serie de recomendaciones y reglas que deben seguirse para crear buenas piezas de código, bien documentadas y con sus muestras de eficiencia y eficacia en su ejecución."
   ]
  }
 ],
 "metadata": {
  "kernelspec": {
   "display_name": "Python 3 (ipykernel)",
   "language": "python",
   "name": "python3"
  },
  "language_info": {
   "codemirror_mode": {
    "name": "ipython",
    "version": 3
   },
   "file_extension": ".py",
   "mimetype": "text/x-python",
   "name": "python",
   "nbconvert_exporter": "python",
   "pygments_lexer": "ipython3",
   "version": "3.9.5"
  }
 },
 "nbformat": 4,
 "nbformat_minor": 5
}
