{
 "cells": [
  {
   "cell_type": "markdown",
   "id": "4dd434e7",
   "metadata": {},
   "source": [
    "# Variables y funciones básicas"
   ]
  },
  {
   "cell_type": "markdown",
   "id": "f1aced8f",
   "metadata": {},
   "source": [
    "Los objetos son los elementos principales que manipulan los programas de Python. Cada objeto tiene definido su tipo y esto permite saber las cosas que los programas pueden hacer con dicho objeto.\n",
    "\n",
    "Los tipos son escalares o no escalares. Los objetos escalares son los elementos indivisibles, mientras que, los objetos no escalares, son aquellos con estructura interna.\n",
    "\n",
    "Los objetos escalares en Python son los siguientes:\n",
    "* **int:** Son los objetos empleados para representar números enteros, por ejemplo, $-30, 0, 1500$.\n",
    "* **float:** Objetos que representan números reales. Este tipo de número siempre presenta el punto decimal (así sean números enteros, al $3$ lo representa como $3.0$). También permite emplear la notación científica.\n",
    "* **bool:** Se usan para representar los valores de verdad Booleanos, verdadero (`True`) y falso (`False`).\n",
    "* **None:** Es un tipo empleado para algunos elementos vacíós, como el retorno de una función.\n",
    "\n",
    "**Operador de asignación:** Para asignar un determinado valor a una variable, emplearemos el operador `=`, así:"
   ]
  },
  {
   "cell_type": "code",
   "execution_count": 1,
   "id": "e9f082ea",
   "metadata": {},
   "outputs": [],
   "source": [
    "x = 1"
   ]
  },
  {
   "cell_type": "markdown",
   "id": "33034b69",
   "metadata": {},
   "source": [
    "En la celda anterior, hemos asignado el valor $1$ a la variable $x$, así que cuando llamemos a tal variable en el futuro, ésta representará el valor indicado. Si deseamos ver el tipo de objeto que hemos almacenado, empleamos la función `type`, así:"
   ]
  },
  {
   "cell_type": "code",
   "execution_count": 2,
   "id": "b39c3f24",
   "metadata": {},
   "outputs": [
    {
     "data": {
      "text/plain": [
       "int"
      ]
     },
     "execution_count": 2,
     "metadata": {},
     "output_type": "execute_result"
    }
   ],
   "source": [
    "type(x)"
   ]
  },
  {
   "cell_type": "markdown",
   "id": "b1b4c421",
   "metadata": {},
   "source": [
    "Como vemos, dicha variable es del tipo `int`. Si a $x$ le sumamos `1.6E3`, lo que equivale a $1.6\\times10^3$ (y es tipo `float`), obtenemos un elemento `float`"
   ]
  },
  {
   "cell_type": "code",
   "execution_count": 3,
   "id": "71834720",
   "metadata": {},
   "outputs": [
    {
     "data": {
      "text/plain": [
       "float"
      ]
     },
     "execution_count": 3,
     "metadata": {},
     "output_type": "execute_result"
    }
   ],
   "source": [
    "type(x+1.6E3)"
   ]
  },
  {
   "cell_type": "markdown",
   "id": "307d1082",
   "metadata": {},
   "source": [
    "**Operadores:**\n",
    "\n",
    "$x+y$ es la suma de $x$ y $y$. Si ambos números son tipo `int`, el resultado es `int`. Si alguno de los números es tipo `float`, el resultado es tipo `float`.\n",
    "\n",
    "$x-y$ es la resta de $x$ y $y$, y los tipos de resultados son iguales a los de la suma.\n",
    "\n",
    "$x*y$ es el producto de $x$ y $y$, y los tipos de resultados son iguales a los de la suma.\n",
    "\n",
    "$x//y$ regresa la parte entera de la división entre $x$ y $y$, el tipo es `int`.\n",
    "\n",
    "$x\\%y$ regresa el residuo de dividir $x$ entre $y$, y el tipo es `int`.\n",
    "\n",
    "$x**y$ obtenemos el resultado de $x$ elevado a la $y$, el tipo de resultado es igual al de la suma.\n",
    "\n",
    "Las operaciones en Python respetan la jerarquía conocida en matemáticas.  \n",
    "\n",
    "**Operadores de comparación:**\n",
    "\n",
    "En Python tenemos diferentes operadores para comparar elementos, por ejemplo, el de igualdad es:  `==`. El de \"no igualdad\" es `!=`, mientras que, las desigualdades las notamos con: `>` (mayor que), `<` (menor que), `>=` (mayor o igual), `>=` (menor o igual).\n",
    "\n",
    "**Operadores lógicos:**\n",
    "\n",
    "$x\\ and\\ y$ es `True` si tanto $x$ como $y$ son `True`.\n",
    "\n",
    "$x\\ or\\ y$ es `True` si al menos una variable es `True`.\n",
    "\n",
    "$not\\ x$ cambia el valor de verdad de la variabe."
   ]
  },
  {
   "cell_type": "code",
   "execution_count": 4,
   "id": "67336f06",
   "metadata": {},
   "outputs": [
    {
     "data": {
      "text/plain": [
       "1"
      ]
     },
     "execution_count": 4,
     "metadata": {},
     "output_type": "execute_result"
    }
   ],
   "source": [
    "5//3"
   ]
  },
  {
   "cell_type": "code",
   "execution_count": 5,
   "id": "76d5372c",
   "metadata": {},
   "outputs": [
    {
     "data": {
      "text/plain": [
       "2"
      ]
     },
     "execution_count": 5,
     "metadata": {},
     "output_type": "execute_result"
    }
   ],
   "source": [
    "5%3"
   ]
  },
  {
   "cell_type": "code",
   "execution_count": 6,
   "id": "87dbe3ed",
   "metadata": {},
   "outputs": [
    {
     "data": {
      "text/plain": [
       "125"
      ]
     },
     "execution_count": 6,
     "metadata": {},
     "output_type": "execute_result"
    }
   ],
   "source": [
    "5**3"
   ]
  },
  {
   "cell_type": "code",
   "execution_count": 7,
   "id": "d573693c",
   "metadata": {},
   "outputs": [
    {
     "data": {
      "text/plain": [
       "False"
      ]
     },
     "execution_count": 7,
     "metadata": {},
     "output_type": "execute_result"
    }
   ],
   "source": [
    "5==3"
   ]
  },
  {
   "cell_type": "code",
   "execution_count": 8,
   "id": "0fa011c8",
   "metadata": {},
   "outputs": [
    {
     "data": {
      "text/plain": [
       "True"
      ]
     },
     "execution_count": 8,
     "metadata": {},
     "output_type": "execute_result"
    }
   ],
   "source": [
    "5!=3"
   ]
  },
  {
   "cell_type": "code",
   "execution_count": 9,
   "id": "6f22889c",
   "metadata": {},
   "outputs": [
    {
     "data": {
      "text/plain": [
       "True"
      ]
     },
     "execution_count": 9,
     "metadata": {},
     "output_type": "execute_result"
    }
   ],
   "source": [
    "5>3"
   ]
  },
  {
   "cell_type": "code",
   "execution_count": 10,
   "id": "e6344729",
   "metadata": {},
   "outputs": [
    {
     "data": {
      "text/plain": [
       "False"
      ]
     },
     "execution_count": 10,
     "metadata": {},
     "output_type": "execute_result"
    }
   ],
   "source": [
    "5<3"
   ]
  },
  {
   "cell_type": "code",
   "execution_count": 11,
   "id": "9b9bea7c",
   "metadata": {},
   "outputs": [
    {
     "data": {
      "text/plain": [
       "False"
      ]
     },
     "execution_count": 11,
     "metadata": {},
     "output_type": "execute_result"
    }
   ],
   "source": [
    "5!=3 and 5<3"
   ]
  },
  {
   "cell_type": "code",
   "execution_count": 12,
   "id": "26d11422",
   "metadata": {},
   "outputs": [
    {
     "data": {
      "text/plain": [
       "True"
      ]
     },
     "execution_count": 12,
     "metadata": {},
     "output_type": "execute_result"
    }
   ],
   "source": [
    "5!=3 or 5<3"
   ]
  },
  {
   "cell_type": "code",
   "execution_count": 13,
   "id": "099afebc",
   "metadata": {},
   "outputs": [
    {
     "data": {
      "text/plain": [
       "True"
      ]
     },
     "execution_count": 13,
     "metadata": {},
     "output_type": "execute_result"
    }
   ],
   "source": [
    "not 5<3"
   ]
  },
  {
   "cell_type": "markdown",
   "id": "4a99bdac",
   "metadata": {},
   "source": [
    "**Variables:**\n",
    "\n",
    "Como vimos antes, en Python la asignación de valores a variables se hace con el operador `=`, a la variable de la izquierda le asignamos el valor de la derecha.\n",
    "\n",
    "Y en pro de hacer amena la lectura del código, es recomendable asignar nombres relacionados con el problema que se está programando, por ejemplo, para calcular el área de un triángulo:"
   ]
  },
  {
   "cell_type": "code",
   "execution_count": 14,
   "id": "fdaa13cc",
   "metadata": {},
   "outputs": [],
   "source": [
    "base = 1\n",
    "altura = 2\n",
    "area = base*altura"
   ]
  },
  {
   "cell_type": "code",
   "execution_count": 15,
   "id": "5918cafa",
   "metadata": {},
   "outputs": [],
   "source": [
    "a = 1\n",
    "b = 2\n",
    "c = a*b"
   ]
  },
  {
   "cell_type": "markdown",
   "id": "9d0bb180",
   "metadata": {},
   "source": [
    "Los dos códigos anteriores para Python son iguales, pero para el lector es más fácil identificar el error en el primero que en el segundo, por ello, es mejor utilizar el primer código que el segundo.\n",
    "\n",
    "Las variables no pueden tener algunos nombres, que son palabras reservadas por Python, estas palabras son:\n",
    "*and, as, assert, break, class, continue, def, del, elif, else, except,\n",
    "False, finally, for, from, global, if, import, in, is, lambda, nonlocal, None, not, or,\n",
    "pass, raise, return, True, try, while, with* y *yield*.\n",
    "\n",
    "Pero si deseamos hacer mucho más fácil la lectura del código, podemos agregar comentarios, los cuales van antecedidos de `#`, es decir, "
   ]
  },
  {
   "cell_type": "code",
   "execution_count": 16,
   "id": "61a15177",
   "metadata": {},
   "outputs": [],
   "source": [
    "base = 1 #Base del triángulo\n",
    "altura = 2 #Altura del triángulo\n",
    "area = base*altura/2 #Cálculo del área de un triángulo"
   ]
  },
  {
   "cell_type": "markdown",
   "id": "730c2622",
   "metadata": {},
   "source": [
    "Si deseamos definir múltiples variables, aprovechamos las ventajas de Python para este hecho, por ejemplo:"
   ]
  },
  {
   "cell_type": "code",
   "execution_count": 17,
   "id": "897b6530",
   "metadata": {},
   "outputs": [],
   "source": [
    "base, altura= 1,2 #Base y altura del triángulo\n",
    "area = base*altura/2 #Cálculo del área de un triángulo"
   ]
  },
  {
   "cell_type": "markdown",
   "id": "32bf6495",
   "metadata": {},
   "source": [
    "Otras condiciones que deben cumplir los nombres de las variables:\n",
    "* El nombre de una variable debe comenzar con una letra ó con _ .\n",
    "* El nombre de una variable no puede comenzar con un número.\n",
    "* El nombre de una variable sólo puede contener carácteres alfa-numéricos.\n",
    "* El nombre de una variable tiene sensibilidad a mayúsculas y minúsculas (x es diferente de X).\n",
    "\n",
    "**Variables tipo string:**\n",
    "\n",
    "Otro tipo de variables muy utilizadas son las que contienen texto en ellas, como por ejemplo:"
   ]
  },
  {
   "cell_type": "code",
   "execution_count": 18,
   "id": "4d6815e1",
   "metadata": {},
   "outputs": [],
   "source": [
    "z = \"Hola mundo\" #El texto también puede ir entre comillas sencillas, así: z = 'Hola mundo'"
   ]
  },
  {
   "cell_type": "markdown",
   "id": "4b1d0ebe",
   "metadata": {},
   "source": [
    "Para imprimir los valores de diferentes variables, utilizamos el comando `print`"
   ]
  },
  {
   "cell_type": "code",
   "execution_count": 19,
   "id": "fdd71007",
   "metadata": {},
   "outputs": [
    {
     "name": "stdout",
     "output_type": "stream",
     "text": [
      "Hola mundo\n"
     ]
    }
   ],
   "source": [
    "print(z)"
   ]
  },
  {
   "cell_type": "code",
   "execution_count": 20,
   "id": "79f1a080",
   "metadata": {},
   "outputs": [
    {
     "name": "stdout",
     "output_type": "stream",
     "text": [
      "1 Hola mundo\n"
     ]
    }
   ],
   "source": [
    "print(a,z)"
   ]
  },
  {
   "cell_type": "code",
   "execution_count": 21,
   "id": "b56c6e9d",
   "metadata": {},
   "outputs": [
    {
     "name": "stdout",
     "output_type": "stream",
     "text": [
      "1 Hola mundo 1.0\n"
     ]
    }
   ],
   "source": [
    "print(a,z,area)"
   ]
  },
  {
   "cell_type": "code",
   "execution_count": 22,
   "id": "f9214fe6",
   "metadata": {},
   "outputs": [
    {
     "name": "stdout",
     "output_type": "stream",
     "text": [
      "El valor de a es: 1\n"
     ]
    }
   ],
   "source": [
    "print('El valor de a es:',a) #Nota que la separación entre los elementos es un espacio"
   ]
  },
  {
   "cell_type": "code",
   "execution_count": 23,
   "id": "b9a5312d",
   "metadata": {},
   "outputs": [
    {
     "name": "stdout",
     "output_type": "stream",
     "text": [
      "1\n",
      "Hola mundo\n",
      "1.0\n"
     ]
    }
   ],
   "source": [
    "print(a,z,area,sep='\\n') #Con esta opción podemos nodificar la separación"
   ]
  },
  {
   "cell_type": "markdown",
   "id": "81690202",
   "metadata": {},
   "source": [
    "Sobre las variables tipo `str`, podemos aplicar la función `len` para medir la cantidad de caracteres que hay en la variable:"
   ]
  },
  {
   "cell_type": "code",
   "execution_count": 24,
   "id": "09acb1bb",
   "metadata": {},
   "outputs": [
    {
     "data": {
      "text/plain": [
       "10"
      ]
     },
     "execution_count": 24,
     "metadata": {},
     "output_type": "execute_result"
    }
   ],
   "source": [
    "len(z) #El espacio cuenta como un caracter"
   ]
  },
  {
   "cell_type": "code",
   "execution_count": 25,
   "id": "f98d7aa4",
   "metadata": {},
   "outputs": [],
   "source": [
    "w = 'hoy es un gran día'"
   ]
  },
  {
   "cell_type": "markdown",
   "id": "ddf6c499",
   "metadata": {},
   "source": [
    "Las variables tipo `str` se pueden operar:"
   ]
  },
  {
   "cell_type": "code",
   "execution_count": 26,
   "id": "6e3a79dd",
   "metadata": {},
   "outputs": [
    {
     "name": "stdout",
     "output_type": "stream",
     "text": [
      "Hola mundohoy es un gran día\n"
     ]
    }
   ],
   "source": [
    "print(z+w)"
   ]
  },
  {
   "cell_type": "code",
   "execution_count": 27,
   "id": "47c5e7f1",
   "metadata": {},
   "outputs": [
    {
     "name": "stdout",
     "output_type": "stream",
     "text": [
      "Hola mundo hoy es un gran día\n"
     ]
    }
   ],
   "source": [
    "print(z+' '+w)"
   ]
  },
  {
   "cell_type": "code",
   "execution_count": 28,
   "id": "8d06c173",
   "metadata": {},
   "outputs": [
    {
     "name": "stdout",
     "output_type": "stream",
     "text": [
      "Hola mundoHola mundoHola mundo\n"
     ]
    }
   ],
   "source": [
    "print(3*z)"
   ]
  },
  {
   "cell_type": "markdown",
   "id": "874fc404",
   "metadata": {},
   "source": [
    "Si deseamos escribir comillas en una variable tipo `str`, debemos definir la variable con comillas dobles y las comillas que deseamos deben ser sencillas, o viceversa. De manera más general, podemos definir la variable con comillas triples:"
   ]
  },
  {
   "cell_type": "code",
   "execution_count": 29,
   "id": "ddcb6773",
   "metadata": {},
   "outputs": [
    {
     "name": "stdout",
     "output_type": "stream",
     "text": [
      "Así ponemos comillas 'sencillas' Así ponemos comillas \"dobles\"  Y así 'podemos' usar cualquier tipo de \"comillas\"\n"
     ]
    }
   ],
   "source": [
    "z1 = \"Así ponemos comillas 'sencillas'\"\n",
    "z2 = 'Así ponemos comillas \"dobles\"'\n",
    "z3 = ''' Y así 'podemos' usar cualquier tipo de \"comillas\"'''\n",
    "print(z1,z2,z3)"
   ]
  },
  {
   "cell_type": "markdown",
   "id": "a1bb4701",
   "metadata": {},
   "source": [
    "Si tenemos una variable tipo `str` la cual queremos volver una variable de tipo numérico, en caso que su contenido lo permita, tenemos las siguientes funciones:"
   ]
  },
  {
   "cell_type": "code",
   "execution_count": 30,
   "id": "babf8854",
   "metadata": {},
   "outputs": [],
   "source": [
    "n = '2'"
   ]
  },
  {
   "cell_type": "code",
   "execution_count": 31,
   "id": "26ed99e1",
   "metadata": {},
   "outputs": [
    {
     "name": "stdout",
     "output_type": "stream",
     "text": [
      "El tipo de n es:\n",
      "<class 'str'>\n",
      "Si lo queremos volver entero:\n",
      "2\n",
      "<class 'int'>\n",
      "Si lo queremos volver float:\n",
      "2.0\n",
      "<class 'float'>\n"
     ]
    }
   ],
   "source": [
    "print('El tipo de n es:',type(n),\n",
    "      'Si lo queremos volver entero:',int(n),type(int(n)),\n",
    "      'Si lo queremos volver float:',float(n),type(float(n)),sep='\\n')\n",
    "#Nota que podemos separar las entradas de la función con un salto de línea, para hacer más fácil la lectura o para no perder valores de vista como pasa con este comentario"
   ]
  },
  {
   "cell_type": "markdown",
   "id": "10d6aeb5",
   "metadata": {},
   "source": [
    "**Entrada de texto a la máquina:**\n",
    "\n",
    "En muchas oportunidades es de gran utilidad establecer líneas de interacción entre el usuario y la máquina, de tal forma, que el usuario pueda ingresar información a medida que se ejecuta cierto código, para ello tenemos a nuestra disposición la función `input`"
   ]
  },
  {
   "cell_type": "code",
   "execution_count": 32,
   "id": "02ad69f2",
   "metadata": {},
   "outputs": [
    {
     "name": "stdout",
     "output_type": "stream",
     "text": [
      "texto que aparece, aclarando la entrada que se pretende modificar: 5132\n"
     ]
    },
    {
     "data": {
      "text/plain": [
       "'5132'"
      ]
     },
     "execution_count": 32,
     "metadata": {},
     "output_type": "execute_result"
    }
   ],
   "source": [
    "input('texto que aparece, aclarando la entrada que se pretende modificar: ')"
   ]
  },
  {
   "cell_type": "markdown",
   "id": "6a4b9616",
   "metadata": {},
   "source": [
    "Como podemos ver, el retorno de la función `input`, es una cadena de caracteres, por lo tanto, si deseamos transformar tales valores debemos utilizar las funciones que mencionamos anteriormente `int` y/o `float`."
   ]
  },
  {
   "cell_type": "code",
   "execution_count": 33,
   "id": "a4f218bb",
   "metadata": {},
   "outputs": [
    {
     "name": "stdout",
     "output_type": "stream",
     "text": [
      "Ingresa el valor del salario que te gustaría ganar cuando termines el pregrado (en pesos sin puntos ni comas): 7000000\n"
     ]
    }
   ],
   "source": [
    "salario = float(input(\n",
    "    'Ingresa el valor del salario que te gustaría ganar cuando termines el pregrado (en pesos sin puntos ni comas): '))"
   ]
  },
  {
   "cell_type": "markdown",
   "id": "3094e33f",
   "metadata": {},
   "source": [
    "Muchas veces, a la hora de mostrar los valores que hemos guardado, debemos darles formato, para ello podemos tener en cuenta las siguientes opciones de la función `print`:"
   ]
  },
  {
   "cell_type": "code",
   "execution_count": 34,
   "id": "9e0ee348",
   "metadata": {},
   "outputs": [
    {
     "name": "stdout",
     "output_type": "stream",
     "text": [
      "El salario al que aspiras es: 7000000.0\n",
      "Pero se vería mejor con la separación en miles: 7,000,000.000000\n",
      "Si no queremos el punto decimal: 7,000,000\n",
      "O tal vez, sea mejor la notación científica: 7.00e+06\n"
     ]
    }
   ],
   "source": [
    "print(\"El salario al que aspiras es:\", salario)\n",
    "print(\"Pero se vería mejor con la separación en miles: {0:8,f}\".format(salario))\n",
    "#{0:7,f} El 0 indica la posición del elemento que imprimiremos, el 8 la cantidad de espacios para reservar e imprimir el \n",
    "#número pero no afectará ya que no tenemos ningún tipo de alineación\n",
    "#la , indica la separación por miles y por último f indica que se imprimirá un float\n",
    "print(\"Si no queremos el punto decimal: {0:7,d}\".format(int(salario)))\n",
    "#la d indica que lo que se imprime es un int\n",
    "print(\"O tal vez, sea mejor la notación científica: {0:1.2e}\".format(int(salario)))\n",
    "#La e indica que se usará notación científica para el resultado,\n",
    "#1 es la cantidad de números antes de la coma y 2 la cantidad de números después de la coma\n"
   ]
  },
  {
   "cell_type": "markdown",
   "id": "78d6bc5e",
   "metadata": {},
   "source": [
    "Si tenemos diferentes salidas a las cuales darles formato, podemos hacer algo como lo que viene a continuación"
   ]
  },
  {
   "cell_type": "code",
   "execution_count": 35,
   "id": "e8fcb617",
   "metadata": {},
   "outputs": [
    {
     "name": "stdout",
     "output_type": "stream",
     "text": [
      "Salario mensual: 7,000,000 Salario anual 8.40e+07 \n"
     ]
    }
   ],
   "source": [
    "print('Salario mensual: {0:1,d} Salario anual {1:2.2e} '.format(int(salario),salario*12))\n",
    "#Nota que el 0 es para el salario y el 1 para el salario multiplicado por 12"
   ]
  },
  {
   "cell_type": "code",
   "execution_count": null,
   "id": "a1cd32d7",
   "metadata": {},
   "outputs": [],
   "source": []
  }
 ],
 "metadata": {
  "author": "mes",
  "kernelspec": {
   "display_name": "Python 3 (ipykernel)",
   "language": "python",
   "name": "python3"
  },
  "language_info": {
   "codemirror_mode": {
    "name": "ipython",
    "version": 3
   },
   "file_extension": ".py",
   "mimetype": "text/x-python",
   "name": "python",
   "nbconvert_exporter": "python",
   "pygments_lexer": "ipython3",
   "version": "3.9.5"
  },
  "latex_envs": {
   "LaTeX_envs_menu_present": true,
   "autoclose": false,
   "autocomplete": true,
   "bibliofile": "biblio.bib",
   "cite_by": "apalike",
   "current_citInitial": 1,
   "eqLabelWithNumbers": true,
   "eqNumInitial": 1,
   "hotkeys": {
    "equation": "Ctrl-E",
    "itemize": "Ctrl-I"
   },
   "labels_anchors": false,
   "latex_user_defs": false,
   "report_style_numbering": false,
   "user_envs_cfg": false
  },
  "toc": {
   "base_numbering": 1,
   "nav_menu": {},
   "number_sections": true,
   "sideBar": true,
   "skip_h1_title": false,
   "title_cell": "Table of Contents",
   "title_sidebar": "Contents",
   "toc_cell": false,
   "toc_position": {},
   "toc_section_display": true,
   "toc_window_display": false
  }
 },
 "nbformat": 4,
 "nbformat_minor": 5
}
