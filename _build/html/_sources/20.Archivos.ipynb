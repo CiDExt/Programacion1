{
 "cells": [
  {
   "cell_type": "markdown",
   "id": "a0c4b5f4-7ae5-459a-86e5-7d7dc9b63cdb",
   "metadata": {},
   "source": [
    "# Archivos"
   ]
  },
  {
   "cell_type": "markdown",
   "id": "2bc3e283-d7e3-435a-90a7-0b1c310d36a7",
   "metadata": {},
   "source": [
    ":::::{important} ¿Qué aprenderemos?\n",
    "\n",
    "\n",
    "Crear y manipular archivos\n",
    "\n",
    "````{tabbed} JSON\n",
    "\n",
    ":::{admonition} ¿Qué son?\n",
    ":class: tip\n",
    "Es un tipo de archivos que permiten almacenar información y su estructura, además son legibles por humanos.\n",
    ":::\n",
    "````\n",
    "\n",
    "````{tabbed} CSV\n",
    "\n",
    ":::{admonition} ¿Qué son?\n",
    ":class: tip \n",
    "Archivos legibles por humanos pero que no mantienen la estructura de los datos.\n",
    ":::\n",
    "````\n",
    "\n",
    ":::::"
   ]
  },
  {
   "cell_type": "markdown",
   "id": "e53a98a5-d780-436c-91ca-8d4e1957eb4a",
   "metadata": {},
   "source": [
    "Cuando el programa con el que estamos ejecutando estos cuadernos se cierra, las variables, listas, tuplas, ect, que hemos creado y manipulado se pierden. Es por esto que los archivos toman una gran relevancia, pues perminten mantener la información generada en el largo plazo. Por ello, en el presente cuaderno nos centraremos en la creación, modificación y actualización de archivos.\n",
    "\n",
    "La manera en que Python ve un **archivo de texto** es como un arreglo o lista de carácteres, mientras que un **archivo binario** (imágenes, videos, etc.) lo ve como un arreglo de bytes; en ambos casos el primer elemento esta ubicado en la posición 0, es por ello que un archivo con n carácteres o bytes el último elemento esta ubicado en la posición n-1.\n",
    "\n",
    "Cada uno de los archivos que se abran en Python generarán un `file object`, el cual permite nuestra interacción con el archivo.\n",
    "\n",
    "Cada sistema operativo tiene su propia manera de identificar el final de un archivo, puede ser mediante un marcador específico o mediante el conteo del total de carácteres que tiene el archivo.\n",
    "\n",
    "## Creando un .txt\n",
    "Con las siguientes líneas crearemos un archivo con cinco entradas (filas), cada una de ellas contendrá el código de una persona, su apellido y el dinero que adeuda a un pequeño fondo de ahorros: \n",
    "\n"
   ]
  },
  {
   "cell_type": "code",
   "execution_count": 27,
   "id": "56c74b61-5e0e-4dfc-bbc2-455ca38fc06f",
   "metadata": {},
   "outputs": [],
   "source": [
    "with open('fondo.txt', mode='w') as fondo:\n",
    "    fondo.write('1 Morales 240000\\n')\n",
    "    fondo.write('2 Rodríguez 578138\\n')\n",
    "    fondo.write('3 Blanco 793000\\n')\n",
    "    fondo.write('4 García 238458\\n')\n",
    "    fondo.write('5 Romero 9125489\\n')"
   ]
  },
  {
   "cell_type": "markdown",
   "id": "2117c224-0302-4cee-8738-1b4161b1bc24",
   "metadata": {},
   "source": [
    "Una forma alternativa de ingresar información al archivo es mediante la siguiente línea de código"
   ]
  },
  {
   "cell_type": "code",
   "execution_count": 28,
   "id": "09d20c85-c06d-4791-a432-18bfa8755768",
   "metadata": {},
   "outputs": [],
   "source": [
    "with open('fondo.txt', mode='a') as fondo:\n",
    "    print('6 Jaimes 275981', file=fondo)"
   ]
  },
  {
   "cell_type": "markdown",
   "id": "d2bf4d66-9f4d-4e07-9124-48e1bf6c91b3",
   "metadata": {},
   "source": [
    "### With\n",
    "Así como este pequeño bloque de código, muchas de las aplicaciones que como científicos de datos realizarán en un futuro, requieren establecer conecciones a archivos, redes, bases de datos, etc. y siempre se deben liberar los recursos tan pronto como ya no se requieren, esto con el fin de que otras alpicaciones puedan acceder a ellos, es por ello que `with` realiza las siguientes labores:\n",
    "1. Adquiere el recurso (en nuestro ejemplo `fondo.txt`)  y asigna su correspondiente objeto a una variable (`fondo`).\n",
    "2. Permite el uso del recurso mediante la variable (`write` y `print`).\n",
    "3. Invoca al método `close` para liberar el recurso, cuando se alcanza el final del `with`.\n",
    "\n",
    "### Open\n",
    "La función `open` abre un archivo (en nuestro ejemplo `fondo.txt`) y le asigna un objeto de archivo. El modo asigna las tareas que se pueden realizar cuando se abre el archivo *leer*, *escrbir*, etc. los posibles modos son:\n",
    "\n",
    "|Modo|Tarea|\n",
    "|:-:|:-:|\n",
    "|\"r\"|Read: Valor por defecto. Abre un archivo para lectura. Genera error si el archivo no existe|\n",
    "|\"a\"|Append: Abre un archivo para agregarle información, crea el archivo si no existe|\n",
    "|\"w\"|Write: Abre un archivo para escritura, crea el archivo si no existe|\n",
    "|\"x\"|Create: Crea el archivo especificado. Genera error si el archivo existe|\n",
    "|\"t\"|Text: Valor por defecto. El archivo a manipular será de tipo texto|\n",
    "|\"b\"|Binary: El archivo a manipular será de tipo binario|\n",
    "|\"+\"|Update: Abre un archivo para actualizarlo debe estar precedido de `r`, `w` o `a` e indica que el archivo también será para leer y escribir|\n",
    "\n",
    "### Write\n",
    "En el ejemplo hemos visto que, con `with` hemos podido asignar el objeto que regresa `open` a la variable `fondo` con la cláusula `as`, dicha variable `fondo` permite la interacción con el archivo. Posteriormente empleamos el método `write` para escribir cinco registros en nuestro archivo, el método tiene como argumento la cadena de carácteres que deseamos incluir en el archivo."
   ]
  },
  {
   "cell_type": "markdown",
   "id": "b8ffbbee-8540-411e-85ca-8b7b8a7123bb",
   "metadata": {},
   "source": [
    "## Leyendo archivos\n",
    "\n",
    "Con el código que ejecutamos anteriormente, hemos creado un archivo (fondo.txt) en nuestra actual ubicación. Ahora veremos la manera de leer tal información:"
   ]
  },
  {
   "cell_type": "code",
   "execution_count": 29,
   "id": "6bd87f93-6044-42e8-a5d7-42517c0fc5f2",
   "metadata": {},
   "outputs": [
    {
     "name": "stdout",
     "output_type": "stream",
     "text": [
      "Código    Apellido     Balance\n",
      "1         Morales       240000\n",
      "2         Rodríguez     578138\n",
      "3         Blanco        793000\n",
      "4         García        238458\n",
      "5         Romero       9125489\n",
      "6         Jaimes        275981\n"
     ]
    }
   ],
   "source": [
    "with open('fondo.txt', mode='r') as fondo:\n",
    "    print(f'{\"Código\":<10}{\"Apellido\":<10}{\"Balance\":>10}')\n",
    "    for registro in fondo:\n",
    "        codigo, apellido, balance = registro.split()\n",
    "        print(f'{codigo:<10}{apellido:<10}{balance:>10}')"
   ]
  },
  {
   "cell_type": "markdown",
   "id": "17f759a6-4252-4e51-bb83-58ae5e4ad7f5",
   "metadata": {},
   "source": [
    "Hemos accedido al archivo con el modo `\"r\"`, ya que queremos evitar modificaciones accidentales sobre él. La iteración que hemos realizado sobre el objeto que representa al archivo, se hace por cada \"registro\", es decir, línea por línea y en cada interación lo que hacemos es dividir el texto en \"palabras\" con el método `split`, y \"desempacamos\" la cadena con la forma en que almacenamos su contenido en las variables `codigo`, `apellido` y  `balance`. Finalmente imprimimos el texto en columnas de ancho fijo, las cuales están alineadas a la izquierda, las dos primeras y a la derecha la última.\n",
    "\n",
    "Otra forma de leer archivos es mediante el método `readlines`, el cual retorna una lista en la cual cada entrada es una línea del documento:"
   ]
  },
  {
   "cell_type": "code",
   "execution_count": 33,
   "id": "6c086cef-f275-4959-acb9-3932e7100298",
   "metadata": {},
   "outputs": [
    {
     "data": {
      "text/plain": [
       "['1 Morales 240000\\n',\n",
       " '2 Rodríguez 578138\\n',\n",
       " '3 Blanco 793000\\n',\n",
       " '4 García 238458\\n',\n",
       " '5 Romero 9125489\\n',\n",
       " '6 Jaimes 275981\\n']"
      ]
     },
     "execution_count": 33,
     "metadata": {},
     "output_type": "execute_result"
    }
   ],
   "source": [
    "open('fondo.txt', mode='r').readlines()"
   ]
  },
  {
   "cell_type": "markdown",
   "id": "0fea1d8f-c5ca-4294-ba02-ab1d1179da0b",
   "metadata": {},
   "source": [
    "Este método es útil en archivos pequeños, pero cuando se trata de archivos de gran tamaño, es mejor hacer la iteración que mostramos al principio."
   ]
  },
  {
   "cell_type": "markdown",
   "id": "46958bae-73ea-4b5d-bc34-3f56b37ff9c9",
   "metadata": {},
   "source": [
    "## Actualizando archivos\n",
    "Si en nuestro archivos quisiéramos cambiar el apellido 'Blanco' por el apellido 'Cervantes', el registro original es:\n",
    "```python\n",
    "3 Blanco 793000\n",
    "``` \n",
    "si se sobreescribe el apellido, el nuevo registro sería:\n",
    "```python\n",
    "3 Cervantes3000\n",
    "```\n",
    "Esto ocurre por el tamaño del apellido con el que se esta actualizando el registro, tiene tres carácteres más.\n",
    "### Ejercicio\n",
    "1. ¿Qué ideas propone para solucionar este problema?\n",
    "\n",
    "Una de las posibles respuestas es:\n",
    "1. Copiar los dos primeros registros en otro archivos.\n",
    "2. Generar la entrada que se desea en el archivo creado.\n",
    "3. Copiar el resto de registros al nuevo.\n",
    "4. Eliminar el archivo viejo.\n",
    "5. Renombrar el nuevo archivo\n"
   ]
  },
  {
   "cell_type": "code",
   "execution_count": 53,
   "id": "bae34c6f-f3a7-4a19-92fb-6d35d3663693",
   "metadata": {},
   "outputs": [],
   "source": [
    "with open('fondo.txt', mode='r') as fondo:\n",
    "    for registro in fondo:\n",
    "        codigo, apellido, balance = registro.split()\n",
    "        if apellido == 'Blanco':\n",
    "            with open('fondo2.txt', mode='a+') as fondo2:\n",
    "                fondo2.write('3 Cervantes 793000\\n')\n",
    "        else:\n",
    "            with open('fondo2.txt', mode='a+') as fondo2:\n",
    "                fondo2.write(registro)            "
   ]
  },
  {
   "cell_type": "markdown",
   "id": "dcf18afc-609f-44d3-906f-d4ec441ade1f",
   "metadata": {},
   "source": [
    "Para eliminar y renombrar el nuevo archivo debemos importar la librería `os`, para emplear la función `remove`: la cual como argumento recibe el nombre del archivo que se desea eliminar, y la función `rename`: esta recibe dos argumentos, el primero es el nombre del archivo al que le deseamos cambiar el nombre y el segundo el nombre con el que deseamos se quede tal archivo."
   ]
  },
  {
   "cell_type": "code",
   "execution_count": 54,
   "id": "5fdd98f6-2cab-482e-9af7-ad14acf178ed",
   "metadata": {},
   "outputs": [],
   "source": [
    "import os\n",
    "#os.remove('fondo.txt')\n",
    "os.rename('fondo2.txt', 'fondo.txt')"
   ]
  },
  {
   "cell_type": "markdown",
   "id": "f67e9482-345a-472c-ba84-a456877473a3",
   "metadata": {},
   "source": [
    "### Ejercicio\n",
    "1. En el diligenciamento de los datos del fondo a habido un error, los registros 5 y 6 tienen los apellidos intercambiados. Modifica el código anterior para arreglar este asunto (utiliza las variables `codigo` y `balance` durante el proceso)."
   ]
  },
  {
   "cell_type": "markdown",
   "id": "38579fcc-b832-4e8a-80d6-d1d44e886e60",
   "metadata": {},
   "source": [
    "## Serialización con JSON\n",
    "Los archivos `JSON (JavaScript Object Notation)` son ampliamente utilizados para serializar y transmitir datos estructurados a través de una conexión de red, es por ello que muchos de los servicios basados en la nube los emplean, además no sólo permiten enviar la estructura de los datos (listas, conjuntos, diccionarios y más), son también legibles por los humanos. \n",
    "\n",
    "Los objetos JSON son similares a los diccionarios en Python, ya que son `property names` y `values` separados por coma entre llaves, así:\n",
    "```python\n",
    "{\"Código\": 1, \"Apellido\": \"Morales\", \"Balance\": 240000}\n",
    "```\n",
    "También en los archivos JSON se aceptan arreglos, los cuales son como las listas de Pyhon, valores separados por coma encerrados en corchetes:\n",
    "```python\n",
    "[1,2,3,4,5,6]\n",
    "```\n",
    "Los valores que se pueden almacenar en dichos arreglos son:\n",
    "1. Carácteres encerrados en comillas dobes (\"Morales\").\n",
    "2. Números (1 o 2.34).\n",
    "3. Valores Booleanos (`true` y `false`).\n",
    "4. `Null` (equivalente al `None` de Python).\n",
    "5. Arreglos ([1,2,3,4,5,6]).\n",
    "6. Otros objetos JSON.\n",
    "\n",
    "La librería `json` nos permite convertir los objetos al formato en que deben estar en un archivo JSON, esta tarea se conoce como **serializar** los datos. Vamos a definir un diccionario en el cual hay una llave llamada `cuenta` a la cual se le asigna un valor, este consiste en una lista de diccionarios que representan dos cuentas. Cada uno de los diccionarios esta conformado por el código, apellido y balance:"
   ]
  },
  {
   "cell_type": "code",
   "execution_count": 55,
   "id": "e799c366-13c3-4063-9f18-13a4138b67cb",
   "metadata": {},
   "outputs": [],
   "source": [
    "cuentas_dict = {'cuenta': [{'Código': 1, 'Apellido': 'Morales', 'Balance': 240000},\n",
    "                              {'Código': 2, 'Apellido': 'Rodríguez', 'Balance': 578138}]}"
   ]
  },
  {
   "cell_type": "code",
   "execution_count": 56,
   "id": "da94d047-86c4-43de-971a-72161417e469",
   "metadata": {},
   "outputs": [],
   "source": [
    "import json\n",
    "with open('cuentas.json', 'w') as cuentas:\n",
    "    json.dump(cuentas_dict, cuentas)"
   ]
  },
  {
   "cell_type": "markdown",
   "id": "781180c6-0a7d-4069-ba03-3a7c2b597f52",
   "metadata": {},
   "source": [
    "Si abrimos el archivo que acabamos de crear, lo veremos así:\n",
    "<img src=\"https://github.com/CiDExt/Programacion1/blob/master/images/json1.png?raw=true\" width=\"200\">\n",
    "\n",
    "o así:\n",
    "\n",
    "<img src=\"https://github.com/CiDExt/Programacion1/blob/master/images/json2.png?raw=true\" width=\"600\">\n",
    "\n",
    "\n",
    "Note que las cadenas de texto en JSON van siempre entre comillas dobles.\n",
    "\n",
    "\n"
   ]
  },
  {
   "cell_type": "markdown",
   "id": "75bbd36d-0209-43b3-b036-a84953858161",
   "metadata": {},
   "source": [
    "La función `dumps` convierte un objeto de Python en objetos de JSON. "
   ]
  },
  {
   "cell_type": "markdown",
   "id": "1c5f00cb-7f66-491e-81c7-4151fdf1b40e",
   "metadata": {},
   "source": [
    "### Deserializar\n",
    "La función `load`, del paquete `json`, permite leer todo el contenido del archivo que se ingresa como argumento de ella y convertir los objetos tipo JSON a objetos de Python. Este proceso se conoce como deserializar los datos. Vamos a utilizar el ejemplo anterior para reconstruir nuestro diccionario original:"
   ]
  },
  {
   "cell_type": "code",
   "execution_count": 57,
   "id": "a2b2e3b3-2906-4154-aeda-550f66a8447b",
   "metadata": {},
   "outputs": [],
   "source": [
    "with open('cuentas.json', 'r') as cuentas:\n",
    "    cuentas_json = json.load(cuentas)"
   ]
  },
  {
   "cell_type": "markdown",
   "id": "ef4a9601-20c5-4e90-870e-c70ad49a1b49",
   "metadata": {},
   "source": [
    "Ya hemos almacenado la información del archivo en la variable `cuentas_json`, de modo que podemos interactuar con dicho contenido:"
   ]
  },
  {
   "cell_type": "code",
   "execution_count": 58,
   "id": "2ea7743a-cf32-4348-94b1-fd976c7940c6",
   "metadata": {},
   "outputs": [
    {
     "data": {
      "text/plain": [
       "{'cuenta': [{'Código': 1, 'Apellido': 'Morales', 'Balance': 240000},\n",
       "  {'Código': 2, 'Apellido': 'Rodríguez', 'Balance': 578138}]}"
      ]
     },
     "execution_count": 58,
     "metadata": {},
     "output_type": "execute_result"
    }
   ],
   "source": [
    "cuentas_json"
   ]
  },
  {
   "cell_type": "code",
   "execution_count": 60,
   "id": "b895d7b1-a19d-4507-9596-0337efe5d21e",
   "metadata": {},
   "outputs": [
    {
     "data": {
      "text/plain": [
       "[{'Código': 1, 'Apellido': 'Morales', 'Balance': 240000},\n",
       " {'Código': 2, 'Apellido': 'Rodríguez', 'Balance': 578138}]"
      ]
     },
     "execution_count": 60,
     "metadata": {},
     "output_type": "execute_result"
    }
   ],
   "source": [
    "#Acceder al diccionario cuenta:\n",
    "cuentas_json['cuenta']"
   ]
  },
  {
   "cell_type": "code",
   "execution_count": 61,
   "id": "50101c67-3df8-458c-accf-8bc14915ab1e",
   "metadata": {},
   "outputs": [
    {
     "data": {
      "text/plain": [
       "{'Código': 1, 'Apellido': 'Morales', 'Balance': 240000}"
      ]
     },
     "execution_count": 61,
     "metadata": {},
     "output_type": "execute_result"
    }
   ],
   "source": [
    "#Acceder a las cuentas individuales:\n",
    "cuentas_json['cuenta'][0]"
   ]
  },
  {
   "cell_type": "code",
   "execution_count": 63,
   "id": "8c0c0d02-8a6f-4d9d-8154-68937291c5ac",
   "metadata": {},
   "outputs": [
    {
     "data": {
      "text/plain": [
       "{'Código': 2, 'Apellido': 'Rodríguez', 'Balance': 578138}"
      ]
     },
     "execution_count": 63,
     "metadata": {},
     "output_type": "execute_result"
    }
   ],
   "source": [
    "cuentas_json['cuenta'][1]"
   ]
  },
  {
   "cell_type": "markdown",
   "id": "392d6b28-abc6-4d86-bddd-b0b25c1a1de6",
   "metadata": {},
   "source": [
    "Como antes, podemos manipular el diccionario que hemos creado:"
   ]
  },
  {
   "cell_type": "code",
   "execution_count": 65,
   "id": "cd6864b1-120f-4937-92e1-4a5b57665a74",
   "metadata": {},
   "outputs": [],
   "source": [
    "cuentas_json['cuenta'].append({'Código':3,'Apellido': 'Blanco', 'Balance': 793000})\n",
    "cuentas_json"
   ]
  },
  {
   "cell_type": "markdown",
   "id": "a9edbab3-b6cb-41f4-8200-06eaf1b831f3",
   "metadata": {},
   "source": [
    "Para hacer un *pretty print* de los objetos de JSON, podemos hacer la siguiente combinación de `dumps` y `load`:"
   ]
  },
  {
   "cell_type": "code",
   "execution_count": 72,
   "id": "6a9c47c1-adc3-4010-b029-2f1c89fdc2a4",
   "metadata": {},
   "outputs": [
    {
     "name": "stdout",
     "output_type": "stream",
     "text": [
      "{\n",
      "   \"cuenta\": [\n",
      "      {\n",
      "         \"C\\u00f3digo\": 1,\n",
      "         \"Apellido\": \"Morales\",\n",
      "         \"Balance\": 240000\n",
      "      },\n",
      "      {\n",
      "         \"C\\u00f3digo\": 2,\n",
      "         \"Apellido\": \"Rodr\\u00edguez\",\n",
      "         \"Balance\": 578138\n",
      "      }\n",
      "   ]\n",
      "}\n"
     ]
    }
   ],
   "source": [
    "with open('cuentas.json', 'r') as cuentas:\n",
    "    print(json.dumps(json.load(cuentas), indent=3))"
   ]
  },
  {
   "cell_type": "markdown",
   "id": "d390d8c3-5a0b-41ef-a2ab-77c8e27ce85f",
   "metadata": {},
   "source": [
    "el argumento adicional que hemos empleado `indent`, se puede utilizar cuando se almacena la información en el archivo. Sirve para dar el tamaño de la sangría a la hora de imprimir la información."
   ]
  },
  {
   "cell_type": "markdown",
   "id": "b96c3322-467e-492c-a762-27a3b61f71dc",
   "metadata": {},
   "source": [
    "## Archivos CSV\n",
    "En ciencia de datos es muy común trabajar con archivos CSV (comma-separated values), ya que son legibles por humanos pero tienen la desventaja que no guardan la estructura de la información. El paquete `csv` tiene funciones para trabajar con este tipo de archivos, sin embargo no es el único ya que paquetes como `pandas` tienen sus funciones para manipularlos también."
   ]
  },
  {
   "cell_type": "code",
   "execution_count": 74,
   "id": "8c161a00-15af-41d8-bba9-7511f42aa478",
   "metadata": {},
   "outputs": [],
   "source": [
    "import csv"
   ]
  },
  {
   "cell_type": "code",
   "execution_count": 80,
   "id": "96297792-7f4f-4ea3-94a6-20402b6cd9df",
   "metadata": {},
   "outputs": [],
   "source": [
    "with open('fondo.csv', mode='w', newline='') as cuentas:\n",
    "    writer = csv.writer(cuentas)\n",
    "    writer.writerow([1,'Morales',240000])\n",
    "    writer.writerow([2,'Rodríguez',578138])\n",
    "    writer.writerow([3,'Blanco',793000])\n",
    "    writer.writerow([4,'García',238458])\n",
    "    writer.writerow([5,'Romero',9125489])\n",
    "    writer.writerow([6,'Jaimes',275981])"
   ]
  },
  {
   "cell_type": "markdown",
   "id": "cf6ddafc-eafe-4889-a77e-55fa9a999d70",
   "metadata": {},
   "source": [
    "La función `writer` regresa un objeto que tiene permitido escribir determinado objeto en el archivo.\n",
    "\n",
    "Cada llamada que se hace del método `writerow` recibe un iterable el cual se almacenará en el archivo, el separador que se usa por defecto es la coma, pero se puede especificar el delimitador de los valores.\n",
    "\n",
    "Para leer archivos CSV, seguimos las mismas ideas de antes:"
   ]
  },
  {
   "cell_type": "code",
   "execution_count": 81,
   "id": "1068b7a4-fef5-4d07-a723-59920a47a00d",
   "metadata": {},
   "outputs": [
    {
     "name": "stdout",
     "output_type": "stream",
     "text": [
      "Código    Apellido     Balance\n",
      "1         Morales       240000\n",
      "2         Rodríguez     578138\n",
      "3         Blanco        793000\n",
      "4         García        238458\n",
      "5         Romero       9125489\n",
      "6         Jaimes        275981\n"
     ]
    }
   ],
   "source": [
    "with open('fondo.csv', 'r', newline='') as cuentas:\n",
    "    print(f'{\"Código\":<10}{\"Apellido\":<10}{\"Balance\":>10}')\n",
    "    reader = csv.reader(cuentas)\n",
    "    for registro in reader:\n",
    "        codigo, apellido, balance = registro\n",
    "        print(f'{codigo:<10}{apellido:<10}{balance:>10}')"
   ]
  },
  {
   "cell_type": "markdown",
   "id": "942455c4-c9ff-43be-82b4-30ec8272abdb",
   "metadata": {},
   "source": [
    "La función `reader` crea un objeto que lee la información almacenada en el archivo tipo CSV. El `for` que está en el bloque de código anterior, permite recorrer uno por uno los registros almacenados en el CSV, y los valores de dichas entradas vienen como una lista, la cual se *desempaca*  en las variables `codigo`, `apellido` y `balance`.\n",
    "\n",
    "A la hora de almacenar la información en este tipo de archivos se debe tener mucho cuidado con las comas presentes en los datos, ya que una coma sobrante o faltante modificará el archivo sensiblemente, por ejemplo:\n",
    "```python\n",
    "1,2,3,4,5,6\n",
    "```\n",
    "genera una lista de 6 valores enteros.\n",
    "```python\n",
    "1,2,34,5,6\n",
    "```\n",
    "genera una lista de 5 valores enteros.\n",
    "```python\n",
    "1,2,3,4,,5,6\n",
    "```\n",
    "genera una lista de 7 valores, 6 enteros y uno *vacío*.\n",
    "\n",
    "### Ejercicio\n",
    "1. Busca la manera de escribir y leer la información en un archivo CSV empleando la librería `pandas`.\n"
   ]
  }
 ],
 "metadata": {
  "kernelspec": {
   "display_name": "Python 3 (ipykernel)",
   "language": "python",
   "name": "python3"
  },
  "language_info": {
   "codemirror_mode": {
    "name": "ipython",
    "version": 3
   },
   "file_extension": ".py",
   "mimetype": "text/x-python",
   "name": "python",
   "nbconvert_exporter": "python",
   "pygments_lexer": "ipython3",
   "version": "3.9.5"
  },
  "latex_envs": {
   "LaTeX_envs_menu_present": true,
   "autoclose": false,
   "autocomplete": true,
   "bibliofile": "biblio.bib",
   "cite_by": "apalike",
   "current_citInitial": 1,
   "eqLabelWithNumbers": true,
   "eqNumInitial": 1,
   "hotkeys": {
    "equation": "Ctrl-E",
    "itemize": "Ctrl-I"
   },
   "labels_anchors": false,
   "latex_user_defs": false,
   "report_style_numbering": false,
   "user_envs_cfg": false
  },
  "toc": {
   "base_numbering": 1,
   "nav_menu": {},
   "number_sections": true,
   "sideBar": true,
   "skip_h1_title": false,
   "title_cell": "Table of Contents",
   "title_sidebar": "Contents",
   "toc_cell": false,
   "toc_position": {},
   "toc_section_display": true,
   "toc_window_display": false
  }
 },
 "nbformat": 4,
 "nbformat_minor": 5
}
