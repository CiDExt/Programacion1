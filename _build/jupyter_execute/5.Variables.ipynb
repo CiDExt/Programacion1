{
 "cells": [
  {
   "cell_type": "markdown",
   "id": "4dd434e7",
   "metadata": {},
   "source": [
    "# Variables y funciones básicas"
   ]
  },
  {
   "cell_type": "markdown",
   "id": "ff6c3cea-a93f-47b8-a84f-c84412b9115d",
   "metadata": {},
   "source": [
    ":::::{important} ¿Cómo vamos?\n",
    "\n",
    "\n",
    "Hasta el momento debemos tener claro lo siguiente:\n",
    "\n",
    "\n",
    "````{tabbed} ¿Qué hace un programador?\n",
    "\n",
    ":::{warning} \n",
    "\n",
    "**La respuesta es sencilla**\n",
    "\n",
    "Convertir **soluciones** en instrucciones que pueda seguir un computador\n",
    ":::\n",
    "\n",
    "se hace a través de algoritmos procesos libres de ambigüedades y con todos los pasos necesarios para llegar a la dichosa solución. Usamos herramientas de representación de los algoritmos: pseudocódigo o diagramas de flujo, que permiten resumir los pasos de un proceso.\n",
    "\n",
    "````\n",
    "\n",
    "````{tabbed} Consola bash\n",
    "\n",
    ":::{admonition} Recordemos...\n",
    ":class: tip\n",
    "Ya pudimos establecer comunicación directa con la máquina a traves la consola, pudimos crear, mover y modificar archivos. Usamos un algoritmo muy simple para crear un nuevo texto e interactuamos con la consola para descubrir todas las propiedades de sus archivos y directorios.\n",
    ":::\n",
    "````\n",
    "\n",
    "\n",
    "````{tabbed} Página en github\n",
    "\n",
    ":::{admonition} Recordemos...\n",
    ":class: tip\n",
    "Seguimos un tutorial detallado para empezar a manejar repositorios locales y en línea. Adicionalmente, vimos elementos básicos para la creación de páginas utilizando una rama adicional de los repositorios. Esperamos que en esas páginas haya una descripción completa de sus perfiles, ilusiones y los que serían sus próximos proyectos.\n",
    ":::\n",
    "````\n",
    "\n",
    "\n",
    "````{tabbed} Jupyter\n",
    "\n",
    ":::{admonition} Recordemos...\n",
    ":class: tip\n",
    "Seguimos un tutorial para instalar Anaconda y así usar jupyter. Entendimos que tiene dos tipos de celdas: código y texto, y estudiamos el lenguaje Markdown para poder enriquecer el texto de nuestras celdas de código.\n",
    ":::\n",
    "\n",
    "````\n",
    ":::::\n",
    "\n"
   ]
  },
  {
   "cell_type": "markdown",
   "id": "f1aced8f",
   "metadata": {},
   "source": [
    "Hemos recorrido un largo camino para empezar a programar en Python. Sin embargo, fue necesario para reconocer conceptos, herramientas y hábitos que nos llevarán a un buen puerto con nuestras piezas de código. Empezaremos hablando de algunas instrucciones elementales de Python, crearemos nuestros primeros programas, también llamdos **scripts** que posteriormente serán interpretados. Mencionaremos algunos **tipos elementales de datos** y los guardaremos en un espacio de memoría mediante **variables** para transformarlos y generar nueva información. "
   ]
  },
  {
   "cell_type": "markdown",
   "id": "c62d69bf-271f-41f1-935f-6261cb5697ea",
   "metadata": {},
   "source": [
    "## ¡Hola mundo!\n",
    "\n",
    "Un ejercicio tradicional de cualquier lenguaje es verificar que funciona, para verlo usaremos una celda de código y escrbiremos `print('¡Hola Mundo!')` oprimimos [Shift]+[Enter] (ejecuta y generará una nueva celda) o [Alt]+[Enter] (ejecuta sin crear una nueva celda) o el ícono run en la parte superior del cuaderno y debe aparecer lo siguiente:"
   ]
  },
  {
   "cell_type": "code",
   "execution_count": 1,
   "id": "caaab4dc-5415-43d3-bb66-8ae583160ec6",
   "metadata": {},
   "outputs": [
    {
     "name": "stdout",
     "output_type": "stream",
     "text": [
      "¡Hola Mundo!\n"
     ]
    }
   ],
   "source": [
    "print('¡Hola Mundo!')"
   ]
  },
  {
   "cell_type": "markdown",
   "id": "db8a48a7-6278-40f1-bd6a-80fd1c9f7d99",
   "metadata": {},
   "source": [
    "Puede parecer insignificante pero en este ejercicio estamos haciendo varias cosas:\n",
    "\n",
    "1. Diferenciamos la celda de texto con la celda de código. \n",
    "2. Identificamos un comando para ejecutar, comentamos que Python es un lenguaje interpretado y que permite correr código sin necesidad de compilar, aún así debemos indicarle a la máquina que corra.\n",
    "3. Identificamos la entrada y salida de una celda de código, en gris estará el código que diseñamos y justo abajo el resultado de la ejecución del código. Hay un par de valores que indican la identificación de la salida y la entrada del cuaderno."
   ]
  },
  {
   "cell_type": "markdown",
   "id": "0d4f5681-52ac-44a3-b0f4-136178019e00",
   "metadata": {},
   "source": [
    "Otro ejercicio interesante es hacer una sencilla operación matemática, en principio Python soporta las operaciones aritméticas básicas y sin ningun problema podemos hacer lo siguiente:\n",
    "\n",
    "| **Operador** | **Descripción** |\n",
    "| :---: | :---: |\n",
    "|`+`|Suma|\n",
    "|`-`|Resta|\n",
    "|`*`|Multiplicación|\n",
    "|`/`|División|\n",
    "|`**`|Potencia|"
   ]
  },
  {
   "cell_type": "markdown",
   "id": "da1180c1-0314-4060-9847-f437262f811b",
   "metadata": {},
   "source": [
    "Usemos a Python como calculadora simple y hagamos algunas cuentas:"
   ]
  },
  {
   "cell_type": "markdown",
   "id": "580bc760-8af9-4973-8396-1c804be07556",
   "metadata": {},
   "source": [
    "Una suma:"
   ]
  },
  {
   "cell_type": "code",
   "execution_count": 2,
   "id": "93137bb1-c4db-4f80-8790-c502012ad3ee",
   "metadata": {},
   "outputs": [
    {
     "data": {
      "text/plain": [
       "4"
      ]
     },
     "execution_count": 2,
     "metadata": {},
     "output_type": "execute_result"
    }
   ],
   "source": [
    "2+2"
   ]
  },
  {
   "cell_type": "markdown",
   "id": "93b49703-8358-4582-898b-6f20cca144bc",
   "metadata": {},
   "source": [
    "Una resta:"
   ]
  },
  {
   "cell_type": "code",
   "execution_count": 3,
   "id": "1faac661-1e17-42c1-ba12-92afea618ce2",
   "metadata": {},
   "outputs": [
    {
     "data": {
      "text/plain": [
       "999938"
      ]
     },
     "execution_count": 3,
     "metadata": {},
     "output_type": "execute_result"
    }
   ],
   "source": [
    "1000003-65"
   ]
  },
  {
   "cell_type": "markdown",
   "id": "5f182008-03bf-475a-bd21-012d8ee54dbd",
   "metadata": {},
   "source": [
    "Una multiplicación:"
   ]
  },
  {
   "cell_type": "code",
   "execution_count": 4,
   "id": "0113862d-5f9c-44ca-b3df-b129a3f27bc6",
   "metadata": {},
   "outputs": [
    {
     "data": {
      "text/plain": [
       "239346384661931958855"
      ]
     },
     "execution_count": 4,
     "metadata": {},
     "output_type": "execute_result"
    }
   ],
   "source": [
    "526563255*454544411121"
   ]
  },
  {
   "cell_type": "markdown",
   "id": "370e2384-5638-43fa-8055-8484049ab9c4",
   "metadata": {},
   "source": [
    "Una resta de un número muy grande, solo para demostrar que Python puede usar una gran cantidad de memoria:"
   ]
  },
  {
   "cell_type": "code",
   "execution_count": 5,
   "id": "e97f3259-db5a-45cb-a5a2-3ec10bb4b498",
   "metadata": {},
   "outputs": [
    {
     "data": {
      "text/plain": [
       "4000000000000000000000000000000000000000000000000000000000000000000000000000000000000000000000000000000000000000000000000000000000000"
      ]
     },
     "execution_count": 5,
     "metadata": {},
     "output_type": "execute_result"
    }
   ],
   "source": [
    "3999999999999999999999999999999999999999999999999999999999999999999999999999999999999999999999999999999999999999999999999999999999999+1"
   ]
  },
  {
   "cell_type": "markdown",
   "id": "3780204e-0490-4c5a-9a6b-7df8eba0005e",
   "metadata": {},
   "source": [
    "Una potencia:"
   ]
  },
  {
   "cell_type": "code",
   "execution_count": 6,
   "id": "f30f1215-9834-4a2e-a578-812e5b907c82",
   "metadata": {},
   "outputs": [
    {
     "data": {
      "text/plain": [
       "64"
      ]
     },
     "execution_count": 6,
     "metadata": {},
     "output_type": "execute_result"
    }
   ],
   "source": [
    "2**6"
   ]
  },
  {
   "cell_type": "markdown",
   "id": "c7bedb7b-112a-41af-bfa4-4a524ae5eedc",
   "metadata": {},
   "source": [
    "Como se puede apreciar en sus cuadernos, cada operación está debidamente identificada y se distingue claramente la salida y la entrada de la celda."
   ]
  },
  {
   "cell_type": "markdown",
   "id": "23db51a3-100c-40bd-bfbb-c3096ef015b1",
   "metadata": {},
   "source": [
    "**Ejercicio**\n",
    "\n",
    "Calcule lo siguiente e interprete el resultado:\n",
    "\n",
    "```Python\n",
    "In[2]\n",
    "```"
   ]
  },
  {
   "cell_type": "markdown",
   "id": "1f8f97fd-b309-4d0d-a2a0-fc8adaf9e3d4",
   "metadata": {},
   "source": [
    "## Variables\n",
    "\n",
    "Una variable en Python sirve para **guardar un valor específico**, ya sea **numérico**, **texto** u otro [**Tipo de Dato**](https://www.w3schools.com/python/python_datatypes.asp) con un nombre que nosotros escojamos. Debemos escribir una expresión de la forma:\n",
    "\n",
    "```Python\n",
    "[Nombre de variable]=[Valor para guardar]\n",
    "```\n",
    "\n",
    "\n",
    "Por ejemplo, si queremos guardar el valor ` 1` en la variable ` x`, debemos escribir:\n",
    "\n",
    "```Python\n",
    "x=1\n",
    "```\n",
    "\n",
    "Si queremos guardar el texto ` 'Python es asombroso'` en la variable ` y`, debemos escribir:\n",
    "\n",
    "```Python\n",
    "y='Python es asombroso'\n",
    "```\n"
   ]
  },
  {
   "cell_type": "markdown",
   "id": "5fe43c74-60a6-4481-bd65-c33882b5ce66",
   "metadata": {},
   "source": [
    "Hay variables previamente asignadas en Python, como la que acabamos de ejecutar, esta hace referencia a la variable preasignada en Jupyter `In`, cada vez que se ejecuta, Python llama alguna entrada que está guardada en la memoría de nuestra máquina. Esto lo logramos en **Jupyter Notebook** a través del núcleo, un motor computacional de Jupyter que utiliza los recursos del computador (CPU y RAM) para guardar los cálculos. Cada vez que se reinicia el núcleo se pierden todos los datos guardados. Así mismo `Out` guarda todas las salidas posibles.\n",
    "\n"
   ]
  },
  {
   "cell_type": "markdown",
   "id": "0843019a-6c32-4e69-9b89-05a3cb7239f3",
   "metadata": {},
   "source": [
    ":::{note} Variables predefinidas en Python\n",
    "\n",
    "A parte de las variables preasignadas, en Python hay palabras reservadas, que no pueden ser usadas para definir variables. Una forma de verlas es utilizando la **librería** `keywords`, en la siguiente celda **importamos** esa librería y le pedimos a Python que nos muestre una **lista** con las palabras que no se pueden usar. \n",
    "\n",
    "Después entramos en más detalle con los conceptos resaltados en esta nota: \n",
    "\n",
    "* Librería\n",
    "* Importar\n",
    "* Lista\n",
    "\n",
    ":::"
   ]
  },
  {
   "cell_type": "code",
   "execution_count": 7,
   "id": "0a0da700-7467-4e23-a5f2-0124c536ff01",
   "metadata": {},
   "outputs": [
    {
     "name": "stdout",
     "output_type": "stream",
     "text": [
      "Hay un total de 36 palabras reservadas: \n"
     ]
    },
    {
     "data": {
      "text/plain": [
       "['False',\n",
       " 'None',\n",
       " 'True',\n",
       " '__peg_parser__',\n",
       " 'and',\n",
       " 'as',\n",
       " 'assert',\n",
       " 'async',\n",
       " 'await',\n",
       " 'break',\n",
       " 'class',\n",
       " 'continue',\n",
       " 'def',\n",
       " 'del',\n",
       " 'elif',\n",
       " 'else',\n",
       " 'except',\n",
       " 'finally',\n",
       " 'for',\n",
       " 'from',\n",
       " 'global',\n",
       " 'if',\n",
       " 'import',\n",
       " 'in',\n",
       " 'is',\n",
       " 'lambda',\n",
       " 'nonlocal',\n",
       " 'not',\n",
       " 'or',\n",
       " 'pass',\n",
       " 'raise',\n",
       " 'return',\n",
       " 'try',\n",
       " 'while',\n",
       " 'with',\n",
       " 'yield']"
      ]
     },
     "execution_count": 7,
     "metadata": {},
     "output_type": "execute_result"
    }
   ],
   "source": [
    "import keyword\n",
    "print(f'Hay un total de {len(keyword.kwlist)} palabras reservadas: ')\n",
    "keyword.kwlist"
   ]
  },
  {
   "cell_type": "markdown",
   "id": "d69f8c7f-435e-4009-a442-602491d5e64f",
   "metadata": {
    "colab_type": "text",
    "id": "6YvlIG-G6o2Z",
    "tags": []
   },
   "source": [
    ":::{important} Reglas de Creación de Variables:\n",
    "\n",
    "Para crear variables se den seguir algunas reglas elementales y tener en cuenta unas distinciones, basta con seguir las siguientes reglas:\n",
    "\n",
    "* El nombre de una variable **debe comenzar** con una letra ó con _ .\n",
    "\n",
    "* El nombre de una variable **no puede comenzar con un número**.\n",
    "\n",
    "* El nombre de una variable **sólo puede contener** carácteres alfa-numéricos.\n",
    "\n",
    "* El nombre de una variable tiene **sensibilidad** a **mayúsculas** y **minúsculas** (x es diferente de X).\n",
    ":::"
   ]
  },
  {
   "cell_type": "markdown",
   "id": "3676d0c5-e4bb-4fe5-a2d2-44d534f19d21",
   "metadata": {
    "colab_type": "text",
    "id": "g0XQW90S5bCj",
    "solution2": "hidden",
    "solution2_first": true
   },
   "source": [
    "**Ejemplo**\n",
    "\n",
    "Hagamos un código que le diga al computador que imprima los textos **Tengo** *my_age* **años**, donde *my_age* es una variable que tenga asignada una edad."
   ]
  },
  {
   "cell_type": "code",
   "execution_count": 8,
   "id": "d41f694f-d011-4db9-91c7-e2b539d5ca4a",
   "metadata": {
    "colab": {},
    "colab_type": "code",
    "id": "yFtzd3Ok57ul",
    "solution2": "hidden"
   },
   "outputs": [
    {
     "name": "stdout",
     "output_type": "stream",
     "text": [
      "Tengo 25 años\n"
     ]
    }
   ],
   "source": [
    "my_age=25\n",
    "print(\"Tengo\",my_age, \"años\")"
   ]
  },
  {
   "cell_type": "markdown",
   "id": "1c63bfdc-5118-45b7-9422-13e4c758db7f",
   "metadata": {},
   "source": [
    "Efectivamente, al ejecutar el script se remplaza `my_age` por el número 25. Veamos un eujemplo un poco más complicado:"
   ]
  },
  {
   "cell_type": "markdown",
   "id": "144310fa-c691-4601-91c3-2652492ffa5c",
   "metadata": {
    "tags": []
   },
   "source": [
    "**Ejemplo**\n",
    "\n",
    "El siguiente código calcula la longitud del nombre y la presenta en un texto. Observe que en el comando `print()` , `sep=` es un parámetro que separa los valores ingresados dentro de la función `print`. Como se puede apreciar, usamos una nueva función `len()` ¿Puedes deducir qué hace?"
   ]
  },
  {
   "cell_type": "code",
   "execution_count": 9,
   "id": "d82c950a-83fc-40f2-a6dd-cb3fe1793ca7",
   "metadata": {},
   "outputs": [
    {
     "name": "stdout",
     "output_type": "stream",
     "text": [
      "Su_nombre  tiene una longitud de  9 caractéres\n"
     ]
    }
   ],
   "source": [
    "Nombre='Su_nombre'# cambiar 'Su_nombre' por su verdadero nombre\n",
    "longitud=len(Nombre)\n",
    "print(Nombre,\" tiene una longitud de \",longitud, \"caractéres\", sep=\" \")\n"
   ]
  },
  {
   "cell_type": "markdown",
   "id": "bffd5fee-c04f-41a7-acb5-77d903b7daee",
   "metadata": {
    "colab_type": "text",
    "id": "jsYP__7Q7y6j"
   },
   "source": [
    "### Múltiples Asignaciones:\n",
    "\n",
    "Es posible asignar valores a diferentes variables en una línea de código:"
   ]
  },
  {
   "cell_type": "code",
   "execution_count": 10,
   "id": "60b3b2e4-230d-4448-8b7f-d7f9260cee9f",
   "metadata": {
    "colab": {
     "base_uri": "https://localhost:8080/",
     "height": 102
    },
    "colab_type": "code",
    "executionInfo": {
     "elapsed": 562,
     "status": "ok",
     "timestamp": 1566879321018,
     "user": {
      "displayName": "Daniel Montenegro",
      "photoUrl": "",
      "userId": "07275166318289302366"
     },
     "user_tz": 300
    },
    "id": "dgS8D9paFG3g",
    "outputId": "af6a422e-fde8-4391-ddec-e9cac420b3cc"
   },
   "outputs": [
    {
     "name": "stdout",
     "output_type": "stream",
     "text": [
      "Manzana\n",
      "Sandía\n",
      "Uva\n",
      "28\n",
      "Manzana, Sandía, Uva, 28\n"
     ]
    }
   ],
   "source": [
    "# Asignación múltiple\n",
    "\n",
    "w, x, y, z = \"Manzana\", \"Sandía\", \"Uva\", 28;\n",
    "\n",
    "print(w);\n",
    "print(x);\n",
    "print(y);\n",
    "print(z);\n",
    "print(w,x,y,z,sep=\", \");"
   ]
  },
  {
   "cell_type": "markdown",
   "id": "50f3cf14-2ba1-4912-a670-effbc7ee9c2e",
   "metadata": {
    "colab_type": "text",
    "id": "pgpUA2p5GXf2"
   },
   "source": [
    "También es posible asignar un **mismo valor** a diferentes variables:"
   ]
  },
  {
   "cell_type": "code",
   "execution_count": 11,
   "id": "a56d81c4-687f-4a9b-b681-a837f374b592",
   "metadata": {
    "colab": {
     "base_uri": "https://localhost:8080/",
     "height": 68
    },
    "colab_type": "code",
    "executionInfo": {
     "elapsed": 545,
     "status": "ok",
     "timestamp": 1566879335814,
     "user": {
      "displayName": "Daniel Montenegro",
      "photoUrl": "",
      "userId": "07275166318289302366"
     },
     "user_tz": 300
    },
    "id": "uLVD53UgGXEr",
    "outputId": "2bca046b-b077-41c0-a5a6-eb6b74a00e74"
   },
   "outputs": [
    {
     "name": "stdout",
     "output_type": "stream",
     "text": [
      "x1 = 0.5\n",
      "x2 = 0.5\n",
      "x3 = 0.5\n"
     ]
    }
   ],
   "source": [
    "# Asignación múltiple del mismo valor\n",
    "\n",
    "x1 = x2 = x3 = 0.5;\n",
    "print('x1 =',x1);\n",
    "print('x2 =',x2);\n",
    "print('x3 =',x3);"
   ]
  },
  {
   "cell_type": "markdown",
   "id": "dbe85249-8e4c-441c-9004-e8e5ed04ed7c",
   "metadata": {},
   "source": [
    "Cuidado con las variables no asignadas. Generan error:"
   ]
  },
  {
   "cell_type": "code",
   "execution_count": 12,
   "id": "d551083f-406f-4835-bf84-a01a104250c7",
   "metadata": {},
   "outputs": [
    {
     "ename": "NameError",
     "evalue": "name 'n' is not defined",
     "output_type": "error",
     "traceback": [
      "\u001b[0;31m---------------------------------------------------------------------------\u001b[0m",
      "\u001b[0;31mNameError\u001b[0m                                 Traceback (most recent call last)",
      "\u001b[0;32m/tmp/ipykernel_135802/2966927032.py\u001b[0m in \u001b[0;36m<module>\u001b[0;34m\u001b[0m\n\u001b[0;32m----> 1\u001b[0;31m \u001b[0mn\u001b[0m \u001b[0;31m# Variable sin asignar\u001b[0m\u001b[0;34m\u001b[0m\u001b[0;34m\u001b[0m\u001b[0m\n\u001b[0m",
      "\u001b[0;31mNameError\u001b[0m: name 'n' is not defined"
     ]
    }
   ],
   "source": [
    "n # Variable sin asignar"
   ]
  },
  {
   "cell_type": "markdown",
   "id": "39a1851f-9b31-4950-b7ea-afef6f8cb132",
   "metadata": {},
   "source": [
    ":::::{important} **Errores en Python**\n",
    "\n",
    "Python resulta ser un programa bastante amable con el programador, es muy específico con los problemas que tiene y permite resolver errores de manera muy sencilla. El mensaje de error hace referencia a una excepción, pues tenemos una sintáxis correcta, pero para Python es imposible ejecutar. \n",
    "\n",
    "````Python\n",
    "---------------------------------------------------------------------------\n",
    "NameError                                 Traceback (most recent call last)\n",
    "/tmp/ipykernel_4603/2966927032.py in <module>\n",
    "----> 1 n # Variable sin asignar\n",
    "\n",
    "NameError: name 'n' is not defined\n",
    "````\n",
    "El intérprete reproduce la línea responsable del error y muestra una pequeña “flecha” que apunta al lugar donde se detectó el error. El error ha sido provocado (o al menos detectado) en el elemento que precede a la flecha: en el ejemplo, el error se detecta en la línea 1 puesto que se llama a `n`, una variable sin asignar. También se muestran: el número de línea para que sepas dónde corregir y en la última línea se indica el tipo de error cometido. En este caso, como se comentó anteriormente, es una excepción provocada porque no hay una asignación previa a la variable `n`.\n",
    "\n",
    "\n",
    ":::::\n",
    "\n",
    "````{tabbed}  Errores de sintaxis\n",
    "\n",
    ":::{admonition} Mala interpretación\n",
    ":class: tip\n",
    "Son errores provocados por el uso incorrecto del lenguaje Python, por ejemplo en el siguiente el error ocurre porque pedimos imprimir dos variables y no usamos la coma para separar:\n",
    "```Python\n",
    "  File \"/tmp/ipykernel_4603/2779427628.py\", line 1\n",
    "    print(Nombre longitud)\n",
    "                 ^\n",
    "SyntaxError: invalid syntax\n",
    "```\n",
    "\n",
    ":::\n",
    "````\n",
    "\n",
    "````{tabbed} Excepciones\n",
    "```{admonition} Problemas en la ejecución\n",
    ":class: tip\n",
    "Como se explico arriba, hace referencia a un problema corregible siempre y cuando se arreglen los problemas de ejecución, veremos que con `try`se podrían ignorar. De ese tipo tenemos:\n",
    "\n",
    "* ZeroDivisionError\n",
    "* NameError\n",
    "* TypeError\n",
    "* NotImplementedError\n",
    "* [Entre otras](https://docs.python.org/es/3/library/exceptions.html#concrete-exceptions)\n",
    "```\n",
    "\n",
    "````"
   ]
  },
  {
   "cell_type": "markdown",
   "id": "e06e8267-8fac-4e9e-8fda-53a53e917b87",
   "metadata": {
    "colab_type": "text",
    "id": "4y3X0kbfHXzW"
   },
   "source": [
    "**Ejemplo**\n",
    "\n",
    "Vamos a empezar a hacer operaciones con variables, en este caso usaremos el operador `+`. Es claro que Python es tan sencillo e intutivo, que sumar diferentes variables indicará una suma, sin embargo, aquí dependemos del tipo de dato que se guarda en la variable; cuando las variables son numéricas, se **suman matemáticamente** y cuando es texto se **concatenan**."
   ]
  },
  {
   "cell_type": "code",
   "execution_count": 10,
   "id": "6c38e466-0395-4b41-ad1d-1ac9187f7fbf",
   "metadata": {
    "colab": {
     "base_uri": "https://localhost:8080/",
     "height": 68
    },
    "colab_type": "code",
    "executionInfo": {
     "elapsed": 533,
     "status": "ok",
     "timestamp": 1566879353852,
     "user": {
      "displayName": "Daniel Montenegro",
      "photoUrl": "",
      "userId": "07275166318289302366"
     },
     "user_tz": 300
    },
    "id": "nMPQKB2jHxuk",
    "outputId": "0e31e345-8858-4df2-a144-434d2fe0d2c2"
   },
   "outputs": [
    {
     "name": "stdout",
     "output_type": "stream",
     "text": [
      "Python is awesome\n",
      "6\n",
      "Python is the number 1\n"
     ]
    }
   ],
   "source": [
    "# Sumar dos textos\n",
    "\n",
    "x = \"Python is \";\n",
    "y = \"awesome\";\n",
    "z =  x + y;\n",
    "print(z);\n",
    "\n",
    "# Sumar dos números\n",
    "\n",
    "n1 = 1;\n",
    "n2 = 5;\n",
    "suma = n1 +n2;\n",
    "print(suma);\n",
    "\n",
    "# Escribir texto y números\n",
    "\n",
    "print(x+\"the number\",n1);"
   ]
  },
  {
   "cell_type": "markdown",
   "id": "30f52a9a-4a6a-4f9b-becd-efaba23ca8ca",
   "metadata": {
    "tags": []
   },
   "source": [
    "## Tipos de datos\n",
    "\n",
    "Los ejemplos anteriores permitieron que interactuara por primera vez con Python, no obstante, las operaciones aritméticas difieren del programa hola_mundo que inicio nuestra travesía programática. Uno de los primeros aspectos son el tipo de dato que se usó, por el lado de hola mundo es una cadena de caractéres, que nosotros conocemos como texto y por el lado de las operaciones números enteros y textos también, antes de iniciar un enredo en la cabeza hablemos de los tipós de datos que admite Python y evitemos aumentar nuestra confusión. \n",
    "\n",
    ":::{note}\n",
    "En ocasiones se definen objetos a partir de paquetes y/o módulos que se entenderan como datos en Python. Evidentemente hoy trabajaremos con los que se tienen por defecto, sin embargo, cada vez que se importa una librería habran nuevos tipos de datos.\n",
    ":::\n",
    "\n",
    "\n"
   ]
  },
  {
   "cell_type": "markdown",
   "id": "578266ba-21b1-40a1-8039-82fee28ee4b5",
   "metadata": {},
   "source": [
    "### Enteros\n",
    "\n",
    "Hace referencia a los valores numéricos, positivos o negativos, que no tienen coma decimal. Como cuando estabamos en secundaria, trabajamos aquí con valores que no admiten partes y que se utilizan en un sin fin de operaciones matemáticas. En la siguiente línea definimos un par de variables enteras, usamos la función `type()`para identificar el tipo de dato con el que lidiamos y calculamos una suma, una resta, una multiplicación y una división:"
   ]
  },
  {
   "cell_type": "code",
   "execution_count": 12,
   "id": "38d01814-6d7e-4104-ba65-39bb2e641768",
   "metadata": {},
   "outputs": [
    {
     "name": "stdout",
     "output_type": "stream",
     "text": [
      "5 es <class 'int'>\n",
      "3 es <class 'int'>\n"
     ]
    }
   ],
   "source": [
    "n1=5\n",
    "n2=3\n",
    "\n",
    "print(n1, 'es',type(n1))\n",
    "print(n2, 'es',type(n2))\n"
   ]
  },
  {
   "cell_type": "code",
   "execution_count": 13,
   "id": "16ef6800-cefa-4dad-a88e-b934c1cc2552",
   "metadata": {},
   "outputs": [
    {
     "name": "stdout",
     "output_type": "stream",
     "text": [
      "8 es <class 'int'>\n"
     ]
    }
   ],
   "source": [
    "suma=n1+n2\n",
    "print(suma, 'es',type(suma))"
   ]
  },
  {
   "cell_type": "code",
   "execution_count": 14,
   "id": "b7f319c2-dee2-4614-a462-7ccb554322b3",
   "metadata": {},
   "outputs": [
    {
     "name": "stdout",
     "output_type": "stream",
     "text": [
      "-2 es <class 'int'>\n"
     ]
    }
   ],
   "source": [
    "resta=n2-n1\n",
    "print(resta, 'es',type(resta))"
   ]
  },
  {
   "cell_type": "code",
   "execution_count": 15,
   "id": "22d60138-5e61-4a4c-a496-d99dc979d138",
   "metadata": {},
   "outputs": [
    {
     "name": "stdout",
     "output_type": "stream",
     "text": [
      "15 es <class 'int'>\n"
     ]
    }
   ],
   "source": [
    "mult=n1*n2\n",
    "print(mult, 'es',type(mult))"
   ]
  },
  {
   "cell_type": "markdown",
   "id": "e2f619d5-b698-4f11-a4f3-3571ff92936e",
   "metadata": {},
   "source": [
    "**Otros operadores aritméticos**\n",
    "\n",
    "Antes de empezar a dividir, vale la pena hacer mención a un par de operaciones aritméticas que no se han mencionado: la división entera `//` y el cálculo de residuo `%`. Corresponde a la división que usamos en nuestra infancia en el que cada número entero se descomponía en un cociente por un divisor más un residuo.\n",
    "\n",
    "Por ejemplo, si dividimos de forma entera a 20 entre 6, el cociente es 3 y su residuo es 2:\n",
    "\n",
    "$$\n",
    "20=6\\times 3+2\n",
    "$$\n",
    "\n",
    "La forma de calcular ese cociente es utilizando la división entera (`//`) y la forma de calcular el residuo es utilizando el operador módulo (`%`)\n",
    "\n"
   ]
  },
  {
   "cell_type": "code",
   "execution_count": 36,
   "id": "63982ce8-afa9-4da3-9a1a-5b3df2acef37",
   "metadata": {},
   "outputs": [
    {
     "data": {
      "text/plain": [
       "3"
      ]
     },
     "execution_count": 36,
     "metadata": {},
     "output_type": "execute_result"
    }
   ],
   "source": [
    "20//6"
   ]
  },
  {
   "cell_type": "code",
   "execution_count": 37,
   "id": "c01284b8-26d8-4179-8295-259d2325f551",
   "metadata": {},
   "outputs": [
    {
     "data": {
      "text/plain": [
       "2"
      ]
     },
     "execution_count": 37,
     "metadata": {},
     "output_type": "execute_result"
    }
   ],
   "source": [
    "20%6"
   ]
  },
  {
   "cell_type": "markdown",
   "id": "60016c70-a34f-4ddc-bf22-20e27d21f808",
   "metadata": {},
   "source": [
    "De forma, más general:"
   ]
  },
  {
   "cell_type": "code",
   "execution_count": 39,
   "id": "90846370-296c-4bd9-a23e-3101daea6f86",
   "metadata": {},
   "outputs": [
    {
     "name": "stdout",
     "output_type": "stream",
     "text": [
      "20 = 3 * 6 + 2\n",
      "3 es <class 'int'>\n",
      "2 es <class 'int'>\n"
     ]
    }
   ],
   "source": [
    "n=20\n",
    "d=6\n",
    "\n",
    "print(n,'=',n//d,'*',d,'+',n%d)\n",
    "print(n//d, 'es',type(n//d))\n",
    "print(n%d, 'es',type(n%d))"
   ]
  },
  {
   "cell_type": "markdown",
   "id": "4f55bd01-f840-4596-9135-486d9f625de9",
   "metadata": {},
   "source": [
    "### Coma flotante\n",
    "\n",
    "Hasta ahora se puede ver que todos nuestros cálculos generan enteros, eso es porque al calcular el tipo de dato aparece `<class 'int'>`, *int* proviene de *integer* que es entero en inglés. Sin embargo,  es bien sabido por la comunidad de estudiantes que al momento de dividir es posible que aparezcan decimales, ese tipo de dato debe cambiar:\n",
    "\n"
   ]
  },
  {
   "cell_type": "code",
   "execution_count": 16,
   "id": "c36b9b49-8139-415a-83ed-1389a0978514",
   "metadata": {},
   "outputs": [
    {
     "name": "stdout",
     "output_type": "stream",
     "text": [
      "1.6666666666666667 es <class 'float'>\n"
     ]
    }
   ],
   "source": [
    "divi=n1/n2\n",
    "print(divi, 'es',type(divi))"
   ]
  },
  {
   "cell_type": "markdown",
   "id": "585fac5b-cf44-4a1f-adf0-2e34648c92db",
   "metadata": {},
   "source": [
    "El anterior ejemplo hace referencia a la notación de coma flotante usada en los computadores para representar los números reales. Utiliza la idea detras de la notación científica guardando las cifras significativas del número y el exponente que indica la posición de la coma decimal. Los números en Python que contengan una parte decimal se convierten en número representados en coma flotante, en ingles `float`."
   ]
  },
  {
   "cell_type": "code",
   "execution_count": 19,
   "id": "231fa044-08bb-4bd7-84b3-fad5ca181b28",
   "metadata": {},
   "outputs": [
    {
     "name": "stdout",
     "output_type": "stream",
     "text": [
      "5.3 es <class 'float'>\n",
      "8.0 es <class 'float'>\n"
     ]
    }
   ],
   "source": [
    "n1=5.3\n",
    "n2=8.0\n",
    "print(n1, 'es',type(n1))\n",
    "print(n2, 'es',type(n2))"
   ]
  },
  {
   "cell_type": "markdown",
   "id": "57471db3-59db-4ce1-af14-8265bbd82cfd",
   "metadata": {},
   "source": [
    "Conceptualmente 8.0 es un número entero, pero incluir el punto exige que python ubique la como, por eso se convierte en un número flotante."
   ]
  },
  {
   "cell_type": "markdown",
   "id": "41daf1c1-d7ed-4874-95da-118aad60e81f",
   "metadata": {},
   "source": [
    "### Boleanos\n",
    "\n",
    "Otro tipo de datos utilizado ampliamente en Python, y muchas veces sin que el programador se entere, es el dato booleano. Simplemente indica dos valores `True` (Verdadero) o `False`(Falso). Este tipo de información será bastante útil en algunas estructuras de programación elemental, además se puede entender como la presencia/ausencia de una característica medida en el programa. Su definición es simple, pero se puede ayudar por preguntas que le podemos hacer a python a partir de operadores de comparación o operadores lógicos, similares a los operadores aritméticos pero cuya respuesta es `True`o `False`."
   ]
  },
  {
   "cell_type": "code",
   "execution_count": 20,
   "id": "7b9edf86-ad9b-4ca3-b6fe-fe8d79ed262c",
   "metadata": {},
   "outputs": [
    {
     "name": "stdout",
     "output_type": "stream",
     "text": [
      "True es <class 'bool'>\n"
     ]
    }
   ],
   "source": [
    "x=True\n",
    "print(x,'es',type(x))"
   ]
  },
  {
   "cell_type": "code",
   "execution_count": 21,
   "id": "5219d686-0f21-4161-9b49-fd47b85210bc",
   "metadata": {},
   "outputs": [
    {
     "name": "stdout",
     "output_type": "stream",
     "text": [
      "False es <class 'bool'>\n"
     ]
    }
   ],
   "source": [
    "y=False\n",
    "print(y,'es',type(y))"
   ]
  },
  {
   "cell_type": "markdown",
   "id": "d19b4be8-9e68-49e4-97a8-68faa8ee567b",
   "metadata": {},
   "source": [
    "**Operadores de comparación:**\n",
    "\n",
    "Python es capaz de comparar información, utiliza los operadores habituales que me permiten hacer comparaciones aritméticas: la igualdad (`==`), la diferencia (`!=`), mayor que (`>`), menor que (`<`), mayor o igual que (`>=`) y ,enor o igual que (`<=`)."
   ]
  },
  {
   "cell_type": "code",
   "execution_count": 22,
   "id": "66c42b14-5a42-481e-8530-5a57b338fed8",
   "metadata": {},
   "outputs": [
    {
     "data": {
      "text/plain": [
       "False"
      ]
     },
     "execution_count": 22,
     "metadata": {},
     "output_type": "execute_result"
    }
   ],
   "source": [
    "4==3 # Preguntamos si 4 es igual a 3"
   ]
  },
  {
   "cell_type": "markdown",
   "id": "dc7fc09f-f626-4c49-92b3-5300f8ff0d56",
   "metadata": {},
   "source": [
    "Podemos guardarlo en una variable, se recomienda usar paréntesis:"
   ]
  },
  {
   "cell_type": "code",
   "execution_count": 24,
   "id": "227b5446-1aaf-4bd3-ab24-6399ee6ddf4a",
   "metadata": {},
   "outputs": [
    {
     "name": "stdout",
     "output_type": "stream",
     "text": [
      "False es <class 'bool'>\n"
     ]
    }
   ],
   "source": [
    "x=(4==3)\n",
    "print(x,'es',type(x))"
   ]
  },
  {
   "cell_type": "code",
   "execution_count": 25,
   "id": "adc08a4b-e589-4ffe-9978-b398d6cd5e24",
   "metadata": {},
   "outputs": [
    {
     "data": {
      "text/plain": [
       "True"
      ]
     },
     "execution_count": 25,
     "metadata": {},
     "output_type": "execute_result"
    }
   ],
   "source": [
    "3!=5 #Preguntamos si 3 es diferente de 5"
   ]
  },
  {
   "cell_type": "code",
   "execution_count": 27,
   "id": "ae147f1e-0831-49f2-bd87-7c143e7858e4",
   "metadata": {},
   "outputs": [
    {
     "data": {
      "text/plain": [
       "True"
      ]
     },
     "execution_count": 27,
     "metadata": {},
     "output_type": "execute_result"
    }
   ],
   "source": [
    "3<5  #Preguntamos si 3 es menor que 5"
   ]
  },
  {
   "cell_type": "markdown",
   "id": "b41aa210-fb9b-4990-9f2f-a347bfcfbda2",
   "metadata": {},
   "source": [
    "**Operadores lógicos**\n",
    "\n",
    "Así como pudimos comparar datos, podemos armar expresiones lógicas complejas formandolas con operadores booleanos. Entre los más conocidos tenemos:\n",
    "\n",
    "**Conjunción (AND)**\n",
    "\n",
    "Verdadera si ambas sentencias lógicas son verdaderas, en otro caso falsa:"
   ]
  },
  {
   "cell_type": "code",
   "execution_count": 29,
   "id": "d6214cfd-ebaf-448b-b086-cc026763f18e",
   "metadata": {},
   "outputs": [
    {
     "data": {
      "text/plain": [
       "True"
      ]
     },
     "execution_count": 29,
     "metadata": {},
     "output_type": "execute_result"
    }
   ],
   "source": [
    "(4!=3) and (5==5) "
   ]
  },
  {
   "cell_type": "code",
   "execution_count": 30,
   "id": "51704537-25f8-436b-bae9-09b97bd8bb20",
   "metadata": {},
   "outputs": [
    {
     "data": {
      "text/plain": [
       "False"
      ]
     },
     "execution_count": 30,
     "metadata": {},
     "output_type": "execute_result"
    }
   ],
   "source": [
    "(4!=4) and (5==5) "
   ]
  },
  {
   "cell_type": "markdown",
   "id": "a764135b-c162-44cc-9d8a-0917d3fc8db7",
   "metadata": {},
   "source": [
    "**Disyunción (OR)**\n",
    "\n",
    "Falsa si ambas sentencias lógicas son falsas, en otro caso verdadero:"
   ]
  },
  {
   "cell_type": "code",
   "execution_count": 31,
   "id": "e74b857e-0c52-4586-87bb-fc013a10e742",
   "metadata": {},
   "outputs": [
    {
     "data": {
      "text/plain": [
       "True"
      ]
     },
     "execution_count": 31,
     "metadata": {},
     "output_type": "execute_result"
    }
   ],
   "source": [
    "(4!=4) or (5==5) "
   ]
  },
  {
   "cell_type": "code",
   "execution_count": 33,
   "id": "af769fe5-05da-456a-b18a-bcdb7f415554",
   "metadata": {},
   "outputs": [
    {
     "data": {
      "text/plain": [
       "False"
      ]
     },
     "execution_count": 33,
     "metadata": {},
     "output_type": "execute_result"
    }
   ],
   "source": [
    "(4!=4) or (5!=5) "
   ]
  },
  {
   "cell_type": "markdown",
   "id": "68b23894-36d9-414f-8863-d8164e428208",
   "metadata": {},
   "source": [
    "**Negación (NOT)**\n",
    "\n",
    "Cambia el valor de la variable booleana:"
   ]
  },
  {
   "cell_type": "code",
   "execution_count": 34,
   "id": "0489c654-d03d-49b5-98cd-50c6f07ddc2a",
   "metadata": {},
   "outputs": [
    {
     "data": {
      "text/plain": [
       "False"
      ]
     },
     "execution_count": 34,
     "metadata": {},
     "output_type": "execute_result"
    }
   ],
   "source": [
    "not (4==4)"
   ]
  },
  {
   "cell_type": "code",
   "execution_count": 35,
   "id": "8b760470-5a1d-4240-841f-1b953453b266",
   "metadata": {},
   "outputs": [
    {
     "data": {
      "text/plain": [
       "True"
      ]
     },
     "execution_count": 35,
     "metadata": {},
     "output_type": "execute_result"
    }
   ],
   "source": [
    "not (4!=4)"
   ]
  },
  {
   "cell_type": "markdown",
   "id": "e3c3cb00-a92c-4c64-90f7-29c9b9326e2d",
   "metadata": {
    "tags": []
   },
   "source": [
    "### Textos (Strings)\n",
    "\n",
    "Los textos son expresiones que representan una cadena de caracteres, utiles para escribir mensajes y combinarlos con valores que generemos en nuestros procesamientos. Para guardar un texto en Python usamos comillas simples: `'...'` o comillas dobles: `\"...\"`. Es posible utilizar dos tipos de comillas, puesto que en algunas ocasiones la comilla es necesaria para el texto:  "
   ]
  },
  {
   "cell_type": "markdown",
   "id": "bfb9930d-5b4e-48d1-b604-1c5e70e26599",
   "metadata": {},
   "source": [
    "Usemos los diferentes tipos de comillas para generar texto:"
   ]
  },
  {
   "cell_type": "code",
   "execution_count": null,
   "id": "d3c93dd8-845f-4609-a6d6-77070876e3a7",
   "metadata": {},
   "outputs": [],
   "source": [
    "a='Texto simple escrito entre comillas simples'\n",
    "print(a)\n",
    "a"
   ]
  },
  {
   "cell_type": "code",
   "execution_count": null,
   "id": "eed9f2a1-c208-46a8-a089-977bdda3515f",
   "metadata": {},
   "outputs": [],
   "source": [
    "b='Texto simple escrito entre comillas dobles'\n",
    "print(b)\n",
    "b"
   ]
  },
  {
   "cell_type": "code",
   "execution_count": 40,
   "id": "77f46dde-1420-4477-8808-a2610664a501",
   "metadata": {},
   "outputs": [
    {
     "name": "stdout",
     "output_type": "stream",
     "text": [
      "Texto simple escrito entre comillas simples que necesita \"adentrico\" comillas dobles\n"
     ]
    },
    {
     "data": {
      "text/plain": [
       "'Texto simple escrito entre comillas simples que necesita \"adentrico\" comillas dobles'"
      ]
     },
     "execution_count": 40,
     "metadata": {},
     "output_type": "execute_result"
    }
   ],
   "source": [
    "c='Texto simple escrito entre comillas simples que necesita \"adentrico\" comillas dobles'\n",
    "print(c)\n",
    "c"
   ]
  },
  {
   "cell_type": "code",
   "execution_count": 41,
   "id": "11f02055-4046-41e5-be26-c1454538a98b",
   "metadata": {},
   "outputs": [
    {
     "name": "stdout",
     "output_type": "stream",
     "text": [
      "Texto simple escrito entre comillas dobles que necesita 'adentrico' comillas simples\n"
     ]
    },
    {
     "data": {
      "text/plain": [
       "\"Texto simple escrito entre comillas dobles que necesita 'adentrico' comillas simples\""
      ]
     },
     "execution_count": 41,
     "metadata": {},
     "output_type": "execute_result"
    }
   ],
   "source": [
    "d=\"Texto simple escrito entre comillas dobles que necesita 'adentrico' comillas simples\"\n",
    "print(d)\n",
    "d"
   ]
  },
  {
   "cell_type": "markdown",
   "id": "0d0e13bc-3926-4211-89f0-93d8f95419a7",
   "metadata": {},
   "source": [
    ":::{note}\n",
    "No hay diferencia en guardar un texto en comillas simples o dobles. No obstante, para Python un texto que contenga comillas simples es diferente a un texto que contenga comillas dobles.\n",
    ":::"
   ]
  },
  {
   "cell_type": "code",
   "execution_count": 43,
   "id": "e388a9ce-95a7-4d04-900f-586d577b15c5",
   "metadata": {},
   "outputs": [
    {
     "name": "stdout",
     "output_type": "stream",
     "text": [
      "True\n"
     ]
    }
   ],
   "source": [
    "text1=\"Primer texto\"\n",
    "text2= 'Primer texto'\n",
    "print(text1==text2)"
   ]
  },
  {
   "cell_type": "code",
   "execution_count": 44,
   "id": "82fa5e08-73d6-4065-a5aa-3100d8822f7a",
   "metadata": {},
   "outputs": [
    {
     "name": "stdout",
     "output_type": "stream",
     "text": [
      "False\n"
     ]
    }
   ],
   "source": [
    "text1=\"'Primer' texto\"\n",
    "text2= '\"Primer\" texto'\n",
    "print(text1==text2)"
   ]
  },
  {
   "cell_type": "markdown",
   "id": "61359bd4-c0db-49aa-8522-a4cd25fd8b6d",
   "metadata": {},
   "source": [
    "Como vimos, la función print es la que nos permite imprimir estos mensajes. El texto \\n indica una nueva linea en el texto:"
   ]
  },
  {
   "cell_type": "code",
   "execution_count": null,
   "id": "55427283-9090-4836-806a-2702e0465ca4",
   "metadata": {},
   "outputs": [],
   "source": [
    "print(\"Una línea\\notra línea\")"
   ]
  },
  {
   "cell_type": "markdown",
   "id": "07d4cf4a-3838-48f1-93ff-ca8c879c4a9d",
   "metadata": {},
   "source": [
    "No obstante, a veces necesitamos escribir  \\n en un mensaje:"
   ]
  },
  {
   "cell_type": "code",
   "execution_count": null,
   "id": "86882e11-1d0d-42ec-8d40-e8ffb1d224e1",
   "metadata": {},
   "outputs": [],
   "source": [
    "print('La ruta del archivo es C:\\nombres\\archivo.ipynb')"
   ]
  },
  {
   "cell_type": "markdown",
   "id": "f6850010-7440-4f53-b8d1-2ffc275922e1",
   "metadata": {},
   "source": [
    "En este caso la aparición de \\ daño el mensaje, para resolver el problema escribimos r antes:"
   ]
  },
  {
   "cell_type": "code",
   "execution_count": null,
   "id": "a502ddc9-363c-4561-be01-98afde48922b",
   "metadata": {},
   "outputs": [],
   "source": [
    "print(r'La ruta del archivo es C:\\nombres\\archivo.ipynb')"
   ]
  },
  {
   "cell_type": "markdown",
   "id": "d9b75d76-5705-4790-b5b9-0d1db8ee62f3",
   "metadata": {},
   "source": [
    "Podemos recorrer los caractéres de la cadena de texto de la siguiente forma:\n",
    "\n",
    "<div style=\"width: 100%;\"><div style=\"position: relative; padding-bottom: 25.00%; padding-top: 0; height: 0;\"><iframe frameborder=\"0\" width=\"800\" height=\"200\" style=\"position: absolute; top: 0; left: 0; width: 100%; height: 100%;\" src=\"https://view.genial.ly/618a7952e627160d7b52aba1\" type=\"text/html\" allowscriptaccess=\"always\" allowfullscreen=\"true\" scrolling=\"yes\" allownetworking=\"all\"></iframe> </div> </div>\n"
   ]
  },
  {
   "cell_type": "markdown",
   "id": "2b594b42-1948-40c9-b636-266865791db5",
   "metadata": {},
   "source": [
    "En el ejemplo utilizamos el texto `'Hola mundo'` y el número arriba indica la posición o índice de cada caracter:"
   ]
  },
  {
   "cell_type": "code",
   "execution_count": 47,
   "id": "19e6d149-1c18-4882-851a-fdb809191313",
   "metadata": {},
   "outputs": [
    {
     "name": "stdout",
     "output_type": "stream",
     "text": [
      "Hola mundo\n"
     ]
    }
   ],
   "source": [
    "texto='Hola mundo'\n",
    "print(texto)"
   ]
  },
  {
   "cell_type": "markdown",
   "id": "4223c252-a33c-40dc-a08c-03a7fd3df904",
   "metadata": {},
   "source": [
    "Cada número arriba indica la posición, accedemos a esa posición llamando a la variable y con paréntesis cuadrados indicamos el acceso al valor indicado:"
   ]
  },
  {
   "cell_type": "code",
   "execution_count": 48,
   "id": "aa98e9a1-ed32-4944-bc66-b17fe12825d7",
   "metadata": {},
   "outputs": [
    {
     "data": {
      "text/plain": [
       "'H'"
      ]
     },
     "execution_count": 48,
     "metadata": {},
     "output_type": "execute_result"
    }
   ],
   "source": [
    "texto[0]"
   ]
  },
  {
   "cell_type": "code",
   "execution_count": 49,
   "id": "089f2057-2a87-462d-aa7e-ad9f55f4f334",
   "metadata": {},
   "outputs": [
    {
     "data": {
      "text/plain": [
       "' '"
      ]
     },
     "execution_count": 49,
     "metadata": {},
     "output_type": "execute_result"
    }
   ],
   "source": [
    "texto[4]"
   ]
  },
  {
   "cell_type": "code",
   "execution_count": 50,
   "id": "b38538ba-b685-43a3-b0b2-4bb08e0c4ed1",
   "metadata": {},
   "outputs": [
    {
     "data": {
      "text/plain": [
       "'o'"
      ]
     },
     "execution_count": 50,
     "metadata": {},
     "output_type": "execute_result"
    }
   ],
   "source": [
    "texto[9]"
   ]
  },
  {
   "cell_type": "markdown",
   "id": "8b00302a-027b-47d7-b5a3-47b0a81489cf",
   "metadata": {},
   "source": [
    "Podemos tomar un subtexto, en Python los rangos se simbolizan con dos puntos y toman desde el índice indicado en el inicio hasta el índice anterior al final."
   ]
  },
  {
   "cell_type": "code",
   "execution_count": 51,
   "id": "c07301f4-33ff-4203-ab36-106b802d4040",
   "metadata": {},
   "outputs": [
    {
     "data": {
      "text/plain": [
       "'Hola '"
      ]
     },
     "execution_count": 51,
     "metadata": {},
     "output_type": "execute_result"
    }
   ],
   "source": [
    "texto[0:5]"
   ]
  },
  {
   "cell_type": "markdown",
   "id": "37b70ff2-bc2d-43f9-acc3-9b80c28c82e8",
   "metadata": {},
   "source": [
    "Note que el anterior mostro el subtexto que contiene los valores con indice [0], [1], [2], [3] y  [4]. El carcater [5] no apareció."
   ]
  },
  {
   "cell_type": "code",
   "execution_count": 52,
   "id": "8f9b2a08-6afa-4519-8e78-0d2160230515",
   "metadata": {},
   "outputs": [
    {
     "data": {
      "text/plain": [
       "'mund'"
      ]
     },
     "execution_count": 52,
     "metadata": {},
     "output_type": "execute_result"
    }
   ],
   "source": [
    "texto[5:9]"
   ]
  },
  {
   "cell_type": "markdown",
   "id": "af0d559d-539a-4bc5-8712-634b43eaf468",
   "metadata": {},
   "source": [
    "claramente el tipo de dato cambia, en python hace referencia a `str` que indica que es una cade de caractéres, `String`."
   ]
  },
  {
   "cell_type": "code",
   "execution_count": 57,
   "id": "035e33d9-0e41-4e88-82cd-2cbf4753c7ff",
   "metadata": {},
   "outputs": [
    {
     "name": "stdout",
     "output_type": "stream",
     "text": [
      "Hola mundo es <class 'str'>\n"
     ]
    }
   ],
   "source": [
    "print(texto,'es',type(texto))"
   ]
  },
  {
   "cell_type": "markdown",
   "id": "4a99bdac",
   "metadata": {
    "tags": []
   },
   "source": [
    "### Repaso\n",
    "\n",
    "Como vimos anteriormente, en Python la asignación de valores a variables se hace con el operador `=`, a la variable de la izquierda le asignamos el valor de la derecha.\n",
    "\n",
    ":::{admonition} Tip\n",
    ":class: tip \n",
    "En pro de hacer amena la lectura del código, es recomendable asignar nombres relacionados con el problema que se está programando. En el ejemplo siguiente se calcula el área de un triángulo. Esplique las diferencias entre los dos códigos.\n",
    ":::"
   ]
  },
  {
   "cell_type": "markdown",
   "id": "bcb8c696-b8b1-44a1-9bf2-2b8d13507130",
   "metadata": {},
   "source": [
    "**Código 1**"
   ]
  },
  {
   "cell_type": "code",
   "execution_count": 14,
   "id": "fdaa13cc",
   "metadata": {},
   "outputs": [],
   "source": [
    "base = 1\n",
    "altura = 2\n",
    "area = base*altura"
   ]
  },
  {
   "cell_type": "markdown",
   "id": "77921be7-d361-4c99-92b9-2bab49415495",
   "metadata": {},
   "source": [
    "**Código 2**"
   ]
  },
  {
   "cell_type": "code",
   "execution_count": 15,
   "id": "5918cafa",
   "metadata": {
    "tags": []
   },
   "outputs": [],
   "source": [
    "a = 1\n",
    "b = 2\n",
    "c = a*b"
   ]
  },
  {
   "cell_type": "markdown",
   "id": "9d0bb180",
   "metadata": {},
   "source": [
    "\n",
    ":::{note}\n",
    "Los dos códigos anteriores para Python son iguales, pero para el lector es más fácil identificar el error en el primero que en el segundo, por ello, es mejor utilizar el primer código que el segundo.\n",
    ":::\n"
   ]
  },
  {
   "cell_type": "markdown",
   "id": "deb35478-f4c7-4ce0-82f0-a827a09af521",
   "metadata": {},
   "source": [
    ":::{admonition} Recordemos ...\n",
    "Las variables no pueden tener algunos nombres, que son palabras reservadas por Python, estas palabras son:\n",
    "*and, as, assert, break, class, continue, def, del, elif, else, except,\n",
    "False, finally, for, from, global, if, import, in, is, lambda, nonlocal, None, not, or,\n",
    "pass, raise, return, True, try, while, with* y *yield*.\n",
    ":::"
   ]
  },
  {
   "cell_type": "markdown",
   "id": "a52493ef-dbcc-468f-a974-f2b9a13eed85",
   "metadata": {},
   "source": [
    ":::{admonition} Tip\n",
    ":class: tip \n",
    "Si deseamos hacer mucho más fácil la lectura del código, podemos agregar comentarios, los cuales van antecedidos de `#`, es decir, \n",
    ":::\n"
   ]
  },
  {
   "cell_type": "code",
   "execution_count": 53,
   "id": "61a15177",
   "metadata": {},
   "outputs": [],
   "source": [
    "base = 1 #Base del triángulo\n",
    "altura = 2 #Altura del triángulo\n",
    "area = base*altura/2 #Cálculo del área de un triángulo"
   ]
  },
  {
   "cell_type": "markdown",
   "id": "730c2622",
   "metadata": {},
   "source": [
    "Si deseamos definir múltiples variables, aprovechamos las ventajas de Python para este hecho, por ejemplo:"
   ]
  },
  {
   "cell_type": "code",
   "execution_count": 54,
   "id": "897b6530",
   "metadata": {},
   "outputs": [],
   "source": [
    "base, altura= 1,2 #Base y altura del triángulo\n",
    "area = base*altura/2 #Cálculo del área de un triángulo"
   ]
  },
  {
   "cell_type": "markdown",
   "id": "32bf6495",
   "metadata": {},
   "source": [
    ":::{admonition} Recordemos ...\n",
    ":class: tip\n",
    "Condiciones que deben cumplir los nombres de las variables:\n",
    "* El nombre de una variable debe comenzar con una letra ó con _ .\n",
    "* El nombre de una variable no puede comenzar con un número.\n",
    "* El nombre de una variable sólo puede contener carácteres alfa-numéricos.\n",
    "* El nombre de una variable tiene sensibilidad a mayúsculas y minúsculas (x es diferente de X).\n",
    ":::"
   ]
  },
  {
   "cell_type": "markdown",
   "id": "941ebe44-41ef-4471-a831-6e9d3245c346",
   "metadata": {},
   "source": [
    "\n",
    "**Textos**\n",
    "\n",
    "Recordemos que un tipo de variables muy utilizadas son las que contienen texto en ellas, como por ejemplo:"
   ]
  },
  {
   "cell_type": "code",
   "execution_count": 18,
   "id": "4d6815e1",
   "metadata": {},
   "outputs": [],
   "source": [
    "z = \"Hola mundo\" #El texto también puede ir entre comillas sencillas, así: z = 'Hola mundo'"
   ]
  },
  {
   "cell_type": "markdown",
   "id": "4b1d0ebe",
   "metadata": {},
   "source": [
    "Para imprimir los valores de diferentes variables, utilizamos el comando `print`"
   ]
  },
  {
   "cell_type": "code",
   "execution_count": 19,
   "id": "fdd71007",
   "metadata": {},
   "outputs": [
    {
     "name": "stdout",
     "output_type": "stream",
     "text": [
      "Hola mundo\n"
     ]
    }
   ],
   "source": [
    "print(z)"
   ]
  },
  {
   "cell_type": "code",
   "execution_count": 20,
   "id": "79f1a080",
   "metadata": {},
   "outputs": [
    {
     "name": "stdout",
     "output_type": "stream",
     "text": [
      "1 Hola mundo\n"
     ]
    }
   ],
   "source": [
    "print(a,z)"
   ]
  },
  {
   "cell_type": "code",
   "execution_count": 21,
   "id": "b56c6e9d",
   "metadata": {},
   "outputs": [
    {
     "name": "stdout",
     "output_type": "stream",
     "text": [
      "1 Hola mundo 1.0\n"
     ]
    }
   ],
   "source": [
    "print(a,z,area)"
   ]
  },
  {
   "cell_type": "code",
   "execution_count": 22,
   "id": "f9214fe6",
   "metadata": {},
   "outputs": [
    {
     "name": "stdout",
     "output_type": "stream",
     "text": [
      "El valor de a es: 1\n"
     ]
    }
   ],
   "source": [
    "print('El valor de a es:',a) #Nota que la separación entre los elementos es un espacio"
   ]
  },
  {
   "cell_type": "code",
   "execution_count": 23,
   "id": "b9a5312d",
   "metadata": {},
   "outputs": [
    {
     "name": "stdout",
     "output_type": "stream",
     "text": [
      "1\n",
      "Hola mundo\n",
      "1.0\n"
     ]
    }
   ],
   "source": [
    "print(a,z,area,sep='\\n') #Con esta opción podemos nodificar la separación"
   ]
  },
  {
   "cell_type": "markdown",
   "id": "81690202",
   "metadata": {},
   "source": [
    "Sobre las variables tipo `str`, podemos aplicar la función `len` para medir la cantidad de caracteres que hay en la variable:"
   ]
  },
  {
   "cell_type": "code",
   "execution_count": 24,
   "id": "09acb1bb",
   "metadata": {},
   "outputs": [
    {
     "data": {
      "text/plain": [
       "10"
      ]
     },
     "execution_count": 24,
     "metadata": {},
     "output_type": "execute_result"
    }
   ],
   "source": [
    "len(z) #El espacio cuenta como un caracter"
   ]
  },
  {
   "cell_type": "code",
   "execution_count": 25,
   "id": "f98d7aa4",
   "metadata": {},
   "outputs": [],
   "source": [
    "w = 'hoy es un gran día'"
   ]
  },
  {
   "cell_type": "markdown",
   "id": "ddf6c499",
   "metadata": {},
   "source": [
    "Las variables tipo `str` se pueden operar:"
   ]
  },
  {
   "cell_type": "code",
   "execution_count": 26,
   "id": "6e3a79dd",
   "metadata": {},
   "outputs": [
    {
     "name": "stdout",
     "output_type": "stream",
     "text": [
      "Hola mundohoy es un gran día\n"
     ]
    }
   ],
   "source": [
    "print(z+w)"
   ]
  },
  {
   "cell_type": "code",
   "execution_count": 27,
   "id": "47c5e7f1",
   "metadata": {},
   "outputs": [
    {
     "name": "stdout",
     "output_type": "stream",
     "text": [
      "Hola mundo hoy es un gran día\n"
     ]
    }
   ],
   "source": [
    "print(z+' '+w)"
   ]
  },
  {
   "cell_type": "code",
   "execution_count": 28,
   "id": "8d06c173",
   "metadata": {},
   "outputs": [
    {
     "name": "stdout",
     "output_type": "stream",
     "text": [
      "Hola mundoHola mundoHola mundo\n"
     ]
    }
   ],
   "source": [
    "print(3*z)"
   ]
  },
  {
   "cell_type": "markdown",
   "id": "874fc404",
   "metadata": {},
   "source": [
    "Si deseamos escribir comillas en una variable tipo `str`, debemos definir la variable con comillas dobles y las comillas que deseamos deben ser sencillas, o viceversa. De manera más general, podemos definir la variable con comillas triples:"
   ]
  },
  {
   "cell_type": "code",
   "execution_count": 29,
   "id": "ddcb6773",
   "metadata": {},
   "outputs": [
    {
     "name": "stdout",
     "output_type": "stream",
     "text": [
      "Así ponemos comillas 'sencillas' Así ponemos comillas \"dobles\"  Y así 'podemos' usar cualquier tipo de \"comillas\"\n"
     ]
    }
   ],
   "source": [
    "z1 = \"Así ponemos comillas 'sencillas'\"\n",
    "z2 = 'Así ponemos comillas \"dobles\"'\n",
    "z3 = ''' Y así 'podemos' usar cualquier tipo de \"comillas\"'''\n",
    "print(z1,z2,z3)"
   ]
  },
  {
   "cell_type": "markdown",
   "id": "a1bb4701",
   "metadata": {},
   "source": [
    ":::{admonition} Tip\n",
    ":class: tip \n",
    "Si tenemos una variable tipo `str` la cual queremos volver una variable de tipo numérico, en caso que su contenido lo permita, tenemos las siguientes funciones:\n",
    ":::\n"
   ]
  },
  {
   "cell_type": "code",
   "execution_count": 55,
   "id": "babf8854",
   "metadata": {},
   "outputs": [],
   "source": [
    "n = '2'"
   ]
  },
  {
   "cell_type": "code",
   "execution_count": 56,
   "id": "26ed99e1",
   "metadata": {},
   "outputs": [
    {
     "name": "stdout",
     "output_type": "stream",
     "text": [
      "El tipo de n es:\n",
      "<class 'str'>\n",
      "Si lo queremos volver entero:\n",
      "2\n",
      "<class 'int'>\n",
      "Si lo queremos volver float:\n",
      "2.0\n",
      "<class 'float'>\n"
     ]
    }
   ],
   "source": [
    "print('El tipo de n es:',type(n),\n",
    "      'Si lo queremos volver entero:',int(n),type(int(n)),\n",
    "      'Si lo queremos volver float:',float(n),type(float(n)),sep='\\n')\n",
    "#Nota que podemos separar las entradas de la función con un salto de línea, para hacer más fácil la lectura o para no perder valores de vista como pasa con este comentario"
   ]
  },
  {
   "cell_type": "markdown",
   "id": "10d6aeb5",
   "metadata": {},
   "source": [
    "**Entrada de texto a la máquina:**\n",
    "\n",
    "En muchas oportunidades es de gran utilidad establecer líneas de interacción entre el usuario y la máquina, de tal forma, que el usuario pueda ingresar información a medida que se ejecuta cierto código, para ello tenemos a nuestra disposición la función `input`:\n",
    "\n"
   ]
  },
  {
   "cell_type": "code",
   "execution_count": 58,
   "id": "02ad69f2",
   "metadata": {},
   "outputs": [
    {
     "name": "stdin",
     "output_type": "stream",
     "text": [
      "texto que aparece, aclarando la entrada que se pretende modificar:  54542\n"
     ]
    },
    {
     "data": {
      "text/plain": [
       "'54542'"
      ]
     },
     "execution_count": 58,
     "metadata": {},
     "output_type": "execute_result"
    }
   ],
   "source": [
    "input('texto que aparece, aclarando la entrada que se pretende modificar: ')"
   ]
  },
  {
   "cell_type": "markdown",
   "id": "6a4b9616",
   "metadata": {},
   "source": [
    "Como podemos ver, el retorno de la función `input`, es una cadena de caracteres, por lo tanto, si deseamos transformar tales valores debemos utilizar las funciones que mencionamos anteriormente `int` y/o `float`."
   ]
  },
  {
   "cell_type": "markdown",
   "id": "7f5f3865-9e9c-4b20-bec4-17a3db8ea1ce",
   "metadata": {},
   "source": [
    "### Ejercicio\n",
    "\n",
    "Ingresar el salario desado:"
   ]
  },
  {
   "cell_type": "code",
   "execution_count": 60,
   "id": "a4f218bb",
   "metadata": {},
   "outputs": [
    {
     "name": "stdin",
     "output_type": "stream",
     "text": [
      "Ingresa el valor del salario que te gustaría ganar cuando termines el pregrado (en pesos sin puntos ni comas):  1223\n"
     ]
    }
   ],
   "source": [
    "salario = float(input(\n",
    "    'Ingresa el valor del salario que te gustaría ganar cuando termines el pregrado (en pesos sin puntos ni comas): '))"
   ]
  },
  {
   "cell_type": "markdown",
   "id": "3094e33f",
   "metadata": {},
   "source": [
    "Muchas veces, a la hora de mostrar los valores que hemos guardado, debemos darles formato, para ello podemos tener en cuenta las siguientes opciones de la función `print`:"
   ]
  },
  {
   "cell_type": "code",
   "execution_count": 64,
   "id": "c0756ceb-86e0-4ddc-a48b-86c84321c011",
   "metadata": {},
   "outputs": [
    {
     "name": "stdout",
     "output_type": "stream",
     "text": [
      "El salario al que aspiras es: 1223.0\n",
      "Pero se vería mejor con la separación en miles: $1,223.000000\n"
     ]
    }
   ],
   "source": [
    "print(\"El salario al que aspiras es:\", salario)\n",
    "print(\"Pero se vería mejor con la separación en miles: ${0:8,f}\".format(salario))"
   ]
  },
  {
   "cell_type": "markdown",
   "id": "c7deed21-ec6a-4261-aaf6-99dc89c2ab27",
   "metadata": {},
   "source": [
    "`{0:8,f}` En el código anterior0 indica la posición del elemento que imprimiremos, el 8 la cantidad de espacios para reservar e imprimir el  número pero no afectará ya que no tenemos ningún tipo de alineación la `,` indica la separación por miles y por último `f` indica que se imprimirá un float."
   ]
  },
  {
   "cell_type": "markdown",
   "id": "f0869512-8db3-4248-b2e6-6d378cb04e24",
   "metadata": {},
   "source": [
    "Cambia `{0:8,f}` por ` ${0:,2f}`y comenta los resultados. "
   ]
  },
  {
   "cell_type": "markdown",
   "id": "0660715e-b97b-4828-b692-3216abe121f9",
   "metadata": {},
   "source": [
    "Podemos prescindir del punto decimal:"
   ]
  },
  {
   "cell_type": "code",
   "execution_count": 65,
   "id": "f1ff6430-cbf4-4585-8dca-0bb7ae52cc63",
   "metadata": {},
   "outputs": [
    {
     "name": "stdout",
     "output_type": "stream",
     "text": [
      "Si no queremos el punto decimal:   1,223\n"
     ]
    }
   ],
   "source": [
    "print(\"Si no queremos el punto decimal: {0:7,d}\".format(int(salario)))"
   ]
  },
  {
   "cell_type": "markdown",
   "id": "f0598860-d853-4db3-aee0-38cf39a8870c",
   "metadata": {},
   "source": [
    "`d` indica que lo que se imprime es un entero (`int`)."
   ]
  },
  {
   "cell_type": "markdown",
   "id": "f06c4d9c-d99b-41b9-addf-030d400dd682",
   "metadata": {},
   "source": [
    "También podemos usar notación científica, en este caso usamos `e`. La `e` indica que se usará notación científica para el resultado, 1 es la cantidad de números antes de la coma y 2 la cantidad de números después de la coma."
   ]
  },
  {
   "cell_type": "code",
   "execution_count": 68,
   "id": "9e0ee348",
   "metadata": {},
   "outputs": [
    {
     "name": "stdout",
     "output_type": "stream",
     "text": [
      "O tal vez, sea mejor la notación científica: 1.22e+03\n"
     ]
    }
   ],
   "source": [
    "print(\"O tal vez, sea mejor la notación científica: {0:1.2e}\".format(int(salario)))\n"
   ]
  },
  {
   "cell_type": "markdown",
   "id": "78d6bc5e",
   "metadata": {},
   "source": [
    "Si tenemos diferentes salidas a las cuales darles formato, podemos hacer algo como lo que viene a continuación"
   ]
  },
  {
   "cell_type": "code",
   "execution_count": 69,
   "id": "e8fcb617",
   "metadata": {},
   "outputs": [
    {
     "name": "stdout",
     "output_type": "stream",
     "text": [
      "Salario mensual: 1,223 Salario anual 1.47e+04 \n"
     ]
    }
   ],
   "source": [
    "print('Salario mensual: {0:1,d} Salario anual {1:2.2e} '.format(int(salario),salario*12))\n",
    "#Nota que el 0 es para el salario y el 1 para el salario multiplicado por 12"
   ]
  },
  {
   "cell_type": "markdown",
   "id": "2b9d9306-58a7-4003-90d2-74d6d3557c65",
   "metadata": {},
   "source": [
    "## Cierre\n",
    "\n",
    "Hemos empezado a trabajar con Python guardando variables en diferentes tipos de datos. Aunque aún no estamos aplicando procesos muy complicados ya vemos como poco a poco aplicamos una secuencia estructurada de pasos para resolver algunos problemas. Por ejemplo, aunque no fue mencionado, se espera que como estudiante de Python se de cuenta de uqe las variables deben ser asignadas antes de usarse y que para asignarse debe ser ejecutada una celda donde se defina la variables. Así mismo, se espera que reconozca el orden de ejecución, la jerarquía de las operaciones y la importancia de usar paréntesis. \n",
    "\n",
    "En el próximo módulo se empezará a trabajar con estructuras de programación, se estudiaran algunos métodos útiles para la manipulación de texto y se representarán como debe ser algunos algoritmos."
   ]
  }
 ],
 "metadata": {
  "author": "mes",
  "kernelspec": {
   "display_name": "Python 3 (ipykernel)",
   "language": "python",
   "name": "python3"
  },
  "language_info": {
   "codemirror_mode": {
    "name": "ipython",
    "version": 3
   },
   "file_extension": ".py",
   "mimetype": "text/x-python",
   "name": "python",
   "nbconvert_exporter": "python",
   "pygments_lexer": "ipython3",
   "version": "3.9.5"
  },
  "latex_envs": {
   "LaTeX_envs_menu_present": true,
   "autoclose": false,
   "autocomplete": true,
   "bibliofile": "biblio.bib",
   "cite_by": "apalike",
   "current_citInitial": 1,
   "eqLabelWithNumbers": true,
   "eqNumInitial": 1,
   "hotkeys": {
    "equation": "Ctrl-E",
    "itemize": "Ctrl-I"
   },
   "labels_anchors": false,
   "latex_user_defs": false,
   "report_style_numbering": false,
   "user_envs_cfg": false
  },
  "toc": {
   "base_numbering": 1,
   "nav_menu": {},
   "number_sections": true,
   "sideBar": true,
   "skip_h1_title": false,
   "title_cell": "Table of Contents",
   "title_sidebar": "Contents",
   "toc_cell": false,
   "toc_position": {},
   "toc_section_display": true,
   "toc_window_display": false
  }
 },
 "nbformat": 4,
 "nbformat_minor": 5
}