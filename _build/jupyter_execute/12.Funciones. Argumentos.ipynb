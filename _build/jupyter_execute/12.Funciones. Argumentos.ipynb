{
 "cells": [
  {
   "cell_type": "markdown",
   "id": "086b092b",
   "metadata": {},
   "source": [
    "# Funciones: Argumentos"
   ]
  },
  {
   "cell_type": "markdown",
   "id": "e2dd99d6",
   "metadata": {},
   "source": [
    ":::::{important} ¿Qué sabemos de las funciones?\n",
    "\n",
    "En el cuaderno anterior, aprendimos a definir y a invocar funciones. Ahora aprenderemos a manera de manipular los argumentos de las funciones que creemos.\n",
    "\n",
    "````{tabbed} ¿El orden importa?\n",
    "\n",
    ":::{admonition} Recordemos...\n",
    ":class: tip\n",
    "En las funciones que definimos ocurre lo mismo que en las funciones matemáticas, **el orden es fundamental**.\n",
    ":::\n",
    "````\n",
    "\n",
    "````{tabbed} Ejemplo\n",
    "\n",
    ":::{admonition} La resta\n",
    ":class: tip\n",
    "Sabemos que 2-3 es diferente a 3-2.\n",
    ":::\n",
    "````\n",
    "\n",
    "\n",
    "````{tabbed} Ejemplo\n",
    "\n",
    ":::{admonition} Al vestirse\n",
    ":class: tip\n",
    "Si primero nos ponemos las medias y luego los zapatos, generará un resultado distinto a ponerse primero los zapatos y luego las medias.\n",
    ":::\n",
    "````\n",
    "\n",
    ":::::"
   ]
  },
  {
   "cell_type": "markdown",
   "id": "cec7383b",
   "metadata": {},
   "source": [
    "## Argumentos por defecto:\n",
    "\n",
    "En la función que calculaba el valor, con y sin impuestos, de una cuenta en un cierto restaurante nos hizo falta incluir el valor de la propina, ajuste que realizaremos en este momento:"
   ]
  },
  {
   "cell_type": "code",
   "execution_count": 1,
   "id": "53d95e27",
   "metadata": {},
   "outputs": [],
   "source": [
    "def costos(comensales,propina=10):\n",
    "    Cuenta = round(comensales*50000,2)\n",
    "    CuentaSinImp = round(Cuenta*100/108,2)\n",
    "    CuentaConProp = round(Cuenta*(1+propina/100),2)\n",
    "    x = '''    Valor Neto: '''+str(CuentaSinImp)+'''\n",
    "    Total sin propina: '''+ str(Cuenta)+ '''\n",
    "    Total con propina: '''+ str(CuentaConProp)\n",
    "    print(x)"
   ]
  },
  {
   "cell_type": "code",
   "execution_count": 2,
   "id": "648922aa",
   "metadata": {},
   "outputs": [
    {
     "name": "stdout",
     "output_type": "stream",
     "text": [
      "    Valor Neto: 46296.3\n",
      "    Total sin propina: 50000\n",
      "    Total con propina: 55000.0\n"
     ]
    }
   ],
   "source": [
    "costos(1)"
   ]
  },
  {
   "cell_type": "markdown",
   "id": "8aa625b1",
   "metadata": {},
   "source": [
    "Nota que en la función anterior el segundo argumento tiene un valor predeterminado `propina=10`, esto quiere decir que, si no modificamos su valor, la función asumirá éste como el valor predeterminado, es decir, las propinas serán del $10\\%$ salvo que se indique algún otro valor. Por ejemplo si deseamos calcular el total de la cuenta con una propina del $7\\%$, ejecutamos las siguientes líneas de código:"
   ]
  },
  {
   "cell_type": "code",
   "execution_count": 3,
   "id": "afa324b1",
   "metadata": {},
   "outputs": [
    {
     "name": "stdout",
     "output_type": "stream",
     "text": [
      "    Valor Neto: 46296.3\n",
      "    Total sin propina: 50000\n",
      "    Total con propina: 53500.0\n"
     ]
    }
   ],
   "source": [
    "costos(1,7)\n",
    "#Estamos considerando los argumentos posicionalmente"
   ]
  },
  {
   "cell_type": "code",
   "execution_count": 4,
   "id": "3e023b57",
   "metadata": {},
   "outputs": [
    {
     "name": "stdout",
     "output_type": "stream",
     "text": [
      "    Valor Neto: 46296.3\n",
      "    Total sin propina: 50000\n",
      "    Total con propina: 53500.0\n"
     ]
    }
   ],
   "source": [
    "costos(propina=7,comensales=1)\n",
    "#Estamos haciendo referencia directa al valor de los argumentos"
   ]
  },
  {
   "cell_type": "markdown",
   "id": "19afa8d0",
   "metadata": {},
   "source": [
    "Lo presentado en la línea anterior suele emplearse únicamente cuando se tienen diferentes variables predeterminadas y no con las variables obligatorias, esto con el fin de evitar malas interpretaciones de las entradas."
   ]
  },
  {
   "cell_type": "markdown",
   "id": "5b0eb2bb",
   "metadata": {},
   "source": [
    "## Argumentos de longitud variable:\n",
    "En diversos lenguajes de programación existe dos tipos de argumentos ampliamente utilizados `args` y `kwargs` (**arg**ument**s** y **k**ey**w**ord**arg**ument**s** ), en Python los `args` son tuplas y los `kwargs` son diccionarios (estructuras que estudiaremos en profundidad más adelante), estos argumentos permiten agregar cualquier cantidad de entradas a las funciones como podemos ver en las siguientes funciones:"
   ]
  },
  {
   "cell_type": "code",
   "execution_count": 5,
   "id": "121e2a1d",
   "metadata": {},
   "outputs": [],
   "source": [
    "def f1(*args):\n",
    "    return sum(args)"
   ]
  },
  {
   "cell_type": "code",
   "execution_count": 6,
   "id": "26977fbf",
   "metadata": {},
   "outputs": [
    {
     "data": {
      "text/plain": [
       "15"
      ]
     },
     "execution_count": 6,
     "metadata": {},
     "output_type": "execute_result"
    }
   ],
   "source": [
    "f1(1,2,3,4,5)"
   ]
  },
  {
   "cell_type": "code",
   "execution_count": 7,
   "id": "8356ab2d",
   "metadata": {},
   "outputs": [
    {
     "data": {
      "text/plain": [
       "3.3"
      ]
     },
     "execution_count": 7,
     "metadata": {},
     "output_type": "execute_result"
    }
   ],
   "source": [
    "f1(1,2.3)"
   ]
  },
  {
   "cell_type": "code",
   "execution_count": 8,
   "id": "e8d47c5f",
   "metadata": {},
   "outputs": [
    {
     "ename": "TypeError",
     "evalue": "unsupported operand type(s) for +: 'int' and 'str'",
     "output_type": "error",
     "traceback": [
      "\u001b[0;31m---------------------------------------------------------------------------\u001b[0m",
      "\u001b[0;31mTypeError\u001b[0m                                 Traceback (most recent call last)",
      "\u001b[0;32m/tmp/ipykernel_30798/1307643930.py\u001b[0m in \u001b[0;36m<module>\u001b[0;34m\u001b[0m\n\u001b[1;32m      1\u001b[0m \u001b[0;31m#Note que si se introduce un argumento no numérico la función generará un error\u001b[0m\u001b[0;34m\u001b[0m\u001b[0;34m\u001b[0m\u001b[0;34m\u001b[0m\u001b[0m\n\u001b[0;32m----> 2\u001b[0;31m \u001b[0mf1\u001b[0m\u001b[0;34m(\u001b[0m\u001b[0;34m'hola'\u001b[0m\u001b[0;34m)\u001b[0m\u001b[0;34m\u001b[0m\u001b[0;34m\u001b[0m\u001b[0m\n\u001b[0m",
      "\u001b[0;32m/tmp/ipykernel_30798/3653633694.py\u001b[0m in \u001b[0;36mf1\u001b[0;34m(*args)\u001b[0m\n\u001b[1;32m      1\u001b[0m \u001b[0;32mdef\u001b[0m \u001b[0mf1\u001b[0m\u001b[0;34m(\u001b[0m\u001b[0;34m*\u001b[0m\u001b[0margs\u001b[0m\u001b[0;34m)\u001b[0m\u001b[0;34m:\u001b[0m\u001b[0;34m\u001b[0m\u001b[0;34m\u001b[0m\u001b[0m\n\u001b[0;32m----> 2\u001b[0;31m     \u001b[0;32mreturn\u001b[0m \u001b[0msum\u001b[0m\u001b[0;34m(\u001b[0m\u001b[0margs\u001b[0m\u001b[0;34m)\u001b[0m\u001b[0;34m\u001b[0m\u001b[0;34m\u001b[0m\u001b[0m\n\u001b[0m",
      "\u001b[0;31mTypeError\u001b[0m: unsupported operand type(s) for +: 'int' and 'str'"
     ]
    }
   ],
   "source": [
    "#Note que si se introduce un argumento no numérico la función generará un error\n",
    "f1('hola')"
   ]
  },
  {
   "cell_type": "markdown",
   "id": "af1ce3eb",
   "metadata": {},
   "source": [
    "Este tipo de argumentos nos permite definir, entre muchas otras, una función que calcule el promedio de una lista de números dados\n"
   ]
  },
  {
   "cell_type": "code",
   "execution_count": 9,
   "id": "ffc7df97",
   "metadata": {},
   "outputs": [],
   "source": [
    "def promedio(*args):\n",
    "    return sum(args)/len(args)"
   ]
  },
  {
   "cell_type": "code",
   "execution_count": 10,
   "id": "960dd996",
   "metadata": {},
   "outputs": [
    {
     "data": {
      "text/plain": [
       "3.185714285714286"
      ]
     },
     "execution_count": 10,
     "metadata": {},
     "output_type": "execute_result"
    }
   ],
   "source": [
    "promedio(1,2,3,4,5.2,3.1,4)"
   ]
  },
  {
   "cell_type": "markdown",
   "id": "12988c93",
   "metadata": {},
   "source": [
    "Es importante que note que en la definición de la función, el argumento que será una tupla de tamaño indefinido lleva un `*` antes, esto es lo que le indica a Python el tipo de variable que es, y dentro de la función se utiliza la variable sin el `*`. El nombre puede ser cualquiera pero por convención suele emplearse `args`.\n",
    "\n",
    "Los tipos de entrada de éstas variables pueden ser diversos, por ejemplo:"
   ]
  },
  {
   "cell_type": "code",
   "execution_count": 11,
   "id": "cc6fdb0b",
   "metadata": {},
   "outputs": [],
   "source": [
    "def imprime(*args):\n",
    "    if len(args)==0:\n",
    "        print('No hubo argumentos de entrada.')\n",
    "    else:\n",
    "        for i in range(len(args)):\n",
    "            print('En la entrada {0} se almacenó: {1} y es del tipo {2}'.format(i,args[i],type(args[i])))"
   ]
  },
  {
   "cell_type": "code",
   "execution_count": 12,
   "id": "bfcbfba8",
   "metadata": {},
   "outputs": [
    {
     "name": "stdout",
     "output_type": "stream",
     "text": [
      "No hubo argumentos de entrada.\n"
     ]
    }
   ],
   "source": [
    "imprime()"
   ]
  },
  {
   "cell_type": "code",
   "execution_count": 13,
   "id": "911b99e7",
   "metadata": {},
   "outputs": [
    {
     "name": "stdout",
     "output_type": "stream",
     "text": [
      "En la entrada 0 se almacenó: hola y es del tipo <class 'str'>\n",
      "En la entrada 1 se almacenó: 1 y es del tipo <class 'int'>\n"
     ]
    }
   ],
   "source": [
    "imprime('hola',1)"
   ]
  },
  {
   "cell_type": "markdown",
   "id": "f238b758",
   "metadata": {},
   "source": [
    "También podemos combinar las variables bien sean obligatorias u opcionales con éste tipo de argumentos, por ejemplo:"
   ]
  },
  {
   "cell_type": "code",
   "execution_count": 14,
   "id": "149b6abe",
   "metadata": {},
   "outputs": [],
   "source": [
    "def f2(arg1, *argv):\n",
    "    print (\"Primer argumento :\", arg1)\n",
    "    for arg in argv:\n",
    "        print(\"Siguiente argumento en la tupla *argv :\", arg)"
   ]
  },
  {
   "cell_type": "code",
   "execution_count": 15,
   "id": "01ff6cf9",
   "metadata": {},
   "outputs": [
    {
     "name": "stdout",
     "output_type": "stream",
     "text": [
      "Primer argumento : Hola\n",
      "Siguiente argumento en la tupla *argv : bienvenido\n",
      "Siguiente argumento en la tupla *argv : a\n",
      "Siguiente argumento en la tupla *argv : la\n",
      "Siguiente argumento en la tupla *argv : Universidad\n",
      "Siguiente argumento en la tupla *argv : Externado\n",
      "Siguiente argumento en la tupla *argv : de\n",
      "Siguiente argumento en la tupla *argv : Colombia\n"
     ]
    }
   ],
   "source": [
    "f2('Hola', 'bienvenido', 'a', 'la', 'Universidad','Externado','de', 'Colombia')"
   ]
  },
  {
   "cell_type": "markdown",
   "id": "46721115",
   "metadata": {},
   "source": [
    "Si intentamos escribir primero las variables de tamaño indefinido y luego las que necesitamos realmente obtendremos un error, ya que el Python no sabrá en qué momento debe parar de llenar la tupla y seguir con los argumentos fijos, salvo que se especifiquen sus valores como vimos anteriormente:"
   ]
  },
  {
   "cell_type": "code",
   "execution_count": 16,
   "id": "9f8f6e37",
   "metadata": {},
   "outputs": [],
   "source": [
    "def f3(*argv,argn):\n",
    "    print (\"Último argumento :\", argn)\n",
    "    for arg in argv:\n",
    "        print(\"Siguiente argumento en la tupla *argv :\", arg)"
   ]
  },
  {
   "cell_type": "code",
   "execution_count": 17,
   "id": "80d1ba5c",
   "metadata": {},
   "outputs": [
    {
     "ename": "TypeError",
     "evalue": "f3() missing 1 required keyword-only argument: 'argn'",
     "output_type": "error",
     "traceback": [
      "\u001b[0;31m---------------------------------------------------------------------------\u001b[0m",
      "\u001b[0;31mTypeError\u001b[0m                                 Traceback (most recent call last)",
      "\u001b[0;32m<ipython-input-17-36a5f8de1e71>\u001b[0m in \u001b[0;36m<module>\u001b[0;34m\u001b[0m\n\u001b[0;32m----> 1\u001b[0;31m \u001b[0mf3\u001b[0m\u001b[0;34m(\u001b[0m\u001b[0;34m'Hola'\u001b[0m\u001b[0;34m,\u001b[0m \u001b[0;34m'bienvenido'\u001b[0m\u001b[0;34m,\u001b[0m \u001b[0;34m'a'\u001b[0m\u001b[0;34m,\u001b[0m \u001b[0;34m'la'\u001b[0m\u001b[0;34m,\u001b[0m \u001b[0;34m'Universidad'\u001b[0m\u001b[0;34m,\u001b[0m\u001b[0;34m'Externado'\u001b[0m\u001b[0;34m,\u001b[0m\u001b[0;34m'de'\u001b[0m\u001b[0;34m,\u001b[0m \u001b[0;34m'Colombia'\u001b[0m\u001b[0;34m)\u001b[0m\u001b[0;34m\u001b[0m\u001b[0;34m\u001b[0m\u001b[0m\n\u001b[0m",
      "\u001b[0;31mTypeError\u001b[0m: f3() missing 1 required keyword-only argument: 'argn'"
     ]
    }
   ],
   "source": [
    "f3('Hola', 'bienvenido', 'a', 'la', 'Universidad','Externado','de', 'Colombia')"
   ]
  },
  {
   "cell_type": "code",
   "execution_count": 18,
   "id": "1f07c5ea",
   "metadata": {},
   "outputs": [
    {
     "name": "stdout",
     "output_type": "stream",
     "text": [
      "Último argumento : Colombia\n",
      "Siguiente argumento en la tupla *argv : Hola\n",
      "Siguiente argumento en la tupla *argv : bienvenido\n",
      "Siguiente argumento en la tupla *argv : a\n",
      "Siguiente argumento en la tupla *argv : la\n",
      "Siguiente argumento en la tupla *argv : Universidad\n",
      "Siguiente argumento en la tupla *argv : Externado\n",
      "Siguiente argumento en la tupla *argv : de\n"
     ]
    }
   ],
   "source": [
    "f3('Hola', 'bienvenido', 'a', 'la', 'Universidad','Externado','de', argn='Colombia')"
   ]
  },
  {
   "cell_type": "markdown",
   "id": "30a48cf5",
   "metadata": {},
   "source": [
    "### Ejercicios:\n",
    "1. Crea una función que permita hallar la mediana en una lista de números ingresados en orden ascendente.\n",
    "2. Crea una función que calcule la varianza muestral de los valores ingresados.$$\\text{varianza} = \\sigma^2 = \\frac{1}{n-1}\\sum_{i=1}^{n}(x_i-\\bar{x})^2,$$ $n=\\text{tamaño de la muestra} $  \n",
    "$\\bar{x} = promedio$  \n",
    "$x_i = i-\\text{ésimo elemento de la muestra} $\n",
    "3. Cree una función que halle el mínimo de una lista de números dados.\n",
    "4. Cree una función que halle el máximo de una lista de números dados."
   ]
  },
  {
   "cell_type": "markdown",
   "id": "58645d3f",
   "metadata": {},
   "source": [
    "Para introducir los `kwargs` es necesario en el argumento de la función a dicha variable antecederla de `**`, por ejemplo:"
   ]
  },
  {
   "cell_type": "code",
   "execution_count": 19,
   "id": "687b8fb0",
   "metadata": {},
   "outputs": [],
   "source": [
    "def fkw1(**kwargs):\n",
    "    for nombre, valor in kwargs.items():\n",
    "        print(\"{0} = {1}\".format(nombre, valor))"
   ]
  },
  {
   "cell_type": "code",
   "execution_count": 20,
   "id": "7218f034",
   "metadata": {},
   "outputs": [
    {
     "name": "stdout",
     "output_type": "stream",
     "text": [
      "nota1 = 1.0\n",
      "nota2 = 3.5\n",
      "nota3 = 5\n"
     ]
    }
   ],
   "source": [
    "fkw1(nota1=1.0,nota2=3.5,nota3=5)"
   ]
  },
  {
   "cell_type": "markdown",
   "id": "19a183bf",
   "metadata": {},
   "source": [
    "### Ejercicio:\n",
    "1. Modifica el código anterior para que el programa calcule el promedio de las notas ingresadas.\n",
    "\n",
    "En una función de Python podemos tener variables de todo tipo involucradas, como por ejemplo:"
   ]
  },
  {
   "cell_type": "code",
   "execution_count": 21,
   "id": "bbb8515c",
   "metadata": {},
   "outputs": [],
   "source": [
    "def superfuncion(a,b=5,*args,**kwargs):\n",
    "    print('El valor del único parámetro obligatorio es: ',a)\n",
    "    print('El valor del único parámetro con valor predeterminado es: ',b)\n",
    "    print('Los valores ingresados en la tupla args son: ',args)\n",
    "    print('Los valores ingresados en el diccionario **kwargs son: ',kwargs)"
   ]
  },
  {
   "cell_type": "code",
   "execution_count": 22,
   "id": "b7fa61f2",
   "metadata": {},
   "outputs": [
    {
     "name": "stdout",
     "output_type": "stream",
     "text": [
      "El valor del único parámetro obligatorio es:  1\n",
      "El valor del único parámetro con valor predeterminado es:  5\n",
      "Los valores ingresados en la tupla args son:  ()\n",
      "Los valores ingresados en el diccionario **kwargs son:  {}\n"
     ]
    }
   ],
   "source": [
    "superfuncion(1)"
   ]
  },
  {
   "cell_type": "code",
   "execution_count": 23,
   "id": "7d68e728",
   "metadata": {},
   "outputs": [
    {
     "name": "stdout",
     "output_type": "stream",
     "text": [
      "El valor del único parámetro obligatorio es:  1\n",
      "El valor del único parámetro con valor predeterminado es:  2\n",
      "Los valores ingresados en la tupla args son:  ()\n",
      "Los valores ingresados en el diccionario **kwargs son:  {}\n"
     ]
    }
   ],
   "source": [
    "superfuncion(1,2)"
   ]
  },
  {
   "cell_type": "code",
   "execution_count": 24,
   "id": "bfbc512c",
   "metadata": {},
   "outputs": [
    {
     "name": "stdout",
     "output_type": "stream",
     "text": [
      "El valor del único parámetro obligatorio es:  1\n",
      "El valor del único parámetro con valor predeterminado es:  2\n",
      "Los valores ingresados en la tupla args son:  (0, 1, 2, 3)\n",
      "Los valores ingresados en el diccionario **kwargs son:  {}\n"
     ]
    }
   ],
   "source": [
    "superfuncion(1,2,0,1,2,3)"
   ]
  },
  {
   "cell_type": "code",
   "execution_count": 25,
   "id": "e9f2f46f",
   "metadata": {},
   "outputs": [
    {
     "name": "stdout",
     "output_type": "stream",
     "text": [
      "El valor del único parámetro obligatorio es:  1\n",
      "El valor del único parámetro con valor predeterminado es:  2\n",
      "Los valores ingresados en la tupla args son:  (0, 1, 2, 3)\n",
      "Los valores ingresados en el diccionario **kwargs son:  {'val0': 0, 'val1': 1, 'val2': 2}\n"
     ]
    }
   ],
   "source": [
    "superfuncion(1,2,0,1,2,3,val0=0,val1=1,val2=2)"
   ]
  },
  {
   "cell_type": "markdown",
   "id": "bcddec5d",
   "metadata": {},
   "source": [
    "En este ejemplo podemos ver la clara diferencia entre la tupla almacenada en `args` y el diccionario almacenado en `kwargs`, su manipulación será objeto de cuadernos posteriores, pero es bueno que desde ya tengamos presente su existencia, ya que posteriormente nos serán de gran utilidad."
   ]
  },
  {
   "cell_type": "markdown",
   "id": "da853bc9",
   "metadata": {},
   "source": [
    "### Ejercicio:\n",
    "1. Cree una función que dado un monto y una lista de personas con sus correspondientes invitados, calcule cuánto debe pagar cada uno si la cuenta se divide en partes iguales.\n",
    "2. Haga un programa que le permita ingresar las notas obtenidas por un estudiante y los porcentajes asociados a ellas, si el porcentaje es del $100\\%$ debe arrojar la nota definitiva de la materia y si el porcentaje es inferior debe informarle el valor de la nota acumulada y cuánto debería sacar en el resto de la materia para aprobarla."
   ]
  },
  {
   "cell_type": "markdown",
   "id": "66a3e71e",
   "metadata": {},
   "source": [
    "## Comentarios finales:\n",
    "Recuerda que para evitar confusiones en la ejecución de la función los parámetros de ésta deben ir así: variables, variables con asignaciones predeterminadas, args y kwargs\n",
    "```python\n",
    "def nombre_de_la_función(v1,...,vn,vp1='algo',...,vpm='algo',*args,**kwargs):\n",
    "    lista_de_instrucciones\n",
    "    return resultado\n",
    "```"
   ]
  }
 ],
 "metadata": {
  "kernelspec": {
   "display_name": "Python 3",
   "language": "python",
   "name": "python3"
  },
  "language_info": {
   "codemirror_mode": {
    "name": "ipython",
    "version": 3
   },
   "file_extension": ".py",
   "mimetype": "text/x-python",
   "name": "python",
   "nbconvert_exporter": "python",
   "pygments_lexer": "ipython3",
   "version": "3.9.5"
  },
  "latex_envs": {
   "LaTeX_envs_menu_present": true,
   "autoclose": false,
   "autocomplete": true,
   "bibliofile": "biblio.bib",
   "cite_by": "apalike",
   "current_citInitial": 1,
   "eqLabelWithNumbers": true,
   "eqNumInitial": 1,
   "hotkeys": {
    "equation": "Ctrl-E",
    "itemize": "Ctrl-I"
   },
   "labels_anchors": false,
   "latex_user_defs": false,
   "report_style_numbering": false,
   "user_envs_cfg": false
  },
  "toc": {
   "base_numbering": 1,
   "nav_menu": {},
   "number_sections": true,
   "sideBar": true,
   "skip_h1_title": false,
   "title_cell": "Table of Contents",
   "title_sidebar": "Contents",
   "toc_cell": false,
   "toc_position": {},
   "toc_section_display": true,
   "toc_window_display": false
  }
 },
 "nbformat": 4,
 "nbformat_minor": 5
}