{
 "cells": [
  {
   "cell_type": "markdown",
   "metadata": {
    "id": "InOakbJbB9IY"
   },
   "source": [
    "## Estilo funcional de programación"
   ]
  },
  {
   "cell_type": "markdown",
   "metadata": {
    "id": "hddjtCZyCL0J"
   },
   "source": [
    "En los casos en los cuales nuestras funciones tengan una gran cantidad de tareas para abordar, lo mejor es distribuir éstas en diferentes funciones, para que así podamos identificar los fallos en alguna parte del código de manera más eficiente y también para hacer mucho más fácil la lectura del código para otros e incluso para nosotros mismos."
   ]
  },
  {
   "cell_type": "code",
   "execution_count": 1,
   "metadata": {
    "executionInfo": {
     "elapsed": 412,
     "status": "ok",
     "timestamp": 1633012354465,
     "user": {
      "displayName": "Miguel Angel Rippe Espinosa",
      "photoUrl": "https://lh3.googleusercontent.com/a-/AOh14Ghx_mTjJLhL5dH8jsNibPddNU76TOlxekXfOisQ=s64",
      "userId": "07784576862164096404"
     },
     "user_tz": 300
    },
    "id": "Rv_eMNOWDJ_U"
   },
   "outputs": [],
   "source": [
    "def suma(a,b):\n",
    "    return a+b\n",
    "\n",
    "def resta(a,b):\n",
    "    return a-b\n",
    "  \n",
    "def producto(a,b):\n",
    "    return a*b\n",
    "\n",
    "def cociente(a,b):\n",
    "    return a/b\n",
    "\n",
    "def operaciones(a,b):\n",
    "    s = suma(a,b)\n",
    "    r = resta(a,b)\n",
    "    p = producto(a,b)\n",
    "    c = cociente(a,b)\n",
    "    return 'suma: {}, resta: {}, producto: {}, cociente: {}'.format(s,r,p,c)\n"
   ]
  },
  {
   "cell_type": "code",
   "execution_count": 2,
   "metadata": {
    "colab": {
     "base_uri": "https://localhost:8080/",
     "height": 38
    },
    "executionInfo": {
     "elapsed": 16,
     "status": "ok",
     "timestamp": 1633012356008,
     "user": {
      "displayName": "Miguel Angel Rippe Espinosa",
      "photoUrl": "https://lh3.googleusercontent.com/a-/AOh14Ghx_mTjJLhL5dH8jsNibPddNU76TOlxekXfOisQ=s64",
      "userId": "07784576862164096404"
     },
     "user_tz": 300
    },
    "id": "9r-hRXpiGvg9",
    "outputId": "a1089d26-a6e0-453f-b1ec-12e3f4434ba4"
   },
   "outputs": [
    {
     "data": {
      "text/plain": [
       "'suma: 3, resta: -1, producto: 2, cociente: 0.5'"
      ]
     },
     "execution_count": 2,
     "metadata": {},
     "output_type": "execute_result"
    }
   ],
   "source": [
    "operaciones(1,2)"
   ]
  },
  {
   "cell_type": "markdown",
   "metadata": {
    "id": "7wGmtHpzH5ys"
   },
   "source": [
    "Lo anterior nos muestra algo que debemos tener presente, y es que en las funciones se maneja el concepto del *Último en Entrar es el Primero en Salir* (*UEPS*), es decir, la última función que se llama es la primera sobre la cual se termina el cálculo, para así poder utilizar su respuesta en los cálculos posteriores.\n",
    "\n",
    "Este concepto del UEPS es muy familiar en programación, y lo usamos casi que a diario sin darnos cuenta, por ejemplo, en nuestro navegador cuando vamos de una página a otra y pulsamos el botón `atrás` éste nos regresa al más reciente de todos los sitios que visitamos."
   ]
  },
  {
   "cell_type": "code",
   "execution_count": 3,
   "metadata": {
    "colab": {
     "base_uri": "https://localhost:8080/",
     "height": 38
    },
    "executionInfo": {
     "elapsed": 321,
     "status": "ok",
     "timestamp": 1633012825064,
     "user": {
      "displayName": "Miguel Angel Rippe Espinosa",
      "photoUrl": "https://lh3.googleusercontent.com/a-/AOh14Ghx_mTjJLhL5dH8jsNibPddNU76TOlxekXfOisQ=s64",
      "userId": "07784576862164096404"
     },
     "user_tz": 300
    },
    "id": "xgUOq6-JJgec",
    "outputId": "9c9997b5-34bf-474a-d00b-26270612cf48"
   },
   "outputs": [
    {
     "data": {
      "text/plain": [
       "'suma: 5, resta: -1, producto: 6, cociente: 0.6666666666666666'"
      ]
     },
     "execution_count": 3,
     "metadata": {},
     "output_type": "execute_result"
    }
   ],
   "source": [
    "operaciones(2,3)"
   ]
  },
  {
   "cell_type": "code",
   "execution_count": 4,
   "metadata": {
    "colab": {
     "base_uri": "https://localhost:8080/",
     "height": 171
    },
    "executionInfo": {
     "elapsed": 312,
     "status": "error",
     "timestamp": 1633012828339,
     "user": {
      "displayName": "Miguel Angel Rippe Espinosa",
      "photoUrl": "https://lh3.googleusercontent.com/a-/AOh14Ghx_mTjJLhL5dH8jsNibPddNU76TOlxekXfOisQ=s64",
      "userId": "07784576862164096404"
     },
     "user_tz": 300
    },
    "id": "CaH9Ke1sJjkN",
    "outputId": "a30231f2-c8ea-4820-b526-9bb8c3ac1aab"
   },
   "outputs": [
    {
     "ename": "NameError",
     "evalue": "name 's' is not defined",
     "output_type": "error",
     "traceback": [
      "\u001b[0;31m-------------------------------------------------------------------\u001b[0m",
      "\u001b[0;31mNameError\u001b[0m                         Traceback (most recent call last)",
      "\u001b[0;32m/tmp/ipykernel_17649/1028141915.py\u001b[0m in \u001b[0;36m<module>\u001b[0;34m\u001b[0m\n\u001b[0;32m----> 1\u001b[0;31m \u001b[0ms\u001b[0m\u001b[0;34m\u001b[0m\u001b[0;34m\u001b[0m\u001b[0m\n\u001b[0m",
      "\u001b[0;31mNameError\u001b[0m: name 's' is not defined"
     ]
    }
   ],
   "source": [
    "s"
   ]
  },
  {
   "cell_type": "markdown",
   "metadata": {
    "id": "KZ69KD2tJyWc"
   },
   "source": [
    "Como podemos ver, las variabes `s`, `r`, `p` y `c` son variables locales dentro de la función `operaciones`, por ello no se almacenan en nuestra memoria.\n",
    "\n",
    "Un riesgo que podemos correr al tener una función con demasiadas tareas, es quedarmos sin memoria, ya que ésta no se liberará hasta no terminar los cálculos de la función en la cual estamos, por ello, el estilo funcional es muy propicio para evitar este tipo de errores, claro, esto también podría ocurrir si tenemos alguna función que no termine nunca su ejecución.\n",
    "\n",
    "Este estilo de programación es particularmente útil, ya que, permite al lector del código entender de una manera más fácil *qué* se pretende hacer con las funciones elaboradas, sin tener que esforzarse mucho con el *cómo* se hace, ya que casi siempre ésto viene cubierto por las diferentes librerías que tenemos a la mano. Otra ventaja que tenemos al emplear este tipo de programación es permitir la *inmutabilidad* de variables, pues esto evita errores que se pueden introducir de manera involuntaria al *mutar* o cambiar alguna variable, que afectará otras y posiblemente el resultado que deseamos calcular, como pasa en la función `operaciones`, ya que ésta función no puede modificar ninguna de las asignaciones que se realizan en las funciones `suma`, `resta`, `producto` y `cociente`."
   ]
  },
  {
   "cell_type": "markdown",
   "metadata": {},
   "source": [
    "## Ejercicios\n",
    "1. Crea una función que le permita calcular el peso de una nota en la definitiva de una materia, es decir, que dada una nota y el porcentaje que ella vale, arroje como resultado el valor que ésta aporta a la definitiva (nota * porcentaje).\n",
    "2. Continuando con el ejercicio anterior, crea una función que reciba dos, una en la cual se halla cada nota y otra en la que se encuentran almacenados los porcentajes que valen cada una de éstas notas y arroje como resultado la definitiva de la materia. Ten en cuenta que el porcentaje debe ser exactamente el 100% y que las listas deben tener la misma longitud.\n",
    "3. Crea una función que calcule el MCD de dos números por el método de Euclides. Éste método siguiente:\n",
    "\n",
    " * Se divide el número mayor entre el menor.\n",
    " * Si la división es exacta, el divisor es el MCD.\n",
    " * Si la división no es exacta, dividimos el divisor entre el resto obtenido y se continúa de esta forma hasta obtener una división exacta, siendo el último divisor el MCD.\n",
    "\n",
    "4. En este ejercicio crearemos diferentes funciones para trabajar con fracciones:\n",
    " * Crea la función `LeerFracciones` que reciba como entrada la fracción `a/b`, cuyo resultado sea la fracción simplificada.\n",
    " * Crea la función `SimplificarFracciones` que se encargue de simplificar la fracción de entrada `a/b`, recuerda que si el denominador es 1, la respuesta debería ser únicamente el numerador.\n",
    " * Crea la función `SumaFracciones` la cual reciba como entrada dos fracciones (`n1/d1`,`n2/d2`) y su retorno sea la suma de dichas fracciones simplificada (`numerador = n1*d2+n2*d1`,`denominador = d1*d2`).\n",
    " * Crea la función `RestaFracciones` la cual reciba como entrada dos fracciones (`n1/d1`,`n2/d2`) y su retorno sea la resta de dichas fracciones simplificada (`numerador = n1*d2-n2*d1`,`denominador = d1*d2`).\n",
    " * Crea la función `MultiplicaFracciones` la cual reciba como entrada dos fracciones (`n1/d1`,`n2/d2`) y su retorno sea el producto de dichas fracciones simplificada (`numerador = n1*n2`,`denominador = d1*d2`).\n",
    " * Crea la función `DivideFracciones` la cual reciba como entrada dos fracciones (`n1/d1`,`n2/d2`) y su retorno sea el cocioente de dichas fracciones simplificada (`numerador = n1*d2`,`denominador = d1*n2`)."
   ]
  }
 ],
 "metadata": {
  "colab": {
   "authorship_tag": "ABX9TyPO0dTIhK/fCHCU93eJzjOt",
   "name": "Estilo funcional de programació.ipynb",
   "provenance": []
  },
  "kernelspec": {
   "display_name": "Python 3 (ipykernel)",
   "language": "python",
   "name": "python3"
  },
  "language_info": {
   "codemirror_mode": {
    "name": "ipython",
    "version": 3
   },
   "file_extension": ".py",
   "mimetype": "text/x-python",
   "name": "python",
   "nbconvert_exporter": "python",
   "pygments_lexer": "ipython3",
   "version": "3.9.5"
  },
  "latex_envs": {
   "LaTeX_envs_menu_present": true,
   "autoclose": false,
   "autocomplete": true,
   "bibliofile": "biblio.bib",
   "cite_by": "apalike",
   "current_citInitial": 1,
   "eqLabelWithNumbers": true,
   "eqNumInitial": 1,
   "hotkeys": {
    "equation": "Ctrl-E",
    "itemize": "Ctrl-I"
   },
   "labels_anchors": false,
   "latex_user_defs": false,
   "report_style_numbering": false,
   "user_envs_cfg": false
  },
  "toc": {
   "base_numbering": 1,
   "nav_menu": {},
   "number_sections": true,
   "sideBar": true,
   "skip_h1_title": false,
   "title_cell": "Table of Contents",
   "title_sidebar": "Contents",
   "toc_cell": false,
   "toc_position": {},
   "toc_section_display": true,
   "toc_window_display": false
  }
 },
 "nbformat": 4,
 "nbformat_minor": 4
}