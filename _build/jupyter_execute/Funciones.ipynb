{
 "cells": [
  {
   "cell_type": "markdown",
   "id": "8c5d2cd2",
   "metadata": {},
   "source": [
    "# Funciones"
   ]
  },
  {
   "cell_type": "markdown",
   "id": "3cdd471e",
   "metadata": {},
   "source": [
    "A lo largo de los cuadernos hemos utilizado algunas funciones propias de Python `print`, `int`, `float`, etc. cada una de ellas está hecha para realizar una tarea específica. En el cuaderno anterior, hemos creado una función, `cuadrado`, la cual hace una tarea que nosotros deseábamos y no hay una de las propias de Python que hiciera tal labor:"
   ]
  },
  {
   "cell_type": "code",
   "execution_count": 1,
   "id": "8d4393c4",
   "metadata": {},
   "outputs": [],
   "source": [
    "def cuadrado(x):\n",
    "    print('El valor es:',x,'su identidad es:',id(x))\n",
    "    x = x**2\n",
    "    print('Su cuadrado es:',x,'y su identidad es:',id(x))\n",
    "    return x"
   ]
  },
  {
   "cell_type": "code",
   "execution_count": 2,
   "id": "4eb2980f",
   "metadata": {},
   "outputs": [
    {
     "name": "stdout",
     "output_type": "stream",
     "text": [
      "El valor es: 3 su identidad es: 140452732713328\n",
      "Su cuadrado es: 9 y su identidad es: 140452732713520\n"
     ]
    },
    {
     "data": {
      "text/plain": [
       "9"
      ]
     },
     "execution_count": 2,
     "metadata": {},
     "output_type": "execute_result"
    }
   ],
   "source": [
    "cuadrado(3)"
   ]
  },
  {
   "cell_type": "code",
   "execution_count": 3,
   "id": "ad1f95dd",
   "metadata": {},
   "outputs": [
    {
     "ename": "NameError",
     "evalue": "name 'x' is not defined",
     "output_type": "error",
     "traceback": [
      "\u001b[0;31m-------------------------------------------------------------------\u001b[0m",
      "\u001b[0;31mNameError\u001b[0m                         Traceback (most recent call last)",
      "\u001b[0;32m/tmp/ipykernel_16846/32546335.py\u001b[0m in \u001b[0;36m<module>\u001b[0;34m\u001b[0m\n\u001b[0;32m----> 1\u001b[0;31m \u001b[0mx\u001b[0m\u001b[0;34m\u001b[0m\u001b[0;34m\u001b[0m\u001b[0m\n\u001b[0m",
      "\u001b[0;31mNameError\u001b[0m: name 'x' is not defined"
     ]
    }
   ],
   "source": [
    "x"
   ]
  },
  {
   "cell_type": "markdown",
   "id": "6daa0e19",
   "metadata": {},
   "source": [
    "La manera adecuada para definir una función es la siguiente:\n",
    "```\n",
    "def nombre_de_la_función (parámetros,separados,por,comas):\n",
    "    órdenes\n",
    "    ...\n",
    "    return el_resultado_que_deseamos_mostrar\n",
    "```\n",
    "Para invocar a la función que hemos definido, debemos escribir el nombre de ésta y entre paréntesis los argumentos requeridos para que ésta sea ejecutada así:\n",
    "```\n",
    "nombre_de_la_función (parámetros,separados,por,comas)\n",
    "```\n",
    "Las funciones se pueden definir sin argumentos, lo cual hace que ejecute sus acciones sin requerir valores para que ésta funcione:\n",
    "```\n",
    "nombre_de_la_función ()\n",
    "```"
   ]
  },
  {
   "cell_type": "code",
   "execution_count": 11,
   "id": "d65dee9a",
   "metadata": {},
   "outputs": [],
   "source": [
    "def funcion_sin_arg1():\n",
    "    print('Esta función se ejecuta sin requerir valores de entrada')"
   ]
  },
  {
   "cell_type": "code",
   "execution_count": 12,
   "id": "635b3aeb",
   "metadata": {},
   "outputs": [],
   "source": [
    "def funcion_sin_arg2():\n",
    "    return'Esta función se ejecuta sin requerir valores de entrada'"
   ]
  },
  {
   "cell_type": "code",
   "execution_count": 13,
   "id": "ec721257",
   "metadata": {},
   "outputs": [
    {
     "name": "stdout",
     "output_type": "stream",
     "text": [
      "Esta función se ejecuta sin requerir valores de entrada\n"
     ]
    }
   ],
   "source": [
    "funcion_sin_arg1()"
   ]
  },
  {
   "cell_type": "code",
   "execution_count": 14,
   "id": "981c0316",
   "metadata": {},
   "outputs": [
    {
     "data": {
      "text/plain": [
       "'Esta función se ejecuta sin requerir valores de entrada'"
      ]
     },
     "execution_count": 14,
     "metadata": {},
     "output_type": "execute_result"
    }
   ],
   "source": [
    "funcion_sin_arg2()"
   ]
  },
  {
   "cell_type": "markdown",
   "id": "79d1b3bd",
   "metadata": {},
   "source": [
    "La diferencia entre las dos funciones anteriores es que en la segunda tenemos un `return`, es decir, la función tiene una salida que se puede almacenar para necesidades futuras."
   ]
  },
  {
   "cell_type": "code",
   "execution_count": 16,
   "id": "1b53e959",
   "metadata": {},
   "outputs": [
    {
     "name": "stdout",
     "output_type": "stream",
     "text": [
      "Esta función se ejecuta sin requerir valores de entrada\n",
      "Éste es el resultado de la primera función: None\n",
      "Éste es el resultado de la segunda función: Esta función se ejecuta sin requerir valores de entrada\n"
     ]
    }
   ],
   "source": [
    "x = funcion_sin_arg1()\n",
    "print('Éste es el resultado de la primera función:',x)\n",
    "x = funcion_sin_arg2()\n",
    "print('Éste es el resultado de la segunda función:',x)"
   ]
  },
  {
   "cell_type": "markdown",
   "id": "98b327d6",
   "metadata": {},
   "source": [
    "## Documentación:\n",
    "A las funciones que creamos, es posible añadirles documentación para que sea clara la manera de usarlas y que los argumentos sean aclarados para todos los usuarios:"
   ]
  },
  {
   "cell_type": "code",
   "execution_count": 24,
   "id": "08486812",
   "metadata": {},
   "outputs": [],
   "source": [
    "def funcion_con_doc1(x):\n",
    "    '''str de la variable de entrada.\n",
    "    \n",
    "    La función requiere de un argumento \"x\", el cual puede ser un valor numérico o una cadena de caracteres.\n",
    "    Su salida es el string de la variable de entrada.'''\n",
    "    return str(x) "
   ]
  },
  {
   "cell_type": "markdown",
   "id": "9394ee1a",
   "metadata": {},
   "source": [
    "Para ver esta documentación podemos hacerlo de la siguiente manera:  \n",
    "`funcion_con_doc1`+`shift`+`TAB`+`TAB`   \n",
    "o con el siguiente comando:\n"
   ]
  },
  {
   "cell_type": "code",
   "execution_count": 25,
   "id": "3ffd0e12",
   "metadata": {},
   "outputs": [],
   "source": [
    "funcion_con_doc1?"
   ]
  },
  {
   "cell_type": "markdown",
   "id": "5dc2c5aa",
   "metadata": {},
   "source": [
    "Lo más sano es escribir una descripción muy corta en la primera línea, luego una línea en blanco para continuar con la descripción más completa de la función."
   ]
  },
  {
   "cell_type": "markdown",
   "id": "b64f5df9",
   "metadata": {},
   "source": [
    "## Variables locales:\n",
    "Cuando creamos una función y en ella definimos alguna variable, es posible acceder a ella únicamente dentro de la función, si la intentamos llamar fuera de ella, obtendremos un error, como podemos ver a continuación:"
   ]
  },
  {
   "cell_type": "code",
   "execution_count": 32,
   "id": "35f86d84",
   "metadata": {},
   "outputs": [],
   "source": [
    "def operaciones(x,y):\n",
    "    z1 = x+y\n",
    "    z2 = x-y\n",
    "    z3 = x*y\n",
    "    z4 = x/y\n",
    "    print('Suma:',z1,'Resta:',z2,'Multiplicación:',z3,'División:',z4)"
   ]
  },
  {
   "cell_type": "code",
   "execution_count": 33,
   "id": "42c613e7",
   "metadata": {},
   "outputs": [
    {
     "name": "stdout",
     "output_type": "stream",
     "text": [
      "Suma: 3 Resta: -1 Multiplicación: 2 División: 0.5\n"
     ]
    }
   ],
   "source": [
    "operaciones(1,2)"
   ]
  },
  {
   "cell_type": "code",
   "execution_count": 34,
   "id": "42ebbd00",
   "metadata": {},
   "outputs": [
    {
     "ename": "NameError",
     "evalue": "name 'z1' is not defined",
     "output_type": "error",
     "traceback": [
      "\u001b[1;31m---------------------------------------------------------------------------\u001b[0m",
      "\u001b[1;31mNameError\u001b[0m                                 Traceback (most recent call last)",
      "\u001b[1;32m<ipython-input-34-8fdf29504afa>\u001b[0m in \u001b[0;36m<module>\u001b[1;34m\u001b[0m\n\u001b[1;32m----> 1\u001b[1;33m \u001b[0mz1\u001b[0m\u001b[1;33m\u001b[0m\u001b[1;33m\u001b[0m\u001b[0m\n\u001b[0m",
      "\u001b[1;31mNameError\u001b[0m: name 'z1' is not defined"
     ]
    }
   ],
   "source": [
    "z1"
   ]
  },
  {
   "cell_type": "markdown",
   "id": "8ea76453",
   "metadata": {},
   "source": [
    "A las variables `z1`, `z2`, `z3` y `z4` se les conoce como **variables locales**, ya que éstas se \"destruyen\" al finalizar los cálculos requeridos para finalizar la ejecución de la función `operaciones`."
   ]
  },
  {
   "cell_type": "markdown",
   "id": "24fc435a",
   "metadata": {},
   "source": [
    "# Ejercicios:\n",
    "Cree las siguientes funciones:\n",
    "* Una función que permita calcular el máximo entre dos números.\n",
    "* Una función que ordene de menor a mayor tres números.\n",
    "\n",
    "# Ejemplo:\n",
    "Crearemos una función que permita contar los resultados obtenidos al lanzar un dado una cierta cantidad de veces.\n",
    "\n",
    "Para ello emplearemos la función `randrange(a,b)` del paquete `random`, la cual nos permite obtener un número entero arbitrario en el intervalo $[a,b-1]$ siendo $a$ y $b$ números enteros, por ejemplo:"
   ]
  },
  {
   "cell_type": "code",
   "execution_count": 6,
   "id": "67db9b70",
   "metadata": {},
   "outputs": [
    {
     "data": {
      "text/plain": [
       "4"
      ]
     },
     "execution_count": 6,
     "metadata": {},
     "output_type": "execute_result"
    }
   ],
   "source": [
    "import random\n",
    "random.randrange(1, 7)"
   ]
  },
  {
   "cell_type": "code",
   "execution_count": 17,
   "id": "dc2f9ef4",
   "metadata": {},
   "outputs": [],
   "source": [
    "def lanzardados (n):\n",
    "    # n es la cantidad de veces que lanzaremos el dado\n",
    "    # Para evitar errores con números no enteros, hacemos la siguiente consideración:\n",
    "    n = int(n)\n",
    "    # Definimos los contadores para cada número:\n",
    "    cont1 = 0\n",
    "    cont2 = 0\n",
    "    cont3 = 0\n",
    "    cont4 = 0\n",
    "    cont5 = 0\n",
    "    cont6 = 0\n",
    "    # Debemos tomar un valor aleatorio entre 1 y 6, la cantidad de veces que indica n, para ello realizamos el siguiente ciclo\n",
    "    for i in range(1,n+1):\n",
    "        valor_en_el_lanzamiento = random.randrange(1, 7)\n",
    "        if valor_en_el_lanzamiento == 1:\n",
    "            cont1 += 1\n",
    "        elif valor_en_el_lanzamiento == 2:\n",
    "            cont2 += 1\n",
    "        elif valor_en_el_lanzamiento == 3:\n",
    "            cont3 += 1\n",
    "        elif valor_en_el_lanzamiento == 4:\n",
    "            cont4 += 1\n",
    "        elif valor_en_el_lanzamiento == 5:\n",
    "            cont5 += 1\n",
    "        elif valor_en_el_lanzamiento == 6:\n",
    "            cont6 += 1\n",
    "    print(f'Valor{\"Frecuencia\":>13}')\n",
    "    print(f'{1:>5}{cont1:>10}')\n",
    "    print(f'{2:>5}{cont2:>10}')\n",
    "    print(f'{3:>5}{cont3:>10}')\n",
    "    print(f'{4:>5}{cont4:>10}')\n",
    "    print(f'{5:>5}{cont5:>10}')\n",
    "    print(f'{6:>5}{cont6:>10}')"
   ]
  },
  {
   "cell_type": "code",
   "execution_count": 18,
   "id": "d397c899",
   "metadata": {},
   "outputs": [
    {
     "name": "stdout",
     "output_type": "stream",
     "text": [
      "Valor   Frecuencia\n",
      "    1        19\n",
      "    2        13\n",
      "    3        19\n",
      "    4        14\n",
      "    5        16\n",
      "    6        19\n"
     ]
    }
   ],
   "source": [
    "lanzardados(100)"
   ]
  },
  {
   "cell_type": "markdown",
   "id": "d40d148f",
   "metadata": {},
   "source": [
    "# Ejercicio:\n",
    "Como hemos podido ver, cada vez que ejecutamos la función anterior obtenemos diferentes resultados. Modifica éste código para que permita obtener los mismos valores cada vez que ejecutamos la función con determinado valor."
   ]
  }
 ],
 "metadata": {
  "kernelspec": {
   "display_name": "Python 3 (ipykernel)",
   "language": "python",
   "name": "python3"
  },
  "language_info": {
   "codemirror_mode": {
    "name": "ipython",
    "version": 3
   },
   "file_extension": ".py",
   "mimetype": "text/x-python",
   "name": "python",
   "nbconvert_exporter": "python",
   "pygments_lexer": "ipython3",
   "version": "3.9.5"
  },
  "latex_envs": {
   "LaTeX_envs_menu_present": true,
   "autoclose": false,
   "autocomplete": true,
   "bibliofile": "biblio.bib",
   "cite_by": "apalike",
   "current_citInitial": 1,
   "eqLabelWithNumbers": true,
   "eqNumInitial": 1,
   "hotkeys": {
    "equation": "Ctrl-E",
    "itemize": "Ctrl-I"
   },
   "labels_anchors": false,
   "latex_user_defs": false,
   "report_style_numbering": false,
   "user_envs_cfg": false
  },
  "toc": {
   "base_numbering": 1,
   "nav_menu": {},
   "number_sections": true,
   "sideBar": true,
   "skip_h1_title": false,
   "title_cell": "Table of Contents",
   "title_sidebar": "Contents",
   "toc_cell": false,
   "toc_position": {},
   "toc_section_display": true,
   "toc_window_display": false
  }
 },
 "nbformat": 4,
 "nbformat_minor": 5
}