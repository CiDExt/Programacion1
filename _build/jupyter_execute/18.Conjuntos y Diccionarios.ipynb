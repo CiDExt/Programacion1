{
 "cells": [
  {
   "cell_type": "markdown",
   "id": "a037c0ad-7e2f-44fd-bb8f-68d728e84482",
   "metadata": {},
   "source": [
    "# Conjuntos"
   ]
  },
  {
   "cell_type": "markdown",
   "id": "e5700e17-071f-410a-8248-60223183a4c5",
   "metadata": {},
   "source": [
    ":::::{important} ¿Qué debemos tener presente?\n",
    "\n",
    "\n",
    "Objetos mutables e inmutables\n",
    "\n",
    "\n",
    "````{tabbed} Mutables\n",
    "\n",
    ":::{admonition} ¿Cuáles son?\n",
    ":class: tip\n",
    "* Listas.\n",
    "* Conjuntos.\n",
    "* Diccionarios.\n",
    ":::\n",
    "````\n",
    "\n",
    "````{tabbed} Inmutables\n",
    "\n",
    ":::{admonition} ¿Cuáles no son?\n",
    ":class: tip\n",
    "* Números (`int`, `float`, `bool`).\n",
    "* Cadenas de caracteres (`str`).\n",
    "* Tuplas.\n",
    "* Frozen sets.\n",
    ":::\n",
    "````\n",
    ":::::"
   ]
  },
  {
   "cell_type": "markdown",
   "id": "346e817a",
   "metadata": {},
   "source": [
    "Un **conjunto** es un objeto el cual se puede crear de dos maneras, la primera es escribiendo los elementos entre llaves `{}` separados por comas, y la otra es mediante la función `set()`, en la cual el argumento es un iterable el cual contiene los elementos del conjunto que deseamos crear:"
   ]
  },
  {
   "cell_type": "code",
   "execution_count": 1,
   "id": "07503c0a",
   "metadata": {},
   "outputs": [
    {
     "data": {
      "text/plain": [
       "{0, 1, 2, 3}"
      ]
     },
     "execution_count": 1,
     "metadata": {},
     "output_type": "execute_result"
    }
   ],
   "source": [
    "{0,1,2,3}"
   ]
  },
  {
   "cell_type": "code",
   "execution_count": 2,
   "id": "c8d08899",
   "metadata": {},
   "outputs": [
    {
     "data": {
      "text/plain": [
       "{0, 1, 2, 3}"
      ]
     },
     "execution_count": 2,
     "metadata": {},
     "output_type": "execute_result"
    }
   ],
   "source": [
    "set([0,1,2,3])"
   ]
  },
  {
   "cell_type": "code",
   "execution_count": 3,
   "id": "a12ca1d4",
   "metadata": {},
   "outputs": [
    {
     "data": {
      "text/plain": [
       "{0, 1, 2, 3}"
      ]
     },
     "execution_count": 3,
     "metadata": {},
     "output_type": "execute_result"
    }
   ],
   "source": [
    "set((0,1,2,3))"
   ]
  },
  {
   "cell_type": "markdown",
   "id": "8a3af7a7",
   "metadata": {},
   "source": [
    "## Particularidades:\n",
    "Los conjuntos **no permiten repeticiones**, por ejemplo:"
   ]
  },
  {
   "cell_type": "code",
   "execution_count": 4,
   "id": "b8b783e2",
   "metadata": {},
   "outputs": [
    {
     "name": "stdout",
     "output_type": "stream",
     "text": [
      "{1, 2, 3}\n",
      "{1, 2, 3}\n"
     ]
    }
   ],
   "source": [
    "print(set([1,2,3,1,2,1]))\n",
    "# es el mismo conjunto:\n",
    "print({1,2,3})"
   ]
  },
  {
   "cell_type": "markdown",
   "id": "3db339bf",
   "metadata": {},
   "source": [
    "Los conjuntos **no tienen un orden**, como lo tenían las listas y las tuplas:"
   ]
  },
  {
   "cell_type": "code",
   "execution_count": 5,
   "id": "0f0f6b80",
   "metadata": {},
   "outputs": [
    {
     "name": "stdout",
     "output_type": "stream",
     "text": [
      "{1, 2, 3}\n",
      "{1, 2, 3}\n",
      "{1, 2, 3}\n"
     ]
    }
   ],
   "source": [
    "print({1,2,3})\n",
    "print({3,1,2})\n",
    "print({2,3,1})"
   ]
  },
  {
   "cell_type": "markdown",
   "id": "6d1de9c7",
   "metadata": {},
   "source": [
    "Los elementos de un conjunto **no pueden ser objetos mutables**, como listas, conjuntos o diccionarios:"
   ]
  },
  {
   "cell_type": "code",
   "execution_count": 6,
   "id": "2dd1a659",
   "metadata": {},
   "outputs": [
    {
     "ename": "TypeError",
     "evalue": "unhashable type: 'list'",
     "output_type": "error",
     "traceback": [
      "\u001b[0;31m---------------------------------------------------------------------------\u001b[0m",
      "\u001b[0;31mTypeError\u001b[0m                                 Traceback (most recent call last)",
      "\u001b[0;32m/tmp/ipykernel_29766/1108055391.py\u001b[0m in \u001b[0;36m<module>\u001b[0;34m\u001b[0m\n\u001b[0;32m----> 1\u001b[0;31m \u001b[0mprint\u001b[0m\u001b[0;34m(\u001b[0m\u001b[0;34m{\u001b[0m\u001b[0;36m1\u001b[0m\u001b[0;34m,\u001b[0m\u001b[0;34m[\u001b[0m\u001b[0;36m2\u001b[0m\u001b[0;34m,\u001b[0m\u001b[0;36m3\u001b[0m\u001b[0;34m]\u001b[0m\u001b[0;34m}\u001b[0m\u001b[0;34m)\u001b[0m\u001b[0;34m\u001b[0m\u001b[0;34m\u001b[0m\u001b[0m\n\u001b[0m",
      "\u001b[0;31mTypeError\u001b[0m: unhashable type: 'list'"
     ]
    }
   ],
   "source": [
    "print({1,[2,3]})"
   ]
  },
  {
   "cell_type": "code",
   "execution_count": 7,
   "id": "6ab26146",
   "metadata": {},
   "outputs": [
    {
     "ename": "TypeError",
     "evalue": "unhashable type: 'set'",
     "output_type": "error",
     "traceback": [
      "\u001b[0;31m---------------------------------------------------------------------------\u001b[0m",
      "\u001b[0;31mTypeError\u001b[0m                                 Traceback (most recent call last)",
      "\u001b[0;32m<ipython-input-7-87021e2e51b7>\u001b[0m in \u001b[0;36m<module>\u001b[0;34m\u001b[0m\n\u001b[0;32m----> 1\u001b[0;31m \u001b[0mprint\u001b[0m\u001b[0;34m(\u001b[0m\u001b[0;34m{\u001b[0m\u001b[0;36m1\u001b[0m\u001b[0;34m,\u001b[0m\u001b[0;34m{\u001b[0m\u001b[0;36m2\u001b[0m\u001b[0;34m,\u001b[0m\u001b[0;36m3\u001b[0m\u001b[0;34m}\u001b[0m\u001b[0;34m}\u001b[0m\u001b[0;34m)\u001b[0m\u001b[0;34m\u001b[0m\u001b[0;34m\u001b[0m\u001b[0m\n\u001b[0m",
      "\u001b[0;31mTypeError\u001b[0m: unhashable type: 'set'"
     ]
    }
   ],
   "source": [
    "print({1,{2,3}})"
   ]
  },
  {
   "cell_type": "code",
   "execution_count": 8,
   "id": "73bdecc4",
   "metadata": {},
   "outputs": [
    {
     "ename": "TypeError",
     "evalue": "unhashable type: 'dict'",
     "output_type": "error",
     "traceback": [
      "\u001b[0;31m---------------------------------------------------------------------------\u001b[0m",
      "\u001b[0;31mTypeError\u001b[0m                                 Traceback (most recent call last)",
      "\u001b[0;32m<ipython-input-8-65a58b1af8f4>\u001b[0m in \u001b[0;36m<module>\u001b[0;34m\u001b[0m\n\u001b[0;32m----> 1\u001b[0;31m \u001b[0mprint\u001b[0m\u001b[0;34m(\u001b[0m\u001b[0;34m{\u001b[0m\u001b[0;36m1\u001b[0m\u001b[0;34m,\u001b[0m\u001b[0;34m{\u001b[0m\u001b[0;34m\"dos\"\u001b[0m\u001b[0;34m:\u001b[0m\u001b[0;36m2\u001b[0m\u001b[0;34m,\u001b[0m\u001b[0;34m\"tres\"\u001b[0m\u001b[0;34m:\u001b[0m\u001b[0;36m3\u001b[0m\u001b[0;34m}\u001b[0m\u001b[0;34m}\u001b[0m\u001b[0;34m)\u001b[0m\u001b[0;34m\u001b[0m\u001b[0;34m\u001b[0m\u001b[0m\n\u001b[0m",
      "\u001b[0;31mTypeError\u001b[0m: unhashable type: 'dict'"
     ]
    }
   ],
   "source": [
    "print({1,{\"dos\":2,\"tres\":3}})"
   ]
  },
  {
   "cell_type": "markdown",
   "id": "c9172f02",
   "metadata": {},
   "source": [
    "Pero sí puede tener elementos del tipo tupla:"
   ]
  },
  {
   "cell_type": "code",
   "execution_count": 9,
   "id": "afa9210a",
   "metadata": {},
   "outputs": [
    {
     "name": "stdout",
     "output_type": "stream",
     "text": [
      "{(2, 3), 1}\n"
     ]
    }
   ],
   "source": [
    "print({1,(2,3)})"
   ]
  },
  {
   "cell_type": "markdown",
   "id": "d3b3944a",
   "metadata": {},
   "source": [
    "Los conjuntos **no tienen un índice**, esto es completamente diferente a lo que habíamos trabajado hasta el momento, y es natural dado que los elementos no tienen un orden:"
   ]
  },
  {
   "cell_type": "code",
   "execution_count": 10,
   "id": "c8f3b6d4",
   "metadata": {},
   "outputs": [],
   "source": [
    "c = {1,2,3}"
   ]
  },
  {
   "cell_type": "code",
   "execution_count": 11,
   "id": "99acece5",
   "metadata": {},
   "outputs": [
    {
     "ename": "TypeError",
     "evalue": "'set' object is not subscriptable",
     "output_type": "error",
     "traceback": [
      "\u001b[0;31m---------------------------------------------------------------------------\u001b[0m",
      "\u001b[0;31mTypeError\u001b[0m                                 Traceback (most recent call last)",
      "\u001b[0;32m<ipython-input-11-71463270cd6c>\u001b[0m in \u001b[0;36m<module>\u001b[0;34m\u001b[0m\n\u001b[0;32m----> 1\u001b[0;31m \u001b[0mc\u001b[0m\u001b[0;34m[\u001b[0m\u001b[0;36m0\u001b[0m\u001b[0;34m]\u001b[0m\u001b[0;34m\u001b[0m\u001b[0;34m\u001b[0m\u001b[0m\n\u001b[0m",
      "\u001b[0;31mTypeError\u001b[0m: 'set' object is not subscriptable"
     ]
    }
   ],
   "source": [
    "c[0]"
   ]
  },
  {
   "cell_type": "markdown",
   "id": "da014c99",
   "metadata": {},
   "source": [
    "Lo anterior implica que los elementos de los conjuntos no se pueden modificar, podemos agregar o quitar elementos pero no remplazar los que teníamos en la definición del conjunto:"
   ]
  },
  {
   "cell_type": "code",
   "execution_count": 12,
   "id": "b3799544",
   "metadata": {},
   "outputs": [],
   "source": [
    "c2 = {\"uno\",2,3.0}"
   ]
  },
  {
   "cell_type": "markdown",
   "id": "802f93aa",
   "metadata": {},
   "source": [
    "Para **agregar un único elemento** empleamos el siguiente método:\n"
   ]
  },
  {
   "cell_type": "code",
   "execution_count": 13,
   "id": "e1acf279",
   "metadata": {},
   "outputs": [
    {
     "data": {
      "text/plain": [
       "{2, 3.0, 4, 'uno'}"
      ]
     },
     "execution_count": 13,
     "metadata": {},
     "output_type": "execute_result"
    }
   ],
   "source": [
    "c2.add(4)\n",
    "c2"
   ]
  },
  {
   "cell_type": "markdown",
   "id": "9d8f7e46",
   "metadata": {},
   "source": [
    "Para **agregar múltiples elementos** a un conjunto empleamos el método `update`, teniendo presente que las repeticiones de elementos serán omitidas:"
   ]
  },
  {
   "cell_type": "code",
   "execution_count": 14,
   "id": "e7480025",
   "metadata": {},
   "outputs": [
    {
     "data": {
      "text/plain": [
       "{1, 2, 3.0, 4, 'uno'}"
      ]
     },
     "execution_count": 14,
     "metadata": {},
     "output_type": "execute_result"
    }
   ],
   "source": [
    "c2.update([1,2,3])\n",
    "c2"
   ]
  },
  {
   "cell_type": "markdown",
   "id": "c015a3ae",
   "metadata": {},
   "source": [
    "Del mismo modo en que agregamos elementos, podemos quitarlos de nuestros conjuntos, con los métodos `remove` o `discard`. La diferencia entre ellos es que si al emplear el método `remove` el elemento no está en el conjunto, arroja error; pero con `discard` el conjunto no se ve afectado ni erroja errores:"
   ]
  },
  {
   "cell_type": "code",
   "execution_count": 15,
   "id": "6b072d49",
   "metadata": {},
   "outputs": [
    {
     "data": {
      "text/plain": [
       "{1, 2, 4, 'uno'}"
      ]
     },
     "execution_count": 15,
     "metadata": {},
     "output_type": "execute_result"
    }
   ],
   "source": [
    "c2.remove(3)\n",
    "c2"
   ]
  },
  {
   "cell_type": "code",
   "execution_count": 16,
   "id": "1c2dca52",
   "metadata": {},
   "outputs": [
    {
     "ename": "KeyError",
     "evalue": "5",
     "output_type": "error",
     "traceback": [
      "\u001b[0;31m---------------------------------------------------------------------------\u001b[0m",
      "\u001b[0;31mKeyError\u001b[0m                                  Traceback (most recent call last)",
      "\u001b[0;32m<ipython-input-16-989e2b2523b8>\u001b[0m in \u001b[0;36m<module>\u001b[0;34m\u001b[0m\n\u001b[0;32m----> 1\u001b[0;31m \u001b[0mc2\u001b[0m\u001b[0;34m.\u001b[0m\u001b[0mremove\u001b[0m\u001b[0;34m(\u001b[0m\u001b[0;36m5\u001b[0m\u001b[0;34m)\u001b[0m\u001b[0;34m\u001b[0m\u001b[0;34m\u001b[0m\u001b[0m\n\u001b[0m\u001b[1;32m      2\u001b[0m \u001b[0mc2\u001b[0m\u001b[0;34m\u001b[0m\u001b[0;34m\u001b[0m\u001b[0m\n",
      "\u001b[0;31mKeyError\u001b[0m: 5"
     ]
    }
   ],
   "source": [
    "c2.remove(5)\n",
    "c2"
   ]
  },
  {
   "cell_type": "code",
   "execution_count": 17,
   "id": "3def38e7",
   "metadata": {},
   "outputs": [
    {
     "data": {
      "text/plain": [
       "{1, 2, 4, 'uno'}"
      ]
     },
     "execution_count": 17,
     "metadata": {},
     "output_type": "execute_result"
    }
   ],
   "source": [
    "c2.discard(5)\n",
    "c2"
   ]
  },
  {
   "cell_type": "code",
   "execution_count": 18,
   "id": "51050a51",
   "metadata": {},
   "outputs": [
    {
     "data": {
      "text/plain": [
       "{1, 2, 4}"
      ]
     },
     "execution_count": 18,
     "metadata": {},
     "output_type": "execute_result"
    }
   ],
   "source": [
    "c2.discard(\"uno\")\n",
    "c2"
   ]
  },
  {
   "cell_type": "markdown",
   "id": "85d2087e",
   "metadata": {},
   "source": [
    "El método `pop` elimina un elemento del conjunto, por lo general toma el primer elemento de éste luego del ordenamiento interno realizado:"
   ]
  },
  {
   "cell_type": "code",
   "execution_count": 19,
   "id": "9e1983cc",
   "metadata": {},
   "outputs": [
    {
     "data": {
      "text/plain": [
       "{2, 4}"
      ]
     },
     "execution_count": 19,
     "metadata": {},
     "output_type": "execute_result"
    }
   ],
   "source": [
    "c2.pop()\n",
    "c2"
   ]
  },
  {
   "cell_type": "markdown",
   "id": "f1dde0ea",
   "metadata": {},
   "source": [
    "Si queremos eliminar todos los elementos del conjunto, basta emplear el método `clear`:"
   ]
  },
  {
   "cell_type": "code",
   "execution_count": 20,
   "id": "a9e6645c",
   "metadata": {},
   "outputs": [
    {
     "data": {
      "text/plain": [
       "set()"
      ]
     },
     "execution_count": 20,
     "metadata": {},
     "output_type": "execute_result"
    }
   ],
   "source": [
    "c2.clear()\n",
    "c2"
   ]
  },
  {
   "cell_type": "markdown",
   "id": "6be3a601",
   "metadata": {},
   "source": [
    "## Operaciones entre conjuntos\n",
    "Como hemos podido ver, los conjuntos que hemos trabajado en el cuderno se comportan de la misma manera que los conjuntos que usualmente trabajamos en matemáticas, además están las operaciones usuales entre ellos: **unión, intersección, diferencia** y **diferencia simétrica:**"
   ]
  },
  {
   "cell_type": "markdown",
   "id": "db934b24",
   "metadata": {},
   "source": [
    "### Unión\n"
   ]
  },
  {
   "cell_type": "markdown",
   "id": "4adbe741",
   "metadata": {},
   "source": [
    "<div style=\"width: 100%;\"><div style=\"position: relative; padding-bottom: 56.25%; padding-top: 0; height: 0;\"><iframe frameborder=\"0\" width=\"1200\" height=\"675\" style=\"position: absolute; top: 0; left: 0; width: 100%; height: 100%;\" src=\"https://view.genial.ly/619e631d894c1a0d819afcfe\" type=\"text/html\" allowscriptaccess=\"always\" allowfullscreen=\"true\" scrolling=\"yes\" allownetworking=\"all\"></iframe> </div> </div>"
   ]
  },
  {
   "cell_type": "markdown",
   "id": "18ebb068",
   "metadata": {},
   "source": [
    "Como bien sabemos, la unión de dos conjuntos se define como los el conjunto formado por los elementos que hacen parte de uno u otro. \n",
    "Si definimos los conjuintos:"
   ]
  },
  {
   "cell_type": "code",
   "execution_count": 21,
   "id": "b4c90d9f",
   "metadata": {},
   "outputs": [],
   "source": [
    "u1 = {\"a\",\"e\",\"i\",\"o\",\"u\"}\n",
    "u2 = {1,2,3,4}"
   ]
  },
  {
   "cell_type": "code",
   "execution_count": 22,
   "id": "043f34e9",
   "metadata": {},
   "outputs": [
    {
     "data": {
      "text/plain": [
       "{1, 2, 3, 4, 'a', 'e', 'i', 'o', 'u'}"
      ]
     },
     "execution_count": 22,
     "metadata": {},
     "output_type": "execute_result"
    }
   ],
   "source": [
    "#La unión entre ellos se realiza así:\n",
    "u1.union(u2)"
   ]
  },
  {
   "cell_type": "markdown",
   "id": "8b66fd40",
   "metadata": {},
   "source": [
    "### Intersección\n",
    "La intersección entre dos conjuntos, como bien sabemos, es el conjunto formado por los elementos que hay en común entre ellos:"
   ]
  },
  {
   "cell_type": "markdown",
   "id": "1c21e2a5",
   "metadata": {},
   "source": [
    "<div style=\"width: 100%;\"><div style=\"position: relative; padding-bottom: 56.25%; padding-top: 0; height: 0;\"><iframe frameborder=\"0\" width=\"1200\" height=\"675\" style=\"position: absolute; top: 0; left: 0; width: 100%; height: 100%;\" src=\"https://view.genial.ly/619e739b3d3b610db6c57305\" type=\"text/html\" allowscriptaccess=\"always\" allowfullscreen=\"true\" scrolling=\"yes\" allownetworking=\"all\"></iframe> </div> </div>"
   ]
  },
  {
   "cell_type": "markdown",
   "id": "65273b07",
   "metadata": {},
   "source": [
    "La forma de hacer dicha operación con los conjuntos de Python es la siguiente:"
   ]
  },
  {
   "cell_type": "code",
   "execution_count": 23,
   "id": "ba35a250",
   "metadata": {},
   "outputs": [],
   "source": [
    "i1 = {\"a\",\"e\",\"i\",\"o\",\"u\"}\n",
    "i2 = {\"a\",2,3,\"u\"}\n",
    "i3 = {\"e\",\"o\",5}"
   ]
  },
  {
   "cell_type": "code",
   "execution_count": 24,
   "id": "f4114070",
   "metadata": {},
   "outputs": [
    {
     "name": "stdout",
     "output_type": "stream",
     "text": [
      "{'a', 'u'}\n",
      "{'o', 'e'}\n",
      "set()\n"
     ]
    }
   ],
   "source": [
    "print(i1.intersection(i2))\n",
    "print(i1.intersection(i3))\n",
    "print(i3.intersection(i2))"
   ]
  },
  {
   "cell_type": "markdown",
   "id": "8b6330c5",
   "metadata": {},
   "source": [
    "Por su lado el método `intersection_update`, remplaza el contenido de un conjunto por el de la intersección de él con otro conjunto dado"
   ]
  },
  {
   "cell_type": "code",
   "execution_count": 25,
   "id": "d8d37e77",
   "metadata": {},
   "outputs": [
    {
     "data": {
      "text/plain": [
       "{'e', 'o'}"
      ]
     },
     "execution_count": 25,
     "metadata": {},
     "output_type": "execute_result"
    }
   ],
   "source": [
    "#i1 será remplazado por la intersección {'e', 'o'}\n",
    "i1.intersection_update(i3)\n",
    "i1"
   ]
  },
  {
   "cell_type": "markdown",
   "id": "c09da576",
   "metadata": {},
   "source": [
    "### Diferencia\n",
    "La diferencia entre el conjunto A y el conjunto B, son los elementos que tiene A que no tiene B. Ésta operación, a diferencia de la unión y la intersección, no es conmutativa."
   ]
  },
  {
   "cell_type": "markdown",
   "id": "2a61af27",
   "metadata": {},
   "source": [
    "<div style=\"width: 100%;\"><div style=\"position: relative; padding-bottom: 56.25%; padding-top: 0; height: 0;\"><iframe frameborder=\"0\" width=\"1200\" height=\"675\" style=\"position: absolute; top: 0; left: 0; width: 100%; height: 100%;\" src=\"https://view.genial.ly/619e751275c5c20d8bdc9f92\" type=\"text/html\" allowscriptaccess=\"always\" allowfullscreen=\"true\" scrolling=\"yes\" allownetworking=\"all\"></iframe> </div> </div>"
   ]
  },
  {
   "cell_type": "markdown",
   "id": "0e2a5a32",
   "metadata": {},
   "source": [
    "El código que debe ejecutarse para hacer dicha operación entre dos conjuntos es el siguiente:"
   ]
  },
  {
   "cell_type": "code",
   "execution_count": 26,
   "id": "5a213ca1",
   "metadata": {},
   "outputs": [],
   "source": [
    "d1 = {\"h\",\"o\",\"l\",\"a\"}\n",
    "d2 = {\"b\",\"u\",\"e\",\"n\",\"a\",\"s\"}"
   ]
  },
  {
   "cell_type": "code",
   "execution_count": 27,
   "id": "2905362c",
   "metadata": {},
   "outputs": [
    {
     "data": {
      "text/plain": [
       "{'h', 'l', 'o'}"
      ]
     },
     "execution_count": 27,
     "metadata": {},
     "output_type": "execute_result"
    }
   ],
   "source": [
    "d1.difference(d2)"
   ]
  },
  {
   "cell_type": "code",
   "execution_count": 28,
   "id": "b952d112",
   "metadata": {},
   "outputs": [
    {
     "data": {
      "text/plain": [
       "{'b', 'e', 'n', 's', 'u'}"
      ]
     },
     "execution_count": 28,
     "metadata": {},
     "output_type": "execute_result"
    }
   ],
   "source": [
    "d2.difference(d1)"
   ]
  },
  {
   "cell_type": "markdown",
   "id": "7dec43be",
   "metadata": {},
   "source": [
    "También podemos actualizar el contenido de un conjunto por la diferencia de él con otro conjunto, empleando el método `difference_update`, así:"
   ]
  },
  {
   "cell_type": "code",
   "execution_count": 29,
   "id": "77211f9b",
   "metadata": {},
   "outputs": [
    {
     "data": {
      "text/plain": [
       "{'b', 'e', 'n', 's', 'u'}"
      ]
     },
     "execution_count": 29,
     "metadata": {},
     "output_type": "execute_result"
    }
   ],
   "source": [
    "d2.difference_update(d1)\n",
    "d2"
   ]
  },
  {
   "cell_type": "markdown",
   "id": "e15389c0",
   "metadata": {},
   "source": [
    "### Diferencia simétrica\n",
    "Ésta operación, dados dos conjuntos A y B, se puede ver de dos maneras: La primera es como la diferencia de A y B unida con la diferencia de B con A. La segunda es como la diferencia entre la unión de A con B con la intersección de los dos conjuntos. La forma gráfica de entenderla es la siguiente:"
   ]
  },
  {
   "cell_type": "markdown",
   "id": "8701e3fc",
   "metadata": {},
   "source": [
    "<div style=\"width: 100%;\"><div style=\"position: relative; padding-bottom: 56.25%; padding-top: 0; height: 0;\"><iframe frameborder=\"0\" width=\"1200\" height=\"675\" style=\"position: absolute; top: 0; left: 0; width: 100%; height: 100%;\" src=\"https://view.genial.ly/619e751aae59f30d5cb30220\" type=\"text/html\" allowscriptaccess=\"always\" allowfullscreen=\"true\" scrolling=\"yes\" allownetworking=\"all\"></iframe> </div> </div>"
   ]
  },
  {
   "cell_type": "code",
   "execution_count": 30,
   "id": "6ef19d06",
   "metadata": {},
   "outputs": [],
   "source": [
    "d1 = {\"h\",\"o\",\"l\",\"a\"}\n",
    "d2 = {\"b\",\"u\",\"e\",\"n\",\"a\",\"s\"}"
   ]
  },
  {
   "cell_type": "code",
   "execution_count": 31,
   "id": "78d0c99f",
   "metadata": {},
   "outputs": [
    {
     "data": {
      "text/plain": [
       "{'b', 'e', 'h', 'l', 'n', 'o', 's', 'u'}"
      ]
     },
     "execution_count": 31,
     "metadata": {},
     "output_type": "execute_result"
    }
   ],
   "source": [
    "d1.symmetric_difference(d2)"
   ]
  },
  {
   "cell_type": "code",
   "execution_count": 32,
   "id": "0b79dc26",
   "metadata": {},
   "outputs": [
    {
     "data": {
      "text/plain": [
       "{'b', 'e', 'h', 'l', 'n', 'o', 's', 'u'}"
      ]
     },
     "execution_count": 32,
     "metadata": {},
     "output_type": "execute_result"
    }
   ],
   "source": [
    "d1.union(d2).difference(d1.intersection(d2))"
   ]
  },
  {
   "cell_type": "markdown",
   "id": "c51c3342",
   "metadata": {},
   "source": [
    "Con el método  `symmetric_difference_update`, podemos actualizar el contenido de un conjunto por la diferencia simétrica de él con otro conjunto, como podemos ver a continuación:"
   ]
  },
  {
   "cell_type": "code",
   "execution_count": 33,
   "id": "4052c2a9",
   "metadata": {},
   "outputs": [
    {
     "data": {
      "text/plain": [
       "{'b', 'e', 'h', 'l', 'n', 'o', 's', 'u'}"
      ]
     },
     "execution_count": 33,
     "metadata": {},
     "output_type": "execute_result"
    }
   ],
   "source": [
    "d1.symmetric_difference_update(d2)\n",
    "d1"
   ]
  },
  {
   "cell_type": "markdown",
   "id": "46c35a3e",
   "metadata": {},
   "source": [
    "### Ejercicios\n",
    "1. Investiga la diferencia entre los objetos del tipo `frozenset` y los tipo `set`, que estudiamos en el presente cuaderno."
   ]
  },
  {
   "cell_type": "markdown",
   "id": "77197e0d",
   "metadata": {},
   "source": [
    "# Diccionarios\n",
    "Los diccionarios son una colección ordenada de elementos, y para cada elemento en él existe una pareja `key : value` asociada.\n",
    "\n",
    "Éstos objetos están optimizados para mostrar el \"valor\" cuando conocemos la \"llave\" o \"clave\".\n",
    "\n",
    "La creación de éstos es muy sencilla, cada pareja `key : value` debe ir separada de la otra con coma, y las llaves deben ser objetos inmutables `str`, `int`, `float` o `tuple`, así:\n",
    "```python\n",
    "{llave_1:valor_1, llave_2:valor_2, ... ,llave_n:valor_n}\n",
    "```"
   ]
  },
  {
   "cell_type": "code",
   "execution_count": 34,
   "id": "57e3b0be",
   "metadata": {},
   "outputs": [],
   "source": [
    "dic1 = {\"Nombre\":\"Pepito\",\"Apellido\":\"Pérez\",\"Edad\":20}"
   ]
  },
  {
   "cell_type": "markdown",
   "id": "515c5e0a",
   "metadata": {},
   "source": [
    "Éstos también se pueden crear con la función `dict`"
   ]
  },
  {
   "cell_type": "code",
   "execution_count": 35,
   "id": "0c7fcd10",
   "metadata": {},
   "outputs": [
    {
     "data": {
      "text/plain": [
       "{'nombre': 'Pepito', 'Apellido': 'Pérez', 'edad': 20}"
      ]
     },
     "execution_count": 35,
     "metadata": {},
     "output_type": "execute_result"
    }
   ],
   "source": [
    "dict([(\"nombre\",\"Pepito\"),(\"Apellido\",\"Pérez\"),(\"edad\",20)])"
   ]
  },
  {
   "cell_type": "markdown",
   "id": "da8abceb",
   "metadata": {},
   "source": [
    "Los diccionarios pueden tener llaves de un único tipo, como en el ejemplo anterior, o pueden ser mixtas:"
   ]
  },
  {
   "cell_type": "code",
   "execution_count": 36,
   "id": "516d4789",
   "metadata": {},
   "outputs": [],
   "source": [
    "dic2 = {1:\"Arroz\",2:\"Aceite\",3:20,4:1}"
   ]
  },
  {
   "cell_type": "markdown",
   "id": "90982344",
   "metadata": {},
   "source": [
    "Si deseamos acceder a un valor en especial, debemos seguir la idea de las listas, pero el índice se remplaza por el nombre de la llave así;\n",
    "```python\n",
    "elemento = diccionario[\"llave\"]\n",
    "```\n",
    "por ejemplo:"
   ]
  },
  {
   "cell_type": "code",
   "execution_count": 37,
   "id": "735931d8",
   "metadata": {},
   "outputs": [
    {
     "data": {
      "text/plain": [
       "'Pepito'"
      ]
     },
     "execution_count": 37,
     "metadata": {},
     "output_type": "execute_result"
    }
   ],
   "source": [
    "dic1[\"Nombre\"]"
   ]
  },
  {
   "cell_type": "code",
   "execution_count": 38,
   "id": "660c9665",
   "metadata": {},
   "outputs": [
    {
     "data": {
      "text/plain": [
       "'Arroz'"
      ]
     },
     "execution_count": 38,
     "metadata": {},
     "output_type": "execute_result"
    }
   ],
   "source": [
    "dic2[1]"
   ]
  },
  {
   "cell_type": "markdown",
   "id": "ed23577d",
   "metadata": {},
   "source": [
    "O con el método `get()`"
   ]
  },
  {
   "cell_type": "code",
   "execution_count": 39,
   "id": "51032a50",
   "metadata": {},
   "outputs": [
    {
     "data": {
      "text/plain": [
       "'Aceite'"
      ]
     },
     "execution_count": 39,
     "metadata": {},
     "output_type": "execute_result"
    }
   ],
   "source": [
    "dic2.get(2)"
   ]
  },
  {
   "cell_type": "markdown",
   "id": "c20be33d",
   "metadata": {},
   "source": [
    "Para añadir elementos a un diccionario, basta con llamar al diccionario, la llave que deseamos modificar y asignar el valor deseado\n",
    "```python\n",
    "diccionario[\"llave\"] = valor\n",
    "```"
   ]
  },
  {
   "cell_type": "code",
   "execution_count": 40,
   "id": "e1505c56",
   "metadata": {},
   "outputs": [
    {
     "data": {
      "text/plain": [
       "{1: 'Arroz', 2: 'Aceite', 3: 20, 4: 1, 5: 'pan'}"
      ]
     },
     "execution_count": 40,
     "metadata": {},
     "output_type": "execute_result"
    }
   ],
   "source": [
    "dic2[5] = \"pan\"\n",
    "dic2"
   ]
  },
  {
   "cell_type": "markdown",
   "id": "4a0460e6",
   "metadata": {},
   "source": [
    "O mediante el método `update`, el cual como argumento tendrá la pareja `key : value` que se desea anexar en el diccionario:"
   ]
  },
  {
   "cell_type": "code",
   "execution_count": 41,
   "id": "a7997f4a",
   "metadata": {},
   "outputs": [
    {
     "data": {
      "text/plain": [
       "{1: 'Arroz', 2: 'Aceite', 3: 20, 4: 1, 5: 'pan', 6: 'chocolate'}"
      ]
     },
     "execution_count": 41,
     "metadata": {},
     "output_type": "execute_result"
    }
   ],
   "source": [
    "dic2.update({6:\"chocolate\"})\n",
    "dic2"
   ]
  },
  {
   "cell_type": "markdown",
   "id": "c50762fa",
   "metadata": {},
   "source": [
    "## Ejercicio:\n",
    "1. Cree un diccionario que se llame notas, en el cual estén los nombres y los valores de cuatro notas obtenidas por \"Pepito Pérez\"."
   ]
  },
  {
   "cell_type": "code",
   "execution_count": 42,
   "id": "a77112ae",
   "metadata": {},
   "outputs": [
    {
     "data": {
      "text/plain": [
       "{'Quiz1': 3.5, 'Parcial1': 2.3, 'AulaVirtual': 5.0, 'Taller1': 4.3}"
      ]
     },
     "execution_count": 42,
     "metadata": {},
     "output_type": "execute_result"
    }
   ],
   "source": [
    "Notas = {\"Quiz1\":3.5, \"Parcial1\":2.3, \"AulaVirtual\":5.0, \"Taller1\":4.3 }\n",
    "Notas"
   ]
  },
  {
   "cell_type": "markdown",
   "id": "cf071af5",
   "metadata": {},
   "source": [
    "Ahora agregaremos el diccionario de antes, al primero que creamos"
   ]
  },
  {
   "cell_type": "code",
   "execution_count": 43,
   "id": "c0590e71",
   "metadata": {},
   "outputs": [
    {
     "data": {
      "text/plain": [
       "{'Nombre': 'Pepito',\n",
       " 'Apellido': 'Pérez',\n",
       " 'Edad': 20,\n",
       " 'Notas': {'Quiz1': 3.5, 'Parcial1': 2.3, 'AulaVirtual': 5.0, 'Taller1': 4.3}}"
      ]
     },
     "execution_count": 43,
     "metadata": {},
     "output_type": "execute_result"
    }
   ],
   "source": [
    "dic1[\"Notas\"] = Notas\n",
    "dic1"
   ]
  },
  {
   "cell_type": "markdown",
   "id": "b07bdee6",
   "metadata": {},
   "source": [
    "El ejemplo anterior nos muestra que podemos anidar diccionarios, es decir, un elemento de un diccionario puede ser otro diccionario.\n",
    "\n",
    "Para acceder a dichos valores debemos llamar las dos llaves:"
   ]
  },
  {
   "cell_type": "code",
   "execution_count": 44,
   "id": "befb2d9c",
   "metadata": {},
   "outputs": [
    {
     "data": {
      "text/plain": [
       "3.5"
      ]
     },
     "execution_count": 44,
     "metadata": {},
     "output_type": "execute_result"
    }
   ],
   "source": [
    "dic1[\"Notas\"][\"Quiz1\"]"
   ]
  },
  {
   "cell_type": "markdown",
   "id": "5988e625",
   "metadata": {},
   "source": [
    "Para **modificar** los elementos del diccionario, accedemos a su llave y cambiamos el valor, por ejemplo:"
   ]
  },
  {
   "cell_type": "code",
   "execution_count": 45,
   "id": "692c2d59",
   "metadata": {},
   "outputs": [
    {
     "data": {
      "text/plain": [
       "{'Nombre': 'Pepito',\n",
       " 'Apellido': 'Pérez',\n",
       " 'Edad': 15,\n",
       " 'Notas': {'Quiz1': 3.5, 'Parcial1': 2.3, 'AulaVirtual': 5.0, 'Taller1': 4.3}}"
      ]
     },
     "execution_count": 45,
     "metadata": {},
     "output_type": "execute_result"
    }
   ],
   "source": [
    "dic1[\"Edad\"] = 15\n",
    "dic1"
   ]
  },
  {
   "cell_type": "markdown",
   "id": "175cbee3",
   "metadata": {},
   "source": [
    "Si nuestro interés es eliminar elementos del diccionario tenemos dos métodos: `pop()` y `popitem()`.\n",
    "\n",
    "El argumento de `pop()` es la llave del elemento que deseamos eliminar, mientras que `popitem()` no necesita de argumentos, ya que elimina un elemento al azar."
   ]
  },
  {
   "cell_type": "code",
   "execution_count": 46,
   "id": "69aa10a0",
   "metadata": {},
   "outputs": [
    {
     "data": {
      "text/plain": [
       "{2: 'Aceite', 3: 20, 4: 1, 5: 'pan', 6: 'chocolate'}"
      ]
     },
     "execution_count": 46,
     "metadata": {},
     "output_type": "execute_result"
    }
   ],
   "source": [
    "dic2.pop(1,\"Arroz\")\n",
    "dic2"
   ]
  },
  {
   "cell_type": "code",
   "execution_count": 47,
   "id": "0c398602",
   "metadata": {},
   "outputs": [
    {
     "data": {
      "text/plain": [
       "(6, 'chocolate')"
      ]
     },
     "execution_count": 47,
     "metadata": {},
     "output_type": "execute_result"
    }
   ],
   "source": [
    "dic2.popitem()"
   ]
  },
  {
   "cell_type": "markdown",
   "id": "47dbb647",
   "metadata": {},
   "source": [
    "y al igual que con los conjuntos, el método `clear` permite eliminar todos los elementos del diccionario:"
   ]
  },
  {
   "cell_type": "code",
   "execution_count": 48,
   "id": "867c3005",
   "metadata": {},
   "outputs": [
    {
     "data": {
      "text/plain": [
       "{}"
      ]
     },
     "execution_count": 48,
     "metadata": {},
     "output_type": "execute_result"
    }
   ],
   "source": [
    "dic2.clear()\n",
    "dic2"
   ]
  },
  {
   "cell_type": "markdown",
   "id": "50da64ea",
   "metadata": {},
   "source": [
    "Los diccionarios también se pueden crear por comprensión, de la misma manera en la que hicimos las listas:"
   ]
  },
  {
   "cell_type": "code",
   "execution_count": 49,
   "id": "a970ac68",
   "metadata": {},
   "outputs": [
    {
     "data": {
      "text/plain": [
       "{0: 0, 1: 1, 2: 4, 3: 9, 4: 16}"
      ]
     },
     "execution_count": 49,
     "metadata": {},
     "output_type": "execute_result"
    }
   ],
   "source": [
    "cuadrados = {x:x**2 for x in range(0,5)}\n",
    "cuadrados"
   ]
  },
  {
   "cell_type": "markdown",
   "id": "e147a543",
   "metadata": {},
   "source": [
    "De los diccionarios también podemos extraer las listas de las llaves y de los valores, así:"
   ]
  },
  {
   "cell_type": "code",
   "execution_count": 50,
   "id": "72358b4f",
   "metadata": {},
   "outputs": [
    {
     "data": {
      "text/plain": [
       "[0, 1, 2, 3, 4]"
      ]
     },
     "execution_count": 50,
     "metadata": {},
     "output_type": "execute_result"
    }
   ],
   "source": [
    "list(cuadrados.keys())"
   ]
  },
  {
   "cell_type": "code",
   "execution_count": 51,
   "id": "b06ce598",
   "metadata": {},
   "outputs": [
    {
     "data": {
      "text/plain": [
       "[0, 1, 4, 9, 16]"
      ]
     },
     "execution_count": 51,
     "metadata": {},
     "output_type": "execute_result"
    }
   ],
   "source": [
    "list(cuadrados.values())"
   ]
  },
  {
   "cell_type": "markdown",
   "id": "0c18029c-e3c2-4e91-b4fa-5a17f6be08ba",
   "metadata": {},
   "source": [
    "## Ejercicios\n",
    "1. Cree un diccionario con la siguiente estructura:\n",
    "```python\n",
    "Notas = {nombre : [lista_de_notas]}\n",
    "```\n",
    "con por lo menos 5 estudiantes, los cuales cada uno deberá tener 6 notas numéricas entre 0 y 5.0\n",
    "2. Cree una función la cual calcule la definitivad de los estudiantes del ejercicio anterior teniendo en cuenta que las tres primeras notas valen el 10% cada una, las dos siguientes 15% cada una y  la última nota el 40% de la nota definitiva."
   ]
  }
 ],
 "metadata": {
  "kernelspec": {
   "display_name": "Python 3",
   "language": "python",
   "name": "python3"
  },
  "language_info": {
   "codemirror_mode": {
    "name": "ipython",
    "version": 3
   },
   "file_extension": ".py",
   "mimetype": "text/x-python",
   "name": "python",
   "nbconvert_exporter": "python",
   "pygments_lexer": "ipython3",
   "version": "3.9.5"
  },
  "latex_envs": {
   "LaTeX_envs_menu_present": true,
   "autoclose": false,
   "autocomplete": true,
   "bibliofile": "biblio.bib",
   "cite_by": "apalike",
   "current_citInitial": 1,
   "eqLabelWithNumbers": true,
   "eqNumInitial": 1,
   "hotkeys": {
    "equation": "Ctrl-E",
    "itemize": "Ctrl-I"
   },
   "labels_anchors": false,
   "latex_user_defs": false,
   "report_style_numbering": false,
   "user_envs_cfg": false
  },
  "toc": {
   "base_numbering": 1,
   "nav_menu": {},
   "number_sections": true,
   "sideBar": true,
   "skip_h1_title": false,
   "title_cell": "Table of Contents",
   "title_sidebar": "Contents",
   "toc_cell": false,
   "toc_position": {},
   "toc_section_display": true,
   "toc_window_display": false
  }
 },
 "nbformat": 4,
 "nbformat_minor": 5
}