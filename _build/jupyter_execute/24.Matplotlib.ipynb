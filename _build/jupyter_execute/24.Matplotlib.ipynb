{
 "cells": [
  {
   "cell_type": "markdown",
   "metadata": {
    "toc": true
   },
   "source": [
    "<h1>Matplotlib - Gráficos en Python<span class=\"tocSkip\"></span></h1>\n",
    "<div class=\"toc\"><ul class=\"toc-item\"><li><span><a href=\"#Introducción-Matplotlib\" data-toc-modified-id=\"Introducción-Matplotlib-1\"><span class=\"toc-item-num\">1&nbsp;&nbsp;</span>Introducción Matplotlib</a></span><ul class=\"toc-item\"><li><span><a href=\"#¿Cómo-funciona?\" data-toc-modified-id=\"¿Cómo-funciona?-1.1\"><span class=\"toc-item-num\">1.1&nbsp;&nbsp;</span>¿Cómo funciona?</a></span></li><li><span><a href=\"#Partes-de-una-figura\" data-toc-modified-id=\"Partes-de-una-figura-1.2\"><span class=\"toc-item-num\">1.2&nbsp;&nbsp;</span>Partes de una figura</a></span></li><li><span><a href=\"#Diferentes-tipos-de-gráficos\" data-toc-modified-id=\"Diferentes-tipos-de-gráficos-1.3\"><span class=\"toc-item-num\">1.3&nbsp;&nbsp;</span>Diferentes tipos de gráficos</a></span><ul class=\"toc-item\"><li><span><a href=\"#El-commando-plt.plot()\" data-toc-modified-id=\"El-commando-plt.plot()-1.3.1\"><span class=\"toc-item-num\">1.3.1&nbsp;&nbsp;</span>El commando <code>plt.plot()</code></a></span></li><li><span><a href=\"#Gráficos-de-dispersión\" data-toc-modified-id=\"Gráficos-de-dispersión-1.3.2\"><span class=\"toc-item-num\">1.3.2&nbsp;&nbsp;</span>Gráficos de dispersión</a></span></li><li><span><a href=\"#Gráficos-para-variables-categóricas\" data-toc-modified-id=\"Gráficos-para-variables-categóricas-1.3.3\"><span class=\"toc-item-num\">1.3.3&nbsp;&nbsp;</span>Gráficos para variables categóricas</a></span></li><li><span><a href=\"#Graficador-de-funciones\" data-toc-modified-id=\"Graficador-de-funciones-1.3.4\"><span class=\"toc-item-num\">1.3.4&nbsp;&nbsp;</span>Graficador de funciones</a></span></li><li><span><a href=\"#Texto-en-las-gráficas\" data-toc-modified-id=\"Texto-en-las-gráficas-1.3.5\"><span class=\"toc-item-num\">1.3.5&nbsp;&nbsp;</span>Texto en las gráficas</a></span></li></ul></li><li><span><a href=\"#Backends\" data-toc-modified-id=\"Backends-1.4\"><span class=\"toc-item-num\">1.4&nbsp;&nbsp;</span>Backends</a></span></li></ul></li><li><span><a href=\"#Herramientas-interactivas-ipywidgets\" data-toc-modified-id=\"Herramientas-interactivas-ipywidgets-2\"><span class=\"toc-item-num\">2&nbsp;&nbsp;</span>Herramientas interactivas <code>ipywidgets</code></a></span><ul class=\"toc-item\"><li><span><a href=\"#Una-primera-aplicación\" data-toc-modified-id=\"Una-primera-aplicación-2.1\"><span class=\"toc-item-num\">2.1&nbsp;&nbsp;</span>Una primera aplicación</a></span></li></ul></li></ul></div>"
   ]
  },
  {
   "cell_type": "markdown",
   "metadata": {},
   "source": [
    "# Introducción Matplotlib\n",
    "\n",
    "El paquete para construir gráficos por excelencia en Python es [Matplotlib](https://matplotlib.org/3.2.2/index.html), una de las librerías más usadas para crear todo tipo de visualizaciones  . Para nosotros es muy importante manejar esta herramienta ya que en múltiples ocasiones la dificultad de muchas explicaciones se resuelven fácilmente con un buen gráfico. En este cuaderno veremos algunos componentes básicos de la graficación con Matplotlib, las partes del gráfico, la definición de `figure()`, unas configuraciones simples y algunas personalizaciones elementales. "
   ]
  },
  {
   "cell_type": "markdown",
   "metadata": {},
   "source": [
    "## ¿Cómo funciona?\n",
    "\n",
    "Matplotlib grafica sus datos sobre una instancia llamada `Figure`, cada una de estas contendrá uno o más `Axes` (un área en la que los puntos tienen coordenadas). Usualmente se utiliza la interfaz [pyplot](https://matplotlib.org/3.2.2/api/pyplot_summary.html) basada en algunos estilos y comandos de MATLAB. \n",
    "\n",
    "Veamos un sencillo ejemplo:"
   ]
  },
  {
   "cell_type": "code",
   "execution_count": 1,
   "metadata": {},
   "outputs": [
    {
     "data": {
      "text/plain": [
       "[<matplotlib.lines.Line2D at 0x7f80250da700>]"
      ]
     },
     "execution_count": 1,
     "metadata": {},
     "output_type": "execute_result"
    },
    {
     "data": {
      "image/png": "[encoded data removed]",
      "text/plain": [
       "<Figure size 432x288 with 1 Axes>"
      ]
     },
     "metadata": {
      "filenames": {
       "image/png": "/home/isaac/Dropbox/Docente/Externado/Github Projects/Programación/_build/jupyter_execute/24.Matplotlib_3_1.png"
      },
      "needs_background": "light"
     },
     "output_type": "display_data"
    }
   ],
   "source": [
    "import matplotlib.pyplot as plt\n",
    "import numpy as np\n",
    "%matplotlib inline\n",
    "fig, ax = plt.subplots()  # Creamos una figura con un sistema de ejes.\n",
    "ax.plot([1, 2, 3, 4], [1, 4, 2, 3])  # Pintamos algunos datos."
   ]
  },
  {
   "cell_type": "markdown",
   "metadata": {},
   "source": [
    "Sin necesidad de fijar los ejes de una figura podemos hacer el mismo gráfico:"
   ]
  },
  {
   "cell_type": "code",
   "execution_count": 2,
   "metadata": {},
   "outputs": [
    {
     "data": {
      "text/plain": [
       "[<matplotlib.lines.Line2D at 0x7f8022fdceb0>]"
      ]
     },
     "execution_count": 2,
     "metadata": {},
     "output_type": "execute_result"
    },
    {
     "data": {
      "image/png": "[encoded data removed]",
      "text/plain": [
       "<Figure size 432x288 with 1 Axes>"
      ]
     },
     "metadata": {
      "filenames": {
       "image/png": "/home/isaac/Dropbox/Docente/Externado/Github Projects/Programación/_build/jupyter_execute/24.Matplotlib_5_1.png"
      },
      "needs_background": "light"
     },
     "output_type": "display_data"
    }
   ],
   "source": [
    "plt.plot([1, 2, 3, 4], [1, 4, 2, 3]) "
   ]
  },
  {
   "cell_type": "markdown",
   "metadata": {},
   "source": [
    "## Partes de una figura\n",
    "\n",
    "Veamos los componentes de una figura de Matplotlib:\n",
    "\n",
    "![figure](https://matplotlib.org/3.2.2/_images/anatomy.png)\n",
    "\n",
    "*Tomado de [https://matplotlib.org/3.2.2/tutorials/introductory/usage.html#sphx-glr-tutorials-introductory-usage-py](https://matplotlib.org/3.2.2/tutorials/introductory/usage.html#sphx-glr-tutorials-introductory-usage-py)*"
   ]
  },
  {
   "cell_type": "markdown",
   "metadata": {},
   "source": [
    "Sin necesidad de definir nuevas figuras veamos un ejemplo con algunos elementos descritos en la figura:"
   ]
  },
  {
   "cell_type": "code",
   "execution_count": 3,
   "metadata": {},
   "outputs": [],
   "source": [
    "x=np.linspace(0, 10, 101)"
   ]
  },
  {
   "cell_type": "code",
   "execution_count": 4,
   "metadata": {},
   "outputs": [
    {
     "data": {
      "text/plain": [
       "array([ 0.        ,  0.09983342,  0.19866933,  0.29552021,  0.38941834,\n",
       "        0.47942554,  0.56464247,  0.64421769,  0.71735609,  0.78332691,\n",
       "        0.84147098,  0.89120736,  0.93203909,  0.96355819,  0.98544973,\n",
       "        0.99749499,  0.9995736 ,  0.99166481,  0.97384763,  0.94630009,\n",
       "        0.90929743,  0.86320937,  0.8084964 ,  0.74570521,  0.67546318,\n",
       "        0.59847214,  0.51550137,  0.42737988,  0.33498815,  0.23924933,\n",
       "        0.14112001,  0.04158066, -0.05837414, -0.15774569, -0.2555411 ,\n",
       "       -0.35078323, -0.44252044, -0.52983614, -0.61185789, -0.68776616,\n",
       "       -0.7568025 , -0.81827711, -0.87157577, -0.91616594, -0.95160207,\n",
       "       -0.97753012, -0.993691  , -0.99992326, -0.99616461, -0.98245261,\n",
       "       -0.95892427, -0.92581468, -0.88345466, -0.83226744, -0.77276449,\n",
       "       -0.70554033, -0.63126664, -0.55068554, -0.46460218, -0.37387666,\n",
       "       -0.2794155 , -0.1821625 , -0.0830894 ,  0.0168139 ,  0.1165492 ,\n",
       "        0.21511999,  0.31154136,  0.40484992,  0.49411335,  0.57843976,\n",
       "        0.6569866 ,  0.72896904,  0.79366786,  0.85043662,  0.8987081 ,\n",
       "        0.93799998,  0.96791967,  0.98816823,  0.99854335,  0.99894134,\n",
       "        0.98935825,  0.96988981,  0.94073056,  0.90217183,  0.85459891,\n",
       "        0.79848711,  0.7343971 ,  0.66296923,  0.58491719,  0.50102086,\n",
       "        0.41211849,  0.31909836,  0.22288991,  0.12445442,  0.02477543,\n",
       "       -0.07515112, -0.17432678, -0.27176063, -0.36647913, -0.45753589,\n",
       "       -0.54402111])"
      ]
     },
     "execution_count": 4,
     "metadata": {},
     "output_type": "execute_result"
    }
   ],
   "source": [
    "np.sin(x)"
   ]
  },
  {
   "cell_type": "code",
   "execution_count": 5,
   "metadata": {},
   "outputs": [
    {
     "data": {
      "image/png": "[encoded data removed]",
      "text/plain": [
       "<Figure size 432x288 with 1 Axes>"
      ]
     },
     "metadata": {
      "filenames": {
       "image/png": "/home/isaac/Dropbox/Docente/Externado/Github Projects/Programación/_build/jupyter_execute/24.Matplotlib_10_0.png"
      },
      "needs_background": "light"
     },
     "output_type": "display_data"
    }
   ],
   "source": [
    "x = np.linspace(0, 10, 101)\n",
    "\n",
    "plt.plot(x, np.sin(x),'r-', label='sin(x)')\n",
    "plt.plot(x, np.cos(x), 'y-',label='cos(x)')\n",
    "plt.legend()\n",
    "plt.grid()\n",
    "plt.title(\"Una figura simple\")\n",
    "plt.xlabel('Eje x')\n",
    "plt.ylabel('Eje y')\n",
    "plt.show()"
   ]
  },
  {
   "cell_type": "code",
   "execution_count": 6,
   "metadata": {},
   "outputs": [],
   "source": [
    "from ipywidgets import interact\n",
    "from numpy import *"
   ]
  },
  {
   "cell_type": "code",
   "execution_count": 7,
   "metadata": {},
   "outputs": [],
   "source": [
    "def graficadoradefuncionestrigonometricas(t):\n",
    "    x=np.linspace(-10,10,500)\n",
    "    y=eval(t)\n",
    "    plt.plot(x,y,label=t)\n",
    "    plt.legend()\n",
    "    return"
   ]
  },
  {
   "cell_type": "code",
   "execution_count": 8,
   "metadata": {},
   "outputs": [
    {
     "data": {
      "image/png": "[encoded data removed]",
      "text/plain": [
       "<Figure size 432x288 with 1 Axes>"
      ]
     },
     "metadata": {
      "filenames": {
       "image/png": "/home/isaac/Dropbox/Docente/Externado/Github Projects/Programación/_build/jupyter_execute/24.Matplotlib_13_0.png"
      },
      "needs_background": "light"
     },
     "output_type": "display_data"
    }
   ],
   "source": [
    "graficadoradefuncionestrigonometricas('sin(x)')"
   ]
  },
  {
   "cell_type": "code",
   "execution_count": 9,
   "metadata": {},
   "outputs": [
    {
     "data": {
      "application/vnd.jupyter.widget-view+json": {
       "model_id": "adc54f0db68d4bf69df4271797fd36ee",
       "version_major": 2,
       "version_minor": 0
      },
      "text/plain": [
       "interactive(children=(Dropdown(description='t', options=('sin(x)', 'cos(x)', 'tan(x)'), value='sin(x)'), Outpu…"
      ]
     },
     "metadata": {},
     "output_type": "display_data"
    },
    {
     "data": {
      "text/plain": [
       "<function __main__.graficadoradefuncionestrigonometricas(t)>"
      ]
     },
     "execution_count": 9,
     "metadata": {},
     "output_type": "execute_result"
    },
    {
     "data": {
      "image/png": "[encoded data removed]",
      "text/plain": [
       "<Figure size 432x288 with 1 Axes>"
      ]
     },
     "metadata": {
      "filenames": {
       "image/png": "/home/isaac/Dropbox/Docente/Externado/Github Projects/Programación/_build/jupyter_execute/24.Matplotlib_14_2.png"
      },
      "needs_background": "light"
     },
     "output_type": "display_data"
    }
   ],
   "source": [
    "lista=[\"sin(x)\",\"cos(x)\",\"tan(x)\"]\n",
    "\n",
    "interact(graficadoradefuncionestrigonometricas,t=lista)"
   ]
  },
  {
   "cell_type": "markdown",
   "metadata": {},
   "source": [
    "No obstante, recordemos que podemos usar instancias para expresar tanto a la figura como los ejes sobre la figura:"
   ]
  },
  {
   "cell_type": "code",
   "execution_count": 10,
   "metadata": {},
   "outputs": [
    {
     "data": {
      "image/png": "[encoded data removed]",
      "text/plain": [
       "<Figure size 432x288 with 1 Axes>"
      ]
     },
     "metadata": {
      "filenames": {
       "image/png": "/home/isaac/Dropbox/Docente/Externado/Github Projects/Programación/_build/jupyter_execute/24.Matplotlib_16_0.png"
      },
      "needs_background": "light"
     },
     "output_type": "display_data"
    }
   ],
   "source": [
    "fig = plt.figure()\n",
    "ax = fig.add_subplot(111)\n",
    "ax.plot([1, 2, 3, 4], [10, 20, 25, 30], color='lightblue', linewidth=3)\n",
    "ax.scatter([0.3, 3.8, 1.2, 2.5], [11, 25, 9, 26], color='darkgreen')\n",
    "ax.set_xlim(-1, 6)\n",
    "ax.set_ylim(6, 31)\n",
    "plt.show()"
   ]
  },
  {
   "cell_type": "markdown",
   "metadata": {},
   "source": [
    "En este ejemplo utilizamos `plt.figure()` para definir la figura y `fig.add_subplot(111)` para crear la *'zona de dibujo'*. Definamos sobre una misma figura varias zonas de dibujo:"
   ]
  },
  {
   "cell_type": "code",
   "execution_count": 11,
   "metadata": {},
   "outputs": [
    {
     "data": {
      "image/png": "[encoded data removed]",
      "text/plain": [
       "<Figure size 1440x1440 with 4 Axes>"
      ]
     },
     "metadata": {
      "filenames": {
       "image/png": "/home/isaac/Dropbox/Docente/Externado/Github Projects/Programación/_build/jupyter_execute/24.Matplotlib_18_0.png"
      },
      "needs_background": "light"
     },
     "output_type": "display_data"
    }
   ],
   "source": [
    "x=np.linspace(0,10,100)\n",
    "fig = plt.figure(figsize=(20,20))\n",
    "\n",
    "ax = fig.add_subplot(221)\n",
    "\n",
    "ax.plot([1, 2, 3, 4], [10, 20, 25, 30], color='lightblue', linewidth=3,label=\"línea\")\n",
    "ax.scatter([0.3, 3.8, 1.2, 2.5], [11, 25, 9, 26], color='darkgreen', marker='^',label=\"marker\")\n",
    "ax.legend()\n",
    "plt.title(\"Primera 'zona de dibujo'\")\n",
    "\n",
    "ax2 = fig.add_subplot(222)\n",
    "\n",
    "ax2.plot(x, x, label='línea')\n",
    "ax2.legend()\n",
    "plt.title(\"Segunda 'zona de dibujo'\")\n",
    "\n",
    "ax3 = fig.add_subplot(223)\n",
    "ax3.plot([1, 2, 3, 4], [10, 20, 25, 30], color='lightblue', linewidth=3,label=\"línea\")\n",
    "ax3.legend()\n",
    "plt.title(\"Tercera 'zona de dibujo'\")\n",
    "\n",
    "ax4 = fig.add_subplot(224)\n",
    "ax4.plot(x, x, label='línea')\n",
    "ax4.legend()\n",
    "plt.title(\"Cuarta 'zona de dibujo'\")\n",
    "plt.show()"
   ]
  },
  {
   "cell_type": "markdown",
   "metadata": {},
   "source": [
    "Las zonas de dibujo (`Axes`) siempre deben vincularse a una Figura. Podemos fijar un título para cada zona usando `set_title()`. Por cada `Axes` tenemos 2 o tres ejes (`Axis`), entre sus funcioes útiles tenemos:\n",
    "\n",
    "**Para controlar el límite de los ejes:**\n",
    "* `axes.Axes.set_xlim()`\n",
    "* `axes.Axes.set_ylim()`\n",
    "\n",
    "**Para fijar una etiqueta en el eje**\n",
    "\n",
    "* `set_xlabel()`\n",
    "* `set_ylabel()`\n",
    "\n",
    "\n",
    "Veamos un ejemplo:"
   ]
  },
  {
   "cell_type": "code",
   "execution_count": 12,
   "metadata": {},
   "outputs": [
    {
     "data": {
      "image/png": "[encoded data removed]",
      "text/plain": [
       "<Figure size 720x360 with 2 Axes>"
      ]
     },
     "metadata": {
      "filenames": {
       "image/png": "/home/isaac/Dropbox/Docente/Externado/Github Projects/Programación/_build/jupyter_execute/24.Matplotlib_20_0.png"
      },
      "needs_background": "light"
     },
     "output_type": "display_data"
    }
   ],
   "source": [
    "fig = plt.figure(figsize=(10,5))\n",
    "ax = fig.add_subplot(121)\n",
    "ax.plot([1, 2, 3, 4], [10, 20, 25, 30], color='lightblue', linewidth=3,label=\"línea\")\n",
    "ax.scatter([0.3, 3.8, 1.2, 2.5], [11, 25, 9, 26], color='darkgreen', marker='^',label=\"marker\")\n",
    "ax.set_xlim(0, 4.5)\n",
    "ax.set_ylim(0, 31)\n",
    "ax.set_ylabel(\"Eje y\")\n",
    "ax.set_xlabel(\"Eje x\")\n",
    "ax.legend()\n",
    "ax.set_title(\"Primera 'zona de dibujo'\")\n",
    "ax2 = fig.add_subplot(122)\n",
    "ax2.plot(x, x, label='línea')\n",
    "ax2.legend()\n",
    "ax2.set_title(\"Segunda 'zona de dibujo'\")\n",
    "plt.show()"
   ]
  },
  {
   "cell_type": "markdown",
   "metadata": {},
   "source": [
    "## Diferentes tipos de gráficos\n",
    "\n",
    "Veamos ahora una galería de gráficos utilizados en diferentes contextos. Según los ejemplos anteriores tenemos la posibilidad de graficar puntos sobre el plano utilizando `plt.plot()`"
   ]
  },
  {
   "cell_type": "markdown",
   "metadata": {},
   "source": [
    "### El commando `plt.plot()`"
   ]
  },
  {
   "cell_type": "code",
   "execution_count": 13,
   "metadata": {},
   "outputs": [
    {
     "data": {
      "image/png": "[encoded data removed]",
      "text/plain": [
       "<Figure size 432x288 with 1 Axes>"
      ]
     },
     "metadata": {
      "filenames": {
       "image/png": "/home/isaac/Dropbox/Docente/Externado/Github Projects/Programación/_build/jupyter_execute/24.Matplotlib_23_0.png"
      },
      "needs_background": "light"
     },
     "output_type": "display_data"
    }
   ],
   "source": [
    "plt.plot([1,2,4,3,1,2,8,7])\n",
    "plt.ylabel('Una lista de valores')\n",
    "plt.show()"
   ]
  },
  {
   "cell_type": "code",
   "execution_count": 14,
   "metadata": {},
   "outputs": [
    {
     "data": {
      "image/png": "[encoded data removed]",
      "text/plain": [
       "<Figure size 432x288 with 1 Axes>"
      ]
     },
     "metadata": {
      "filenames": {
       "image/png": "/home/isaac/Dropbox/Docente/Externado/Github Projects/Programación/_build/jupyter_execute/24.Matplotlib_24_0.png"
      },
      "needs_background": "light"
     },
     "output_type": "display_data"
    }
   ],
   "source": [
    "plt.plot([1,2,4,3,1,2,8,7])\n",
    "plt.xticks(ticks=range(0,8),labels=['L','M','Mc','J','V','S','D','L'])\n",
    "plt.show()"
   ]
  },
  {
   "cell_type": "code",
   "execution_count": 15,
   "metadata": {},
   "outputs": [
    {
     "data": {
      "text/plain": [
       "array([[ 1,  2,  3,  4],\n",
       "       [ 1,  4,  9, 16],\n",
       "       [ 3,  4,  2, 16]])"
      ]
     },
     "execution_count": 15,
     "metadata": {},
     "output_type": "execute_result"
    }
   ],
   "source": [
    "np.array([[1, 2, 3,4], [1, 4, 9, 16],[3,4,2,16]])"
   ]
  },
  {
   "cell_type": "code",
   "execution_count": 16,
   "metadata": {},
   "outputs": [
    {
     "data": {
      "image/png": "[encoded data removed]",
      "text/plain": [
       "<Figure size 432x288 with 1 Axes>"
      ]
     },
     "metadata": {
      "filenames": {
       "image/png": "/home/isaac/Dropbox/Docente/Externado/Github Projects/Programación/_build/jupyter_execute/24.Matplotlib_26_0.png"
      },
      "needs_background": "light"
     },
     "output_type": "display_data"
    }
   ],
   "source": [
    "plt.plot([1,2,3],[[1, 2, 3,4], [1, 4, 9, 16],[3,4,2,16]]) \n",
    "plt.ylabel('Un arreglo en x, un arreglo en y')\n",
    "plt.grid()\n",
    "plt.show()"
   ]
  },
  {
   "cell_type": "code",
   "execution_count": 17,
   "metadata": {},
   "outputs": [
    {
     "data": {
      "image/png": "[encoded data removed]",
      "text/plain": [
       "<Figure size 432x288 with 1 Axes>"
      ]
     },
     "metadata": {
      "filenames": {
       "image/png": "/home/isaac/Dropbox/Docente/Externado/Github Projects/Programación/_build/jupyter_execute/24.Matplotlib_27_0.png"
      },
      "needs_background": "light"
     },
     "output_type": "display_data"
    }
   ],
   "source": [
    "import numpy as np\n",
    "\n",
    "x=np.arange(-10,10,0.1)\n",
    "y=np.sin(x)\n",
    "plt.plot(x,y) \n",
    "plt.ylabel('Un gráfico de sen(x)')\n",
    "plt.show()"
   ]
  },
  {
   "cell_type": "markdown",
   "metadata": {},
   "source": [
    "No obstante podemos graficar sin unir los puntos:"
   ]
  },
  {
   "cell_type": "code",
   "execution_count": 18,
   "metadata": {},
   "outputs": [
    {
     "data": {
      "image/png": "[encoded data removed]",
      "text/plain": [
       "<Figure size 432x288 with 1 Axes>"
      ]
     },
     "metadata": {
      "filenames": {
       "image/png": "/home/isaac/Dropbox/Docente/Externado/Github Projects/Programación/_build/jupyter_execute/24.Matplotlib_29_0.png"
      },
      "needs_background": "light"
     },
     "output_type": "display_data"
    }
   ],
   "source": [
    "plt.plot([1, 2, 3, 4], [1, 4, 9, 16], '^y')\n",
    "plt.axis([0, 6, 0, 20])\n",
    "plt.show()"
   ]
  },
  {
   "cell_type": "code",
   "execution_count": 19,
   "metadata": {},
   "outputs": [
    {
     "data": {
      "image/png": "[encoded data removed]",
      "text/plain": [
       "<Figure size 432x288 with 1 Axes>"
      ]
     },
     "metadata": {
      "filenames": {
       "image/png": "/home/isaac/Dropbox/Docente/Externado/Github Projects/Programación/_build/jupyter_execute/24.Matplotlib_30_0.png"
      },
      "needs_background": "light"
     },
     "output_type": "display_data"
    }
   ],
   "source": [
    "x=np.arange(-10,10,0.1)\n",
    "y=np.sin(x)\n",
    "plt.plot(x,y,'g*') \n",
    "plt.ylabel('Un gráfico de sen(x)')\n",
    "plt.show()"
   ]
  },
  {
   "cell_type": "markdown",
   "metadata": {},
   "source": [
    "**Varias funciones en un mismo gráfico:**"
   ]
  },
  {
   "cell_type": "code",
   "execution_count": 20,
   "metadata": {},
   "outputs": [
    {
     "data": {
      "image/png": "[encoded data removed]",
      "text/plain": [
       "<Figure size 432x288 with 1 Axes>"
      ]
     },
     "metadata": {
      "filenames": {
       "image/png": "/home/isaac/Dropbox/Docente/Externado/Github Projects/Programación/_build/jupyter_execute/24.Matplotlib_32_0.png"
      },
      "needs_background": "light"
     },
     "output_type": "display_data"
    }
   ],
   "source": [
    "plt.plot(x,np.sin(x)+np.cos(x) , 'r--', x, np.sin(x), 'bs', x, np.cos(x), 'g^')\n",
    "plt.show()"
   ]
  },
  {
   "cell_type": "code",
   "execution_count": 21,
   "metadata": {},
   "outputs": [
    {
     "data": {
      "text/plain": [
       "<matplotlib.legend.Legend at 0x7f80228c1790>"
      ]
     },
     "execution_count": 21,
     "metadata": {},
     "output_type": "execute_result"
    },
    {
     "data": {
      "image/png": "[encoded data removed]",
      "text/plain": [
       "<Figure size 432x288 with 1 Axes>"
      ]
     },
     "metadata": {
      "filenames": {
       "image/png": "/home/isaac/Dropbox/Docente/Externado/Github Projects/Programación/_build/jupyter_execute/24.Matplotlib_33_1.png"
      },
      "needs_background": "light"
     },
     "output_type": "display_data"
    }
   ],
   "source": [
    "x = np.linspace(0, 2, 100)\n",
    "fig, ax = plt.subplots()  # Creamos una instancia de figura y una zona de dibujo.\n",
    "ax.plot(x, x, label='Función lineal')  \n",
    "ax.plot(x, x**2, label='Función cuadrática')  \n",
    "ax.plot(x, x**3, label='Función cúbica') \n",
    "ax.set_xlabel('eje x')  \n",
    "ax.set_ylabel('eje y')  \n",
    "ax.set_title(\"Tres funciones\")  \n",
    "ax.legend()  "
   ]
  },
  {
   "cell_type": "markdown",
   "metadata": {},
   "source": [
    "Usamos estilos y colores para lineas, para mayor información usar: "
   ]
  },
  {
   "cell_type": "code",
   "execution_count": 22,
   "metadata": {},
   "outputs": [
    {
     "name": "stdout",
     "output_type": "stream",
     "text": [
      "  agg_filter: a filter function, which takes a (m, n, 3) float array and a dpi value, and returns a (m, n, 3) array\n",
      "  alpha: scalar or None\n",
      "  animated: bool\n",
      "  antialiased or aa: bool\n",
      "  clip_box: `.Bbox`\n",
      "  clip_on: bool\n",
      "  clip_path: Patch or (Path, Transform) or None\n",
      "  color or c: color\n",
      "  contains: unknown\n",
      "  dash_capstyle: `.CapStyle` or {'butt', 'projecting', 'round'}\n",
      "  dash_joinstyle: `.JoinStyle` or {'miter', 'round', 'bevel'}\n",
      "  dashes: sequence of floats (on/off ink in points) or (None, None)\n",
      "  data: (2, N) array or two 1D arrays\n",
      "  drawstyle or ds: {'default', 'steps', 'steps-pre', 'steps-mid', 'steps-post'}, default: 'default'\n",
      "  figure: `.Figure`\n",
      "  fillstyle: {'full', 'left', 'right', 'bottom', 'top', 'none'}\n",
      "  gid: str\n",
      "  in_layout: bool\n",
      "  label: object\n",
      "  linestyle or ls: {'-', '--', '-.', ':', '', (offset, on-off-seq), ...}\n",
      "  linewidth or lw: float\n",
      "  marker: marker style string, `~.path.Path` or `~.markers.MarkerStyle`\n",
      "  markeredgecolor or mec: color\n",
      "  markeredgewidth or mew: float\n",
      "  markerfacecolor or mfc: color\n",
      "  markerfacecoloralt or mfcalt: color\n",
      "  markersize or ms: float\n",
      "  markevery: None or int or (int, int) or slice or list[int] or float or (float, float) or list[bool]\n",
      "  path_effects: `.AbstractPathEffect`\n",
      "  picker: float or callable[[Artist, Event], tuple[bool, dict]]\n",
      "  pickradius: float\n",
      "  rasterized: bool\n",
      "  sketch_params: (scale: float, length: float, randomness: float)\n",
      "  snap: bool or None\n",
      "  solid_capstyle: `.CapStyle` or {'butt', 'projecting', 'round'}\n",
      "  solid_joinstyle: `.JoinStyle` or {'miter', 'round', 'bevel'}\n",
      "  transform: `matplotlib.transforms.Transform`\n",
      "  url: str\n",
      "  visible: bool\n",
      "  xdata: 1D array\n",
      "  ydata: 1D array\n",
      "  zorder: float\n"
     ]
    },
    {
     "data": {
      "image/png": "[encoded data removed]",
      "text/plain": [
       "<Figure size 432x288 with 1 Axes>"
      ]
     },
     "metadata": {
      "filenames": {
       "image/png": "/home/isaac/Dropbox/Docente/Externado/Github Projects/Programación/_build/jupyter_execute/24.Matplotlib_35_1.png"
      },
      "needs_background": "light"
     },
     "output_type": "display_data"
    }
   ],
   "source": [
    "line,=plt.plot([1,2,3])\n",
    "plt.setp(line)"
   ]
  },
  {
   "cell_type": "markdown",
   "metadata": {},
   "source": [
    "### Gráficos de dispersión \n",
    "Iniciemos definiendo una base de datos aleatoria:"
   ]
  },
  {
   "cell_type": "code",
   "execution_count": 23,
   "metadata": {},
   "outputs": [],
   "source": [
    "data={}\n",
    "data = {'Eje x': np.arange(50),\n",
    "        'Tamaño': np.random.randn(50),\n",
    "        'Color': np.random.randint(0, 50, 50)}\n",
    "data['Eje y'] = data['Eje x'] + 10 * np.random.randn(50)\n",
    "data['Tamaño'] = np.abs(data['Tamaño']) * 100"
   ]
  },
  {
   "cell_type": "code",
   "execution_count": 24,
   "metadata": {},
   "outputs": [
    {
     "data": {
      "text/html": [
       "<div>\n",
       "<style scoped>\n",
       "    .dataframe tbody tr th:only-of-type {\n",
       "        vertical-align: middle;\n",
       "    }\n",
       "\n",
       "    .dataframe tbody tr th {\n",
       "        vertical-align: top;\n",
       "    }\n",
       "\n",
       "    .dataframe thead th {\n",
       "        text-align: right;\n",
       "    }\n",
       "</style>\n",
       "<table border=\"1\" class=\"dataframe\">\n",
       "  <thead>\n",
       "    <tr style=\"text-align: right;\">\n",
       "      <th></th>\n",
       "      <th>Eje x</th>\n",
       "      <th>Tamaño</th>\n",
       "      <th>Color</th>\n",
       "      <th>Eje y</th>\n",
       "    </tr>\n",
       "  </thead>\n",
       "  <tbody>\n",
       "    <tr>\n",
       "      <th>0</th>\n",
       "      <td>0</td>\n",
       "      <td>177.005030</td>\n",
       "      <td>17</td>\n",
       "      <td>-10.770362</td>\n",
       "    </tr>\n",
       "    <tr>\n",
       "      <th>1</th>\n",
       "      <td>1</td>\n",
       "      <td>36.934392</td>\n",
       "      <td>28</td>\n",
       "      <td>-3.121167</td>\n",
       "    </tr>\n",
       "    <tr>\n",
       "      <th>2</th>\n",
       "      <td>2</td>\n",
       "      <td>154.751431</td>\n",
       "      <td>8</td>\n",
       "      <td>6.644871</td>\n",
       "    </tr>\n",
       "    <tr>\n",
       "      <th>3</th>\n",
       "      <td>3</td>\n",
       "      <td>36.797273</td>\n",
       "      <td>47</td>\n",
       "      <td>8.416668</td>\n",
       "    </tr>\n",
       "    <tr>\n",
       "      <th>4</th>\n",
       "      <td>4</td>\n",
       "      <td>243.238027</td>\n",
       "      <td>10</td>\n",
       "      <td>0.964254</td>\n",
       "    </tr>\n",
       "    <tr>\n",
       "      <th>5</th>\n",
       "      <td>5</td>\n",
       "      <td>66.768074</td>\n",
       "      <td>0</td>\n",
       "      <td>6.860936</td>\n",
       "    </tr>\n",
       "    <tr>\n",
       "      <th>6</th>\n",
       "      <td>6</td>\n",
       "      <td>23.280547</td>\n",
       "      <td>33</td>\n",
       "      <td>-4.469267</td>\n",
       "    </tr>\n",
       "    <tr>\n",
       "      <th>7</th>\n",
       "      <td>7</td>\n",
       "      <td>129.104111</td>\n",
       "      <td>29</td>\n",
       "      <td>3.842513</td>\n",
       "    </tr>\n",
       "    <tr>\n",
       "      <th>8</th>\n",
       "      <td>8</td>\n",
       "      <td>58.019888</td>\n",
       "      <td>41</td>\n",
       "      <td>12.073525</td>\n",
       "    </tr>\n",
       "    <tr>\n",
       "      <th>9</th>\n",
       "      <td>9</td>\n",
       "      <td>50.654998</td>\n",
       "      <td>13</td>\n",
       "      <td>-5.982074</td>\n",
       "    </tr>\n",
       "    <tr>\n",
       "      <th>10</th>\n",
       "      <td>10</td>\n",
       "      <td>103.770746</td>\n",
       "      <td>11</td>\n",
       "      <td>2.575396</td>\n",
       "    </tr>\n",
       "    <tr>\n",
       "      <th>11</th>\n",
       "      <td>11</td>\n",
       "      <td>280.234929</td>\n",
       "      <td>8</td>\n",
       "      <td>14.123236</td>\n",
       "    </tr>\n",
       "    <tr>\n",
       "      <th>12</th>\n",
       "      <td>12</td>\n",
       "      <td>20.671804</td>\n",
       "      <td>39</td>\n",
       "      <td>6.640510</td>\n",
       "    </tr>\n",
       "    <tr>\n",
       "      <th>13</th>\n",
       "      <td>13</td>\n",
       "      <td>170.899060</td>\n",
       "      <td>31</td>\n",
       "      <td>7.388225</td>\n",
       "    </tr>\n",
       "    <tr>\n",
       "      <th>14</th>\n",
       "      <td>14</td>\n",
       "      <td>86.123435</td>\n",
       "      <td>6</td>\n",
       "      <td>15.381651</td>\n",
       "    </tr>\n",
       "    <tr>\n",
       "      <th>15</th>\n",
       "      <td>15</td>\n",
       "      <td>12.888198</td>\n",
       "      <td>48</td>\n",
       "      <td>13.830889</td>\n",
       "    </tr>\n",
       "    <tr>\n",
       "      <th>16</th>\n",
       "      <td>16</td>\n",
       "      <td>101.955072</td>\n",
       "      <td>47</td>\n",
       "      <td>24.475896</td>\n",
       "    </tr>\n",
       "    <tr>\n",
       "      <th>17</th>\n",
       "      <td>17</td>\n",
       "      <td>42.923427</td>\n",
       "      <td>3</td>\n",
       "      <td>37.789249</td>\n",
       "    </tr>\n",
       "    <tr>\n",
       "      <th>18</th>\n",
       "      <td>18</td>\n",
       "      <td>64.732664</td>\n",
       "      <td>17</td>\n",
       "      <td>11.123662</td>\n",
       "    </tr>\n",
       "    <tr>\n",
       "      <th>19</th>\n",
       "      <td>19</td>\n",
       "      <td>88.642623</td>\n",
       "      <td>6</td>\n",
       "      <td>36.484902</td>\n",
       "    </tr>\n",
       "    <tr>\n",
       "      <th>20</th>\n",
       "      <td>20</td>\n",
       "      <td>19.196477</td>\n",
       "      <td>23</td>\n",
       "      <td>16.143342</td>\n",
       "    </tr>\n",
       "    <tr>\n",
       "      <th>21</th>\n",
       "      <td>21</td>\n",
       "      <td>68.137616</td>\n",
       "      <td>27</td>\n",
       "      <td>30.357739</td>\n",
       "    </tr>\n",
       "    <tr>\n",
       "      <th>22</th>\n",
       "      <td>22</td>\n",
       "      <td>16.208647</td>\n",
       "      <td>46</td>\n",
       "      <td>29.701625</td>\n",
       "    </tr>\n",
       "    <tr>\n",
       "      <th>23</th>\n",
       "      <td>23</td>\n",
       "      <td>179.800582</td>\n",
       "      <td>43</td>\n",
       "      <td>17.357971</td>\n",
       "    </tr>\n",
       "    <tr>\n",
       "      <th>24</th>\n",
       "      <td>24</td>\n",
       "      <td>203.116084</td>\n",
       "      <td>27</td>\n",
       "      <td>20.454404</td>\n",
       "    </tr>\n",
       "    <tr>\n",
       "      <th>25</th>\n",
       "      <td>25</td>\n",
       "      <td>162.987285</td>\n",
       "      <td>11</td>\n",
       "      <td>17.848799</td>\n",
       "    </tr>\n",
       "    <tr>\n",
       "      <th>26</th>\n",
       "      <td>26</td>\n",
       "      <td>41.747279</td>\n",
       "      <td>20</td>\n",
       "      <td>28.197213</td>\n",
       "    </tr>\n",
       "    <tr>\n",
       "      <th>27</th>\n",
       "      <td>27</td>\n",
       "      <td>109.152567</td>\n",
       "      <td>37</td>\n",
       "      <td>31.168447</td>\n",
       "    </tr>\n",
       "    <tr>\n",
       "      <th>28</th>\n",
       "      <td>28</td>\n",
       "      <td>194.468737</td>\n",
       "      <td>9</td>\n",
       "      <td>39.884057</td>\n",
       "    </tr>\n",
       "    <tr>\n",
       "      <th>29</th>\n",
       "      <td>29</td>\n",
       "      <td>76.784353</td>\n",
       "      <td>9</td>\n",
       "      <td>32.846444</td>\n",
       "    </tr>\n",
       "    <tr>\n",
       "      <th>30</th>\n",
       "      <td>30</td>\n",
       "      <td>18.450315</td>\n",
       "      <td>32</td>\n",
       "      <td>38.013614</td>\n",
       "    </tr>\n",
       "    <tr>\n",
       "      <th>31</th>\n",
       "      <td>31</td>\n",
       "      <td>102.218604</td>\n",
       "      <td>46</td>\n",
       "      <td>24.423898</td>\n",
       "    </tr>\n",
       "    <tr>\n",
       "      <th>32</th>\n",
       "      <td>32</td>\n",
       "      <td>73.679879</td>\n",
       "      <td>34</td>\n",
       "      <td>23.101891</td>\n",
       "    </tr>\n",
       "    <tr>\n",
       "      <th>33</th>\n",
       "      <td>33</td>\n",
       "      <td>165.900682</td>\n",
       "      <td>11</td>\n",
       "      <td>46.213885</td>\n",
       "    </tr>\n",
       "    <tr>\n",
       "      <th>34</th>\n",
       "      <td>34</td>\n",
       "      <td>70.372405</td>\n",
       "      <td>18</td>\n",
       "      <td>26.757483</td>\n",
       "    </tr>\n",
       "    <tr>\n",
       "      <th>35</th>\n",
       "      <td>35</td>\n",
       "      <td>37.118469</td>\n",
       "      <td>19</td>\n",
       "      <td>30.109007</td>\n",
       "    </tr>\n",
       "    <tr>\n",
       "      <th>36</th>\n",
       "      <td>36</td>\n",
       "      <td>168.270029</td>\n",
       "      <td>14</td>\n",
       "      <td>31.456849</td>\n",
       "    </tr>\n",
       "    <tr>\n",
       "      <th>37</th>\n",
       "      <td>37</td>\n",
       "      <td>55.590895</td>\n",
       "      <td>20</td>\n",
       "      <td>47.127474</td>\n",
       "    </tr>\n",
       "    <tr>\n",
       "      <th>38</th>\n",
       "      <td>38</td>\n",
       "      <td>164.782791</td>\n",
       "      <td>47</td>\n",
       "      <td>54.275908</td>\n",
       "    </tr>\n",
       "    <tr>\n",
       "      <th>39</th>\n",
       "      <td>39</td>\n",
       "      <td>23.826773</td>\n",
       "      <td>42</td>\n",
       "      <td>33.774852</td>\n",
       "    </tr>\n",
       "    <tr>\n",
       "      <th>40</th>\n",
       "      <td>40</td>\n",
       "      <td>279.915426</td>\n",
       "      <td>33</td>\n",
       "      <td>35.267145</td>\n",
       "    </tr>\n",
       "    <tr>\n",
       "      <th>41</th>\n",
       "      <td>41</td>\n",
       "      <td>102.589948</td>\n",
       "      <td>27</td>\n",
       "      <td>48.329510</td>\n",
       "    </tr>\n",
       "    <tr>\n",
       "      <th>42</th>\n",
       "      <td>42</td>\n",
       "      <td>205.355331</td>\n",
       "      <td>45</td>\n",
       "      <td>45.499612</td>\n",
       "    </tr>\n",
       "    <tr>\n",
       "      <th>43</th>\n",
       "      <td>43</td>\n",
       "      <td>119.158026</td>\n",
       "      <td>42</td>\n",
       "      <td>42.222703</td>\n",
       "    </tr>\n",
       "    <tr>\n",
       "      <th>44</th>\n",
       "      <td>44</td>\n",
       "      <td>104.919355</td>\n",
       "      <td>43</td>\n",
       "      <td>75.476007</td>\n",
       "    </tr>\n",
       "    <tr>\n",
       "      <th>45</th>\n",
       "      <td>45</td>\n",
       "      <td>19.556941</td>\n",
       "      <td>32</td>\n",
       "      <td>50.373399</td>\n",
       "    </tr>\n",
       "    <tr>\n",
       "      <th>46</th>\n",
       "      <td>46</td>\n",
       "      <td>72.265153</td>\n",
       "      <td>17</td>\n",
       "      <td>33.863532</td>\n",
       "    </tr>\n",
       "    <tr>\n",
       "      <th>47</th>\n",
       "      <td>47</td>\n",
       "      <td>3.122086</td>\n",
       "      <td>22</td>\n",
       "      <td>33.742940</td>\n",
       "    </tr>\n",
       "    <tr>\n",
       "      <th>48</th>\n",
       "      <td>48</td>\n",
       "      <td>90.522464</td>\n",
       "      <td>26</td>\n",
       "      <td>39.929910</td>\n",
       "    </tr>\n",
       "    <tr>\n",
       "      <th>49</th>\n",
       "      <td>49</td>\n",
       "      <td>114.904679</td>\n",
       "      <td>27</td>\n",
       "      <td>57.417716</td>\n",
       "    </tr>\n",
       "  </tbody>\n",
       "</table>\n",
       "</div>"
      ],
      "text/plain": [
       "    Eje x      Tamaño  Color      Eje y\n",
       "0       0  177.005030     17 -10.770362\n",
       "1       1   36.934392     28  -3.121167\n",
       "2       2  154.751431      8   6.644871\n",
       "3       3   36.797273     47   8.416668\n",
       "4       4  243.238027     10   0.964254\n",
       "5       5   66.768074      0   6.860936\n",
       "6       6   23.280547     33  -4.469267\n",
       "7       7  129.104111     29   3.842513\n",
       "8       8   58.019888     41  12.073525\n",
       "9       9   50.654998     13  -5.982074\n",
       "10     10  103.770746     11   2.575396\n",
       "11     11  280.234929      8  14.123236\n",
       "12     12   20.671804     39   6.640510\n",
       "13     13  170.899060     31   7.388225\n",
       "14     14   86.123435      6  15.381651\n",
       "15     15   12.888198     48  13.830889\n",
       "16     16  101.955072     47  24.475896\n",
       "17     17   42.923427      3  37.789249\n",
       "18     18   64.732664     17  11.123662\n",
       "19     19   88.642623      6  36.484902\n",
       "20     20   19.196477     23  16.143342\n",
       "21     21   68.137616     27  30.357739\n",
       "22     22   16.208647     46  29.701625\n",
       "23     23  179.800582     43  17.357971\n",
       "24     24  203.116084     27  20.454404\n",
       "25     25  162.987285     11  17.848799\n",
       "26     26   41.747279     20  28.197213\n",
       "27     27  109.152567     37  31.168447\n",
       "28     28  194.468737      9  39.884057\n",
       "29     29   76.784353      9  32.846444\n",
       "30     30   18.450315     32  38.013614\n",
       "31     31  102.218604     46  24.423898\n",
       "32     32   73.679879     34  23.101891\n",
       "33     33  165.900682     11  46.213885\n",
       "34     34   70.372405     18  26.757483\n",
       "35     35   37.118469     19  30.109007\n",
       "36     36  168.270029     14  31.456849\n",
       "37     37   55.590895     20  47.127474\n",
       "38     38  164.782791     47  54.275908\n",
       "39     39   23.826773     42  33.774852\n",
       "40     40  279.915426     33  35.267145\n",
       "41     41  102.589948     27  48.329510\n",
       "42     42  205.355331     45  45.499612\n",
       "43     43  119.158026     42  42.222703\n",
       "44     44  104.919355     43  75.476007\n",
       "45     45   19.556941     32  50.373399\n",
       "46     46   72.265153     17  33.863532\n",
       "47     47    3.122086     22  33.742940\n",
       "48     48   90.522464     26  39.929910\n",
       "49     49  114.904679     27  57.417716"
      ]
     },
     "execution_count": 24,
     "metadata": {},
     "output_type": "execute_result"
    }
   ],
   "source": [
    "import pandas as pd\n",
    "data=pd.DataFrame(data)\n",
    "data"
   ]
  },
  {
   "cell_type": "code",
   "execution_count": 25,
   "metadata": {},
   "outputs": [
    {
     "data": {
      "text/plain": [
       "0      0\n",
       "1      1\n",
       "2      2\n",
       "3      3\n",
       "4      4\n",
       "5      5\n",
       "6      6\n",
       "7      7\n",
       "8      8\n",
       "9      9\n",
       "10    10\n",
       "11    11\n",
       "12    12\n",
       "13    13\n",
       "14    14\n",
       "15    15\n",
       "16    16\n",
       "17    17\n",
       "18    18\n",
       "19    19\n",
       "20    20\n",
       "21    21\n",
       "22    22\n",
       "23    23\n",
       "24    24\n",
       "25    25\n",
       "26    26\n",
       "27    27\n",
       "28    28\n",
       "29    29\n",
       "30    30\n",
       "31    31\n",
       "32    32\n",
       "33    33\n",
       "34    34\n",
       "35    35\n",
       "36    36\n",
       "37    37\n",
       "38    38\n",
       "39    39\n",
       "40    40\n",
       "41    41\n",
       "42    42\n",
       "43    43\n",
       "44    44\n",
       "45    45\n",
       "46    46\n",
       "47    47\n",
       "48    48\n",
       "49    49\n",
       "Name: Eje x, dtype: int64"
      ]
     },
     "execution_count": 25,
     "metadata": {},
     "output_type": "execute_result"
    }
   ],
   "source": [
    "data['Eje x']"
   ]
  },
  {
   "cell_type": "code",
   "execution_count": 26,
   "metadata": {},
   "outputs": [
    {
     "data": {
      "text/plain": [
       "0    -10.770362\n",
       "1     -3.121167\n",
       "2      6.644871\n",
       "3      8.416668\n",
       "4      0.964254\n",
       "5      6.860936\n",
       "6     -4.469267\n",
       "7      3.842513\n",
       "8     12.073525\n",
       "9     -5.982074\n",
       "10     2.575396\n",
       "11    14.123236\n",
       "12     6.640510\n",
       "13     7.388225\n",
       "14    15.381651\n",
       "15    13.830889\n",
       "16    24.475896\n",
       "17    37.789249\n",
       "18    11.123662\n",
       "19    36.484902\n",
       "20    16.143342\n",
       "21    30.357739\n",
       "22    29.701625\n",
       "23    17.357971\n",
       "24    20.454404\n",
       "25    17.848799\n",
       "26    28.197213\n",
       "27    31.168447\n",
       "28    39.884057\n",
       "29    32.846444\n",
       "30    38.013614\n",
       "31    24.423898\n",
       "32    23.101891\n",
       "33    46.213885\n",
       "34    26.757483\n",
       "35    30.109007\n",
       "36    31.456849\n",
       "37    47.127474\n",
       "38    54.275908\n",
       "39    33.774852\n",
       "40    35.267145\n",
       "41    48.329510\n",
       "42    45.499612\n",
       "43    42.222703\n",
       "44    75.476007\n",
       "45    50.373399\n",
       "46    33.863532\n",
       "47    33.742940\n",
       "48    39.929910\n",
       "49    57.417716\n",
       "Name: Eje y, dtype: float64"
      ]
     },
     "execution_count": 26,
     "metadata": {},
     "output_type": "execute_result"
    }
   ],
   "source": [
    "data['Eje y']"
   ]
  },
  {
   "cell_type": "code",
   "execution_count": 27,
   "metadata": {},
   "outputs": [
    {
     "data": {
      "image/png": "[encoded data removed]",
      "text/plain": [
       "<Figure size 432x288 with 1 Axes>"
      ]
     },
     "metadata": {
      "filenames": {
       "image/png": "/home/isaac/Dropbox/Docente/Externado/Github Projects/Programación/_build/jupyter_execute/24.Matplotlib_41_0.png"
      },
      "needs_background": "light"
     },
     "output_type": "display_data"
    }
   ],
   "source": [
    "plt.scatter('Eje x', 'Eje y',data=data)\n",
    "plt.xlabel('Valores guardados en a')\n",
    "plt.ylabel('Valores guardados en b')\n",
    "plt.grid()\n",
    "plt.show()"
   ]
  },
  {
   "cell_type": "markdown",
   "metadata": {},
   "source": [
    "Introduzcamos variación de tamaños"
   ]
  },
  {
   "cell_type": "code",
   "execution_count": 28,
   "metadata": {},
   "outputs": [
    {
     "data": {
      "image/png": "[encoded data removed]",
      "text/plain": [
       "<Figure size 432x288 with 1 Axes>"
      ]
     },
     "metadata": {
      "filenames": {
       "image/png": "/home/isaac/Dropbox/Docente/Externado/Github Projects/Programación/_build/jupyter_execute/24.Matplotlib_43_0.png"
      },
      "needs_background": "light"
     },
     "output_type": "display_data"
    }
   ],
   "source": [
    "plt.scatter('Eje x', 'Eje y',s='Tamaño',data=data)\n",
    "plt.xlabel('Valores guardados en a')\n",
    "plt.ylabel('Valores guardados en b')\n",
    "plt.show()"
   ]
  },
  {
   "cell_type": "markdown",
   "metadata": {},
   "source": [
    "Finalmente usemos colores:"
   ]
  },
  {
   "cell_type": "code",
   "execution_count": 29,
   "metadata": {},
   "outputs": [
    {
     "data": {
      "image/png": "[encoded data removed]",
      "text/plain": [
       "<Figure size 432x288 with 1 Axes>"
      ]
     },
     "metadata": {
      "filenames": {
       "image/png": "/home/isaac/Dropbox/Docente/Externado/Github Projects/Programación/_build/jupyter_execute/24.Matplotlib_45_0.png"
      },
      "needs_background": "light"
     },
     "output_type": "display_data"
    }
   ],
   "source": [
    "plt.scatter('Eje x', 'Eje y',s='Tamaño',c='Color',cmap='inferno',data=data)\n",
    "plt.xlabel('Valores guardados en a')\n",
    "plt.ylabel('Valores guardados en b')\n",
    "plt.show()"
   ]
  },
  {
   "cell_type": "markdown",
   "metadata": {},
   "source": [
    "### Gráficos para variables categóricas\n",
    "\n",
    "Con Matplotlib también podemos hacer gráficos de variables categóricas. Un ejemplo simple:"
   ]
  },
  {
   "cell_type": "code",
   "execution_count": 30,
   "metadata": {},
   "outputs": [
    {
     "data": {
      "text/plain": [
       "<BarContainer object of 3 artists>"
      ]
     },
     "execution_count": 30,
     "metadata": {},
     "output_type": "execute_result"
    },
    {
     "data": {
      "image/png": "[encoded data removed]",
      "text/plain": [
       "<Figure size 432x288 with 1 Axes>"
      ]
     },
     "metadata": {
      "filenames": {
       "image/png": "/home/isaac/Dropbox/Docente/Externado/Github Projects/Programación/_build/jupyter_execute/24.Matplotlib_47_1.png"
      },
      "needs_background": "light"
     },
     "output_type": "display_data"
    }
   ],
   "source": [
    "x=[\"María\", \"Pedro\", \"Juan\"]\n",
    "y=[10,12,8]\n",
    "plt.bar(x,y)"
   ]
  },
  {
   "cell_type": "code",
   "execution_count": 31,
   "metadata": {},
   "outputs": [
    {
     "data": {
      "text/plain": [
       "<BarContainer object of 3 artists>"
      ]
     },
     "execution_count": 31,
     "metadata": {},
     "output_type": "execute_result"
    },
    {
     "data": {
      "image/png": "[encoded data removed]",
      "text/plain": [
       "<Figure size 432x288 with 1 Axes>"
      ]
     },
     "metadata": {
      "filenames": {
       "image/png": "/home/isaac/Dropbox/Docente/Externado/Github Projects/Programación/_build/jupyter_execute/24.Matplotlib_48_1.png"
      },
      "needs_background": "light"
     },
     "output_type": "display_data"
    }
   ],
   "source": [
    "x=[\"María\", \"Pedro\", \"Juan\"]\n",
    "y=[10,12,8]\n",
    "plt.barh(x,y,color='y')"
   ]
  },
  {
   "cell_type": "code",
   "execution_count": 32,
   "metadata": {},
   "outputs": [
    {
     "data": {
      "text/plain": [
       "[<matplotlib.lines.Line2D at 0x7f801ad431c0>]"
      ]
     },
     "execution_count": 32,
     "metadata": {},
     "output_type": "execute_result"
    },
    {
     "data": {
      "image/png": "[encoded data removed]",
      "text/plain": [
       "<Figure size 432x288 with 1 Axes>"
      ]
     },
     "metadata": {
      "filenames": {
       "image/png": "/home/isaac/Dropbox/Docente/Externado/Github Projects/Programación/_build/jupyter_execute/24.Matplotlib_49_1.png"
      },
      "needs_background": "light"
     },
     "output_type": "display_data"
    }
   ],
   "source": [
    "x=[\"María\", \"Pedro\", \"Juan\"]\n",
    "y=[10,12,8]\n",
    "plt.plot(x,y)"
   ]
  },
  {
   "cell_type": "code",
   "execution_count": 33,
   "metadata": {},
   "outputs": [
    {
     "data": {
      "text/plain": [
       "<matplotlib.collections.PathCollection at 0x7f801ad18b50>"
      ]
     },
     "execution_count": 33,
     "metadata": {},
     "output_type": "execute_result"
    },
    {
     "data": {
      "image/png": "[encoded data removed]",
      "text/plain": [
       "<Figure size 432x288 with 1 Axes>"
      ]
     },
     "metadata": {
      "filenames": {
       "image/png": "/home/isaac/Dropbox/Docente/Externado/Github Projects/Programación/_build/jupyter_execute/24.Matplotlib_50_1.png"
      },
      "needs_background": "light"
     },
     "output_type": "display_data"
    }
   ],
   "source": [
    "x=[\"María\", \"Pedro\", \"Juan\"]\n",
    "y=[10,12,8]\n",
    "plt.scatter(y,x)"
   ]
  },
  {
   "cell_type": "markdown",
   "metadata": {},
   "source": [
    "Un gráfico de barras apilado"
   ]
  },
  {
   "cell_type": "code",
   "execution_count": 34,
   "metadata": {},
   "outputs": [
    {
     "data": {
      "text/plain": [
       "<matplotlib.legend.Legend at 0x7f801acb1280>"
      ]
     },
     "execution_count": 34,
     "metadata": {},
     "output_type": "execute_result"
    },
    {
     "data": {
      "image/png": "[encoded data removed]",
      "text/plain": [
       "<Figure size 432x288 with 1 Axes>"
      ]
     },
     "metadata": {
      "filenames": {
       "image/png": "/home/isaac/Dropbox/Docente/Externado/Github Projects/Programación/_build/jupyter_execute/24.Matplotlib_52_1.png"
      },
      "needs_background": "light"
     },
     "output_type": "display_data"
    }
   ],
   "source": [
    "labels = ['G1', 'G2', 'G3', 'G4', 'G5']\n",
    "hombres = [24, 26, 30, 35, 17]\n",
    "mujeres = np.array([22, 31, 44, 18, 30])\n",
    "width = 0.9   \n",
    "\n",
    "fig, ax = plt.subplots()\n",
    "ax.barh(labels, mujeres, width, left=hombres,label='Mujeres')\n",
    "ax.barh(labels, hombres, width, label='Hombres')\n",
    "ax.set_ylabel('Puntuaciones')\n",
    "ax.set_title('Puntuaciones por grupo y género')\n",
    "ax.legend()\n"
   ]
  },
  {
   "cell_type": "markdown",
   "metadata": {},
   "source": [
    "Ahora agrupados:"
   ]
  },
  {
   "cell_type": "code",
   "execution_count": 35,
   "metadata": {},
   "outputs": [
    {
     "data": {
      "text/plain": [
       "array([0, 1, 2, 3, 4])"
      ]
     },
     "execution_count": 35,
     "metadata": {},
     "output_type": "execute_result"
    }
   ],
   "source": [
    "x = np.arange(len(labels)) \n",
    "x"
   ]
  },
  {
   "cell_type": "code",
   "execution_count": 36,
   "metadata": {},
   "outputs": [
    {
     "data": {
      "text/plain": [
       "<matplotlib.legend.Legend at 0x7f801aefa370>"
      ]
     },
     "execution_count": 36,
     "metadata": {},
     "output_type": "execute_result"
    },
    {
     "data": {
      "image/png": "[encoded data removed]",
      "text/plain": [
       "<Figure size 432x288 with 1 Axes>"
      ]
     },
     "metadata": {
      "filenames": {
       "image/png": "/home/isaac/Dropbox/Docente/Externado/Github Projects/Programación/_build/jupyter_execute/24.Matplotlib_55_1.png"
      },
      "needs_background": "light"
     },
     "output_type": "display_data"
    }
   ],
   "source": [
    "width=0.35\n",
    "x = np.arange(len(labels)) \n",
    "fig, ax = plt.subplots()\n",
    "rects1 = ax.barh(x - width/2, hombres, width, label='Hombres')\n",
    "rects2 = ax.barh(x+width/2, mujeres, width, label='Mujeres')\n",
    "ax.set_yticks(x)\n",
    "ax.set_yticklabels(labels)\n",
    "\n",
    "ax.set_xlabel('Puntuaciones')\n",
    "ax.set_title('Puntuaciones por grupo y género')\n",
    "ax.legend()\n"
   ]
  },
  {
   "cell_type": "markdown",
   "metadata": {},
   "source": [
    "**Histogramas**"
   ]
  },
  {
   "cell_type": "code",
   "execution_count": 37,
   "metadata": {},
   "outputs": [
    {
     "data": {
      "image/png": "[encoded data removed]",
      "text/plain": [
       "<Figure size 432x288 with 1 Axes>"
      ]
     },
     "metadata": {
      "filenames": {
       "image/png": "/home/isaac/Dropbox/Docente/Externado/Github Projects/Programación/_build/jupyter_execute/24.Matplotlib_57_0.png"
      },
      "needs_background": "light"
     },
     "output_type": "display_data"
    }
   ],
   "source": [
    "mu, sigma = 100, 15\n",
    "x = mu + sigma * np.random.randn(10000)\n",
    "\n",
    "n, bins, patches = plt.hist(x, 10, density=True, facecolor='y', alpha=0.5)\n",
    "\n",
    "plt.xlabel('Puntaje')\n",
    "plt.ylabel('Probabilidad')\n",
    "plt.title('Histograma')\n",
    "plt.axis([40, 160, 0, 0.03])\n",
    "plt.grid(True)\n",
    "plt.show()\n"
   ]
  },
  {
   "cell_type": "code",
   "execution_count": 38,
   "metadata": {},
   "outputs": [
    {
     "data": {
      "text/plain": [
       "array([9.37343309e-05, 5.87969894e-04, 3.83458627e-03, 1.21939843e-02,\n",
       "       2.32120289e-02, 2.50100238e-02, 1.43924805e-02, 4.97644084e-03,\n",
       "       7.41353345e-04, 1.70426056e-04])"
      ]
     },
     "execution_count": 38,
     "metadata": {},
     "output_type": "execute_result"
    }
   ],
   "source": [
    "n"
   ]
  },
  {
   "cell_type": "code",
   "execution_count": 39,
   "metadata": {},
   "outputs": [
    {
     "data": {
      "text/plain": [
       "array([ 40.29953946,  52.03483419,  63.77012892,  75.50542365,\n",
       "        87.24071838,  98.97601311, 110.71130784, 122.44660257,\n",
       "       134.1818973 , 145.91719203, 157.65248676])"
      ]
     },
     "execution_count": 39,
     "metadata": {},
     "output_type": "execute_result"
    }
   ],
   "source": [
    "bins"
   ]
  },
  {
   "cell_type": "code",
   "execution_count": 40,
   "metadata": {},
   "outputs": [
    {
     "data": {
      "text/plain": [
       "<BarContainer object of 10 artists>"
      ]
     },
     "execution_count": 40,
     "metadata": {},
     "output_type": "execute_result"
    }
   ],
   "source": [
    "patches"
   ]
  },
  {
   "cell_type": "code",
   "execution_count": 41,
   "metadata": {},
   "outputs": [],
   "source": [
    "mu, sigma = 100, 15\n",
    "x = mu + sigma * np.random.randn(10000)\n",
    "def histograma(n,a):\n",
    "    plt.hist(x, n, density=True, facecolor='y', alpha=a)\n",
    "    plt.xlabel('Puntaje')\n",
    "    plt.ylabel('Probabilidad')\n",
    "    plt.title('Histograma')\n",
    "    plt.axis([40, 160, 0, 0.03])\n",
    "    plt.grid(True)\n",
    "    plt.show()\n",
    "    return"
   ]
  },
  {
   "cell_type": "code",
   "execution_count": 42,
   "metadata": {},
   "outputs": [
    {
     "data": {
      "application/vnd.jupyter.widget-view+json": {
       "model_id": "fb338e9b827545d0b412febc15f601d7",
       "version_major": 2,
       "version_minor": 0
      },
      "text/plain": [
       "interactive(children=(IntSlider(value=30, description='Intervalos', max=50, min=1), FloatSlider(value=0.5, des…"
      ]
     },
     "metadata": {},
     "output_type": "display_data"
    },
    {
     "data": {
      "text/plain": [
       "<function __main__.histograma(n, a)>"
      ]
     },
     "execution_count": 42,
     "metadata": {},
     "output_type": "execute_result"
    }
   ],
   "source": [
    "import ipywidgets as widgets\n",
    "from ipywidgets import interact\n",
    "interact(histograma,n=widgets.IntSlider(value=30,min=1,max=50,description=\"Intervalos\"),\n",
    "         a=widgets.FloatSlider(value=0.5,min=0,max=1,description=\"Transparencia\"))"
   ]
  },
  {
   "cell_type": "code",
   "execution_count": 43,
   "metadata": {},
   "outputs": [
    {
     "data": {
      "text/plain": [
       "5.0"
      ]
     },
     "execution_count": 43,
     "metadata": {},
     "output_type": "execute_result"
    }
   ],
   "source": [
    "from math import sqrt\n",
    "x=25\n",
    "eval(\"sqrt(x)\")"
   ]
  },
  {
   "cell_type": "markdown",
   "metadata": {},
   "source": [
    "### Graficador de funciones"
   ]
  },
  {
   "cell_type": "code",
   "execution_count": 44,
   "metadata": {},
   "outputs": [
    {
     "data": {
      "application/vnd.jupyter.widget-view+json": {
       "model_id": "a91f8b1bb9fb4d549f781cc1e4957177",
       "version_major": 2,
       "version_minor": 0
      },
      "text/plain": [
       "interactive(children=(Text(value='(x-3)**2', description='nf'), IntSlider(value=-10, description='xmin', max=1…"
      ]
     },
     "metadata": {},
     "output_type": "display_data"
    },
    {
     "data": {
      "text/plain": [
       "<function __main__.graffun(nf, xmin, xmax, ymin, ymax)>"
      ]
     },
     "execution_count": 44,
     "metadata": {},
     "output_type": "execute_result"
    },
    {
     "data": {
      "image/png": "[encoded data removed]",
      "text/plain": [
       "<Figure size 432x288 with 1 Axes>"
      ]
     },
     "metadata": {
      "filenames": {
       "image/png": "/home/isaac/Dropbox/Docente/Externado/Github Projects/Programación/_build/jupyter_execute/24.Matplotlib_65_2.png"
      },
      "needs_background": "light"
     },
     "output_type": "display_data"
    }
   ],
   "source": [
    "def graffun(nf,xmin,xmax,ymin,ymax):\n",
    "    try:\n",
    "        x = np.linspace(xmin, xmax, 100)\n",
    "        y=eval(nf)\n",
    "        plt.plot(x,y)\n",
    "        plt.axis([xmin,xmax,ymin,ymax])\n",
    "        plt.grid(True)\n",
    "    except:\n",
    "        print('Error!!')\n",
    "\n",
    "\n",
    "interact(graffun,nf='(x-3)**2',xmin=-10,xmax=2*np.pi,ymin=-1,ymax=1)  "
   ]
  },
  {
   "cell_type": "markdown",
   "metadata": {},
   "source": [
    "### Texto en las gráficas\n",
    "\n",
    "Ahora usaremos el comando `plt.text()` y `plt.annotate()` para adicionar texto en el gráfico:"
   ]
  },
  {
   "cell_type": "code",
   "execution_count": 45,
   "metadata": {},
   "outputs": [
    {
     "data": {
      "image/png": "[encoded data removed]",
      "text/plain": [
       "<Figure size 432x288 with 1 Axes>"
      ]
     },
     "metadata": {
      "filenames": {
       "image/png": "/home/isaac/Dropbox/Docente/Externado/Github Projects/Programación/_build/jupyter_execute/24.Matplotlib_67_0.png"
      },
      "needs_background": "light"
     },
     "output_type": "display_data"
    }
   ],
   "source": [
    "ax = plt.subplot(111)\n",
    "\n",
    "t = np.arange(0.0, 5.0, 0.01)\n",
    "s = np.cos(2*np.pi*t)\n",
    "line, = plt.plot(t, s, lw=2)\n",
    "\n",
    "plt.text(0.7,1.12,'Un máximo\\nlocal ')\n",
    "\n",
    "plt.ylim(-2, 2)\n",
    "plt.show()"
   ]
  },
  {
   "cell_type": "code",
   "execution_count": 46,
   "metadata": {},
   "outputs": [
    {
     "data": {
      "image/png": "[encoded data removed]",
      "text/plain": [
       "<Figure size 432x288 with 1 Axes>"
      ]
     },
     "metadata": {
      "filenames": {
       "image/png": "/home/isaac/Dropbox/Docente/Externado/Github Projects/Programación/_build/jupyter_execute/24.Matplotlib_68_0.png"
      },
      "needs_background": "light"
     },
     "output_type": "display_data"
    }
   ],
   "source": [
    "ax = plt.subplot(111)\n",
    "\n",
    "t = np.arange(0.0, 5.0, 0.01)\n",
    "s = np.cos(2*np.pi*t)\n",
    "line, = plt.plot(t, s, lw=2)\n",
    "\n",
    "plt.text(0.7,1.12,r'$\\left(2\\cdot\\pi\\cdot\\frac{\\pi}{2},1\\right)$')\n",
    "plt.title(r\"Función $\\cos(2\\pi x)$ y un máximo local\")\n",
    "plt.ylim(-2, 2)\n",
    "plt.show()"
   ]
  },
  {
   "cell_type": "markdown",
   "metadata": {},
   "source": [
    "Ahora con una anotación:"
   ]
  },
  {
   "cell_type": "code",
   "execution_count": 47,
   "metadata": {},
   "outputs": [
    {
     "data": {
      "image/png": "[encoded data removed]",
      "text/plain": [
       "<Figure size 432x288 with 1 Axes>"
      ]
     },
     "metadata": {
      "filenames": {
       "image/png": "/home/isaac/Dropbox/Docente/Externado/Github Projects/Programación/_build/jupyter_execute/24.Matplotlib_70_0.png"
      },
      "needs_background": "light"
     },
     "output_type": "display_data"
    }
   ],
   "source": [
    "ax = plt.subplot(111)\n",
    "\n",
    "t = np.arange(0.0, 5.0, 0.01)\n",
    "s = np.cos(2*np.pi*t)\n",
    "line, = plt.plot(t, s, lw=2)\n",
    "\n",
    "plt.annotate('Máximo local', xy=(1, 1), xytext=(3, 1.5),\n",
    "             arrowprops=dict(edgecolor='green',facecolor='blue'),\n",
    "             )\n",
    "\n",
    "plt.ylim(-2, 2)\n",
    "plt.show()\n"
   ]
  },
  {
   "cell_type": "code",
   "execution_count": 48,
   "metadata": {},
   "outputs": [],
   "source": [
    "?plt.annotate"
   ]
  },
  {
   "cell_type": "code",
   "execution_count": 49,
   "metadata": {},
   "outputs": [
    {
     "data": {
      "image/png": "[encoded data removed]",
      "text/plain": [
       "<Figure size 432x288 with 1 Axes>"
      ]
     },
     "metadata": {
      "filenames": {
       "image/png": "/home/isaac/Dropbox/Docente/Externado/Github Projects/Programación/_build/jupyter_execute/24.Matplotlib_72_0.png"
      },
      "needs_background": "light"
     },
     "output_type": "display_data"
    }
   ],
   "source": [
    "ax = plt.subplot(111)\n",
    "\n",
    "t = np.arange(0.0, 5.0, 0.01)\n",
    "s = np.cos(2*np.pi*t)\n",
    "line, = plt.plot(t, s, lw=2)\n",
    "\n",
    "plt.annotate('Máximo local', xy=(1, 1), xytext=(3, 1.5),\n",
    "             arrowprops=dict(edgecolor='green',facecolor='red', shrink=0.05),)\n",
    "\n",
    "plt.ylim(-2, 2)\n",
    "plt.show()\n"
   ]
  },
  {
   "cell_type": "code",
   "execution_count": 50,
   "metadata": {},
   "outputs": [],
   "source": [
    "def estiloflecha(l):\n",
    "    ax = plt.subplot(111)\n",
    "\n",
    "    t = np.arange(0.0, 5.0, 0.01)\n",
    "    s = np.cos(2*np.pi*t)\n",
    "    line, = plt.plot(t, s, lw=2)\n",
    "\n",
    "    plt.annotate('Máximo local', xy=(1, 1), xytext=(3, 1.5),\n",
    "                 arrowprops=dict(edgecolor='green',facecolor='red', arrowstyle=l),)\n",
    "\n",
    "    plt.ylim(-2, 2)\n",
    "    plt.show()\n",
    "    return\n",
    "\n"
   ]
  },
  {
   "cell_type": "code",
   "execution_count": 51,
   "metadata": {},
   "outputs": [
    {
     "data": {
      "application/vnd.jupyter.widget-view+json": {
       "model_id": "7d4f30d680864692b865dbba81690f8d",
       "version_major": 2,
       "version_minor": 0
      },
      "text/plain": [
       "interactive(children=(Dropdown(description='l', options=('-', '->', '-[', '|-|', '-|>', 'fancy', 'simple', 'we…"
      ]
     },
     "metadata": {},
     "output_type": "display_data"
    },
    {
     "data": {
      "text/plain": [
       "<function __main__.estiloflecha(l)>"
      ]
     },
     "execution_count": 51,
     "metadata": {},
     "output_type": "execute_result"
    }
   ],
   "source": [
    "interact(estiloflecha,l=['-','->','-[','|-|','-|>','fancy','simple','wedge'])"
   ]
  },
  {
   "cell_type": "markdown",
   "metadata": {},
   "source": [
    "## Backends\n",
    "\n",
    "Al usar Jupyter nosotros estamos pidiendo que el gráfico se pueda visualizar en el entorno web en el cual se está mostrando las salidas de Python. Sin embargo, es posible visalizar estos mismos gráficos en otras interfáces gráficas más potentes ycon más herramientas. \n",
    "\n",
    "Matplotlib permite utilizar las diferentes interfáces haciendo modificación en su backend, entendiendo al backend como el motor gráfico que genera las diferentes imagenes que imaginamos.\n",
    "\n",
    "Para modificar el backend usado en Jupyter usamos un comándo mágico `%matplotlib`. Veamos algunos ejemplos:"
   ]
  },
  {
   "cell_type": "code",
   "execution_count": 52,
   "metadata": {},
   "outputs": [],
   "source": [
    "import matplotlib"
   ]
  },
  {
   "cell_type": "code",
   "execution_count": 53,
   "metadata": {},
   "outputs": [],
   "source": [
    "import matplotlib\n",
    "import matplotlib.pyplot as plt\n",
    "import numpy as np"
   ]
  },
  {
   "cell_type": "code",
   "execution_count": 54,
   "metadata": {},
   "outputs": [
    {
     "data": {
      "application/javascript": [
       "/* Put everything inside the global mpl namespace */\n",
       "/* global mpl */\n",
       "window.mpl = {};\n",
       "\n",
       "mpl.get_websocket_type = function () {\n",
       "    if (typeof WebSocket !== 'undefined') {\n",
       "        return WebSocket;\n",
       "    } else if (typeof MozWebSocket !== 'undefined') {\n",
       "        return MozWebSocket;\n",
       "    } else {\n",
       "        alert(\n",
       "            'Your browser does not have WebSocket support. ' +\n",
       "                'Please try Chrome, Safari or Firefox ≥ 6. ' +\n",
       "                'Firefox 4 and 5 are also supported but you ' +\n",
       "                'have to enable WebSockets in about:config.'\n",
       "        );\n",
       "    }\n",
       "};\n",
       "\n",
       "mpl.figure = function (figure_id, websocket, ondownload, parent_element) {\n",
       "    this.id = figure_id;\n",
       "\n",
       "    this.ws = websocket;\n",
       "\n",
       "    this.supports_binary = this.ws.binaryType !== undefined;\n",
       "\n",
       "    if (!this.supports_binary) {\n",
       "        var warnings = document.getElementById('mpl-warnings');\n",
       "        if (warnings) {\n",
       "            warnings.style.display = 'block';\n",
       "            warnings.textContent =\n",
       "                'This browser does not support binary websocket messages. ' +\n",
       "                'Performance may be slow.';\n",
       "        }\n",
       "    }\n",
       "\n",
       "    this.imageObj = new Image();\n",
       "\n",
       "    this.context = undefined;\n",
       "    this.message = undefined;\n",
       "    this.canvas = undefined;\n",
       "    this.rubberband_canvas = undefined;\n",
       "    this.rubberband_context = undefined;\n",
       "    this.format_dropdown = undefined;\n",
       "\n",
       "    this.image_mode = 'full';\n",
       "\n",
       "    this.root = document.createElement('div');\n",
       "    this.root.setAttribute('style', 'display: inline-block');\n",
       "    this._root_extra_style(this.root);\n",
       "\n",
       "    parent_element.appendChild(this.root);\n",
       "\n",
       "    this._init_header(this);\n",
       "    this._init_canvas(this);\n",
       "    this._init_toolbar(this);\n",
       "\n",
       "    var fig = this;\n",
       "\n",
       "    this.waiting = false;\n",
       "\n",
       "    this.ws.onopen = function () {\n",
       "        fig.send_message('supports_binary', { value: fig.supports_binary });\n",
       "        fig.send_message('send_image_mode', {});\n",
       "        if (fig.ratio !== 1) {\n",
       "            fig.send_message('set_dpi_ratio', { dpi_ratio: fig.ratio });\n",
       "        }\n",
       "        fig.send_message('refresh', {});\n",
       "    };\n",
       "\n",
       "    this.imageObj.onload = function () {\n",
       "        if (fig.image_mode === 'full') {\n",
       "            // Full images could contain transparency (where diff images\n",
       "            // almost always do), so we need to clear the canvas so that\n",
       "            // there is no ghosting.\n",
       "            fig.context.clearRect(0, 0, fig.canvas.width, fig.canvas.height);\n",
       "        }\n",
       "        fig.context.drawImage(fig.imageObj, 0, 0);\n",
       "    };\n",
       "\n",
       "    this.imageObj.onunload = function () {\n",
       "        fig.ws.close();\n",
       "    };\n",
       "\n",
       "    this.ws.onmessage = this._make_on_message_function(this);\n",
       "\n",
       "    this.ondownload = ondownload;\n",
       "};\n",
       "\n",
       "mpl.figure.prototype._init_header = function () {\n",
       "    var titlebar = document.createElement('div');\n",
       "    titlebar.classList =\n",
       "        'ui-dialog-titlebar ui-widget-header ui-corner-all ui-helper-clearfix';\n",
       "    var titletext = document.createElement('div');\n",
       "    titletext.classList = 'ui-dialog-title';\n",
       "    titletext.setAttribute(\n",
       "        'style',\n",
       "        'width: 100%; text-align: center; padding: 3px;'\n",
       "    );\n",
       "    titlebar.appendChild(titletext);\n",
       "    this.root.appendChild(titlebar);\n",
       "    this.header = titletext;\n",
       "};\n",
       "\n",
       "mpl.figure.prototype._canvas_extra_style = function (_canvas_div) {};\n",
       "\n",
       "mpl.figure.prototype._root_extra_style = function (_canvas_div) {};\n",
       "\n",
       "mpl.figure.prototype._init_canvas = function () {\n",
       "    var fig = this;\n",
       "\n",
       "    var canvas_div = (this.canvas_div = document.createElement('div'));\n",
       "    canvas_div.setAttribute(\n",
       "        'style',\n",
       "        'border: 1px solid #ddd;' +\n",
       "            'box-sizing: content-box;' +\n",
       "            'clear: both;' +\n",
       "            'min-height: 1px;' +\n",
       "            'min-width: 1px;' +\n",
       "            'outline: 0;' +\n",
       "            'overflow: hidden;' +\n",
       "            'position: relative;' +\n",
       "            'resize: both;'\n",
       "    );\n",
       "\n",
       "    function on_keyboard_event_closure(name) {\n",
       "        return function (event) {\n",
       "            return fig.key_event(event, name);\n",
       "        };\n",
       "    }\n",
       "\n",
       "    canvas_div.addEventListener(\n",
       "        'keydown',\n",
       "        on_keyboard_event_closure('key_press')\n",
       "    );\n",
       "    canvas_div.addEventListener(\n",
       "        'keyup',\n",
       "        on_keyboard_event_closure('key_release')\n",
       "    );\n",
       "\n",
       "    this._canvas_extra_style(canvas_div);\n",
       "    this.root.appendChild(canvas_div);\n",
       "\n",
       "    var canvas = (this.canvas = document.createElement('canvas'));\n",
       "    canvas.classList.add('mpl-canvas');\n",
       "    canvas.setAttribute('style', 'box-sizing: content-box;');\n",
       "\n",
       "    this.context = canvas.getContext('2d');\n",
       "\n",
       "    var backingStore =\n",
       "        this.context.backingStorePixelRatio ||\n",
       "        this.context.webkitBackingStorePixelRatio ||\n",
       "        this.context.mozBackingStorePixelRatio ||\n",
       "        this.context.msBackingStorePixelRatio ||\n",
       "        this.context.oBackingStorePixelRatio ||\n",
       "        this.context.backingStorePixelRatio ||\n",
       "        1;\n",
       "\n",
       "    this.ratio = (window.devicePixelRatio || 1) / backingStore;\n",
       "\n",
       "    var rubberband_canvas = (this.rubberband_canvas = document.createElement(\n",
       "        'canvas'\n",
       "    ));\n",
       "    rubberband_canvas.setAttribute(\n",
       "        'style',\n",
       "        'box-sizing: content-box; position: absolute; left: 0; top: 0; z-index: 1;'\n",
       "    );\n",
       "\n",
       "    // Apply a ponyfill if ResizeObserver is not implemented by browser.\n",
       "    if (this.ResizeObserver === undefined) {\n",
       "        if (window.ResizeObserver !== undefined) {\n",
       "            this.ResizeObserver = window.ResizeObserver;\n",
       "        } else {\n",
       "            var obs = _JSXTOOLS_RESIZE_OBSERVER({});\n",
       "            this.ResizeObserver = obs.ResizeObserver;\n",
       "        }\n",
       "    }\n",
       "\n",
       "    this.resizeObserverInstance = new this.ResizeObserver(function (entries) {\n",
       "        var nentries = entries.length;\n",
       "        for (var i = 0; i < nentries; i++) {\n",
       "            var entry = entries[i];\n",
       "            var width, height;\n",
       "            if (entry.contentBoxSize) {\n",
       "                if (entry.contentBoxSize instanceof Array) {\n",
       "                    // Chrome 84 implements new version of spec.\n",
       "                    width = entry.contentBoxSize[0].inlineSize;\n",
       "                    height = entry.contentBoxSize[0].blockSize;\n",
       "                } else {\n",
       "                    // Firefox implements old version of spec.\n",
       "                    width = entry.contentBoxSize.inlineSize;\n",
       "                    height = entry.contentBoxSize.blockSize;\n",
       "                }\n",
       "            } else {\n",
       "                // Chrome <84 implements even older version of spec.\n",
       "                width = entry.contentRect.width;\n",
       "                height = entry.contentRect.height;\n",
       "            }\n",
       "\n",
       "            // Keep the size of the canvas and rubber band canvas in sync with\n",
       "            // the canvas container.\n",
       "            if (entry.devicePixelContentBoxSize) {\n",
       "                // Chrome 84 implements new version of spec.\n",
       "                canvas.setAttribute(\n",
       "                    'width',\n",
       "                    entry.devicePixelContentBoxSize[0].inlineSize\n",
       "                );\n",
       "                canvas.setAttribute(\n",
       "                    'height',\n",
       "                    entry.devicePixelContentBoxSize[0].blockSize\n",
       "                );\n",
       "            } else {\n",
       "                canvas.setAttribute('width', width * fig.ratio);\n",
       "                canvas.setAttribute('height', height * fig.ratio);\n",
       "            }\n",
       "            canvas.setAttribute(\n",
       "                'style',\n",
       "                'width: ' + width + 'px; height: ' + height + 'px;'\n",
       "            );\n",
       "\n",
       "            rubberband_canvas.setAttribute('width', width);\n",
       "            rubberband_canvas.setAttribute('height', height);\n",
       "\n",
       "            // And update the size in Python. We ignore the initial 0/0 size\n",
       "            // that occurs as the element is placed into the DOM, which should\n",
       "            // otherwise not happen due to the minimum size styling.\n",
       "            if (fig.ws.readyState == 1 && width != 0 && height != 0) {\n",
       "                fig.request_resize(width, height);\n",
       "            }\n",
       "        }\n",
       "    });\n",
       "    this.resizeObserverInstance.observe(canvas_div);\n",
       "\n",
       "    function on_mouse_event_closure(name) {\n",
       "        return function (event) {\n",
       "            return fig.mouse_event(event, name);\n",
       "        };\n",
       "    }\n",
       "\n",
       "    rubberband_canvas.addEventListener(\n",
       "        'mousedown',\n",
       "        on_mouse_event_closure('button_press')\n",
       "    );\n",
       "    rubberband_canvas.addEventListener(\n",
       "        'mouseup',\n",
       "        on_mouse_event_closure('button_release')\n",
       "    );\n",
       "    rubberband_canvas.addEventListener(\n",
       "        'dblclick',\n",
       "        on_mouse_event_closure('dblclick')\n",
       "    );\n",
       "    // Throttle sequential mouse events to 1 every 20ms.\n",
       "    rubberband_canvas.addEventListener(\n",
       "        'mousemove',\n",
       "        on_mouse_event_closure('motion_notify')\n",
       "    );\n",
       "\n",
       "    rubberband_canvas.addEventListener(\n",
       "        'mouseenter',\n",
       "        on_mouse_event_closure('figure_enter')\n",
       "    );\n",
       "    rubberband_canvas.addEventListener(\n",
       "        'mouseleave',\n",
       "        on_mouse_event_closure('figure_leave')\n",
       "    );\n",
       "\n",
       "    canvas_div.addEventListener('wheel', function (event) {\n",
       "        if (event.deltaY < 0) {\n",
       "            event.step = 1;\n",
       "        } else {\n",
       "            event.step = -1;\n",
       "        }\n",
       "        on_mouse_event_closure('scroll')(event);\n",
       "    });\n",
       "\n",
       "    canvas_div.appendChild(canvas);\n",
       "    canvas_div.appendChild(rubberband_canvas);\n",
       "\n",
       "    this.rubberband_context = rubberband_canvas.getContext('2d');\n",
       "    this.rubberband_context.strokeStyle = '#000000';\n",
       "\n",
       "    this._resize_canvas = function (width, height, forward) {\n",
       "        if (forward) {\n",
       "            canvas_div.style.width = width + 'px';\n",
       "            canvas_div.style.height = height + 'px';\n",
       "        }\n",
       "    };\n",
       "\n",
       "    // Disable right mouse context menu.\n",
       "    this.rubberband_canvas.addEventListener('contextmenu', function (_e) {\n",
       "        event.preventDefault();\n",
       "        return false;\n",
       "    });\n",
       "\n",
       "    function set_focus() {\n",
       "        canvas.focus();\n",
       "        canvas_div.focus();\n",
       "    }\n",
       "\n",
       "    window.setTimeout(set_focus, 100);\n",
       "};\n",
       "\n",
       "mpl.figure.prototype._init_toolbar = function () {\n",
       "    var fig = this;\n",
       "\n",
       "    var toolbar = document.createElement('div');\n",
       "    toolbar.classList = 'mpl-toolbar';\n",
       "    this.root.appendChild(toolbar);\n",
       "\n",
       "    function on_click_closure(name) {\n",
       "        return function (_event) {\n",
       "            return fig.toolbar_button_onclick(name);\n",
       "        };\n",
       "    }\n",
       "\n",
       "    function on_mouseover_closure(tooltip) {\n",
       "        return function (event) {\n",
       "            if (!event.currentTarget.disabled) {\n",
       "                return fig.toolbar_button_onmouseover(tooltip);\n",
       "            }\n",
       "        };\n",
       "    }\n",
       "\n",
       "    fig.buttons = {};\n",
       "    var buttonGroup = document.createElement('div');\n",
       "    buttonGroup.classList = 'mpl-button-group';\n",
       "    for (var toolbar_ind in mpl.toolbar_items) {\n",
       "        var name = mpl.toolbar_items[toolbar_ind][0];\n",
       "        var tooltip = mpl.toolbar_items[toolbar_ind][1];\n",
       "        var image = mpl.toolbar_items[toolbar_ind][2];\n",
       "        var method_name = mpl.toolbar_items[toolbar_ind][3];\n",
       "\n",
       "        if (!name) {\n",
       "            /* Instead of a spacer, we start a new button group. */\n",
       "            if (buttonGroup.hasChildNodes()) {\n",
       "                toolbar.appendChild(buttonGroup);\n",
       "            }\n",
       "            buttonGroup = document.createElement('div');\n",
       "            buttonGroup.classList = 'mpl-button-group';\n",
       "            continue;\n",
       "        }\n",
       "\n",
       "        var button = (fig.buttons[name] = document.createElement('button'));\n",
       "        button.classList = 'mpl-widget';\n",
       "        button.setAttribute('role', 'button');\n",
       "        button.setAttribute('aria-disabled', 'false');\n",
       "        button.addEventListener('click', on_click_closure(method_name));\n",
       "        button.addEventListener('mouseover', on_mouseover_closure(tooltip));\n",
       "\n",
       "        var icon_img = document.createElement('img');\n",
       "        icon_img.src = '_images/' + image + '.png';\n",
       "        icon_img.srcset = '_images/' + image + '_large.png 2x';\n",
       "        icon_img.alt = tooltip;\n",
       "        button.appendChild(icon_img);\n",
       "\n",
       "        buttonGroup.appendChild(button);\n",
       "    }\n",
       "\n",
       "    if (buttonGroup.hasChildNodes()) {\n",
       "        toolbar.appendChild(buttonGroup);\n",
       "    }\n",
       "\n",
       "    var fmt_picker = document.createElement('select');\n",
       "    fmt_picker.classList = 'mpl-widget';\n",
       "    toolbar.appendChild(fmt_picker);\n",
       "    this.format_dropdown = fmt_picker;\n",
       "\n",
       "    for (var ind in mpl.extensions) {\n",
       "        var fmt = mpl.extensions[ind];\n",
       "        var option = document.createElement('option');\n",
       "        option.selected = fmt === mpl.default_extension;\n",
       "        option.innerHTML = fmt;\n",
       "        fmt_picker.appendChild(option);\n",
       "    }\n",
       "\n",
       "    var status_bar = document.createElement('span');\n",
       "    status_bar.classList = 'mpl-message';\n",
       "    toolbar.appendChild(status_bar);\n",
       "    this.message = status_bar;\n",
       "};\n",
       "\n",
       "mpl.figure.prototype.request_resize = function (x_pixels, y_pixels) {\n",
       "    // Request matplotlib to resize the figure. Matplotlib will then trigger a resize in the client,\n",
       "    // which will in turn request a refresh of the image.\n",
       "    this.send_message('resize', { width: x_pixels, height: y_pixels });\n",
       "};\n",
       "\n",
       "mpl.figure.prototype.send_message = function (type, properties) {\n",
       "    properties['type'] = type;\n",
       "    properties['figure_id'] = this.id;\n",
       "    this.ws.send(JSON.stringify(properties));\n",
       "};\n",
       "\n",
       "mpl.figure.prototype.send_draw_message = function () {\n",
       "    if (!this.waiting) {\n",
       "        this.waiting = true;\n",
       "        this.ws.send(JSON.stringify({ type: 'draw', figure_id: this.id }));\n",
       "    }\n",
       "};\n",
       "\n",
       "mpl.figure.prototype.handle_save = function (fig, _msg) {\n",
       "    var format_dropdown = fig.format_dropdown;\n",
       "    var format = format_dropdown.options[format_dropdown.selectedIndex].value;\n",
       "    fig.ondownload(fig, format);\n",
       "};\n",
       "\n",
       "mpl.figure.prototype.handle_resize = function (fig, msg) {\n",
       "    var size = msg['size'];\n",
       "    if (size[0] !== fig.canvas.width || size[1] !== fig.canvas.height) {\n",
       "        fig._resize_canvas(size[0], size[1], msg['forward']);\n",
       "        fig.send_message('refresh', {});\n",
       "    }\n",
       "};\n",
       "\n",
       "mpl.figure.prototype.handle_rubberband = function (fig, msg) {\n",
       "    var x0 = msg['x0'] / fig.ratio;\n",
       "    var y0 = (fig.canvas.height - msg['y0']) / fig.ratio;\n",
       "    var x1 = msg['x1'] / fig.ratio;\n",
       "    var y1 = (fig.canvas.height - msg['y1']) / fig.ratio;\n",
       "    x0 = Math.floor(x0) + 0.5;\n",
       "    y0 = Math.floor(y0) + 0.5;\n",
       "    x1 = Math.floor(x1) + 0.5;\n",
       "    y1 = Math.floor(y1) + 0.5;\n",
       "    var min_x = Math.min(x0, x1);\n",
       "    var min_y = Math.min(y0, y1);\n",
       "    var width = Math.abs(x1 - x0);\n",
       "    var height = Math.abs(y1 - y0);\n",
       "\n",
       "    fig.rubberband_context.clearRect(\n",
       "        0,\n",
       "        0,\n",
       "        fig.canvas.width / fig.ratio,\n",
       "        fig.canvas.height / fig.ratio\n",
       "    );\n",
       "\n",
       "    fig.rubberband_context.strokeRect(min_x, min_y, width, height);\n",
       "};\n",
       "\n",
       "mpl.figure.prototype.handle_figure_label = function (fig, msg) {\n",
       "    // Updates the figure title.\n",
       "    fig.header.textContent = msg['label'];\n",
       "};\n",
       "\n",
       "mpl.figure.prototype.handle_cursor = function (fig, msg) {\n",
       "    var cursor = msg['cursor'];\n",
       "    switch (cursor) {\n",
       "        case 0:\n",
       "            cursor = 'pointer';\n",
       "            break;\n",
       "        case 1:\n",
       "            cursor = 'default';\n",
       "            break;\n",
       "        case 2:\n",
       "            cursor = 'crosshair';\n",
       "            break;\n",
       "        case 3:\n",
       "            cursor = 'move';\n",
       "            break;\n",
       "    }\n",
       "    fig.rubberband_canvas.style.cursor = cursor;\n",
       "};\n",
       "\n",
       "mpl.figure.prototype.handle_message = function (fig, msg) {\n",
       "    fig.message.textContent = msg['message'];\n",
       "};\n",
       "\n",
       "mpl.figure.prototype.handle_draw = function (fig, _msg) {\n",
       "    // Request the server to send over a new figure.\n",
       "    fig.send_draw_message();\n",
       "};\n",
       "\n",
       "mpl.figure.prototype.handle_image_mode = function (fig, msg) {\n",
       "    fig.image_mode = msg['mode'];\n",
       "};\n",
       "\n",
       "mpl.figure.prototype.handle_history_buttons = function (fig, msg) {\n",
       "    for (var key in msg) {\n",
       "        if (!(key in fig.buttons)) {\n",
       "            continue;\n",
       "        }\n",
       "        fig.buttons[key].disabled = !msg[key];\n",
       "        fig.buttons[key].setAttribute('aria-disabled', !msg[key]);\n",
       "    }\n",
       "};\n",
       "\n",
       "mpl.figure.prototype.handle_navigate_mode = function (fig, msg) {\n",
       "    if (msg['mode'] === 'PAN') {\n",
       "        fig.buttons['Pan'].classList.add('active');\n",
       "        fig.buttons['Zoom'].classList.remove('active');\n",
       "    } else if (msg['mode'] === 'ZOOM') {\n",
       "        fig.buttons['Pan'].classList.remove('active');\n",
       "        fig.buttons['Zoom'].classList.add('active');\n",
       "    } else {\n",
       "        fig.buttons['Pan'].classList.remove('active');\n",
       "        fig.buttons['Zoom'].classList.remove('active');\n",
       "    }\n",
       "};\n",
       "\n",
       "mpl.figure.prototype.updated_canvas_event = function () {\n",
       "    // Called whenever the canvas gets updated.\n",
       "    this.send_message('ack', {});\n",
       "};\n",
       "\n",
       "// A function to construct a web socket function for onmessage handling.\n",
       "// Called in the figure constructor.\n",
       "mpl.figure.prototype._make_on_message_function = function (fig) {\n",
       "    return function socket_on_message(evt) {\n",
       "        if (evt.data instanceof Blob) {\n",
       "            var img = evt.data;\n",
       "            if (img.type !== 'image/png') {\n",
       "                /* FIXME: We get \"Resource interpreted as Image but\n",
       "                 * transferred with MIME type text/plain:\" errors on\n",
       "                 * Chrome.  But how to set the MIME type?  It doesn't seem\n",
       "                 * to be part of the websocket stream */\n",
       "                img.type = 'image/png';\n",
       "            }\n",
       "\n",
       "            /* Free the memory for the previous frames */\n",
       "            if (fig.imageObj.src) {\n",
       "                (window.URL || window.webkitURL).revokeObjectURL(\n",
       "                    fig.imageObj.src\n",
       "                );\n",
       "            }\n",
       "\n",
       "            fig.imageObj.src = (window.URL || window.webkitURL).createObjectURL(\n",
       "                img\n",
       "            );\n",
       "            fig.updated_canvas_event();\n",
       "            fig.waiting = false;\n",
       "            return;\n",
       "        } else if (\n",
       "            typeof evt.data === 'string' &&\n",
       "            evt.data.slice(0, 21) === 'data:image/png;base64'\n",
       "        ) {\n",
       "            fig.imageObj.src = evt.data;\n",
       "            fig.updated_canvas_event();\n",
       "            fig.waiting = false;\n",
       "            return;\n",
       "        }\n",
       "\n",
       "        var msg = JSON.parse(evt.data);\n",
       "        var msg_type = msg['type'];\n",
       "\n",
       "        // Call the  \"handle_{type}\" callback, which takes\n",
       "        // the figure and JSON message as its only arguments.\n",
       "        try {\n",
       "            var callback = fig['handle_' + msg_type];\n",
       "        } catch (e) {\n",
       "            console.log(\n",
       "                \"No handler for the '\" + msg_type + \"' message type: \",\n",
       "                msg\n",
       "            );\n",
       "            return;\n",
       "        }\n",
       "\n",
       "        if (callback) {\n",
       "            try {\n",
       "                // console.log(\"Handling '\" + msg_type + \"' message: \", msg);\n",
       "                callback(fig, msg);\n",
       "            } catch (e) {\n",
       "                console.log(\n",
       "                    \"Exception inside the 'handler_\" + msg_type + \"' callback:\",\n",
       "                    e,\n",
       "                    e.stack,\n",
       "                    msg\n",
       "                );\n",
       "            }\n",
       "        }\n",
       "    };\n",
       "};\n",
       "\n",
       "// from http://stackoverflow.com/questions/1114465/getting-mouse-location-in-canvas\n",
       "mpl.findpos = function (e) {\n",
       "    //this section is from http://www.quirksmode.org/js/events_properties.html\n",
       "    var targ;\n",
       "    if (!e) {\n",
       "        e = window.event;\n",
       "    }\n",
       "    if (e.target) {\n",
       "        targ = e.target;\n",
       "    } else if (e.srcElement) {\n",
       "        targ = e.srcElement;\n",
       "    }\n",
       "    if (targ.nodeType === 3) {\n",
       "        // defeat Safari bug\n",
       "        targ = targ.parentNode;\n",
       "    }\n",
       "\n",
       "    // pageX,Y are the mouse positions relative to the document\n",
       "    var boundingRect = targ.getBoundingClientRect();\n",
       "    var x = e.pageX - (boundingRect.left + document.body.scrollLeft);\n",
       "    var y = e.pageY - (boundingRect.top + document.body.scrollTop);\n",
       "\n",
       "    return { x: x, y: y };\n",
       "};\n",
       "\n",
       "/*\n",
       " * return a copy of an object with only non-object keys\n",
       " * we need this to avoid circular references\n",
       " * http://stackoverflow.com/a/24161582/3208463\n",
       " */\n",
       "function simpleKeys(original) {\n",
       "    return Object.keys(original).reduce(function (obj, key) {\n",
       "        if (typeof original[key] !== 'object') {\n",
       "            obj[key] = original[key];\n",
       "        }\n",
       "        return obj;\n",
       "    }, {});\n",
       "}\n",
       "\n",
       "mpl.figure.prototype.mouse_event = function (event, name) {\n",
       "    var canvas_pos = mpl.findpos(event);\n",
       "\n",
       "    if (name === 'button_press') {\n",
       "        this.canvas.focus();\n",
       "        this.canvas_div.focus();\n",
       "    }\n",
       "\n",
       "    var x = canvas_pos.x * this.ratio;\n",
       "    var y = canvas_pos.y * this.ratio;\n",
       "\n",
       "    this.send_message(name, {\n",
       "        x: x,\n",
       "        y: y,\n",
       "        button: event.button,\n",
       "        step: event.step,\n",
       "        guiEvent: simpleKeys(event),\n",
       "    });\n",
       "\n",
       "    /* This prevents the web browser from automatically changing to\n",
       "     * the text insertion cursor when the button is pressed.  We want\n",
       "     * to control all of the cursor setting manually through the\n",
       "     * 'cursor' event from matplotlib */\n",
       "    event.preventDefault();\n",
       "    return false;\n",
       "};\n",
       "\n",
       "mpl.figure.prototype._key_event_extra = function (_event, _name) {\n",
       "    // Handle any extra behaviour associated with a key event\n",
       "};\n",
       "\n",
       "mpl.figure.prototype.key_event = function (event, name) {\n",
       "    // Prevent repeat events\n",
       "    if (name === 'key_press') {\n",
       "        if (event.key === this._key) {\n",
       "            return;\n",
       "        } else {\n",
       "            this._key = event.key;\n",
       "        }\n",
       "    }\n",
       "    if (name === 'key_release') {\n",
       "        this._key = null;\n",
       "    }\n",
       "\n",
       "    var value = '';\n",
       "    if (event.ctrlKey && event.key !== 'Control') {\n",
       "        value += 'ctrl+';\n",
       "    }\n",
       "    else if (event.altKey && event.key !== 'Alt') {\n",
       "        value += 'alt+';\n",
       "    }\n",
       "    else if (event.shiftKey && event.key !== 'Shift') {\n",
       "        value += 'shift+';\n",
       "    }\n",
       "\n",
       "    value += 'k' + event.key;\n",
       "\n",
       "    this._key_event_extra(event, name);\n",
       "\n",
       "    this.send_message(name, { key: value, guiEvent: simpleKeys(event) });\n",
       "    return false;\n",
       "};\n",
       "\n",
       "mpl.figure.prototype.toolbar_button_onclick = function (name) {\n",
       "    if (name === 'download') {\n",
       "        this.handle_save(this, null);\n",
       "    } else {\n",
       "        this.send_message('toolbar_button', { name: name });\n",
       "    }\n",
       "};\n",
       "\n",
       "mpl.figure.prototype.toolbar_button_onmouseover = function (tooltip) {\n",
       "    this.message.textContent = tooltip;\n",
       "};\n",
       "\n",
       "///////////////// REMAINING CONTENT GENERATED BY embed_js.py /////////////////\n",
       "// prettier-ignore\n",
       "var _JSXTOOLS_RESIZE_OBSERVER=function(A){var t,i=new WeakMap,n=new WeakMap,a=new WeakMap,r=new WeakMap,o=new Set;function s(e){if(!(this instanceof s))throw new TypeError(\"Constructor requires 'new' operator\");i.set(this,e)}function h(){throw new TypeError(\"Function is not a constructor\")}function c(e,t,i,n){e=0 in arguments?Number(arguments[0]):0,t=1 in arguments?Number(arguments[1]):0,i=2 in arguments?Number(arguments[2]):0,n=3 in arguments?Number(arguments[3]):0,this.right=(this.x=this.left=e)+(this.width=i),this.bottom=(this.y=this.top=t)+(this.height=n),Object.freeze(this)}function d(){t=requestAnimationFrame(d);var s=new WeakMap,p=new Set;o.forEach((function(t){r.get(t).forEach((function(i){var r=t instanceof window.SVGElement,o=a.get(t),d=r?0:parseFloat(o.paddingTop),f=r?0:parseFloat(o.paddingRight),l=r?0:parseFloat(o.paddingBottom),u=r?0:parseFloat(o.paddingLeft),g=r?0:parseFloat(o.borderTopWidth),m=r?0:parseFloat(o.borderRightWidth),w=r?0:parseFloat(o.borderBottomWidth),b=u+f,F=d+l,v=(r?0:parseFloat(o.borderLeftWidth))+m,W=g+w,y=r?0:t.offsetHeight-W-t.clientHeight,E=r?0:t.offsetWidth-v-t.clientWidth,R=b+v,z=F+W,M=r?t.width:parseFloat(o.width)-R-E,O=r?t.height:parseFloat(o.height)-z-y;if(n.has(t)){var k=n.get(t);if(k[0]===M&&k[1]===O)return}n.set(t,[M,O]);var S=Object.create(h.prototype);S.target=t,S.contentRect=new c(u,d,M,O),s.has(i)||(s.set(i,[]),p.add(i)),s.get(i).push(S)}))})),p.forEach((function(e){i.get(e).call(e,s.get(e),e)}))}return s.prototype.observe=function(i){if(i instanceof window.Element){r.has(i)||(r.set(i,new Set),o.add(i),a.set(i,window.getComputedStyle(i)));var n=r.get(i);n.has(this)||n.add(this),cancelAnimationFrame(t),t=requestAnimationFrame(d)}},s.prototype.unobserve=function(i){if(i instanceof window.Element&&r.has(i)){var n=r.get(i);n.has(this)&&(n.delete(this),n.size||(r.delete(i),o.delete(i))),n.size||r.delete(i),o.size||cancelAnimationFrame(t)}},A.DOMRectReadOnly=c,A.ResizeObserver=s,A.ResizeObserverEntry=h,A}; // eslint-disable-line\n",
       "mpl.toolbar_items = [[\"Home\", \"Reset original view\", \"fa fa-home icon-home\", \"home\"], [\"Back\", \"Back to previous view\", \"fa fa-arrow-left icon-arrow-left\", \"back\"], [\"Forward\", \"Forward to next view\", \"fa fa-arrow-right icon-arrow-right\", \"forward\"], [\"\", \"\", \"\", \"\"], [\"Pan\", \"Left button pans, Right button zooms\\nx/y fixes axis, CTRL fixes aspect\", \"fa fa-arrows icon-move\", \"pan\"], [\"Zoom\", \"Zoom to rectangle\\nx/y fixes axis, CTRL fixes aspect\", \"fa fa-square-o icon-check-empty\", \"zoom\"], [\"\", \"\", \"\", \"\"], [\"Download\", \"Download plot\", \"fa fa-floppy-o icon-save\", \"download\"]];\n",
       "\n",
       "mpl.extensions = [\"eps\", \"jpeg\", \"pgf\", \"pdf\", \"png\", \"ps\", \"raw\", \"svg\", \"tif\"];\n",
       "\n",
       "mpl.default_extension = \"png\";/* global mpl */\n",
       "\n",
       "var comm_websocket_adapter = function (comm) {\n",
       "    // Create a \"websocket\"-like object which calls the given IPython comm\n",
       "    // object with the appropriate methods. Currently this is a non binary\n",
       "    // socket, so there is still some room for performance tuning.\n",
       "    var ws = {};\n",
       "\n",
       "    ws.binaryType = comm.kernel.ws.binaryType;\n",
       "    ws.readyState = comm.kernel.ws.readyState;\n",
       "    function updateReadyState(_event) {\n",
       "        if (comm.kernel.ws) {\n",
       "            ws.readyState = comm.kernel.ws.readyState;\n",
       "        } else {\n",
       "            ws.readyState = 3; // Closed state.\n",
       "        }\n",
       "    }\n",
       "    comm.kernel.ws.addEventListener('open', updateReadyState);\n",
       "    comm.kernel.ws.addEventListener('close', updateReadyState);\n",
       "    comm.kernel.ws.addEventListener('error', updateReadyState);\n",
       "\n",
       "    ws.close = function () {\n",
       "        comm.close();\n",
       "    };\n",
       "    ws.send = function (m) {\n",
       "        //console.log('sending', m);\n",
       "        comm.send(m);\n",
       "    };\n",
       "    // Register the callback with on_msg.\n",
       "    comm.on_msg(function (msg) {\n",
       "        //console.log('receiving', msg['content']['data'], msg);\n",
       "        var data = msg['content']['data'];\n",
       "        if (data['blob'] !== undefined) {\n",
       "            data = {\n",
       "                data: new Blob(msg['buffers'], { type: data['blob'] }),\n",
       "            };\n",
       "        }\n",
       "        // Pass the mpl event to the overridden (by mpl) onmessage function.\n",
       "        ws.onmessage(data);\n",
       "    });\n",
       "    return ws;\n",
       "};\n",
       "\n",
       "mpl.mpl_figure_comm = function (comm, msg) {\n",
       "    // This is the function which gets called when the mpl process\n",
       "    // starts-up an IPython Comm through the \"matplotlib\" channel.\n",
       "\n",
       "    var id = msg.content.data.id;\n",
       "    // Get hold of the div created by the display call when the Comm\n",
       "    // socket was opened in Python.\n",
       "    var element = document.getElementById(id);\n",
       "    var ws_proxy = comm_websocket_adapter(comm);\n",
       "\n",
       "    function ondownload(figure, _format) {\n",
       "        window.open(figure.canvas.toDataURL());\n",
       "    }\n",
       "\n",
       "    var fig = new mpl.figure(id, ws_proxy, ondownload, element);\n",
       "\n",
       "    // Call onopen now - mpl needs it, as it is assuming we've passed it a real\n",
       "    // web socket which is closed, not our websocket->open comm proxy.\n",
       "    ws_proxy.onopen();\n",
       "\n",
       "    fig.parent_element = element;\n",
       "    fig.cell_info = mpl.find_output_cell(\"<div id='\" + id + \"'></div>\");\n",
       "    if (!fig.cell_info) {\n",
       "        console.error('Failed to find cell for figure', id, fig);\n",
       "        return;\n",
       "    }\n",
       "    fig.cell_info[0].output_area.element.on(\n",
       "        'cleared',\n",
       "        { fig: fig },\n",
       "        fig._remove_fig_handler\n",
       "    );\n",
       "};\n",
       "\n",
       "mpl.figure.prototype.handle_close = function (fig, msg) {\n",
       "    var width = fig.canvas.width / fig.ratio;\n",
       "    fig.cell_info[0].output_area.element.off(\n",
       "        'cleared',\n",
       "        fig._remove_fig_handler\n",
       "    );\n",
       "    fig.resizeObserverInstance.unobserve(fig.canvas_div);\n",
       "\n",
       "    // Update the output cell to use the data from the current canvas.\n",
       "    fig.push_to_output();\n",
       "    var dataURL = fig.canvas.toDataURL();\n",
       "    // Re-enable the keyboard manager in IPython - without this line, in FF,\n",
       "    // the notebook keyboard shortcuts fail.\n",
       "    IPython.keyboard_manager.enable();\n",
       "    fig.parent_element.innerHTML =\n",
       "        '<img src=\"' + dataURL + '\" width=\"' + width + '\">';\n",
       "    fig.close_ws(fig, msg);\n",
       "};\n",
       "\n",
       "mpl.figure.prototype.close_ws = function (fig, msg) {\n",
       "    fig.send_message('closing', msg);\n",
       "    // fig.ws.close()\n",
       "};\n",
       "\n",
       "mpl.figure.prototype.push_to_output = function (_remove_interactive) {\n",
       "    // Turn the data on the canvas into data in the output cell.\n",
       "    var width = this.canvas.width / this.ratio;\n",
       "    var dataURL = this.canvas.toDataURL();\n",
       "    this.cell_info[1]['text/html'] =\n",
       "        '<img src=\"' + dataURL + '\" width=\"' + width + '\">';\n",
       "};\n",
       "\n",
       "mpl.figure.prototype.updated_canvas_event = function () {\n",
       "    // Tell IPython that the notebook contents must change.\n",
       "    IPython.notebook.set_dirty(true);\n",
       "    this.send_message('ack', {});\n",
       "    var fig = this;\n",
       "    // Wait a second, then push the new image to the DOM so\n",
       "    // that it is saved nicely (might be nice to debounce this).\n",
       "    setTimeout(function () {\n",
       "        fig.push_to_output();\n",
       "    }, 1000);\n",
       "};\n",
       "\n",
       "mpl.figure.prototype._init_toolbar = function () {\n",
       "    var fig = this;\n",
       "\n",
       "    var toolbar = document.createElement('div');\n",
       "    toolbar.classList = 'btn-toolbar';\n",
       "    this.root.appendChild(toolbar);\n",
       "\n",
       "    function on_click_closure(name) {\n",
       "        return function (_event) {\n",
       "            return fig.toolbar_button_onclick(name);\n",
       "        };\n",
       "    }\n",
       "\n",
       "    function on_mouseover_closure(tooltip) {\n",
       "        return function (event) {\n",
       "            if (!event.currentTarget.disabled) {\n",
       "                return fig.toolbar_button_onmouseover(tooltip);\n",
       "            }\n",
       "        };\n",
       "    }\n",
       "\n",
       "    fig.buttons = {};\n",
       "    var buttonGroup = document.createElement('div');\n",
       "    buttonGroup.classList = 'btn-group';\n",
       "    var button;\n",
       "    for (var toolbar_ind in mpl.toolbar_items) {\n",
       "        var name = mpl.toolbar_items[toolbar_ind][0];\n",
       "        var tooltip = mpl.toolbar_items[toolbar_ind][1];\n",
       "        var image = mpl.toolbar_items[toolbar_ind][2];\n",
       "        var method_name = mpl.toolbar_items[toolbar_ind][3];\n",
       "\n",
       "        if (!name) {\n",
       "            /* Instead of a spacer, we start a new button group. */\n",
       "            if (buttonGroup.hasChildNodes()) {\n",
       "                toolbar.appendChild(buttonGroup);\n",
       "            }\n",
       "            buttonGroup = document.createElement('div');\n",
       "            buttonGroup.classList = 'btn-group';\n",
       "            continue;\n",
       "        }\n",
       "\n",
       "        button = fig.buttons[name] = document.createElement('button');\n",
       "        button.classList = 'btn btn-default';\n",
       "        button.href = '#';\n",
       "        button.title = name;\n",
       "        button.innerHTML = '<i class=\"fa ' + image + ' fa-lg\"></i>';\n",
       "        button.addEventListener('click', on_click_closure(method_name));\n",
       "        button.addEventListener('mouseover', on_mouseover_closure(tooltip));\n",
       "        buttonGroup.appendChild(button);\n",
       "    }\n",
       "\n",
       "    if (buttonGroup.hasChildNodes()) {\n",
       "        toolbar.appendChild(buttonGroup);\n",
       "    }\n",
       "\n",
       "    // Add the status bar.\n",
       "    var status_bar = document.createElement('span');\n",
       "    status_bar.classList = 'mpl-message pull-right';\n",
       "    toolbar.appendChild(status_bar);\n",
       "    this.message = status_bar;\n",
       "\n",
       "    // Add the close button to the window.\n",
       "    var buttongrp = document.createElement('div');\n",
       "    buttongrp.classList = 'btn-group inline pull-right';\n",
       "    button = document.createElement('button');\n",
       "    button.classList = 'btn btn-mini btn-primary';\n",
       "    button.href = '#';\n",
       "    button.title = 'Stop Interaction';\n",
       "    button.innerHTML = '<i class=\"fa fa-power-off icon-remove icon-large\"></i>';\n",
       "    button.addEventListener('click', function (_evt) {\n",
       "        fig.handle_close(fig, {});\n",
       "    });\n",
       "    button.addEventListener(\n",
       "        'mouseover',\n",
       "        on_mouseover_closure('Stop Interaction')\n",
       "    );\n",
       "    buttongrp.appendChild(button);\n",
       "    var titlebar = this.root.querySelector('.ui-dialog-titlebar');\n",
       "    titlebar.insertBefore(buttongrp, titlebar.firstChild);\n",
       "};\n",
       "\n",
       "mpl.figure.prototype._remove_fig_handler = function (event) {\n",
       "    var fig = event.data.fig;\n",
       "    if (event.target !== this) {\n",
       "        // Ignore bubbled events from children.\n",
       "        return;\n",
       "    }\n",
       "    fig.close_ws(fig, {});\n",
       "};\n",
       "\n",
       "mpl.figure.prototype._root_extra_style = function (el) {\n",
       "    el.style.boxSizing = 'content-box'; // override notebook setting of border-box.\n",
       "};\n",
       "\n",
       "mpl.figure.prototype._canvas_extra_style = function (el) {\n",
       "    // this is important to make the div 'focusable\n",
       "    el.setAttribute('tabindex', 0);\n",
       "    // reach out to IPython and tell the keyboard manager to turn it's self\n",
       "    // off when our div gets focus\n",
       "\n",
       "    // location in version 3\n",
       "    if (IPython.notebook.keyboard_manager) {\n",
       "        IPython.notebook.keyboard_manager.register_events(el);\n",
       "    } else {\n",
       "        // location in version 2\n",
       "        IPython.keyboard_manager.register_events(el);\n",
       "    }\n",
       "};\n",
       "\n",
       "mpl.figure.prototype._key_event_extra = function (event, _name) {\n",
       "    var manager = IPython.notebook.keyboard_manager;\n",
       "    if (!manager) {\n",
       "        manager = IPython.keyboard_manager;\n",
       "    }\n",
       "\n",
       "    // Check for shift+enter\n",
       "    if (event.shiftKey && event.which === 13) {\n",
       "        this.canvas_div.blur();\n",
       "        // select the cell after this one\n",
       "        var index = IPython.notebook.find_cell_index(this.cell_info[0]);\n",
       "        IPython.notebook.select(index + 1);\n",
       "    }\n",
       "};\n",
       "\n",
       "mpl.figure.prototype.handle_save = function (fig, _msg) {\n",
       "    fig.ondownload(fig, null);\n",
       "};\n",
       "\n",
       "mpl.find_output_cell = function (html_output) {\n",
       "    // Return the cell and output element which can be found *uniquely* in the notebook.\n",
       "    // Note - this is a bit hacky, but it is done because the \"notebook_saving.Notebook\"\n",
       "    // IPython event is triggered only after the cells have been serialised, which for\n",
       "    // our purposes (turning an active figure into a static one), is too late.\n",
       "    var cells = IPython.notebook.get_cells();\n",
       "    var ncells = cells.length;\n",
       "    for (var i = 0; i < ncells; i++) {\n",
       "        var cell = cells[i];\n",
       "        if (cell.cell_type === 'code') {\n",
       "            for (var j = 0; j < cell.output_area.outputs.length; j++) {\n",
       "                var data = cell.output_area.outputs[j];\n",
       "                if (data.data) {\n",
       "                    // IPython >= 3 moved mimebundle to data attribute of output\n",
       "                    data = data.data;\n",
       "                }\n",
       "                if (data['text/html'] === html_output) {\n",
       "                    return [cell, data, j];\n",
       "                }\n",
       "            }\n",
       "        }\n",
       "    }\n",
       "};\n",
       "\n",
       "// Register the function which deals with the matplotlib target/channel.\n",
       "// The kernel may be null if the page has been refreshed.\n",
       "if (IPython.notebook.kernel !== null) {\n",
       "    IPython.notebook.kernel.comm_manager.register_target(\n",
       "        'matplotlib',\n",
       "        mpl.mpl_figure_comm\n",
       "    );\n",
       "}\n"
      ],
      "text/plain": [
       "<IPython.core.display.Javascript object>"
      ]
     },
     "metadata": {},
     "output_type": "display_data"
    },
    {
     "data": {
      "text/html": [
       "<div id='0ff2432c-a6d3-4f35-a376-226e759c8d65'></div>"
      ],
      "text/plain": [
       "<IPython.core.display.HTML object>"
      ]
     },
     "metadata": {},
     "output_type": "display_data"
    }
   ],
   "source": [
    "%matplotlib notebook\n",
    "ax = plt.subplot(111)\n",
    "t = np.arange(0.0, 5.0, 0.01)\n",
    "s = np.cos(2*np.pi*t)\n",
    "line, = plt.plot(t, s, lw=2)\n",
    "plt.text(0.7,1.12,'Un máximo\\nlocal ')\n",
    "plt.ylim(-2, 2)\n",
    "plt.show()"
   ]
  },
  {
   "cell_type": "code",
   "execution_count": 55,
   "metadata": {},
   "outputs": [
    {
     "name": "stdout",
     "output_type": "stream",
     "text": [
      "Collecting mpld3\r\n"
     ]
    },
    {
     "name": "stdout",
     "output_type": "stream",
     "text": [
      "  Downloading mpld3-0.5.5.tar.gz (1.0 MB)\r\n",
      "\u001b[?25l\r",
      "\u001b[K     |▎                               | 10 kB 11.0 MB/s eta 0:00:01\r",
      "\u001b[K     |▋                               | 20 kB 13.0 MB/s eta 0:00:01\r",
      "\u001b[K     |█                               | 30 kB 15.0 MB/s eta 0:00:01\r",
      "\u001b[K     |█▎                              | 40 kB 16.4 MB/s eta 0:00:01\r",
      "\u001b[K     |█▋                              | 51 kB 4.5 MB/s eta 0:00:01\r",
      "\u001b[K     |██                              | 61 kB 4.3 MB/s eta 0:00:01\r",
      "\u001b[K     |██▎                             | 71 kB 1.6 MB/s eta 0:00:01\r",
      "\u001b[K     |██▋                             | 81 kB 1.8 MB/s eta 0:00:01"
     ]
    },
    {
     "name": "stdout",
     "output_type": "stream",
     "text": [
      "\r",
      "\u001b[K     |██▉                             | 92 kB 1.8 MB/s eta 0:00:01\r",
      "\u001b[K     |███▏                            | 102 kB 2.0 MB/s eta 0:00:01\r",
      "\u001b[K     |███▌                            | 112 kB 2.0 MB/s eta 0:00:01\r",
      "\u001b[K     |███▉                            | 122 kB 2.0 MB/s eta 0:00:01\r",
      "\u001b[K     |████▏                           | 133 kB 2.0 MB/s eta 0:00:01\r",
      "\u001b[K     |████▌                           | 143 kB 2.0 MB/s eta 0:00:01\r",
      "\u001b[K     |████▉                           | 153 kB 2.0 MB/s eta 0:00:01\r",
      "\u001b[K     |█████▏                          | 163 kB 2.0 MB/s eta 0:00:01\r",
      "\u001b[K     |█████▍                          | 174 kB 2.0 MB/s eta 0:00:01\r",
      "\u001b[K     |█████▊                          | 184 kB 2.0 MB/s eta 0:00:01\r",
      "\u001b[K     |██████                          | 194 kB 2.0 MB/s eta 0:00:01\r",
      "\u001b[K     |██████▍                         | 204 kB 2.0 MB/s eta 0:00:01\r",
      "\u001b[K     |██████▊                         | 215 kB 2.0 MB/s eta 0:00:01\r",
      "\u001b[K     |███████                         | 225 kB 2.0 MB/s eta 0:00:01\r",
      "\u001b[K     |███████▍                        | 235 kB 2.0 MB/s eta 0:00:01\r",
      "\u001b[K     |███████▊                        | 245 kB 2.0 MB/s eta 0:00:01\r",
      "\u001b[K     |████████                        | 256 kB 2.0 MB/s eta 0:00:01\r",
      "\u001b[K     |████████▎                       | 266 kB 2.0 MB/s eta 0:00:01\r",
      "\u001b[K     |████████▋                       | 276 kB 2.0 MB/s eta 0:00:01\r",
      "\u001b[K     |█████████                       | 286 kB 2.0 MB/s eta 0:00:01\r",
      "\u001b[K     |█████████▎                      | 296 kB 2.0 MB/s eta 0:00:01\r",
      "\u001b[K     |█████████▋                      | 307 kB 2.0 MB/s eta 0:00:01\r",
      "\u001b[K     |██████████                      | 317 kB 2.0 MB/s eta 0:00:01\r",
      "\u001b[K     |██████████▎                     | 327 kB 2.0 MB/s eta 0:00:01\r",
      "\u001b[K     |██████████▌                     | 337 kB 2.0 MB/s eta 0:00:01\r",
      "\u001b[K     |██████████▉                     | 348 kB 2.0 MB/s eta 0:00:01\r",
      "\u001b[K     |███████████▏                    | 358 kB 2.0 MB/s eta 0:00:01\r",
      "\u001b[K     |███████████▌                    | 368 kB 2.0 MB/s eta 0:00:01\r",
      "\u001b[K     |███████████▉                    | 378 kB 2.0 MB/s eta 0:00:01\r",
      "\u001b[K     |████████████▏                   | 389 kB 2.0 MB/s eta 0:00:01\r",
      "\u001b[K     |████████████▌                   | 399 kB 2.0 MB/s eta 0:00:01\r",
      "\u001b[K     |████████████▉                   | 409 kB 2.0 MB/s eta 0:00:01\r",
      "\u001b[K     |█████████████                   | 419 kB 2.0 MB/s eta 0:00:01\r",
      "\u001b[K     |█████████████▍                  | 430 kB 2.0 MB/s eta 0:00:01\r",
      "\u001b[K     |█████████████▊                  | 440 kB 2.0 MB/s eta 0:00:01\r",
      "\u001b[K     |██████████████                  | 450 kB 2.0 MB/s eta 0:00:01\r",
      "\u001b[K     |██████████████▍                 | 460 kB 2.0 MB/s eta 0:00:01\r",
      "\u001b[K     |██████████████▊                 | 471 kB 2.0 MB/s eta 0:00:01\r",
      "\u001b[K     |███████████████                 | 481 kB 2.0 MB/s eta 0:00:01\r",
      "\u001b[K     |███████████████▍                | 491 kB 2.0 MB/s eta 0:00:01\r",
      "\u001b[K     |███████████████▋                | 501 kB 2.0 MB/s eta 0:00:01\r",
      "\u001b[K     |████████████████                | 512 kB 2.0 MB/s eta 0:00:01\r",
      "\u001b[K     |████████████████▎               | 522 kB 2.0 MB/s eta 0:00:01\r",
      "\u001b[K     |████████████████▋               | 532 kB 2.0 MB/s eta 0:00:01\r",
      "\u001b[K     |█████████████████               | 542 kB 2.0 MB/s eta 0:00:01\r",
      "\u001b[K     |█████████████████▎              | 552 kB 2.0 MB/s eta 0:00:01\r",
      "\u001b[K     |█████████████████▋              | 563 kB 2.0 MB/s eta 0:00:01\r",
      "\u001b[K     |██████████████████              | 573 kB 2.0 MB/s eta 0:00:01\r",
      "\u001b[K     |██████████████████▏             | 583 kB 2.0 MB/s eta 0:00:01\r",
      "\u001b[K     |██████████████████▌             | 593 kB 2.0 MB/s eta 0:00:01\r",
      "\u001b[K     |██████████████████▉             | 604 kB 2.0 MB/s eta 0:00:01\r",
      "\u001b[K     |███████████████████▏            | 614 kB 2.0 MB/s eta 0:00:01\r",
      "\u001b[K     |███████████████████▌            | 624 kB 2.0 MB/s eta 0:00:01\r",
      "\u001b[K     |███████████████████▉            | 634 kB 2.0 MB/s eta 0:00:01\r",
      "\u001b[K     |████████████████████▏           | 645 kB 2.0 MB/s eta 0:00:01\r",
      "\u001b[K     |████████████████████▌           | 655 kB 2.0 MB/s eta 0:00:01\r",
      "\u001b[K     |████████████████████▊           | 665 kB 2.0 MB/s eta 0:00:01"
     ]
    },
    {
     "name": "stdout",
     "output_type": "stream",
     "text": [
      "\r",
      "\u001b[K     |█████████████████████           | 675 kB 2.0 MB/s eta 0:00:01\r",
      "\u001b[K     |█████████████████████▍          | 686 kB 2.0 MB/s eta 0:00:01\r",
      "\u001b[K     |█████████████████████▊          | 696 kB 2.0 MB/s eta 0:00:01\r",
      "\u001b[K     |██████████████████████          | 706 kB 2.0 MB/s eta 0:00:01\r",
      "\u001b[K     |██████████████████████▍         | 716 kB 2.0 MB/s eta 0:00:01\r",
      "\u001b[K     |██████████████████████▊         | 727 kB 2.0 MB/s eta 0:00:01\r",
      "\u001b[K     |███████████████████████         | 737 kB 2.0 MB/s eta 0:00:01\r",
      "\u001b[K     |███████████████████████▎        | 747 kB 2.0 MB/s eta 0:00:01\r",
      "\u001b[K     |███████████████████████▋        | 757 kB 2.0 MB/s eta 0:00:01\r",
      "\u001b[K     |████████████████████████        | 768 kB 2.0 MB/s eta 0:00:01\r",
      "\u001b[K     |████████████████████████▎       | 778 kB 2.0 MB/s eta 0:00:01\r",
      "\u001b[K     |████████████████████████▋       | 788 kB 2.0 MB/s eta 0:00:01\r",
      "\u001b[K     |█████████████████████████       | 798 kB 2.0 MB/s eta 0:00:01\r",
      "\u001b[K     |█████████████████████████▎      | 808 kB 2.0 MB/s eta 0:00:01\r",
      "\u001b[K     |█████████████████████████▋      | 819 kB 2.0 MB/s eta 0:00:01\r",
      "\u001b[K     |█████████████████████████▉      | 829 kB 2.0 MB/s eta 0:00:01\r",
      "\u001b[K     |██████████████████████████▏     | 839 kB 2.0 MB/s eta 0:00:01\r",
      "\u001b[K     |██████████████████████████▌     | 849 kB 2.0 MB/s eta 0:00:01\r",
      "\u001b[K     |██████████████████████████▉     | 860 kB 2.0 MB/s eta 0:00:01\r",
      "\u001b[K     |███████████████████████████▏    | 870 kB 2.0 MB/s eta 0:00:01\r",
      "\u001b[K     |███████████████████████████▌    | 880 kB 2.0 MB/s eta 0:00:01\r",
      "\u001b[K     |███████████████████████████▉    | 890 kB 2.0 MB/s eta 0:00:01\r",
      "\u001b[K     |████████████████████████████▏   | 901 kB 2.0 MB/s eta 0:00:01\r",
      "\u001b[K     |████████████████████████████▍   | 911 kB 2.0 MB/s eta 0:00:01\r",
      "\u001b[K     |████████████████████████████▊   | 921 kB 2.0 MB/s eta 0:00:01\r",
      "\u001b[K     |█████████████████████████████   | 931 kB 2.0 MB/s eta 0:00:01\r",
      "\u001b[K     |█████████████████████████████▍  | 942 kB 2.0 MB/s eta 0:00:01\r",
      "\u001b[K     |█████████████████████████████▊  | 952 kB 2.0 MB/s eta 0:00:01\r",
      "\u001b[K     |██████████████████████████████  | 962 kB 2.0 MB/s eta 0:00:01\r",
      "\u001b[K     |██████████████████████████████▍ | 972 kB 2.0 MB/s eta 0:00:01\r",
      "\u001b[K     |██████████████████████████████▊ | 983 kB 2.0 MB/s eta 0:00:01\r",
      "\u001b[K     |███████████████████████████████ | 993 kB 2.0 MB/s eta 0:00:01\r",
      "\u001b[K     |███████████████████████████████▎| 1.0 MB 2.0 MB/s eta 0:00:01\r",
      "\u001b[K     |███████████████████████████████▋| 1.0 MB 2.0 MB/s eta 0:00:01\r",
      "\u001b[K     |████████████████████████████████| 1.0 MB 2.0 MB/s eta 0:00:01\r",
      "\u001b[K     |████████████████████████████████| 1.0 MB 2.0 MB/s \r\n"
     ]
    },
    {
     "name": "stdout",
     "output_type": "stream",
     "text": [
      "\u001b[?25hRequirement already satisfied: jinja2 in /home/isaac/miniconda3/lib/python3.9/site-packages (from mpld3) (3.0.1)\r\n",
      "Requirement already satisfied: matplotlib in /home/isaac/miniconda3/lib/python3.9/site-packages (from mpld3) (3.4.3)\r\n",
      "Requirement already satisfied: MarkupSafe>=2.0 in /home/isaac/miniconda3/lib/python3.9/site-packages (from jinja2->mpld3) (2.0.1)\r\n",
      "Requirement already satisfied: pyparsing>=2.2.1 in /home/isaac/miniconda3/lib/python3.9/site-packages (from matplotlib->mpld3) (2.4.7)\r\n",
      "Requirement already satisfied: python-dateutil>=2.7 in /home/isaac/miniconda3/lib/python3.9/site-packages (from matplotlib->mpld3) (2.8.2)\r\n",
      "Requirement already satisfied: pillow>=6.2.0 in /home/isaac/miniconda3/lib/python3.9/site-packages (from matplotlib->mpld3) (8.3.1)\r\n",
      "Requirement already satisfied: numpy>=1.16 in /home/isaac/miniconda3/lib/python3.9/site-packages (from matplotlib->mpld3) (1.21.1)\r\n",
      "Requirement already satisfied: kiwisolver>=1.0.1 in /home/isaac/miniconda3/lib/python3.9/site-packages (from matplotlib->mpld3) (1.3.1)\r\n",
      "Requirement already satisfied: cycler>=0.10 in /home/isaac/miniconda3/lib/python3.9/site-packages (from matplotlib->mpld3) (0.10.0)\r\n",
      "Requirement already satisfied: six in /home/isaac/miniconda3/lib/python3.9/site-packages (from cycler>=0.10->matplotlib->mpld3) (1.16.0)\r\n",
      "Building wheels for collected packages: mpld3\r\n"
     ]
    },
    {
     "name": "stdout",
     "output_type": "stream",
     "text": [
      "  Building wheel for mpld3 (setup.py) ... \u001b[?25l-"
     ]
    },
    {
     "name": "stdout",
     "output_type": "stream",
     "text": [
      "\b \bdone\r\n",
      "\u001b[?25h  Created wheel for mpld3: filename=mpld3-0.5.5-py3-none-any.whl size=200886 sha256=0306103474c31f186818ae94ac2574608089ed9c287f7492fae7be6e97af606f\r\n",
      "  Stored in directory: /home/isaac/.cache/pip/wheels/d9/ed/51/ac5c5c9f2f8105b101482c066a31f9e71a9eef9c2fd6379bdd\r\n",
      "Successfully built mpld3\r\n"
     ]
    },
    {
     "name": "stdout",
     "output_type": "stream",
     "text": [
      "Installing collected packages: mpld3\r\n"
     ]
    },
    {
     "name": "stdout",
     "output_type": "stream",
     "text": [
      "Successfully installed mpld3-0.5.5\r\n"
     ]
    }
   ],
   "source": [
    "!pip install mpld3"
   ]
  },
  {
   "cell_type": "code",
   "execution_count": 56,
   "metadata": {},
   "outputs": [],
   "source": [
    "import matplotlib\n",
    "import matplotlib.pyplot as plt\n",
    "import numpy as np\n",
    "import mpld3\n",
    "mpld3.enable_notebook()\n",
    "ax = plt.subplot(111)\n",
    "t = np.arange(0.0, 5.0, 0.01)\n",
    "s = np.cos(2*np.pi*t)\n",
    "line, = plt.plot(t, s, lw=2)\n",
    "plt.text(0.7,1.12,'Un máximo\\nlocal ')\n",
    "plt.ylim(-2, 2)\n",
    "plt.show()"
   ]
  },
  {
   "cell_type": "markdown",
   "metadata": {},
   "source": [
    "# Herramientas interactivas `ipywidgets`\n",
    "\n",
    "Otro paquete que será transversal en este curso y nos permitira crear interfaces interesantes para nuestros estudiantes es [ipywidgets`](https://ipywidgets.readthedocs.io/en/stable/). Para instalar desde el cuaderno escriba:"
   ]
  },
  {
   "cell_type": "code",
   "execution_count": 57,
   "metadata": {},
   "outputs": [
    {
     "name": "stdout",
     "output_type": "stream",
     "text": [
      "Requirement already satisfied: ipywidgets in /home/isaac/miniconda3/lib/python3.9/site-packages (7.6.4)\r\n"
     ]
    },
    {
     "name": "stdout",
     "output_type": "stream",
     "text": [
      "Requirement already satisfied: ipython>=4.0.0 in /home/isaac/miniconda3/lib/python3.9/site-packages (from ipywidgets) (7.26.0)\r\n",
      "Requirement already satisfied: widgetsnbextension~=3.5.0 in /home/isaac/miniconda3/lib/python3.9/site-packages (from ipywidgets) (3.5.1)\r\n",
      "Requirement already satisfied: traitlets>=4.3.1 in /home/isaac/miniconda3/lib/python3.9/site-packages (from ipywidgets) (5.0.5)\r\n",
      "Requirement already satisfied: jupyterlab-widgets>=1.0.0 in /home/isaac/miniconda3/lib/python3.9/site-packages (from ipywidgets) (1.0.1)\r\n",
      "Requirement already satisfied: ipython-genutils~=0.2.0 in /home/isaac/miniconda3/lib/python3.9/site-packages (from ipywidgets) (0.2.0)\r\n",
      "Requirement already satisfied: ipykernel>=4.5.1 in /home/isaac/miniconda3/lib/python3.9/site-packages (from ipywidgets) (6.0.3)\r\n",
      "Requirement already satisfied: nbformat>=4.2.0 in /home/isaac/miniconda3/lib/python3.9/site-packages (from ipywidgets) (5.1.3)\r\n",
      "Requirement already satisfied: jupyter-client<7.0 in /home/isaac/miniconda3/lib/python3.9/site-packages (from ipykernel>=4.5.1->ipywidgets) (6.1.12)\r\n",
      "Requirement already satisfied: debugpy<2.0,>=1.0.0 in /home/isaac/miniconda3/lib/python3.9/site-packages (from ipykernel>=4.5.1->ipywidgets) (1.4.1)\r\n",
      "Requirement already satisfied: matplotlib-inline<0.2.0,>=0.1.0 in /home/isaac/miniconda3/lib/python3.9/site-packages (from ipykernel>=4.5.1->ipywidgets) (0.1.2)\r\n",
      "Requirement already satisfied: tornado<7.0,>=4.2 in /home/isaac/miniconda3/lib/python3.9/site-packages (from ipykernel>=4.5.1->ipywidgets) (6.1)\r\n"
     ]
    },
    {
     "name": "stdout",
     "output_type": "stream",
     "text": [
      "Requirement already satisfied: setuptools>=18.5 in /home/isaac/miniconda3/lib/python3.9/site-packages (from ipython>=4.0.0->ipywidgets) (52.0.0.post20210125)\r\n",
      "Requirement already satisfied: pygments in /home/isaac/miniconda3/lib/python3.9/site-packages (from ipython>=4.0.0->ipywidgets) (2.9.0)\r\n",
      "Requirement already satisfied: pexpect>4.3 in /home/isaac/miniconda3/lib/python3.9/site-packages (from ipython>=4.0.0->ipywidgets) (4.8.0)\r\n",
      "Requirement already satisfied: pickleshare in /home/isaac/miniconda3/lib/python3.9/site-packages (from ipython>=4.0.0->ipywidgets) (0.7.5)\r\n",
      "Requirement already satisfied: decorator in /home/isaac/miniconda3/lib/python3.9/site-packages (from ipython>=4.0.0->ipywidgets) (5.0.9)\r\n",
      "Requirement already satisfied: jedi>=0.16 in /home/isaac/miniconda3/lib/python3.9/site-packages (from ipython>=4.0.0->ipywidgets) (0.18.0)\r\n",
      "Requirement already satisfied: prompt-toolkit!=3.0.0,!=3.0.1,<3.1.0,>=2.0.0 in /home/isaac/miniconda3/lib/python3.9/site-packages (from ipython>=4.0.0->ipywidgets) (3.0.19)\r\n",
      "Requirement already satisfied: backcall in /home/isaac/miniconda3/lib/python3.9/site-packages (from ipython>=4.0.0->ipywidgets) (0.2.0)\r\n",
      "Requirement already satisfied: parso<0.9.0,>=0.8.0 in /home/isaac/miniconda3/lib/python3.9/site-packages (from jedi>=0.16->ipython>=4.0.0->ipywidgets) (0.8.2)\r\n",
      "Requirement already satisfied: python-dateutil>=2.1 in /home/isaac/miniconda3/lib/python3.9/site-packages (from jupyter-client<7.0->ipykernel>=4.5.1->ipywidgets) (2.8.2)\r\n",
      "Requirement already satisfied: pyzmq>=13 in /home/isaac/miniconda3/lib/python3.9/site-packages (from jupyter-client<7.0->ipykernel>=4.5.1->ipywidgets) (22.1.0)\r\n",
      "Requirement already satisfied: jupyter-core>=4.6.0 in /home/isaac/miniconda3/lib/python3.9/site-packages (from jupyter-client<7.0->ipykernel>=4.5.1->ipywidgets) (4.7.1)\r\n",
      "Requirement already satisfied: jsonschema!=2.5.0,>=2.4 in /home/isaac/miniconda3/lib/python3.9/site-packages (from nbformat>=4.2.0->ipywidgets) (3.2.0)\r\n"
     ]
    },
    {
     "name": "stdout",
     "output_type": "stream",
     "text": [
      "Requirement already satisfied: six>=1.11.0 in /home/isaac/miniconda3/lib/python3.9/site-packages (from jsonschema!=2.5.0,>=2.4->nbformat>=4.2.0->ipywidgets) (1.16.0)\r\n",
      "Requirement already satisfied: pyrsistent>=0.14.0 in /home/isaac/miniconda3/lib/python3.9/site-packages (from jsonschema!=2.5.0,>=2.4->nbformat>=4.2.0->ipywidgets) (0.18.0)\r\n",
      "Requirement already satisfied: attrs>=17.4.0 in /home/isaac/miniconda3/lib/python3.9/site-packages (from jsonschema!=2.5.0,>=2.4->nbformat>=4.2.0->ipywidgets) (21.2.0)\r\n",
      "Requirement already satisfied: ptyprocess>=0.5 in /home/isaac/miniconda3/lib/python3.9/site-packages (from pexpect>4.3->ipython>=4.0.0->ipywidgets) (0.7.0)\r\n",
      "Requirement already satisfied: wcwidth in /home/isaac/miniconda3/lib/python3.9/site-packages (from prompt-toolkit!=3.0.0,!=3.0.1,<3.1.0,>=2.0.0->ipython>=4.0.0->ipywidgets) (0.2.5)\r\n",
      "Requirement already satisfied: notebook>=4.4.1 in /home/isaac/miniconda3/lib/python3.9/site-packages (from widgetsnbextension~=3.5.0->ipywidgets) (6.4.0)\r\n"
     ]
    },
    {
     "name": "stdout",
     "output_type": "stream",
     "text": [
      "Requirement already satisfied: prometheus-client in /home/isaac/miniconda3/lib/python3.9/site-packages (from notebook>=4.4.1->widgetsnbextension~=3.5.0->ipywidgets) (0.11.0)\r\n",
      "Requirement already satisfied: terminado>=0.8.3 in /home/isaac/miniconda3/lib/python3.9/site-packages (from notebook>=4.4.1->widgetsnbextension~=3.5.0->ipywidgets) (0.10.1)\r\n",
      "Requirement already satisfied: argon2-cffi in /home/isaac/miniconda3/lib/python3.9/site-packages (from notebook>=4.4.1->widgetsnbextension~=3.5.0->ipywidgets) (20.1.0)\r\n",
      "Requirement already satisfied: jinja2 in /home/isaac/miniconda3/lib/python3.9/site-packages (from notebook>=4.4.1->widgetsnbextension~=3.5.0->ipywidgets) (3.0.1)\r\n",
      "Requirement already satisfied: Send2Trash>=1.5.0 in /home/isaac/miniconda3/lib/python3.9/site-packages (from notebook>=4.4.1->widgetsnbextension~=3.5.0->ipywidgets) (1.7.1)\r\n",
      "Requirement already satisfied: nbconvert in /home/isaac/miniconda3/lib/python3.9/site-packages (from notebook>=4.4.1->widgetsnbextension~=3.5.0->ipywidgets) (6.1.0)\r\n",
      "Requirement already satisfied: cffi>=1.0.0 in /home/isaac/miniconda3/lib/python3.9/site-packages (from argon2-cffi->notebook>=4.4.1->widgetsnbextension~=3.5.0->ipywidgets) (1.14.6)\r\n",
      "Requirement already satisfied: pycparser in /home/isaac/miniconda3/lib/python3.9/site-packages (from cffi>=1.0.0->argon2-cffi->notebook>=4.4.1->widgetsnbextension~=3.5.0->ipywidgets) (2.20)\r\n",
      "Requirement already satisfied: MarkupSafe>=2.0 in /home/isaac/miniconda3/lib/python3.9/site-packages (from jinja2->notebook>=4.4.1->widgetsnbextension~=3.5.0->ipywidgets) (2.0.1)\r\n"
     ]
    },
    {
     "name": "stdout",
     "output_type": "stream",
     "text": [
      "Requirement already satisfied: nbclient<0.6.0,>=0.5.0 in /home/isaac/miniconda3/lib/python3.9/site-packages (from nbconvert->notebook>=4.4.1->widgetsnbextension~=3.5.0->ipywidgets) (0.5.3)\r\n",
      "Requirement already satisfied: jupyterlab-pygments in /home/isaac/miniconda3/lib/python3.9/site-packages (from nbconvert->notebook>=4.4.1->widgetsnbextension~=3.5.0->ipywidgets) (0.1.2)\r\n",
      "Requirement already satisfied: testpath in /home/isaac/miniconda3/lib/python3.9/site-packages (from nbconvert->notebook>=4.4.1->widgetsnbextension~=3.5.0->ipywidgets) (0.5.0)\r\n",
      "Requirement already satisfied: bleach in /home/isaac/miniconda3/lib/python3.9/site-packages (from nbconvert->notebook>=4.4.1->widgetsnbextension~=3.5.0->ipywidgets) (4.0.0)\r\n",
      "Requirement already satisfied: mistune<2,>=0.8.1 in /home/isaac/miniconda3/lib/python3.9/site-packages (from nbconvert->notebook>=4.4.1->widgetsnbextension~=3.5.0->ipywidgets) (0.8.4)\r\n",
      "Requirement already satisfied: defusedxml in /home/isaac/miniconda3/lib/python3.9/site-packages (from nbconvert->notebook>=4.4.1->widgetsnbextension~=3.5.0->ipywidgets) (0.7.1)\r\n",
      "Requirement already satisfied: entrypoints>=0.2.2 in /home/isaac/miniconda3/lib/python3.9/site-packages (from nbconvert->notebook>=4.4.1->widgetsnbextension~=3.5.0->ipywidgets) (0.3)\r\n",
      "Requirement already satisfied: pandocfilters>=1.4.1 in /home/isaac/miniconda3/lib/python3.9/site-packages (from nbconvert->notebook>=4.4.1->widgetsnbextension~=3.5.0->ipywidgets) (1.4.3)\r\n"
     ]
    },
    {
     "name": "stdout",
     "output_type": "stream",
     "text": [
      "Requirement already satisfied: nest-asyncio in /home/isaac/miniconda3/lib/python3.9/site-packages (from nbclient<0.6.0,>=0.5.0->nbconvert->notebook>=4.4.1->widgetsnbextension~=3.5.0->ipywidgets) (1.5.1)\r\n",
      "Requirement already satisfied: async-generator in /home/isaac/miniconda3/lib/python3.9/site-packages (from nbclient<0.6.0,>=0.5.0->nbconvert->notebook>=4.4.1->widgetsnbextension~=3.5.0->ipywidgets) (1.10)\r\n",
      "Requirement already satisfied: packaging in /home/isaac/miniconda3/lib/python3.9/site-packages (from bleach->nbconvert->notebook>=4.4.1->widgetsnbextension~=3.5.0->ipywidgets) (21.0)\r\n",
      "Requirement already satisfied: webencodings in /home/isaac/miniconda3/lib/python3.9/site-packages (from bleach->nbconvert->notebook>=4.4.1->widgetsnbextension~=3.5.0->ipywidgets) (0.5.1)\r\n",
      "Requirement already satisfied: pyparsing>=2.0.2 in /home/isaac/miniconda3/lib/python3.9/site-packages (from packaging->bleach->nbconvert->notebook>=4.4.1->widgetsnbextension~=3.5.0->ipywidgets) (2.4.7)\r\n"
     ]
    }
   ],
   "source": [
    "!pip install ipywidgets"
   ]
  },
  {
   "cell_type": "code",
   "execution_count": 58,
   "metadata": {},
   "outputs": [
    {
     "name": "stdout",
     "output_type": "stream",
     "text": [
      "Requirement already satisfied: seaborn in /home/isaac/miniconda3/lib/python3.9/site-packages (0.11.1)\r\n",
      "Requirement already satisfied: matplotlib>=2.2 in /home/isaac/miniconda3/lib/python3.9/site-packages (from seaborn) (3.4.3)\r\n",
      "Requirement already satisfied: numpy>=1.15 in /home/isaac/miniconda3/lib/python3.9/site-packages (from seaborn) (1.21.1)\r\n",
      "Requirement already satisfied: scipy>=1.0 in /home/isaac/miniconda3/lib/python3.9/site-packages (from seaborn) (1.7.1)\r\n",
      "Requirement already satisfied: pandas>=0.23 in /home/isaac/miniconda3/lib/python3.9/site-packages (from seaborn) (1.3.1)\r\n",
      "Requirement already satisfied: pyparsing>=2.2.1 in /home/isaac/miniconda3/lib/python3.9/site-packages (from matplotlib>=2.2->seaborn) (2.4.7)\r\n",
      "Requirement already satisfied: pillow>=6.2.0 in /home/isaac/miniconda3/lib/python3.9/site-packages (from matplotlib>=2.2->seaborn) (8.3.1)\r\n",
      "Requirement already satisfied: cycler>=0.10 in /home/isaac/miniconda3/lib/python3.9/site-packages (from matplotlib>=2.2->seaborn) (0.10.0)\r\n",
      "Requirement already satisfied: python-dateutil>=2.7 in /home/isaac/miniconda3/lib/python3.9/site-packages (from matplotlib>=2.2->seaborn) (2.8.2)\r\n",
      "Requirement already satisfied: kiwisolver>=1.0.1 in /home/isaac/miniconda3/lib/python3.9/site-packages (from matplotlib>=2.2->seaborn) (1.3.1)\r\n",
      "Requirement already satisfied: six in /home/isaac/miniconda3/lib/python3.9/site-packages (from cycler>=0.10->matplotlib>=2.2->seaborn) (1.16.0)\r\n",
      "Requirement already satisfied: pytz>=2017.3 in /home/isaac/miniconda3/lib/python3.9/site-packages (from pandas>=0.23->seaborn) (2021.1)\r\n"
     ]
    }
   ],
   "source": [
    " !pip install seaborn"
   ]
  },
  {
   "cell_type": "code",
   "execution_count": 59,
   "metadata": {},
   "outputs": [
    {
     "name": "stdout",
     "output_type": "stream",
     "text": [
      "Enabling notebook extension jupyter-js-widgets/extension...\r\n",
      "      - Validating: \u001b[32mOK\u001b[0m\r\n"
     ]
    }
   ],
   "source": [
    "!jupyter nbextension enable --py widgetsnbextension"
   ]
  },
  {
   "cell_type": "markdown",
   "metadata": {},
   "source": [
    "Importemos el paquete"
   ]
  },
  {
   "cell_type": "code",
   "execution_count": 60,
   "metadata": {},
   "outputs": [],
   "source": [
    "from ipywidgets import interact\n",
    "import ipywidgets as widgets"
   ]
  },
  {
   "cell_type": "markdown",
   "metadata": {},
   "source": [
    "La herramienta más básica de este paquete es la función `interact`. En el siguiente ejemplo veamos su utilidad:"
   ]
  },
  {
   "cell_type": "code",
   "execution_count": 61,
   "metadata": {},
   "outputs": [],
   "source": [
    "def f(x):\n",
    "    print(\"El valor que escogió es\", x)\n",
    "    return x"
   ]
  },
  {
   "cell_type": "code",
   "execution_count": 62,
   "metadata": {},
   "outputs": [
    {
     "name": "stdout",
     "output_type": "stream",
     "text": [
      "El valor que escogió es 7\n"
     ]
    },
    {
     "data": {
      "text/plain": [
       "7"
      ]
     },
     "execution_count": 62,
     "metadata": {},
     "output_type": "execute_result"
    }
   ],
   "source": [
    "f(7)"
   ]
  },
  {
   "cell_type": "code",
   "execution_count": 63,
   "metadata": {},
   "outputs": [],
   "source": [
    "def f(x):\n",
    "    y=x+5\n",
    "    print(x,\"+\",5,\"=\",y)\n",
    "    return y"
   ]
  },
  {
   "cell_type": "code",
   "execution_count": 64,
   "metadata": {},
   "outputs": [
    {
     "name": "stdout",
     "output_type": "stream",
     "text": [
      "8 + 5 = 13\n"
     ]
    },
    {
     "data": {
      "text/plain": [
       "13"
      ]
     },
     "execution_count": 64,
     "metadata": {},
     "output_type": "execute_result"
    }
   ],
   "source": [
    "f(8)"
   ]
  },
  {
   "cell_type": "code",
   "execution_count": 65,
   "metadata": {},
   "outputs": [],
   "source": [
    "def nombrelargoocorto(t):\n",
    "    if len(t)>=7:\n",
    "        print(t+\" es un nombre muy largo\")\n",
    "        z=\"largo\"\n",
    "    else:\n",
    "        print(t+\" es un nombre corto\")\n",
    "        z=\"corto\"\n",
    "    return z"
   ]
  },
  {
   "cell_type": "code",
   "execution_count": 66,
   "metadata": {},
   "outputs": [
    {
     "name": "stdout",
     "output_type": "stream",
     "text": [
      "Isaac es un nombre corto\n"
     ]
    },
    {
     "data": {
      "text/plain": [
       "'corto'"
      ]
     },
     "execution_count": 66,
     "metadata": {},
     "output_type": "execute_result"
    }
   ],
   "source": [
    "nombrelargoocorto(\"Isaac\")"
   ]
  },
  {
   "cell_type": "code",
   "execution_count": 67,
   "metadata": {},
   "outputs": [],
   "source": [
    "def f(x):\n",
    "    y=x+5\n",
    "    print(x,\"+\",5,\"=\",y)\n",
    "    return y"
   ]
  },
  {
   "cell_type": "code",
   "execution_count": 68,
   "metadata": {},
   "outputs": [
    {
     "data": {
      "application/vnd.jupyter.widget-view+json": {
       "model_id": "caefe4ec52f540a29b16dfcaa09da480",
       "version_major": 2,
       "version_minor": 0
      },
      "text/plain": [
       "interactive(children=(FloatSlider(value=1.2, description='x', max=3.5999999999999996, min=-1.2), Output()), _d…"
      ]
     },
     "metadata": {},
     "output_type": "display_data"
    },
    {
     "data": {
      "text/plain": [
       "<function __main__.f(x)>"
      ]
     },
     "execution_count": 68,
     "metadata": {},
     "output_type": "execute_result"
    }
   ],
   "source": [
    "interact(f, x=1.2)"
   ]
  },
  {
   "cell_type": "code",
   "execution_count": 69,
   "metadata": {},
   "outputs": [
    {
     "data": {
      "application/vnd.jupyter.widget-view+json": {
       "model_id": "eb055ab516b548f396c4c57a50e68c05",
       "version_major": 2,
       "version_minor": 0
      },
      "text/plain": [
       "interactive(children=(Text(value='Isaac', description='t'), Output()), _dom_classes=('widget-interact',))"
      ]
     },
     "metadata": {},
     "output_type": "display_data"
    },
    {
     "data": {
      "text/plain": [
       "<function __main__.nombrelargoocorto(t)>"
      ]
     },
     "execution_count": 69,
     "metadata": {},
     "output_type": "execute_result"
    }
   ],
   "source": [
    "interact(nombrelargoocorto, t=\"Isaac\")"
   ]
  },
  {
   "cell_type": "code",
   "execution_count": 70,
   "metadata": {},
   "outputs": [],
   "source": [
    "def f(x,y):\n",
    "    print(y,\" ganó\", x)\n",
    "    return x,y"
   ]
  },
  {
   "cell_type": "code",
   "execution_count": 71,
   "metadata": {},
   "outputs": [
    {
     "data": {
      "application/vnd.jupyter.widget-view+json": {
       "model_id": "3e9a3ad1c37d4d7b9aa589d446a59c88",
       "version_major": 2,
       "version_minor": 0
      },
      "text/plain": [
       "interactive(children=(IntText(value=1000, description='Gana:'), Dropdown(description='y', options=('Hugo', 'Pa…"
      ]
     },
     "metadata": {},
     "output_type": "display_data"
    },
    {
     "data": {
      "text/plain": [
       "<function __main__.f(x, y)>"
      ]
     },
     "execution_count": 71,
     "metadata": {},
     "output_type": "execute_result"
    }
   ],
   "source": [
    "inttext=widgets.IntText(\n",
    "    value=1000,\n",
    "    description='Gana:'\n",
    ")\n",
    "interact(f, y=['Hugo','Paco','Luis'],x=inttext)"
   ]
  },
  {
   "cell_type": "code",
   "execution_count": 72,
   "metadata": {},
   "outputs": [
    {
     "data": {
      "text/html": [
       "<div>\n",
       "<style scoped>\n",
       "    .dataframe tbody tr th:only-of-type {\n",
       "        vertical-align: middle;\n",
       "    }\n",
       "\n",
       "    .dataframe tbody tr th {\n",
       "        vertical-align: top;\n",
       "    }\n",
       "\n",
       "    .dataframe thead th {\n",
       "        text-align: right;\n",
       "    }\n",
       "</style>\n",
       "<table border=\"1\" class=\"dataframe\">\n",
       "  <thead>\n",
       "    <tr style=\"text-align: right;\">\n",
       "      <th></th>\n",
       "      <th>0</th>\n",
       "      <th>1</th>\n",
       "      <th>2</th>\n",
       "      <th>3</th>\n",
       "      <th>Target</th>\n",
       "    </tr>\n",
       "  </thead>\n",
       "  <tbody>\n",
       "    <tr>\n",
       "      <th>0</th>\n",
       "      <td>5.1</td>\n",
       "      <td>3.5</td>\n",
       "      <td>1.4</td>\n",
       "      <td>0.2</td>\n",
       "      <td>0</td>\n",
       "    </tr>\n",
       "    <tr>\n",
       "      <th>1</th>\n",
       "      <td>4.9</td>\n",
       "      <td>3.0</td>\n",
       "      <td>1.4</td>\n",
       "      <td>0.2</td>\n",
       "      <td>0</td>\n",
       "    </tr>\n",
       "    <tr>\n",
       "      <th>2</th>\n",
       "      <td>4.7</td>\n",
       "      <td>3.2</td>\n",
       "      <td>1.3</td>\n",
       "      <td>0.2</td>\n",
       "      <td>0</td>\n",
       "    </tr>\n",
       "    <tr>\n",
       "      <th>3</th>\n",
       "      <td>4.6</td>\n",
       "      <td>3.1</td>\n",
       "      <td>1.5</td>\n",
       "      <td>0.2</td>\n",
       "      <td>0</td>\n",
       "    </tr>\n",
       "    <tr>\n",
       "      <th>4</th>\n",
       "      <td>5.0</td>\n",
       "      <td>3.6</td>\n",
       "      <td>1.4</td>\n",
       "      <td>0.2</td>\n",
       "      <td>0</td>\n",
       "    </tr>\n",
       "    <tr>\n",
       "      <th>...</th>\n",
       "      <td>...</td>\n",
       "      <td>...</td>\n",
       "      <td>...</td>\n",
       "      <td>...</td>\n",
       "      <td>...</td>\n",
       "    </tr>\n",
       "    <tr>\n",
       "      <th>145</th>\n",
       "      <td>6.7</td>\n",
       "      <td>3.0</td>\n",
       "      <td>5.2</td>\n",
       "      <td>2.3</td>\n",
       "      <td>2</td>\n",
       "    </tr>\n",
       "    <tr>\n",
       "      <th>146</th>\n",
       "      <td>6.3</td>\n",
       "      <td>2.5</td>\n",
       "      <td>5.0</td>\n",
       "      <td>1.9</td>\n",
       "      <td>2</td>\n",
       "    </tr>\n",
       "    <tr>\n",
       "      <th>147</th>\n",
       "      <td>6.5</td>\n",
       "      <td>3.0</td>\n",
       "      <td>5.2</td>\n",
       "      <td>2.0</td>\n",
       "      <td>2</td>\n",
       "    </tr>\n",
       "    <tr>\n",
       "      <th>148</th>\n",
       "      <td>6.2</td>\n",
       "      <td>3.4</td>\n",
       "      <td>5.4</td>\n",
       "      <td>2.3</td>\n",
       "      <td>2</td>\n",
       "    </tr>\n",
       "    <tr>\n",
       "      <th>149</th>\n",
       "      <td>5.9</td>\n",
       "      <td>3.0</td>\n",
       "      <td>5.1</td>\n",
       "      <td>1.8</td>\n",
       "      <td>2</td>\n",
       "    </tr>\n",
       "  </tbody>\n",
       "</table>\n",
       "<p>150 rows × 5 columns</p>\n",
       "</div>"
      ],
      "text/plain": [
       "       0    1    2    3  Target\n",
       "0    5.1  3.5  1.4  0.2       0\n",
       "1    4.9  3.0  1.4  0.2       0\n",
       "2    4.7  3.2  1.3  0.2       0\n",
       "3    4.6  3.1  1.5  0.2       0\n",
       "4    5.0  3.6  1.4  0.2       0\n",
       "..   ...  ...  ...  ...     ...\n",
       "145  6.7  3.0  5.2  2.3       2\n",
       "146  6.3  2.5  5.0  1.9       2\n",
       "147  6.5  3.0  5.2  2.0       2\n",
       "148  6.2  3.4  5.4  2.3       2\n",
       "149  5.9  3.0  5.1  1.8       2\n",
       "\n",
       "[150 rows x 5 columns]"
      ]
     },
     "execution_count": 72,
     "metadata": {},
     "output_type": "execute_result"
    }
   ],
   "source": [
    "from sklearn import datasets\n",
    "import pandas as pd\n",
    "iris=datasets.load_iris()\n",
    "IrisDF=pd.DataFrame(iris.data)\n",
    "IrisDF['Target']=iris.target\n",
    "IrisDF"
   ]
  },
  {
   "cell_type": "code",
   "execution_count": 73,
   "metadata": {},
   "outputs": [],
   "source": [
    "def mostrarbase(t):\n",
    "    DFres=IrisDF[IrisDF['Target']==t]\n",
    "    plt.hist(DFres[0])\n",
    "    plt.show()\n",
    "    return \n"
   ]
  },
  {
   "cell_type": "code",
   "execution_count": 74,
   "metadata": {},
   "outputs": [
    {
     "data": {
      "application/vnd.jupyter.widget-view+json": {
       "model_id": "26458c76db44483fa3b4349fbce004d2",
       "version_major": 2,
       "version_minor": 0
      },
      "text/plain": [
       "interactive(children=(Dropdown(description='t', options=(0, 1, 2), value=0), Output()), _dom_classes=('widget-…"
      ]
     },
     "metadata": {},
     "output_type": "display_data"
    },
    {
     "data": {
      "text/plain": [
       "<function __main__.mostrarbase(t)>"
      ]
     },
     "execution_count": 74,
     "metadata": {},
     "output_type": "execute_result"
    }
   ],
   "source": [
    "interact(mostrarbase,t=IrisDF['Target'].unique())"
   ]
  },
  {
   "cell_type": "markdown",
   "metadata": {},
   "source": [
    "Los elementos que permiten la interacción con el usuario son los widgets, una lista completa de ellos se encuentra [aquí.](https://ipywidgets.readthedocs.io/en/stable/examples/Widget%20List.html)"
   ]
  },
  {
   "cell_type": "markdown",
   "metadata": {},
   "source": [
    "A continuación hacemos un cambio sobre el widget:"
   ]
  },
  {
   "cell_type": "code",
   "execution_count": 75,
   "metadata": {},
   "outputs": [
    {
     "data": {
      "application/vnd.jupyter.widget-view+json": {
       "model_id": "dfcbb9094ede4c568b2f9a88f26462ba",
       "version_major": 2,
       "version_minor": 0
      },
      "text/plain": [
       "interactive(children=(IntText(value=7, description='Escriba un número: '), Output()), _dom_classes=('widget-in…"
      ]
     },
     "metadata": {},
     "output_type": "display_data"
    }
   ],
   "source": [
    "def f(x):\n",
    "    return x\n",
    "interact(f, x=widgets.IntText(\n",
    "    value=7,\n",
    "    description='Escriba un número: ',\n",
    "    disabled=False\n",
    "));"
   ]
  },
  {
   "cell_type": "markdown",
   "metadata": {},
   "source": [
    "## Una primera aplicación\n",
    "\n",
    "Ya que conocemos algo de Numpy y ipywidgets vamos a crear un ejemplo muy sencillo para calcular algunos estadísticos elementales de una lista de valores:"
   ]
  },
  {
   "cell_type": "code",
   "execution_count": 76,
   "metadata": {},
   "outputs": [],
   "source": [
    "def estadisticos(x):\n",
    "    L=x.split()\n",
    "    L=[float(i) for i in L]        \n",
    "    x=np.array(list(L))\n",
    "    print(\"La media es\", np.mean(x))\n",
    "    print(\"La mediana es\", np.median(x))\n",
    "    print(\"La varianza poblacional es\", np.var(x))\n",
    "    print(\"La varianza muestral es\", np.var(x,ddof=1))\n",
    "    print(\"La desviación estándar poblacional es\", np.std(x))\n",
    "    print(\"La desviación estándar muestral es\", np.std(x,ddof=1))\n",
    "    return"
   ]
  },
  {
   "cell_type": "code",
   "execution_count": 77,
   "metadata": {},
   "outputs": [
    {
     "name": "stdout",
     "output_type": "stream",
     "text": [
      "La media es 2.0\n",
      "La mediana es 2.0\n",
      "La varianza poblacional es 0.6666666666666666\n",
      "La varianza muestral es 1.0\n",
      "La desviación estándar poblacional es 0.816496580927726\n",
      "La desviación estándar muestral es 1.0\n"
     ]
    }
   ],
   "source": [
    "estadisticos(\"1 2 3\")"
   ]
  },
  {
   "cell_type": "markdown",
   "metadata": {
    "solution2": "shown",
    "solution2_first": true
   },
   "source": [
    "Evalue los estadísticos del conjunto de datos [1,1,2,3] y compruebelo con la herramienta:"
   ]
  },
  {
   "cell_type": "code",
   "execution_count": 78,
   "metadata": {},
   "outputs": [
    {
     "name": "stdout",
     "output_type": "stream",
     "text": [
      "La media es 3.8823529411764706\n",
      "La mediana es 3.0\n",
      "La varianza poblacional es 6.927335640138407\n",
      "La varianza muestral es 7.360294117647058\n",
      "La desviación estándar poblacional es 2.6319832142584816\n",
      "La desviación estándar muestral es 2.7129861993100994\n"
     ]
    }
   ],
   "source": [
    "estadisticos(\"1 2 3 4 5 7 8 3 1 3 4 1 3 4 8 0 9\")"
   ]
  },
  {
   "cell_type": "code",
   "execution_count": 79,
   "metadata": {
    "scrolled": true,
    "solution2": "shown"
   },
   "outputs": [
    {
     "data": {
      "application/vnd.jupyter.widget-view+json": {
       "model_id": "47e9cc94b3834bcd87e5e251113a71ff",
       "version_major": 2,
       "version_minor": 0
      },
      "text/plain": [
       "interactive(children=(Text(value='1 2 3', description='x'), Output()), _dom_classes=('widget-interact',))"
      ]
     },
     "metadata": {},
     "output_type": "display_data"
    },
    {
     "data": {
      "text/plain": [
       "<function __main__.estadisticos(x)>"
      ]
     },
     "execution_count": 79,
     "metadata": {},
     "output_type": "execute_result"
    }
   ],
   "source": [
    "interact(estadisticos,x=\"1 2 3\")"
   ]
  },
  {
   "cell_type": "code",
   "execution_count": 80,
   "metadata": {
    "solution2": "shown"
   },
   "outputs": [],
   "source": [
    "def estadisticos(x):\n",
    "    try:\n",
    "        L=x.split()\n",
    "        L=[float(i) for i in L]        \n",
    "        x=np.array(list(L))\n",
    "        print(\"La media es\", np.mean(x))\n",
    "        print(\"La mediana es\", np.median(x))\n",
    "        print(\"La varianza poblacional es\", np.var(x))\n",
    "        print(\"La varianza muestral es\", np.var(x,ddof=1))\n",
    "        print(\"La desviación estándar poblacional es\", np.std(x))\n",
    "        print(\"La desviación estándar muestral es\", np.std(x,ddof=1))\n",
    "    except:\n",
    "        print(\"Cuidado con lo que escribe, solo se admiten valores numéricos\")\n",
    "    return"
   ]
  },
  {
   "cell_type": "code",
   "execution_count": 81,
   "metadata": {
    "scrolled": true
   },
   "outputs": [
    {
     "data": {
      "application/vnd.jupyter.widget-view+json": {
       "model_id": "ed9e28e8c55e44319df81f82dce209b9",
       "version_major": 2,
       "version_minor": 0
      },
      "text/plain": [
       "interactive(children=(Text(value='1 2 3', description='x'), Output()), _dom_classes=('widget-interact',))"
      ]
     },
     "metadata": {},
     "output_type": "display_data"
    },
    {
     "data": {
      "text/plain": [
       "<function __main__.estadisticos(x)>"
      ]
     },
     "execution_count": 81,
     "metadata": {},
     "output_type": "execute_result"
    }
   ],
   "source": [
    "interact(estadisticos,x=\"1 2 3\")"
   ]
  },
  {
   "cell_type": "code",
   "execution_count": 82,
   "metadata": {},
   "outputs": [],
   "source": [
    "def txttomtx(x):\n",
    "    L=x.split()\n",
    "    L=[float(i) for i in L]\n",
    "    e=np.sqrt(len(L))\n",
    "    d=int(e)\n",
    "    k=0\n",
    "    M=np.zeros((d,d))\n",
    "    for i in range(d):\n",
    "        for j in range(d):\n",
    "            M[i,j]=L[k]\n",
    "            k=k+1\n",
    "    return M"
   ]
  },
  {
   "cell_type": "code",
   "execution_count": 83,
   "metadata": {},
   "outputs": [
    {
     "data": {
      "text/plain": [
       "array([[1., 2.],\n",
       "       [3., 4.]])"
      ]
     },
     "execution_count": 83,
     "metadata": {},
     "output_type": "execute_result"
    }
   ],
   "source": [
    "txttomtx(\"1 2 3 4\")"
   ]
  },
  {
   "cell_type": "code",
   "execution_count": 84,
   "metadata": {},
   "outputs": [],
   "source": [
    "M=txttomtx(\"1 2 3 4\")"
   ]
  },
  {
   "cell_type": "code",
   "execution_count": 85,
   "metadata": {},
   "outputs": [
    {
     "data": {
      "text/plain": [
       "array([[1., 2.],\n",
       "       [3., 4.]])"
      ]
     },
     "execution_count": 85,
     "metadata": {},
     "output_type": "execute_result"
    }
   ],
   "source": [
    "M"
   ]
  },
  {
   "cell_type": "code",
   "execution_count": 86,
   "metadata": {},
   "outputs": [
    {
     "data": {
      "text/plain": [
       "-2.0000000000000004"
      ]
     },
     "execution_count": 86,
     "metadata": {},
     "output_type": "execute_result"
    }
   ],
   "source": [
    "np.linalg.det(M)"
   ]
  },
  {
   "cell_type": "code",
   "execution_count": 87,
   "metadata": {},
   "outputs": [],
   "source": [
    "def matrizopun(x,y):\n",
    "    try:\n",
    "        M=txttomtx(x)\n",
    "        M2=txttomtx(y)\n",
    "        SM=M+M2\n",
    "        print(\"La suma es:\",SM)\n",
    "    except:\n",
    "        print(\"Cuidado con lo que escribe, solo se admiten valores numéricos\")\n",
    "    return"
   ]
  },
  {
   "cell_type": "code",
   "execution_count": 88,
   "metadata": {},
   "outputs": [
    {
     "data": {
      "application/vnd.jupyter.widget-view+json": {
       "model_id": "d1ef108935bc4952bf7079099f4e3e70",
       "version_major": 2,
       "version_minor": 0
      },
      "text/plain": [
       "interactive(children=(Text(value='1 2 3 4', description='x'), Text(value='1 2 3 4', description='y'), Output()…"
      ]
     },
     "metadata": {},
     "output_type": "display_data"
    },
    {
     "data": {
      "text/plain": [
       "<function __main__.matrizopun(x, y)>"
      ]
     },
     "execution_count": 88,
     "metadata": {},
     "output_type": "execute_result"
    }
   ],
   "source": [
    "interact(matrizopun,x=\"1 2 3 4\",y=\"1 2 3 4\")"
   ]
  },
  {
   "cell_type": "code",
   "execution_count": 89,
   "metadata": {},
   "outputs": [],
   "source": [
    "import ipywidgets as widgets\n",
    "from ipywidgets import interact, Layout\n"
   ]
  },
  {
   "cell_type": "code",
   "execution_count": 90,
   "metadata": {},
   "outputs": [
    {
     "data": {
      "application/vnd.jupyter.widget-view+json": {
       "model_id": "c68f4b9a06d54589a148d1242217b72e",
       "version_major": 2,
       "version_minor": 0
      },
      "text/plain": [
       "Textarea(value='Hello World', description='Una descripción muy laaaarga:', placeholder='Type something')"
      ]
     },
     "metadata": {},
     "output_type": "display_data"
    }
   ],
   "source": [
    "widgets.Textarea(\n",
    "    value='Hello World',\n",
    "    placeholder='Type something',\n",
    "    description='Una descripción muy laaaarga:')"
   ]
  },
  {
   "cell_type": "code",
   "execution_count": 91,
   "metadata": {},
   "outputs": [
    {
     "data": {
      "application/vnd.jupyter.widget-view+json": {
       "model_id": "47650d14256f4b9394bfb854098c3b42",
       "version_major": 2,
       "version_minor": 0
      },
      "text/plain": [
       "Textarea(value='Hello World', description='Una descripción muy laaaarga:', layout=Layout(height='80px', width=…"
      ]
     },
     "metadata": {},
     "output_type": "display_data"
    }
   ],
   "source": [
    "style = {'description_width': 'initial'}\n",
    "l = Layout( height='80px', width='auto')\n",
    "widgets.Textarea(\n",
    "    value='Hello World',\n",
    "    placeholder='Type something',\n",
    "    description='Una descripción muy laaaarga:',\n",
    "    style=style,\n",
    "    layout=l)"
   ]
  },
  {
   "cell_type": "code",
   "execution_count": 92,
   "metadata": {
    "scrolled": true
   },
   "outputs": [
    {
     "data": {
      "application/vnd.jupyter.widget-view+json": {
       "model_id": "2c8a2e76237045d9a214b61e3e7c0c8d",
       "version_major": 2,
       "version_minor": 0
      },
      "text/plain": [
       "interactive(children=(Textarea(value='1 2 3', description='Una descripción muy laaaarga:', layout=Layout(heigh…"
      ]
     },
     "metadata": {},
     "output_type": "display_data"
    },
    {
     "data": {
      "text/plain": [
       "<function __main__.convertidodematrices(A)>"
      ]
     },
     "execution_count": 92,
     "metadata": {},
     "output_type": "execute_result"
    }
   ],
   "source": [
    "style = {'description_width': 'initial'}\n",
    "l = Layout( height='80px', width='auto')\n",
    "def convertidodematrices(A):\n",
    "    B=A.split(\"\\n\")\n",
    "    Matriz=[]\n",
    "    for i in B:\n",
    "        Matriz.append([int(j) for j in i.split()])\n",
    "    print(Matriz)\n",
    "    \n",
    "    \n",
    "A=widgets.Textarea(\n",
    "    value='1 2 3',\n",
    "    placeholder='Type something',\n",
    "    description='Una descripción muy laaaarga:',\n",
    "    style=style,\n",
    "    layout=l)\n",
    "\n",
    "interact(convertidodematrices,A=A)"
   ]
  }
 ],
 "metadata": {
  "kernelspec": {
   "display_name": "Python 3 (ipykernel)",
   "language": "python",
   "name": "python3"
  },
  "language_info": {
   "codemirror_mode": {
    "name": "ipython",
    "version": 3
   },
   "file_extension": ".py",
   "mimetype": "text/x-python",
   "name": "python",
   "nbconvert_exporter": "python",
   "pygments_lexer": "ipython3",
   "version": "3.9.5"
  },
  "toc": {
   "base_numbering": 1,
   "nav_menu": {},
   "number_sections": true,
   "sideBar": false,
   "skip_h1_title": false,
   "title_cell": "Matplotlib - Gráficos en Python",
   "title_sidebar": "Cuaderno Matplotlib",
   "toc_cell": true,
   "toc_position": {
    "height": "calc(100% - 180px)",
    "left": "10px",
    "top": "150px",
    "width": "165px"
   },
   "toc_section_display": false,
   "toc_window_display": false
  },
  "widgets": {
   "application/vnd.jupyter.widget-state+json": {
    "state": {
     "01bd9144b8434675a96640482acacb43": {
      "model_module": "@jupyter-widgets/base",
      "model_module_version": "1.2.0",
      "model_name": "LayoutModel",
      "state": {
       "_model_module": "@jupyter-widgets/base",
       "_model_module_version": "1.2.0",
       "_model_name": "LayoutModel",
       "_view_count": null,
       "_view_module": "@jupyter-widgets/base",
       "_view_module_version": "1.2.0",
       "_view_name": "LayoutView",
       "align_content": null,
       "align_items": null,
       "align_self": null,
       "border": null,
       "bottom": null,
       "display": null,
       "flex": null,
       "flex_flow": null,
       "grid_area": null,
       "grid_auto_columns": null,
       "grid_auto_flow": null,
       "grid_auto_rows": null,
       "grid_column": null,
       "grid_gap": null,
       "grid_row": null,
       "grid_template_areas": null,
       "grid_template_columns": null,
       "grid_template_rows": null,
       "height": null,
       "justify_content": null,
       "justify_items": null,
       "left": null,
       "margin": null,
       "max_height": null,
       "max_width": null,
       "min_height": null,
       "min_width": null,
       "object_fit": null,
       "object_position": null,
       "order": null,
       "overflow": null,
       "overflow_x": null,
       "overflow_y": null,
       "padding": null,
       "right": null,
       "top": null,
       "visibility": null,
       "width": null
      }
     },
     "0437dc26242d46c3872e452679afd827": {
      "model_module": "@jupyter-widgets/base",
      "model_module_version": "1.2.0",
      "model_name": "LayoutModel",
      "state": {
       "_model_module": "@jupyter-widgets/base",
       "_model_module_version": "1.2.0",
       "_model_name": "LayoutModel",
       "_view_count": null,
       "_view_module": "@jupyter-widgets/base",
       "_view_module_version": "1.2.0",
       "_view_name": "LayoutView",
       "align_content": null,
       "align_items": null,
       "align_self": null,
       "border": null,
       "bottom": null,
       "display": null,
       "flex": null,
       "flex_flow": null,
       "grid_area": null,
       "grid_auto_columns": null,
       "grid_auto_flow": null,
       "grid_auto_rows": null,
       "grid_column": null,
       "grid_gap": null,
       "grid_row": null,
       "grid_template_areas": null,
       "grid_template_columns": null,
       "grid_template_rows": null,
       "height": null,
       "justify_content": null,
       "justify_items": null,
       "left": null,
       "margin": null,
       "max_height": null,
       "max_width": null,
       "min_height": null,
       "min_width": null,
       "object_fit": null,
       "object_position": null,
       "order": null,
       "overflow": null,
       "overflow_x": null,
       "overflow_y": null,
       "padding": null,
       "right": null,
       "top": null,
       "visibility": null,
       "width": null
      }
     },
     "04ac6fc5d71845a0a2a0d815a5e48ce3": {
      "model_module": "@jupyter-widgets/base",
      "model_module_version": "1.2.0",
      "model_name": "LayoutModel",
      "state": {
       "_model_module": "@jupyter-widgets/base",
       "_model_module_version": "1.2.0",
       "_model_name": "LayoutModel",
       "_view_count": null,
       "_view_module": "@jupyter-widgets/base",
       "_view_module_version": "1.2.0",
       "_view_name": "LayoutView",
       "align_content": null,
       "align_items": null,
       "align_self": null,
       "border": null,
       "bottom": null,
       "display": null,
       "flex": null,
       "flex_flow": null,
       "grid_area": null,
       "grid_auto_columns": null,
       "grid_auto_flow": null,
       "grid_auto_rows": null,
       "grid_column": null,
       "grid_gap": null,
       "grid_row": null,
       "grid_template_areas": null,
       "grid_template_columns": null,
       "grid_template_rows": null,
       "height": null,
       "justify_content": null,
       "justify_items": null,
       "left": null,
       "margin": null,
       "max_height": null,
       "max_width": null,
       "min_height": null,
       "min_width": null,
       "object_fit": null,
       "object_position": null,
       "order": null,
       "overflow": null,
       "overflow_x": null,
       "overflow_y": null,
       "padding": null,
       "right": null,
       "top": null,
       "visibility": null,
       "width": null
      }
     },
     "04b78c0ada2241ac945d05249249248a": {
      "model_module": "@jupyter-widgets/output",
      "model_module_version": "1.0.0",
      "model_name": "OutputModel",
      "state": {
       "_dom_classes": [],
       "_model_module": "@jupyter-widgets/output",
       "_model_module_version": "1.0.0",
       "_model_name": "OutputModel",
       "_view_count": null,
       "_view_module": "@jupyter-widgets/output",
       "_view_module_version": "1.0.0",
       "_view_name": "OutputView",
       "layout": "IPY_MODEL_a2e76390e21f40fe972191e883fb949d",
       "msg_id": "",
       "outputs": [
        {
         "name": "stdout",
         "output_type": "stream",
         "text": "La media es 2.0\nLa mediana es 2.0\nLa varianza poblacional es 0.6666666666666666\nLa varianza muestral es 1.0\nLa desviación estándar poblacional es 0.816496580927726\nLa desviación estándar muestral es 1.0\n"
        }
       ]
      }
     },
     "08e7d12fdf93421094f42da2c680196a": {
      "model_module": "@jupyter-widgets/base",
      "model_module_version": "1.2.0",
      "model_name": "LayoutModel",
      "state": {
       "_model_module": "@jupyter-widgets/base",
       "_model_module_version": "1.2.0",
       "_model_name": "LayoutModel",
       "_view_count": null,
       "_view_module": "@jupyter-widgets/base",
       "_view_module_version": "1.2.0",
       "_view_name": "LayoutView",
       "align_content": null,
       "align_items": null,
       "align_self": null,
       "border": null,
       "bottom": null,
       "display": null,
       "flex": null,
       "flex_flow": null,
       "grid_area": null,
       "grid_auto_columns": null,
       "grid_auto_flow": null,
       "grid_auto_rows": null,
       "grid_column": null,
       "grid_gap": null,
       "grid_row": null,
       "grid_template_areas": null,
       "grid_template_columns": null,
       "grid_template_rows": null,
       "height": null,
       "justify_content": null,
       "justify_items": null,
       "left": null,
       "margin": null,
       "max_height": null,
       "max_width": null,
       "min_height": null,
       "min_width": null,
       "object_fit": null,
       "object_position": null,
       "order": null,
       "overflow": null,
       "overflow_x": null,
       "overflow_y": null,
       "padding": null,
       "right": null,
       "top": null,
       "visibility": null,
       "width": null
      }
     },
     "0aafaf510a1b4758b77895b8b44c2823": {
      "model_module": "@jupyter-widgets/base",
      "model_module_version": "1.2.0",
      "model_name": "LayoutModel",
      "state": {
       "_model_module": "@jupyter-widgets/base",
       "_model_module_version": "1.2.0",
       "_model_name": "LayoutModel",
       "_view_count": null,
       "_view_module": "@jupyter-widgets/base",
       "_view_module_version": "1.2.0",
       "_view_name": "LayoutView",
       "align_content": null,
       "align_items": null,
       "align_self": null,
       "border": null,
       "bottom": null,
       "display": null,
       "flex": null,
       "flex_flow": null,
       "grid_area": null,
       "grid_auto_columns": null,
       "grid_auto_flow": null,
       "grid_auto_rows": null,
       "grid_column": null,
       "grid_gap": null,
       "grid_row": null,
       "grid_template_areas": null,
       "grid_template_columns": null,
       "grid_template_rows": null,
       "height": null,
       "justify_content": null,
       "justify_items": null,
       "left": null,
       "margin": null,
       "max_height": null,
       "max_width": null,
       "min_height": null,
       "min_width": null,
       "object_fit": null,
       "object_position": null,
       "order": null,
       "overflow": null,
       "overflow_x": null,
       "overflow_y": null,
       "padding": null,
       "right": null,
       "top": null,
       "visibility": null,
       "width": null
      }
     },
     "151f7f879dc2421084a272084404d783": {
      "model_module": "@jupyter-widgets/base",
      "model_module_version": "1.2.0",
      "model_name": "LayoutModel",
      "state": {
       "_model_module": "@jupyter-widgets/base",
       "_model_module_version": "1.2.0",
       "_model_name": "LayoutModel",
       "_view_count": null,
       "_view_module": "@jupyter-widgets/base",
       "_view_module_version": "1.2.0",
       "_view_name": "LayoutView",
       "align_content": null,
       "align_items": null,
       "align_self": null,
       "border": null,
       "bottom": null,
       "display": null,
       "flex": null,
       "flex_flow": null,
       "grid_area": null,
       "grid_auto_columns": null,
       "grid_auto_flow": null,
       "grid_auto_rows": null,
       "grid_column": null,
       "grid_gap": null,
       "grid_row": null,
       "grid_template_areas": null,
       "grid_template_columns": null,
       "grid_template_rows": null,
       "height": null,
       "justify_content": null,
       "justify_items": null,
       "left": null,
       "margin": null,
       "max_height": null,
       "max_width": null,
       "min_height": null,
       "min_width": null,
       "object_fit": null,
       "object_position": null,
       "order": null,
       "overflow": null,
       "overflow_x": null,
       "overflow_y": null,
       "padding": null,
       "right": null,
       "top": null,
       "visibility": null,
       "width": null
      }
     },
     "19a4156a4cf1429384d80d6f235a8ebd": {
      "model_module": "@jupyter-widgets/controls",
      "model_module_version": "1.5.0",
      "model_name": "DescriptionStyleModel",
      "state": {
       "_model_module": "@jupyter-widgets/controls",
       "_model_module_version": "1.5.0",
       "_model_name": "DescriptionStyleModel",
       "_view_count": null,
       "_view_module": "@jupyter-widgets/base",
       "_view_module_version": "1.2.0",
       "_view_name": "StyleView",
       "description_width": "initial"
      }
     },
     "1bd2547bb3824b2f92e722e235935e73": {
      "model_module": "@jupyter-widgets/base",
      "model_module_version": "1.2.0",
      "model_name": "LayoutModel",
      "state": {
       "_model_module": "@jupyter-widgets/base",
       "_model_module_version": "1.2.0",
       "_model_name": "LayoutModel",
       "_view_count": null,
       "_view_module": "@jupyter-widgets/base",
       "_view_module_version": "1.2.0",
       "_view_name": "LayoutView",
       "align_content": null,
       "align_items": null,
       "align_self": null,
       "border": null,
       "bottom": null,
       "display": null,
       "flex": null,
       "flex_flow": null,
       "grid_area": null,
       "grid_auto_columns": null,
       "grid_auto_flow": null,
       "grid_auto_rows": null,
       "grid_column": null,
       "grid_gap": null,
       "grid_row": null,
       "grid_template_areas": null,
       "grid_template_columns": null,
       "grid_template_rows": null,
       "height": null,
       "justify_content": null,
       "justify_items": null,
       "left": null,
       "margin": null,
       "max_height": null,
       "max_width": null,
       "min_height": null,
       "min_width": null,
       "object_fit": null,
       "object_position": null,
       "order": null,
       "overflow": null,
       "overflow_x": null,
       "overflow_y": null,
       "padding": null,
       "right": null,
       "top": null,
       "visibility": null,
       "width": null
      }
     },
     "1e7a839cae3c4e898e85740e162c6348": {
      "model_module": "@jupyter-widgets/base",
      "model_module_version": "1.2.0",
      "model_name": "LayoutModel",
      "state": {
       "_model_module": "@jupyter-widgets/base",
       "_model_module_version": "1.2.0",
       "_model_name": "LayoutModel",
       "_view_count": null,
       "_view_module": "@jupyter-widgets/base",
       "_view_module_version": "1.2.0",
       "_view_name": "LayoutView",
       "align_content": null,
       "align_items": null,
       "align_self": null,
       "border": null,
       "bottom": null,
       "display": null,
       "flex": null,
       "flex_flow": null,
       "grid_area": null,
       "grid_auto_columns": null,
       "grid_auto_flow": null,
       "grid_auto_rows": null,
       "grid_column": null,
       "grid_gap": null,
       "grid_row": null,
       "grid_template_areas": null,
       "grid_template_columns": null,
       "grid_template_rows": null,
       "height": null,
       "justify_content": null,
       "justify_items": null,
       "left": null,
       "margin": null,
       "max_height": null,
       "max_width": null,
       "min_height": null,
       "min_width": null,
       "object_fit": null,
       "object_position": null,
       "order": null,
       "overflow": null,
       "overflow_x": null,
       "overflow_y": null,
       "padding": null,
       "right": null,
       "top": null,
       "visibility": null,
       "width": null
      }
     },
     "21f6d97a9c8f4cecba6b920596a1d1c0": {
      "model_module": "@jupyter-widgets/output",
      "model_module_version": "1.0.0",
      "model_name": "OutputModel",
      "state": {
       "_dom_classes": [],
       "_model_module": "@jupyter-widgets/output",
       "_model_module_version": "1.0.0",
       "_model_name": "OutputModel",
       "_view_count": null,
       "_view_module": "@jupyter-widgets/output",
       "_view_module_version": "1.0.0",
       "_view_name": "OutputView",
       "layout": "IPY_MODEL_0437dc26242d46c3872e452679afd827",
       "msg_id": "",
       "outputs": [
        {
         "data": {
          "image/png": "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\n",
          "text/plain": "<Figure size 432x288 with 1 Axes>"
         },
         "metadata": {
          "needs_background": "light"
         },
         "output_type": "display_data"
        }
       ]
      }
     },
     "23549a85609440d3b1479a058e3cb7a1": {
      "model_module": "@jupyter-widgets/base",
      "model_module_version": "1.2.0",
      "model_name": "LayoutModel",
      "state": {
       "_model_module": "@jupyter-widgets/base",
       "_model_module_version": "1.2.0",
       "_model_name": "LayoutModel",
       "_view_count": null,
       "_view_module": "@jupyter-widgets/base",
       "_view_module_version": "1.2.0",
       "_view_name": "LayoutView",
       "align_content": null,
       "align_items": null,
       "align_self": null,
       "border": null,
       "bottom": null,
       "display": null,
       "flex": null,
       "flex_flow": null,
       "grid_area": null,
       "grid_auto_columns": null,
       "grid_auto_flow": null,
       "grid_auto_rows": null,
       "grid_column": null,
       "grid_gap": null,
       "grid_row": null,
       "grid_template_areas": null,
       "grid_template_columns": null,
       "grid_template_rows": null,
       "height": null,
       "justify_content": null,
       "justify_items": null,
       "left": null,
       "margin": null,
       "max_height": null,
       "max_width": null,
       "min_height": null,
       "min_width": null,
       "object_fit": null,
       "object_position": null,
       "order": null,
       "overflow": null,
       "overflow_x": null,
       "overflow_y": null,
       "padding": null,
       "right": null,
       "top": null,
       "visibility": null,
       "width": null
      }
     },
     "2391bb7bff44416a80d15222008dc08b": {
      "model_module": "@jupyter-widgets/controls",
      "model_module_version": "1.5.0",
      "model_name": "IntSliderModel",
      "state": {
       "_dom_classes": [],
       "_model_module": "@jupyter-widgets/controls",
       "_model_module_version": "1.5.0",
       "_model_name": "IntSliderModel",
       "_view_count": null,
       "_view_module": "@jupyter-widgets/controls",
       "_view_module_version": "1.5.0",
       "_view_name": "IntSliderView",
       "continuous_update": true,
       "description": "ymin",
       "description_tooltip": null,
       "disabled": false,
       "layout": "IPY_MODEL_a097b560af82484fb75a9897cc8bc433",
       "max": 1,
       "min": -3,
       "orientation": "horizontal",
       "readout": true,
       "readout_format": "d",
       "step": 1,
       "style": "IPY_MODEL_70d38981dd914694a252b906c306fd47",
       "value": -1
      }
     },
     "26458c76db44483fa3b4349fbce004d2": {
      "model_module": "@jupyter-widgets/controls",
      "model_module_version": "1.5.0",
      "model_name": "VBoxModel",
      "state": {
       "_dom_classes": [
        "widget-interact"
       ],
       "_model_module": "@jupyter-widgets/controls",
       "_model_module_version": "1.5.0",
       "_model_name": "VBoxModel",
       "_view_count": null,
       "_view_module": "@jupyter-widgets/controls",
       "_view_module_version": "1.5.0",
       "_view_name": "VBoxView",
       "box_style": "",
       "children": [
        "IPY_MODEL_f2ef986e4a674b1e8ab441fee8aa8133",
        "IPY_MODEL_d305de2d350a4c2892ce22406c319dc2"
       ],
       "layout": "IPY_MODEL_6bb63a58c49a4d5b88c79fa581b6f0a1"
      }
     },
     "278ebf696c774a919b31632fc13b48be": {
      "model_module": "@jupyter-widgets/base",
      "model_module_version": "1.2.0",
      "model_name": "LayoutModel",
      "state": {
       "_model_module": "@jupyter-widgets/base",
       "_model_module_version": "1.2.0",
       "_model_name": "LayoutModel",
       "_view_count": null,
       "_view_module": "@jupyter-widgets/base",
       "_view_module_version": "1.2.0",
       "_view_name": "LayoutView",
       "align_content": null,
       "align_items": null,
       "align_self": null,
       "border": null,
       "bottom": null,
       "display": null,
       "flex": null,
       "flex_flow": null,
       "grid_area": null,
       "grid_auto_columns": null,
       "grid_auto_flow": null,
       "grid_auto_rows": null,
       "grid_column": null,
       "grid_gap": null,
       "grid_row": null,
       "grid_template_areas": null,
       "grid_template_columns": null,
       "grid_template_rows": null,
       "height": null,
       "justify_content": null,
       "justify_items": null,
       "left": null,
       "margin": null,
       "max_height": null,
       "max_width": null,
       "min_height": null,
       "min_width": null,
       "object_fit": null,
       "object_position": null,
       "order": null,
       "overflow": null,
       "overflow_x": null,
       "overflow_y": null,
       "padding": null,
       "right": null,
       "top": null,
       "visibility": null,
       "width": null
      }
     },
     "2abcfc1485b44818b383fa93e1767066": {
      "model_module": "@jupyter-widgets/base",
      "model_module_version": "1.2.0",
      "model_name": "LayoutModel",
      "state": {
       "_model_module": "@jupyter-widgets/base",
       "_model_module_version": "1.2.0",
       "_model_name": "LayoutModel",
       "_view_count": null,
       "_view_module": "@jupyter-widgets/base",
       "_view_module_version": "1.2.0",
       "_view_name": "LayoutView",
       "align_content": null,
       "align_items": null,
       "align_self": null,
       "border": null,
       "bottom": null,
       "display": null,
       "flex": null,
       "flex_flow": null,
       "grid_area": null,
       "grid_auto_columns": null,
       "grid_auto_flow": null,
       "grid_auto_rows": null,
       "grid_column": null,
       "grid_gap": null,
       "grid_row": null,
       "grid_template_areas": null,
       "grid_template_columns": null,
       "grid_template_rows": null,
       "height": null,
       "justify_content": null,
       "justify_items": null,
       "left": null,
       "margin": null,
       "max_height": null,
       "max_width": null,
       "min_height": null,
       "min_width": null,
       "object_fit": null,
       "object_position": null,
       "order": null,
       "overflow": null,
       "overflow_x": null,
       "overflow_y": null,
       "padding": null,
       "right": null,
       "top": null,
       "visibility": null,
       "width": null
      }
     },
     "2c8a2e76237045d9a214b61e3e7c0c8d": {
      "model_module": "@jupyter-widgets/controls",
      "model_module_version": "1.5.0",
      "model_name": "VBoxModel",
      "state": {
       "_dom_classes": [
        "widget-interact"
       ],
       "_model_module": "@jupyter-widgets/controls",
       "_model_module_version": "1.5.0",
       "_model_name": "VBoxModel",
       "_view_count": null,
       "_view_module": "@jupyter-widgets/controls",
       "_view_module_version": "1.5.0",
       "_view_name": "VBoxView",
       "box_style": "",
       "children": [
        "IPY_MODEL_525f31b87a47408d8dac2787b742a696",
        "IPY_MODEL_ee6d74a839aa40dea9810567e060f6fd"
       ],
       "layout": "IPY_MODEL_e43e5a1668c74b9e92ec1e924f62aa2c"
      }
     },
     "2df849240b644bbdbea8c474a4699c17": {
      "model_module": "@jupyter-widgets/controls",
      "model_module_version": "1.5.0",
      "model_name": "DescriptionStyleModel",
      "state": {
       "_model_module": "@jupyter-widgets/controls",
       "_model_module_version": "1.5.0",
       "_model_name": "DescriptionStyleModel",
       "_view_count": null,
       "_view_module": "@jupyter-widgets/base",
       "_view_module_version": "1.2.0",
       "_view_name": "StyleView",
       "description_width": ""
      }
     },
     "2fb90969348141e792a11305392ff581": {
      "model_module": "@jupyter-widgets/output",
      "model_module_version": "1.0.0",
      "model_name": "OutputModel",
      "state": {
       "_dom_classes": [],
       "_model_module": "@jupyter-widgets/output",
       "_model_module_version": "1.0.0",
       "_model_name": "OutputModel",
       "_view_count": null,
       "_view_module": "@jupyter-widgets/output",
       "_view_module_version": "1.0.0",
       "_view_name": "OutputView",
       "layout": "IPY_MODEL_5d25641f489b4bd2971707bd486d4639",
       "msg_id": "",
       "outputs": [
        {
         "name": "stdout",
         "output_type": "stream",
         "text": "1.2 + 5 = 6.2\n"
        },
        {
         "data": {
          "text/plain": "6.2"
         },
         "metadata": {},
         "output_type": "display_data"
        }
       ]
      }
     },
     "2fe569d2b3a74f809a4f4460b3b3c5c3": {
      "model_module": "@jupyter-widgets/controls",
      "model_module_version": "1.5.0",
      "model_name": "IntSliderModel",
      "state": {
       "_dom_classes": [],
       "_model_module": "@jupyter-widgets/controls",
       "_model_module_version": "1.5.0",
       "_model_name": "IntSliderModel",
       "_view_count": null,
       "_view_module": "@jupyter-widgets/controls",
       "_view_module_version": "1.5.0",
       "_view_name": "IntSliderView",
       "continuous_update": true,
       "description": "ymax",
       "description_tooltip": null,
       "disabled": false,
       "layout": "IPY_MODEL_b693abf379654cdc8127423082a40af4",
       "max": 3,
       "min": -1,
       "orientation": "horizontal",
       "readout": true,
       "readout_format": "d",
       "step": 1,
       "style": "IPY_MODEL_9ab654237ea5486bb36870334189c441",
       "value": 1
      }
     },
     "39d98f85f98746b0b946f0dd64399371": {
      "model_module": "@jupyter-widgets/controls",
      "model_module_version": "1.5.0",
      "model_name": "FloatSliderModel",
      "state": {
       "_dom_classes": [],
       "_model_module": "@jupyter-widgets/controls",
       "_model_module_version": "1.5.0",
       "_model_name": "FloatSliderModel",
       "_view_count": null,
       "_view_module": "@jupyter-widgets/controls",
       "_view_module_version": "1.5.0",
       "_view_name": "FloatSliderView",
       "continuous_update": true,
       "description": "x",
       "description_tooltip": null,
       "disabled": false,
       "layout": "IPY_MODEL_58d93e1319074280938f0e41f962d406",
       "max": 3.5999999999999996,
       "min": -1.2,
       "orientation": "horizontal",
       "readout": true,
       "readout_format": ".2f",
       "step": 0.1,
       "style": "IPY_MODEL_3c789b48773b4c15ab916666de0424f3",
       "value": 1.2
      }
     },
     "3a31ed4bf37e4d0eae4717b7aa139c08": {
      "model_module": "@jupyter-widgets/controls",
      "model_module_version": "1.5.0",
      "model_name": "IntSliderModel",
      "state": {
       "_dom_classes": [],
       "_model_module": "@jupyter-widgets/controls",
       "_model_module_version": "1.5.0",
       "_model_name": "IntSliderModel",
       "_view_count": null,
       "_view_module": "@jupyter-widgets/controls",
       "_view_module_version": "1.5.0",
       "_view_name": "IntSliderView",
       "continuous_update": true,
       "description": "Intervalos",
       "description_tooltip": null,
       "disabled": false,
       "layout": "IPY_MODEL_e485aeea74f548c6a5c6a781d5b36207",
       "max": 50,
       "min": 1,
       "orientation": "horizontal",
       "readout": true,
       "readout_format": "d",
       "step": 1,
       "style": "IPY_MODEL_b32ffb8bd8ab47f79cfaebf759302437",
       "value": 30
      }
     },
     "3c789b48773b4c15ab916666de0424f3": {
      "model_module": "@jupyter-widgets/controls",
      "model_module_version": "1.5.0",
      "model_name": "SliderStyleModel",
      "state": {
       "_model_module": "@jupyter-widgets/controls",
       "_model_module_version": "1.5.0",
       "_model_name": "SliderStyleModel",
       "_view_count": null,
       "_view_module": "@jupyter-widgets/base",
       "_view_module_version": "1.2.0",
       "_view_name": "StyleView",
       "description_width": "",
       "handle_color": null
      }
     },
     "3d9265ca507f4babaa24b3777e4af6e9": {
      "model_module": "@jupyter-widgets/base",
      "model_module_version": "1.2.0",
      "model_name": "LayoutModel",
      "state": {
       "_model_module": "@jupyter-widgets/base",
       "_model_module_version": "1.2.0",
       "_model_name": "LayoutModel",
       "_view_count": null,
       "_view_module": "@jupyter-widgets/base",
       "_view_module_version": "1.2.0",
       "_view_name": "LayoutView",
       "align_content": null,
       "align_items": null,
       "align_self": null,
       "border": null,
       "bottom": null,
       "display": null,
       "flex": null,
       "flex_flow": null,
       "grid_area": null,
       "grid_auto_columns": null,
       "grid_auto_flow": null,
       "grid_auto_rows": null,
       "grid_column": null,
       "grid_gap": null,
       "grid_row": null,
       "grid_template_areas": null,
       "grid_template_columns": null,
       "grid_template_rows": null,
       "height": null,
       "justify_content": null,
       "justify_items": null,
       "left": null,
       "margin": null,
       "max_height": null,
       "max_width": null,
       "min_height": null,
       "min_width": null,
       "object_fit": null,
       "object_position": null,
       "order": null,
       "overflow": null,
       "overflow_x": null,
       "overflow_y": null,
       "padding": null,
       "right": null,
       "top": null,
       "visibility": null,
       "width": null
      }
     },
     "3e56863b8b6c4a3ea9b85388c139a984": {
      "model_module": "@jupyter-widgets/output",
      "model_module_version": "1.0.0",
      "model_name": "OutputModel",
      "state": {
       "_dom_classes": [],
       "_model_module": "@jupyter-widgets/output",
       "_model_module_version": "1.0.0",
       "_model_name": "OutputModel",
       "_view_count": null,
       "_view_module": "@jupyter-widgets/output",
       "_view_module_version": "1.0.0",
       "_view_name": "OutputView",
       "layout": "IPY_MODEL_e0c1e564963f444d9a8f1e6924919259",
       "msg_id": "",
       "outputs": [
        {
         "name": "stdout",
         "output_type": "stream",
         "text": "La suma es: [[2. 4.]\n [6. 8.]]\n"
        }
       ]
      }
     },
     "3e9a3ad1c37d4d7b9aa589d446a59c88": {
      "model_module": "@jupyter-widgets/controls",
      "model_module_version": "1.5.0",
      "model_name": "VBoxModel",
      "state": {
       "_dom_classes": [
        "widget-interact"
       ],
       "_model_module": "@jupyter-widgets/controls",
       "_model_module_version": "1.5.0",
       "_model_name": "VBoxModel",
       "_view_count": null,
       "_view_module": "@jupyter-widgets/controls",
       "_view_module_version": "1.5.0",
       "_view_name": "VBoxView",
       "box_style": "",
       "children": [
        "IPY_MODEL_9c1458ea9fb54e6b9fa6a171254fec4e",
        "IPY_MODEL_93eb59855d9242ba92b8e32c9337ec51",
        "IPY_MODEL_4c5a10085dd74a509d57db9f40b879cf"
       ],
       "layout": "IPY_MODEL_4d600ddd7faf48d585be716fecb1e664"
      }
     },
     "47650d14256f4b9394bfb854098c3b42": {
      "model_module": "@jupyter-widgets/controls",
      "model_module_version": "1.5.0",
      "model_name": "TextareaModel",
      "state": {
       "_dom_classes": [],
       "_model_module": "@jupyter-widgets/controls",
       "_model_module_version": "1.5.0",
       "_model_name": "TextareaModel",
       "_view_count": null,
       "_view_module": "@jupyter-widgets/controls",
       "_view_module_version": "1.5.0",
       "_view_name": "TextareaView",
       "continuous_update": true,
       "description": "Una descripción muy laaaarga:",
       "description_tooltip": null,
       "disabled": false,
       "layout": "IPY_MODEL_8e3bb678ae0c49f98fc819dd074ca4fd",
       "placeholder": "Type something",
       "rows": null,
       "style": "IPY_MODEL_ee3f8b977c444bada10827ad17f6866c",
       "value": "Hello World"
      }
     },
     "47e9cc94b3834bcd87e5e251113a71ff": {
      "model_module": "@jupyter-widgets/controls",
      "model_module_version": "1.5.0",
      "model_name": "VBoxModel",
      "state": {
       "_dom_classes": [
        "widget-interact"
       ],
       "_model_module": "@jupyter-widgets/controls",
       "_model_module_version": "1.5.0",
       "_model_name": "VBoxModel",
       "_view_count": null,
       "_view_module": "@jupyter-widgets/controls",
       "_view_module_version": "1.5.0",
       "_view_name": "VBoxView",
       "box_style": "",
       "children": [
        "IPY_MODEL_4f75f02d1499468c812724120047d151",
        "IPY_MODEL_819c0d7204d24b73b878860b0340bcb9"
       ],
       "layout": "IPY_MODEL_d6c74759e7824bc791be0a9101c75f99"
      }
     },
     "48f818beb0294cf0a661422a9a429ef7": {
      "model_module": "@jupyter-widgets/base",
      "model_module_version": "1.2.0",
      "model_name": "LayoutModel",
      "state": {
       "_model_module": "@jupyter-widgets/base",
       "_model_module_version": "1.2.0",
       "_model_name": "LayoutModel",
       "_view_count": null,
       "_view_module": "@jupyter-widgets/base",
       "_view_module_version": "1.2.0",
       "_view_name": "LayoutView",
       "align_content": null,
       "align_items": null,
       "align_self": null,
       "border": null,
       "bottom": null,
       "display": null,
       "flex": null,
       "flex_flow": null,
       "grid_area": null,
       "grid_auto_columns": null,
       "grid_auto_flow": null,
       "grid_auto_rows": null,
       "grid_column": null,
       "grid_gap": null,
       "grid_row": null,
       "grid_template_areas": null,
       "grid_template_columns": null,
       "grid_template_rows": null,
       "height": null,
       "justify_content": null,
       "justify_items": null,
       "left": null,
       "margin": null,
       "max_height": null,
       "max_width": null,
       "min_height": null,
       "min_width": null,
       "object_fit": null,
       "object_position": null,
       "order": null,
       "overflow": null,
       "overflow_x": null,
       "overflow_y": null,
       "padding": null,
       "right": null,
       "top": null,
       "visibility": null,
       "width": null
      }
     },
     "4c5a10085dd74a509d57db9f40b879cf": {
      "model_module": "@jupyter-widgets/output",
      "model_module_version": "1.0.0",
      "model_name": "OutputModel",
      "state": {
       "_dom_classes": [],
       "_model_module": "@jupyter-widgets/output",
       "_model_module_version": "1.0.0",
       "_model_name": "OutputModel",
       "_view_count": null,
       "_view_module": "@jupyter-widgets/output",
       "_view_module_version": "1.0.0",
       "_view_name": "OutputView",
       "layout": "IPY_MODEL_fdfe93f2ffd84506bed6103b035d962b",
       "msg_id": "",
       "outputs": [
        {
         "name": "stdout",
         "output_type": "stream",
         "text": "Hugo  ganó 1000\n"
        },
        {
         "data": {
          "text/plain": "(1000, 'Hugo')"
         },
         "metadata": {},
         "output_type": "display_data"
        }
       ]
      }
     },
     "4d600ddd7faf48d585be716fecb1e664": {
      "model_module": "@jupyter-widgets/base",
      "model_module_version": "1.2.0",
      "model_name": "LayoutModel",
      "state": {
       "_model_module": "@jupyter-widgets/base",
       "_model_module_version": "1.2.0",
       "_model_name": "LayoutModel",
       "_view_count": null,
       "_view_module": "@jupyter-widgets/base",
       "_view_module_version": "1.2.0",
       "_view_name": "LayoutView",
       "align_content": null,
       "align_items": null,
       "align_self": null,
       "border": null,
       "bottom": null,
       "display": null,
       "flex": null,
       "flex_flow": null,
       "grid_area": null,
       "grid_auto_columns": null,
       "grid_auto_flow": null,
       "grid_auto_rows": null,
       "grid_column": null,
       "grid_gap": null,
       "grid_row": null,
       "grid_template_areas": null,
       "grid_template_columns": null,
       "grid_template_rows": null,
       "height": null,
       "justify_content": null,
       "justify_items": null,
       "left": null,
       "margin": null,
       "max_height": null,
       "max_width": null,
       "min_height": null,
       "min_width": null,
       "object_fit": null,
       "object_position": null,
       "order": null,
       "overflow": null,
       "overflow_x": null,
       "overflow_y": null,
       "padding": null,
       "right": null,
       "top": null,
       "visibility": null,
       "width": null
      }
     },
     "4f1a057d8f414ee1b543a01fc063d0e8": {
      "model_module": "@jupyter-widgets/base",
      "model_module_version": "1.2.0",
      "model_name": "LayoutModel",
      "state": {
       "_model_module": "@jupyter-widgets/base",
       "_model_module_version": "1.2.0",
       "_model_name": "LayoutModel",
       "_view_count": null,
       "_view_module": "@jupyter-widgets/base",
       "_view_module_version": "1.2.0",
       "_view_name": "LayoutView",
       "align_content": null,
       "align_items": null,
       "align_self": null,
       "border": null,
       "bottom": null,
       "display": null,
       "flex": null,
       "flex_flow": null,
       "grid_area": null,
       "grid_auto_columns": null,
       "grid_auto_flow": null,
       "grid_auto_rows": null,
       "grid_column": null,
       "grid_gap": null,
       "grid_row": null,
       "grid_template_areas": null,
       "grid_template_columns": null,
       "grid_template_rows": null,
       "height": null,
       "justify_content": null,
       "justify_items": null,
       "left": null,
       "margin": null,
       "max_height": null,
       "max_width": null,
       "min_height": null,
       "min_width": null,
       "object_fit": null,
       "object_position": null,
       "order": null,
       "overflow": null,
       "overflow_x": null,
       "overflow_y": null,
       "padding": null,
       "right": null,
       "top": null,
       "visibility": null,
       "width": null
      }
     },
     "4f75f02d1499468c812724120047d151": {
      "model_module": "@jupyter-widgets/controls",
      "model_module_version": "1.5.0",
      "model_name": "TextModel",
      "state": {
       "_dom_classes": [],
       "_model_module": "@jupyter-widgets/controls",
       "_model_module_version": "1.5.0",
       "_model_name": "TextModel",
       "_view_count": null,
       "_view_module": "@jupyter-widgets/controls",
       "_view_module_version": "1.5.0",
       "_view_name": "TextView",
       "continuous_update": true,
       "description": "x",
       "description_tooltip": null,
       "disabled": false,
       "layout": "IPY_MODEL_a1a95ed595f7415392564a0dc5eeff51",
       "placeholder": "​",
       "style": "IPY_MODEL_cda1a810756f4583af6f486b4656d52e",
       "value": "1 2 3"
      }
     },
     "51c30fc7619842a8aa34ac66458f9971": {
      "model_module": "@jupyter-widgets/controls",
      "model_module_version": "1.5.0",
      "model_name": "SliderStyleModel",
      "state": {
       "_model_module": "@jupyter-widgets/controls",
       "_model_module_version": "1.5.0",
       "_model_name": "SliderStyleModel",
       "_view_count": null,
       "_view_module": "@jupyter-widgets/base",
       "_view_module_version": "1.2.0",
       "_view_name": "StyleView",
       "description_width": "",
       "handle_color": null
      }
     },
     "525f31b87a47408d8dac2787b742a696": {
      "model_module": "@jupyter-widgets/controls",
      "model_module_version": "1.5.0",
      "model_name": "TextareaModel",
      "state": {
       "_dom_classes": [],
       "_model_module": "@jupyter-widgets/controls",
       "_model_module_version": "1.5.0",
       "_model_name": "TextareaModel",
       "_view_count": null,
       "_view_module": "@jupyter-widgets/controls",
       "_view_module_version": "1.5.0",
       "_view_name": "TextareaView",
       "continuous_update": true,
       "description": "Una descripción muy laaaarga:",
       "description_tooltip": null,
       "disabled": false,
       "layout": "IPY_MODEL_bbe5fcbaa00b47a182250709740de9f1",
       "placeholder": "Type something",
       "rows": null,
       "style": "IPY_MODEL_19a4156a4cf1429384d80d6f235a8ebd",
       "value": "1 2 3"
      }
     },
     "527e92fa295c4214b7c64d04826c9d91": {
      "model_module": "@jupyter-widgets/controls",
      "model_module_version": "1.5.0",
      "model_name": "TextModel",
      "state": {
       "_dom_classes": [],
       "_model_module": "@jupyter-widgets/controls",
       "_model_module_version": "1.5.0",
       "_model_name": "TextModel",
       "_view_count": null,
       "_view_module": "@jupyter-widgets/controls",
       "_view_module_version": "1.5.0",
       "_view_name": "TextView",
       "continuous_update": true,
       "description": "y",
       "description_tooltip": null,
       "disabled": false,
       "layout": "IPY_MODEL_151f7f879dc2421084a272084404d783",
       "placeholder": "​",
       "style": "IPY_MODEL_663df073aac54fc8970d5be760d9648f",
       "value": "1 2 3 4"
      }
     },
     "537cfa69b5fc49a88f2116a9711ed230": {
      "model_module": "@jupyter-widgets/base",
      "model_module_version": "1.2.0",
      "model_name": "LayoutModel",
      "state": {
       "_model_module": "@jupyter-widgets/base",
       "_model_module_version": "1.2.0",
       "_model_name": "LayoutModel",
       "_view_count": null,
       "_view_module": "@jupyter-widgets/base",
       "_view_module_version": "1.2.0",
       "_view_name": "LayoutView",
       "align_content": null,
       "align_items": null,
       "align_self": null,
       "border": null,
       "bottom": null,
       "display": null,
       "flex": null,
       "flex_flow": null,
       "grid_area": null,
       "grid_auto_columns": null,
       "grid_auto_flow": null,
       "grid_auto_rows": null,
       "grid_column": null,
       "grid_gap": null,
       "grid_row": null,
       "grid_template_areas": null,
       "grid_template_columns": null,
       "grid_template_rows": null,
       "height": null,
       "justify_content": null,
       "justify_items": null,
       "left": null,
       "margin": null,
       "max_height": null,
       "max_width": null,
       "min_height": null,
       "min_width": null,
       "object_fit": null,
       "object_position": null,
       "order": null,
       "overflow": null,
       "overflow_x": null,
       "overflow_y": null,
       "padding": null,
       "right": null,
       "top": null,
       "visibility": null,
       "width": null
      }
     },
     "56a3a2204e0e4da98fef6a6a01d8ea7e": {
      "model_module": "@jupyter-widgets/controls",
      "model_module_version": "1.5.0",
      "model_name": "DescriptionStyleModel",
      "state": {
       "_model_module": "@jupyter-widgets/controls",
       "_model_module_version": "1.5.0",
       "_model_name": "DescriptionStyleModel",
       "_view_count": null,
       "_view_module": "@jupyter-widgets/base",
       "_view_module_version": "1.2.0",
       "_view_name": "StyleView",
       "description_width": ""
      }
     },
     "58d93e1319074280938f0e41f962d406": {
      "model_module": "@jupyter-widgets/base",
      "model_module_version": "1.2.0",
      "model_name": "LayoutModel",
      "state": {
       "_model_module": "@jupyter-widgets/base",
       "_model_module_version": "1.2.0",
       "_model_name": "LayoutModel",
       "_view_count": null,
       "_view_module": "@jupyter-widgets/base",
       "_view_module_version": "1.2.0",
       "_view_name": "LayoutView",
       "align_content": null,
       "align_items": null,
       "align_self": null,
       "border": null,
       "bottom": null,
       "display": null,
       "flex": null,
       "flex_flow": null,
       "grid_area": null,
       "grid_auto_columns": null,
       "grid_auto_flow": null,
       "grid_auto_rows": null,
       "grid_column": null,
       "grid_gap": null,
       "grid_row": null,
       "grid_template_areas": null,
       "grid_template_columns": null,
       "grid_template_rows": null,
       "height": null,
       "justify_content": null,
       "justify_items": null,
       "left": null,
       "margin": null,
       "max_height": null,
       "max_width": null,
       "min_height": null,
       "min_width": null,
       "object_fit": null,
       "object_position": null,
       "order": null,
       "overflow": null,
       "overflow_x": null,
       "overflow_y": null,
       "padding": null,
       "right": null,
       "top": null,
       "visibility": null,
       "width": null
      }
     },
     "5a10792ca14c4ba498fb8fe95649b62f": {
      "model_module": "@jupyter-widgets/controls",
      "model_module_version": "1.5.0",
      "model_name": "TextModel",
      "state": {
       "_dom_classes": [],
       "_model_module": "@jupyter-widgets/controls",
       "_model_module_version": "1.5.0",
       "_model_name": "TextModel",
       "_view_count": null,
       "_view_module": "@jupyter-widgets/controls",
       "_view_module_version": "1.5.0",
       "_view_name": "TextView",
       "continuous_update": true,
       "description": "nf",
       "description_tooltip": null,
       "disabled": false,
       "layout": "IPY_MODEL_1e7a839cae3c4e898e85740e162c6348",
       "placeholder": "​",
       "style": "IPY_MODEL_cd563f2828a3462baf75711c2ee4a52d",
       "value": "(x-3)**2"
      }
     },
     "5bb4ed1ab6c540e496eaee68213823eb": {
      "model_module": "@jupyter-widgets/base",
      "model_module_version": "1.2.0",
      "model_name": "LayoutModel",
      "state": {
       "_model_module": "@jupyter-widgets/base",
       "_model_module_version": "1.2.0",
       "_model_name": "LayoutModel",
       "_view_count": null,
       "_view_module": "@jupyter-widgets/base",
       "_view_module_version": "1.2.0",
       "_view_name": "LayoutView",
       "align_content": null,
       "align_items": null,
       "align_self": null,
       "border": null,
       "bottom": null,
       "display": null,
       "flex": null,
       "flex_flow": null,
       "grid_area": null,
       "grid_auto_columns": null,
       "grid_auto_flow": null,
       "grid_auto_rows": null,
       "grid_column": null,
       "grid_gap": null,
       "grid_row": null,
       "grid_template_areas": null,
       "grid_template_columns": null,
       "grid_template_rows": null,
       "height": null,
       "justify_content": null,
       "justify_items": null,
       "left": null,
       "margin": null,
       "max_height": null,
       "max_width": null,
       "min_height": null,
       "min_width": null,
       "object_fit": null,
       "object_position": null,
       "order": null,
       "overflow": null,
       "overflow_x": null,
       "overflow_y": null,
       "padding": null,
       "right": null,
       "top": null,
       "visibility": null,
       "width": null
      }
     },
     "5d25641f489b4bd2971707bd486d4639": {
      "model_module": "@jupyter-widgets/base",
      "model_module_version": "1.2.0",
      "model_name": "LayoutModel",
      "state": {
       "_model_module": "@jupyter-widgets/base",
       "_model_module_version": "1.2.0",
       "_model_name": "LayoutModel",
       "_view_count": null,
       "_view_module": "@jupyter-widgets/base",
       "_view_module_version": "1.2.0",
       "_view_name": "LayoutView",
       "align_content": null,
       "align_items": null,
       "align_self": null,
       "border": null,
       "bottom": null,
       "display": null,
       "flex": null,
       "flex_flow": null,
       "grid_area": null,
       "grid_auto_columns": null,
       "grid_auto_flow": null,
       "grid_auto_rows": null,
       "grid_column": null,
       "grid_gap": null,
       "grid_row": null,
       "grid_template_areas": null,
       "grid_template_columns": null,
       "grid_template_rows": null,
       "height": null,
       "justify_content": null,
       "justify_items": null,
       "left": null,
       "margin": null,
       "max_height": null,
       "max_width": null,
       "min_height": null,
       "min_width": null,
       "object_fit": null,
       "object_position": null,
       "order": null,
       "overflow": null,
       "overflow_x": null,
       "overflow_y": null,
       "padding": null,
       "right": null,
       "top": null,
       "visibility": null,
       "width": null
      }
     },
     "663df073aac54fc8970d5be760d9648f": {
      "model_module": "@jupyter-widgets/controls",
      "model_module_version": "1.5.0",
      "model_name": "DescriptionStyleModel",
      "state": {
       "_model_module": "@jupyter-widgets/controls",
       "_model_module_version": "1.5.0",
       "_model_name": "DescriptionStyleModel",
       "_view_count": null,
       "_view_module": "@jupyter-widgets/base",
       "_view_module_version": "1.2.0",
       "_view_name": "StyleView",
       "description_width": ""
      }
     },
     "67091887a816460597f0c808a674dd7a": {
      "model_module": "@jupyter-widgets/controls",
      "model_module_version": "1.5.0",
      "model_name": "DescriptionStyleModel",
      "state": {
       "_model_module": "@jupyter-widgets/controls",
       "_model_module_version": "1.5.0",
       "_model_name": "DescriptionStyleModel",
       "_view_count": null,
       "_view_module": "@jupyter-widgets/base",
       "_view_module_version": "1.2.0",
       "_view_name": "StyleView",
       "description_width": ""
      }
     },
     "6ae54b6585a445a19944e8f5f7ad570d": {
      "model_module": "@jupyter-widgets/controls",
      "model_module_version": "1.5.0",
      "model_name": "DescriptionStyleModel",
      "state": {
       "_model_module": "@jupyter-widgets/controls",
       "_model_module_version": "1.5.0",
       "_model_name": "DescriptionStyleModel",
       "_view_count": null,
       "_view_module": "@jupyter-widgets/base",
       "_view_module_version": "1.2.0",
       "_view_name": "StyleView",
       "description_width": ""
      }
     },
     "6bb63a58c49a4d5b88c79fa581b6f0a1": {
      "model_module": "@jupyter-widgets/base",
      "model_module_version": "1.2.0",
      "model_name": "LayoutModel",
      "state": {
       "_model_module": "@jupyter-widgets/base",
       "_model_module_version": "1.2.0",
       "_model_name": "LayoutModel",
       "_view_count": null,
       "_view_module": "@jupyter-widgets/base",
       "_view_module_version": "1.2.0",
       "_view_name": "LayoutView",
       "align_content": null,
       "align_items": null,
       "align_self": null,
       "border": null,
       "bottom": null,
       "display": null,
       "flex": null,
       "flex_flow": null,
       "grid_area": null,
       "grid_auto_columns": null,
       "grid_auto_flow": null,
       "grid_auto_rows": null,
       "grid_column": null,
       "grid_gap": null,
       "grid_row": null,
       "grid_template_areas": null,
       "grid_template_columns": null,
       "grid_template_rows": null,
       "height": null,
       "justify_content": null,
       "justify_items": null,
       "left": null,
       "margin": null,
       "max_height": null,
       "max_width": null,
       "min_height": null,
       "min_width": null,
       "object_fit": null,
       "object_position": null,
       "order": null,
       "overflow": null,
       "overflow_x": null,
       "overflow_y": null,
       "padding": null,
       "right": null,
       "top": null,
       "visibility": null,
       "width": null
      }
     },
     "6fb8081aaefd438796363857825cf417": {
      "model_module": "@jupyter-widgets/base",
      "model_module_version": "1.2.0",
      "model_name": "LayoutModel",
      "state": {
       "_model_module": "@jupyter-widgets/base",
       "_model_module_version": "1.2.0",
       "_model_name": "LayoutModel",
       "_view_count": null,
       "_view_module": "@jupyter-widgets/base",
       "_view_module_version": "1.2.0",
       "_view_name": "LayoutView",
       "align_content": null,
       "align_items": null,
       "align_self": null,
       "border": null,
       "bottom": null,
       "display": null,
       "flex": null,
       "flex_flow": null,
       "grid_area": null,
       "grid_auto_columns": null,
       "grid_auto_flow": null,
       "grid_auto_rows": null,
       "grid_column": null,
       "grid_gap": null,
       "grid_row": null,
       "grid_template_areas": null,
       "grid_template_columns": null,
       "grid_template_rows": null,
       "height": null,
       "justify_content": null,
       "justify_items": null,
       "left": null,
       "margin": null,
       "max_height": null,
       "max_width": null,
       "min_height": null,
       "min_width": null,
       "object_fit": null,
       "object_position": null,
       "order": null,
       "overflow": null,
       "overflow_x": null,
       "overflow_y": null,
       "padding": null,
       "right": null,
       "top": null,
       "visibility": null,
       "width": null
      }
     },
     "70d38981dd914694a252b906c306fd47": {
      "model_module": "@jupyter-widgets/controls",
      "model_module_version": "1.5.0",
      "model_name": "SliderStyleModel",
      "state": {
       "_model_module": "@jupyter-widgets/controls",
       "_model_module_version": "1.5.0",
       "_model_name": "SliderStyleModel",
       "_view_count": null,
       "_view_module": "@jupyter-widgets/base",
       "_view_module_version": "1.2.0",
       "_view_name": "StyleView",
       "description_width": "",
       "handle_color": null
      }
     },
     "733efc27a1ab4c3f9e265a40c6cb1031": {
      "model_module": "@jupyter-widgets/base",
      "model_module_version": "1.2.0",
      "model_name": "LayoutModel",
      "state": {
       "_model_module": "@jupyter-widgets/base",
       "_model_module_version": "1.2.0",
       "_model_name": "LayoutModel",
       "_view_count": null,
       "_view_module": "@jupyter-widgets/base",
       "_view_module_version": "1.2.0",
       "_view_name": "LayoutView",
       "align_content": null,
       "align_items": null,
       "align_self": null,
       "border": null,
       "bottom": null,
       "display": null,
       "flex": null,
       "flex_flow": null,
       "grid_area": null,
       "grid_auto_columns": null,
       "grid_auto_flow": null,
       "grid_auto_rows": null,
       "grid_column": null,
       "grid_gap": null,
       "grid_row": null,
       "grid_template_areas": null,
       "grid_template_columns": null,
       "grid_template_rows": null,
       "height": null,
       "justify_content": null,
       "justify_items": null,
       "left": null,
       "margin": null,
       "max_height": null,
       "max_width": null,
       "min_height": null,
       "min_width": null,
       "object_fit": null,
       "object_position": null,
       "order": null,
       "overflow": null,
       "overflow_x": null,
       "overflow_y": null,
       "padding": null,
       "right": null,
       "top": null,
       "visibility": null,
       "width": null
      }
     },
     "77c88bb2ffe84519a6da4993b4656df5": {
      "model_module": "@jupyter-widgets/base",
      "model_module_version": "1.2.0",
      "model_name": "LayoutModel",
      "state": {
       "_model_module": "@jupyter-widgets/base",
       "_model_module_version": "1.2.0",
       "_model_name": "LayoutModel",
       "_view_count": null,
       "_view_module": "@jupyter-widgets/base",
       "_view_module_version": "1.2.0",
       "_view_name": "LayoutView",
       "align_content": null,
       "align_items": null,
       "align_self": null,
       "border": null,
       "bottom": null,
       "display": null,
       "flex": null,
       "flex_flow": null,
       "grid_area": null,
       "grid_auto_columns": null,
       "grid_auto_flow": null,
       "grid_auto_rows": null,
       "grid_column": null,
       "grid_gap": null,
       "grid_row": null,
       "grid_template_areas": null,
       "grid_template_columns": null,
       "grid_template_rows": null,
       "height": null,
       "justify_content": null,
       "justify_items": null,
       "left": null,
       "margin": null,
       "max_height": null,
       "max_width": null,
       "min_height": null,
       "min_width": null,
       "object_fit": null,
       "object_position": null,
       "order": null,
       "overflow": null,
       "overflow_x": null,
       "overflow_y": null,
       "padding": null,
       "right": null,
       "top": null,
       "visibility": null,
       "width": null
      }
     },
     "7d4f30d680864692b865dbba81690f8d": {
      "model_module": "@jupyter-widgets/controls",
      "model_module_version": "1.5.0",
      "model_name": "VBoxModel",
      "state": {
       "_dom_classes": [
        "widget-interact"
       ],
       "_model_module": "@jupyter-widgets/controls",
       "_model_module_version": "1.5.0",
       "_model_name": "VBoxModel",
       "_view_count": null,
       "_view_module": "@jupyter-widgets/controls",
       "_view_module_version": "1.5.0",
       "_view_name": "VBoxView",
       "box_style": "",
       "children": [
        "IPY_MODEL_e0e426f30a9448c6801bb2d92d48df36",
        "IPY_MODEL_21f6d97a9c8f4cecba6b920596a1d1c0"
       ],
       "layout": "IPY_MODEL_3d9265ca507f4babaa24b3777e4af6e9"
      }
     },
     "8076aad9d1b448b68ee2aed001f222f3": {
      "model_module": "@jupyter-widgets/base",
      "model_module_version": "1.2.0",
      "model_name": "LayoutModel",
      "state": {
       "_model_module": "@jupyter-widgets/base",
       "_model_module_version": "1.2.0",
       "_model_name": "LayoutModel",
       "_view_count": null,
       "_view_module": "@jupyter-widgets/base",
       "_view_module_version": "1.2.0",
       "_view_name": "LayoutView",
       "align_content": null,
       "align_items": null,
       "align_self": null,
       "border": null,
       "bottom": null,
       "display": null,
       "flex": null,
       "flex_flow": null,
       "grid_area": null,
       "grid_auto_columns": null,
       "grid_auto_flow": null,
       "grid_auto_rows": null,
       "grid_column": null,
       "grid_gap": null,
       "grid_row": null,
       "grid_template_areas": null,
       "grid_template_columns": null,
       "grid_template_rows": null,
       "height": null,
       "justify_content": null,
       "justify_items": null,
       "left": null,
       "margin": null,
       "max_height": null,
       "max_width": null,
       "min_height": null,
       "min_width": null,
       "object_fit": null,
       "object_position": null,
       "order": null,
       "overflow": null,
       "overflow_x": null,
       "overflow_y": null,
       "padding": null,
       "right": null,
       "top": null,
       "visibility": null,
       "width": null
      }
     },
     "819c0d7204d24b73b878860b0340bcb9": {
      "model_module": "@jupyter-widgets/output",
      "model_module_version": "1.0.0",
      "model_name": "OutputModel",
      "state": {
       "_dom_classes": [],
       "_model_module": "@jupyter-widgets/output",
       "_model_module_version": "1.0.0",
       "_model_name": "OutputModel",
       "_view_count": null,
       "_view_module": "@jupyter-widgets/output",
       "_view_module_version": "1.0.0",
       "_view_name": "OutputView",
       "layout": "IPY_MODEL_2abcfc1485b44818b383fa93e1767066",
       "msg_id": "",
       "outputs": [
        {
         "name": "stdout",
         "output_type": "stream",
         "text": "La media es 2.0\nLa mediana es 2.0\nLa varianza poblacional es 0.6666666666666666\nLa varianza muestral es 1.0\nLa desviación estándar poblacional es 0.816496580927726\nLa desviación estándar muestral es 1.0\n"
        }
       ]
      }
     },
     "8632bf62a367499093a9a98b062b1f79": {
      "model_module": "@jupyter-widgets/base",
      "model_module_version": "1.2.0",
      "model_name": "LayoutModel",
      "state": {
       "_model_module": "@jupyter-widgets/base",
       "_model_module_version": "1.2.0",
       "_model_name": "LayoutModel",
       "_view_count": null,
       "_view_module": "@jupyter-widgets/base",
       "_view_module_version": "1.2.0",
       "_view_name": "LayoutView",
       "align_content": null,
       "align_items": null,
       "align_self": null,
       "border": null,
       "bottom": null,
       "display": null,
       "flex": null,
       "flex_flow": null,
       "grid_area": null,
       "grid_auto_columns": null,
       "grid_auto_flow": null,
       "grid_auto_rows": null,
       "grid_column": null,
       "grid_gap": null,
       "grid_row": null,
       "grid_template_areas": null,
       "grid_template_columns": null,
       "grid_template_rows": null,
       "height": null,
       "justify_content": null,
       "justify_items": null,
       "left": null,
       "margin": null,
       "max_height": null,
       "max_width": null,
       "min_height": null,
       "min_width": null,
       "object_fit": null,
       "object_position": null,
       "order": null,
       "overflow": null,
       "overflow_x": null,
       "overflow_y": null,
       "padding": null,
       "right": null,
       "top": null,
       "visibility": null,
       "width": null
      }
     },
     "863b8df92be240908a1ec23a9873e3af": {
      "model_module": "@jupyter-widgets/output",
      "model_module_version": "1.0.0",
      "model_name": "OutputModel",
      "state": {
       "_dom_classes": [],
       "_model_module": "@jupyter-widgets/output",
       "_model_module_version": "1.0.0",
       "_model_name": "OutputModel",
       "_view_count": null,
       "_view_module": "@jupyter-widgets/output",
       "_view_module_version": "1.0.0",
       "_view_name": "OutputView",
       "layout": "IPY_MODEL_eaa45905db8c4ab1a26be3b3010206c0",
       "msg_id": "",
       "outputs": [
        {
         "name": "stdout",
         "output_type": "stream",
         "text": "Isaac es un nombre corto\n"
        },
        {
         "data": {
          "text/plain": "'corto'"
         },
         "metadata": {},
         "output_type": "display_data"
        }
       ]
      }
     },
     "88bb33077713442582f2d497b6ac4558": {
      "model_module": "@jupyter-widgets/controls",
      "model_module_version": "1.5.0",
      "model_name": "IntSliderModel",
      "state": {
       "_dom_classes": [],
       "_model_module": "@jupyter-widgets/controls",
       "_model_module_version": "1.5.0",
       "_model_name": "IntSliderModel",
       "_view_count": null,
       "_view_module": "@jupyter-widgets/controls",
       "_view_module_version": "1.5.0",
       "_view_name": "IntSliderView",
       "continuous_update": true,
       "description": "xmin",
       "description_tooltip": null,
       "disabled": false,
       "layout": "IPY_MODEL_99add737a9f04063bcf20e53d06ef22d",
       "max": 10,
       "min": -30,
       "orientation": "horizontal",
       "readout": true,
       "readout_format": "d",
       "step": 1,
       "style": "IPY_MODEL_8c7210fe186345b6b54d4a00bdeff20d",
       "value": -10
      }
     },
     "8c7210fe186345b6b54d4a00bdeff20d": {
      "model_module": "@jupyter-widgets/controls",
      "model_module_version": "1.5.0",
      "model_name": "SliderStyleModel",
      "state": {
       "_model_module": "@jupyter-widgets/controls",
       "_model_module_version": "1.5.0",
       "_model_name": "SliderStyleModel",
       "_view_count": null,
       "_view_module": "@jupyter-widgets/base",
       "_view_module_version": "1.2.0",
       "_view_name": "StyleView",
       "description_width": "",
       "handle_color": null
      }
     },
     "8e3bb678ae0c49f98fc819dd074ca4fd": {
      "model_module": "@jupyter-widgets/base",
      "model_module_version": "1.2.0",
      "model_name": "LayoutModel",
      "state": {
       "_model_module": "@jupyter-widgets/base",
       "_model_module_version": "1.2.0",
       "_model_name": "LayoutModel",
       "_view_count": null,
       "_view_module": "@jupyter-widgets/base",
       "_view_module_version": "1.2.0",
       "_view_name": "LayoutView",
       "align_content": null,
       "align_items": null,
       "align_self": null,
       "border": null,
       "bottom": null,
       "display": null,
       "flex": null,
       "flex_flow": null,
       "grid_area": null,
       "grid_auto_columns": null,
       "grid_auto_flow": null,
       "grid_auto_rows": null,
       "grid_column": null,
       "grid_gap": null,
       "grid_row": null,
       "grid_template_areas": null,
       "grid_template_columns": null,
       "grid_template_rows": null,
       "height": "80px",
       "justify_content": null,
       "justify_items": null,
       "left": null,
       "margin": null,
       "max_height": null,
       "max_width": null,
       "min_height": null,
       "min_width": null,
       "object_fit": null,
       "object_position": null,
       "order": null,
       "overflow": null,
       "overflow_x": null,
       "overflow_y": null,
       "padding": null,
       "right": null,
       "top": null,
       "visibility": null,
       "width": "auto"
      }
     },
     "93eb59855d9242ba92b8e32c9337ec51": {
      "model_module": "@jupyter-widgets/controls",
      "model_module_version": "1.5.0",
      "model_name": "DropdownModel",
      "state": {
       "_dom_classes": [],
       "_model_module": "@jupyter-widgets/controls",
       "_model_module_version": "1.5.0",
       "_model_name": "DropdownModel",
       "_options_labels": [
        "Hugo",
        "Paco",
        "Luis"
       ],
       "_view_count": null,
       "_view_module": "@jupyter-widgets/controls",
       "_view_module_version": "1.5.0",
       "_view_name": "DropdownView",
       "description": "y",
       "description_tooltip": null,
       "disabled": false,
       "index": 0,
       "layout": "IPY_MODEL_cff49036d2b34999b2b61a53fd6b0650",
       "style": "IPY_MODEL_f00c91392a8948bebe907a96e598c6d3"
      }
     },
     "94257f3518be4e1a88a5d1ad117d002f": {
      "model_module": "@jupyter-widgets/output",
      "model_module_version": "1.0.0",
      "model_name": "OutputModel",
      "state": {
       "_dom_classes": [],
       "_model_module": "@jupyter-widgets/output",
       "_model_module_version": "1.0.0",
       "_model_name": "OutputModel",
       "_view_count": null,
       "_view_module": "@jupyter-widgets/output",
       "_view_module_version": "1.0.0",
       "_view_name": "OutputView",
       "layout": "IPY_MODEL_5bb4ed1ab6c540e496eaee68213823eb",
       "msg_id": "",
       "outputs": []
      }
     },
     "9889c5f07d3040ad80678f128e68ba22": {
      "model_module": "@jupyter-widgets/base",
      "model_module_version": "1.2.0",
      "model_name": "LayoutModel",
      "state": {
       "_model_module": "@jupyter-widgets/base",
       "_model_module_version": "1.2.0",
       "_model_name": "LayoutModel",
       "_view_count": null,
       "_view_module": "@jupyter-widgets/base",
       "_view_module_version": "1.2.0",
       "_view_name": "LayoutView",
       "align_content": null,
       "align_items": null,
       "align_self": null,
       "border": null,
       "bottom": null,
       "display": null,
       "flex": null,
       "flex_flow": null,
       "grid_area": null,
       "grid_auto_columns": null,
       "grid_auto_flow": null,
       "grid_auto_rows": null,
       "grid_column": null,
       "grid_gap": null,
       "grid_row": null,
       "grid_template_areas": null,
       "grid_template_columns": null,
       "grid_template_rows": null,
       "height": null,
       "justify_content": null,
       "justify_items": null,
       "left": null,
       "margin": null,
       "max_height": null,
       "max_width": null,
       "min_height": null,
       "min_width": null,
       "object_fit": null,
       "object_position": null,
       "order": null,
       "overflow": null,
       "overflow_x": null,
       "overflow_y": null,
       "padding": null,
       "right": null,
       "top": null,
       "visibility": null,
       "width": null
      }
     },
     "99add737a9f04063bcf20e53d06ef22d": {
      "model_module": "@jupyter-widgets/base",
      "model_module_version": "1.2.0",
      "model_name": "LayoutModel",
      "state": {
       "_model_module": "@jupyter-widgets/base",
       "_model_module_version": "1.2.0",
       "_model_name": "LayoutModel",
       "_view_count": null,
       "_view_module": "@jupyter-widgets/base",
       "_view_module_version": "1.2.0",
       "_view_name": "LayoutView",
       "align_content": null,
       "align_items": null,
       "align_self": null,
       "border": null,
       "bottom": null,
       "display": null,
       "flex": null,
       "flex_flow": null,
       "grid_area": null,
       "grid_auto_columns": null,
       "grid_auto_flow": null,
       "grid_auto_rows": null,
       "grid_column": null,
       "grid_gap": null,
       "grid_row": null,
       "grid_template_areas": null,
       "grid_template_columns": null,
       "grid_template_rows": null,
       "height": null,
       "justify_content": null,
       "justify_items": null,
       "left": null,
       "margin": null,
       "max_height": null,
       "max_width": null,
       "min_height": null,
       "min_width": null,
       "object_fit": null,
       "object_position": null,
       "order": null,
       "overflow": null,
       "overflow_x": null,
       "overflow_y": null,
       "padding": null,
       "right": null,
       "top": null,
       "visibility": null,
       "width": null
      }
     },
     "9ab654237ea5486bb36870334189c441": {
      "model_module": "@jupyter-widgets/controls",
      "model_module_version": "1.5.0",
      "model_name": "SliderStyleModel",
      "state": {
       "_model_module": "@jupyter-widgets/controls",
       "_model_module_version": "1.5.0",
       "_model_name": "SliderStyleModel",
       "_view_count": null,
       "_view_module": "@jupyter-widgets/base",
       "_view_module_version": "1.2.0",
       "_view_name": "StyleView",
       "description_width": "",
       "handle_color": null
      }
     },
     "9c1458ea9fb54e6b9fa6a171254fec4e": {
      "model_module": "@jupyter-widgets/controls",
      "model_module_version": "1.5.0",
      "model_name": "IntTextModel",
      "state": {
       "_dom_classes": [],
       "_model_module": "@jupyter-widgets/controls",
       "_model_module_version": "1.5.0",
       "_model_name": "IntTextModel",
       "_view_count": null,
       "_view_module": "@jupyter-widgets/controls",
       "_view_module_version": "1.5.0",
       "_view_name": "IntTextView",
       "continuous_update": false,
       "description": "Gana:",
       "description_tooltip": null,
       "disabled": false,
       "layout": "IPY_MODEL_0aafaf510a1b4758b77895b8b44c2823",
       "step": 1,
       "style": "IPY_MODEL_b7d47e6ab0d5422b86f7a0c3d79dc9c0",
       "value": 1000
      }
     },
     "a097b560af82484fb75a9897cc8bc433": {
      "model_module": "@jupyter-widgets/base",
      "model_module_version": "1.2.0",
      "model_name": "LayoutModel",
      "state": {
       "_model_module": "@jupyter-widgets/base",
       "_model_module_version": "1.2.0",
       "_model_name": "LayoutModel",
       "_view_count": null,
       "_view_module": "@jupyter-widgets/base",
       "_view_module_version": "1.2.0",
       "_view_name": "LayoutView",
       "align_content": null,
       "align_items": null,
       "align_self": null,
       "border": null,
       "bottom": null,
       "display": null,
       "flex": null,
       "flex_flow": null,
       "grid_area": null,
       "grid_auto_columns": null,
       "grid_auto_flow": null,
       "grid_auto_rows": null,
       "grid_column": null,
       "grid_gap": null,
       "grid_row": null,
       "grid_template_areas": null,
       "grid_template_columns": null,
       "grid_template_rows": null,
       "height": null,
       "justify_content": null,
       "justify_items": null,
       "left": null,
       "margin": null,
       "max_height": null,
       "max_width": null,
       "min_height": null,
       "min_width": null,
       "object_fit": null,
       "object_position": null,
       "order": null,
       "overflow": null,
       "overflow_x": null,
       "overflow_y": null,
       "padding": null,
       "right": null,
       "top": null,
       "visibility": null,
       "width": null
      }
     },
     "a1a95ed595f7415392564a0dc5eeff51": {
      "model_module": "@jupyter-widgets/base",
      "model_module_version": "1.2.0",
      "model_name": "LayoutModel",
      "state": {
       "_model_module": "@jupyter-widgets/base",
       "_model_module_version": "1.2.0",
       "_model_name": "LayoutModel",
       "_view_count": null,
       "_view_module": "@jupyter-widgets/base",
       "_view_module_version": "1.2.0",
       "_view_name": "LayoutView",
       "align_content": null,
       "align_items": null,
       "align_self": null,
       "border": null,
       "bottom": null,
       "display": null,
       "flex": null,
       "flex_flow": null,
       "grid_area": null,
       "grid_auto_columns": null,
       "grid_auto_flow": null,
       "grid_auto_rows": null,
       "grid_column": null,
       "grid_gap": null,
       "grid_row": null,
       "grid_template_areas": null,
       "grid_template_columns": null,
       "grid_template_rows": null,
       "height": null,
       "justify_content": null,
       "justify_items": null,
       "left": null,
       "margin": null,
       "max_height": null,
       "max_width": null,
       "min_height": null,
       "min_width": null,
       "object_fit": null,
       "object_position": null,
       "order": null,
       "overflow": null,
       "overflow_x": null,
       "overflow_y": null,
       "padding": null,
       "right": null,
       "top": null,
       "visibility": null,
       "width": null
      }
     },
     "a265f31865af4c46bd70346098733573": {
      "model_module": "@jupyter-widgets/controls",
      "model_module_version": "1.5.0",
      "model_name": "DescriptionStyleModel",
      "state": {
       "_model_module": "@jupyter-widgets/controls",
       "_model_module_version": "1.5.0",
       "_model_name": "DescriptionStyleModel",
       "_view_count": null,
       "_view_module": "@jupyter-widgets/base",
       "_view_module_version": "1.2.0",
       "_view_name": "StyleView",
       "description_width": ""
      }
     },
     "a2e76390e21f40fe972191e883fb949d": {
      "model_module": "@jupyter-widgets/base",
      "model_module_version": "1.2.0",
      "model_name": "LayoutModel",
      "state": {
       "_model_module": "@jupyter-widgets/base",
       "_model_module_version": "1.2.0",
       "_model_name": "LayoutModel",
       "_view_count": null,
       "_view_module": "@jupyter-widgets/base",
       "_view_module_version": "1.2.0",
       "_view_name": "LayoutView",
       "align_content": null,
       "align_items": null,
       "align_self": null,
       "border": null,
       "bottom": null,
       "display": null,
       "flex": null,
       "flex_flow": null,
       "grid_area": null,
       "grid_auto_columns": null,
       "grid_auto_flow": null,
       "grid_auto_rows": null,
       "grid_column": null,
       "grid_gap": null,
       "grid_row": null,
       "grid_template_areas": null,
       "grid_template_columns": null,
       "grid_template_rows": null,
       "height": null,
       "justify_content": null,
       "justify_items": null,
       "left": null,
       "margin": null,
       "max_height": null,
       "max_width": null,
       "min_height": null,
       "min_width": null,
       "object_fit": null,
       "object_position": null,
       "order": null,
       "overflow": null,
       "overflow_x": null,
       "overflow_y": null,
       "padding": null,
       "right": null,
       "top": null,
       "visibility": null,
       "width": null
      }
     },
     "a41946fcd25247ad9a0ff8fe5f758f48": {
      "model_module": "@jupyter-widgets/controls",
      "model_module_version": "1.5.0",
      "model_name": "TextModel",
      "state": {
       "_dom_classes": [],
       "_model_module": "@jupyter-widgets/controls",
       "_model_module_version": "1.5.0",
       "_model_name": "TextModel",
       "_view_count": null,
       "_view_module": "@jupyter-widgets/controls",
       "_view_module_version": "1.5.0",
       "_view_name": "TextView",
       "continuous_update": true,
       "description": "x",
       "description_tooltip": null,
       "disabled": false,
       "layout": "IPY_MODEL_4f1a057d8f414ee1b543a01fc063d0e8",
       "placeholder": "​",
       "style": "IPY_MODEL_2df849240b644bbdbea8c474a4699c17",
       "value": "1 2 3 4"
      }
     },
     "a91f8b1bb9fb4d549f781cc1e4957177": {
      "model_module": "@jupyter-widgets/controls",
      "model_module_version": "1.5.0",
      "model_name": "VBoxModel",
      "state": {
       "_dom_classes": [
        "widget-interact"
       ],
       "_model_module": "@jupyter-widgets/controls",
       "_model_module_version": "1.5.0",
       "_model_name": "VBoxModel",
       "_view_count": null,
       "_view_module": "@jupyter-widgets/controls",
       "_view_module_version": "1.5.0",
       "_view_name": "VBoxView",
       "box_style": "",
       "children": [
        "IPY_MODEL_5a10792ca14c4ba498fb8fe95649b62f",
        "IPY_MODEL_88bb33077713442582f2d497b6ac4558",
        "IPY_MODEL_e97edc67f87f46f198221b8b0ed171d3",
        "IPY_MODEL_2391bb7bff44416a80d15222008dc08b",
        "IPY_MODEL_2fe569d2b3a74f809a4f4460b3b3c5c3",
        "IPY_MODEL_94257f3518be4e1a88a5d1ad117d002f"
       ],
       "layout": "IPY_MODEL_a93a72b278ae49b694fdce03f9f94693"
      }
     },
     "a93a72b278ae49b694fdce03f9f94693": {
      "model_module": "@jupyter-widgets/base",
      "model_module_version": "1.2.0",
      "model_name": "LayoutModel",
      "state": {
       "_model_module": "@jupyter-widgets/base",
       "_model_module_version": "1.2.0",
       "_model_name": "LayoutModel",
       "_view_count": null,
       "_view_module": "@jupyter-widgets/base",
       "_view_module_version": "1.2.0",
       "_view_name": "LayoutView",
       "align_content": null,
       "align_items": null,
       "align_self": null,
       "border": null,
       "bottom": null,
       "display": null,
       "flex": null,
       "flex_flow": null,
       "grid_area": null,
       "grid_auto_columns": null,
       "grid_auto_flow": null,
       "grid_auto_rows": null,
       "grid_column": null,
       "grid_gap": null,
       "grid_row": null,
       "grid_template_areas": null,
       "grid_template_columns": null,
       "grid_template_rows": null,
       "height": null,
       "justify_content": null,
       "justify_items": null,
       "left": null,
       "margin": null,
       "max_height": null,
       "max_width": null,
       "min_height": null,
       "min_width": null,
       "object_fit": null,
       "object_position": null,
       "order": null,
       "overflow": null,
       "overflow_x": null,
       "overflow_y": null,
       "padding": null,
       "right": null,
       "top": null,
       "visibility": null,
       "width": null
      }
     },
     "aa3f09aa647f42c092bd1386fce922aa": {
      "model_module": "@jupyter-widgets/controls",
      "model_module_version": "1.5.0",
      "model_name": "DescriptionStyleModel",
      "state": {
       "_model_module": "@jupyter-widgets/controls",
       "_model_module_version": "1.5.0",
       "_model_name": "DescriptionStyleModel",
       "_view_count": null,
       "_view_module": "@jupyter-widgets/base",
       "_view_module_version": "1.2.0",
       "_view_name": "StyleView",
       "description_width": ""
      }
     },
     "adc54f0db68d4bf69df4271797fd36ee": {
      "model_module": "@jupyter-widgets/controls",
      "model_module_version": "1.5.0",
      "model_name": "VBoxModel",
      "state": {
       "_dom_classes": [
        "widget-interact"
       ],
       "_model_module": "@jupyter-widgets/controls",
       "_model_module_version": "1.5.0",
       "_model_name": "VBoxModel",
       "_view_count": null,
       "_view_module": "@jupyter-widgets/controls",
       "_view_module_version": "1.5.0",
       "_view_name": "VBoxView",
       "box_style": "",
       "children": [
        "IPY_MODEL_c578cd775b4f4359a4b32fbd30e6748e",
        "IPY_MODEL_e6d8cc331f8d491fb946342bdaa86dd9"
       ],
       "layout": "IPY_MODEL_733efc27a1ab4c3f9e265a40c6cb1031"
      }
     },
     "aef7799a11004fdc871fff85d226816e": {
      "model_module": "@jupyter-widgets/base",
      "model_module_version": "1.2.0",
      "model_name": "LayoutModel",
      "state": {
       "_model_module": "@jupyter-widgets/base",
       "_model_module_version": "1.2.0",
       "_model_name": "LayoutModel",
       "_view_count": null,
       "_view_module": "@jupyter-widgets/base",
       "_view_module_version": "1.2.0",
       "_view_name": "LayoutView",
       "align_content": null,
       "align_items": null,
       "align_self": null,
       "border": null,
       "bottom": null,
       "display": null,
       "flex": null,
       "flex_flow": null,
       "grid_area": null,
       "grid_auto_columns": null,
       "grid_auto_flow": null,
       "grid_auto_rows": null,
       "grid_column": null,
       "grid_gap": null,
       "grid_row": null,
       "grid_template_areas": null,
       "grid_template_columns": null,
       "grid_template_rows": null,
       "height": null,
       "justify_content": null,
       "justify_items": null,
       "left": null,
       "margin": null,
       "max_height": null,
       "max_width": null,
       "min_height": null,
       "min_width": null,
       "object_fit": null,
       "object_position": null,
       "order": null,
       "overflow": null,
       "overflow_x": null,
       "overflow_y": null,
       "padding": null,
       "right": null,
       "top": null,
       "visibility": null,
       "width": null
      }
     },
     "b0ca7a2536b74a23ae949b6fd4228b8c": {
      "model_module": "@jupyter-widgets/base",
      "model_module_version": "1.2.0",
      "model_name": "LayoutModel",
      "state": {
       "_model_module": "@jupyter-widgets/base",
       "_model_module_version": "1.2.0",
       "_model_name": "LayoutModel",
       "_view_count": null,
       "_view_module": "@jupyter-widgets/base",
       "_view_module_version": "1.2.0",
       "_view_name": "LayoutView",
       "align_content": null,
       "align_items": null,
       "align_self": null,
       "border": null,
       "bottom": null,
       "display": null,
       "flex": null,
       "flex_flow": null,
       "grid_area": null,
       "grid_auto_columns": null,
       "grid_auto_flow": null,
       "grid_auto_rows": null,
       "grid_column": null,
       "grid_gap": null,
       "grid_row": null,
       "grid_template_areas": null,
       "grid_template_columns": null,
       "grid_template_rows": null,
       "height": null,
       "justify_content": null,
       "justify_items": null,
       "left": null,
       "margin": null,
       "max_height": null,
       "max_width": null,
       "min_height": null,
       "min_width": null,
       "object_fit": null,
       "object_position": null,
       "order": null,
       "overflow": null,
       "overflow_x": null,
       "overflow_y": null,
       "padding": null,
       "right": null,
       "top": null,
       "visibility": null,
       "width": null
      }
     },
     "b32ffb8bd8ab47f79cfaebf759302437": {
      "model_module": "@jupyter-widgets/controls",
      "model_module_version": "1.5.0",
      "model_name": "SliderStyleModel",
      "state": {
       "_model_module": "@jupyter-widgets/controls",
       "_model_module_version": "1.5.0",
       "_model_name": "SliderStyleModel",
       "_view_count": null,
       "_view_module": "@jupyter-widgets/base",
       "_view_module_version": "1.2.0",
       "_view_name": "StyleView",
       "description_width": "",
       "handle_color": null
      }
     },
     "b63339f787dc43c79db01d6f5c438f02": {
      "model_module": "@jupyter-widgets/controls",
      "model_module_version": "1.5.0",
      "model_name": "SliderStyleModel",
      "state": {
       "_model_module": "@jupyter-widgets/controls",
       "_model_module_version": "1.5.0",
       "_model_name": "SliderStyleModel",
       "_view_count": null,
       "_view_module": "@jupyter-widgets/base",
       "_view_module_version": "1.2.0",
       "_view_name": "StyleView",
       "description_width": "",
       "handle_color": null
      }
     },
     "b693abf379654cdc8127423082a40af4": {
      "model_module": "@jupyter-widgets/base",
      "model_module_version": "1.2.0",
      "model_name": "LayoutModel",
      "state": {
       "_model_module": "@jupyter-widgets/base",
       "_model_module_version": "1.2.0",
       "_model_name": "LayoutModel",
       "_view_count": null,
       "_view_module": "@jupyter-widgets/base",
       "_view_module_version": "1.2.0",
       "_view_name": "LayoutView",
       "align_content": null,
       "align_items": null,
       "align_self": null,
       "border": null,
       "bottom": null,
       "display": null,
       "flex": null,
       "flex_flow": null,
       "grid_area": null,
       "grid_auto_columns": null,
       "grid_auto_flow": null,
       "grid_auto_rows": null,
       "grid_column": null,
       "grid_gap": null,
       "grid_row": null,
       "grid_template_areas": null,
       "grid_template_columns": null,
       "grid_template_rows": null,
       "height": null,
       "justify_content": null,
       "justify_items": null,
       "left": null,
       "margin": null,
       "max_height": null,
       "max_width": null,
       "min_height": null,
       "min_width": null,
       "object_fit": null,
       "object_position": null,
       "order": null,
       "overflow": null,
       "overflow_x": null,
       "overflow_y": null,
       "padding": null,
       "right": null,
       "top": null,
       "visibility": null,
       "width": null
      }
     },
     "b7d47e6ab0d5422b86f7a0c3d79dc9c0": {
      "model_module": "@jupyter-widgets/controls",
      "model_module_version": "1.5.0",
      "model_name": "DescriptionStyleModel",
      "state": {
       "_model_module": "@jupyter-widgets/controls",
       "_model_module_version": "1.5.0",
       "_model_name": "DescriptionStyleModel",
       "_view_count": null,
       "_view_module": "@jupyter-widgets/base",
       "_view_module_version": "1.2.0",
       "_view_name": "StyleView",
       "description_width": ""
      }
     },
     "bbe5fcbaa00b47a182250709740de9f1": {
      "model_module": "@jupyter-widgets/base",
      "model_module_version": "1.2.0",
      "model_name": "LayoutModel",
      "state": {
       "_model_module": "@jupyter-widgets/base",
       "_model_module_version": "1.2.0",
       "_model_name": "LayoutModel",
       "_view_count": null,
       "_view_module": "@jupyter-widgets/base",
       "_view_module_version": "1.2.0",
       "_view_name": "LayoutView",
       "align_content": null,
       "align_items": null,
       "align_self": null,
       "border": null,
       "bottom": null,
       "display": null,
       "flex": null,
       "flex_flow": null,
       "grid_area": null,
       "grid_auto_columns": null,
       "grid_auto_flow": null,
       "grid_auto_rows": null,
       "grid_column": null,
       "grid_gap": null,
       "grid_row": null,
       "grid_template_areas": null,
       "grid_template_columns": null,
       "grid_template_rows": null,
       "height": "80px",
       "justify_content": null,
       "justify_items": null,
       "left": null,
       "margin": null,
       "max_height": null,
       "max_width": null,
       "min_height": null,
       "min_width": null,
       "object_fit": null,
       "object_position": null,
       "order": null,
       "overflow": null,
       "overflow_x": null,
       "overflow_y": null,
       "padding": null,
       "right": null,
       "top": null,
       "visibility": null,
       "width": "auto"
      }
     },
     "c226dff4850b497facd84c995ebcbc5d": {
      "model_module": "@jupyter-widgets/controls",
      "model_module_version": "1.5.0",
      "model_name": "TextModel",
      "state": {
       "_dom_classes": [],
       "_model_module": "@jupyter-widgets/controls",
       "_model_module_version": "1.5.0",
       "_model_name": "TextModel",
       "_view_count": null,
       "_view_module": "@jupyter-widgets/controls",
       "_view_module_version": "1.5.0",
       "_view_name": "TextView",
       "continuous_update": true,
       "description": "t",
       "description_tooltip": null,
       "disabled": false,
       "layout": "IPY_MODEL_48f818beb0294cf0a661422a9a429ef7",
       "placeholder": "​",
       "style": "IPY_MODEL_6ae54b6585a445a19944e8f5f7ad570d",
       "value": "Isaac"
      }
     },
     "c29c6ced78164698a75ef3a7f366e4bf": {
      "model_module": "@jupyter-widgets/base",
      "model_module_version": "1.2.0",
      "model_name": "LayoutModel",
      "state": {
       "_model_module": "@jupyter-widgets/base",
       "_model_module_version": "1.2.0",
       "_model_name": "LayoutModel",
       "_view_count": null,
       "_view_module": "@jupyter-widgets/base",
       "_view_module_version": "1.2.0",
       "_view_name": "LayoutView",
       "align_content": null,
       "align_items": null,
       "align_self": null,
       "border": null,
       "bottom": null,
       "display": null,
       "flex": null,
       "flex_flow": null,
       "grid_area": null,
       "grid_auto_columns": null,
       "grid_auto_flow": null,
       "grid_auto_rows": null,
       "grid_column": null,
       "grid_gap": null,
       "grid_row": null,
       "grid_template_areas": null,
       "grid_template_columns": null,
       "grid_template_rows": null,
       "height": null,
       "justify_content": null,
       "justify_items": null,
       "left": null,
       "margin": null,
       "max_height": null,
       "max_width": null,
       "min_height": null,
       "min_width": null,
       "object_fit": null,
       "object_position": null,
       "order": null,
       "overflow": null,
       "overflow_x": null,
       "overflow_y": null,
       "padding": null,
       "right": null,
       "top": null,
       "visibility": null,
       "width": null
      }
     },
     "c578cd775b4f4359a4b32fbd30e6748e": {
      "model_module": "@jupyter-widgets/controls",
      "model_module_version": "1.5.0",
      "model_name": "DropdownModel",
      "state": {
       "_dom_classes": [],
       "_model_module": "@jupyter-widgets/controls",
       "_model_module_version": "1.5.0",
       "_model_name": "DropdownModel",
       "_options_labels": [
        "sin(x)",
        "cos(x)",
        "tan(x)"
       ],
       "_view_count": null,
       "_view_module": "@jupyter-widgets/controls",
       "_view_module_version": "1.5.0",
       "_view_name": "DropdownView",
       "description": "t",
       "description_tooltip": null,
       "disabled": false,
       "index": 0,
       "layout": "IPY_MODEL_77c88bb2ffe84519a6da4993b4656df5",
       "style": "IPY_MODEL_67091887a816460597f0c808a674dd7a"
      }
     },
     "c68f4b9a06d54589a148d1242217b72e": {
      "model_module": "@jupyter-widgets/controls",
      "model_module_version": "1.5.0",
      "model_name": "TextareaModel",
      "state": {
       "_dom_classes": [],
       "_model_module": "@jupyter-widgets/controls",
       "_model_module_version": "1.5.0",
       "_model_name": "TextareaModel",
       "_view_count": null,
       "_view_module": "@jupyter-widgets/controls",
       "_view_module_version": "1.5.0",
       "_view_name": "TextareaView",
       "continuous_update": true,
       "description": "Una descripción muy laaaarga:",
       "description_tooltip": null,
       "disabled": false,
       "layout": "IPY_MODEL_1bd2547bb3824b2f92e722e235935e73",
       "placeholder": "Type something",
       "rows": null,
       "style": "IPY_MODEL_c8e90e81c5744910ad7577d16b94cbac",
       "value": "Hello World"
      }
     },
     "c8e90e81c5744910ad7577d16b94cbac": {
      "model_module": "@jupyter-widgets/controls",
      "model_module_version": "1.5.0",
      "model_name": "DescriptionStyleModel",
      "state": {
       "_model_module": "@jupyter-widgets/controls",
       "_model_module_version": "1.5.0",
       "_model_name": "DescriptionStyleModel",
       "_view_count": null,
       "_view_module": "@jupyter-widgets/base",
       "_view_module_version": "1.2.0",
       "_view_name": "StyleView",
       "description_width": ""
      }
     },
     "caefe4ec52f540a29b16dfcaa09da480": {
      "model_module": "@jupyter-widgets/controls",
      "model_module_version": "1.5.0",
      "model_name": "VBoxModel",
      "state": {
       "_dom_classes": [
        "widget-interact"
       ],
       "_model_module": "@jupyter-widgets/controls",
       "_model_module_version": "1.5.0",
       "_model_name": "VBoxModel",
       "_view_count": null,
       "_view_module": "@jupyter-widgets/controls",
       "_view_module_version": "1.5.0",
       "_view_name": "VBoxView",
       "box_style": "",
       "children": [
        "IPY_MODEL_39d98f85f98746b0b946f0dd64399371",
        "IPY_MODEL_2fb90969348141e792a11305392ff581"
       ],
       "layout": "IPY_MODEL_04ac6fc5d71845a0a2a0d815a5e48ce3"
      }
     },
     "cd563f2828a3462baf75711c2ee4a52d": {
      "model_module": "@jupyter-widgets/controls",
      "model_module_version": "1.5.0",
      "model_name": "DescriptionStyleModel",
      "state": {
       "_model_module": "@jupyter-widgets/controls",
       "_model_module_version": "1.5.0",
       "_model_name": "DescriptionStyleModel",
       "_view_count": null,
       "_view_module": "@jupyter-widgets/base",
       "_view_module_version": "1.2.0",
       "_view_name": "StyleView",
       "description_width": ""
      }
     },
     "cda1a810756f4583af6f486b4656d52e": {
      "model_module": "@jupyter-widgets/controls",
      "model_module_version": "1.5.0",
      "model_name": "DescriptionStyleModel",
      "state": {
       "_model_module": "@jupyter-widgets/controls",
       "_model_module_version": "1.5.0",
       "_model_name": "DescriptionStyleModel",
       "_view_count": null,
       "_view_module": "@jupyter-widgets/base",
       "_view_module_version": "1.2.0",
       "_view_name": "StyleView",
       "description_width": ""
      }
     },
     "cff49036d2b34999b2b61a53fd6b0650": {
      "model_module": "@jupyter-widgets/base",
      "model_module_version": "1.2.0",
      "model_name": "LayoutModel",
      "state": {
       "_model_module": "@jupyter-widgets/base",
       "_model_module_version": "1.2.0",
       "_model_name": "LayoutModel",
       "_view_count": null,
       "_view_module": "@jupyter-widgets/base",
       "_view_module_version": "1.2.0",
       "_view_name": "LayoutView",
       "align_content": null,
       "align_items": null,
       "align_self": null,
       "border": null,
       "bottom": null,
       "display": null,
       "flex": null,
       "flex_flow": null,
       "grid_area": null,
       "grid_auto_columns": null,
       "grid_auto_flow": null,
       "grid_auto_rows": null,
       "grid_column": null,
       "grid_gap": null,
       "grid_row": null,
       "grid_template_areas": null,
       "grid_template_columns": null,
       "grid_template_rows": null,
       "height": null,
       "justify_content": null,
       "justify_items": null,
       "left": null,
       "margin": null,
       "max_height": null,
       "max_width": null,
       "min_height": null,
       "min_width": null,
       "object_fit": null,
       "object_position": null,
       "order": null,
       "overflow": null,
       "overflow_x": null,
       "overflow_y": null,
       "padding": null,
       "right": null,
       "top": null,
       "visibility": null,
       "width": null
      }
     },
     "d1ef108935bc4952bf7079099f4e3e70": {
      "model_module": "@jupyter-widgets/controls",
      "model_module_version": "1.5.0",
      "model_name": "VBoxModel",
      "state": {
       "_dom_classes": [
        "widget-interact"
       ],
       "_model_module": "@jupyter-widgets/controls",
       "_model_module_version": "1.5.0",
       "_model_name": "VBoxModel",
       "_view_count": null,
       "_view_module": "@jupyter-widgets/controls",
       "_view_module_version": "1.5.0",
       "_view_name": "VBoxView",
       "box_style": "",
       "children": [
        "IPY_MODEL_a41946fcd25247ad9a0ff8fe5f758f48",
        "IPY_MODEL_527e92fa295c4214b7c64d04826c9d91",
        "IPY_MODEL_3e56863b8b6c4a3ea9b85388c139a984"
       ],
       "layout": "IPY_MODEL_6fb8081aaefd438796363857825cf417"
      }
     },
     "d29591871db24f778f9ff10fdd1eb851": {
      "model_module": "@jupyter-widgets/controls",
      "model_module_version": "1.5.0",
      "model_name": "TextModel",
      "state": {
       "_dom_classes": [],
       "_model_module": "@jupyter-widgets/controls",
       "_model_module_version": "1.5.0",
       "_model_name": "TextModel",
       "_view_count": null,
       "_view_module": "@jupyter-widgets/controls",
       "_view_module_version": "1.5.0",
       "_view_name": "TextView",
       "continuous_update": true,
       "description": "x",
       "description_tooltip": null,
       "disabled": false,
       "layout": "IPY_MODEL_c29c6ced78164698a75ef3a7f366e4bf",
       "placeholder": "​",
       "style": "IPY_MODEL_ed76f77e793041a9a09209649ae978f6",
       "value": "1 2 3"
      }
     },
     "d305de2d350a4c2892ce22406c319dc2": {
      "model_module": "@jupyter-widgets/output",
      "model_module_version": "1.0.0",
      "model_name": "OutputModel",
      "state": {
       "_dom_classes": [],
       "_model_module": "@jupyter-widgets/output",
       "_model_module_version": "1.0.0",
       "_model_name": "OutputModel",
       "_view_count": null,
       "_view_module": "@jupyter-widgets/output",
       "_view_module_version": "1.0.0",
       "_view_name": "OutputView",
       "layout": "IPY_MODEL_9889c5f07d3040ad80678f128e68ba22",
       "msg_id": "",
       "outputs": []
      }
     },
     "d499f9b456534a89b53aebe56c4208b7": {
      "model_module": "@jupyter-widgets/output",
      "model_module_version": "1.0.0",
      "model_name": "OutputModel",
      "state": {
       "_dom_classes": [],
       "_model_module": "@jupyter-widgets/output",
       "_model_module_version": "1.0.0",
       "_model_name": "OutputModel",
       "_view_count": null,
       "_view_module": "@jupyter-widgets/output",
       "_view_module_version": "1.0.0",
       "_view_name": "OutputView",
       "layout": "IPY_MODEL_dcb76019c69c494fb97246fdaba84507",
       "msg_id": "",
       "outputs": [
        {
         "data": {
          "image/png": "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\n",
          "text/plain": "<Figure size 432x288 with 1 Axes>"
         },
         "metadata": {
          "needs_background": "light"
         },
         "output_type": "display_data"
        }
       ]
      }
     },
     "d4a1bf7f359744a7b12e3d6fc948a3d9": {
      "model_module": "@jupyter-widgets/output",
      "model_module_version": "1.0.0",
      "model_name": "OutputModel",
      "state": {
       "_dom_classes": [],
       "_model_module": "@jupyter-widgets/output",
       "_model_module_version": "1.0.0",
       "_model_name": "OutputModel",
       "_view_count": null,
       "_view_module": "@jupyter-widgets/output",
       "_view_module_version": "1.0.0",
       "_view_name": "OutputView",
       "layout": "IPY_MODEL_eebe3eb9a9534fad99eeefdae9952627",
       "msg_id": "",
       "outputs": [
        {
         "data": {
          "text/plain": "7"
         },
         "metadata": {},
         "output_type": "display_data"
        }
       ]
      }
     },
     "d6c74759e7824bc791be0a9101c75f99": {
      "model_module": "@jupyter-widgets/base",
      "model_module_version": "1.2.0",
      "model_name": "LayoutModel",
      "state": {
       "_model_module": "@jupyter-widgets/base",
       "_model_module_version": "1.2.0",
       "_model_name": "LayoutModel",
       "_view_count": null,
       "_view_module": "@jupyter-widgets/base",
       "_view_module_version": "1.2.0",
       "_view_name": "LayoutView",
       "align_content": null,
       "align_items": null,
       "align_self": null,
       "border": null,
       "bottom": null,
       "display": null,
       "flex": null,
       "flex_flow": null,
       "grid_area": null,
       "grid_auto_columns": null,
       "grid_auto_flow": null,
       "grid_auto_rows": null,
       "grid_column": null,
       "grid_gap": null,
       "grid_row": null,
       "grid_template_areas": null,
       "grid_template_columns": null,
       "grid_template_rows": null,
       "height": null,
       "justify_content": null,
       "justify_items": null,
       "left": null,
       "margin": null,
       "max_height": null,
       "max_width": null,
       "min_height": null,
       "min_width": null,
       "object_fit": null,
       "object_position": null,
       "order": null,
       "overflow": null,
       "overflow_x": null,
       "overflow_y": null,
       "padding": null,
       "right": null,
       "top": null,
       "visibility": null,
       "width": null
      }
     },
     "dcb76019c69c494fb97246fdaba84507": {
      "model_module": "@jupyter-widgets/base",
      "model_module_version": "1.2.0",
      "model_name": "LayoutModel",
      "state": {
       "_model_module": "@jupyter-widgets/base",
       "_model_module_version": "1.2.0",
       "_model_name": "LayoutModel",
       "_view_count": null,
       "_view_module": "@jupyter-widgets/base",
       "_view_module_version": "1.2.0",
       "_view_name": "LayoutView",
       "align_content": null,
       "align_items": null,
       "align_self": null,
       "border": null,
       "bottom": null,
       "display": null,
       "flex": null,
       "flex_flow": null,
       "grid_area": null,
       "grid_auto_columns": null,
       "grid_auto_flow": null,
       "grid_auto_rows": null,
       "grid_column": null,
       "grid_gap": null,
       "grid_row": null,
       "grid_template_areas": null,
       "grid_template_columns": null,
       "grid_template_rows": null,
       "height": null,
       "justify_content": null,
       "justify_items": null,
       "left": null,
       "margin": null,
       "max_height": null,
       "max_width": null,
       "min_height": null,
       "min_width": null,
       "object_fit": null,
       "object_position": null,
       "order": null,
       "overflow": null,
       "overflow_x": null,
       "overflow_y": null,
       "padding": null,
       "right": null,
       "top": null,
       "visibility": null,
       "width": null
      }
     },
     "de1f65fbd8a34283a1cdaef21a9c49d9": {
      "model_module": "@jupyter-widgets/controls",
      "model_module_version": "1.5.0",
      "model_name": "IntTextModel",
      "state": {
       "_dom_classes": [],
       "_model_module": "@jupyter-widgets/controls",
       "_model_module_version": "1.5.0",
       "_model_name": "IntTextModel",
       "_view_count": null,
       "_view_module": "@jupyter-widgets/controls",
       "_view_module_version": "1.5.0",
       "_view_name": "IntTextView",
       "continuous_update": false,
       "description": "Escriba un número: ",
       "description_tooltip": null,
       "disabled": false,
       "layout": "IPY_MODEL_23549a85609440d3b1479a058e3cb7a1",
       "step": 1,
       "style": "IPY_MODEL_aa3f09aa647f42c092bd1386fce922aa",
       "value": 7
      }
     },
     "dfcbb9094ede4c568b2f9a88f26462ba": {
      "model_module": "@jupyter-widgets/controls",
      "model_module_version": "1.5.0",
      "model_name": "VBoxModel",
      "state": {
       "_dom_classes": [
        "widget-interact"
       ],
       "_model_module": "@jupyter-widgets/controls",
       "_model_module_version": "1.5.0",
       "_model_name": "VBoxModel",
       "_view_count": null,
       "_view_module": "@jupyter-widgets/controls",
       "_view_module_version": "1.5.0",
       "_view_name": "VBoxView",
       "box_style": "",
       "children": [
        "IPY_MODEL_de1f65fbd8a34283a1cdaef21a9c49d9",
        "IPY_MODEL_d4a1bf7f359744a7b12e3d6fc948a3d9"
       ],
       "layout": "IPY_MODEL_8632bf62a367499093a9a98b062b1f79"
      }
     },
     "e0c1e564963f444d9a8f1e6924919259": {
      "model_module": "@jupyter-widgets/base",
      "model_module_version": "1.2.0",
      "model_name": "LayoutModel",
      "state": {
       "_model_module": "@jupyter-widgets/base",
       "_model_module_version": "1.2.0",
       "_model_name": "LayoutModel",
       "_view_count": null,
       "_view_module": "@jupyter-widgets/base",
       "_view_module_version": "1.2.0",
       "_view_name": "LayoutView",
       "align_content": null,
       "align_items": null,
       "align_self": null,
       "border": null,
       "bottom": null,
       "display": null,
       "flex": null,
       "flex_flow": null,
       "grid_area": null,
       "grid_auto_columns": null,
       "grid_auto_flow": null,
       "grid_auto_rows": null,
       "grid_column": null,
       "grid_gap": null,
       "grid_row": null,
       "grid_template_areas": null,
       "grid_template_columns": null,
       "grid_template_rows": null,
       "height": null,
       "justify_content": null,
       "justify_items": null,
       "left": null,
       "margin": null,
       "max_height": null,
       "max_width": null,
       "min_height": null,
       "min_width": null,
       "object_fit": null,
       "object_position": null,
       "order": null,
       "overflow": null,
       "overflow_x": null,
       "overflow_y": null,
       "padding": null,
       "right": null,
       "top": null,
       "visibility": null,
       "width": null
      }
     },
     "e0e426f30a9448c6801bb2d92d48df36": {
      "model_module": "@jupyter-widgets/controls",
      "model_module_version": "1.5.0",
      "model_name": "DropdownModel",
      "state": {
       "_dom_classes": [],
       "_model_module": "@jupyter-widgets/controls",
       "_model_module_version": "1.5.0",
       "_model_name": "DropdownModel",
       "_options_labels": [
        "-",
        "->",
        "-[",
        "|-|",
        "-|>",
        "fancy",
        "simple",
        "wedge"
       ],
       "_view_count": null,
       "_view_module": "@jupyter-widgets/controls",
       "_view_module_version": "1.5.0",
       "_view_name": "DropdownView",
       "description": "l",
       "description_tooltip": null,
       "disabled": false,
       "index": 0,
       "layout": "IPY_MODEL_ffef371e69a8477d8640bc99f0068da5",
       "style": "IPY_MODEL_56a3a2204e0e4da98fef6a6a01d8ea7e"
      }
     },
     "e43e5a1668c74b9e92ec1e924f62aa2c": {
      "model_module": "@jupyter-widgets/base",
      "model_module_version": "1.2.0",
      "model_name": "LayoutModel",
      "state": {
       "_model_module": "@jupyter-widgets/base",
       "_model_module_version": "1.2.0",
       "_model_name": "LayoutModel",
       "_view_count": null,
       "_view_module": "@jupyter-widgets/base",
       "_view_module_version": "1.2.0",
       "_view_name": "LayoutView",
       "align_content": null,
       "align_items": null,
       "align_self": null,
       "border": null,
       "bottom": null,
       "display": null,
       "flex": null,
       "flex_flow": null,
       "grid_area": null,
       "grid_auto_columns": null,
       "grid_auto_flow": null,
       "grid_auto_rows": null,
       "grid_column": null,
       "grid_gap": null,
       "grid_row": null,
       "grid_template_areas": null,
       "grid_template_columns": null,
       "grid_template_rows": null,
       "height": null,
       "justify_content": null,
       "justify_items": null,
       "left": null,
       "margin": null,
       "max_height": null,
       "max_width": null,
       "min_height": null,
       "min_width": null,
       "object_fit": null,
       "object_position": null,
       "order": null,
       "overflow": null,
       "overflow_x": null,
       "overflow_y": null,
       "padding": null,
       "right": null,
       "top": null,
       "visibility": null,
       "width": null
      }
     },
     "e485aeea74f548c6a5c6a781d5b36207": {
      "model_module": "@jupyter-widgets/base",
      "model_module_version": "1.2.0",
      "model_name": "LayoutModel",
      "state": {
       "_model_module": "@jupyter-widgets/base",
       "_model_module_version": "1.2.0",
       "_model_name": "LayoutModel",
       "_view_count": null,
       "_view_module": "@jupyter-widgets/base",
       "_view_module_version": "1.2.0",
       "_view_name": "LayoutView",
       "align_content": null,
       "align_items": null,
       "align_self": null,
       "border": null,
       "bottom": null,
       "display": null,
       "flex": null,
       "flex_flow": null,
       "grid_area": null,
       "grid_auto_columns": null,
       "grid_auto_flow": null,
       "grid_auto_rows": null,
       "grid_column": null,
       "grid_gap": null,
       "grid_row": null,
       "grid_template_areas": null,
       "grid_template_columns": null,
       "grid_template_rows": null,
       "height": null,
       "justify_content": null,
       "justify_items": null,
       "left": null,
       "margin": null,
       "max_height": null,
       "max_width": null,
       "min_height": null,
       "min_width": null,
       "object_fit": null,
       "object_position": null,
       "order": null,
       "overflow": null,
       "overflow_x": null,
       "overflow_y": null,
       "padding": null,
       "right": null,
       "top": null,
       "visibility": null,
       "width": null
      }
     },
     "e6d8cc331f8d491fb946342bdaa86dd9": {
      "model_module": "@jupyter-widgets/output",
      "model_module_version": "1.0.0",
      "model_name": "OutputModel",
      "state": {
       "_dom_classes": [],
       "_model_module": "@jupyter-widgets/output",
       "_model_module_version": "1.0.0",
       "_model_name": "OutputModel",
       "_view_count": null,
       "_view_module": "@jupyter-widgets/output",
       "_view_module_version": "1.0.0",
       "_view_name": "OutputView",
       "layout": "IPY_MODEL_537cfa69b5fc49a88f2116a9711ed230",
       "msg_id": "",
       "outputs": []
      }
     },
     "e97edc67f87f46f198221b8b0ed171d3": {
      "model_module": "@jupyter-widgets/controls",
      "model_module_version": "1.5.0",
      "model_name": "FloatSliderModel",
      "state": {
       "_dom_classes": [],
       "_model_module": "@jupyter-widgets/controls",
       "_model_module_version": "1.5.0",
       "_model_name": "FloatSliderModel",
       "_view_count": null,
       "_view_module": "@jupyter-widgets/controls",
       "_view_module_version": "1.5.0",
       "_view_name": "FloatSliderView",
       "continuous_update": true,
       "description": "xmax",
       "description_tooltip": null,
       "disabled": false,
       "layout": "IPY_MODEL_b0ca7a2536b74a23ae949b6fd4228b8c",
       "max": 18.84955592153876,
       "min": -6.283185307179586,
       "orientation": "horizontal",
       "readout": true,
       "readout_format": ".2f",
       "step": 0.1,
       "style": "IPY_MODEL_51c30fc7619842a8aa34ac66458f9971",
       "value": 6.283185307179586
      }
     },
     "eaa45905db8c4ab1a26be3b3010206c0": {
      "model_module": "@jupyter-widgets/base",
      "model_module_version": "1.2.0",
      "model_name": "LayoutModel",
      "state": {
       "_model_module": "@jupyter-widgets/base",
       "_model_module_version": "1.2.0",
       "_model_name": "LayoutModel",
       "_view_count": null,
       "_view_module": "@jupyter-widgets/base",
       "_view_module_version": "1.2.0",
       "_view_name": "LayoutView",
       "align_content": null,
       "align_items": null,
       "align_self": null,
       "border": null,
       "bottom": null,
       "display": null,
       "flex": null,
       "flex_flow": null,
       "grid_area": null,
       "grid_auto_columns": null,
       "grid_auto_flow": null,
       "grid_auto_rows": null,
       "grid_column": null,
       "grid_gap": null,
       "grid_row": null,
       "grid_template_areas": null,
       "grid_template_columns": null,
       "grid_template_rows": null,
       "height": null,
       "justify_content": null,
       "justify_items": null,
       "left": null,
       "margin": null,
       "max_height": null,
       "max_width": null,
       "min_height": null,
       "min_width": null,
       "object_fit": null,
       "object_position": null,
       "order": null,
       "overflow": null,
       "overflow_x": null,
       "overflow_y": null,
       "padding": null,
       "right": null,
       "top": null,
       "visibility": null,
       "width": null
      }
     },
     "eb055ab516b548f396c4c57a50e68c05": {
      "model_module": "@jupyter-widgets/controls",
      "model_module_version": "1.5.0",
      "model_name": "VBoxModel",
      "state": {
       "_dom_classes": [
        "widget-interact"
       ],
       "_model_module": "@jupyter-widgets/controls",
       "_model_module_version": "1.5.0",
       "_model_name": "VBoxModel",
       "_view_count": null,
       "_view_module": "@jupyter-widgets/controls",
       "_view_module_version": "1.5.0",
       "_view_name": "VBoxView",
       "box_style": "",
       "children": [
        "IPY_MODEL_c226dff4850b497facd84c995ebcbc5d",
        "IPY_MODEL_863b8df92be240908a1ec23a9873e3af"
       ],
       "layout": "IPY_MODEL_08e7d12fdf93421094f42da2c680196a"
      }
     },
     "ed76f77e793041a9a09209649ae978f6": {
      "model_module": "@jupyter-widgets/controls",
      "model_module_version": "1.5.0",
      "model_name": "DescriptionStyleModel",
      "state": {
       "_model_module": "@jupyter-widgets/controls",
       "_model_module_version": "1.5.0",
       "_model_name": "DescriptionStyleModel",
       "_view_count": null,
       "_view_module": "@jupyter-widgets/base",
       "_view_module_version": "1.2.0",
       "_view_name": "StyleView",
       "description_width": ""
      }
     },
     "ed9e28e8c55e44319df81f82dce209b9": {
      "model_module": "@jupyter-widgets/controls",
      "model_module_version": "1.5.0",
      "model_name": "VBoxModel",
      "state": {
       "_dom_classes": [
        "widget-interact"
       ],
       "_model_module": "@jupyter-widgets/controls",
       "_model_module_version": "1.5.0",
       "_model_name": "VBoxModel",
       "_view_count": null,
       "_view_module": "@jupyter-widgets/controls",
       "_view_module_version": "1.5.0",
       "_view_name": "VBoxView",
       "box_style": "",
       "children": [
        "IPY_MODEL_d29591871db24f778f9ff10fdd1eb851",
        "IPY_MODEL_04b78c0ada2241ac945d05249249248a"
       ],
       "layout": "IPY_MODEL_f3536241c7fa4ef9a28162fcc9f22c44"
      }
     },
     "ee3f8b977c444bada10827ad17f6866c": {
      "model_module": "@jupyter-widgets/controls",
      "model_module_version": "1.5.0",
      "model_name": "DescriptionStyleModel",
      "state": {
       "_model_module": "@jupyter-widgets/controls",
       "_model_module_version": "1.5.0",
       "_model_name": "DescriptionStyleModel",
       "_view_count": null,
       "_view_module": "@jupyter-widgets/base",
       "_view_module_version": "1.2.0",
       "_view_name": "StyleView",
       "description_width": "initial"
      }
     },
     "ee6d74a839aa40dea9810567e060f6fd": {
      "model_module": "@jupyter-widgets/output",
      "model_module_version": "1.0.0",
      "model_name": "OutputModel",
      "state": {
       "_dom_classes": [],
       "_model_module": "@jupyter-widgets/output",
       "_model_module_version": "1.0.0",
       "_model_name": "OutputModel",
       "_view_count": null,
       "_view_module": "@jupyter-widgets/output",
       "_view_module_version": "1.0.0",
       "_view_name": "OutputView",
       "layout": "IPY_MODEL_01bd9144b8434675a96640482acacb43",
       "msg_id": "",
       "outputs": [
        {
         "name": "stdout",
         "output_type": "stream",
         "text": "[[1, 2, 3]]\n"
        }
       ]
      }
     },
     "eebe3eb9a9534fad99eeefdae9952627": {
      "model_module": "@jupyter-widgets/base",
      "model_module_version": "1.2.0",
      "model_name": "LayoutModel",
      "state": {
       "_model_module": "@jupyter-widgets/base",
       "_model_module_version": "1.2.0",
       "_model_name": "LayoutModel",
       "_view_count": null,
       "_view_module": "@jupyter-widgets/base",
       "_view_module_version": "1.2.0",
       "_view_name": "LayoutView",
       "align_content": null,
       "align_items": null,
       "align_self": null,
       "border": null,
       "bottom": null,
       "display": null,
       "flex": null,
       "flex_flow": null,
       "grid_area": null,
       "grid_auto_columns": null,
       "grid_auto_flow": null,
       "grid_auto_rows": null,
       "grid_column": null,
       "grid_gap": null,
       "grid_row": null,
       "grid_template_areas": null,
       "grid_template_columns": null,
       "grid_template_rows": null,
       "height": null,
       "justify_content": null,
       "justify_items": null,
       "left": null,
       "margin": null,
       "max_height": null,
       "max_width": null,
       "min_height": null,
       "min_width": null,
       "object_fit": null,
       "object_position": null,
       "order": null,
       "overflow": null,
       "overflow_x": null,
       "overflow_y": null,
       "padding": null,
       "right": null,
       "top": null,
       "visibility": null,
       "width": null
      }
     },
     "f00c91392a8948bebe907a96e598c6d3": {
      "model_module": "@jupyter-widgets/controls",
      "model_module_version": "1.5.0",
      "model_name": "DescriptionStyleModel",
      "state": {
       "_model_module": "@jupyter-widgets/controls",
       "_model_module_version": "1.5.0",
       "_model_name": "DescriptionStyleModel",
       "_view_count": null,
       "_view_module": "@jupyter-widgets/base",
       "_view_module_version": "1.2.0",
       "_view_name": "StyleView",
       "description_width": ""
      }
     },
     "f2ef986e4a674b1e8ab441fee8aa8133": {
      "model_module": "@jupyter-widgets/controls",
      "model_module_version": "1.5.0",
      "model_name": "DropdownModel",
      "state": {
       "_dom_classes": [],
       "_model_module": "@jupyter-widgets/controls",
       "_model_module_version": "1.5.0",
       "_model_name": "DropdownModel",
       "_options_labels": [
        "0",
        "1",
        "2"
       ],
       "_view_count": null,
       "_view_module": "@jupyter-widgets/controls",
       "_view_module_version": "1.5.0",
       "_view_name": "DropdownView",
       "description": "t",
       "description_tooltip": null,
       "disabled": false,
       "index": 0,
       "layout": "IPY_MODEL_278ebf696c774a919b31632fc13b48be",
       "style": "IPY_MODEL_a265f31865af4c46bd70346098733573"
      }
     },
     "f3536241c7fa4ef9a28162fcc9f22c44": {
      "model_module": "@jupyter-widgets/base",
      "model_module_version": "1.2.0",
      "model_name": "LayoutModel",
      "state": {
       "_model_module": "@jupyter-widgets/base",
       "_model_module_version": "1.2.0",
       "_model_name": "LayoutModel",
       "_view_count": null,
       "_view_module": "@jupyter-widgets/base",
       "_view_module_version": "1.2.0",
       "_view_name": "LayoutView",
       "align_content": null,
       "align_items": null,
       "align_self": null,
       "border": null,
       "bottom": null,
       "display": null,
       "flex": null,
       "flex_flow": null,
       "grid_area": null,
       "grid_auto_columns": null,
       "grid_auto_flow": null,
       "grid_auto_rows": null,
       "grid_column": null,
       "grid_gap": null,
       "grid_row": null,
       "grid_template_areas": null,
       "grid_template_columns": null,
       "grid_template_rows": null,
       "height": null,
       "justify_content": null,
       "justify_items": null,
       "left": null,
       "margin": null,
       "max_height": null,
       "max_width": null,
       "min_height": null,
       "min_width": null,
       "object_fit": null,
       "object_position": null,
       "order": null,
       "overflow": null,
       "overflow_x": null,
       "overflow_y": null,
       "padding": null,
       "right": null,
       "top": null,
       "visibility": null,
       "width": null
      }
     },
     "f987a202dcd341a5bcd5515101231e30": {
      "model_module": "@jupyter-widgets/controls",
      "model_module_version": "1.5.0",
      "model_name": "FloatSliderModel",
      "state": {
       "_dom_classes": [],
       "_model_module": "@jupyter-widgets/controls",
       "_model_module_version": "1.5.0",
       "_model_name": "FloatSliderModel",
       "_view_count": null,
       "_view_module": "@jupyter-widgets/controls",
       "_view_module_version": "1.5.0",
       "_view_name": "FloatSliderView",
       "continuous_update": true,
       "description": "Transparencia",
       "description_tooltip": null,
       "disabled": false,
       "layout": "IPY_MODEL_aef7799a11004fdc871fff85d226816e",
       "max": 1.0,
       "min": 0.0,
       "orientation": "horizontal",
       "readout": true,
       "readout_format": ".2f",
       "step": 0.1,
       "style": "IPY_MODEL_b63339f787dc43c79db01d6f5c438f02",
       "value": 0.5
      }
     },
     "fb338e9b827545d0b412febc15f601d7": {
      "model_module": "@jupyter-widgets/controls",
      "model_module_version": "1.5.0",
      "model_name": "VBoxModel",
      "state": {
       "_dom_classes": [
        "widget-interact"
       ],
       "_model_module": "@jupyter-widgets/controls",
       "_model_module_version": "1.5.0",
       "_model_name": "VBoxModel",
       "_view_count": null,
       "_view_module": "@jupyter-widgets/controls",
       "_view_module_version": "1.5.0",
       "_view_name": "VBoxView",
       "box_style": "",
       "children": [
        "IPY_MODEL_3a31ed4bf37e4d0eae4717b7aa139c08",
        "IPY_MODEL_f987a202dcd341a5bcd5515101231e30",
        "IPY_MODEL_d499f9b456534a89b53aebe56c4208b7"
       ],
       "layout": "IPY_MODEL_8076aad9d1b448b68ee2aed001f222f3"
      }
     },
     "fdfe93f2ffd84506bed6103b035d962b": {
      "model_module": "@jupyter-widgets/base",
      "model_module_version": "1.2.0",
      "model_name": "LayoutModel",
      "state": {
       "_model_module": "@jupyter-widgets/base",
       "_model_module_version": "1.2.0",
       "_model_name": "LayoutModel",
       "_view_count": null,
       "_view_module": "@jupyter-widgets/base",
       "_view_module_version": "1.2.0",
       "_view_name": "LayoutView",
       "align_content": null,
       "align_items": null,
       "align_self": null,
       "border": null,
       "bottom": null,
       "display": null,
       "flex": null,
       "flex_flow": null,
       "grid_area": null,
       "grid_auto_columns": null,
       "grid_auto_flow": null,
       "grid_auto_rows": null,
       "grid_column": null,
       "grid_gap": null,
       "grid_row": null,
       "grid_template_areas": null,
       "grid_template_columns": null,
       "grid_template_rows": null,
       "height": null,
       "justify_content": null,
       "justify_items": null,
       "left": null,
       "margin": null,
       "max_height": null,
       "max_width": null,
       "min_height": null,
       "min_width": null,
       "object_fit": null,
       "object_position": null,
       "order": null,
       "overflow": null,
       "overflow_x": null,
       "overflow_y": null,
       "padding": null,
       "right": null,
       "top": null,
       "visibility": null,
       "width": null
      }
     },
     "ffef371e69a8477d8640bc99f0068da5": {
      "model_module": "@jupyter-widgets/base",
      "model_module_version": "1.2.0",
      "model_name": "LayoutModel",
      "state": {
       "_model_module": "@jupyter-widgets/base",
       "_model_module_version": "1.2.0",
       "_model_name": "LayoutModel",
       "_view_count": null,
       "_view_module": "@jupyter-widgets/base",
       "_view_module_version": "1.2.0",
       "_view_name": "LayoutView",
       "align_content": null,
       "align_items": null,
       "align_self": null,
       "border": null,
       "bottom": null,
       "display": null,
       "flex": null,
       "flex_flow": null,
       "grid_area": null,
       "grid_auto_columns": null,
       "grid_auto_flow": null,
       "grid_auto_rows": null,
       "grid_column": null,
       "grid_gap": null,
       "grid_row": null,
       "grid_template_areas": null,
       "grid_template_columns": null,
       "grid_template_rows": null,
       "height": null,
       "justify_content": null,
       "justify_items": null,
       "left": null,
       "margin": null,
       "max_height": null,
       "max_width": null,
       "min_height": null,
       "min_width": null,
       "object_fit": null,
       "object_position": null,
       "order": null,
       "overflow": null,
       "overflow_x": null,
       "overflow_y": null,
       "padding": null,
       "right": null,
       "top": null,
       "visibility": null,
       "width": null
      }
     }
    },
    "version_major": 2,
    "version_minor": 0
   }
  }
 },
 "nbformat": 4,
 "nbformat_minor": 4
}