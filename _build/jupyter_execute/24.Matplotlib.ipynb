{
 "cells": [
  {
   "cell_type": "markdown",
   "metadata": {},
   "source": [
    "# Matplotlib - Gráficos en Python"
   ]
  },
  {
   "cell_type": "markdown",
   "metadata": {},
   "source": [
    ":::::{important} Para tener presente\n",
    "\n",
    "\n",
    "El paquete para construir gráficos por excelencia en Python es [Matplotlib](https://matplotlib.org/3.2.2/index.html), una de las librerías más usadas para crear todo tipo de visualizaciones.\n",
    "\n",
    "````{tabbed} ¿Para qué?\n",
    "\n",
    ":::{admonition} Importante\n",
    ":class: tip\n",
    "Para nosotros es muy importante manejar esta herramienta ya que en múltiples ocasiones la dificultad de muchas explicaciones se resuelven fácilmente con un buen gráfico.\n",
    ":::\n",
    "````\n",
    "\n",
    "````{tabbed} ¿Qué haremos?\n",
    "\n",
    ":::{admonition} Lo que vamos a aprender:\n",
    ":class: tip \n",
    "En este cuaderno veremos algunos componentes básicos de la graficación con Matplotlib, las partes del gráfico, la definición de `figure()`, unas configuraciones simples y algunas personalizaciones elementales.\n",
    ":::\n",
    "````\n",
    ":::::"
   ]
  },
  {
   "cell_type": "markdown",
   "metadata": {},
   "source": [
    "## ¿Cómo funciona?\n",
    "\n",
    "Matplotlib grafica sus datos sobre una instancia llamada `Figure`, cada una de estas contendrá uno o más `Axes` (un área en la que los puntos tienen coordenadas). Usualmente se utiliza la interfaz [pyplot](https://matplotlib.org/3.2.2/api/pyplot_summary.html) basada en algunos estilos y comandos de MATLAB. \n",
    "\n",
    "Veamos un sencillo ejemplo:"
   ]
  },
  {
   "cell_type": "code",
   "execution_count": 1,
   "metadata": {},
   "outputs": [
    {
     "data": {
      "text/plain": [
       "[<matplotlib.lines.Line2D at 0x7f08ceaf2700>]"
      ]
     },
     "execution_count": 1,
     "metadata": {},
     "output_type": "execute_result"
    },
    {
     "data": {
      "image/png": "[encoded data removed]",
      "text/plain": [
       "<Figure size 432x288 with 1 Axes>"
      ]
     },
     "metadata": {
      "filenames": {
       "image/png": "/home/isaac/Dropbox/Docente/Externado/Github Projects/Programación/_build/jupyter_execute/24.Matplotlib_3_1.png"
      },
      "needs_background": "light"
     },
     "output_type": "display_data"
    }
   ],
   "source": [
    "import matplotlib.pyplot as plt\n",
    "import numpy as np\n",
    "%matplotlib inline\n",
    "fig, ax = plt.subplots()  # Creamos una figura con un sistema de ejes.\n",
    "ax.plot([1, 2, 3, 4], [1, 4, 2, 3])  # Pintamos algunos datos."
   ]
  },
  {
   "cell_type": "markdown",
   "metadata": {},
   "source": [
    ":::::{important} Para tener presente\n",
    "\n",
    "IPython tiene un conjunto de \"funciones mágicas\" predefinidas a las que puede llamar con una sintaxis de estilo de línea de comandos. Hay dos tipos de magia, orientada a líneas y orientada a celdas.\n",
    "\n",
    "````{tabbed} Orientada a líneas\n",
    "\n",
    ":::{admonition} Para no olvidar...\n",
    ":class: tip\n",
    "Tienen el prefijo `%` y funcionan de manera muy similar a las llamadas de línea de comandos del sistema operativo: obtienen como argumento el resto de la línea, donde los argumentos se pasan sin paréntesis ni comillas. La magia de líneas puede devolver resultados y se puede utilizar en el lado derecho de una asignmación.\n",
    ":::\n",
    "````\n",
    "\n",
    "````{tabbed} Orientado a celdas\n",
    "\n",
    ":::{admonition} Para no olvidar...\n",
    ":class: tip \n",
    "La magia en las celdas tiene el prefijo `%%`, son funciones que obtienen como argumento no solo el resto de la línea, sino también las líneas debajo de ella en un argumento separado.\n",
    ":::\n",
    "````\n",
    ":::::"
   ]
  },
  {
   "cell_type": "markdown",
   "metadata": {},
   "source": [
    "Sin necesidad de fijar los ejes de una figura podemos hacer el mismo gráfico:"
   ]
  },
  {
   "cell_type": "code",
   "execution_count": 2,
   "metadata": {},
   "outputs": [
    {
     "data": {
      "text/plain": [
       "[<matplotlib.lines.Line2D at 0x7f08cc9f6eb0>]"
      ]
     },
     "execution_count": 2,
     "metadata": {},
     "output_type": "execute_result"
    },
    {
     "data": {
      "image/png": "[encoded data removed]",
      "text/plain": [
       "<Figure size 432x288 with 1 Axes>"
      ]
     },
     "metadata": {
      "filenames": {
       "image/png": "/home/isaac/Dropbox/Docente/Externado/Github Projects/Programación/_build/jupyter_execute/24.Matplotlib_6_1.png"
      },
      "needs_background": "light"
     },
     "output_type": "display_data"
    }
   ],
   "source": [
    "plt.plot([1, 2, 3, 4], [1, 4, 2, 3]) "
   ]
  },
  {
   "cell_type": "markdown",
   "metadata": {},
   "source": [
    "## Partes de una figura\n",
    "\n",
    "Veamos los componentes de una figura de Matplotlib:\n",
    "\n",
    "![figure](https://matplotlib.org/3.2.2/_images/anatomy.png)\n",
    "\n",
    "*Tomado de [https://matplotlib.org/3.2.2/tutorials/introductory/usage.html#sphx-glr-tutorials-introductory-usage-py](https://matplotlib.org/3.2.2/tutorials/introductory/usage.html#sphx-glr-tutorials-introductory-usage-py)*"
   ]
  },
  {
   "cell_type": "markdown",
   "metadata": {},
   "source": [
    "Sin necesidad de definir nuevas figuras veremos un ejemplo con algunos elementos descritos en la figura:"
   ]
  },
  {
   "cell_type": "code",
   "execution_count": 3,
   "metadata": {},
   "outputs": [],
   "source": [
    "x=np.linspace(0, 10, 101)"
   ]
  },
  {
   "cell_type": "code",
   "execution_count": 4,
   "metadata": {},
   "outputs": [
    {
     "data": {
      "text/plain": [
       "array([ 0.        ,  0.09983342,  0.19866933,  0.29552021,  0.38941834,\n",
       "        0.47942554,  0.56464247,  0.64421769,  0.71735609,  0.78332691,\n",
       "        0.84147098,  0.89120736,  0.93203909,  0.96355819,  0.98544973,\n",
       "        0.99749499,  0.9995736 ,  0.99166481,  0.97384763,  0.94630009,\n",
       "        0.90929743,  0.86320937,  0.8084964 ,  0.74570521,  0.67546318,\n",
       "        0.59847214,  0.51550137,  0.42737988,  0.33498815,  0.23924933,\n",
       "        0.14112001,  0.04158066, -0.05837414, -0.15774569, -0.2555411 ,\n",
       "       -0.35078323, -0.44252044, -0.52983614, -0.61185789, -0.68776616,\n",
       "       -0.7568025 , -0.81827711, -0.87157577, -0.91616594, -0.95160207,\n",
       "       -0.97753012, -0.993691  , -0.99992326, -0.99616461, -0.98245261,\n",
       "       -0.95892427, -0.92581468, -0.88345466, -0.83226744, -0.77276449,\n",
       "       -0.70554033, -0.63126664, -0.55068554, -0.46460218, -0.37387666,\n",
       "       -0.2794155 , -0.1821625 , -0.0830894 ,  0.0168139 ,  0.1165492 ,\n",
       "        0.21511999,  0.31154136,  0.40484992,  0.49411335,  0.57843976,\n",
       "        0.6569866 ,  0.72896904,  0.79366786,  0.85043662,  0.8987081 ,\n",
       "        0.93799998,  0.96791967,  0.98816823,  0.99854335,  0.99894134,\n",
       "        0.98935825,  0.96988981,  0.94073056,  0.90217183,  0.85459891,\n",
       "        0.79848711,  0.7343971 ,  0.66296923,  0.58491719,  0.50102086,\n",
       "        0.41211849,  0.31909836,  0.22288991,  0.12445442,  0.02477543,\n",
       "       -0.07515112, -0.17432678, -0.27176063, -0.36647913, -0.45753589,\n",
       "       -0.54402111])"
      ]
     },
     "execution_count": 4,
     "metadata": {},
     "output_type": "execute_result"
    }
   ],
   "source": [
    "np.sin(x)"
   ]
  },
  {
   "cell_type": "code",
   "execution_count": 5,
   "metadata": {},
   "outputs": [
    {
     "data": {
      "image/png": "[encoded data removed]",
      "text/plain": [
       "<Figure size 432x288 with 1 Axes>"
      ]
     },
     "metadata": {
      "filenames": {
       "image/png": "/home/isaac/Dropbox/Docente/Externado/Github Projects/Programación/_build/jupyter_execute/24.Matplotlib_11_0.png"
      },
      "needs_background": "light"
     },
     "output_type": "display_data"
    }
   ],
   "source": [
    "x = np.linspace(0, 10, 101)\n",
    "\n",
    "plt.plot(x, np.sin(x),'r-', label='sin(x)')#1\n",
    "plt.plot(x, np.cos(x), 'y-',label='cos(x)')#1\n",
    "plt.legend()#2\n",
    "plt.grid()#3\n",
    "plt.title(\"Una figura simple\")#4\n",
    "plt.xlabel('Eje x')#5\n",
    "plt.ylabel('Eje y')#6\n",
    "plt.show()#7"
   ]
  },
  {
   "cell_type": "markdown",
   "metadata": {},
   "source": [
    "En el bloque de código anterior hemos agregado unos comentarios en forma de número para aclararlos en seguida:\n",
    "1. \n",
    "```python\n",
    "plt.plot(x, np.sin(x),'r-', label='sin(x)')\n",
    "```\n",
    "`x` los valores de éste argumento serán tenidos en cuenta para el eje horizontal.\n",
    "`np.sin(x)` son los valores resultantes de aplicar la función seno a cada elemento del arreglo x.\n",
    "`'r-'` este argumento hace que la gráfica sea de color rojo y su trazo sea continuo.\n",
    "`label='sin(x)'` agrega a la leyenda 'sin(x)'.\n",
    "2. Hace que se \"pinte\" la leyenda sobre la gráfica.\n",
    "3. Agrega la grilla a la gráfica.\n",
    "4. Agrega el título a la gráfica.\n",
    "5. Agrega el nombre del eje x.\n",
    "6. Agrega el nombre del eje y.\n",
    "7. Muestra la gráfica elaborada.\n",
    "\n",
    "Podemos hacer un elemento interactivo con algunas de las funciones trigonométricas:"
   ]
  },
  {
   "cell_type": "code",
   "execution_count": 6,
   "metadata": {},
   "outputs": [],
   "source": [
    "from ipywidgets import interact\n",
    "from numpy import *"
   ]
  },
  {
   "cell_type": "code",
   "execution_count": 7,
   "metadata": {},
   "outputs": [],
   "source": [
    "def graficadoradefuncionestrigonometricas(t):\n",
    "    x=np.linspace(-10,10,500)\n",
    "    y=eval(t)\n",
    "    plt.plot(x,y,label=t)\n",
    "    plt.legend()\n",
    "    return"
   ]
  },
  {
   "cell_type": "code",
   "execution_count": 8,
   "metadata": {},
   "outputs": [
    {
     "data": {
      "image/png": "[encoded data removed]",
      "text/plain": [
       "<Figure size 432x288 with 1 Axes>"
      ]
     },
     "metadata": {
      "filenames": {
       "image/png": "/home/isaac/Dropbox/Docente/Externado/Github Projects/Programación/_build/jupyter_execute/24.Matplotlib_15_0.png"
      },
      "needs_background": "light"
     },
     "output_type": "display_data"
    }
   ],
   "source": [
    "graficadoradefuncionestrigonometricas('sin(x)')"
   ]
  },
  {
   "cell_type": "code",
   "execution_count": 9,
   "metadata": {},
   "outputs": [
    {
     "data": {
      "application/vnd.jupyter.widget-view+json": {
       "model_id": "5269ab49a7b24f9da4a061283acc6a1f",
       "version_major": 2,
       "version_minor": 0
      },
      "text/plain": [
       "interactive(children=(Dropdown(description='t', options=('sin(x)', 'cos(x)', 'tan(x)'), value='sin(x)'), Outpu…"
      ]
     },
     "metadata": {},
     "output_type": "display_data"
    },
    {
     "data": {
      "text/plain": [
       "<function __main__.graficadoradefuncionestrigonometricas(t)>"
      ]
     },
     "execution_count": 9,
     "metadata": {},
     "output_type": "execute_result"
    },
    {
     "data": {
      "image/png": "[encoded data removed]",
      "text/plain": [
       "<Figure size 432x288 with 1 Axes>"
      ]
     },
     "metadata": {
      "filenames": {
       "image/png": "/home/isaac/Dropbox/Docente/Externado/Github Projects/Programación/_build/jupyter_execute/24.Matplotlib_16_2.png"
      },
      "needs_background": "light"
     },
     "output_type": "display_data"
    }
   ],
   "source": [
    "lista=[\"sin(x)\",\"cos(x)\",\"tan(x)\"]\n",
    "\n",
    "interact(graficadoradefuncionestrigonometricas,t=lista)"
   ]
  },
  {
   "cell_type": "markdown",
   "metadata": {},
   "source": [
    "### Ejercicio\n",
    "1. Modifica el código anterior para que se grafiquen los monomios x, x^2, ..., x^10."
   ]
  },
  {
   "cell_type": "markdown",
   "metadata": {},
   "source": [
    "## Figura y ejes como variables\n",
    "Podemos usar instancias para expresar tanto a la figura como los ejes sobre la figura:"
   ]
  },
  {
   "cell_type": "code",
   "execution_count": 10,
   "metadata": {},
   "outputs": [
    {
     "data": {
      "image/png": "[encoded data removed]",
      "text/plain": [
       "<Figure size 432x288 with 1 Axes>"
      ]
     },
     "metadata": {
      "filenames": {
       "image/png": "/home/isaac/Dropbox/Docente/Externado/Github Projects/Programación/_build/jupyter_execute/24.Matplotlib_19_0.png"
      },
      "needs_background": "light"
     },
     "output_type": "display_data"
    }
   ],
   "source": [
    "fig = plt.figure()\n",
    "ax = fig.add_subplot(111)\n",
    "ax.plot([1, 2, 3, 4], [10, 20, 25, 30], color='lightblue', linewidth=3)\n",
    "ax.scatter([0.3, 3.8, 1.2, 2.5], [11, 25, 9, 26], color='darkgreen')\n",
    "ax.set_xlim(-1, 6)\n",
    "ax.set_ylim(6, 31)\n",
    "plt.show()"
   ]
  },
  {
   "cell_type": "markdown",
   "metadata": {},
   "source": [
    "En este ejemplo utilizamos `plt.figure()` para definir la figura y `fig.add_subplot(111)` para crear la *'zona de dibujo'*. \n",
    "\n",
    "En Matplotlib se puiede definir sobre una misma figura varias zonas de dibujo:"
   ]
  },
  {
   "cell_type": "code",
   "execution_count": 11,
   "metadata": {},
   "outputs": [
    {
     "data": {
      "image/png": "[encoded data removed]",
      "text/plain": [
       "<Figure size 1440x1440 with 4 Axes>"
      ]
     },
     "metadata": {
      "filenames": {
       "image/png": "/home/isaac/Dropbox/Docente/Externado/Github Projects/Programación/_build/jupyter_execute/24.Matplotlib_21_0.png"
      },
      "needs_background": "light"
     },
     "output_type": "display_data"
    }
   ],
   "source": [
    "x=np.linspace(0,10,100)\n",
    "fig = plt.figure(figsize=(20,20))\n",
    "\n",
    "ax = fig.add_subplot(221)\n",
    "\n",
    "ax.plot([1, 2, 3, 4], [10, 20, 25, 30], color='lightblue', linewidth=3,label=\"línea\")\n",
    "ax.scatter([0.3, 3.8, 1.2, 2.5], [11, 25, 9, 26], color='darkgreen', marker='^',label=\"marker\")\n",
    "ax.legend()\n",
    "plt.title(\"Primera 'zona de dibujo'\")\n",
    "\n",
    "ax2 = fig.add_subplot(222)\n",
    "\n",
    "ax2.plot(x, x, label='línea')\n",
    "ax2.legend()\n",
    "plt.title(\"Segunda 'zona de dibujo'\")\n",
    "\n",
    "ax3 = fig.add_subplot(223)\n",
    "ax3.plot([1, 2, 3, 4], [10, 20, 25, 30], color='lightblue', linewidth=3,label=\"línea\")\n",
    "ax3.legend()\n",
    "plt.title(\"Tercera 'zona de dibujo'\")\n",
    "\n",
    "ax4 = fig.add_subplot(224)\n",
    "ax4.plot(x, x, label='línea')\n",
    "ax4.legend()\n",
    "plt.title(\"Cuarta 'zona de dibujo'\")\n",
    "plt.show()"
   ]
  },
  {
   "cell_type": "markdown",
   "metadata": {},
   "source": [
    "Las líneas que contienen `fig.add_subplot(221)` nos indican que las gráficas estarán distribuidas en una parrilla 2x2 y estamos modificando la primera de ellas.\n",
    "\n",
    "Las zonas de dibujo (`Axes`) siempre deben vincularse a una Figura. Podemos fijar un título para cada zona usando `set_title()`. Por cada `Axes` tenemos 2 o tres ejes (`Axis`), entre sus funcioes útiles tenemos:\n",
    "\n",
    "**Para controlar el límite de los ejes:**\n",
    "* `axes.Axes.set_xlim()`\n",
    "* `axes.Axes.set_ylim()`\n",
    "\n",
    "**Para fijar una etiqueta en el eje**\n",
    "\n",
    "* `set_xlabel()`\n",
    "* `set_ylabel()`\n",
    "\n",
    "\n",
    "Veamos un ejemplo:"
   ]
  },
  {
   "cell_type": "code",
   "execution_count": 12,
   "metadata": {},
   "outputs": [
    {
     "data": {
      "image/png": "[encoded data removed]",
      "text/plain": [
       "<Figure size 720x360 with 2 Axes>"
      ]
     },
     "metadata": {
      "filenames": {
       "image/png": "/home/isaac/Dropbox/Docente/Externado/Github Projects/Programación/_build/jupyter_execute/24.Matplotlib_23_0.png"
      },
      "needs_background": "light"
     },
     "output_type": "display_data"
    }
   ],
   "source": [
    "fig = plt.figure(figsize=(10,5))\n",
    "ax = fig.add_subplot(121)\n",
    "ax.plot([1, 2, 3, 4], [10, 20, 25, 30], color='lightblue', linewidth=3,label=\"línea\")\n",
    "ax.scatter([0.3, 3.8, 1.2, 2.5], [11, 25, 9, 26], color='darkgreen', marker='^',label=\"marker\")\n",
    "ax.set_xlim(0, 4.5)\n",
    "ax.set_ylim(0, 31)\n",
    "ax.set_ylabel(\"Eje y\")\n",
    "ax.set_xlabel(\"Eje x\")\n",
    "ax.legend()\n",
    "ax.set_title(\"Primera 'zona de dibujo'\")\n",
    "ax2 = fig.add_subplot(122)\n",
    "ax2.plot(x, x, label='línea')\n",
    "ax2.legend()\n",
    "ax2.set_title(\"Segunda 'zona de dibujo'\")\n",
    "plt.show()"
   ]
  },
  {
   "cell_type": "markdown",
   "metadata": {},
   "source": [
    "## Diferentes tipos de gráficos\n",
    "\n",
    "Veamos ahora una galería de gráficos utilizados en diferentes contextos. Según los ejemplos anteriores tenemos la posibilidad de graficar puntos sobre el plano utilizando `plt.plot()`"
   ]
  },
  {
   "cell_type": "markdown",
   "metadata": {},
   "source": [
    "### El commando `plt.plot()`"
   ]
  },
  {
   "cell_type": "code",
   "execution_count": 13,
   "metadata": {},
   "outputs": [
    {
     "data": {
      "image/png": "[encoded data removed]",
      "text/plain": [
       "<Figure size 432x288 with 1 Axes>"
      ]
     },
     "metadata": {
      "filenames": {
       "image/png": "/home/isaac/Dropbox/Docente/Externado/Github Projects/Programación/_build/jupyter_execute/24.Matplotlib_26_0.png"
      },
      "needs_background": "light"
     },
     "output_type": "display_data"
    }
   ],
   "source": [
    "plt.plot([1,2,4,3,1,2,8,7])\n",
    "plt.ylabel('Una lista de valores')\n",
    "plt.show()"
   ]
  },
  {
   "cell_type": "markdown",
   "metadata": {},
   "source": [
    "Notemos que el índice del valor aparece en el eje horizontal y el valor en el eje vertical."
   ]
  },
  {
   "cell_type": "code",
   "execution_count": 14,
   "metadata": {},
   "outputs": [
    {
     "data": {
      "image/png": "[encoded data removed]",
      "text/plain": [
       "<Figure size 432x288 with 1 Axes>"
      ]
     },
     "metadata": {
      "filenames": {
       "image/png": "/home/isaac/Dropbox/Docente/Externado/Github Projects/Programación/_build/jupyter_execute/24.Matplotlib_28_0.png"
      },
      "needs_background": "light"
     },
     "output_type": "display_data"
    }
   ],
   "source": [
    "plt.plot([1,2,4,3,1,2,8,7])\n",
    "plt.xticks(ticks=range(0,8),labels=['L','M','Mc','J','V','S','D','L'])\n",
    "plt.show()"
   ]
  },
  {
   "cell_type": "code",
   "execution_count": 15,
   "metadata": {},
   "outputs": [
    {
     "data": {
      "image/png": "[encoded data removed]",
      "text/plain": [
       "<Figure size 432x288 with 1 Axes>"
      ]
     },
     "metadata": {
      "filenames": {
       "image/png": "/home/isaac/Dropbox/Docente/Externado/Github Projects/Programación/_build/jupyter_execute/24.Matplotlib_29_0.png"
      },
      "needs_background": "light"
     },
     "output_type": "display_data"
    }
   ],
   "source": [
    "plt.plot([1,2,3],[[1,2,3,4], [1,4,9,16],[3,4,2,16]]) \n",
    "plt.ylabel('Un arreglo en x, un arreglo en y')\n",
    "plt.grid()\n",
    "plt.show()\n",
    "#El 1 esta asociado con el 1,2,3 y 4\n",
    "#El 2 con 1,4,9  y 16\n",
    "#El 3 con 3,4,2 y 16"
   ]
  },
  {
   "cell_type": "code",
   "execution_count": 16,
   "metadata": {},
   "outputs": [
    {
     "data": {
      "image/png": "[encoded data removed]",
      "text/plain": [
       "<Figure size 432x288 with 1 Axes>"
      ]
     },
     "metadata": {
      "filenames": {
       "image/png": "/home/isaac/Dropbox/Docente/Externado/Github Projects/Programación/_build/jupyter_execute/24.Matplotlib_30_0.png"
      },
      "needs_background": "light"
     },
     "output_type": "display_data"
    }
   ],
   "source": [
    "x=np.arange(-10,10,0.1)\n",
    "y=np.sin(x)\n",
    "plt.plot(x,y) \n",
    "plt.ylabel('Un gráfico de sen(x)')\n",
    "plt.show()"
   ]
  },
  {
   "cell_type": "markdown",
   "metadata": {},
   "source": [
    "No obstante podemos graficar sin unir los puntos:"
   ]
  },
  {
   "cell_type": "code",
   "execution_count": 17,
   "metadata": {},
   "outputs": [
    {
     "data": {
      "image/png": "[encoded data removed]",
      "text/plain": [
       "<Figure size 432x288 with 1 Axes>"
      ]
     },
     "metadata": {
      "filenames": {
       "image/png": "/home/isaac/Dropbox/Docente/Externado/Github Projects/Programación/_build/jupyter_execute/24.Matplotlib_32_0.png"
      },
      "needs_background": "light"
     },
     "output_type": "display_data"
    }
   ],
   "source": [
    "#Gráfica de una lista de puntos:\n",
    "plt.plot([1, 2, 3, 4], [1, 4, 9, 16], '^y')\n",
    "plt.axis([0, 6, 0, 20])#ajuste de valores de los ejes\n",
    "plt.show()"
   ]
  },
  {
   "cell_type": "code",
   "execution_count": 18,
   "metadata": {},
   "outputs": [
    {
     "data": {
      "image/png": "[encoded data removed]",
      "text/plain": [
       "<Figure size 432x288 with 1 Axes>"
      ]
     },
     "metadata": {
      "filenames": {
       "image/png": "/home/isaac/Dropbox/Docente/Externado/Github Projects/Programación/_build/jupyter_execute/24.Matplotlib_33_0.png"
      },
      "needs_background": "light"
     },
     "output_type": "display_data"
    }
   ],
   "source": [
    "#Gráfico de una función aplicada a una lista\n",
    "x=np.arange(-10,10,0.1)\n",
    "y=np.sin(x)\n",
    "plt.plot(x,y,'g*') \n",
    "plt.ylabel('Un gráfico de sen(x)')\n",
    "plt.show()"
   ]
  },
  {
   "cell_type": "markdown",
   "metadata": {},
   "source": [
    "**Varias funciones en un mismo gráfico:**"
   ]
  },
  {
   "cell_type": "code",
   "execution_count": 19,
   "metadata": {},
   "outputs": [
    {
     "data": {
      "image/png": "[encoded data removed]",
      "text/plain": [
       "<Figure size 432x288 with 1 Axes>"
      ]
     },
     "metadata": {
      "filenames": {
       "image/png": "/home/isaac/Dropbox/Docente/Externado/Github Projects/Programación/_build/jupyter_execute/24.Matplotlib_35_0.png"
      },
      "needs_background": "light"
     },
     "output_type": "display_data"
    }
   ],
   "source": [
    "plt.plot(x,np.sin(x)+np.cos(x) , 'r--', x, np.sin(x), 'bs', x, np.cos(x), 'g^')\n",
    "plt.show()"
   ]
  },
  {
   "cell_type": "code",
   "execution_count": 20,
   "metadata": {},
   "outputs": [
    {
     "data": {
      "text/plain": [
       "<matplotlib.legend.Legend at 0x7f08cc380430>"
      ]
     },
     "execution_count": 20,
     "metadata": {},
     "output_type": "execute_result"
    },
    {
     "data": {
      "image/png": "[encoded data removed]",
      "text/plain": [
       "<Figure size 432x288 with 1 Axes>"
      ]
     },
     "metadata": {
      "filenames": {
       "image/png": "/home/isaac/Dropbox/Docente/Externado/Github Projects/Programación/_build/jupyter_execute/24.Matplotlib_36_1.png"
      },
      "needs_background": "light"
     },
     "output_type": "display_data"
    }
   ],
   "source": [
    "x = np.linspace(0, 2, 100)\n",
    "fig, ax = plt.subplots()  # Creamos una instancia de figura y una zona de dibujo.\n",
    "ax.plot(x, x, label='Función lineal')  #Agregamos función por función\n",
    "ax.plot(x, x**2, label='Función cuadrática')  \n",
    "ax.plot(x, x**3, label='Función cúbica') \n",
    "ax.set_xlabel('eje x') #Ajustamos títulos de ejes\n",
    "ax.set_ylabel('eje y')  \n",
    "ax.set_title(\"Tres funciones\") #Ponemos título a la gráfica\n",
    "ax.legend()  "
   ]
  },
  {
   "cell_type": "markdown",
   "metadata": {},
   "source": [
    "## ¿Qué estilos podemos agregar a las líneas?\n",
    "Las líneas, como hemos visto, tienen muchas propiedades que podemos modificar, entre ellas están: el color, el tipo de trazado, el grosor, etc. Con las siguientes líneas de comando veremos otras propiedades y las posibles modificaciones a realizar:"
   ]
  },
  {
   "cell_type": "code",
   "execution_count": 21,
   "metadata": {},
   "outputs": [
    {
     "name": "stdout",
     "output_type": "stream",
     "text": [
      "  agg_filter: a filter function, which takes a (m, n, 3) float array and a dpi value, and returns a (m, n, 3) array\n",
      "  alpha: scalar or None\n",
      "  animated: bool\n",
      "  antialiased or aa: bool\n",
      "  clip_box: `.Bbox`\n",
      "  clip_on: bool\n",
      "  clip_path: Patch or (Path, Transform) or None\n",
      "  color or c: color\n",
      "  contains: unknown\n",
      "  dash_capstyle: `.CapStyle` or {'butt', 'projecting', 'round'}\n",
      "  dash_joinstyle: `.JoinStyle` or {'miter', 'round', 'bevel'}\n",
      "  dashes: sequence of floats (on/off ink in points) or (None, None)\n",
      "  data: (2, N) array or two 1D arrays\n",
      "  drawstyle or ds: {'default', 'steps', 'steps-pre', 'steps-mid', 'steps-post'}, default: 'default'\n",
      "  figure: `.Figure`\n",
      "  fillstyle: {'full', 'left', 'right', 'bottom', 'top', 'none'}\n",
      "  gid: str\n",
      "  in_layout: bool\n",
      "  label: object\n",
      "  linestyle or ls: {'-', '--', '-.', ':', '', (offset, on-off-seq), ...}\n",
      "  linewidth or lw: float\n",
      "  marker: marker style string, `~.path.Path` or `~.markers.MarkerStyle`\n",
      "  markeredgecolor or mec: color\n",
      "  markeredgewidth or mew: float\n",
      "  markerfacecolor or mfc: color\n",
      "  markerfacecoloralt or mfcalt: color\n",
      "  markersize or ms: float\n",
      "  markevery: None or int or (int, int) or slice or list[int] or float or (float, float) or list[bool]\n",
      "  path_effects: `.AbstractPathEffect`\n",
      "  picker: float or callable[[Artist, Event], tuple[bool, dict]]\n",
      "  pickradius: float\n",
      "  rasterized: bool\n",
      "  sketch_params: (scale: float, length: float, randomness: float)\n",
      "  snap: bool or None\n",
      "  solid_capstyle: `.CapStyle` or {'butt', 'projecting', 'round'}\n",
      "  solid_joinstyle: `.JoinStyle` or {'miter', 'round', 'bevel'}\n",
      "  transform: `matplotlib.transforms.Transform`\n",
      "  url: str\n",
      "  visible: bool\n",
      "  xdata: 1D array\n",
      "  ydata: 1D array\n",
      "  zorder: float\n"
     ]
    },
    {
     "data": {
      "image/png": "[encoded data removed]",
      "text/plain": [
       "<Figure size 432x288 with 1 Axes>"
      ]
     },
     "metadata": {
      "filenames": {
       "image/png": "/home/isaac/Dropbox/Docente/Externado/Github Projects/Programación/_build/jupyter_execute/24.Matplotlib_38_1.png"
      },
      "needs_background": "light"
     },
     "output_type": "display_data"
    }
   ],
   "source": [
    "line,=plt.plot([1,2,3])\n",
    "plt.setp(line)"
   ]
  },
  {
   "cell_type": "markdown",
   "metadata": {},
   "source": [
    "## Gráficos de dispersión \n",
    "Son gráficos en los que se grafican con coordenadas cartesianas los valores de dos variables en un conjunto de datos.\n",
    "\n",
    "Para dar un buen ejemplo, iniciemos definiendo una base de datos aleatoria:"
   ]
  },
  {
   "cell_type": "code",
   "execution_count": 22,
   "metadata": {},
   "outputs": [],
   "source": [
    "data={}\n",
    "data = {'Eje x': np.arange(50),\n",
    "        'Tamaño': np.random.randn(50),\n",
    "        'Color': np.random.randint(0, 50, 50)}\n",
    "data['Eje y'] = data['Eje x'] + 10 * np.random.randn(50)\n",
    "data['Tamaño'] = np.abs(data['Tamaño']) * 100"
   ]
  },
  {
   "cell_type": "code",
   "execution_count": 23,
   "metadata": {},
   "outputs": [
    {
     "data": {
      "text/html": [
       "<div>\n",
       "<style scoped>\n",
       "    .dataframe tbody tr th:only-of-type {\n",
       "        vertical-align: middle;\n",
       "    }\n",
       "\n",
       "    .dataframe tbody tr th {\n",
       "        vertical-align: top;\n",
       "    }\n",
       "\n",
       "    .dataframe thead th {\n",
       "        text-align: right;\n",
       "    }\n",
       "</style>\n",
       "<table border=\"1\" class=\"dataframe\">\n",
       "  <thead>\n",
       "    <tr style=\"text-align: right;\">\n",
       "      <th></th>\n",
       "      <th>Eje x</th>\n",
       "      <th>Tamaño</th>\n",
       "      <th>Color</th>\n",
       "      <th>Eje y</th>\n",
       "    </tr>\n",
       "  </thead>\n",
       "  <tbody>\n",
       "    <tr>\n",
       "      <th>0</th>\n",
       "      <td>0</td>\n",
       "      <td>137.456149</td>\n",
       "      <td>46</td>\n",
       "      <td>-8.039880</td>\n",
       "    </tr>\n",
       "    <tr>\n",
       "      <th>1</th>\n",
       "      <td>1</td>\n",
       "      <td>19.668316</td>\n",
       "      <td>19</td>\n",
       "      <td>7.773414</td>\n",
       "    </tr>\n",
       "    <tr>\n",
       "      <th>2</th>\n",
       "      <td>2</td>\n",
       "      <td>40.668533</td>\n",
       "      <td>40</td>\n",
       "      <td>-2.865523</td>\n",
       "    </tr>\n",
       "    <tr>\n",
       "      <th>3</th>\n",
       "      <td>3</td>\n",
       "      <td>21.489037</td>\n",
       "      <td>4</td>\n",
       "      <td>-3.449221</td>\n",
       "    </tr>\n",
       "    <tr>\n",
       "      <th>4</th>\n",
       "      <td>4</td>\n",
       "      <td>12.185901</td>\n",
       "      <td>44</td>\n",
       "      <td>0.739722</td>\n",
       "    </tr>\n",
       "    <tr>\n",
       "      <th>5</th>\n",
       "      <td>5</td>\n",
       "      <td>111.039293</td>\n",
       "      <td>41</td>\n",
       "      <td>-10.129893</td>\n",
       "    </tr>\n",
       "    <tr>\n",
       "      <th>6</th>\n",
       "      <td>6</td>\n",
       "      <td>206.166244</td>\n",
       "      <td>28</td>\n",
       "      <td>7.493639</td>\n",
       "    </tr>\n",
       "    <tr>\n",
       "      <th>7</th>\n",
       "      <td>7</td>\n",
       "      <td>20.007704</td>\n",
       "      <td>32</td>\n",
       "      <td>8.236229</td>\n",
       "    </tr>\n",
       "    <tr>\n",
       "      <th>8</th>\n",
       "      <td>8</td>\n",
       "      <td>13.901885</td>\n",
       "      <td>5</td>\n",
       "      <td>7.597258</td>\n",
       "    </tr>\n",
       "    <tr>\n",
       "      <th>9</th>\n",
       "      <td>9</td>\n",
       "      <td>10.783350</td>\n",
       "      <td>11</td>\n",
       "      <td>17.181409</td>\n",
       "    </tr>\n",
       "    <tr>\n",
       "      <th>10</th>\n",
       "      <td>10</td>\n",
       "      <td>67.794089</td>\n",
       "      <td>11</td>\n",
       "      <td>4.688235</td>\n",
       "    </tr>\n",
       "    <tr>\n",
       "      <th>11</th>\n",
       "      <td>11</td>\n",
       "      <td>19.478211</td>\n",
       "      <td>0</td>\n",
       "      <td>-6.657678</td>\n",
       "    </tr>\n",
       "    <tr>\n",
       "      <th>12</th>\n",
       "      <td>12</td>\n",
       "      <td>182.725452</td>\n",
       "      <td>36</td>\n",
       "      <td>17.451877</td>\n",
       "    </tr>\n",
       "    <tr>\n",
       "      <th>13</th>\n",
       "      <td>13</td>\n",
       "      <td>60.064599</td>\n",
       "      <td>31</td>\n",
       "      <td>0.406948</td>\n",
       "    </tr>\n",
       "    <tr>\n",
       "      <th>14</th>\n",
       "      <td>14</td>\n",
       "      <td>131.504402</td>\n",
       "      <td>49</td>\n",
       "      <td>24.996091</td>\n",
       "    </tr>\n",
       "    <tr>\n",
       "      <th>15</th>\n",
       "      <td>15</td>\n",
       "      <td>167.259516</td>\n",
       "      <td>9</td>\n",
       "      <td>13.468754</td>\n",
       "    </tr>\n",
       "    <tr>\n",
       "      <th>16</th>\n",
       "      <td>16</td>\n",
       "      <td>15.613690</td>\n",
       "      <td>26</td>\n",
       "      <td>13.720968</td>\n",
       "    </tr>\n",
       "    <tr>\n",
       "      <th>17</th>\n",
       "      <td>17</td>\n",
       "      <td>3.880504</td>\n",
       "      <td>28</td>\n",
       "      <td>12.513550</td>\n",
       "    </tr>\n",
       "    <tr>\n",
       "      <th>18</th>\n",
       "      <td>18</td>\n",
       "      <td>185.636188</td>\n",
       "      <td>29</td>\n",
       "      <td>24.478988</td>\n",
       "    </tr>\n",
       "    <tr>\n",
       "      <th>19</th>\n",
       "      <td>19</td>\n",
       "      <td>123.273705</td>\n",
       "      <td>40</td>\n",
       "      <td>0.856660</td>\n",
       "    </tr>\n",
       "    <tr>\n",
       "      <th>20</th>\n",
       "      <td>20</td>\n",
       "      <td>96.216264</td>\n",
       "      <td>15</td>\n",
       "      <td>18.323885</td>\n",
       "    </tr>\n",
       "    <tr>\n",
       "      <th>21</th>\n",
       "      <td>21</td>\n",
       "      <td>99.092686</td>\n",
       "      <td>0</td>\n",
       "      <td>15.378242</td>\n",
       "    </tr>\n",
       "    <tr>\n",
       "      <th>22</th>\n",
       "      <td>22</td>\n",
       "      <td>155.110580</td>\n",
       "      <td>21</td>\n",
       "      <td>12.497232</td>\n",
       "    </tr>\n",
       "    <tr>\n",
       "      <th>23</th>\n",
       "      <td>23</td>\n",
       "      <td>30.212984</td>\n",
       "      <td>43</td>\n",
       "      <td>25.111791</td>\n",
       "    </tr>\n",
       "    <tr>\n",
       "      <th>24</th>\n",
       "      <td>24</td>\n",
       "      <td>71.381167</td>\n",
       "      <td>6</td>\n",
       "      <td>19.061379</td>\n",
       "    </tr>\n",
       "    <tr>\n",
       "      <th>25</th>\n",
       "      <td>25</td>\n",
       "      <td>122.312295</td>\n",
       "      <td>28</td>\n",
       "      <td>34.240935</td>\n",
       "    </tr>\n",
       "    <tr>\n",
       "      <th>26</th>\n",
       "      <td>26</td>\n",
       "      <td>46.497974</td>\n",
       "      <td>27</td>\n",
       "      <td>30.951021</td>\n",
       "    </tr>\n",
       "    <tr>\n",
       "      <th>27</th>\n",
       "      <td>27</td>\n",
       "      <td>73.179652</td>\n",
       "      <td>7</td>\n",
       "      <td>12.585601</td>\n",
       "    </tr>\n",
       "    <tr>\n",
       "      <th>28</th>\n",
       "      <td>28</td>\n",
       "      <td>22.849896</td>\n",
       "      <td>45</td>\n",
       "      <td>22.913337</td>\n",
       "    </tr>\n",
       "    <tr>\n",
       "      <th>29</th>\n",
       "      <td>29</td>\n",
       "      <td>3.068158</td>\n",
       "      <td>4</td>\n",
       "      <td>31.485496</td>\n",
       "    </tr>\n",
       "    <tr>\n",
       "      <th>30</th>\n",
       "      <td>30</td>\n",
       "      <td>110.573471</td>\n",
       "      <td>43</td>\n",
       "      <td>24.346866</td>\n",
       "    </tr>\n",
       "    <tr>\n",
       "      <th>31</th>\n",
       "      <td>31</td>\n",
       "      <td>162.797021</td>\n",
       "      <td>17</td>\n",
       "      <td>51.451896</td>\n",
       "    </tr>\n",
       "    <tr>\n",
       "      <th>32</th>\n",
       "      <td>32</td>\n",
       "      <td>202.847165</td>\n",
       "      <td>49</td>\n",
       "      <td>24.041210</td>\n",
       "    </tr>\n",
       "    <tr>\n",
       "      <th>33</th>\n",
       "      <td>33</td>\n",
       "      <td>64.243137</td>\n",
       "      <td>18</td>\n",
       "      <td>17.076956</td>\n",
       "    </tr>\n",
       "    <tr>\n",
       "      <th>34</th>\n",
       "      <td>34</td>\n",
       "      <td>87.402257</td>\n",
       "      <td>23</td>\n",
       "      <td>33.802036</td>\n",
       "    </tr>\n",
       "    <tr>\n",
       "      <th>35</th>\n",
       "      <td>35</td>\n",
       "      <td>107.770298</td>\n",
       "      <td>18</td>\n",
       "      <td>29.600960</td>\n",
       "    </tr>\n",
       "    <tr>\n",
       "      <th>36</th>\n",
       "      <td>36</td>\n",
       "      <td>139.830736</td>\n",
       "      <td>48</td>\n",
       "      <td>43.311197</td>\n",
       "    </tr>\n",
       "    <tr>\n",
       "      <th>37</th>\n",
       "      <td>37</td>\n",
       "      <td>20.289672</td>\n",
       "      <td>37</td>\n",
       "      <td>42.275936</td>\n",
       "    </tr>\n",
       "    <tr>\n",
       "      <th>38</th>\n",
       "      <td>38</td>\n",
       "      <td>73.028368</td>\n",
       "      <td>6</td>\n",
       "      <td>31.571357</td>\n",
       "    </tr>\n",
       "    <tr>\n",
       "      <th>39</th>\n",
       "      <td>39</td>\n",
       "      <td>104.298582</td>\n",
       "      <td>32</td>\n",
       "      <td>38.056199</td>\n",
       "    </tr>\n",
       "    <tr>\n",
       "      <th>40</th>\n",
       "      <td>40</td>\n",
       "      <td>147.792809</td>\n",
       "      <td>42</td>\n",
       "      <td>37.597479</td>\n",
       "    </tr>\n",
       "    <tr>\n",
       "      <th>41</th>\n",
       "      <td>41</td>\n",
       "      <td>92.302494</td>\n",
       "      <td>48</td>\n",
       "      <td>44.459368</td>\n",
       "    </tr>\n",
       "    <tr>\n",
       "      <th>42</th>\n",
       "      <td>42</td>\n",
       "      <td>28.249591</td>\n",
       "      <td>46</td>\n",
       "      <td>53.076421</td>\n",
       "    </tr>\n",
       "    <tr>\n",
       "      <th>43</th>\n",
       "      <td>43</td>\n",
       "      <td>54.905833</td>\n",
       "      <td>14</td>\n",
       "      <td>56.149588</td>\n",
       "    </tr>\n",
       "    <tr>\n",
       "      <th>44</th>\n",
       "      <td>44</td>\n",
       "      <td>3.195798</td>\n",
       "      <td>1</td>\n",
       "      <td>49.367946</td>\n",
       "    </tr>\n",
       "    <tr>\n",
       "      <th>45</th>\n",
       "      <td>45</td>\n",
       "      <td>3.400262</td>\n",
       "      <td>38</td>\n",
       "      <td>37.725888</td>\n",
       "    </tr>\n",
       "    <tr>\n",
       "      <th>46</th>\n",
       "      <td>46</td>\n",
       "      <td>120.628820</td>\n",
       "      <td>34</td>\n",
       "      <td>55.105190</td>\n",
       "    </tr>\n",
       "    <tr>\n",
       "      <th>47</th>\n",
       "      <td>47</td>\n",
       "      <td>12.417304</td>\n",
       "      <td>9</td>\n",
       "      <td>36.796866</td>\n",
       "    </tr>\n",
       "    <tr>\n",
       "      <th>48</th>\n",
       "      <td>48</td>\n",
       "      <td>82.518532</td>\n",
       "      <td>13</td>\n",
       "      <td>36.088961</td>\n",
       "    </tr>\n",
       "    <tr>\n",
       "      <th>49</th>\n",
       "      <td>49</td>\n",
       "      <td>7.119088</td>\n",
       "      <td>29</td>\n",
       "      <td>43.586037</td>\n",
       "    </tr>\n",
       "  </tbody>\n",
       "</table>\n",
       "</div>"
      ],
      "text/plain": [
       "    Eje x      Tamaño  Color      Eje y\n",
       "0       0  137.456149     46  -8.039880\n",
       "1       1   19.668316     19   7.773414\n",
       "2       2   40.668533     40  -2.865523\n",
       "3       3   21.489037      4  -3.449221\n",
       "4       4   12.185901     44   0.739722\n",
       "5       5  111.039293     41 -10.129893\n",
       "6       6  206.166244     28   7.493639\n",
       "7       7   20.007704     32   8.236229\n",
       "8       8   13.901885      5   7.597258\n",
       "9       9   10.783350     11  17.181409\n",
       "10     10   67.794089     11   4.688235\n",
       "11     11   19.478211      0  -6.657678\n",
       "12     12  182.725452     36  17.451877\n",
       "13     13   60.064599     31   0.406948\n",
       "14     14  131.504402     49  24.996091\n",
       "15     15  167.259516      9  13.468754\n",
       "16     16   15.613690     26  13.720968\n",
       "17     17    3.880504     28  12.513550\n",
       "18     18  185.636188     29  24.478988\n",
       "19     19  123.273705     40   0.856660\n",
       "20     20   96.216264     15  18.323885\n",
       "21     21   99.092686      0  15.378242\n",
       "22     22  155.110580     21  12.497232\n",
       "23     23   30.212984     43  25.111791\n",
       "24     24   71.381167      6  19.061379\n",
       "25     25  122.312295     28  34.240935\n",
       "26     26   46.497974     27  30.951021\n",
       "27     27   73.179652      7  12.585601\n",
       "28     28   22.849896     45  22.913337\n",
       "29     29    3.068158      4  31.485496\n",
       "30     30  110.573471     43  24.346866\n",
       "31     31  162.797021     17  51.451896\n",
       "32     32  202.847165     49  24.041210\n",
       "33     33   64.243137     18  17.076956\n",
       "34     34   87.402257     23  33.802036\n",
       "35     35  107.770298     18  29.600960\n",
       "36     36  139.830736     48  43.311197\n",
       "37     37   20.289672     37  42.275936\n",
       "38     38   73.028368      6  31.571357\n",
       "39     39  104.298582     32  38.056199\n",
       "40     40  147.792809     42  37.597479\n",
       "41     41   92.302494     48  44.459368\n",
       "42     42   28.249591     46  53.076421\n",
       "43     43   54.905833     14  56.149588\n",
       "44     44    3.195798      1  49.367946\n",
       "45     45    3.400262     38  37.725888\n",
       "46     46  120.628820     34  55.105190\n",
       "47     47   12.417304      9  36.796866\n",
       "48     48   82.518532     13  36.088961\n",
       "49     49    7.119088     29  43.586037"
      ]
     },
     "execution_count": 23,
     "metadata": {},
     "output_type": "execute_result"
    }
   ],
   "source": [
    "import pandas as pd\n",
    "data=pd.DataFrame(data)\n",
    "data"
   ]
  },
  {
   "cell_type": "code",
   "execution_count": 24,
   "metadata": {},
   "outputs": [
    {
     "data": {
      "text/plain": [
       "0      0\n",
       "1      1\n",
       "2      2\n",
       "3      3\n",
       "4      4\n",
       "5      5\n",
       "6      6\n",
       "7      7\n",
       "8      8\n",
       "9      9\n",
       "10    10\n",
       "11    11\n",
       "12    12\n",
       "13    13\n",
       "14    14\n",
       "15    15\n",
       "16    16\n",
       "17    17\n",
       "18    18\n",
       "19    19\n",
       "20    20\n",
       "21    21\n",
       "22    22\n",
       "23    23\n",
       "24    24\n",
       "25    25\n",
       "26    26\n",
       "27    27\n",
       "28    28\n",
       "29    29\n",
       "30    30\n",
       "31    31\n",
       "32    32\n",
       "33    33\n",
       "34    34\n",
       "35    35\n",
       "36    36\n",
       "37    37\n",
       "38    38\n",
       "39    39\n",
       "40    40\n",
       "41    41\n",
       "42    42\n",
       "43    43\n",
       "44    44\n",
       "45    45\n",
       "46    46\n",
       "47    47\n",
       "48    48\n",
       "49    49\n",
       "Name: Eje x, dtype: int64"
      ]
     },
     "execution_count": 24,
     "metadata": {},
     "output_type": "execute_result"
    }
   ],
   "source": [
    "data['Eje x']"
   ]
  },
  {
   "cell_type": "code",
   "execution_count": 25,
   "metadata": {},
   "outputs": [
    {
     "data": {
      "text/plain": [
       "0     -8.039880\n",
       "1      7.773414\n",
       "2     -2.865523\n",
       "3     -3.449221\n",
       "4      0.739722\n",
       "5    -10.129893\n",
       "6      7.493639\n",
       "7      8.236229\n",
       "8      7.597258\n",
       "9     17.181409\n",
       "10     4.688235\n",
       "11    -6.657678\n",
       "12    17.451877\n",
       "13     0.406948\n",
       "14    24.996091\n",
       "15    13.468754\n",
       "16    13.720968\n",
       "17    12.513550\n",
       "18    24.478988\n",
       "19     0.856660\n",
       "20    18.323885\n",
       "21    15.378242\n",
       "22    12.497232\n",
       "23    25.111791\n",
       "24    19.061379\n",
       "25    34.240935\n",
       "26    30.951021\n",
       "27    12.585601\n",
       "28    22.913337\n",
       "29    31.485496\n",
       "30    24.346866\n",
       "31    51.451896\n",
       "32    24.041210\n",
       "33    17.076956\n",
       "34    33.802036\n",
       "35    29.600960\n",
       "36    43.311197\n",
       "37    42.275936\n",
       "38    31.571357\n",
       "39    38.056199\n",
       "40    37.597479\n",
       "41    44.459368\n",
       "42    53.076421\n",
       "43    56.149588\n",
       "44    49.367946\n",
       "45    37.725888\n",
       "46    55.105190\n",
       "47    36.796866\n",
       "48    36.088961\n",
       "49    43.586037\n",
       "Name: Eje y, dtype: float64"
      ]
     },
     "execution_count": 25,
     "metadata": {},
     "output_type": "execute_result"
    }
   ],
   "source": [
    "data['Eje y']"
   ]
  },
  {
   "cell_type": "code",
   "execution_count": 26,
   "metadata": {},
   "outputs": [
    {
     "data": {
      "image/png": "[encoded data removed]",
      "text/plain": [
       "<Figure size 432x288 with 1 Axes>"
      ]
     },
     "metadata": {
      "filenames": {
       "image/png": "/home/isaac/Dropbox/Docente/Externado/Github Projects/Programación/_build/jupyter_execute/24.Matplotlib_44_0.png"
      },
      "needs_background": "light"
     },
     "output_type": "display_data"
    }
   ],
   "source": [
    "plt.scatter('Eje x', 'Eje y',data=data)\n",
    "plt.xlabel('Valores guardados en \"Eje x\"')\n",
    "plt.ylabel('Valores guardados en \"Eje y\"')\n",
    "plt.grid()\n",
    "plt.show()"
   ]
  },
  {
   "cell_type": "markdown",
   "metadata": {},
   "source": [
    "En los gráficos de dispersión, podemos agregar más variables al gráfico sin aumentar su dimensión. Introduzcamos una variable, el tamaño:"
   ]
  },
  {
   "cell_type": "code",
   "execution_count": 27,
   "metadata": {},
   "outputs": [
    {
     "data": {
      "image/png": "[encoded data removed]",
      "text/plain": [
       "<Figure size 432x288 with 1 Axes>"
      ]
     },
     "metadata": {
      "filenames": {
       "image/png": "/home/isaac/Dropbox/Docente/Externado/Github Projects/Programación/_build/jupyter_execute/24.Matplotlib_46_0.png"
      },
      "needs_background": "light"
     },
     "output_type": "display_data"
    }
   ],
   "source": [
    "plt.scatter('Eje x', 'Eje y',s='Tamaño',data=data)#1\n",
    "plt.xlabel('Valores guardados en a')\n",
    "plt.ylabel('Valores guardados en b')\n",
    "plt.show()"
   ]
  },
  {
   "cell_type": "markdown",
   "metadata": {},
   "source": [
    "1. El argumento `s`, permite modificar el tamaño del punto según el valor dado en la variable (`s`=`size`)."
   ]
  },
  {
   "cell_type": "markdown",
   "metadata": {},
   "source": [
    "Además podemos agregar una cuarta variable, por ejemplo, usemos colores:"
   ]
  },
  {
   "cell_type": "code",
   "execution_count": 28,
   "metadata": {},
   "outputs": [
    {
     "data": {
      "image/png": "[encoded data removed]",
      "text/plain": [
       "<Figure size 432x288 with 1 Axes>"
      ]
     },
     "metadata": {
      "filenames": {
       "image/png": "/home/isaac/Dropbox/Docente/Externado/Github Projects/Programación/_build/jupyter_execute/24.Matplotlib_49_0.png"
      },
      "needs_background": "light"
     },
     "output_type": "display_data"
    }
   ],
   "source": [
    "plt.scatter('Eje x', 'Eje y',s='Tamaño',c='Color',cmap='inferno',data=data)#1\n",
    "plt.xlabel('Valores guardados en a')\n",
    "plt.ylabel('Valores guardados en b')\n",
    "plt.show()"
   ]
  },
  {
   "cell_type": "markdown",
   "metadata": {},
   "source": [
    "1. El argumento `c` (`c` de `color`) permite asignar un color por cada valor en la variable. El argumento `cmap` (*colormap*) es para seleccionar la paleta de colores a utilizar (para ver la gama completa de colores visite [Colores](https://matplotlib.org/stable/tutorials/colors/colormaps.html)).\n",
    "\n",
    "En resumen, hemos graficado en un plano cartesiano cuatro variables, una representada por el eje horizontal, otra por el eje vertical, una más representada por el tamaño y la última representada por el color."
   ]
  },
  {
   "cell_type": "markdown",
   "metadata": {},
   "source": [
    "## Gráficos para variables categóricas\n",
    "\n",
    "Con `Matplotlib` también podemos hacer gráficos de variables categóricas. Un ejemplo simple:"
   ]
  },
  {
   "cell_type": "code",
   "execution_count": 29,
   "metadata": {},
   "outputs": [
    {
     "data": {
      "text/plain": [
       "<BarContainer object of 3 artists>"
      ]
     },
     "execution_count": 29,
     "metadata": {},
     "output_type": "execute_result"
    },
    {
     "data": {
      "image/png": "[encoded data removed]",
      "text/plain": [
       "<Figure size 432x288 with 1 Axes>"
      ]
     },
     "metadata": {
      "filenames": {
       "image/png": "/home/isaac/Dropbox/Docente/Externado/Github Projects/Programación/_build/jupyter_execute/24.Matplotlib_52_1.png"
      },
      "needs_background": "light"
     },
     "output_type": "display_data"
    }
   ],
   "source": [
    "x=[\"María\", \"Pedro\", \"Juan\"]\n",
    "y=[10,12,8]\n",
    "plt.bar(x,y)"
   ]
  },
  {
   "cell_type": "markdown",
   "metadata": {},
   "source": [
    "Si deseamos las barras horizontales y cambiar el color:"
   ]
  },
  {
   "cell_type": "code",
   "execution_count": 30,
   "metadata": {},
   "outputs": [
    {
     "data": {
      "text/plain": [
       "<BarContainer object of 3 artists>"
      ]
     },
     "execution_count": 30,
     "metadata": {},
     "output_type": "execute_result"
    },
    {
     "data": {
      "image/png": "[encoded data removed]",
      "text/plain": [
       "<Figure size 432x288 with 1 Axes>"
      ]
     },
     "metadata": {
      "filenames": {
       "image/png": "/home/isaac/Dropbox/Docente/Externado/Github Projects/Programación/_build/jupyter_execute/24.Matplotlib_54_1.png"
      },
      "needs_background": "light"
     },
     "output_type": "display_data"
    }
   ],
   "source": [
    "x=[\"María\", \"Pedro\", \"Juan\"]\n",
    "y=[10,12,8]\n",
    "plt.barh(x,y,color='y')"
   ]
  },
  {
   "cell_type": "markdown",
   "metadata": {},
   "source": [
    "También podemos unir los puntos con líneas como hicimos al principio:"
   ]
  },
  {
   "cell_type": "code",
   "execution_count": 31,
   "metadata": {},
   "outputs": [
    {
     "data": {
      "text/plain": [
       "[<matplotlib.lines.Line2D at 0x7f08c876b220>]"
      ]
     },
     "execution_count": 31,
     "metadata": {},
     "output_type": "execute_result"
    },
    {
     "data": {
      "image/png": "[encoded data removed]",
      "text/plain": [
       "<Figure size 432x288 with 1 Axes>"
      ]
     },
     "metadata": {
      "filenames": {
       "image/png": "/home/isaac/Dropbox/Docente/Externado/Github Projects/Programación/_build/jupyter_execute/24.Matplotlib_56_1.png"
      },
      "needs_background": "light"
     },
     "output_type": "display_data"
    }
   ],
   "source": [
    "x=[\"María\", \"Pedro\", \"Juan\"]\n",
    "y=[10,12,8]\n",
    "plt.plot(x,y)"
   ]
  },
  {
   "cell_type": "markdown",
   "metadata": {},
   "source": [
    "O también podríamos realizar el gráfico de dispersión para las categorías, aunque no es muy utilizado:"
   ]
  },
  {
   "cell_type": "code",
   "execution_count": 32,
   "metadata": {},
   "outputs": [
    {
     "data": {
      "text/plain": [
       "<matplotlib.collections.PathCollection at 0x7f08c86ecee0>"
      ]
     },
     "execution_count": 32,
     "metadata": {},
     "output_type": "execute_result"
    },
    {
     "data": {
      "image/png": "[encoded data removed]",
      "text/plain": [
       "<Figure size 432x288 with 1 Axes>"
      ]
     },
     "metadata": {
      "filenames": {
       "image/png": "/home/isaac/Dropbox/Docente/Externado/Github Projects/Programación/_build/jupyter_execute/24.Matplotlib_58_1.png"
      },
      "needs_background": "light"
     },
     "output_type": "display_data"
    }
   ],
   "source": [
    "x=[\"María\", \"Pedro\", \"Juan\"]\n",
    "y=[10,12,8]\n",
    "plt.scatter(y,x)"
   ]
  },
  {
   "cell_type": "markdown",
   "metadata": {},
   "source": [
    "En algunas oportunidades, las variables que tratemos se prestan para realizar un gráfico de barras apilado, es decir, una barra sobre la otra separando los colores por categoría:"
   ]
  },
  {
   "cell_type": "code",
   "execution_count": 33,
   "metadata": {},
   "outputs": [
    {
     "data": {
      "text/plain": [
       "<matplotlib.legend.Legend at 0x7f08c8899550>"
      ]
     },
     "execution_count": 33,
     "metadata": {},
     "output_type": "execute_result"
    },
    {
     "data": {
      "image/png": "[encoded data removed]",
      "text/plain": [
       "<Figure size 432x288 with 1 Axes>"
      ]
     },
     "metadata": {
      "filenames": {
       "image/png": "/home/isaac/Dropbox/Docente/Externado/Github Projects/Programación/_build/jupyter_execute/24.Matplotlib_60_1.png"
      },
      "needs_background": "light"
     },
     "output_type": "display_data"
    }
   ],
   "source": [
    "#Definamos los elementos con los que trabajaremos:\n",
    "labels = ['G1', 'G2', 'G3', 'G4', 'G5']#Nombres de los grupos\n",
    "hombres = [24, 26, 30, 35, 17]#Puntajes de los hombres\n",
    "mujeres = np.array([22, 31, 44, 18, 30])#Puntajes de las mujeres\n",
    "width = 0.9#Ancho de la barra\n",
    "\n",
    "fig, ax = plt.subplots()\n",
    "ax.barh(labels, mujeres, width, left=hombres,label='Mujeres')\n",
    "ax.barh(labels, hombres, width, label='Hombres')\n",
    "ax.set_ylabel('Puntuaciones')\n",
    "ax.set_title('Puntuaciones por grupo y género')\n",
    "ax.legend()\n"
   ]
  },
  {
   "cell_type": "markdown",
   "metadata": {},
   "source": [
    "Ahora, vamos a realizar la gráfica con los datos agrupados:"
   ]
  },
  {
   "cell_type": "code",
   "execution_count": 34,
   "metadata": {},
   "outputs": [
    {
     "data": {
      "text/plain": [
       "array([0, 1, 2, 3, 4])"
      ]
     },
     "execution_count": 34,
     "metadata": {},
     "output_type": "execute_result"
    }
   ],
   "source": [
    "x = np.arange(len(labels)) \n",
    "x"
   ]
  },
  {
   "cell_type": "code",
   "execution_count": 35,
   "metadata": {},
   "outputs": [
    {
     "data": {
      "text/plain": [
       "<matplotlib.legend.Legend at 0x7f08c89716d0>"
      ]
     },
     "execution_count": 35,
     "metadata": {},
     "output_type": "execute_result"
    },
    {
     "data": {
      "image/png": "[encoded data removed]",
      "text/plain": [
       "<Figure size 432x288 with 1 Axes>"
      ]
     },
     "metadata": {
      "filenames": {
       "image/png": "/home/isaac/Dropbox/Docente/Externado/Github Projects/Programación/_build/jupyter_execute/24.Matplotlib_63_1.png"
      },
      "needs_background": "light"
     },
     "output_type": "display_data"
    }
   ],
   "source": [
    "width=0.35\n",
    "x = np.arange(len(labels)) \n",
    "fig, ax = plt.subplots()\n",
    "rects1 = ax.barh(x - width/2, hombres, width, label='Hombres')\n",
    "rects2 = ax.barh(x+width/2, mujeres, width, label='Mujeres')\n",
    "ax.set_yticks(x)\n",
    "ax.set_yticklabels(labels)\n",
    "\n",
    "ax.set_xlabel('Puntuaciones')\n",
    "ax.set_title('Puntuaciones por grupo y género')\n",
    "ax.legend()\n"
   ]
  },
  {
   "cell_type": "markdown",
   "metadata": {},
   "source": [
    "## Histogramas\n",
    "Son gráficos empleados para dar un primer vistazo del comportamiento de la variable. Se hace mediante barras, y la altura de cada barra depende de la frecuencia de los valores representados:"
   ]
  },
  {
   "cell_type": "code",
   "execution_count": 36,
   "metadata": {},
   "outputs": [
    {
     "data": {
      "image/png": "[encoded data removed]",
      "text/plain": [
       "<Figure size 432x288 with 1 Axes>"
      ]
     },
     "metadata": {
      "filenames": {
       "image/png": "/home/isaac/Dropbox/Docente/Externado/Github Projects/Programación/_build/jupyter_execute/24.Matplotlib_65_0.png"
      },
      "needs_background": "light"
     },
     "output_type": "display_data"
    }
   ],
   "source": [
    "#Generamos valores aleatorios:\n",
    "mu, sigma = 100, 15\n",
    "x = mu + sigma * np.random.randn(10000)\n",
    "\n",
    "n, bins, patches = plt.hist(x, 10, density=True, facecolor='y', alpha=0.5)\n",
    "\n",
    "plt.xlabel('Puntaje')\n",
    "plt.ylabel('Probabilidad')\n",
    "plt.title('Histograma')\n",
    "plt.axis([40, 160, 0, 0.03])\n",
    "plt.grid(True)\n",
    "plt.show()\n"
   ]
  },
  {
   "cell_type": "code",
   "execution_count": 37,
   "metadata": {},
   "outputs": [
    {
     "data": {
      "text/plain": [
       "array([2.52509375e-05, 3.53513126e-04, 2.36517115e-03, 9.42701668e-03,\n",
       "       2.13202083e-02, 2.58653770e-02, 1.71874715e-02, 6.11914386e-03,\n",
       "       1.37196761e-03, 1.34671667e-04])"
      ]
     },
     "execution_count": 37,
     "metadata": {},
     "output_type": "execute_result"
    }
   ],
   "source": [
    "#Valor de la probabilidad\n",
    "n"
   ]
  },
  {
   "cell_type": "code",
   "execution_count": 38,
   "metadata": {},
   "outputs": [
    {
     "data": {
      "text/plain": [
       "array([ 36.82657967,  48.70732665,  60.58807363,  72.46882061,\n",
       "        84.3495676 ,  96.23031458, 108.11106156, 119.99180854,\n",
       "       131.87255553, 143.75330251, 155.63404949])"
      ]
     },
     "execution_count": 38,
     "metadata": {},
     "output_type": "execute_result"
    }
   ],
   "source": [
    "#Valores de los extremos de las barras\n",
    "bins"
   ]
  },
  {
   "cell_type": "code",
   "execution_count": 39,
   "metadata": {},
   "outputs": [
    {
     "data": {
      "text/plain": [
       "<BarContainer object of 10 artists>"
      ]
     },
     "execution_count": 39,
     "metadata": {},
     "output_type": "execute_result"
    }
   ],
   "source": [
    "#Son los contenedores que se utilizan para crear el histograma\n",
    "patches"
   ]
  },
  {
   "cell_type": "markdown",
   "metadata": {},
   "source": [
    "Vamos a definir una función en la que podamos controlar dos aspectos: el primero será la cantidad de barras que se graficarán y el segundo la intensidad del color:"
   ]
  },
  {
   "cell_type": "code",
   "execution_count": 40,
   "metadata": {},
   "outputs": [],
   "source": [
    "mu, sigma = 100, 15\n",
    "x = mu + sigma * np.random.randn(10000)\n",
    "def histograma(n,a):\n",
    "    plt.hist(x, n, density=True, facecolor='y', alpha=a)\n",
    "    plt.xlabel('Puntaje')\n",
    "    plt.ylabel('Probabilidad')\n",
    "    plt.title('Histograma')\n",
    "    plt.axis([40, 160, 0, 0.03])\n",
    "    plt.grid(True)\n",
    "    plt.show()\n",
    "    return"
   ]
  },
  {
   "cell_type": "code",
   "execution_count": 41,
   "metadata": {},
   "outputs": [
    {
     "data": {
      "image/png": "[encoded data removed]",
      "text/plain": [
       "<Figure size 432x288 with 1 Axes>"
      ]
     },
     "metadata": {
      "filenames": {
       "image/png": "/home/isaac/Dropbox/Docente/Externado/Github Projects/Programación/_build/jupyter_execute/24.Matplotlib_71_0.png"
      },
      "needs_background": "light"
     },
     "output_type": "display_data"
    }
   ],
   "source": [
    "histograma(5,0.5)"
   ]
  },
  {
   "cell_type": "markdown",
   "metadata": {},
   "source": [
    "Ahora agregaremos los componentes de interactividad vistos en el cuaderno anterior:"
   ]
  },
  {
   "cell_type": "code",
   "execution_count": 42,
   "metadata": {},
   "outputs": [
    {
     "data": {
      "application/vnd.jupyter.widget-view+json": {
       "model_id": "db377edb50634f4f99cfa052cb70275a",
       "version_major": 2,
       "version_minor": 0
      },
      "text/plain": [
       "interactive(children=(IntSlider(value=30, description='Intervalos', max=50, min=1), FloatSlider(value=0.5, des…"
      ]
     },
     "metadata": {},
     "output_type": "display_data"
    },
    {
     "data": {
      "text/plain": [
       "<function __main__.histograma(n, a)>"
      ]
     },
     "execution_count": 42,
     "metadata": {},
     "output_type": "execute_result"
    }
   ],
   "source": [
    "import ipywidgets as widgets\n",
    "from ipywidgets import interact\n",
    "interact(histograma,n=widgets.IntSlider(value=30,min=1,max=50,description=\"Intervalos\"),\n",
    "         a=widgets.FloatSlider(value=0.5,min=0,max=1,description=\"Transparencia\"))"
   ]
  },
  {
   "cell_type": "markdown",
   "metadata": {},
   "source": [
    "Importaremos el paquete `math` para hacer un ejercicio muy interesante:"
   ]
  },
  {
   "cell_type": "code",
   "execution_count": 43,
   "metadata": {},
   "outputs": [
    {
     "data": {
      "text/plain": [
       "5.0"
      ]
     },
     "execution_count": 43,
     "metadata": {},
     "output_type": "execute_result"
    }
   ],
   "source": [
    "from math import sqrt\n",
    "x=25\n",
    "eval(\"sqrt(x)\")"
   ]
  },
  {
   "cell_type": "markdown",
   "metadata": {},
   "source": [
    "## Graficador de funciones\n",
    "Haremos un graficador de funciones, cuyas variables serán: el nombre de la función (`nf`), los valores mínimo y máximo en el eje x (`xmin`, `xmax`) y también los valores mínimo y máximo en el eje y (`ymin`, `ymax`):"
   ]
  },
  {
   "cell_type": "code",
   "execution_count": 44,
   "metadata": {},
   "outputs": [
    {
     "data": {
      "application/vnd.jupyter.widget-view+json": {
       "model_id": "5841c814bf6942ca998e0d862523eb6a",
       "version_major": 2,
       "version_minor": 0
      },
      "text/plain": [
       "interactive(children=(Text(value='(x-3)**2', description='nf'), IntSlider(value=-10, description='xmin', max=1…"
      ]
     },
     "metadata": {},
     "output_type": "display_data"
    },
    {
     "data": {
      "text/plain": [
       "<function __main__.graffun(nf, xmin, xmax, ymin, ymax)>"
      ]
     },
     "execution_count": 44,
     "metadata": {},
     "output_type": "execute_result"
    },
    {
     "data": {
      "image/png": "[encoded data removed]",
      "text/plain": [
       "<Figure size 432x288 with 1 Axes>"
      ]
     },
     "metadata": {
      "filenames": {
       "image/png": "/home/isaac/Dropbox/Docente/Externado/Github Projects/Programación/_build/jupyter_execute/24.Matplotlib_77_2.png"
      },
      "needs_background": "light"
     },
     "output_type": "display_data"
    }
   ],
   "source": [
    "def graffun(nf,xmin,xmax,ymin,ymax):\n",
    "    try:\n",
    "        x = np.linspace(xmin, xmax, 100)\n",
    "        y=eval(nf)\n",
    "        plt.plot(x,y)\n",
    "        plt.axis([xmin,xmax,ymin,ymax])\n",
    "        plt.grid(True)\n",
    "    except:\n",
    "        print('Error!!')\n",
    "\n",
    "\n",
    "interact(graffun,nf='(x-3)**2',xmin=-10,xmax=2*np.pi,ymin=-1,ymax=1)  "
   ]
  },
  {
   "cell_type": "markdown",
   "metadata": {},
   "source": [
    "## Texto en las gráficas\n",
    "\n",
    "Si necesitamos introducir elementos aclaratorios en nuestras gráficas, podemos usar el comando `plt.text()` o el comando `plt.annotate()`:"
   ]
  },
  {
   "cell_type": "code",
   "execution_count": 45,
   "metadata": {},
   "outputs": [
    {
     "data": {
      "image/png": "[encoded data removed]",
      "text/plain": [
       "<Figure size 432x288 with 1 Axes>"
      ]
     },
     "metadata": {
      "filenames": {
       "image/png": "/home/isaac/Dropbox/Docente/Externado/Github Projects/Programación/_build/jupyter_execute/24.Matplotlib_79_0.png"
      },
      "needs_background": "light"
     },
     "output_type": "display_data"
    }
   ],
   "source": [
    "ax = plt.subplot(111)\n",
    "\n",
    "t = np.arange(0.0, 5.0, 0.01)\n",
    "s = np.cos(2*np.pi*t)\n",
    "line, = plt.plot(t, s, lw=2)\n",
    "\n",
    "plt.text(0.7,1.12,'Un máximo\\nlocal ')#1\n",
    "plt.ylim(-2, 2)\n",
    "plt.show()"
   ]
  },
  {
   "cell_type": "markdown",
   "metadata": {},
   "source": [
    "1. Las primeras entradas son las coordenadas del texto y la tercera es el texto que se desea agregar.\n"
   ]
  },
  {
   "cell_type": "code",
   "execution_count": 46,
   "metadata": {},
   "outputs": [
    {
     "data": {
      "image/png": "[encoded data removed]",
      "text/plain": [
       "<Figure size 432x288 with 1 Axes>"
      ]
     },
     "metadata": {
      "filenames": {
       "image/png": "/home/isaac/Dropbox/Docente/Externado/Github Projects/Programación/_build/jupyter_execute/24.Matplotlib_81_0.png"
      },
      "needs_background": "light"
     },
     "output_type": "display_data"
    }
   ],
   "source": [
    "ax = plt.subplot(111)\n",
    "\n",
    "t = np.arange(0.0, 5.0, 0.01)\n",
    "s = np.cos(2*np.pi*t)\n",
    "line, = plt.plot(t, s, lw=2)\n",
    "#Se pueden agregar códigos Latex\n",
    "plt.text(0.7,1.12,r'$\\left(2\\cdot\\pi\\cdot\\frac{\\pi}{2},1\\right)$')\n",
    "plt.title(r\"Función $\\cos(2\\pi x)$ y un máximo local\")\n",
    "plt.ylim(-2, 2)\n",
    "plt.show()"
   ]
  },
  {
   "cell_type": "markdown",
   "metadata": {},
   "source": [
    "Ahora con una anotación:"
   ]
  },
  {
   "cell_type": "code",
   "execution_count": 47,
   "metadata": {},
   "outputs": [
    {
     "data": {
      "image/png": "[encoded data removed]",
      "text/plain": [
       "<Figure size 432x288 with 1 Axes>"
      ]
     },
     "metadata": {
      "filenames": {
       "image/png": "/home/isaac/Dropbox/Docente/Externado/Github Projects/Programación/_build/jupyter_execute/24.Matplotlib_83_0.png"
      },
      "needs_background": "light"
     },
     "output_type": "display_data"
    }
   ],
   "source": [
    "ax = plt.subplot(111)\n",
    "\n",
    "t = np.arange(0.0, 5.0, 0.01)\n",
    "s = np.cos(2*np.pi*t)\n",
    "line, = plt.plot(t, s, lw=2)\n",
    "\n",
    "plt.annotate('Máximo local', xy=(1, 1), xytext=(3, 1.5),\n",
    "             arrowprops=dict(edgecolor='green',facecolor='blue'),\n",
    "             )#1\n",
    "\n",
    "plt.ylim(-2, 2)\n",
    "plt.show()\n"
   ]
  },
  {
   "cell_type": "code",
   "execution_count": 48,
   "metadata": {},
   "outputs": [],
   "source": [
    "?plt.annotate"
   ]
  },
  {
   "cell_type": "code",
   "execution_count": 49,
   "metadata": {},
   "outputs": [
    {
     "data": {
      "image/png": "[encoded data removed]",
      "text/plain": [
       "<Figure size 432x288 with 1 Axes>"
      ]
     },
     "metadata": {
      "filenames": {
       "image/png": "/home/isaac/Dropbox/Docente/Externado/Github Projects/Programación/_build/jupyter_execute/24.Matplotlib_85_0.png"
      },
      "needs_background": "light"
     },
     "output_type": "display_data"
    }
   ],
   "source": [
    "ax = plt.subplot(111)\n",
    "\n",
    "t = np.arange(0.0, 5.0, 0.01)\n",
    "s = np.cos(2*np.pi*t)\n",
    "line, = plt.plot(t, s, lw=2)\n",
    "\n",
    "plt.annotate('Máximo local', xy=(1, 1), xytext=(3, 1.5),\n",
    "             arrowprops=dict(edgecolor='green',facecolor='red', shrink=0.05),)\n",
    "\n",
    "plt.ylim(-2, 2)\n",
    "plt.show()\n"
   ]
  },
  {
   "cell_type": "markdown",
   "metadata": {},
   "source": [
    "Veámos los diferentes tipos de flecha que podemos emplear en nuestras anotaciones:"
   ]
  },
  {
   "cell_type": "code",
   "execution_count": 50,
   "metadata": {},
   "outputs": [],
   "source": [
    "def estiloflecha(l):\n",
    "    ax = plt.subplot(111)\n",
    "\n",
    "    t = np.arange(0.0, 5.0, 0.01)\n",
    "    s = np.cos(2*np.pi*t)\n",
    "    line, = plt.plot(t, s, lw=2)\n",
    "\n",
    "    plt.annotate('Máximo local', xy=(1, 1), xytext=(3, 1.5),\n",
    "                 arrowprops=dict(edgecolor='green',facecolor='red', arrowstyle=l),)\n",
    "\n",
    "    plt.ylim(-2, 2)\n",
    "    plt.show()\n",
    "    return\n",
    "\n"
   ]
  },
  {
   "cell_type": "code",
   "execution_count": 51,
   "metadata": {},
   "outputs": [
    {
     "data": {
      "application/vnd.jupyter.widget-view+json": {
       "model_id": "0b4d91eee0414197b8b5e0ad9e478919",
       "version_major": 2,
       "version_minor": 0
      },
      "text/plain": [
       "interactive(children=(Dropdown(description='l', options=('-', '->', '-[', '|-|', '-|>', 'fancy', 'simple', 'we…"
      ]
     },
     "metadata": {},
     "output_type": "display_data"
    },
    {
     "data": {
      "text/plain": [
       "<function __main__.estiloflecha(l)>"
      ]
     },
     "execution_count": 51,
     "metadata": {},
     "output_type": "execute_result"
    }
   ],
   "source": [
    "interact(estiloflecha,l=['-','->','-[','|-|','-|>','fancy','simple','wedge'])"
   ]
  },
  {
   "cell_type": "markdown",
   "metadata": {},
   "source": [
    "## Backends\n",
    "\n",
    "Al usar Jupyter nosotros estamos pidiendo que el gráfico se pueda visualizar en el entorno web en el cual se está mostrando las salidas de Python. Sin embargo, es posible visualizar estos mismos gráficos en otras interfaces gráficas más potentes y con más herramientas. \n",
    "\n",
    "Matplotlib permite utilizar las diferentes interfáces haciendo modificación en su backend, entendiendo al backend como el motor gráfico que genera las diferentes imagenes que imaginamos.\n",
    "\n",
    "Para modificar el backend usado en Jupyter usamos un comándo mágico `%matplotlib`. Veamos algunos ejemplos:"
   ]
  },
  {
   "cell_type": "code",
   "execution_count": 52,
   "metadata": {},
   "outputs": [],
   "source": [
    "import matplotlib"
   ]
  },
  {
   "cell_type": "code",
   "execution_count": 53,
   "metadata": {},
   "outputs": [],
   "source": [
    "import matplotlib\n",
    "import matplotlib.pyplot as plt\n",
    "import numpy as np"
   ]
  },
  {
   "cell_type": "code",
   "execution_count": 54,
   "metadata": {},
   "outputs": [
    {
     "data": {
      "application/javascript": [
       "/* Put everything inside the global mpl namespace */\n",
       "/* global mpl */\n",
       "window.mpl = {};\n",
       "\n",
       "mpl.get_websocket_type = function () {\n",
       "    if (typeof WebSocket !== 'undefined') {\n",
       "        return WebSocket;\n",
       "    } else if (typeof MozWebSocket !== 'undefined') {\n",
       "        return MozWebSocket;\n",
       "    } else {\n",
       "        alert(\n",
       "            'Your browser does not have WebSocket support. ' +\n",
       "                'Please try Chrome, Safari or Firefox ≥ 6. ' +\n",
       "                'Firefox 4 and 5 are also supported but you ' +\n",
       "                'have to enable WebSockets in about:config.'\n",
       "        );\n",
       "    }\n",
       "};\n",
       "\n",
       "mpl.figure = function (figure_id, websocket, ondownload, parent_element) {\n",
       "    this.id = figure_id;\n",
       "\n",
       "    this.ws = websocket;\n",
       "\n",
       "    this.supports_binary = this.ws.binaryType !== undefined;\n",
       "\n",
       "    if (!this.supports_binary) {\n",
       "        var warnings = document.getElementById('mpl-warnings');\n",
       "        if (warnings) {\n",
       "            warnings.style.display = 'block';\n",
       "            warnings.textContent =\n",
       "                'This browser does not support binary websocket messages. ' +\n",
       "                'Performance may be slow.';\n",
       "        }\n",
       "    }\n",
       "\n",
       "    this.imageObj = new Image();\n",
       "\n",
       "    this.context = undefined;\n",
       "    this.message = undefined;\n",
       "    this.canvas = undefined;\n",
       "    this.rubberband_canvas = undefined;\n",
       "    this.rubberband_context = undefined;\n",
       "    this.format_dropdown = undefined;\n",
       "\n",
       "    this.image_mode = 'full';\n",
       "\n",
       "    this.root = document.createElement('div');\n",
       "    this.root.setAttribute('style', 'display: inline-block');\n",
       "    this._root_extra_style(this.root);\n",
       "\n",
       "    parent_element.appendChild(this.root);\n",
       "\n",
       "    this._init_header(this);\n",
       "    this._init_canvas(this);\n",
       "    this._init_toolbar(this);\n",
       "\n",
       "    var fig = this;\n",
       "\n",
       "    this.waiting = false;\n",
       "\n",
       "    this.ws.onopen = function () {\n",
       "        fig.send_message('supports_binary', { value: fig.supports_binary });\n",
       "        fig.send_message('send_image_mode', {});\n",
       "        if (fig.ratio !== 1) {\n",
       "            fig.send_message('set_dpi_ratio', { dpi_ratio: fig.ratio });\n",
       "        }\n",
       "        fig.send_message('refresh', {});\n",
       "    };\n",
       "\n",
       "    this.imageObj.onload = function () {\n",
       "        if (fig.image_mode === 'full') {\n",
       "            // Full images could contain transparency (where diff images\n",
       "            // almost always do), so we need to clear the canvas so that\n",
       "            // there is no ghosting.\n",
       "            fig.context.clearRect(0, 0, fig.canvas.width, fig.canvas.height);\n",
       "        }\n",
       "        fig.context.drawImage(fig.imageObj, 0, 0);\n",
       "    };\n",
       "\n",
       "    this.imageObj.onunload = function () {\n",
       "        fig.ws.close();\n",
       "    };\n",
       "\n",
       "    this.ws.onmessage = this._make_on_message_function(this);\n",
       "\n",
       "    this.ondownload = ondownload;\n",
       "};\n",
       "\n",
       "mpl.figure.prototype._init_header = function () {\n",
       "    var titlebar = document.createElement('div');\n",
       "    titlebar.classList =\n",
       "        'ui-dialog-titlebar ui-widget-header ui-corner-all ui-helper-clearfix';\n",
       "    var titletext = document.createElement('div');\n",
       "    titletext.classList = 'ui-dialog-title';\n",
       "    titletext.setAttribute(\n",
       "        'style',\n",
       "        'width: 100%; text-align: center; padding: 3px;'\n",
       "    );\n",
       "    titlebar.appendChild(titletext);\n",
       "    this.root.appendChild(titlebar);\n",
       "    this.header = titletext;\n",
       "};\n",
       "\n",
       "mpl.figure.prototype._canvas_extra_style = function (_canvas_div) {};\n",
       "\n",
       "mpl.figure.prototype._root_extra_style = function (_canvas_div) {};\n",
       "\n",
       "mpl.figure.prototype._init_canvas = function () {\n",
       "    var fig = this;\n",
       "\n",
       "    var canvas_div = (this.canvas_div = document.createElement('div'));\n",
       "    canvas_div.setAttribute(\n",
       "        'style',\n",
       "        'border: 1px solid #ddd;' +\n",
       "            'box-sizing: content-box;' +\n",
       "            'clear: both;' +\n",
       "            'min-height: 1px;' +\n",
       "            'min-width: 1px;' +\n",
       "            'outline: 0;' +\n",
       "            'overflow: hidden;' +\n",
       "            'position: relative;' +\n",
       "            'resize: both;'\n",
       "    );\n",
       "\n",
       "    function on_keyboard_event_closure(name) {\n",
       "        return function (event) {\n",
       "            return fig.key_event(event, name);\n",
       "        };\n",
       "    }\n",
       "\n",
       "    canvas_div.addEventListener(\n",
       "        'keydown',\n",
       "        on_keyboard_event_closure('key_press')\n",
       "    );\n",
       "    canvas_div.addEventListener(\n",
       "        'keyup',\n",
       "        on_keyboard_event_closure('key_release')\n",
       "    );\n",
       "\n",
       "    this._canvas_extra_style(canvas_div);\n",
       "    this.root.appendChild(canvas_div);\n",
       "\n",
       "    var canvas = (this.canvas = document.createElement('canvas'));\n",
       "    canvas.classList.add('mpl-canvas');\n",
       "    canvas.setAttribute('style', 'box-sizing: content-box;');\n",
       "\n",
       "    this.context = canvas.getContext('2d');\n",
       "\n",
       "    var backingStore =\n",
       "        this.context.backingStorePixelRatio ||\n",
       "        this.context.webkitBackingStorePixelRatio ||\n",
       "        this.context.mozBackingStorePixelRatio ||\n",
       "        this.context.msBackingStorePixelRatio ||\n",
       "        this.context.oBackingStorePixelRatio ||\n",
       "        this.context.backingStorePixelRatio ||\n",
       "        1;\n",
       "\n",
       "    this.ratio = (window.devicePixelRatio || 1) / backingStore;\n",
       "\n",
       "    var rubberband_canvas = (this.rubberband_canvas = document.createElement(\n",
       "        'canvas'\n",
       "    ));\n",
       "    rubberband_canvas.setAttribute(\n",
       "        'style',\n",
       "        'box-sizing: content-box; position: absolute; left: 0; top: 0; z-index: 1;'\n",
       "    );\n",
       "\n",
       "    // Apply a ponyfill if ResizeObserver is not implemented by browser.\n",
       "    if (this.ResizeObserver === undefined) {\n",
       "        if (window.ResizeObserver !== undefined) {\n",
       "            this.ResizeObserver = window.ResizeObserver;\n",
       "        } else {\n",
       "            var obs = _JSXTOOLS_RESIZE_OBSERVER({});\n",
       "            this.ResizeObserver = obs.ResizeObserver;\n",
       "        }\n",
       "    }\n",
       "\n",
       "    this.resizeObserverInstance = new this.ResizeObserver(function (entries) {\n",
       "        var nentries = entries.length;\n",
       "        for (var i = 0; i < nentries; i++) {\n",
       "            var entry = entries[i];\n",
       "            var width, height;\n",
       "            if (entry.contentBoxSize) {\n",
       "                if (entry.contentBoxSize instanceof Array) {\n",
       "                    // Chrome 84 implements new version of spec.\n",
       "                    width = entry.contentBoxSize[0].inlineSize;\n",
       "                    height = entry.contentBoxSize[0].blockSize;\n",
       "                } else {\n",
       "                    // Firefox implements old version of spec.\n",
       "                    width = entry.contentBoxSize.inlineSize;\n",
       "                    height = entry.contentBoxSize.blockSize;\n",
       "                }\n",
       "            } else {\n",
       "                // Chrome <84 implements even older version of spec.\n",
       "                width = entry.contentRect.width;\n",
       "                height = entry.contentRect.height;\n",
       "            }\n",
       "\n",
       "            // Keep the size of the canvas and rubber band canvas in sync with\n",
       "            // the canvas container.\n",
       "            if (entry.devicePixelContentBoxSize) {\n",
       "                // Chrome 84 implements new version of spec.\n",
       "                canvas.setAttribute(\n",
       "                    'width',\n",
       "                    entry.devicePixelContentBoxSize[0].inlineSize\n",
       "                );\n",
       "                canvas.setAttribute(\n",
       "                    'height',\n",
       "                    entry.devicePixelContentBoxSize[0].blockSize\n",
       "                );\n",
       "            } else {\n",
       "                canvas.setAttribute('width', width * fig.ratio);\n",
       "                canvas.setAttribute('height', height * fig.ratio);\n",
       "            }\n",
       "            canvas.setAttribute(\n",
       "                'style',\n",
       "                'width: ' + width + 'px; height: ' + height + 'px;'\n",
       "            );\n",
       "\n",
       "            rubberband_canvas.setAttribute('width', width);\n",
       "            rubberband_canvas.setAttribute('height', height);\n",
       "\n",
       "            // And update the size in Python. We ignore the initial 0/0 size\n",
       "            // that occurs as the element is placed into the DOM, which should\n",
       "            // otherwise not happen due to the minimum size styling.\n",
       "            if (fig.ws.readyState == 1 && width != 0 && height != 0) {\n",
       "                fig.request_resize(width, height);\n",
       "            }\n",
       "        }\n",
       "    });\n",
       "    this.resizeObserverInstance.observe(canvas_div);\n",
       "\n",
       "    function on_mouse_event_closure(name) {\n",
       "        return function (event) {\n",
       "            return fig.mouse_event(event, name);\n",
       "        };\n",
       "    }\n",
       "\n",
       "    rubberband_canvas.addEventListener(\n",
       "        'mousedown',\n",
       "        on_mouse_event_closure('button_press')\n",
       "    );\n",
       "    rubberband_canvas.addEventListener(\n",
       "        'mouseup',\n",
       "        on_mouse_event_closure('button_release')\n",
       "    );\n",
       "    rubberband_canvas.addEventListener(\n",
       "        'dblclick',\n",
       "        on_mouse_event_closure('dblclick')\n",
       "    );\n",
       "    // Throttle sequential mouse events to 1 every 20ms.\n",
       "    rubberband_canvas.addEventListener(\n",
       "        'mousemove',\n",
       "        on_mouse_event_closure('motion_notify')\n",
       "    );\n",
       "\n",
       "    rubberband_canvas.addEventListener(\n",
       "        'mouseenter',\n",
       "        on_mouse_event_closure('figure_enter')\n",
       "    );\n",
       "    rubberband_canvas.addEventListener(\n",
       "        'mouseleave',\n",
       "        on_mouse_event_closure('figure_leave')\n",
       "    );\n",
       "\n",
       "    canvas_div.addEventListener('wheel', function (event) {\n",
       "        if (event.deltaY < 0) {\n",
       "            event.step = 1;\n",
       "        } else {\n",
       "            event.step = -1;\n",
       "        }\n",
       "        on_mouse_event_closure('scroll')(event);\n",
       "    });\n",
       "\n",
       "    canvas_div.appendChild(canvas);\n",
       "    canvas_div.appendChild(rubberband_canvas);\n",
       "\n",
       "    this.rubberband_context = rubberband_canvas.getContext('2d');\n",
       "    this.rubberband_context.strokeStyle = '#000000';\n",
       "\n",
       "    this._resize_canvas = function (width, height, forward) {\n",
       "        if (forward) {\n",
       "            canvas_div.style.width = width + 'px';\n",
       "            canvas_div.style.height = height + 'px';\n",
       "        }\n",
       "    };\n",
       "\n",
       "    // Disable right mouse context menu.\n",
       "    this.rubberband_canvas.addEventListener('contextmenu', function (_e) {\n",
       "        event.preventDefault();\n",
       "        return false;\n",
       "    });\n",
       "\n",
       "    function set_focus() {\n",
       "        canvas.focus();\n",
       "        canvas_div.focus();\n",
       "    }\n",
       "\n",
       "    window.setTimeout(set_focus, 100);\n",
       "};\n",
       "\n",
       "mpl.figure.prototype._init_toolbar = function () {\n",
       "    var fig = this;\n",
       "\n",
       "    var toolbar = document.createElement('div');\n",
       "    toolbar.classList = 'mpl-toolbar';\n",
       "    this.root.appendChild(toolbar);\n",
       "\n",
       "    function on_click_closure(name) {\n",
       "        return function (_event) {\n",
       "            return fig.toolbar_button_onclick(name);\n",
       "        };\n",
       "    }\n",
       "\n",
       "    function on_mouseover_closure(tooltip) {\n",
       "        return function (event) {\n",
       "            if (!event.currentTarget.disabled) {\n",
       "                return fig.toolbar_button_onmouseover(tooltip);\n",
       "            }\n",
       "        };\n",
       "    }\n",
       "\n",
       "    fig.buttons = {};\n",
       "    var buttonGroup = document.createElement('div');\n",
       "    buttonGroup.classList = 'mpl-button-group';\n",
       "    for (var toolbar_ind in mpl.toolbar_items) {\n",
       "        var name = mpl.toolbar_items[toolbar_ind][0];\n",
       "        var tooltip = mpl.toolbar_items[toolbar_ind][1];\n",
       "        var image = mpl.toolbar_items[toolbar_ind][2];\n",
       "        var method_name = mpl.toolbar_items[toolbar_ind][3];\n",
       "\n",
       "        if (!name) {\n",
       "            /* Instead of a spacer, we start a new button group. */\n",
       "            if (buttonGroup.hasChildNodes()) {\n",
       "                toolbar.appendChild(buttonGroup);\n",
       "            }\n",
       "            buttonGroup = document.createElement('div');\n",
       "            buttonGroup.classList = 'mpl-button-group';\n",
       "            continue;\n",
       "        }\n",
       "\n",
       "        var button = (fig.buttons[name] = document.createElement('button'));\n",
       "        button.classList = 'mpl-widget';\n",
       "        button.setAttribute('role', 'button');\n",
       "        button.setAttribute('aria-disabled', 'false');\n",
       "        button.addEventListener('click', on_click_closure(method_name));\n",
       "        button.addEventListener('mouseover', on_mouseover_closure(tooltip));\n",
       "\n",
       "        var icon_img = document.createElement('img');\n",
       "        icon_img.src = '_images/' + image + '.png';\n",
       "        icon_img.srcset = '_images/' + image + '_large.png 2x';\n",
       "        icon_img.alt = tooltip;\n",
       "        button.appendChild(icon_img);\n",
       "\n",
       "        buttonGroup.appendChild(button);\n",
       "    }\n",
       "\n",
       "    if (buttonGroup.hasChildNodes()) {\n",
       "        toolbar.appendChild(buttonGroup);\n",
       "    }\n",
       "\n",
       "    var fmt_picker = document.createElement('select');\n",
       "    fmt_picker.classList = 'mpl-widget';\n",
       "    toolbar.appendChild(fmt_picker);\n",
       "    this.format_dropdown = fmt_picker;\n",
       "\n",
       "    for (var ind in mpl.extensions) {\n",
       "        var fmt = mpl.extensions[ind];\n",
       "        var option = document.createElement('option');\n",
       "        option.selected = fmt === mpl.default_extension;\n",
       "        option.innerHTML = fmt;\n",
       "        fmt_picker.appendChild(option);\n",
       "    }\n",
       "\n",
       "    var status_bar = document.createElement('span');\n",
       "    status_bar.classList = 'mpl-message';\n",
       "    toolbar.appendChild(status_bar);\n",
       "    this.message = status_bar;\n",
       "};\n",
       "\n",
       "mpl.figure.prototype.request_resize = function (x_pixels, y_pixels) {\n",
       "    // Request matplotlib to resize the figure. Matplotlib will then trigger a resize in the client,\n",
       "    // which will in turn request a refresh of the image.\n",
       "    this.send_message('resize', { width: x_pixels, height: y_pixels });\n",
       "};\n",
       "\n",
       "mpl.figure.prototype.send_message = function (type, properties) {\n",
       "    properties['type'] = type;\n",
       "    properties['figure_id'] = this.id;\n",
       "    this.ws.send(JSON.stringify(properties));\n",
       "};\n",
       "\n",
       "mpl.figure.prototype.send_draw_message = function () {\n",
       "    if (!this.waiting) {\n",
       "        this.waiting = true;\n",
       "        this.ws.send(JSON.stringify({ type: 'draw', figure_id: this.id }));\n",
       "    }\n",
       "};\n",
       "\n",
       "mpl.figure.prototype.handle_save = function (fig, _msg) {\n",
       "    var format_dropdown = fig.format_dropdown;\n",
       "    var format = format_dropdown.options[format_dropdown.selectedIndex].value;\n",
       "    fig.ondownload(fig, format);\n",
       "};\n",
       "\n",
       "mpl.figure.prototype.handle_resize = function (fig, msg) {\n",
       "    var size = msg['size'];\n",
       "    if (size[0] !== fig.canvas.width || size[1] !== fig.canvas.height) {\n",
       "        fig._resize_canvas(size[0], size[1], msg['forward']);\n",
       "        fig.send_message('refresh', {});\n",
       "    }\n",
       "};\n",
       "\n",
       "mpl.figure.prototype.handle_rubberband = function (fig, msg) {\n",
       "    var x0 = msg['x0'] / fig.ratio;\n",
       "    var y0 = (fig.canvas.height - msg['y0']) / fig.ratio;\n",
       "    var x1 = msg['x1'] / fig.ratio;\n",
       "    var y1 = (fig.canvas.height - msg['y1']) / fig.ratio;\n",
       "    x0 = Math.floor(x0) + 0.5;\n",
       "    y0 = Math.floor(y0) + 0.5;\n",
       "    x1 = Math.floor(x1) + 0.5;\n",
       "    y1 = Math.floor(y1) + 0.5;\n",
       "    var min_x = Math.min(x0, x1);\n",
       "    var min_y = Math.min(y0, y1);\n",
       "    var width = Math.abs(x1 - x0);\n",
       "    var height = Math.abs(y1 - y0);\n",
       "\n",
       "    fig.rubberband_context.clearRect(\n",
       "        0,\n",
       "        0,\n",
       "        fig.canvas.width / fig.ratio,\n",
       "        fig.canvas.height / fig.ratio\n",
       "    );\n",
       "\n",
       "    fig.rubberband_context.strokeRect(min_x, min_y, width, height);\n",
       "};\n",
       "\n",
       "mpl.figure.prototype.handle_figure_label = function (fig, msg) {\n",
       "    // Updates the figure title.\n",
       "    fig.header.textContent = msg['label'];\n",
       "};\n",
       "\n",
       "mpl.figure.prototype.handle_cursor = function (fig, msg) {\n",
       "    var cursor = msg['cursor'];\n",
       "    switch (cursor) {\n",
       "        case 0:\n",
       "            cursor = 'pointer';\n",
       "            break;\n",
       "        case 1:\n",
       "            cursor = 'default';\n",
       "            break;\n",
       "        case 2:\n",
       "            cursor = 'crosshair';\n",
       "            break;\n",
       "        case 3:\n",
       "            cursor = 'move';\n",
       "            break;\n",
       "    }\n",
       "    fig.rubberband_canvas.style.cursor = cursor;\n",
       "};\n",
       "\n",
       "mpl.figure.prototype.handle_message = function (fig, msg) {\n",
       "    fig.message.textContent = msg['message'];\n",
       "};\n",
       "\n",
       "mpl.figure.prototype.handle_draw = function (fig, _msg) {\n",
       "    // Request the server to send over a new figure.\n",
       "    fig.send_draw_message();\n",
       "};\n",
       "\n",
       "mpl.figure.prototype.handle_image_mode = function (fig, msg) {\n",
       "    fig.image_mode = msg['mode'];\n",
       "};\n",
       "\n",
       "mpl.figure.prototype.handle_history_buttons = function (fig, msg) {\n",
       "    for (var key in msg) {\n",
       "        if (!(key in fig.buttons)) {\n",
       "            continue;\n",
       "        }\n",
       "        fig.buttons[key].disabled = !msg[key];\n",
       "        fig.buttons[key].setAttribute('aria-disabled', !msg[key]);\n",
       "    }\n",
       "};\n",
       "\n",
       "mpl.figure.prototype.handle_navigate_mode = function (fig, msg) {\n",
       "    if (msg['mode'] === 'PAN') {\n",
       "        fig.buttons['Pan'].classList.add('active');\n",
       "        fig.buttons['Zoom'].classList.remove('active');\n",
       "    } else if (msg['mode'] === 'ZOOM') {\n",
       "        fig.buttons['Pan'].classList.remove('active');\n",
       "        fig.buttons['Zoom'].classList.add('active');\n",
       "    } else {\n",
       "        fig.buttons['Pan'].classList.remove('active');\n",
       "        fig.buttons['Zoom'].classList.remove('active');\n",
       "    }\n",
       "};\n",
       "\n",
       "mpl.figure.prototype.updated_canvas_event = function () {\n",
       "    // Called whenever the canvas gets updated.\n",
       "    this.send_message('ack', {});\n",
       "};\n",
       "\n",
       "// A function to construct a web socket function for onmessage handling.\n",
       "// Called in the figure constructor.\n",
       "mpl.figure.prototype._make_on_message_function = function (fig) {\n",
       "    return function socket_on_message(evt) {\n",
       "        if (evt.data instanceof Blob) {\n",
       "            var img = evt.data;\n",
       "            if (img.type !== 'image/png') {\n",
       "                /* FIXME: We get \"Resource interpreted as Image but\n",
       "                 * transferred with MIME type text/plain:\" errors on\n",
       "                 * Chrome.  But how to set the MIME type?  It doesn't seem\n",
       "                 * to be part of the websocket stream */\n",
       "                img.type = 'image/png';\n",
       "            }\n",
       "\n",
       "            /* Free the memory for the previous frames */\n",
       "            if (fig.imageObj.src) {\n",
       "                (window.URL || window.webkitURL).revokeObjectURL(\n",
       "                    fig.imageObj.src\n",
       "                );\n",
       "            }\n",
       "\n",
       "            fig.imageObj.src = (window.URL || window.webkitURL).createObjectURL(\n",
       "                img\n",
       "            );\n",
       "            fig.updated_canvas_event();\n",
       "            fig.waiting = false;\n",
       "            return;\n",
       "        } else if (\n",
       "            typeof evt.data === 'string' &&\n",
       "            evt.data.slice(0, 21) === 'data:image/png;base64'\n",
       "        ) {\n",
       "            fig.imageObj.src = evt.data;\n",
       "            fig.updated_canvas_event();\n",
       "            fig.waiting = false;\n",
       "            return;\n",
       "        }\n",
       "\n",
       "        var msg = JSON.parse(evt.data);\n",
       "        var msg_type = msg['type'];\n",
       "\n",
       "        // Call the  \"handle_{type}\" callback, which takes\n",
       "        // the figure and JSON message as its only arguments.\n",
       "        try {\n",
       "            var callback = fig['handle_' + msg_type];\n",
       "        } catch (e) {\n",
       "            console.log(\n",
       "                \"No handler for the '\" + msg_type + \"' message type: \",\n",
       "                msg\n",
       "            );\n",
       "            return;\n",
       "        }\n",
       "\n",
       "        if (callback) {\n",
       "            try {\n",
       "                // console.log(\"Handling '\" + msg_type + \"' message: \", msg);\n",
       "                callback(fig, msg);\n",
       "            } catch (e) {\n",
       "                console.log(\n",
       "                    \"Exception inside the 'handler_\" + msg_type + \"' callback:\",\n",
       "                    e,\n",
       "                    e.stack,\n",
       "                    msg\n",
       "                );\n",
       "            }\n",
       "        }\n",
       "    };\n",
       "};\n",
       "\n",
       "// from http://stackoverflow.com/questions/1114465/getting-mouse-location-in-canvas\n",
       "mpl.findpos = function (e) {\n",
       "    //this section is from http://www.quirksmode.org/js/events_properties.html\n",
       "    var targ;\n",
       "    if (!e) {\n",
       "        e = window.event;\n",
       "    }\n",
       "    if (e.target) {\n",
       "        targ = e.target;\n",
       "    } else if (e.srcElement) {\n",
       "        targ = e.srcElement;\n",
       "    }\n",
       "    if (targ.nodeType === 3) {\n",
       "        // defeat Safari bug\n",
       "        targ = targ.parentNode;\n",
       "    }\n",
       "\n",
       "    // pageX,Y are the mouse positions relative to the document\n",
       "    var boundingRect = targ.getBoundingClientRect();\n",
       "    var x = e.pageX - (boundingRect.left + document.body.scrollLeft);\n",
       "    var y = e.pageY - (boundingRect.top + document.body.scrollTop);\n",
       "\n",
       "    return { x: x, y: y };\n",
       "};\n",
       "\n",
       "/*\n",
       " * return a copy of an object with only non-object keys\n",
       " * we need this to avoid circular references\n",
       " * http://stackoverflow.com/a/24161582/3208463\n",
       " */\n",
       "function simpleKeys(original) {\n",
       "    return Object.keys(original).reduce(function (obj, key) {\n",
       "        if (typeof original[key] !== 'object') {\n",
       "            obj[key] = original[key];\n",
       "        }\n",
       "        return obj;\n",
       "    }, {});\n",
       "}\n",
       "\n",
       "mpl.figure.prototype.mouse_event = function (event, name) {\n",
       "    var canvas_pos = mpl.findpos(event);\n",
       "\n",
       "    if (name === 'button_press') {\n",
       "        this.canvas.focus();\n",
       "        this.canvas_div.focus();\n",
       "    }\n",
       "\n",
       "    var x = canvas_pos.x * this.ratio;\n",
       "    var y = canvas_pos.y * this.ratio;\n",
       "\n",
       "    this.send_message(name, {\n",
       "        x: x,\n",
       "        y: y,\n",
       "        button: event.button,\n",
       "        step: event.step,\n",
       "        guiEvent: simpleKeys(event),\n",
       "    });\n",
       "\n",
       "    /* This prevents the web browser from automatically changing to\n",
       "     * the text insertion cursor when the button is pressed.  We want\n",
       "     * to control all of the cursor setting manually through the\n",
       "     * 'cursor' event from matplotlib */\n",
       "    event.preventDefault();\n",
       "    return false;\n",
       "};\n",
       "\n",
       "mpl.figure.prototype._key_event_extra = function (_event, _name) {\n",
       "    // Handle any extra behaviour associated with a key event\n",
       "};\n",
       "\n",
       "mpl.figure.prototype.key_event = function (event, name) {\n",
       "    // Prevent repeat events\n",
       "    if (name === 'key_press') {\n",
       "        if (event.key === this._key) {\n",
       "            return;\n",
       "        } else {\n",
       "            this._key = event.key;\n",
       "        }\n",
       "    }\n",
       "    if (name === 'key_release') {\n",
       "        this._key = null;\n",
       "    }\n",
       "\n",
       "    var value = '';\n",
       "    if (event.ctrlKey && event.key !== 'Control') {\n",
       "        value += 'ctrl+';\n",
       "    }\n",
       "    else if (event.altKey && event.key !== 'Alt') {\n",
       "        value += 'alt+';\n",
       "    }\n",
       "    else if (event.shiftKey && event.key !== 'Shift') {\n",
       "        value += 'shift+';\n",
       "    }\n",
       "\n",
       "    value += 'k' + event.key;\n",
       "\n",
       "    this._key_event_extra(event, name);\n",
       "\n",
       "    this.send_message(name, { key: value, guiEvent: simpleKeys(event) });\n",
       "    return false;\n",
       "};\n",
       "\n",
       "mpl.figure.prototype.toolbar_button_onclick = function (name) {\n",
       "    if (name === 'download') {\n",
       "        this.handle_save(this, null);\n",
       "    } else {\n",
       "        this.send_message('toolbar_button', { name: name });\n",
       "    }\n",
       "};\n",
       "\n",
       "mpl.figure.prototype.toolbar_button_onmouseover = function (tooltip) {\n",
       "    this.message.textContent = tooltip;\n",
       "};\n",
       "\n",
       "///////////////// REMAINING CONTENT GENERATED BY embed_js.py /////////////////\n",
       "// prettier-ignore\n",
       "var _JSXTOOLS_RESIZE_OBSERVER=function(A){var t,i=new WeakMap,n=new WeakMap,a=new WeakMap,r=new WeakMap,o=new Set;function s(e){if(!(this instanceof s))throw new TypeError(\"Constructor requires 'new' operator\");i.set(this,e)}function h(){throw new TypeError(\"Function is not a constructor\")}function c(e,t,i,n){e=0 in arguments?Number(arguments[0]):0,t=1 in arguments?Number(arguments[1]):0,i=2 in arguments?Number(arguments[2]):0,n=3 in arguments?Number(arguments[3]):0,this.right=(this.x=this.left=e)+(this.width=i),this.bottom=(this.y=this.top=t)+(this.height=n),Object.freeze(this)}function d(){t=requestAnimationFrame(d);var s=new WeakMap,p=new Set;o.forEach((function(t){r.get(t).forEach((function(i){var r=t instanceof window.SVGElement,o=a.get(t),d=r?0:parseFloat(o.paddingTop),f=r?0:parseFloat(o.paddingRight),l=r?0:parseFloat(o.paddingBottom),u=r?0:parseFloat(o.paddingLeft),g=r?0:parseFloat(o.borderTopWidth),m=r?0:parseFloat(o.borderRightWidth),w=r?0:parseFloat(o.borderBottomWidth),b=u+f,F=d+l,v=(r?0:parseFloat(o.borderLeftWidth))+m,W=g+w,y=r?0:t.offsetHeight-W-t.clientHeight,E=r?0:t.offsetWidth-v-t.clientWidth,R=b+v,z=F+W,M=r?t.width:parseFloat(o.width)-R-E,O=r?t.height:parseFloat(o.height)-z-y;if(n.has(t)){var k=n.get(t);if(k[0]===M&&k[1]===O)return}n.set(t,[M,O]);var S=Object.create(h.prototype);S.target=t,S.contentRect=new c(u,d,M,O),s.has(i)||(s.set(i,[]),p.add(i)),s.get(i).push(S)}))})),p.forEach((function(e){i.get(e).call(e,s.get(e),e)}))}return s.prototype.observe=function(i){if(i instanceof window.Element){r.has(i)||(r.set(i,new Set),o.add(i),a.set(i,window.getComputedStyle(i)));var n=r.get(i);n.has(this)||n.add(this),cancelAnimationFrame(t),t=requestAnimationFrame(d)}},s.prototype.unobserve=function(i){if(i instanceof window.Element&&r.has(i)){var n=r.get(i);n.has(this)&&(n.delete(this),n.size||(r.delete(i),o.delete(i))),n.size||r.delete(i),o.size||cancelAnimationFrame(t)}},A.DOMRectReadOnly=c,A.ResizeObserver=s,A.ResizeObserverEntry=h,A}; // eslint-disable-line\n",
       "mpl.toolbar_items = [[\"Home\", \"Reset original view\", \"fa fa-home icon-home\", \"home\"], [\"Back\", \"Back to previous view\", \"fa fa-arrow-left icon-arrow-left\", \"back\"], [\"Forward\", \"Forward to next view\", \"fa fa-arrow-right icon-arrow-right\", \"forward\"], [\"\", \"\", \"\", \"\"], [\"Pan\", \"Left button pans, Right button zooms\\nx/y fixes axis, CTRL fixes aspect\", \"fa fa-arrows icon-move\", \"pan\"], [\"Zoom\", \"Zoom to rectangle\\nx/y fixes axis, CTRL fixes aspect\", \"fa fa-square-o icon-check-empty\", \"zoom\"], [\"\", \"\", \"\", \"\"], [\"Download\", \"Download plot\", \"fa fa-floppy-o icon-save\", \"download\"]];\n",
       "\n",
       "mpl.extensions = [\"eps\", \"jpeg\", \"pgf\", \"pdf\", \"png\", \"ps\", \"raw\", \"svg\", \"tif\"];\n",
       "\n",
       "mpl.default_extension = \"png\";/* global mpl */\n",
       "\n",
       "var comm_websocket_adapter = function (comm) {\n",
       "    // Create a \"websocket\"-like object which calls the given IPython comm\n",
       "    // object with the appropriate methods. Currently this is a non binary\n",
       "    // socket, so there is still some room for performance tuning.\n",
       "    var ws = {};\n",
       "\n",
       "    ws.binaryType = comm.kernel.ws.binaryType;\n",
       "    ws.readyState = comm.kernel.ws.readyState;\n",
       "    function updateReadyState(_event) {\n",
       "        if (comm.kernel.ws) {\n",
       "            ws.readyState = comm.kernel.ws.readyState;\n",
       "        } else {\n",
       "            ws.readyState = 3; // Closed state.\n",
       "        }\n",
       "    }\n",
       "    comm.kernel.ws.addEventListener('open', updateReadyState);\n",
       "    comm.kernel.ws.addEventListener('close', updateReadyState);\n",
       "    comm.kernel.ws.addEventListener('error', updateReadyState);\n",
       "\n",
       "    ws.close = function () {\n",
       "        comm.close();\n",
       "    };\n",
       "    ws.send = function (m) {\n",
       "        //console.log('sending', m);\n",
       "        comm.send(m);\n",
       "    };\n",
       "    // Register the callback with on_msg.\n",
       "    comm.on_msg(function (msg) {\n",
       "        //console.log('receiving', msg['content']['data'], msg);\n",
       "        var data = msg['content']['data'];\n",
       "        if (data['blob'] !== undefined) {\n",
       "            data = {\n",
       "                data: new Blob(msg['buffers'], { type: data['blob'] }),\n",
       "            };\n",
       "        }\n",
       "        // Pass the mpl event to the overridden (by mpl) onmessage function.\n",
       "        ws.onmessage(data);\n",
       "    });\n",
       "    return ws;\n",
       "};\n",
       "\n",
       "mpl.mpl_figure_comm = function (comm, msg) {\n",
       "    // This is the function which gets called when the mpl process\n",
       "    // starts-up an IPython Comm through the \"matplotlib\" channel.\n",
       "\n",
       "    var id = msg.content.data.id;\n",
       "    // Get hold of the div created by the display call when the Comm\n",
       "    // socket was opened in Python.\n",
       "    var element = document.getElementById(id);\n",
       "    var ws_proxy = comm_websocket_adapter(comm);\n",
       "\n",
       "    function ondownload(figure, _format) {\n",
       "        window.open(figure.canvas.toDataURL());\n",
       "    }\n",
       "\n",
       "    var fig = new mpl.figure(id, ws_proxy, ondownload, element);\n",
       "\n",
       "    // Call onopen now - mpl needs it, as it is assuming we've passed it a real\n",
       "    // web socket which is closed, not our websocket->open comm proxy.\n",
       "    ws_proxy.onopen();\n",
       "\n",
       "    fig.parent_element = element;\n",
       "    fig.cell_info = mpl.find_output_cell(\"<div id='\" + id + \"'></div>\");\n",
       "    if (!fig.cell_info) {\n",
       "        console.error('Failed to find cell for figure', id, fig);\n",
       "        return;\n",
       "    }\n",
       "    fig.cell_info[0].output_area.element.on(\n",
       "        'cleared',\n",
       "        { fig: fig },\n",
       "        fig._remove_fig_handler\n",
       "    );\n",
       "};\n",
       "\n",
       "mpl.figure.prototype.handle_close = function (fig, msg) {\n",
       "    var width = fig.canvas.width / fig.ratio;\n",
       "    fig.cell_info[0].output_area.element.off(\n",
       "        'cleared',\n",
       "        fig._remove_fig_handler\n",
       "    );\n",
       "    fig.resizeObserverInstance.unobserve(fig.canvas_div);\n",
       "\n",
       "    // Update the output cell to use the data from the current canvas.\n",
       "    fig.push_to_output();\n",
       "    var dataURL = fig.canvas.toDataURL();\n",
       "    // Re-enable the keyboard manager in IPython - without this line, in FF,\n",
       "    // the notebook keyboard shortcuts fail.\n",
       "    IPython.keyboard_manager.enable();\n",
       "    fig.parent_element.innerHTML =\n",
       "        '<img src=\"' + dataURL + '\" width=\"' + width + '\">';\n",
       "    fig.close_ws(fig, msg);\n",
       "};\n",
       "\n",
       "mpl.figure.prototype.close_ws = function (fig, msg) {\n",
       "    fig.send_message('closing', msg);\n",
       "    // fig.ws.close()\n",
       "};\n",
       "\n",
       "mpl.figure.prototype.push_to_output = function (_remove_interactive) {\n",
       "    // Turn the data on the canvas into data in the output cell.\n",
       "    var width = this.canvas.width / this.ratio;\n",
       "    var dataURL = this.canvas.toDataURL();\n",
       "    this.cell_info[1]['text/html'] =\n",
       "        '<img src=\"' + dataURL + '\" width=\"' + width + '\">';\n",
       "};\n",
       "\n",
       "mpl.figure.prototype.updated_canvas_event = function () {\n",
       "    // Tell IPython that the notebook contents must change.\n",
       "    IPython.notebook.set_dirty(true);\n",
       "    this.send_message('ack', {});\n",
       "    var fig = this;\n",
       "    // Wait a second, then push the new image to the DOM so\n",
       "    // that it is saved nicely (might be nice to debounce this).\n",
       "    setTimeout(function () {\n",
       "        fig.push_to_output();\n",
       "    }, 1000);\n",
       "};\n",
       "\n",
       "mpl.figure.prototype._init_toolbar = function () {\n",
       "    var fig = this;\n",
       "\n",
       "    var toolbar = document.createElement('div');\n",
       "    toolbar.classList = 'btn-toolbar';\n",
       "    this.root.appendChild(toolbar);\n",
       "\n",
       "    function on_click_closure(name) {\n",
       "        return function (_event) {\n",
       "            return fig.toolbar_button_onclick(name);\n",
       "        };\n",
       "    }\n",
       "\n",
       "    function on_mouseover_closure(tooltip) {\n",
       "        return function (event) {\n",
       "            if (!event.currentTarget.disabled) {\n",
       "                return fig.toolbar_button_onmouseover(tooltip);\n",
       "            }\n",
       "        };\n",
       "    }\n",
       "\n",
       "    fig.buttons = {};\n",
       "    var buttonGroup = document.createElement('div');\n",
       "    buttonGroup.classList = 'btn-group';\n",
       "    var button;\n",
       "    for (var toolbar_ind in mpl.toolbar_items) {\n",
       "        var name = mpl.toolbar_items[toolbar_ind][0];\n",
       "        var tooltip = mpl.toolbar_items[toolbar_ind][1];\n",
       "        var image = mpl.toolbar_items[toolbar_ind][2];\n",
       "        var method_name = mpl.toolbar_items[toolbar_ind][3];\n",
       "\n",
       "        if (!name) {\n",
       "            /* Instead of a spacer, we start a new button group. */\n",
       "            if (buttonGroup.hasChildNodes()) {\n",
       "                toolbar.appendChild(buttonGroup);\n",
       "            }\n",
       "            buttonGroup = document.createElement('div');\n",
       "            buttonGroup.classList = 'btn-group';\n",
       "            continue;\n",
       "        }\n",
       "\n",
       "        button = fig.buttons[name] = document.createElement('button');\n",
       "        button.classList = 'btn btn-default';\n",
       "        button.href = '#';\n",
       "        button.title = name;\n",
       "        button.innerHTML = '<i class=\"fa ' + image + ' fa-lg\"></i>';\n",
       "        button.addEventListener('click', on_click_closure(method_name));\n",
       "        button.addEventListener('mouseover', on_mouseover_closure(tooltip));\n",
       "        buttonGroup.appendChild(button);\n",
       "    }\n",
       "\n",
       "    if (buttonGroup.hasChildNodes()) {\n",
       "        toolbar.appendChild(buttonGroup);\n",
       "    }\n",
       "\n",
       "    // Add the status bar.\n",
       "    var status_bar = document.createElement('span');\n",
       "    status_bar.classList = 'mpl-message pull-right';\n",
       "    toolbar.appendChild(status_bar);\n",
       "    this.message = status_bar;\n",
       "\n",
       "    // Add the close button to the window.\n",
       "    var buttongrp = document.createElement('div');\n",
       "    buttongrp.classList = 'btn-group inline pull-right';\n",
       "    button = document.createElement('button');\n",
       "    button.classList = 'btn btn-mini btn-primary';\n",
       "    button.href = '#';\n",
       "    button.title = 'Stop Interaction';\n",
       "    button.innerHTML = '<i class=\"fa fa-power-off icon-remove icon-large\"></i>';\n",
       "    button.addEventListener('click', function (_evt) {\n",
       "        fig.handle_close(fig, {});\n",
       "    });\n",
       "    button.addEventListener(\n",
       "        'mouseover',\n",
       "        on_mouseover_closure('Stop Interaction')\n",
       "    );\n",
       "    buttongrp.appendChild(button);\n",
       "    var titlebar = this.root.querySelector('.ui-dialog-titlebar');\n",
       "    titlebar.insertBefore(buttongrp, titlebar.firstChild);\n",
       "};\n",
       "\n",
       "mpl.figure.prototype._remove_fig_handler = function (event) {\n",
       "    var fig = event.data.fig;\n",
       "    if (event.target !== this) {\n",
       "        // Ignore bubbled events from children.\n",
       "        return;\n",
       "    }\n",
       "    fig.close_ws(fig, {});\n",
       "};\n",
       "\n",
       "mpl.figure.prototype._root_extra_style = function (el) {\n",
       "    el.style.boxSizing = 'content-box'; // override notebook setting of border-box.\n",
       "};\n",
       "\n",
       "mpl.figure.prototype._canvas_extra_style = function (el) {\n",
       "    // this is important to make the div 'focusable\n",
       "    el.setAttribute('tabindex', 0);\n",
       "    // reach out to IPython and tell the keyboard manager to turn it's self\n",
       "    // off when our div gets focus\n",
       "\n",
       "    // location in version 3\n",
       "    if (IPython.notebook.keyboard_manager) {\n",
       "        IPython.notebook.keyboard_manager.register_events(el);\n",
       "    } else {\n",
       "        // location in version 2\n",
       "        IPython.keyboard_manager.register_events(el);\n",
       "    }\n",
       "};\n",
       "\n",
       "mpl.figure.prototype._key_event_extra = function (event, _name) {\n",
       "    var manager = IPython.notebook.keyboard_manager;\n",
       "    if (!manager) {\n",
       "        manager = IPython.keyboard_manager;\n",
       "    }\n",
       "\n",
       "    // Check for shift+enter\n",
       "    if (event.shiftKey && event.which === 13) {\n",
       "        this.canvas_div.blur();\n",
       "        // select the cell after this one\n",
       "        var index = IPython.notebook.find_cell_index(this.cell_info[0]);\n",
       "        IPython.notebook.select(index + 1);\n",
       "    }\n",
       "};\n",
       "\n",
       "mpl.figure.prototype.handle_save = function (fig, _msg) {\n",
       "    fig.ondownload(fig, null);\n",
       "};\n",
       "\n",
       "mpl.find_output_cell = function (html_output) {\n",
       "    // Return the cell and output element which can be found *uniquely* in the notebook.\n",
       "    // Note - this is a bit hacky, but it is done because the \"notebook_saving.Notebook\"\n",
       "    // IPython event is triggered only after the cells have been serialised, which for\n",
       "    // our purposes (turning an active figure into a static one), is too late.\n",
       "    var cells = IPython.notebook.get_cells();\n",
       "    var ncells = cells.length;\n",
       "    for (var i = 0; i < ncells; i++) {\n",
       "        var cell = cells[i];\n",
       "        if (cell.cell_type === 'code') {\n",
       "            for (var j = 0; j < cell.output_area.outputs.length; j++) {\n",
       "                var data = cell.output_area.outputs[j];\n",
       "                if (data.data) {\n",
       "                    // IPython >= 3 moved mimebundle to data attribute of output\n",
       "                    data = data.data;\n",
       "                }\n",
       "                if (data['text/html'] === html_output) {\n",
       "                    return [cell, data, j];\n",
       "                }\n",
       "            }\n",
       "        }\n",
       "    }\n",
       "};\n",
       "\n",
       "// Register the function which deals with the matplotlib target/channel.\n",
       "// The kernel may be null if the page has been refreshed.\n",
       "if (IPython.notebook.kernel !== null) {\n",
       "    IPython.notebook.kernel.comm_manager.register_target(\n",
       "        'matplotlib',\n",
       "        mpl.mpl_figure_comm\n",
       "    );\n",
       "}\n"
      ],
      "text/plain": [
       "<IPython.core.display.Javascript object>"
      ]
     },
     "metadata": {},
     "output_type": "display_data"
    },
    {
     "data": {
      "text/html": [
       "<div id='0b6ad298-4a51-47d9-9a2e-0dc71e7368fa'></div>"
      ],
      "text/plain": [
       "<IPython.core.display.HTML object>"
      ]
     },
     "metadata": {},
     "output_type": "display_data"
    },
    {
     "data": {
      "text/plain": [
       "<matplotlib.lines.Line2D at 0x7f08cc23bf40>"
      ]
     },
     "execution_count": 54,
     "metadata": {},
     "output_type": "execute_result"
    }
   ],
   "source": [
    "%matplotlib notebook\n",
    "ax = plt.subplot(111)\n",
    "t = np.arange(0.0, 5.0, 0.01)\n",
    "s = np.cos(2*np.pi*t)\n",
    "line, = plt.plot(t, s, lw=2)\n",
    "plt.text(0.7,1.12,'Un máximo\\nlocal ')\n",
    "plt.ylim(-2, 2)\n",
    "#plt.show()\n",
    "line"
   ]
  },
  {
   "cell_type": "code",
   "execution_count": 55,
   "metadata": {},
   "outputs": [],
   "source": [
    "#!pip install mpld3"
   ]
  },
  {
   "cell_type": "code",
   "execution_count": 56,
   "metadata": {
    "scrolled": true
   },
   "outputs": [],
   "source": [
    "#Reiniciar el Kernel\n",
    "import matplotlib\n",
    "import matplotlib.pyplot as plt\n",
    "import numpy as np\n",
    "import mpld3\n",
    "mpld3.enable_notebook()\n",
    "ax = plt.subplot(111)\n",
    "t = np.arange(0.0, 5.0, 0.01)\n",
    "s = np.cos(2*np.pi*t)\n",
    "line, = plt.plot(t, s, lw=2)\n",
    "plt.text(0.7,1.12,'Un máximo\\nlocal ')\n",
    "plt.ylim(-2, 2)\n",
    "plt.show()\n",
    "#mpld3.show()"
   ]
  },
  {
   "cell_type": "code",
   "execution_count": null,
   "metadata": {},
   "outputs": [],
   "source": []
  }
 ],
 "metadata": {
  "kernelspec": {
   "display_name": "Python 3",
   "language": "python",
   "name": "python3"
  },
  "language_info": {
   "codemirror_mode": {
    "name": "ipython",
    "version": 3
   },
   "file_extension": ".py",
   "mimetype": "text/x-python",
   "name": "python",
   "nbconvert_exporter": "python",
   "pygments_lexer": "ipython3",
   "version": "3.9.5"
  },
  "latex_envs": {
   "LaTeX_envs_menu_present": true,
   "autoclose": false,
   "autocomplete": true,
   "bibliofile": "biblio.bib",
   "cite_by": "apalike",
   "current_citInitial": 1,
   "eqLabelWithNumbers": true,
   "eqNumInitial": 1,
   "hotkeys": {
    "equation": "Ctrl-E",
    "itemize": "Ctrl-I"
   },
   "labels_anchors": false,
   "latex_user_defs": false,
   "report_style_numbering": false,
   "user_envs_cfg": false
  },
  "toc": {
   "base_numbering": 1,
   "nav_menu": {},
   "number_sections": true,
   "sideBar": false,
   "skip_h1_title": false,
   "title_cell": "Matplotlib - Gráficos en Python",
   "title_sidebar": "Cuaderno Matplotlib",
   "toc_cell": true,
   "toc_position": {
    "height": "calc(100% - 180px)",
    "left": "10px",
    "top": "150px",
    "width": "165px"
   },
   "toc_section_display": false,
   "toc_window_display": false
  },
  "widgets": {
   "application/vnd.jupyter.widget-state+json": {
    "state": {
     "05363a20b5f44c79b3931f3f9858190f": {
      "model_module": "@jupyter-widgets/output",
      "model_module_version": "1.0.0",
      "model_name": "OutputModel",
      "state": {
       "_dom_classes": [],
       "_model_module": "@jupyter-widgets/output",
       "_model_module_version": "1.0.0",
       "_model_name": "OutputModel",
       "_view_count": null,
       "_view_module": "@jupyter-widgets/output",
       "_view_module_version": "1.0.0",
       "_view_name": "OutputView",
       "layout": "IPY_MODEL_d80efab2e3ee40dd8457fb45a3296db2",
       "msg_id": "",
       "outputs": [
        {
         "data": {
          "image/png": "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\n",
          "text/plain": "<Figure size 432x288 with 1 Axes>"
         },
         "metadata": {
          "needs_background": "light"
         },
         "output_type": "display_data"
        }
       ]
      }
     },
     "061c944ac9a04435b0c8f9ff0bf5f3c4": {
      "model_module": "@jupyter-widgets/controls",
      "model_module_version": "1.5.0",
      "model_name": "IntSliderModel",
      "state": {
       "_dom_classes": [],
       "_model_module": "@jupyter-widgets/controls",
       "_model_module_version": "1.5.0",
       "_model_name": "IntSliderModel",
       "_view_count": null,
       "_view_module": "@jupyter-widgets/controls",
       "_view_module_version": "1.5.0",
       "_view_name": "IntSliderView",
       "continuous_update": true,
       "description": "ymin",
       "description_tooltip": null,
       "disabled": false,
       "layout": "IPY_MODEL_cbaf2def9a7d4cdf86ee26d14083111a",
       "max": 1,
       "min": -3,
       "orientation": "horizontal",
       "readout": true,
       "readout_format": "d",
       "step": 1,
       "style": "IPY_MODEL_4b8c3cec3b2a44dbac6dde1474e0172a",
       "value": -1
      }
     },
     "0b4d91eee0414197b8b5e0ad9e478919": {
      "model_module": "@jupyter-widgets/controls",
      "model_module_version": "1.5.0",
      "model_name": "VBoxModel",
      "state": {
       "_dom_classes": [
        "widget-interact"
       ],
       "_model_module": "@jupyter-widgets/controls",
       "_model_module_version": "1.5.0",
       "_model_name": "VBoxModel",
       "_view_count": null,
       "_view_module": "@jupyter-widgets/controls",
       "_view_module_version": "1.5.0",
       "_view_name": "VBoxView",
       "box_style": "",
       "children": [
        "IPY_MODEL_372bb21309f44cefb1184025f61273d6",
        "IPY_MODEL_05363a20b5f44c79b3931f3f9858190f"
       ],
       "layout": "IPY_MODEL_6b9a6b271b674f23a5215ea45f697b99"
      }
     },
     "0c876deb90884ce5ad3ec6979db976d7": {
      "model_module": "@jupyter-widgets/base",
      "model_module_version": "1.2.0",
      "model_name": "LayoutModel",
      "state": {
       "_model_module": "@jupyter-widgets/base",
       "_model_module_version": "1.2.0",
       "_model_name": "LayoutModel",
       "_view_count": null,
       "_view_module": "@jupyter-widgets/base",
       "_view_module_version": "1.2.0",
       "_view_name": "LayoutView",
       "align_content": null,
       "align_items": null,
       "align_self": null,
       "border": null,
       "bottom": null,
       "display": null,
       "flex": null,
       "flex_flow": null,
       "grid_area": null,
       "grid_auto_columns": null,
       "grid_auto_flow": null,
       "grid_auto_rows": null,
       "grid_column": null,
       "grid_gap": null,
       "grid_row": null,
       "grid_template_areas": null,
       "grid_template_columns": null,
       "grid_template_rows": null,
       "height": null,
       "justify_content": null,
       "justify_items": null,
       "left": null,
       "margin": null,
       "max_height": null,
       "max_width": null,
       "min_height": null,
       "min_width": null,
       "object_fit": null,
       "object_position": null,
       "order": null,
       "overflow": null,
       "overflow_x": null,
       "overflow_y": null,
       "padding": null,
       "right": null,
       "top": null,
       "visibility": null,
       "width": null
      }
     },
     "26eb71f0b5e146e6aa31037a05dd333d": {
      "model_module": "@jupyter-widgets/base",
      "model_module_version": "1.2.0",
      "model_name": "LayoutModel",
      "state": {
       "_model_module": "@jupyter-widgets/base",
       "_model_module_version": "1.2.0",
       "_model_name": "LayoutModel",
       "_view_count": null,
       "_view_module": "@jupyter-widgets/base",
       "_view_module_version": "1.2.0",
       "_view_name": "LayoutView",
       "align_content": null,
       "align_items": null,
       "align_self": null,
       "border": null,
       "bottom": null,
       "display": null,
       "flex": null,
       "flex_flow": null,
       "grid_area": null,
       "grid_auto_columns": null,
       "grid_auto_flow": null,
       "grid_auto_rows": null,
       "grid_column": null,
       "grid_gap": null,
       "grid_row": null,
       "grid_template_areas": null,
       "grid_template_columns": null,
       "grid_template_rows": null,
       "height": null,
       "justify_content": null,
       "justify_items": null,
       "left": null,
       "margin": null,
       "max_height": null,
       "max_width": null,
       "min_height": null,
       "min_width": null,
       "object_fit": null,
       "object_position": null,
       "order": null,
       "overflow": null,
       "overflow_x": null,
       "overflow_y": null,
       "padding": null,
       "right": null,
       "top": null,
       "visibility": null,
       "width": null
      }
     },
     "338f15f9e2d845e3a340d888858c9171": {
      "model_module": "@jupyter-widgets/base",
      "model_module_version": "1.2.0",
      "model_name": "LayoutModel",
      "state": {
       "_model_module": "@jupyter-widgets/base",
       "_model_module_version": "1.2.0",
       "_model_name": "LayoutModel",
       "_view_count": null,
       "_view_module": "@jupyter-widgets/base",
       "_view_module_version": "1.2.0",
       "_view_name": "LayoutView",
       "align_content": null,
       "align_items": null,
       "align_self": null,
       "border": null,
       "bottom": null,
       "display": null,
       "flex": null,
       "flex_flow": null,
       "grid_area": null,
       "grid_auto_columns": null,
       "grid_auto_flow": null,
       "grid_auto_rows": null,
       "grid_column": null,
       "grid_gap": null,
       "grid_row": null,
       "grid_template_areas": null,
       "grid_template_columns": null,
       "grid_template_rows": null,
       "height": null,
       "justify_content": null,
       "justify_items": null,
       "left": null,
       "margin": null,
       "max_height": null,
       "max_width": null,
       "min_height": null,
       "min_width": null,
       "object_fit": null,
       "object_position": null,
       "order": null,
       "overflow": null,
       "overflow_x": null,
       "overflow_y": null,
       "padding": null,
       "right": null,
       "top": null,
       "visibility": null,
       "width": null
      }
     },
     "34b7085108e24df793cda4ec6eb8d64a": {
      "model_module": "@jupyter-widgets/controls",
      "model_module_version": "1.5.0",
      "model_name": "IntSliderModel",
      "state": {
       "_dom_classes": [],
       "_model_module": "@jupyter-widgets/controls",
       "_model_module_version": "1.5.0",
       "_model_name": "IntSliderModel",
       "_view_count": null,
       "_view_module": "@jupyter-widgets/controls",
       "_view_module_version": "1.5.0",
       "_view_name": "IntSliderView",
       "continuous_update": true,
       "description": "Intervalos",
       "description_tooltip": null,
       "disabled": false,
       "layout": "IPY_MODEL_62d44fb87c8c45868151664d49bc85d6",
       "max": 50,
       "min": 1,
       "orientation": "horizontal",
       "readout": true,
       "readout_format": "d",
       "step": 1,
       "style": "IPY_MODEL_b8ceb17d8c114f209d2e9847be6b4abd",
       "value": 30
      }
     },
     "372bb21309f44cefb1184025f61273d6": {
      "model_module": "@jupyter-widgets/controls",
      "model_module_version": "1.5.0",
      "model_name": "DropdownModel",
      "state": {
       "_dom_classes": [],
       "_model_module": "@jupyter-widgets/controls",
       "_model_module_version": "1.5.0",
       "_model_name": "DropdownModel",
       "_options_labels": [
        "-",
        "->",
        "-[",
        "|-|",
        "-|>",
        "fancy",
        "simple",
        "wedge"
       ],
       "_view_count": null,
       "_view_module": "@jupyter-widgets/controls",
       "_view_module_version": "1.5.0",
       "_view_name": "DropdownView",
       "description": "l",
       "description_tooltip": null,
       "disabled": false,
       "index": 0,
       "layout": "IPY_MODEL_a281d6e5b62b4d07a28950eaec2ed1ac",
       "style": "IPY_MODEL_668d526b97ce4c3b803062980966ecbe"
      }
     },
     "4b8c3cec3b2a44dbac6dde1474e0172a": {
      "model_module": "@jupyter-widgets/controls",
      "model_module_version": "1.5.0",
      "model_name": "SliderStyleModel",
      "state": {
       "_model_module": "@jupyter-widgets/controls",
       "_model_module_version": "1.5.0",
       "_model_name": "SliderStyleModel",
       "_view_count": null,
       "_view_module": "@jupyter-widgets/base",
       "_view_module_version": "1.2.0",
       "_view_name": "StyleView",
       "description_width": "",
       "handle_color": null
      }
     },
     "4cac767c24a04acfb9164f4286a21549": {
      "model_module": "@jupyter-widgets/controls",
      "model_module_version": "1.5.0",
      "model_name": "SliderStyleModel",
      "state": {
       "_model_module": "@jupyter-widgets/controls",
       "_model_module_version": "1.5.0",
       "_model_name": "SliderStyleModel",
       "_view_count": null,
       "_view_module": "@jupyter-widgets/base",
       "_view_module_version": "1.2.0",
       "_view_name": "StyleView",
       "description_width": "",
       "handle_color": null
      }
     },
     "523f0d37375d4e10947efbf252135845": {
      "model_module": "@jupyter-widgets/base",
      "model_module_version": "1.2.0",
      "model_name": "LayoutModel",
      "state": {
       "_model_module": "@jupyter-widgets/base",
       "_model_module_version": "1.2.0",
       "_model_name": "LayoutModel",
       "_view_count": null,
       "_view_module": "@jupyter-widgets/base",
       "_view_module_version": "1.2.0",
       "_view_name": "LayoutView",
       "align_content": null,
       "align_items": null,
       "align_self": null,
       "border": null,
       "bottom": null,
       "display": null,
       "flex": null,
       "flex_flow": null,
       "grid_area": null,
       "grid_auto_columns": null,
       "grid_auto_flow": null,
       "grid_auto_rows": null,
       "grid_column": null,
       "grid_gap": null,
       "grid_row": null,
       "grid_template_areas": null,
       "grid_template_columns": null,
       "grid_template_rows": null,
       "height": null,
       "justify_content": null,
       "justify_items": null,
       "left": null,
       "margin": null,
       "max_height": null,
       "max_width": null,
       "min_height": null,
       "min_width": null,
       "object_fit": null,
       "object_position": null,
       "order": null,
       "overflow": null,
       "overflow_x": null,
       "overflow_y": null,
       "padding": null,
       "right": null,
       "top": null,
       "visibility": null,
       "width": null
      }
     },
     "5269ab49a7b24f9da4a061283acc6a1f": {
      "model_module": "@jupyter-widgets/controls",
      "model_module_version": "1.5.0",
      "model_name": "VBoxModel",
      "state": {
       "_dom_classes": [
        "widget-interact"
       ],
       "_model_module": "@jupyter-widgets/controls",
       "_model_module_version": "1.5.0",
       "_model_name": "VBoxModel",
       "_view_count": null,
       "_view_module": "@jupyter-widgets/controls",
       "_view_module_version": "1.5.0",
       "_view_name": "VBoxView",
       "box_style": "",
       "children": [
        "IPY_MODEL_b0011f7df6ef49839296cb81bf06e974",
        "IPY_MODEL_d8f6ff35326c4e35a327d2bf3c86f538"
       ],
       "layout": "IPY_MODEL_9b12cfba85da42eeb85fd753b18d7052"
      }
     },
     "5841c814bf6942ca998e0d862523eb6a": {
      "model_module": "@jupyter-widgets/controls",
      "model_module_version": "1.5.0",
      "model_name": "VBoxModel",
      "state": {
       "_dom_classes": [
        "widget-interact"
       ],
       "_model_module": "@jupyter-widgets/controls",
       "_model_module_version": "1.5.0",
       "_model_name": "VBoxModel",
       "_view_count": null,
       "_view_module": "@jupyter-widgets/controls",
       "_view_module_version": "1.5.0",
       "_view_name": "VBoxView",
       "box_style": "",
       "children": [
        "IPY_MODEL_dcc0e8fd359a40aca222dad8f2fd7be3",
        "IPY_MODEL_5bae37833933408b9fdfa8ef1b43932e",
        "IPY_MODEL_a3cecd32ed644fa8bf414f38fc7427e9",
        "IPY_MODEL_061c944ac9a04435b0c8f9ff0bf5f3c4",
        "IPY_MODEL_d64b720146d940e9a1e8e546551d470b",
        "IPY_MODEL_ff0a617dfcdc4b9e99a91adbda0ea256"
       ],
       "layout": "IPY_MODEL_7e34bf758b834e14b21963707d805bca"
      }
     },
     "5b152849de014864936ec59e535bbf9c": {
      "model_module": "@jupyter-widgets/base",
      "model_module_version": "1.2.0",
      "model_name": "LayoutModel",
      "state": {
       "_model_module": "@jupyter-widgets/base",
       "_model_module_version": "1.2.0",
       "_model_name": "LayoutModel",
       "_view_count": null,
       "_view_module": "@jupyter-widgets/base",
       "_view_module_version": "1.2.0",
       "_view_name": "LayoutView",
       "align_content": null,
       "align_items": null,
       "align_self": null,
       "border": null,
       "bottom": null,
       "display": null,
       "flex": null,
       "flex_flow": null,
       "grid_area": null,
       "grid_auto_columns": null,
       "grid_auto_flow": null,
       "grid_auto_rows": null,
       "grid_column": null,
       "grid_gap": null,
       "grid_row": null,
       "grid_template_areas": null,
       "grid_template_columns": null,
       "grid_template_rows": null,
       "height": null,
       "justify_content": null,
       "justify_items": null,
       "left": null,
       "margin": null,
       "max_height": null,
       "max_width": null,
       "min_height": null,
       "min_width": null,
       "object_fit": null,
       "object_position": null,
       "order": null,
       "overflow": null,
       "overflow_x": null,
       "overflow_y": null,
       "padding": null,
       "right": null,
       "top": null,
       "visibility": null,
       "width": null
      }
     },
     "5bae37833933408b9fdfa8ef1b43932e": {
      "model_module": "@jupyter-widgets/controls",
      "model_module_version": "1.5.0",
      "model_name": "IntSliderModel",
      "state": {
       "_dom_classes": [],
       "_model_module": "@jupyter-widgets/controls",
       "_model_module_version": "1.5.0",
       "_model_name": "IntSliderModel",
       "_view_count": null,
       "_view_module": "@jupyter-widgets/controls",
       "_view_module_version": "1.5.0",
       "_view_name": "IntSliderView",
       "continuous_update": true,
       "description": "xmin",
       "description_tooltip": null,
       "disabled": false,
       "layout": "IPY_MODEL_d5cd7cb8bfa94bdbbee0b5428fc8045e",
       "max": 10,
       "min": -30,
       "orientation": "horizontal",
       "readout": true,
       "readout_format": "d",
       "step": 1,
       "style": "IPY_MODEL_4cac767c24a04acfb9164f4286a21549",
       "value": -10
      }
     },
     "62d44fb87c8c45868151664d49bc85d6": {
      "model_module": "@jupyter-widgets/base",
      "model_module_version": "1.2.0",
      "model_name": "LayoutModel",
      "state": {
       "_model_module": "@jupyter-widgets/base",
       "_model_module_version": "1.2.0",
       "_model_name": "LayoutModel",
       "_view_count": null,
       "_view_module": "@jupyter-widgets/base",
       "_view_module_version": "1.2.0",
       "_view_name": "LayoutView",
       "align_content": null,
       "align_items": null,
       "align_self": null,
       "border": null,
       "bottom": null,
       "display": null,
       "flex": null,
       "flex_flow": null,
       "grid_area": null,
       "grid_auto_columns": null,
       "grid_auto_flow": null,
       "grid_auto_rows": null,
       "grid_column": null,
       "grid_gap": null,
       "grid_row": null,
       "grid_template_areas": null,
       "grid_template_columns": null,
       "grid_template_rows": null,
       "height": null,
       "justify_content": null,
       "justify_items": null,
       "left": null,
       "margin": null,
       "max_height": null,
       "max_width": null,
       "min_height": null,
       "min_width": null,
       "object_fit": null,
       "object_position": null,
       "order": null,
       "overflow": null,
       "overflow_x": null,
       "overflow_y": null,
       "padding": null,
       "right": null,
       "top": null,
       "visibility": null,
       "width": null
      }
     },
     "63404363cbf94d35ab84c6d34f482132": {
      "model_module": "@jupyter-widgets/controls",
      "model_module_version": "1.5.0",
      "model_name": "SliderStyleModel",
      "state": {
       "_model_module": "@jupyter-widgets/controls",
       "_model_module_version": "1.5.0",
       "_model_name": "SliderStyleModel",
       "_view_count": null,
       "_view_module": "@jupyter-widgets/base",
       "_view_module_version": "1.2.0",
       "_view_name": "StyleView",
       "description_width": "",
       "handle_color": null
      }
     },
     "668d526b97ce4c3b803062980966ecbe": {
      "model_module": "@jupyter-widgets/controls",
      "model_module_version": "1.5.0",
      "model_name": "DescriptionStyleModel",
      "state": {
       "_model_module": "@jupyter-widgets/controls",
       "_model_module_version": "1.5.0",
       "_model_name": "DescriptionStyleModel",
       "_view_count": null,
       "_view_module": "@jupyter-widgets/base",
       "_view_module_version": "1.2.0",
       "_view_name": "StyleView",
       "description_width": ""
      }
     },
     "67cce3836b0e4370b614f200502dc717": {
      "model_module": "@jupyter-widgets/output",
      "model_module_version": "1.0.0",
      "model_name": "OutputModel",
      "state": {
       "_dom_classes": [],
       "_model_module": "@jupyter-widgets/output",
       "_model_module_version": "1.0.0",
       "_model_name": "OutputModel",
       "_view_count": null,
       "_view_module": "@jupyter-widgets/output",
       "_view_module_version": "1.0.0",
       "_view_name": "OutputView",
       "layout": "IPY_MODEL_26eb71f0b5e146e6aa31037a05dd333d",
       "msg_id": "",
       "outputs": [
        {
         "data": {
          "image/png": "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\n",
          "text/plain": "<Figure size 432x288 with 1 Axes>"
         },
         "metadata": {
          "needs_background": "light"
         },
         "output_type": "display_data"
        }
       ]
      }
     },
     "68ead07d9b514a5fac3e2df3d8b7c532": {
      "model_module": "@jupyter-widgets/controls",
      "model_module_version": "1.5.0",
      "model_name": "DescriptionStyleModel",
      "state": {
       "_model_module": "@jupyter-widgets/controls",
       "_model_module_version": "1.5.0",
       "_model_name": "DescriptionStyleModel",
       "_view_count": null,
       "_view_module": "@jupyter-widgets/base",
       "_view_module_version": "1.2.0",
       "_view_name": "StyleView",
       "description_width": ""
      }
     },
     "6b9a6b271b674f23a5215ea45f697b99": {
      "model_module": "@jupyter-widgets/base",
      "model_module_version": "1.2.0",
      "model_name": "LayoutModel",
      "state": {
       "_model_module": "@jupyter-widgets/base",
       "_model_module_version": "1.2.0",
       "_model_name": "LayoutModel",
       "_view_count": null,
       "_view_module": "@jupyter-widgets/base",
       "_view_module_version": "1.2.0",
       "_view_name": "LayoutView",
       "align_content": null,
       "align_items": null,
       "align_self": null,
       "border": null,
       "bottom": null,
       "display": null,
       "flex": null,
       "flex_flow": null,
       "grid_area": null,
       "grid_auto_columns": null,
       "grid_auto_flow": null,
       "grid_auto_rows": null,
       "grid_column": null,
       "grid_gap": null,
       "grid_row": null,
       "grid_template_areas": null,
       "grid_template_columns": null,
       "grid_template_rows": null,
       "height": null,
       "justify_content": null,
       "justify_items": null,
       "left": null,
       "margin": null,
       "max_height": null,
       "max_width": null,
       "min_height": null,
       "min_width": null,
       "object_fit": null,
       "object_position": null,
       "order": null,
       "overflow": null,
       "overflow_x": null,
       "overflow_y": null,
       "padding": null,
       "right": null,
       "top": null,
       "visibility": null,
       "width": null
      }
     },
     "7511fdafdee64cd2992144f75648b135": {
      "model_module": "@jupyter-widgets/controls",
      "model_module_version": "1.5.0",
      "model_name": "SliderStyleModel",
      "state": {
       "_model_module": "@jupyter-widgets/controls",
       "_model_module_version": "1.5.0",
       "_model_name": "SliderStyleModel",
       "_view_count": null,
       "_view_module": "@jupyter-widgets/base",
       "_view_module_version": "1.2.0",
       "_view_name": "StyleView",
       "description_width": "",
       "handle_color": null
      }
     },
     "77359bacc7c2468087433137fa2729a4": {
      "model_module": "@jupyter-widgets/base",
      "model_module_version": "1.2.0",
      "model_name": "LayoutModel",
      "state": {
       "_model_module": "@jupyter-widgets/base",
       "_model_module_version": "1.2.0",
       "_model_name": "LayoutModel",
       "_view_count": null,
       "_view_module": "@jupyter-widgets/base",
       "_view_module_version": "1.2.0",
       "_view_name": "LayoutView",
       "align_content": null,
       "align_items": null,
       "align_self": null,
       "border": null,
       "bottom": null,
       "display": null,
       "flex": null,
       "flex_flow": null,
       "grid_area": null,
       "grid_auto_columns": null,
       "grid_auto_flow": null,
       "grid_auto_rows": null,
       "grid_column": null,
       "grid_gap": null,
       "grid_row": null,
       "grid_template_areas": null,
       "grid_template_columns": null,
       "grid_template_rows": null,
       "height": null,
       "justify_content": null,
       "justify_items": null,
       "left": null,
       "margin": null,
       "max_height": null,
       "max_width": null,
       "min_height": null,
       "min_width": null,
       "object_fit": null,
       "object_position": null,
       "order": null,
       "overflow": null,
       "overflow_x": null,
       "overflow_y": null,
       "padding": null,
       "right": null,
       "top": null,
       "visibility": null,
       "width": null
      }
     },
     "7e34bf758b834e14b21963707d805bca": {
      "model_module": "@jupyter-widgets/base",
      "model_module_version": "1.2.0",
      "model_name": "LayoutModel",
      "state": {
       "_model_module": "@jupyter-widgets/base",
       "_model_module_version": "1.2.0",
       "_model_name": "LayoutModel",
       "_view_count": null,
       "_view_module": "@jupyter-widgets/base",
       "_view_module_version": "1.2.0",
       "_view_name": "LayoutView",
       "align_content": null,
       "align_items": null,
       "align_self": null,
       "border": null,
       "bottom": null,
       "display": null,
       "flex": null,
       "flex_flow": null,
       "grid_area": null,
       "grid_auto_columns": null,
       "grid_auto_flow": null,
       "grid_auto_rows": null,
       "grid_column": null,
       "grid_gap": null,
       "grid_row": null,
       "grid_template_areas": null,
       "grid_template_columns": null,
       "grid_template_rows": null,
       "height": null,
       "justify_content": null,
       "justify_items": null,
       "left": null,
       "margin": null,
       "max_height": null,
       "max_width": null,
       "min_height": null,
       "min_width": null,
       "object_fit": null,
       "object_position": null,
       "order": null,
       "overflow": null,
       "overflow_x": null,
       "overflow_y": null,
       "padding": null,
       "right": null,
       "top": null,
       "visibility": null,
       "width": null
      }
     },
     "8541a3b9628a45588ec61e5325b0c121": {
      "model_module": "@jupyter-widgets/base",
      "model_module_version": "1.2.0",
      "model_name": "LayoutModel",
      "state": {
       "_model_module": "@jupyter-widgets/base",
       "_model_module_version": "1.2.0",
       "_model_name": "LayoutModel",
       "_view_count": null,
       "_view_module": "@jupyter-widgets/base",
       "_view_module_version": "1.2.0",
       "_view_name": "LayoutView",
       "align_content": null,
       "align_items": null,
       "align_self": null,
       "border": null,
       "bottom": null,
       "display": null,
       "flex": null,
       "flex_flow": null,
       "grid_area": null,
       "grid_auto_columns": null,
       "grid_auto_flow": null,
       "grid_auto_rows": null,
       "grid_column": null,
       "grid_gap": null,
       "grid_row": null,
       "grid_template_areas": null,
       "grid_template_columns": null,
       "grid_template_rows": null,
       "height": null,
       "justify_content": null,
       "justify_items": null,
       "left": null,
       "margin": null,
       "max_height": null,
       "max_width": null,
       "min_height": null,
       "min_width": null,
       "object_fit": null,
       "object_position": null,
       "order": null,
       "overflow": null,
       "overflow_x": null,
       "overflow_y": null,
       "padding": null,
       "right": null,
       "top": null,
       "visibility": null,
       "width": null
      }
     },
     "96c0faf5fb754b58988b37014a3d7c8c": {
      "model_module": "@jupyter-widgets/controls",
      "model_module_version": "1.5.0",
      "model_name": "FloatSliderModel",
      "state": {
       "_dom_classes": [],
       "_model_module": "@jupyter-widgets/controls",
       "_model_module_version": "1.5.0",
       "_model_name": "FloatSliderModel",
       "_view_count": null,
       "_view_module": "@jupyter-widgets/controls",
       "_view_module_version": "1.5.0",
       "_view_name": "FloatSliderView",
       "continuous_update": true,
       "description": "Transparencia",
       "description_tooltip": null,
       "disabled": false,
       "layout": "IPY_MODEL_5b152849de014864936ec59e535bbf9c",
       "max": 1.0,
       "min": 0.0,
       "orientation": "horizontal",
       "readout": true,
       "readout_format": ".2f",
       "step": 0.1,
       "style": "IPY_MODEL_d0ae4a7c963243ccb11f12305efa8446",
       "value": 0.5
      }
     },
     "9b12cfba85da42eeb85fd753b18d7052": {
      "model_module": "@jupyter-widgets/base",
      "model_module_version": "1.2.0",
      "model_name": "LayoutModel",
      "state": {
       "_model_module": "@jupyter-widgets/base",
       "_model_module_version": "1.2.0",
       "_model_name": "LayoutModel",
       "_view_count": null,
       "_view_module": "@jupyter-widgets/base",
       "_view_module_version": "1.2.0",
       "_view_name": "LayoutView",
       "align_content": null,
       "align_items": null,
       "align_self": null,
       "border": null,
       "bottom": null,
       "display": null,
       "flex": null,
       "flex_flow": null,
       "grid_area": null,
       "grid_auto_columns": null,
       "grid_auto_flow": null,
       "grid_auto_rows": null,
       "grid_column": null,
       "grid_gap": null,
       "grid_row": null,
       "grid_template_areas": null,
       "grid_template_columns": null,
       "grid_template_rows": null,
       "height": null,
       "justify_content": null,
       "justify_items": null,
       "left": null,
       "margin": null,
       "max_height": null,
       "max_width": null,
       "min_height": null,
       "min_width": null,
       "object_fit": null,
       "object_position": null,
       "order": null,
       "overflow": null,
       "overflow_x": null,
       "overflow_y": null,
       "padding": null,
       "right": null,
       "top": null,
       "visibility": null,
       "width": null
      }
     },
     "a281d6e5b62b4d07a28950eaec2ed1ac": {
      "model_module": "@jupyter-widgets/base",
      "model_module_version": "1.2.0",
      "model_name": "LayoutModel",
      "state": {
       "_model_module": "@jupyter-widgets/base",
       "_model_module_version": "1.2.0",
       "_model_name": "LayoutModel",
       "_view_count": null,
       "_view_module": "@jupyter-widgets/base",
       "_view_module_version": "1.2.0",
       "_view_name": "LayoutView",
       "align_content": null,
       "align_items": null,
       "align_self": null,
       "border": null,
       "bottom": null,
       "display": null,
       "flex": null,
       "flex_flow": null,
       "grid_area": null,
       "grid_auto_columns": null,
       "grid_auto_flow": null,
       "grid_auto_rows": null,
       "grid_column": null,
       "grid_gap": null,
       "grid_row": null,
       "grid_template_areas": null,
       "grid_template_columns": null,
       "grid_template_rows": null,
       "height": null,
       "justify_content": null,
       "justify_items": null,
       "left": null,
       "margin": null,
       "max_height": null,
       "max_width": null,
       "min_height": null,
       "min_width": null,
       "object_fit": null,
       "object_position": null,
       "order": null,
       "overflow": null,
       "overflow_x": null,
       "overflow_y": null,
       "padding": null,
       "right": null,
       "top": null,
       "visibility": null,
       "width": null
      }
     },
     "a3cecd32ed644fa8bf414f38fc7427e9": {
      "model_module": "@jupyter-widgets/controls",
      "model_module_version": "1.5.0",
      "model_name": "FloatSliderModel",
      "state": {
       "_dom_classes": [],
       "_model_module": "@jupyter-widgets/controls",
       "_model_module_version": "1.5.0",
       "_model_name": "FloatSliderModel",
       "_view_count": null,
       "_view_module": "@jupyter-widgets/controls",
       "_view_module_version": "1.5.0",
       "_view_name": "FloatSliderView",
       "continuous_update": true,
       "description": "xmax",
       "description_tooltip": null,
       "disabled": false,
       "layout": "IPY_MODEL_523f0d37375d4e10947efbf252135845",
       "max": 18.84955592153876,
       "min": -6.283185307179586,
       "orientation": "horizontal",
       "readout": true,
       "readout_format": ".2f",
       "step": 0.1,
       "style": "IPY_MODEL_63404363cbf94d35ab84c6d34f482132",
       "value": 6.283185307179586
      }
     },
     "b0011f7df6ef49839296cb81bf06e974": {
      "model_module": "@jupyter-widgets/controls",
      "model_module_version": "1.5.0",
      "model_name": "DropdownModel",
      "state": {
       "_dom_classes": [],
       "_model_module": "@jupyter-widgets/controls",
       "_model_module_version": "1.5.0",
       "_model_name": "DropdownModel",
       "_options_labels": [
        "sin(x)",
        "cos(x)",
        "tan(x)"
       ],
       "_view_count": null,
       "_view_module": "@jupyter-widgets/controls",
       "_view_module_version": "1.5.0",
       "_view_name": "DropdownView",
       "description": "t",
       "description_tooltip": null,
       "disabled": false,
       "index": 0,
       "layout": "IPY_MODEL_0c876deb90884ce5ad3ec6979db976d7",
       "style": "IPY_MODEL_68ead07d9b514a5fac3e2df3d8b7c532"
      }
     },
     "b8ceb17d8c114f209d2e9847be6b4abd": {
      "model_module": "@jupyter-widgets/controls",
      "model_module_version": "1.5.0",
      "model_name": "SliderStyleModel",
      "state": {
       "_model_module": "@jupyter-widgets/controls",
       "_model_module_version": "1.5.0",
       "_model_name": "SliderStyleModel",
       "_view_count": null,
       "_view_module": "@jupyter-widgets/base",
       "_view_module_version": "1.2.0",
       "_view_name": "StyleView",
       "description_width": "",
       "handle_color": null
      }
     },
     "cbaf2def9a7d4cdf86ee26d14083111a": {
      "model_module": "@jupyter-widgets/base",
      "model_module_version": "1.2.0",
      "model_name": "LayoutModel",
      "state": {
       "_model_module": "@jupyter-widgets/base",
       "_model_module_version": "1.2.0",
       "_model_name": "LayoutModel",
       "_view_count": null,
       "_view_module": "@jupyter-widgets/base",
       "_view_module_version": "1.2.0",
       "_view_name": "LayoutView",
       "align_content": null,
       "align_items": null,
       "align_self": null,
       "border": null,
       "bottom": null,
       "display": null,
       "flex": null,
       "flex_flow": null,
       "grid_area": null,
       "grid_auto_columns": null,
       "grid_auto_flow": null,
       "grid_auto_rows": null,
       "grid_column": null,
       "grid_gap": null,
       "grid_row": null,
       "grid_template_areas": null,
       "grid_template_columns": null,
       "grid_template_rows": null,
       "height": null,
       "justify_content": null,
       "justify_items": null,
       "left": null,
       "margin": null,
       "max_height": null,
       "max_width": null,
       "min_height": null,
       "min_width": null,
       "object_fit": null,
       "object_position": null,
       "order": null,
       "overflow": null,
       "overflow_x": null,
       "overflow_y": null,
       "padding": null,
       "right": null,
       "top": null,
       "visibility": null,
       "width": null
      }
     },
     "d0ae4a7c963243ccb11f12305efa8446": {
      "model_module": "@jupyter-widgets/controls",
      "model_module_version": "1.5.0",
      "model_name": "SliderStyleModel",
      "state": {
       "_model_module": "@jupyter-widgets/controls",
       "_model_module_version": "1.5.0",
       "_model_name": "SliderStyleModel",
       "_view_count": null,
       "_view_module": "@jupyter-widgets/base",
       "_view_module_version": "1.2.0",
       "_view_name": "StyleView",
       "description_width": "",
       "handle_color": null
      }
     },
     "d5cd7cb8bfa94bdbbee0b5428fc8045e": {
      "model_module": "@jupyter-widgets/base",
      "model_module_version": "1.2.0",
      "model_name": "LayoutModel",
      "state": {
       "_model_module": "@jupyter-widgets/base",
       "_model_module_version": "1.2.0",
       "_model_name": "LayoutModel",
       "_view_count": null,
       "_view_module": "@jupyter-widgets/base",
       "_view_module_version": "1.2.0",
       "_view_name": "LayoutView",
       "align_content": null,
       "align_items": null,
       "align_self": null,
       "border": null,
       "bottom": null,
       "display": null,
       "flex": null,
       "flex_flow": null,
       "grid_area": null,
       "grid_auto_columns": null,
       "grid_auto_flow": null,
       "grid_auto_rows": null,
       "grid_column": null,
       "grid_gap": null,
       "grid_row": null,
       "grid_template_areas": null,
       "grid_template_columns": null,
       "grid_template_rows": null,
       "height": null,
       "justify_content": null,
       "justify_items": null,
       "left": null,
       "margin": null,
       "max_height": null,
       "max_width": null,
       "min_height": null,
       "min_width": null,
       "object_fit": null,
       "object_position": null,
       "order": null,
       "overflow": null,
       "overflow_x": null,
       "overflow_y": null,
       "padding": null,
       "right": null,
       "top": null,
       "visibility": null,
       "width": null
      }
     },
     "d64b720146d940e9a1e8e546551d470b": {
      "model_module": "@jupyter-widgets/controls",
      "model_module_version": "1.5.0",
      "model_name": "IntSliderModel",
      "state": {
       "_dom_classes": [],
       "_model_module": "@jupyter-widgets/controls",
       "_model_module_version": "1.5.0",
       "_model_name": "IntSliderModel",
       "_view_count": null,
       "_view_module": "@jupyter-widgets/controls",
       "_view_module_version": "1.5.0",
       "_view_name": "IntSliderView",
       "continuous_update": true,
       "description": "ymax",
       "description_tooltip": null,
       "disabled": false,
       "layout": "IPY_MODEL_f272818bc0884e67a51ad7c73716f4a9",
       "max": 3,
       "min": -1,
       "orientation": "horizontal",
       "readout": true,
       "readout_format": "d",
       "step": 1,
       "style": "IPY_MODEL_7511fdafdee64cd2992144f75648b135",
       "value": 1
      }
     },
     "d80efab2e3ee40dd8457fb45a3296db2": {
      "model_module": "@jupyter-widgets/base",
      "model_module_version": "1.2.0",
      "model_name": "LayoutModel",
      "state": {
       "_model_module": "@jupyter-widgets/base",
       "_model_module_version": "1.2.0",
       "_model_name": "LayoutModel",
       "_view_count": null,
       "_view_module": "@jupyter-widgets/base",
       "_view_module_version": "1.2.0",
       "_view_name": "LayoutView",
       "align_content": null,
       "align_items": null,
       "align_self": null,
       "border": null,
       "bottom": null,
       "display": null,
       "flex": null,
       "flex_flow": null,
       "grid_area": null,
       "grid_auto_columns": null,
       "grid_auto_flow": null,
       "grid_auto_rows": null,
       "grid_column": null,
       "grid_gap": null,
       "grid_row": null,
       "grid_template_areas": null,
       "grid_template_columns": null,
       "grid_template_rows": null,
       "height": null,
       "justify_content": null,
       "justify_items": null,
       "left": null,
       "margin": null,
       "max_height": null,
       "max_width": null,
       "min_height": null,
       "min_width": null,
       "object_fit": null,
       "object_position": null,
       "order": null,
       "overflow": null,
       "overflow_x": null,
       "overflow_y": null,
       "padding": null,
       "right": null,
       "top": null,
       "visibility": null,
       "width": null
      }
     },
     "d8f6ff35326c4e35a327d2bf3c86f538": {
      "model_module": "@jupyter-widgets/output",
      "model_module_version": "1.0.0",
      "model_name": "OutputModel",
      "state": {
       "_dom_classes": [],
       "_model_module": "@jupyter-widgets/output",
       "_model_module_version": "1.0.0",
       "_model_name": "OutputModel",
       "_view_count": null,
       "_view_module": "@jupyter-widgets/output",
       "_view_module_version": "1.0.0",
       "_view_name": "OutputView",
       "layout": "IPY_MODEL_e5893362ef2d49a7b40c67f6ff321440",
       "msg_id": "",
       "outputs": []
      }
     },
     "db377edb50634f4f99cfa052cb70275a": {
      "model_module": "@jupyter-widgets/controls",
      "model_module_version": "1.5.0",
      "model_name": "VBoxModel",
      "state": {
       "_dom_classes": [
        "widget-interact"
       ],
       "_model_module": "@jupyter-widgets/controls",
       "_model_module_version": "1.5.0",
       "_model_name": "VBoxModel",
       "_view_count": null,
       "_view_module": "@jupyter-widgets/controls",
       "_view_module_version": "1.5.0",
       "_view_name": "VBoxView",
       "box_style": "",
       "children": [
        "IPY_MODEL_34b7085108e24df793cda4ec6eb8d64a",
        "IPY_MODEL_96c0faf5fb754b58988b37014a3d7c8c",
        "IPY_MODEL_67cce3836b0e4370b614f200502dc717"
       ],
       "layout": "IPY_MODEL_8541a3b9628a45588ec61e5325b0c121"
      }
     },
     "dcc0e8fd359a40aca222dad8f2fd7be3": {
      "model_module": "@jupyter-widgets/controls",
      "model_module_version": "1.5.0",
      "model_name": "TextModel",
      "state": {
       "_dom_classes": [],
       "_model_module": "@jupyter-widgets/controls",
       "_model_module_version": "1.5.0",
       "_model_name": "TextModel",
       "_view_count": null,
       "_view_module": "@jupyter-widgets/controls",
       "_view_module_version": "1.5.0",
       "_view_name": "TextView",
       "continuous_update": true,
       "description": "nf",
       "description_tooltip": null,
       "disabled": false,
       "layout": "IPY_MODEL_338f15f9e2d845e3a340d888858c9171",
       "placeholder": "​",
       "style": "IPY_MODEL_ec4efd9fec43476f8c7d750e83798f5a",
       "value": "(x-3)**2"
      }
     },
     "e5893362ef2d49a7b40c67f6ff321440": {
      "model_module": "@jupyter-widgets/base",
      "model_module_version": "1.2.0",
      "model_name": "LayoutModel",
      "state": {
       "_model_module": "@jupyter-widgets/base",
       "_model_module_version": "1.2.0",
       "_model_name": "LayoutModel",
       "_view_count": null,
       "_view_module": "@jupyter-widgets/base",
       "_view_module_version": "1.2.0",
       "_view_name": "LayoutView",
       "align_content": null,
       "align_items": null,
       "align_self": null,
       "border": null,
       "bottom": null,
       "display": null,
       "flex": null,
       "flex_flow": null,
       "grid_area": null,
       "grid_auto_columns": null,
       "grid_auto_flow": null,
       "grid_auto_rows": null,
       "grid_column": null,
       "grid_gap": null,
       "grid_row": null,
       "grid_template_areas": null,
       "grid_template_columns": null,
       "grid_template_rows": null,
       "height": null,
       "justify_content": null,
       "justify_items": null,
       "left": null,
       "margin": null,
       "max_height": null,
       "max_width": null,
       "min_height": null,
       "min_width": null,
       "object_fit": null,
       "object_position": null,
       "order": null,
       "overflow": null,
       "overflow_x": null,
       "overflow_y": null,
       "padding": null,
       "right": null,
       "top": null,
       "visibility": null,
       "width": null
      }
     },
     "ec4efd9fec43476f8c7d750e83798f5a": {
      "model_module": "@jupyter-widgets/controls",
      "model_module_version": "1.5.0",
      "model_name": "DescriptionStyleModel",
      "state": {
       "_model_module": "@jupyter-widgets/controls",
       "_model_module_version": "1.5.0",
       "_model_name": "DescriptionStyleModel",
       "_view_count": null,
       "_view_module": "@jupyter-widgets/base",
       "_view_module_version": "1.2.0",
       "_view_name": "StyleView",
       "description_width": ""
      }
     },
     "f272818bc0884e67a51ad7c73716f4a9": {
      "model_module": "@jupyter-widgets/base",
      "model_module_version": "1.2.0",
      "model_name": "LayoutModel",
      "state": {
       "_model_module": "@jupyter-widgets/base",
       "_model_module_version": "1.2.0",
       "_model_name": "LayoutModel",
       "_view_count": null,
       "_view_module": "@jupyter-widgets/base",
       "_view_module_version": "1.2.0",
       "_view_name": "LayoutView",
       "align_content": null,
       "align_items": null,
       "align_self": null,
       "border": null,
       "bottom": null,
       "display": null,
       "flex": null,
       "flex_flow": null,
       "grid_area": null,
       "grid_auto_columns": null,
       "grid_auto_flow": null,
       "grid_auto_rows": null,
       "grid_column": null,
       "grid_gap": null,
       "grid_row": null,
       "grid_template_areas": null,
       "grid_template_columns": null,
       "grid_template_rows": null,
       "height": null,
       "justify_content": null,
       "justify_items": null,
       "left": null,
       "margin": null,
       "max_height": null,
       "max_width": null,
       "min_height": null,
       "min_width": null,
       "object_fit": null,
       "object_position": null,
       "order": null,
       "overflow": null,
       "overflow_x": null,
       "overflow_y": null,
       "padding": null,
       "right": null,
       "top": null,
       "visibility": null,
       "width": null
      }
     },
     "ff0a617dfcdc4b9e99a91adbda0ea256": {
      "model_module": "@jupyter-widgets/output",
      "model_module_version": "1.0.0",
      "model_name": "OutputModel",
      "state": {
       "_dom_classes": [],
       "_model_module": "@jupyter-widgets/output",
       "_model_module_version": "1.0.0",
       "_model_name": "OutputModel",
       "_view_count": null,
       "_view_module": "@jupyter-widgets/output",
       "_view_module_version": "1.0.0",
       "_view_name": "OutputView",
       "layout": "IPY_MODEL_77359bacc7c2468087433137fa2729a4",
       "msg_id": "",
       "outputs": []
      }
     }
    },
    "version_major": 2,
    "version_minor": 0
   }
  }
 },
 "nbformat": 4,
 "nbformat_minor": 4
}