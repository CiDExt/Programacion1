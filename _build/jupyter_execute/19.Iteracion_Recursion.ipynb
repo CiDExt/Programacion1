{
 "cells": [
  {
   "cell_type": "markdown",
   "id": "8885939b-94e5-48d9-a4bc-0cde07301e3f",
   "metadata": {},
   "source": [
    "# Iteración y Recursión\n",
    "\n",
    ":::::{important} ¿Cómo vamos?\n",
    "\n",
    "\n",
    "Hasta el momento debemos tener claro lo siguiente:\n",
    "\n",
    "\n",
    "````{tabbed} Estructuras de programación\n",
    "\n",
    ":::{admonition} Recordemos...\n",
    ":class: tip\n",
    "En este curso hemos visto que las estructuras de secuencia, selección e iteración se utilizan para un paradigma definido de programación, trabajamos bajo el hecho de que toda función computable se puede expresar en termino de estas estructuras y en Python las obtenemos con:\n",
    "\n",
    "`if`\n",
    "`while`\n",
    "`for`\n",
    ":::\n",
    "````\n",
    "\n",
    "\n",
    "````{tabbed} Secuencias en Python\n",
    "\n",
    ":::{admonition} Recordemos...\n",
    ":class: tip\n",
    "En Python las secuencias son un tipo de objeto que almacenan datos, hemos visto de diferentes tipos y con diferentes sentidos, entre ellas están:\n",
    "\n",
    "* Listas\n",
    "* Tuplas\n",
    "* Conjuntos\n",
    "* Diccionarios\n",
    "\n",
    ":::\n",
    "````\n",
    ":::::"
   ]
  },
  {
   "cell_type": "markdown",
   "id": "b6ebd5d8-be66-41a5-9bdd-c06df9ecacc2",
   "metadata": {},
   "source": [
    "En el siguiente código la idea es imprimir los cuatro colores, establecemos dos funciones que lo permiten. Tómate el tiempo para analizarlos y cuentanos como opera cada uno:"
   ]
  },
  {
   "cell_type": "code",
   "execution_count": 1,
   "id": "93db512d-7cda-4616-85a5-c7ed9b8ef8f7",
   "metadata": {},
   "outputs": [],
   "source": [
    "colores=['Amarillo','Azul','Rojo','Verde']"
   ]
  },
  {
   "cell_type": "code",
   "execution_count": 2,
   "id": "64b58df9-2aa6-4c54-9579-dbd33ea2358e",
   "metadata": {},
   "outputs": [],
   "source": [
    "## Función 1\n",
    "def impresion_iterativa(lista):\n",
    "    for i in lista:\n",
    "        print(i)"
   ]
  },
  {
   "cell_type": "code",
   "execution_count": 3,
   "id": "396e7a53-f446-4ad4-8293-6bcd352d9a5d",
   "metadata": {},
   "outputs": [
    {
     "name": "stdout",
     "output_type": "stream",
     "text": [
      "Amarillo\n",
      "Azul\n",
      "Rojo\n",
      "Verde\n"
     ]
    }
   ],
   "source": [
    "impresion_iterativa(colores)"
   ]
  },
  {
   "cell_type": "markdown",
   "id": "d63c4165-7fac-4b91-8e19-ff5d46e27e40",
   "metadata": {},
   "source": [
    "En la siguiente buscamos un resultado similar:"
   ]
  },
  {
   "cell_type": "code",
   "execution_count": 4,
   "id": "57ba373e-ecc6-41f2-9e66-1a12f6f79972",
   "metadata": {},
   "outputs": [],
   "source": [
    "## Función 2\n",
    "def impresion_recursiva(lista):\n",
    "    if len(lista) == 1:\n",
    "        lista = lista[0]\n",
    "        print(lista)\n",
    "\n",
    "    else:\n",
    "        mitad = len(lista) // 2\n",
    "        primera_mitad = lista[:mitad]\n",
    "        segunda_mitad = lista[mitad:]\n",
    "\n",
    "        impresion_recursiva(primera_mitad)\n",
    "        impresion_recursiva(segunda_mitad)"
   ]
  },
  {
   "cell_type": "code",
   "execution_count": 5,
   "id": "0e281cbd-84d5-4910-aede-da1c893abb6b",
   "metadata": {},
   "outputs": [
    {
     "name": "stdout",
     "output_type": "stream",
     "text": [
      "Amarillo\n",
      "Azul\n",
      "Rojo\n",
      "Verde\n"
     ]
    }
   ],
   "source": [
    "impresion_recursiva(colores)"
   ]
  },
  {
   "cell_type": "markdown",
   "id": "045cea3d-d78a-46e1-a96b-64c7eaf4e304",
   "metadata": {},
   "source": [
    "¿Qué clase de algortimo es este? \n",
    "\n",
    "Como podemos ver obtenemos el mismo resultado, pero en la función 2 se hace referencia a ella misma. Un ejercicio interesante es explicar que ocurre desde que inicia el algoritmo. Pensemos en un diagrama que aclare esta situación:"
   ]
  },
  {
   "cell_type": "markdown",
   "id": "7be25887-be47-4c6b-a6b5-6dd167b46503",
   "metadata": {},
   "source": [
    "<div style=\"width: 100%;\"><div style=\"position: relative; padding-bottom: 56.25%; padding-top: 0; height: 0;\"><iframe frameborder=\"0\" width=\"1200\" height=\"675\" style=\"position: absolute; top: 0; left: 0; width: 100%; height: 100%;\" src=\"https://view.genial.ly/61afe68d0cece40d63da9847\" type=\"text/html\" allowscriptaccess=\"always\" allowfullscreen=\"true\" scrolling=\"yes\" allownetworking=\"all\"></iframe> </div> </div>"
   ]
  },
  {
   "cell_type": "markdown",
   "id": "a9defeed-f154-47d8-bbc1-efa89d4068a5",
   "metadata": {},
   "source": [
    "Observe que no importa el tamaño de la lista siempre realizará la tarea que asignamos:"
   ]
  },
  {
   "cell_type": "code",
   "execution_count": 6,
   "id": "9ebfc380-346e-413c-bc6a-f98be130b415",
   "metadata": {},
   "outputs": [],
   "source": [
    "Colores=['Amarillo','Azul','Rojo','Verde','Naranja','Violeta','Ocre']"
   ]
  },
  {
   "cell_type": "code",
   "execution_count": 7,
   "id": "dc996abd-0cf0-4172-a05d-536e4b391e5e",
   "metadata": {},
   "outputs": [
    {
     "name": "stdout",
     "output_type": "stream",
     "text": [
      "Amarillo\n",
      "Azul\n",
      "Rojo\n",
      "Verde\n",
      "Naranja\n",
      "Violeta\n",
      "Ocre\n"
     ]
    }
   ],
   "source": [
    "impresion_recursiva(Colores)"
   ]
  },
  {
   "cell_type": "markdown",
   "id": "88dc718b-1066-4ee6-8b6f-929b1a3dec4e",
   "metadata": {},
   "source": [
    "Tomando como base el gráfico anterior, trata de dibujar como se imprimieron los anteriores siete colores. Veamos ahora el siguiente algorimo, usado para calcular el factorial de un número."
   ]
  },
  {
   "cell_type": "code",
   "execution_count": 8,
   "id": "347010e5-ebd4-4a2e-bd75-8b2facff9e5e",
   "metadata": {},
   "outputs": [],
   "source": [
    "def factorial_iterativo(n):\n",
    "    f=1\n",
    "    for i in range(1,n+1):\n",
    "        print(i)\n",
    "        f=i*f\n",
    "    return f"
   ]
  },
  {
   "cell_type": "code",
   "execution_count": 9,
   "id": "d7dc2f34-63df-4937-b2c9-95145d0fe986",
   "metadata": {},
   "outputs": [
    {
     "name": "stdout",
     "output_type": "stream",
     "text": [
      "1\n",
      "2\n",
      "3\n",
      "4\n",
      "5\n"
     ]
    },
    {
     "data": {
      "text/plain": [
       "120"
      ]
     },
     "execution_count": 9,
     "metadata": {},
     "output_type": "execute_result"
    }
   ],
   "source": [
    "factorial_iterativo(5)"
   ]
  },
  {
   "cell_type": "markdown",
   "id": "6e4618b3-b77c-47d2-85cf-e90152aaa1ab",
   "metadata": {},
   "source": [
    "Comparemos con el siguiente:"
   ]
  },
  {
   "cell_type": "code",
   "execution_count": 10,
   "id": "bb3a4369-c6a5-47f7-a826-a618c6852851",
   "metadata": {},
   "outputs": [],
   "source": [
    "\n",
    "def factorial_recursivo(n):\n",
    "    if n==1:\n",
    "        return 1\n",
    "    else:\n",
    "        return n*factorial_recursivo(n-1)"
   ]
  },
  {
   "cell_type": "code",
   "execution_count": 11,
   "id": "7735a8a0-28e2-48be-9aa7-fd88c94dce18",
   "metadata": {},
   "outputs": [
    {
     "data": {
      "text/plain": [
       "120"
      ]
     },
     "execution_count": 11,
     "metadata": {},
     "output_type": "execute_result"
    }
   ],
   "source": [
    "factorial_recursivo(5)"
   ]
  },
  {
   "cell_type": "markdown",
   "id": "ad340907-4917-4867-bfcd-e30cd0d64d24",
   "metadata": {},
   "source": [
    "En un diagrama como el anterior explique como se está ejecutando este algoritmo."
   ]
  },
  {
   "cell_type": "markdown",
   "id": "1a41e4ab-343c-45ef-a8c9-e6c4ac97910b",
   "metadata": {},
   "source": [
    "## Es un divide y venceras\n",
    "\n",
    "Un guía adecuada para reconocer estos algoritmos recursivos es que se define un problema como simple o como una división que nos lleva a un problema más sencillo.\n",
    "\n",
    "En terminos más formales, una función recursiva es una función definida en términos de sí misma a través de expresiones autorreferenciales. Es decir, la función continuará llamándose a sí misma y repetirá su comportamiento hasta que se cumpla alguna condición para devolver un resultado. Todas las funciones recursivas comparten una estructura común compuesta de dos partes: caso base y caso recursivo. \n",
    "\n",
    "En los ejemplos anteriores es muy sencillo identificar este par de partes.\n",
    "\n",
    "### Estado de ejecución en funciones recursivas\n",
    "\n",
    "En las funciones recursivas cada *llamada* tiene su propio contexto de ejecución, es muy importante que mientras se mantenga en el estado de recursividad se pase el estado a través de cada llamada recursiva para que el estado actual sea parte del contexto de ejecución de la llamada actual, sin embargo otra alternativa se puede plantear al  mantener el estado en el ámbito global, ilustremos esta situación con los siguientes ejemplos, el objetivo es lograr la suma de los primeros diez números enteros positivos.\n",
    "\n",
    "El siguiente mantiene el estado recursivo aplicando cada llamada  *recursiva* como argumento:"
   ]
  },
  {
   "cell_type": "code",
   "execution_count": 12,
   "id": "6fe5933e-0f19-4840-acfc-2ef55887c5e9",
   "metadata": {},
   "outputs": [],
   "source": [
    "def sum_recursive(current_number, accumulated_sum):\n",
    "    # Caso Base\n",
    "    # Estado final\n",
    "    if current_number == 11:\n",
    "        return accumulated_sum\n",
    "\n",
    "    # Caso recursivo\n",
    "    # Avanza atraves de la ejecución con llamadas recursivas\n",
    "    else:\n",
    "        return sum_recursive(current_number + 1, accumulated_sum + current_number)"
   ]
  },
  {
   "cell_type": "code",
   "execution_count": 13,
   "id": "993f1218-aa76-4e57-b449-205935959736",
   "metadata": {},
   "outputs": [
    {
     "data": {
      "text/plain": [
       "55"
      ]
     },
     "execution_count": 13,
     "metadata": {},
     "output_type": "execute_result"
    }
   ],
   "source": [
    "sum_recursive(1,0)"
   ]
  },
  {
   "cell_type": "markdown",
   "id": "9f54567e-4cbf-473a-8a69-e7f95af940df",
   "metadata": {},
   "source": [
    "La ejecución avanza de la siguiente manera:"
   ]
  },
  {
   "cell_type": "markdown",
   "id": "e01633c5-a796-438a-af38-c85418187f97",
   "metadata": {},
   "source": [
    "![recursivo_estadoi](https://files.realpython.com/media/state_3.3e8a68c4fde5.png)"
   ]
  },
  {
   "cell_type": "markdown",
   "id": "a268eb7f-1d42-4bf2-b078-715cb4ceef21",
   "metadata": {},
   "source": [
    "Ahora trabajemos dejando todo en el espacio de nombres global, aca `current_number` y `accumulated_sum` se mantienen como variables globales:"
   ]
  },
  {
   "cell_type": "code",
   "execution_count": 14,
   "id": "9ae1474e-8a6d-4b10-af48-7408b4247f33",
   "metadata": {},
   "outputs": [],
   "source": [
    "# Entorno global\n",
    "current_number = 1\n",
    "accumulated_sum = 0\n",
    "\n",
    "\n",
    "def sum_recursive():\n",
    "    global current_number\n",
    "    global accumulated_sum\n",
    "    # Caso Base\n",
    "    if current_number == 11:\n",
    "        return accumulated_sum\n",
    "    # Caso Recursivo\n",
    "    else:\n",
    "        accumulated_sum = accumulated_sum + current_number\n",
    "        current_number = current_number + 1\n",
    "        return sum_recursive()"
   ]
  },
  {
   "cell_type": "markdown",
   "id": "27719554-1ff7-43af-80d1-bb2c98574a69",
   "metadata": {},
   "source": [
    "### Estructuras de datos recursivas\n",
    "\n",
    "Diremos que una estructura de datos es recursiva si puede definirse en términos de una versión más pequeña de sí misma. \n",
    "\n",
    "Por ejemplo, una lista es un ejemplo de estructura de datos recursiva, es posible construir cualquier lista aplicando la siguiente función varias veces y iniciando con una lista vacía. Por ejemplo:"
   ]
  },
  {
   "cell_type": "code",
   "execution_count": 15,
   "id": "59741a51-41e9-4de0-b44d-4fc99ae05e4e",
   "metadata": {},
   "outputs": [],
   "source": [
    "def elemento_adjunto(lista,elemento):\n",
    "    return lista + [elemento]\n"
   ]
  },
  {
   "cell_type": "code",
   "execution_count": 16,
   "id": "bc743ce0-6b4d-4c15-91d4-b884bb188e10",
   "metadata": {},
   "outputs": [
    {
     "data": {
      "text/plain": [
       "[1, 2, 3]"
      ]
     },
     "execution_count": 16,
     "metadata": {},
     "output_type": "execute_result"
    }
   ],
   "source": [
    "elemento_adjunto(elemento_adjunto(elemento_adjunto([],1),2),3)"
   ]
  },
  {
   "cell_type": "markdown",
   "id": "260e1ee0-271c-425a-b57f-a4b679f86748",
   "metadata": {},
   "source": [
    "Los diccionarios, los conjuntos, los árboles admiten definición recursiva, claramente los algoritmos recursivos se montan en datos recursivos: "
   ]
  },
  {
   "cell_type": "code",
   "execution_count": 17,
   "id": "eb6e659f-c2f6-40df-b057-2495845f0a72",
   "metadata": {},
   "outputs": [],
   "source": [
    "def suma_de_lista_recursiva(lista_inicial):\n",
    "    # Caso Base\n",
    "    if lista_inicial == []:\n",
    "        return 0\n",
    "\n",
    "    # Caso recursivo\n",
    "    else:\n",
    "        encabezado = lista_inicial[0]\n",
    "        Lista_pequeña = lista_inicial[1:]\n",
    "        return encabezado + suma_de_lista_recursiva(Lista_pequeña)"
   ]
  },
  {
   "cell_type": "code",
   "execution_count": 18,
   "id": "85dddbac-1e1a-4514-9236-28b4e865e420",
   "metadata": {},
   "outputs": [
    {
     "data": {
      "text/plain": [
       "0"
      ]
     },
     "execution_count": 18,
     "metadata": {},
     "output_type": "execute_result"
    }
   ],
   "source": [
    "suma_de_lista_recursiva([])"
   ]
  },
  {
   "cell_type": "code",
   "execution_count": 19,
   "id": "b696408b-5859-4480-81a3-9de77d288c2c",
   "metadata": {},
   "outputs": [
    {
     "data": {
      "text/plain": [
       "10"
      ]
     },
     "execution_count": 19,
     "metadata": {},
     "output_type": "execute_result"
    }
   ],
   "source": [
    "suma_de_lista_recursiva([1,2,3,4])"
   ]
  },
  {
   "cell_type": "markdown",
   "id": "3801614f-f25c-4430-b3a4-f27ba218051d",
   "metadata": {},
   "source": [
    "## Cierre\n",
    "\n",
    "Cuando usamos herramientas recursivas estamos cambiando la forma de pensar. Es todo un arte identificar problemas que se pueden hacer pequeños y autoreferenciar. Además estamos logrando una solución elegante a prblemas que tradicionalmente se resuelven con iteraciones. Una de las características destacadas de Python, que permite la elegancia de las soluciones.\n"
   ]
  }
 ],
 "metadata": {
  "kernelspec": {
   "display_name": "Python 3 (ipykernel)",
   "language": "python",
   "name": "python3"
  },
  "language_info": {
   "codemirror_mode": {
    "name": "ipython",
    "version": 3
   },
   "file_extension": ".py",
   "mimetype": "text/x-python",
   "name": "python",
   "nbconvert_exporter": "python",
   "pygments_lexer": "ipython3",
   "version": "3.9.12"
  }
 },
 "nbformat": 4,
 "nbformat_minor": 5
}