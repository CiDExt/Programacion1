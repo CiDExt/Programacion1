{
 "cells": [
  {
   "cell_type": "markdown",
   "id": "8885939b-94e5-48d9-a4bc-0cde07301e3f",
   "metadata": {},
   "source": [
    "# Iteración y Recursión\n",
    "\n",
    ":::::{important} ¿Cómo vamos?\n",
    "\n",
    "\n",
    "Hasta el momento debemos tener claro lo siguiente:\n",
    "\n",
    "\n",
    "````{tabbed} Estructuras de programación\n",
    "\n",
    ":::{admonition} Recordemos...\n",
    ":class: tip\n",
    "En este curso hemos visto que las estructuras de secuencia, selección e iteración se utilizan para un paradigma definido de programación, trabajamos bajo el hecho de que toda función computable se puede expresar en termino de estas estructuras y en Python las obtenemos con:\n",
    "\n",
    "`if`\n",
    "`while`\n",
    "`for`\n",
    ":::\n",
    "````\n",
    "\n",
    "\n",
    "````{tabbed} Secuencias en Python\n",
    "\n",
    ":::{admonition} Recordemos...\n",
    ":class: tip\n",
    "En Python las secuencias son un tipo de objeto que almacenan datos, hemos visto de diferentes tipos y con diferentes sentidos, entre ellas están:\n",
    "\n",
    "* Listas\n",
    "* Tuplas\n",
    "* Conjuntos\n",
    "* Diccionarios\n",
    "\n",
    ":::\n",
    "````\n",
    ":::::"
   ]
  },
  {
   "cell_type": "markdown",
   "id": "b6ebd5d8-be66-41a5-9bdd-c06df9ecacc2",
   "metadata": {},
   "source": []
  }
 ],
 "metadata": {
  "kernelspec": {
   "display_name": "Python 3 (ipykernel)",
   "language": "python",
   "name": "python3"
  },
  "language_info": {
   "codemirror_mode": {
    "name": "ipython",
    "version": 3
   },
   "file_extension": ".py",
   "mimetype": "text/x-python",
   "name": "python",
   "nbconvert_exporter": "python",
   "pygments_lexer": "ipython3",
   "version": "3.9.5"
  }
 },
 "nbformat": 4,
 "nbformat_minor": 5
}