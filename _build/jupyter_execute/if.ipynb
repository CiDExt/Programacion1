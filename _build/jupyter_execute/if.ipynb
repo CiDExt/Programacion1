{
 "cells": [
  {
   "cell_type": "markdown",
   "id": "04451801",
   "metadata": {},
   "source": [
    "# Condicionales (if)"
   ]
  },
  {
   "cell_type": "markdown",
   "id": "4f32bc9f",
   "metadata": {},
   "source": [
    "El `if` se utiliza para evaluar expresiones condicionales, si cierta condición se satisface, se ejecuta un determinado bloque de código, y en caso de no satisfacer la condición puede que ejecute otro bloque de código, evalúe otra condición o simplemente no haga nada. Nosotros abordaremos todos los casos, pero debemos hacerlo desde el caso más sencillo:\n",
    "\n",
    "Si se cumple cierta condición, ejecute un bloque de código, si no se cumple no haga nada.\n",
    "\n",
    "Como debemos verificar la validez o no de una condición, la condición que ingresemos debe arrojar como resultado una variable booleana (`True` o `False`).\n",
    "\n",
    "La estructura es la siguiente:\n",
    "\n",
    "```\n",
    "if (condición):\n",
    "    instrucción 1\n",
    "    instrucción 2\n",
    "    \n",
    "    instrucción n\n",
    "```"
   ]
  },
  {
   "cell_type": "code",
   "execution_count": 1,
   "id": "b1516892",
   "metadata": {},
   "outputs": [
    {
     "name": "stdout",
     "output_type": "stream",
     "text": [
      "El valor de verdad de la condición es verdadero\n"
     ]
    }
   ],
   "source": [
    "if True:\n",
    "    print('El valor de verdad de la condición es verdadero')\n",
    "    "
   ]
  },
  {
   "cell_type": "code",
   "execution_count": 2,
   "id": "ffddee03",
   "metadata": {},
   "outputs": [],
   "source": [
    "if False:\n",
    "    print('El valor de verdad de la condición es falso')"
   ]
  },
  {
   "cell_type": "markdown",
   "id": "8dd71633",
   "metadata": {},
   "source": [
    "note que en el bloque de código anterior no hubo respuesta alguna, esto ocurre porque la condición es falsa. \n",
    "\n",
    "**if ... else:**\n",
    "\n",
    "Este es el segundo caso que podemos tener en un `if`, y es: verifique una condición, si se cumple ejecute un bloque de código, si no se cumple, ejecute otrobloque de código.\n",
    "\n",
    "Su estructura es la siguiente:\n",
    "\n",
    "```\n",
    "if (condición):\n",
    "    instrucción 1\n",
    "    instrucción 2\n",
    "    \n",
    "    instrucción n\n",
    "else:\n",
    "    instrucción 1\n",
    "    instrucción 2\n",
    "    \n",
    "    instrucción m\n",
    "```\n",
    "\n",
    "Ahora verificaremos si un número que nosotros digitemos es positivo o no:"
   ]
  },
  {
   "cell_type": "markdown",
   "id": "ae06eacf-7061-42f0-8ebd-dd6f99777c13",
   "metadata": {},
   "source": [
    "```Python \n",
    "n = int(input('Escribe el número que deseas verificar: '))\n",
    "```"
   ]
  },
  {
   "cell_type": "code",
   "execution_count": 3,
   "id": "60339eb9",
   "metadata": {},
   "outputs": [
    {
     "ename": "NameError",
     "evalue": "name 'n' is not defined",
     "output_type": "error",
     "traceback": [
      "\u001b[0;31m---------------------------------------------------------------------------\u001b[0m",
      "\u001b[0;31mNameError\u001b[0m                                 Traceback (most recent call last)",
      "\u001b[0;32m/tmp/ipykernel_34579/2299777728.py\u001b[0m in \u001b[0;36m<module>\u001b[0;34m\u001b[0m\n\u001b[0;32m----> 1\u001b[0;31m \u001b[0;32mif\u001b[0m \u001b[0mn\u001b[0m\u001b[0;34m>\u001b[0m\u001b[0;36m0\u001b[0m\u001b[0;34m:\u001b[0m\u001b[0;34m\u001b[0m\u001b[0;34m\u001b[0m\u001b[0m\n\u001b[0m\u001b[1;32m      2\u001b[0m     \u001b[0mprint\u001b[0m\u001b[0;34m(\u001b[0m\u001b[0;34m'El número es positivo'\u001b[0m\u001b[0;34m)\u001b[0m\u001b[0;34m\u001b[0m\u001b[0;34m\u001b[0m\u001b[0m\n\u001b[1;32m      3\u001b[0m \u001b[0;32melse\u001b[0m\u001b[0;34m:\u001b[0m\u001b[0;34m\u001b[0m\u001b[0;34m\u001b[0m\u001b[0m\n\u001b[1;32m      4\u001b[0m     \u001b[0mprint\u001b[0m\u001b[0;34m(\u001b[0m\u001b[0;34m'El número no es positivo'\u001b[0m\u001b[0;34m)\u001b[0m\u001b[0;34m\u001b[0m\u001b[0;34m\u001b[0m\u001b[0m\n",
      "\u001b[0;31mNameError\u001b[0m: name 'n' is not defined"
     ]
    }
   ],
   "source": [
    "if n>0:\n",
    "    print('El número es positivo')\n",
    "else:\n",
    "    print('El número no es positivo')"
   ]
  },
  {
   "cell_type": "markdown",
   "id": "c767ccd4",
   "metadata": {},
   "source": [
    "Para verificar si un número dado es par o no, podemos utilizar el siguiente bloque de código:"
   ]
  },
  {
   "cell_type": "code",
   "execution_count": 9,
   "id": "e4581610",
   "metadata": {},
   "outputs": [
    {
     "name": "stdout",
     "output_type": "stream",
     "text": [
      "4 es par\n"
     ]
    }
   ],
   "source": [
    "m = 4\n",
    "if m%2==0:\n",
    "    print('{0:1d} es par'.format(m))\n",
    "else:\n",
    "    print('{0:1d} es impar'.format(m))"
   ]
  },
  {
   "cell_type": "markdown",
   "id": "fde63774",
   "metadata": {},
   "source": [
    "**if ... elif:**\n",
    "\n",
    "El tercer caso, es el siguiente:\n",
    "si se cumple cierta condición ejecute cierto bloque de código, sino, verifica otra condición si se cumple ejecuta otro bloque de código y si no se cumplen las condiciones anteriores, ejecute otro bloque de cpodigo.\n",
    "\n",
    "Su estructura es la siguiente:\n",
    "\n",
    "```\n",
    "if (condición1):\n",
    "    instrucción 1\n",
    "    instrucción 2\n",
    "    \n",
    "    instrucción n\n",
    "elif (condición2):\n",
    "    instrucción 1\n",
    "    instrucción 2\n",
    "    \n",
    "    instrucción m\n",
    "else \n",
    "    instrucción 1\n",
    "    instrucción 2\n",
    "    \n",
    "    instrucción l\n",
    "```\n",
    "\n",
    "Pero si deseamos verificar si el número es positivo negativo o cero, "
   ]
  },
  {
   "cell_type": "code",
   "execution_count": 10,
   "id": "88ef19ac",
   "metadata": {},
   "outputs": [
    {
     "name": "stdout",
     "output_type": "stream",
     "text": [
      "El número es cero\n"
     ]
    }
   ],
   "source": [
    "k=0\n",
    "if k>0:\n",
    "    print('El número es positivo')\n",
    "elif k<0:\n",
    "    print('El número es negativo')\n",
    "else:\n",
    "    print('El número es cero')"
   ]
  },
  {
   "cell_type": "markdown",
   "id": "42813f3c",
   "metadata": {},
   "source": [
    "Ahora modificaremos ligeramente el código anterior para verificar la ley de tricotomía entre un par de números reales:"
   ]
  },
  {
   "cell_type": "code",
   "execution_count": 11,
   "id": "5089e62f",
   "metadata": {},
   "outputs": [
    {
     "name": "stdout",
     "output_type": "stream",
     "text": [
      "3 es mayor que -4\n"
     ]
    }
   ],
   "source": [
    "a=3\n",
    "b=-4\n",
    "if a>b:\n",
    "    print('{mayor} es mayor que {menor}'.format(mayor=a,menor=b))\n",
    "elif a<b:\n",
    "    print('{mayor} es mayor que {menor}'.format(mayor=b,menor=a))\n",
    "else:\n",
    "    print('Los números son iguales')"
   ]
  },
  {
   "cell_type": "markdown",
   "id": "a39c156c",
   "metadata": {},
   "source": [
    "**Nota:**\n",
    "    \n",
    "Podemos anidar múltiples `elif`, dependiendo de la cantidad de condiciones que necesitemos imponer."
   ]
  },
  {
   "cell_type": "markdown",
   "id": "871c2d3d",
   "metadata": {},
   "source": [
    "## Ejercicios\n",
    "\n",
    "Una materia se evaluó con 5 notas con los siguientes porcentajes: *Nota 1:* $10%$, *Nota 2:* $15%$, *Nota 3:* $20%$, *Nota 4:* $25%$ y *Nota 5:* $30%$.\n",
    "\n",
    "1. Escriba un bloque de código que le permita al usuario introducir sus 5 notas y que calcule su definitiva.\n",
    "2. Si se desea dejar un comentario en el sistema, dependiendo de la nota obtenida, haga un bloque de código de tal forma que clasifique a los estudiantes según su definitiva, como sigue: \n",
    "* Rendimiento deficiente $0\\leq definitiva \\leq 1.5$.\n",
    "* Rendimiento insuficiente $1.5< definitiva < 3$.\n",
    "* Rendimiento aceptable $3\\leq definitiva \\leq 3.8$.\n",
    "* Rendimiento sobresaliente $3.8< definitiva \\leq 4.5$.\n",
    "* Rendimiento sobresaliente $4.5< definitiva \\leq 5$.\n"
   ]
  },
  {
   "cell_type": "markdown",
   "id": "4cb37b46",
   "metadata": {},
   "source": [
    "En las condiciones también podemos tener operadores lógicos, como podremos ver en las siguientes líneas:"
   ]
  },
  {
   "cell_type": "code",
   "execution_count": 12,
   "id": "1263a3a7",
   "metadata": {},
   "outputs": [],
   "source": [
    "x=2\n",
    "if (x%2==0 and x%3==0):\n",
    "    print(x,'es divisible por 2 y 3')"
   ]
  },
  {
   "cell_type": "code",
   "execution_count": 13,
   "id": "256b7c15",
   "metadata": {},
   "outputs": [
    {
     "name": "stdout",
     "output_type": "stream",
     "text": [
      "5 no se puede dividir ni por 2 ni por 3\n"
     ]
    }
   ],
   "source": [
    "x=5\n",
    "if (x%2==0 and not x%3==0):\n",
    "    print(x,'es divisible por 2 y no por 3')\n",
    "elif (not x%2==0 and x%3==0):\n",
    "    print(x,'es divisible por 3 y no por 2')\n",
    "elif (x%2==0 and x%3==0):\n",
    "    print(x,'es divisible por 2 y 3')\n",
    "else:\n",
    "    print(x,'no se puede dividir ni por 2 ni por 3')"
   ]
  }
 ],
 "metadata": {
  "kernelspec": {
   "display_name": "Python 3 (ipykernel)",
   "language": "python",
   "name": "python3"
  },
  "language_info": {
   "codemirror_mode": {
    "name": "ipython",
    "version": 3
   },
   "file_extension": ".py",
   "mimetype": "text/x-python",
   "name": "python",
   "nbconvert_exporter": "python",
   "pygments_lexer": "ipython3",
   "version": "3.9.5"
  },
  "latex_envs": {
   "LaTeX_envs_menu_present": true,
   "autoclose": false,
   "autocomplete": true,
   "bibliofile": "biblio.bib",
   "cite_by": "apalike",
   "current_citInitial": 1,
   "eqLabelWithNumbers": true,
   "eqNumInitial": 1,
   "hotkeys": {
    "equation": "Ctrl-E",
    "itemize": "Ctrl-I"
   },
   "labels_anchors": false,
   "latex_user_defs": false,
   "report_style_numbering": false,
   "user_envs_cfg": false
  },
  "toc": {
   "base_numbering": 1,
   "nav_menu": {},
   "number_sections": true,
   "sideBar": true,
   "skip_h1_title": false,
   "title_cell": "Table of Contents",
   "title_sidebar": "Contents",
   "toc_cell": false,
   "toc_position": {},
   "toc_section_display": true,
   "toc_window_display": false
  }
 },
 "nbformat": 4,
 "nbformat_minor": 5
}