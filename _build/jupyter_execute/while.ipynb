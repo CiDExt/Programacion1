{
 "cells": [
  {
   "cell_type": "markdown",
   "id": "9c9f308b",
   "metadata": {},
   "source": [
    "# While"
   ]
  },
  {
   "cell_type": "markdown",
   "id": "06a20fd7",
   "metadata": {},
   "source": [
    "En este cuaderno, estudiaremos una estructura de control diseñadas hacer tareas repetitivas y parar cuando una condición deje de cumplirse.\n",
    "\n",
    "Mientras se cumpla la condición, se ejecuta un bloque de código.\n",
    "\n",
    "```\n",
    "while (condición):\n",
    "    instrucción 1\n",
    "    instrucción 2\n",
    "    \n",
    "    instrucción n\n",
    "```\n",
    "\n",
    "**Nota:**\n",
    "\n",
    "Para esta estructura debemos tener especial cuidado, ya que existe la posibilidad de escribir la condición de tal manera que siempre se cumpla y tendríamos un ciclo infinito, como ocurrirá con el siguiente código."
   ]
  },
  {
   "cell_type": "markdown",
   "id": "146eed7e-15e1-4385-8809-5e7a607fe1fe",
   "metadata": {},
   "source": [
    "```Python\n",
    "while 2!=1:\n",
    "    print(1, end=' ')\n",
    "```"
   ]
  },
  {
   "cell_type": "markdown",
   "id": "aede87cb",
   "metadata": {},
   "source": [
    "Como queremos que el ciclo se detenga en algún momento, se recomienda que en las instrucciones incluyamos un paso en el cual se modifique el elemento que interviene en la condición, de tal modo que, luego de un número finito de iteraciones se detenga la tarea:"
   ]
  },
  {
   "cell_type": "code",
   "execution_count": 1,
   "id": "8b5d0517",
   "metadata": {},
   "outputs": [
    {
     "name": "stdout",
     "output_type": "stream",
     "text": [
      "1 2 3 4 5 6 7 8 9 10 "
     ]
    }
   ],
   "source": [
    "i=0\n",
    "while i<10:\n",
    "    i=i+1\n",
    "    print(i,end=' ')"
   ]
  },
  {
   "cell_type": "markdown",
   "id": "1e73cfd6",
   "metadata": {},
   "source": [
    "Otra forma de detener el ciclo, es incluir una condición con un `if`, así:"
   ]
  },
  {
   "cell_type": "code",
   "execution_count": 2,
   "id": "2fdf9af9",
   "metadata": {},
   "outputs": [
    {
     "name": "stdout",
     "output_type": "stream",
     "text": [
      "1 2 3 4 "
     ]
    }
   ],
   "source": [
    "i=0\n",
    "while i<10:\n",
    "    i=i+1\n",
    "    if i==5:\n",
    "        break\n",
    "    print(i,end=' ')"
   ]
  },
  {
   "cell_type": "markdown",
   "id": "f3223a69",
   "metadata": {},
   "source": [
    "## Ejercicio\n",
    "\n",
    "1. Utiliza un ciclo `while` para hallar el factorial de un número. Recuerda que el factorial de un número es el producto de todos los enteros positivos hasta él."
   ]
  },
  {
   "cell_type": "code",
   "execution_count": 3,
   "id": "50e5680e",
   "metadata": {},
   "outputs": [
    {
     "name": "stdout",
     "output_type": "stream",
     "text": [
      "3628800\n"
     ]
    }
   ],
   "source": [
    "n = 10\n",
    "i = 1\n",
    "factorial = 1\n",
    "while i<=n:\n",
    "    factorial = i*factorial\n",
    "    i = i+1 \n",
    "print(factorial)"
   ]
  },
  {
   "cell_type": "code",
   "execution_count": 4,
   "id": "ff616b00",
   "metadata": {},
   "outputs": [
    {
     "name": "stdout",
     "output_type": "stream",
     "text": [
      "Los divisores de 100 son: 1 2 4 5 10 20 25 50 100 "
     ]
    }
   ],
   "source": [
    "n = 100\n",
    "i = 1\n",
    "print('Los divisores de {0:1d} son:'.format(n),end=' ')\n",
    "while i<=n:\n",
    "    if n%i==0:\n",
    "        print(i,end=' ')\n",
    "    i = i+1 "
   ]
  },
  {
   "cell_type": "markdown",
   "id": "af2949be",
   "metadata": {},
   "source": [
    "## Ejercicio\n",
    "1. Elabora un código para determinar si un cierto número es primo o no."
   ]
  },
  {
   "cell_type": "markdown",
   "id": "c79d5efe",
   "metadata": {},
   "source": [
    "una forma de aproximar la raíz cuadrada de un número $a$, es utilizando la aproximación \n",
    "\\begin{equation*}\n",
    "y=\\frac{x^2+a}{2x},\n",
    "\\end{equation*}\n",
    "siendo $x$ cualquier número positivo y $y$ la aproximación obtenida. Si se aplica la aproximación sobre el resultado inmediatamente anterior, se obtendrá una mejora notable, de modo que, emplearemos este hecho para aproximar raíces cuadradas:"
   ]
  },
  {
   "cell_type": "code",
   "execution_count": 5,
   "id": "1e47ccc6",
   "metadata": {},
   "outputs": [
    {
     "name": "stdout",
     "output_type": "stream",
     "text": [
      "5.5\n",
      "3.659090909090909\n",
      "3.196005081874647\n",
      "3.1624556228038903\n",
      "3.1622776651756745\n"
     ]
    }
   ],
   "source": [
    "a = 10\n",
    "x = 1\n",
    "while abs(x**2-a)>0.001:\n",
    "    y = (x**2+a)/(2*x)\n",
    "    x = y\n",
    "    print(x)"
   ]
  }
 ],
 "metadata": {
  "kernelspec": {
   "display_name": "Python 3 (ipykernel)",
   "language": "python",
   "name": "python3"
  },
  "language_info": {
   "codemirror_mode": {
    "name": "ipython",
    "version": 3
   },
   "file_extension": ".py",
   "mimetype": "text/x-python",
   "name": "python",
   "nbconvert_exporter": "python",
   "pygments_lexer": "ipython3",
   "version": "3.9.5"
  },
  "latex_envs": {
   "LaTeX_envs_menu_present": true,
   "autoclose": false,
   "autocomplete": true,
   "bibliofile": "biblio.bib",
   "cite_by": "apalike",
   "current_citInitial": 1,
   "eqLabelWithNumbers": true,
   "eqNumInitial": 1,
   "hotkeys": {
    "equation": "Ctrl-E",
    "itemize": "Ctrl-I"
   },
   "labels_anchors": false,
   "latex_user_defs": false,
   "report_style_numbering": false,
   "user_envs_cfg": false
  },
  "toc": {
   "base_numbering": 1,
   "nav_menu": {},
   "number_sections": true,
   "sideBar": true,
   "skip_h1_title": false,
   "title_cell": "Table of Contents",
   "title_sidebar": "Contents",
   "toc_cell": false,
   "toc_position": {},
   "toc_section_display": true,
   "toc_window_display": false
  }
 },
 "nbformat": 4,
 "nbformat_minor": 5
}