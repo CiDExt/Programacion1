{
 "cells": [
  {
   "cell_type": "markdown",
   "id": "1cb796a3",
   "metadata": {},
   "source": [
    "# Más sobre listas"
   ]
  },
  {
   "cell_type": "markdown",
   "id": "9e04da99-10b6-42d3-8979-fc3c7ee426a1",
   "metadata": {},
   "source": [
    ":::::{important} ¿Qué debemos recordar?\n",
    "\n",
    "\n",
    "Sobre listas debemos tener claro lo siguiente:\n",
    "\n",
    "\n",
    "````{tabbed} Como definir listas\n",
    "\n",
    ":::{admonition} Recordemos...\n",
    ":class: tip\n",
    "```python\n",
    "l = [0, 1, 2, 3]\n",
    "```\n",
    ":::\n",
    "````\n",
    "\n",
    "````{tabbed} Índices en las listas\n",
    ":::{admonition} Recordemos...\n",
    ":class: tip \n",
    "Los índices inician en $0$ y aumentan de uno en uno, algunos índices negativos también se pueden utilizar, al emplear estos valores estamos indicando que la lista se recorre en orden inverso, es decir, el índice -1 es el último elemento de la lista, el -2 es el penúltimo, etc., como podemos ver a continuación:\n",
    "<img src=\"https://github.com/MRippe7/CienciaDatos/blob/main/Imagenes/listas.png?raw=true\"  width=300 >\n",
    ":::\n",
    "````\n",
    "\n",
    "````{tabbed} Objetos mutables\n",
    "\n",
    ":::{warning}  ¿Cómo así?\n",
    "El contenido de las listas se puede modificar, como por ejemplo con la lista anterior:\n",
    "```python\n",
    "l[0]=[10]\n",
    "```\n",
    ":::\n",
    "````\n",
    ":::::"
   ]
  },
  {
   "cell_type": "markdown",
   "id": "c50e588f-dfcd-432f-8b3e-d4f7ccfabe65",
   "metadata": {},
   "source": [
    "## Sub-listas\n",
    "Hay  oportunidades en las que nuestra necesidad sea extraer una sub-lista de la lista que tenemos, por ejemplo, de la lista `l = [0, 1, 2, 3, 4, 5]` requerimos los elementos desde el índice 2 hasta el 4 de nuestra lista, o los primeros $3$ elementos  o los últimos $4$, éstas tres sub-listas se obtienen así:"
   ]
  },
  {
   "cell_type": "code",
   "execution_count": 1,
   "id": "f076273a-d6bd-4aa2-b49d-e7b21ce0fe45",
   "metadata": {},
   "outputs": [],
   "source": [
    "l = [0, 1, 2, 3, 4, 5]"
   ]
  },
  {
   "cell_type": "code",
   "execution_count": 2,
   "id": "40f9ee00-3dba-4c2e-b0fa-c55bf2bb61a7",
   "metadata": {},
   "outputs": [
    {
     "data": {
      "text/plain": [
       "[2, 3, 4]"
      ]
     },
     "execution_count": 2,
     "metadata": {},
     "output_type": "execute_result"
    }
   ],
   "source": [
    "subl = l[2:5]\n",
    "subl"
   ]
  },
  {
   "cell_type": "code",
   "execution_count": 3,
   "id": "a885a5b9-bd57-45a0-9dbb-1c16d764451d",
   "metadata": {},
   "outputs": [
    {
     "data": {
      "text/plain": [
       "[0, 1, 2]"
      ]
     },
     "execution_count": 3,
     "metadata": {},
     "output_type": "execute_result"
    }
   ],
   "source": [
    "primeros = l[:3]\n",
    "primeros"
   ]
  },
  {
   "cell_type": "code",
   "execution_count": 4,
   "id": "7642e29b-d3c9-4c01-9700-c2ecab5b2c3e",
   "metadata": {},
   "outputs": [
    {
     "data": {
      "text/plain": [
       "[2, 3, 4, 5]"
      ]
     },
     "execution_count": 4,
     "metadata": {},
     "output_type": "execute_result"
    }
   ],
   "source": [
    "ultimos = l[2:]\n",
    "#para mayor facilidad, podemos emplear los índices negativos\n",
    "#ultimos = l[-4:] \n",
    "ultimos"
   ]
  },
  {
   "cell_type": "markdown",
   "id": "f239ef38-d7dc-49d1-98bb-c5a86c415f92",
   "metadata": {},
   "source": [
    "Es decir, para extraer una sub-lista basta con hacerlo de la siguiente manera:\n",
    "```python\n",
    "lista[índice_inicial:índice_final]\n",
    "```\n",
    "Si el ínidice inicial se omite, la lista se considerará desde el primer elemento, de manera análoga ocurre con el índice final, si se omite la sub-lista llegará hasta el último elemento de la lista original.\n",
    "\n",
    "Los valores negativos se emplean cuando se desea hablar de los últimos elementos de una lista, con el fin de evitar confusiones.\n",
    "\n",
    "### Ejercicio:\n",
    "Extraiga tres sub-listas de una lista cuyos valores coinciden con el valor del índice, en ellas deberán estar:\n",
    "1. Los primeros 20 elementos.\n",
    "2. Los elementos desde le índice 100 hasta el índice 200.\n",
    "3. Los últimos 30 elementos.\n",
    "\n",
    "Calcule el promedio de cada una de éstas listas.\n",
    "\n",
    "## Eliminando entradas de una lista\n",
    "En otras ocasiones es muy necesario eliminar elementos de las listas, por ejemplo, vamos a eliminar el tercer elemento de la lista `M = [0, 1, 2, 3, 'cuatro', 1, 1, 5.1, id(l)]` "
   ]
  },
  {
   "cell_type": "code",
   "execution_count": 5,
   "id": "acec5f7a-cf55-42a3-8ed2-bc4ea97226c1",
   "metadata": {},
   "outputs": [],
   "source": [
    "M = [0, 1, 2, 3, 'cuatro', 1, 1, 5.1, id(l)]"
   ]
  },
  {
   "cell_type": "code",
   "execution_count": 6,
   "id": "f049b56a-2b59-4976-b378-a39d22262048",
   "metadata": {},
   "outputs": [
    {
     "data": {
      "text/plain": [
       "[0, 1, 3, 'cuatro', 1, 1, 5.1, 140029761442496]"
      ]
     },
     "execution_count": 6,
     "metadata": {},
     "output_type": "execute_result"
    }
   ],
   "source": [
    "del M[2]\n",
    "M"
   ]
  },
  {
   "cell_type": "markdown",
   "id": "3f5160f9-c0d0-4d31-a83e-f2cf64e15a20",
   "metadata": {},
   "source": [
    "Es decir, al seguir la línea de comando \n",
    "```python\n",
    "del lista[índice_que_se_desea_eliminar]\n",
    "```\n",
    "se borra la entrada de la lista."
   ]
  },
  {
   "cell_type": "markdown",
   "id": "8037f382-ca43-4eed-9720-46acdb04abfb",
   "metadata": {},
   "source": [
    "## Listas por Comprensión:\n",
    "Las listas se pueden crear de una manera un poco más avanzada, empleando la característica que las define. Si por ejemplo, deseamos crear la lista de los primeros $5$ números pares podemos emplear el siguiente código:"
   ]
  },
  {
   "cell_type": "code",
   "execution_count": 7,
   "id": "2ab7a1ec-e5ee-4368-bd58-744ed9056b3e",
   "metadata": {},
   "outputs": [
    {
     "data": {
      "text/plain": [
       "[0, 2, 4, 6, 8]"
      ]
     },
     "execution_count": 7,
     "metadata": {},
     "output_type": "execute_result"
    }
   ],
   "source": [
    "pares = [2*i for i in range(5)]\n",
    "pares"
   ]
  },
  {
   "cell_type": "markdown",
   "id": "4c7326b6-fb67-4272-99ed-0a6fdafc9faa",
   "metadata": {},
   "source": [
    "La línea anterior es equivalente al siguiente bloque:"
   ]
  },
  {
   "cell_type": "code",
   "execution_count": 8,
   "id": "f2124554-4a70-4a65-9ef8-98e5ad87e786",
   "metadata": {},
   "outputs": [
    {
     "data": {
      "text/plain": [
       "[0, 2, 4, 6, 8]"
      ]
     },
     "execution_count": 8,
     "metadata": {},
     "output_type": "execute_result"
    }
   ],
   "source": [
    "pares = []\n",
    "for i in range(5):\n",
    "    pares.append(2*i)\n",
    "pares"
   ]
  },
  {
   "cell_type": "markdown",
   "id": "2c5baadf-ef84-461e-880e-409918ee3580",
   "metadata": {},
   "source": [
    "De momento, podemos decir que las listas por comprensión se crean de la siguiente manera:\n",
    "```python\n",
    "[expresión_que_depende_de_i for i in lista_en_la_que_varía_i]\n",
    "```\n",
    "Pero en ocasiones, es necesario introducir alguna condición ya que no requerimos de todos los valores de la lista. Por ejemplo, si en la lista anterior deseamos omitir los múltiplos de $3$, la siguiente línea nos sería útil:"
   ]
  },
  {
   "cell_type": "code",
   "execution_count": 9,
   "id": "fc80eda1-6b54-4b65-a77a-a84e43a3996f",
   "metadata": {},
   "outputs": [
    {
     "data": {
      "text/plain": [
       "[2, 4, 8]"
      ]
     },
     "execution_count": 9,
     "metadata": {},
     "output_type": "execute_result"
    }
   ],
   "source": [
    "pares2 = [2*i for i in range(5) if i%3!=0]\n",
    "pares2"
   ]
  },
  {
   "cell_type": "markdown",
   "id": "5d0c8f7b-9504-4137-9436-dab36f9e4819",
   "metadata": {},
   "source": [
    "Esta simple línea equivale a redactar el siguiente bloque:"
   ]
  },
  {
   "cell_type": "code",
   "execution_count": 10,
   "id": "dbc46b40-05f9-4735-8c87-515945c2bf4e",
   "metadata": {},
   "outputs": [
    {
     "data": {
      "text/plain": [
       "[2, 4, 8]"
      ]
     },
     "execution_count": 10,
     "metadata": {},
     "output_type": "execute_result"
    }
   ],
   "source": [
    "pares2 = []\n",
    "for i in range(5):\n",
    "    if i%3!=0:\n",
    "        pares2.append(2*i)\n",
    "pares2"
   ]
  },
  {
   "cell_type": "markdown",
   "id": "71a337d4-7bb0-451b-9e26-3c5630492515",
   "metadata": {},
   "source": [
    "Como podemos observar, las listas por comprensión nos facilitan la escritura de listas, pero debemos tener muy claras la expresión que tienen en común todos los elementos de ella y las posibles condiciones para poder agregarlos o no. De manera general las listas por comprensión se escribren así:\n",
    "```python\n",
    "[expresión_que_depende_de_i for i in lista_en_la_que_varía_i if condiciones] \n",
    "```\n",
    "### Ejercicio:\n",
    "1. Crea una lista por comprensión cuya lista que recorre sea una cadena de caracteres arbitraria, y almacene las consonantes únicamente."
   ]
  },
  {
   "cell_type": "markdown",
   "id": "19787b79-4f57-4864-9d37-db346f990e7f",
   "metadata": {},
   "source": [
    "Además de las condiciones anteriores, podemos crear listas por comprensión con ciclos anidados, como por ejemplo:"
   ]
  },
  {
   "cell_type": "code",
   "execution_count": 11,
   "id": "1d3c3a5c-f63c-4d0f-bc12-cd6ff38dcded",
   "metadata": {},
   "outputs": [
    {
     "data": {
      "text/plain": [
       "['Michele', 'María José']"
      ]
     },
     "execution_count": 11,
     "metadata": {},
     "output_type": "execute_result"
    }
   ],
   "source": [
    "nombres1 = ['Luis' ,'Pedro' ,'Michele', 'Albert', 'María José']\n",
    "nombres2 = ['Luisa', 'María José' ,'Michele', 'Ana', 'Jenny']\n",
    "comunes = [a for a in nombres1 for b in nombres2 if a == b]\n",
    "comunes"
   ]
  },
  {
   "cell_type": "markdown",
   "id": "0f139633-c5c8-4426-a271-4561c9f5a0b2",
   "metadata": {},
   "source": [
    "De manera general, las listas por comprensión se pueden crear de la siguiente manera:\n",
    "```python\n",
    "[expresión for a in lista_para_a (opcional if condición_para_a)\n",
    "           for b in lista_para_b (opcional if condición_para_b)\n",
    "           for c in lista_para_c (opcional if condición_para_c)\n",
    "           ...]\n",
    "```"
   ]
  },
  {
   "cell_type": "markdown",
   "id": "b1c5d105-4f4d-4eb8-a009-bb8051734701",
   "metadata": {},
   "source": [
    "### Ejercicio:\n",
    "1. Crea dos listas de números enteros y haga una lista por comprensión en la que se almacenen los productos de los números en ellas que no sean pares."
   ]
  },
  {
   "cell_type": "markdown",
   "id": "bf914bea-3de4-47e7-89bc-794ce040144d",
   "metadata": {
    "tags": []
   },
   "source": [
    "## Tuplas\n",
    "Las tuplas, a diferencia de las listas, son objetos inmutables en los cuales se almacenan datos, bien sean del mismo o de diferentes tipos, siendo éste último el uso más frecuente.\n",
    "\n",
    "De modo que definiremos nuestra primera tupa:"
   ]
  },
  {
   "cell_type": "code",
   "execution_count": 12,
   "id": "aaf72cce-2592-449e-98f4-2d7a4e6e4c60",
   "metadata": {},
   "outputs": [
    {
     "data": {
      "text/plain": [
       "('Enero', '01', 19)"
      ]
     },
     "execution_count": 12,
     "metadata": {},
     "output_type": "execute_result"
    }
   ],
   "source": [
    "temperatura = 'Enero', '01', 19\n",
    "#Equivalentemente\n",
    "#t = ('Enero', '01', 19)\n",
    "temperatura"
   ]
  },
  {
   "cell_type": "markdown",
   "id": "6d0b91b1-771b-4066-847d-28b4374336c5",
   "metadata": {},
   "source": [
    "Sin importar como la definamos: siempre se visualizarán sus elementos entre paréntesis y separados por una coma.   \n",
    "\n",
    "Para conocer la cantidad de elementos que hay en una tupla, empleamos la misma función que para las listas, la función \n",
    "```python \n",
    "len(tupla)\n",
    "```\n",
    "así:"
   ]
  },
  {
   "cell_type": "code",
   "execution_count": 13,
   "id": "74c6511a-5d86-495c-be3e-2a405d460f72",
   "metadata": {},
   "outputs": [
    {
     "data": {
      "text/plain": [
       "3"
      ]
     },
     "execution_count": 13,
     "metadata": {},
     "output_type": "execute_result"
    }
   ],
   "source": [
    "len(temperatura)"
   ]
  },
  {
   "cell_type": "markdown",
   "id": "961f1755-a3b2-4d7c-aaaf-fcb32cff8d62",
   "metadata": {},
   "source": [
    "Si deseamos definir una tupla con un único elemento, debemos hacerlo de la siguiente manera:"
   ]
  },
  {
   "cell_type": "code",
   "execution_count": 14,
   "id": "b46b9f88-b224-4da0-a260-f2cf0fd7e7a3",
   "metadata": {},
   "outputs": [
    {
     "data": {
      "text/plain": [
       "(23,)"
      ]
     },
     "execution_count": 14,
     "metadata": {},
     "output_type": "execute_result"
    }
   ],
   "source": [
    "tupla1elemento = 23, #Observa la coma\n",
    "tupla1elemento"
   ]
  },
  {
   "cell_type": "markdown",
   "id": "f867404a-fabe-4bdf-8b2b-a3119747ec25",
   "metadata": {},
   "source": [
    "La coma es la que indica que es una tupla, ya que se si hace sin ella, incluso entre paréntesis, se guardará el entero 23 y no la tupla cuyo único elemento es el 23.\n",
    "\n",
    "Para acceder a la información almacenada en las diferentes entradas de una tupla, lo hacemos de la misma manera que lo hicimos con las listas, es decir, `tupla[índice]`, así:"
   ]
  },
  {
   "cell_type": "code",
   "execution_count": 15,
   "id": "12c56b84-b88e-44d4-a221-484248690c6d",
   "metadata": {},
   "outputs": [
    {
     "data": {
      "text/plain": [
       "'Enero'"
      ]
     },
     "execution_count": 15,
     "metadata": {},
     "output_type": "execute_result"
    }
   ],
   "source": [
    "temperatura[0]"
   ]
  },
  {
   "cell_type": "markdown",
   "id": "fdcd4063-314b-4aa1-b731-c30062f2cf47",
   "metadata": {},
   "source": [
    "y éstas se pueden operar:"
   ]
  },
  {
   "cell_type": "code",
   "execution_count": 16,
   "id": "c6ef8e6a-c956-41d8-b97d-86a00ae3443d",
   "metadata": {},
   "outputs": [
    {
     "data": {
      "text/plain": [
       "'La temperatura máxima en Bogotá el 01 de Enero del 2021 fue de 19'"
      ]
     },
     "execution_count": 16,
     "metadata": {},
     "output_type": "execute_result"
    }
   ],
   "source": [
    "'La temperatura máxima en Bogotá el '+ temperatura[1]+' de '+temperatura[0]+' del 2021 fue de '+str(temperatura[-1])"
   ]
  },
  {
   "cell_type": "markdown",
   "id": "cd6eb4b3-028b-4606-98cf-0008f19259b1",
   "metadata": {},
   "source": [
    "¿Qué pasa si intentamos modificar una entrada de una tupla?"
   ]
  },
  {
   "cell_type": "code",
   "execution_count": 17,
   "id": "c8e75fe6-4815-473c-9331-7c54d2708573",
   "metadata": {},
   "outputs": [
    {
     "ename": "TypeError",
     "evalue": "'tuple' object does not support item assignment",
     "output_type": "error",
     "traceback": [
      "\u001b[0;31m---------------------------------------------------------------------------\u001b[0m",
      "\u001b[0;31mTypeError\u001b[0m                                 Traceback (most recent call last)",
      "\u001b[0;32m/tmp/ipykernel_29738/1406467647.py\u001b[0m in \u001b[0;36m<module>\u001b[0;34m\u001b[0m\n\u001b[0;32m----> 1\u001b[0;31m \u001b[0mtemperatura\u001b[0m\u001b[0;34m[\u001b[0m\u001b[0;36m0\u001b[0m\u001b[0;34m]\u001b[0m\u001b[0;34m=\u001b[0m\u001b[0;34m'hola'\u001b[0m\u001b[0;34m\u001b[0m\u001b[0;34m\u001b[0m\u001b[0m\n\u001b[0m",
      "\u001b[0;31mTypeError\u001b[0m: 'tuple' object does not support item assignment"
     ]
    }
   ],
   "source": [
    "temperatura[0]='hola'"
   ]
  },
  {
   "cell_type": "markdown",
   "id": "175a0851-de71-42dc-ae9b-1484171ea489",
   "metadata": {},
   "source": [
    "Como lo comentamos antes, las tuplas son **inmutables**.\n",
    "\n",
    "Para agregar elementos a una tupla empleamos el operador `+=`, de la misma manera que lo hicimos con las listas. Para las tuplas no disponemos del método `append`."
   ]
  },
  {
   "cell_type": "code",
   "execution_count": 18,
   "id": "1d15e58d-ecc8-4a99-866c-3f5555f13b00",
   "metadata": {},
   "outputs": [
    {
     "data": {
      "text/plain": [
       "(23, 'a')"
      ]
     },
     "execution_count": 18,
     "metadata": {},
     "output_type": "execute_result"
    }
   ],
   "source": [
    "tupla1elemento += ('a',)\n",
    "tupla1elemento"
   ]
  },
  {
   "cell_type": "markdown",
   "id": "f6b693d8-377c-42d5-8a4c-6625fb5b084c",
   "metadata": {},
   "source": [
    "Como hemos recalcado las tuplas son inmutables, pero pueden contener elementos mutables, por ejemplo:"
   ]
  },
  {
   "cell_type": "code",
   "execution_count": 19,
   "id": "68229e3f-5ef3-463b-a1a3-4d1f2c702159",
   "metadata": {},
   "outputs": [
    {
     "data": {
      "text/plain": [
       "(23, 'a', [1, 2, 3, 4])"
      ]
     },
     "execution_count": 19,
     "metadata": {},
     "output_type": "execute_result"
    }
   ],
   "source": [
    "tupla1elemento += ([1,2,3,4],)\n",
    "tupla1elemento"
   ]
  },
  {
   "cell_type": "code",
   "execution_count": 20,
   "id": "b2718e57-d3dc-4457-a042-8df6287b1d1f",
   "metadata": {},
   "outputs": [
    {
     "ename": "TypeError",
     "evalue": "'tuple' object does not support item assignment",
     "output_type": "error",
     "traceback": [
      "\u001b[0;31m---------------------------------------------------------------------------\u001b[0m",
      "\u001b[0;31mTypeError\u001b[0m                                 Traceback (most recent call last)",
      "\u001b[0;32m<ipython-input-20-6fafb212dea0>\u001b[0m in \u001b[0;36m<module>\u001b[0;34m\u001b[0m\n\u001b[0;32m----> 1\u001b[0;31m \u001b[0mtupla1elemento\u001b[0m\u001b[0;34m[\u001b[0m\u001b[0;36m2\u001b[0m\u001b[0;34m]\u001b[0m\u001b[0;34m=\u001b[0m\u001b[0;36m1\u001b[0m\u001b[0;34m\u001b[0m\u001b[0;34m\u001b[0m\u001b[0m\n\u001b[0m\u001b[1;32m      2\u001b[0m \u001b[0;31m#genererá un error ya que no podemos modificar el elemento de la tupla\u001b[0m\u001b[0;34m\u001b[0m\u001b[0;34m\u001b[0m\u001b[0;34m\u001b[0m\u001b[0m\n",
      "\u001b[0;31mTypeError\u001b[0m: 'tuple' object does not support item assignment"
     ]
    }
   ],
   "source": [
    "tupla1elemento[2]=1\n",
    "#genererá un error ya que no podemos modificar el elemento de la tupla"
   ]
  },
  {
   "cell_type": "code",
   "execution_count": 21,
   "id": "b35b05b1-6472-4c64-933b-bf9d1bf1849e",
   "metadata": {},
   "outputs": [
    {
     "data": {
      "text/plain": [
       "(23, 'a', [1, 2, 3, 'cuatro'])"
      ]
     },
     "execution_count": 21,
     "metadata": {},
     "output_type": "execute_result"
    }
   ],
   "source": [
    "#Pero podemos modificar la lista que está dentro de la tupla\n",
    "tupla1elemento[2][3]='cuatro'\n",
    "tupla1elemento"
   ]
  },
  {
   "cell_type": "markdown",
   "id": "6d0ef2cc-05e9-4e1c-b1df-8dab1c69eb04",
   "metadata": {},
   "source": [
    "En este cuaderno, hemos estudiado las herramientas básicas sobre las listas y las tuplas, para así poder tener un mejor desempeño a la hora de elaborar nuestros programas."
   ]
  },
  {
   "cell_type": "markdown",
   "id": "173277a5",
   "metadata": {},
   "source": [
    "## Métodos de ordenamiento\n",
    "Una de las primeras tareas que se abordan cuando se trabaja con listas es la de **ordenar**, ya que para diversas labores es necesario que los elementos estén dispuestos de ésta manera. \n",
    "\n",
    "Para llevar a cabo ésta tarea existen diferentes formas de hacerlo, una forma conocida es mediante el **método burbuja**, el cual se basa en simples comparaciones e intercambios.\n",
    "\n",
    "```\n",
    "    Una lista de n valores se recorre n-1 veces, en las cuales se irán comparando los términos de izquierda a derecha con el siguiente, de tal manera que, si el i-ésimo término es mayor que el que se ubica en la posición i+1, éstos se intercambian de lo contrario se dejan tal cual. Las comparaciones se van reduciendo ya que en la parte derecha de la lista se van almacenando los términos mayores con el orden deseado.\n",
    "```\n",
    "\n",
    "Por ejemplo, en la lista que definimos anteriormente, al aplicar las comparaciones del método de la burbuja en la primera iteración, obtenemos lo siguiente:\n",
    "<img src=\"https://github.com/CiDExt/Programacion1/blob/master/images/burbuja.png?raw=true\">\n",
    "\n",
    "El nombre de éste método es debido a que las comparaciones se hacen en pequeñas burbujas de toda la lista.\n",
    "\n",
    "Una implementación de éste método se puede consultar en la siguiente función:"
   ]
  },
  {
   "cell_type": "code",
   "execution_count": 22,
   "id": "20b60687",
   "metadata": {},
   "outputs": [],
   "source": [
    "from time import time"
   ]
  },
  {
   "cell_type": "code",
   "execution_count": 23,
   "id": "ed4bcfca",
   "metadata": {},
   "outputs": [],
   "source": [
    "def burbuja(l):  \n",
    "    tiempo_inicial = time()\n",
    "    for i in range(1,len(l)-1):\n",
    "        for j in range(len(l)-i-1):\n",
    "            if l[j]>l[j+1]:\n",
    "                l[j],l[j+1] = l[j+1],l[j]\n",
    "    tiempo_transcurrido = time() - tiempo_inicial\n",
    "    print('El proceso tardó {0} segundos'.format(tiempo_transcurrido))\n",
    "    return l    "
   ]
  },
  {
   "cell_type": "markdown",
   "id": "c05007ba",
   "metadata": {},
   "source": [
    "En nuestro código hay dos líneas muy particulares `tiempo_inicial = time()` y `tiempo_transcurrido = time() - tiempo_inicial`, éstas permiten calcular el tiempo transcurrido en los cálculos para ordenar la lista. La función `time()` está disponible gracias a la importación de la libreria con el mismo nombre.\n",
    "\n",
    "Hagamos un ensayo con una lista corta:"
   ]
  },
  {
   "cell_type": "code",
   "execution_count": 24,
   "id": "809c9b2e",
   "metadata": {},
   "outputs": [
    {
     "name": "stdout",
     "output_type": "stream",
     "text": [
      "El proceso tardó 5.0067901611328125e-06 segundos\n"
     ]
    },
    {
     "data": {
      "text/plain": [
       "[1, 1, 3, 3, 5, 7, 16]"
      ]
     },
     "execution_count": 24,
     "metadata": {},
     "output_type": "execute_result"
    }
   ],
   "source": [
    "burbuja([5,7,3,1,1,3,16])"
   ]
  },
  {
   "cell_type": "markdown",
   "id": "e4e7aaea",
   "metadata": {},
   "source": [
    "Ahora ordenaremos una lista de $1000$ elementos aleatorios, para tal fin, lo primero que haremos es definirla:"
   ]
  },
  {
   "cell_type": "code",
   "execution_count": 25,
   "id": "d5042475",
   "metadata": {},
   "outputs": [],
   "source": [
    "import random\n",
    "random.seed(2022)\n",
    "aleatorios = [random.randint(0,1000) for i in range(1000)]"
   ]
  },
  {
   "cell_type": "code",
   "execution_count": 26,
   "id": "13604fe0",
   "metadata": {
    "collapsed": true,
    "jupyter": {
     "outputs_hidden": true
    },
    "tags": []
   },
   "outputs": [
    {
     "name": "stdout",
     "output_type": "stream",
     "text": [
      "El proceso tardó 0.045436859130859375 segundos\n"
     ]
    },
    {
     "data": {
      "text/plain": [
       "[0,\n",
       " 2,\n",
       " 3,\n",
       " 3,\n",
       " 8,\n",
       " 8,\n",
       " 9,\n",
       " 9,\n",
       " 10,\n",
       " 11,\n",
       " 12,\n",
       " 12,\n",
       " 13,\n",
       " 13,\n",
       " 14,\n",
       " 16,\n",
       " 17,\n",
       " 19,\n",
       " 20,\n",
       " 24,\n",
       " 26,\n",
       " 26,\n",
       " 27,\n",
       " 27,\n",
       " 28,\n",
       " 29,\n",
       " 29,\n",
       " 30,\n",
       " 30,\n",
       " 32,\n",
       " 32,\n",
       " 32,\n",
       " 35,\n",
       " 35,\n",
       " 38,\n",
       " 40,\n",
       " 40,\n",
       " 44,\n",
       " 44,\n",
       " 45,\n",
       " 49,\n",
       " 49,\n",
       " 49,\n",
       " 49,\n",
       " 50,\n",
       " 51,\n",
       " 52,\n",
       " 53,\n",
       " 53,\n",
       " 54,\n",
       " 54,\n",
       " 54,\n",
       " 56,\n",
       " 56,\n",
       " 57,\n",
       " 57,\n",
       " 58,\n",
       " 58,\n",
       " 60,\n",
       " 60,\n",
       " 61,\n",
       " 61,\n",
       " 61,\n",
       " 62,\n",
       " 62,\n",
       " 63,\n",
       " 63,\n",
       " 64,\n",
       " 64,\n",
       " 65,\n",
       " 67,\n",
       " 67,\n",
       " 67,\n",
       " 68,\n",
       " 70,\n",
       " 71,\n",
       " 73,\n",
       " 73,\n",
       " 74,\n",
       " 77,\n",
       " 78,\n",
       " 78,\n",
       " 79,\n",
       " 83,\n",
       " 84,\n",
       " 85,\n",
       " 85,\n",
       " 86,\n",
       " 89,\n",
       " 89,\n",
       " 90,\n",
       " 93,\n",
       " 95,\n",
       " 95,\n",
       " 95,\n",
       " 96,\n",
       " 97,\n",
       " 99,\n",
       " 99,\n",
       " 100,\n",
       " 101,\n",
       " 103,\n",
       " 103,\n",
       " 104,\n",
       " 105,\n",
       " 105,\n",
       " 106,\n",
       " 107,\n",
       " 108,\n",
       " 109,\n",
       " 109,\n",
       " 110,\n",
       " 110,\n",
       " 110,\n",
       " 112,\n",
       " 114,\n",
       " 115,\n",
       " 116,\n",
       " 117,\n",
       " 119,\n",
       " 122,\n",
       " 123,\n",
       " 123,\n",
       " 123,\n",
       " 124,\n",
       " 125,\n",
       " 127,\n",
       " 129,\n",
       " 129,\n",
       " 129,\n",
       " 130,\n",
       " 130,\n",
       " 134,\n",
       " 134,\n",
       " 135,\n",
       " 135,\n",
       " 136,\n",
       " 136,\n",
       " 136,\n",
       " 139,\n",
       " 142,\n",
       " 142,\n",
       " 143,\n",
       " 143,\n",
       " 143,\n",
       " 145,\n",
       " 147,\n",
       " 148,\n",
       " 148,\n",
       " 149,\n",
       " 149,\n",
       " 151,\n",
       " 152,\n",
       " 152,\n",
       " 152,\n",
       " 152,\n",
       " 152,\n",
       " 152,\n",
       " 154,\n",
       " 156,\n",
       " 156,\n",
       " 161,\n",
       " 163,\n",
       " 163,\n",
       " 163,\n",
       " 168,\n",
       " 169,\n",
       " 171,\n",
       " 171,\n",
       " 172,\n",
       " 172,\n",
       " 174,\n",
       " 176,\n",
       " 177,\n",
       " 178,\n",
       " 179,\n",
       " 179,\n",
       " 181,\n",
       " 184,\n",
       " 185,\n",
       " 185,\n",
       " 186,\n",
       " 187,\n",
       " 188,\n",
       " 188,\n",
       " 188,\n",
       " 190,\n",
       " 191,\n",
       " 191,\n",
       " 192,\n",
       " 196,\n",
       " 197,\n",
       " 197,\n",
       " 198,\n",
       " 199,\n",
       " 199,\n",
       " 200,\n",
       " 201,\n",
       " 202,\n",
       " 203,\n",
       " 205,\n",
       " 206,\n",
       " 206,\n",
       " 206,\n",
       " 208,\n",
       " 210,\n",
       " 211,\n",
       " 212,\n",
       " 212,\n",
       " 214,\n",
       " 215,\n",
       " 215,\n",
       " 215,\n",
       " 216,\n",
       " 217,\n",
       " 217,\n",
       " 218,\n",
       " 218,\n",
       " 219,\n",
       " 221,\n",
       " 222,\n",
       " 224,\n",
       " 225,\n",
       " 225,\n",
       " 227,\n",
       " 227,\n",
       " 228,\n",
       " 233,\n",
       " 234,\n",
       " 235,\n",
       " 236,\n",
       " 238,\n",
       " 239,\n",
       " 242,\n",
       " 245,\n",
       " 246,\n",
       " 246,\n",
       " 247,\n",
       " 252,\n",
       " 253,\n",
       " 257,\n",
       " 257,\n",
       " 257,\n",
       " 257,\n",
       " 262,\n",
       " 262,\n",
       " 264,\n",
       " 266,\n",
       " 267,\n",
       " 268,\n",
       " 268,\n",
       " 268,\n",
       " 269,\n",
       " 270,\n",
       " 270,\n",
       " 271,\n",
       " 271,\n",
       " 271,\n",
       " 272,\n",
       " 276,\n",
       " 276,\n",
       " 276,\n",
       " 276,\n",
       " 277,\n",
       " 278,\n",
       " 283,\n",
       " 284,\n",
       " 285,\n",
       " 285,\n",
       " 286,\n",
       " 286,\n",
       " 286,\n",
       " 288,\n",
       " 290,\n",
       " 291,\n",
       " 292,\n",
       " 293,\n",
       " 293,\n",
       " 293,\n",
       " 294,\n",
       " 294,\n",
       " 294,\n",
       " 294,\n",
       " 295,\n",
       " 295,\n",
       " 295,\n",
       " 296,\n",
       " 297,\n",
       " 298,\n",
       " 299,\n",
       " 301,\n",
       " 301,\n",
       " 302,\n",
       " 304,\n",
       " 305,\n",
       " 305,\n",
       " 306,\n",
       " 309,\n",
       " 311,\n",
       " 311,\n",
       " 311,\n",
       " 313,\n",
       " 313,\n",
       " 315,\n",
       " 315,\n",
       " 316,\n",
       " 316,\n",
       " 317,\n",
       " 317,\n",
       " 320,\n",
       " 322,\n",
       " 322,\n",
       " 323,\n",
       " 324,\n",
       " 325,\n",
       " 329,\n",
       " 330,\n",
       " 332,\n",
       " 333,\n",
       " 335,\n",
       " 336,\n",
       " 336,\n",
       " 336,\n",
       " 337,\n",
       " 337,\n",
       " 338,\n",
       " 339,\n",
       " 340,\n",
       " 341,\n",
       " 342,\n",
       " 342,\n",
       " 344,\n",
       " 344,\n",
       " 345,\n",
       " 346,\n",
       " 347,\n",
       " 347,\n",
       " 348,\n",
       " 348,\n",
       " 349,\n",
       " 349,\n",
       " 350,\n",
       " 350,\n",
       " 350,\n",
       " 355,\n",
       " 355,\n",
       " 355,\n",
       " 359,\n",
       " 361,\n",
       " 362,\n",
       " 364,\n",
       " 368,\n",
       " 371,\n",
       " 372,\n",
       " 374,\n",
       " 374,\n",
       " 374,\n",
       " 376,\n",
       " 376,\n",
       " 377,\n",
       " 379,\n",
       " 379,\n",
       " 380,\n",
       " 381,\n",
       " 383,\n",
       " 383,\n",
       " 386,\n",
       " 387,\n",
       " 388,\n",
       " 389,\n",
       " 392,\n",
       " 392,\n",
       " 394,\n",
       " 397,\n",
       " 397,\n",
       " 397,\n",
       " 397,\n",
       " 399,\n",
       " 399,\n",
       " 400,\n",
       " 402,\n",
       " 402,\n",
       " 402,\n",
       " 402,\n",
       " 403,\n",
       " 405,\n",
       " 405,\n",
       " 406,\n",
       " 408,\n",
       " 408,\n",
       " 409,\n",
       " 409,\n",
       " 409,\n",
       " 410,\n",
       " 410,\n",
       " 413,\n",
       " 414,\n",
       " 415,\n",
       " 416,\n",
       " 416,\n",
       " 417,\n",
       " 421,\n",
       " 422,\n",
       " 423,\n",
       " 423,\n",
       " 425,\n",
       " 425,\n",
       " 427,\n",
       " 430,\n",
       " 431,\n",
       " 431,\n",
       " 431,\n",
       " 431,\n",
       " 432,\n",
       " 433,\n",
       " 434,\n",
       " 435,\n",
       " 435,\n",
       " 436,\n",
       " 439,\n",
       " 439,\n",
       " 441,\n",
       " 441,\n",
       " 442,\n",
       " 442,\n",
       " 442,\n",
       " 443,\n",
       " 444,\n",
       " 444,\n",
       " 445,\n",
       " 445,\n",
       " 447,\n",
       " 447,\n",
       " 447,\n",
       " 448,\n",
       " 448,\n",
       " 448,\n",
       " 449,\n",
       " 451,\n",
       " 451,\n",
       " 452,\n",
       " 453,\n",
       " 453,\n",
       " 455,\n",
       " 456,\n",
       " 457,\n",
       " 458,\n",
       " 459,\n",
       " 462,\n",
       " 462,\n",
       " 462,\n",
       " 463,\n",
       " 463,\n",
       " 464,\n",
       " 465,\n",
       " 466,\n",
       " 467,\n",
       " 467,\n",
       " 467,\n",
       " 469,\n",
       " 472,\n",
       " 473,\n",
       " 475,\n",
       " 475,\n",
       " 476,\n",
       " 476,\n",
       " 476,\n",
       " 477,\n",
       " 477,\n",
       " 481,\n",
       " 481,\n",
       " 484,\n",
       " 485,\n",
       " 485,\n",
       " 485,\n",
       " 487,\n",
       " 487,\n",
       " 487,\n",
       " 488,\n",
       " 488,\n",
       " 490,\n",
       " 490,\n",
       " 491,\n",
       " 493,\n",
       " 494,\n",
       " 495,\n",
       " 495,\n",
       " 497,\n",
       " 497,\n",
       " 498,\n",
       " 500,\n",
       " 500,\n",
       " 501,\n",
       " 502,\n",
       " 503,\n",
       " 503,\n",
       " 504,\n",
       " 508,\n",
       " 509,\n",
       " 509,\n",
       " 509,\n",
       " 510,\n",
       " 510,\n",
       " 511,\n",
       " 511,\n",
       " 512,\n",
       " 516,\n",
       " 519,\n",
       " 520,\n",
       " 522,\n",
       " 523,\n",
       " 523,\n",
       " 523,\n",
       " 525,\n",
       " 526,\n",
       " 526,\n",
       " 528,\n",
       " 528,\n",
       " 528,\n",
       " 529,\n",
       " 530,\n",
       " 531,\n",
       " 532,\n",
       " 533,\n",
       " 533,\n",
       " 534,\n",
       " 535,\n",
       " 535,\n",
       " 538,\n",
       " 538,\n",
       " 541,\n",
       " 542,\n",
       " 542,\n",
       " 544,\n",
       " 544,\n",
       " 544,\n",
       " 544,\n",
       " 545,\n",
       " 545,\n",
       " 546,\n",
       " 546,\n",
       " 546,\n",
       " 551,\n",
       " 552,\n",
       " 552,\n",
       " 555,\n",
       " 556,\n",
       " 558,\n",
       " 560,\n",
       " 560,\n",
       " 560,\n",
       " 562,\n",
       " 562,\n",
       " 562,\n",
       " 563,\n",
       " 564,\n",
       " 565,\n",
       " 567,\n",
       " 567,\n",
       " 573,\n",
       " 573,\n",
       " 573,\n",
       " 575,\n",
       " 575,\n",
       " 577,\n",
       " 578,\n",
       " 579,\n",
       " 580,\n",
       " 580,\n",
       " 580,\n",
       " 582,\n",
       " 582,\n",
       " 582,\n",
       " 583,\n",
       " 584,\n",
       " 584,\n",
       " 585,\n",
       " 586,\n",
       " 587,\n",
       " 587,\n",
       " 589,\n",
       " 590,\n",
       " 593,\n",
       " 597,\n",
       " 599,\n",
       " 601,\n",
       " 603,\n",
       " 603,\n",
       " 603,\n",
       " 605,\n",
       " 605,\n",
       " 607,\n",
       " 608,\n",
       " 610,\n",
       " 611,\n",
       " 613,\n",
       " 613,\n",
       " 614,\n",
       " 615,\n",
       " 615,\n",
       " 617,\n",
       " 618,\n",
       " 619,\n",
       " 619,\n",
       " 620,\n",
       " 621,\n",
       " 622,\n",
       " 623,\n",
       " 623,\n",
       " 628,\n",
       " 630,\n",
       " 631,\n",
       " 633,\n",
       " 633,\n",
       " 635,\n",
       " 635,\n",
       " 637,\n",
       " 637,\n",
       " 638,\n",
       " 640,\n",
       " 641,\n",
       " 641,\n",
       " 644,\n",
       " 645,\n",
       " 645,\n",
       " 645,\n",
       " 645,\n",
       " 645,\n",
       " 645,\n",
       " 646,\n",
       " 646,\n",
       " 647,\n",
       " 648,\n",
       " 649,\n",
       " 650,\n",
       " 651,\n",
       " 654,\n",
       " 655,\n",
       " 657,\n",
       " 658,\n",
       " 659,\n",
       " 660,\n",
       " 661,\n",
       " 664,\n",
       " 667,\n",
       " 669,\n",
       " 670,\n",
       " 670,\n",
       " 672,\n",
       " 672,\n",
       " 675,\n",
       " 677,\n",
       " 679,\n",
       " 681,\n",
       " 682,\n",
       " 682,\n",
       " 683,\n",
       " 683,\n",
       " 684,\n",
       " 685,\n",
       " 685,\n",
       " 686,\n",
       " 686,\n",
       " 687,\n",
       " 688,\n",
       " 688,\n",
       " 689,\n",
       " 689,\n",
       " 690,\n",
       " 691,\n",
       " 691,\n",
       " 692,\n",
       " 693,\n",
       " 693,\n",
       " 694,\n",
       " 695,\n",
       " 695,\n",
       " 696,\n",
       " 696,\n",
       " 698,\n",
       " 699,\n",
       " 699,\n",
       " 699,\n",
       " 701,\n",
       " 701,\n",
       " 701,\n",
       " 702,\n",
       " 702,\n",
       " 703,\n",
       " 703,\n",
       " 703,\n",
       " 704,\n",
       " 704,\n",
       " 706,\n",
       " 708,\n",
       " 708,\n",
       " 708,\n",
       " 711,\n",
       " 712,\n",
       " 713,\n",
       " 714,\n",
       " 715,\n",
       " 716,\n",
       " 716,\n",
       " 717,\n",
       " 718,\n",
       " 719,\n",
       " 721,\n",
       " 722,\n",
       " 722,\n",
       " 723,\n",
       " 723,\n",
       " 724,\n",
       " 724,\n",
       " 726,\n",
       " 732,\n",
       " 734,\n",
       " 734,\n",
       " 734,\n",
       " 734,\n",
       " 738,\n",
       " 740,\n",
       " 740,\n",
       " 742,\n",
       " 742,\n",
       " 742,\n",
       " 742,\n",
       " 743,\n",
       " 743,\n",
       " 744,\n",
       " 744,\n",
       " 745,\n",
       " 745,\n",
       " 746,\n",
       " 747,\n",
       " 750,\n",
       " 751,\n",
       " 751,\n",
       " 751,\n",
       " 752,\n",
       " 753,\n",
       " 753,\n",
       " 755,\n",
       " 756,\n",
       " 758,\n",
       " 758,\n",
       " 758,\n",
       " 759,\n",
       " 759,\n",
       " 759,\n",
       " 760,\n",
       " 760,\n",
       " 761,\n",
       " 761,\n",
       " 762,\n",
       " 762,\n",
       " 763,\n",
       " 764,\n",
       " 767,\n",
       " 769,\n",
       " 770,\n",
       " 770,\n",
       " 771,\n",
       " 771,\n",
       " 772,\n",
       " 773,\n",
       " 775,\n",
       " 775,\n",
       " 775,\n",
       " 779,\n",
       " 779,\n",
       " 779,\n",
       " 780,\n",
       " 782,\n",
       " 782,\n",
       " 783,\n",
       " 785,\n",
       " 786,\n",
       " 786,\n",
       " 787,\n",
       " 787,\n",
       " 788,\n",
       " 788,\n",
       " 792,\n",
       " 792,\n",
       " 792,\n",
       " 793,\n",
       " 795,\n",
       " 796,\n",
       " 797,\n",
       " 798,\n",
       " 798,\n",
       " 799,\n",
       " 801,\n",
       " 801,\n",
       " 802,\n",
       " 805,\n",
       " 805,\n",
       " 806,\n",
       " 806,\n",
       " 812,\n",
       " 812,\n",
       " 815,\n",
       " 815,\n",
       " 816,\n",
       " 817,\n",
       " 817,\n",
       " 817,\n",
       " 822,\n",
       " 823,\n",
       " 824,\n",
       " 824,\n",
       " 824,\n",
       " 827,\n",
       " 827,\n",
       " 827,\n",
       " 830,\n",
       " 831,\n",
       " 831,\n",
       " 831,\n",
       " 832,\n",
       " 833,\n",
       " 833,\n",
       " 836,\n",
       " 837,\n",
       " 837,\n",
       " 837,\n",
       " 838,\n",
       " 840,\n",
       " 840,\n",
       " 840,\n",
       " 841,\n",
       " 843,\n",
       " 843,\n",
       " 844,\n",
       " 846,\n",
       " 847,\n",
       " 847,\n",
       " 848,\n",
       " 848,\n",
       " 848,\n",
       " 849,\n",
       " 849,\n",
       " 850,\n",
       " 851,\n",
       " 853,\n",
       " 854,\n",
       " 855,\n",
       " 855,\n",
       " 855,\n",
       " 857,\n",
       " 857,\n",
       " 858,\n",
       " 860,\n",
       " 861,\n",
       " 865,\n",
       " 865,\n",
       " 870,\n",
       " 871,\n",
       " 872,\n",
       " 872,\n",
       " 873,\n",
       " 873,\n",
       " 877,\n",
       " 877,\n",
       " 879,\n",
       " 879,\n",
       " 879,\n",
       " 881,\n",
       " 881,\n",
       " 881,\n",
       " 884,\n",
       " 888,\n",
       " 891,\n",
       " 891,\n",
       " 892,\n",
       " 893,\n",
       " 894,\n",
       " 894,\n",
       " 895,\n",
       " 896,\n",
       " 896,\n",
       " 897,\n",
       " 898,\n",
       " 899,\n",
       " 899,\n",
       " 900,\n",
       " 901,\n",
       " 903,\n",
       " 903,\n",
       " 903,\n",
       " 904,\n",
       " 904,\n",
       " 907,\n",
       " 907,\n",
       " 908,\n",
       " 910,\n",
       " 910,\n",
       " 910,\n",
       " 911,\n",
       " 913,\n",
       " 913,\n",
       " 913,\n",
       " 915,\n",
       " 915,\n",
       " 915,\n",
       " 918,\n",
       " 919,\n",
       " 920,\n",
       " 920,\n",
       " 921,\n",
       " 921,\n",
       " 923,\n",
       " 926,\n",
       " 927,\n",
       " 927,\n",
       " 929,\n",
       " 930,\n",
       " 931,\n",
       " 932,\n",
       " 932,\n",
       " 932,\n",
       " 933,\n",
       " 934,\n",
       " 934,\n",
       " 935,\n",
       " 935,\n",
       " 936,\n",
       " 937,\n",
       " 938,\n",
       " 938,\n",
       " 939,\n",
       " 940,\n",
       " 940,\n",
       " 942,\n",
       " 944,\n",
       " 945,\n",
       " 945,\n",
       " 946,\n",
       " 947,\n",
       " 949,\n",
       " 949,\n",
       " 950,\n",
       " 951,\n",
       " 951,\n",
       " 951,\n",
       " 952,\n",
       " 952,\n",
       " 953,\n",
       " 953,\n",
       " 954,\n",
       " 955,\n",
       " 956,\n",
       " 956,\n",
       " 957,\n",
       " 958,\n",
       " 959,\n",
       " 962,\n",
       " 962,\n",
       " 964,\n",
       " 965,\n",
       " 966,\n",
       " 966,\n",
       " 967,\n",
       " 968,\n",
       " 968,\n",
       " 968,\n",
       " 972,\n",
       " 973,\n",
       " 973,\n",
       " 973,\n",
       " 973,\n",
       " 974,\n",
       " 974,\n",
       " 975,\n",
       " 976,\n",
       " 976,\n",
       " 977,\n",
       " 980,\n",
       " 981,\n",
       " 982,\n",
       " 984,\n",
       " 984,\n",
       " 985,\n",
       " 986,\n",
       " 987,\n",
       " 988,\n",
       " 989,\n",
       " 990,\n",
       " 990,\n",
       " 991,\n",
       " 991,\n",
       " 992,\n",
       " 992,\n",
       " 994,\n",
       " 998,\n",
       " 998,\n",
       " 999,\n",
       " 1000,\n",
       " 314]"
      ]
     },
     "execution_count": 26,
     "metadata": {},
     "output_type": "execute_result"
    }
   ],
   "source": [
    "burbuja(aleatorios)"
   ]
  },
  {
   "cell_type": "markdown",
   "id": "f5cff0a2",
   "metadata": {},
   "source": [
    "Otra forma, quizá un poco más *artesanal*, se puede expresar de la siguiente manera:\n",
    "```\n",
    "Busque el menor elemento de toda la lista, almacene dicho valor como el primer elemento de otra lista y elimine el valor de la lista original. De la nueva lista busque el elemento menor, guardelo como el siguiente valor en la lista creada y elimine el valor de la lista original. Repita el proceso hasta que no queden elementos en la lista original.\n",
    "```\n",
    "Esta tarea la podemos ver programada en el siguiente bloque de código:"
   ]
  },
  {
   "cell_type": "code",
   "execution_count": 27,
   "id": "af5cfcd6",
   "metadata": {},
   "outputs": [],
   "source": [
    "def ordenamiento1(l):\n",
    "    tiempo_inicial = time()\n",
    "    m = []\n",
    "    for i in range(len(l)):\n",
    "        Min = l[0]\n",
    "        for j in l:\n",
    "            if j < Min:\n",
    "                Min = j\n",
    "        m.append(Min)\n",
    "        del l[l.index(Min)]\n",
    "    tiempo_transcurrido = time() - tiempo_inicial\n",
    "    print('El proceso tardó {0} segundos'.format(tiempo_transcurrido))\n",
    "    return m    "
   ]
  },
  {
   "cell_type": "markdown",
   "id": "a6f3805b",
   "metadata": {},
   "source": [
    "Probemos con la lista corta:"
   ]
  },
  {
   "cell_type": "code",
   "execution_count": 28,
   "id": "41d6e063",
   "metadata": {},
   "outputs": [
    {
     "name": "stdout",
     "output_type": "stream",
     "text": [
      "El proceso tardó 4.0531158447265625e-06 segundos\n"
     ]
    },
    {
     "data": {
      "text/plain": [
       "[1, 1, 3, 3, 5, 7, 16]"
      ]
     },
     "execution_count": 28,
     "metadata": {},
     "output_type": "execute_result"
    }
   ],
   "source": [
    "ordenamiento1([5,7,3,1,1,3,16])"
   ]
  },
  {
   "cell_type": "code",
   "execution_count": 29,
   "id": "ee1a91ce",
   "metadata": {},
   "outputs": [],
   "source": [
    "random.seed(2022)\n",
    "aleatorios = [random.randint(0,1000) for i in range(1000)]\n",
    "#aleatorios"
   ]
  },
  {
   "cell_type": "code",
   "execution_count": 30,
   "id": "85a14b2f",
   "metadata": {
    "collapsed": true,
    "jupyter": {
     "outputs_hidden": true
    },
    "tags": []
   },
   "outputs": [
    {
     "name": "stdout",
     "output_type": "stream",
     "text": [
      "El proceso tardó 0.01024007797241211 segundos\n"
     ]
    },
    {
     "data": {
      "text/plain": [
       "[0,\n",
       " 2,\n",
       " 3,\n",
       " 3,\n",
       " 8,\n",
       " 8,\n",
       " 9,\n",
       " 9,\n",
       " 10,\n",
       " 11,\n",
       " 12,\n",
       " 12,\n",
       " 13,\n",
       " 13,\n",
       " 14,\n",
       " 16,\n",
       " 17,\n",
       " 19,\n",
       " 20,\n",
       " 24,\n",
       " 26,\n",
       " 26,\n",
       " 27,\n",
       " 27,\n",
       " 28,\n",
       " 29,\n",
       " 29,\n",
       " 30,\n",
       " 30,\n",
       " 32,\n",
       " 32,\n",
       " 32,\n",
       " 35,\n",
       " 35,\n",
       " 38,\n",
       " 40,\n",
       " 40,\n",
       " 44,\n",
       " 44,\n",
       " 45,\n",
       " 49,\n",
       " 49,\n",
       " 49,\n",
       " 49,\n",
       " 50,\n",
       " 51,\n",
       " 52,\n",
       " 53,\n",
       " 53,\n",
       " 54,\n",
       " 54,\n",
       " 54,\n",
       " 56,\n",
       " 56,\n",
       " 57,\n",
       " 57,\n",
       " 58,\n",
       " 58,\n",
       " 60,\n",
       " 60,\n",
       " 61,\n",
       " 61,\n",
       " 61,\n",
       " 62,\n",
       " 62,\n",
       " 63,\n",
       " 63,\n",
       " 64,\n",
       " 64,\n",
       " 65,\n",
       " 67,\n",
       " 67,\n",
       " 67,\n",
       " 68,\n",
       " 70,\n",
       " 71,\n",
       " 73,\n",
       " 73,\n",
       " 74,\n",
       " 77,\n",
       " 78,\n",
       " 78,\n",
       " 79,\n",
       " 83,\n",
       " 84,\n",
       " 85,\n",
       " 85,\n",
       " 86,\n",
       " 89,\n",
       " 89,\n",
       " 90,\n",
       " 93,\n",
       " 95,\n",
       " 95,\n",
       " 95,\n",
       " 96,\n",
       " 97,\n",
       " 99,\n",
       " 99,\n",
       " 100,\n",
       " 101,\n",
       " 103,\n",
       " 103,\n",
       " 104,\n",
       " 105,\n",
       " 105,\n",
       " 106,\n",
       " 107,\n",
       " 108,\n",
       " 109,\n",
       " 109,\n",
       " 110,\n",
       " 110,\n",
       " 110,\n",
       " 112,\n",
       " 114,\n",
       " 115,\n",
       " 116,\n",
       " 117,\n",
       " 119,\n",
       " 122,\n",
       " 123,\n",
       " 123,\n",
       " 123,\n",
       " 124,\n",
       " 125,\n",
       " 127,\n",
       " 129,\n",
       " 129,\n",
       " 129,\n",
       " 130,\n",
       " 130,\n",
       " 134,\n",
       " 134,\n",
       " 135,\n",
       " 135,\n",
       " 136,\n",
       " 136,\n",
       " 136,\n",
       " 139,\n",
       " 142,\n",
       " 142,\n",
       " 143,\n",
       " 143,\n",
       " 143,\n",
       " 145,\n",
       " 147,\n",
       " 148,\n",
       " 148,\n",
       " 149,\n",
       " 149,\n",
       " 151,\n",
       " 152,\n",
       " 152,\n",
       " 152,\n",
       " 152,\n",
       " 152,\n",
       " 152,\n",
       " 154,\n",
       " 156,\n",
       " 156,\n",
       " 161,\n",
       " 163,\n",
       " 163,\n",
       " 163,\n",
       " 168,\n",
       " 169,\n",
       " 171,\n",
       " 171,\n",
       " 172,\n",
       " 172,\n",
       " 174,\n",
       " 176,\n",
       " 177,\n",
       " 178,\n",
       " 179,\n",
       " 179,\n",
       " 181,\n",
       " 184,\n",
       " 185,\n",
       " 185,\n",
       " 186,\n",
       " 187,\n",
       " 188,\n",
       " 188,\n",
       " 188,\n",
       " 190,\n",
       " 191,\n",
       " 191,\n",
       " 192,\n",
       " 196,\n",
       " 197,\n",
       " 197,\n",
       " 198,\n",
       " 199,\n",
       " 199,\n",
       " 200,\n",
       " 201,\n",
       " 202,\n",
       " 203,\n",
       " 205,\n",
       " 206,\n",
       " 206,\n",
       " 206,\n",
       " 208,\n",
       " 210,\n",
       " 211,\n",
       " 212,\n",
       " 212,\n",
       " 214,\n",
       " 215,\n",
       " 215,\n",
       " 215,\n",
       " 216,\n",
       " 217,\n",
       " 217,\n",
       " 218,\n",
       " 218,\n",
       " 219,\n",
       " 221,\n",
       " 222,\n",
       " 224,\n",
       " 225,\n",
       " 225,\n",
       " 227,\n",
       " 227,\n",
       " 228,\n",
       " 233,\n",
       " 234,\n",
       " 235,\n",
       " 236,\n",
       " 238,\n",
       " 239,\n",
       " 242,\n",
       " 245,\n",
       " 246,\n",
       " 246,\n",
       " 247,\n",
       " 252,\n",
       " 253,\n",
       " 257,\n",
       " 257,\n",
       " 257,\n",
       " 257,\n",
       " 262,\n",
       " 262,\n",
       " 264,\n",
       " 266,\n",
       " 267,\n",
       " 268,\n",
       " 268,\n",
       " 268,\n",
       " 269,\n",
       " 270,\n",
       " 270,\n",
       " 271,\n",
       " 271,\n",
       " 271,\n",
       " 272,\n",
       " 276,\n",
       " 276,\n",
       " 276,\n",
       " 276,\n",
       " 277,\n",
       " 278,\n",
       " 283,\n",
       " 284,\n",
       " 285,\n",
       " 285,\n",
       " 286,\n",
       " 286,\n",
       " 286,\n",
       " 288,\n",
       " 290,\n",
       " 291,\n",
       " 292,\n",
       " 293,\n",
       " 293,\n",
       " 293,\n",
       " 294,\n",
       " 294,\n",
       " 294,\n",
       " 294,\n",
       " 295,\n",
       " 295,\n",
       " 295,\n",
       " 296,\n",
       " 297,\n",
       " 298,\n",
       " 299,\n",
       " 301,\n",
       " 301,\n",
       " 302,\n",
       " 304,\n",
       " 305,\n",
       " 305,\n",
       " 306,\n",
       " 309,\n",
       " 311,\n",
       " 311,\n",
       " 311,\n",
       " 313,\n",
       " 313,\n",
       " 314,\n",
       " 315,\n",
       " 315,\n",
       " 316,\n",
       " 316,\n",
       " 317,\n",
       " 317,\n",
       " 320,\n",
       " 322,\n",
       " 322,\n",
       " 323,\n",
       " 324,\n",
       " 325,\n",
       " 329,\n",
       " 330,\n",
       " 332,\n",
       " 333,\n",
       " 335,\n",
       " 336,\n",
       " 336,\n",
       " 336,\n",
       " 337,\n",
       " 337,\n",
       " 338,\n",
       " 339,\n",
       " 340,\n",
       " 341,\n",
       " 342,\n",
       " 342,\n",
       " 344,\n",
       " 344,\n",
       " 345,\n",
       " 346,\n",
       " 347,\n",
       " 347,\n",
       " 348,\n",
       " 348,\n",
       " 349,\n",
       " 349,\n",
       " 350,\n",
       " 350,\n",
       " 350,\n",
       " 355,\n",
       " 355,\n",
       " 355,\n",
       " 359,\n",
       " 361,\n",
       " 362,\n",
       " 364,\n",
       " 368,\n",
       " 371,\n",
       " 372,\n",
       " 374,\n",
       " 374,\n",
       " 374,\n",
       " 376,\n",
       " 376,\n",
       " 377,\n",
       " 379,\n",
       " 379,\n",
       " 380,\n",
       " 381,\n",
       " 383,\n",
       " 383,\n",
       " 386,\n",
       " 387,\n",
       " 388,\n",
       " 389,\n",
       " 392,\n",
       " 392,\n",
       " 394,\n",
       " 397,\n",
       " 397,\n",
       " 397,\n",
       " 397,\n",
       " 399,\n",
       " 399,\n",
       " 400,\n",
       " 402,\n",
       " 402,\n",
       " 402,\n",
       " 402,\n",
       " 403,\n",
       " 405,\n",
       " 405,\n",
       " 406,\n",
       " 408,\n",
       " 408,\n",
       " 409,\n",
       " 409,\n",
       " 409,\n",
       " 410,\n",
       " 410,\n",
       " 413,\n",
       " 414,\n",
       " 415,\n",
       " 416,\n",
       " 416,\n",
       " 417,\n",
       " 421,\n",
       " 422,\n",
       " 423,\n",
       " 423,\n",
       " 425,\n",
       " 425,\n",
       " 427,\n",
       " 430,\n",
       " 431,\n",
       " 431,\n",
       " 431,\n",
       " 431,\n",
       " 432,\n",
       " 433,\n",
       " 434,\n",
       " 435,\n",
       " 435,\n",
       " 436,\n",
       " 439,\n",
       " 439,\n",
       " 441,\n",
       " 441,\n",
       " 442,\n",
       " 442,\n",
       " 442,\n",
       " 443,\n",
       " 444,\n",
       " 444,\n",
       " 445,\n",
       " 445,\n",
       " 447,\n",
       " 447,\n",
       " 447,\n",
       " 448,\n",
       " 448,\n",
       " 448,\n",
       " 449,\n",
       " 451,\n",
       " 451,\n",
       " 452,\n",
       " 453,\n",
       " 453,\n",
       " 455,\n",
       " 456,\n",
       " 457,\n",
       " 458,\n",
       " 459,\n",
       " 462,\n",
       " 462,\n",
       " 462,\n",
       " 463,\n",
       " 463,\n",
       " 464,\n",
       " 465,\n",
       " 466,\n",
       " 467,\n",
       " 467,\n",
       " 467,\n",
       " 469,\n",
       " 472,\n",
       " 473,\n",
       " 475,\n",
       " 475,\n",
       " 476,\n",
       " 476,\n",
       " 476,\n",
       " 477,\n",
       " 477,\n",
       " 481,\n",
       " 481,\n",
       " 484,\n",
       " 485,\n",
       " 485,\n",
       " 485,\n",
       " 487,\n",
       " 487,\n",
       " 487,\n",
       " 488,\n",
       " 488,\n",
       " 490,\n",
       " 490,\n",
       " 491,\n",
       " 493,\n",
       " 494,\n",
       " 495,\n",
       " 495,\n",
       " 497,\n",
       " 497,\n",
       " 498,\n",
       " 500,\n",
       " 500,\n",
       " 501,\n",
       " 502,\n",
       " 503,\n",
       " 503,\n",
       " 504,\n",
       " 508,\n",
       " 509,\n",
       " 509,\n",
       " 509,\n",
       " 510,\n",
       " 510,\n",
       " 511,\n",
       " 511,\n",
       " 512,\n",
       " 516,\n",
       " 519,\n",
       " 520,\n",
       " 522,\n",
       " 523,\n",
       " 523,\n",
       " 523,\n",
       " 525,\n",
       " 526,\n",
       " 526,\n",
       " 528,\n",
       " 528,\n",
       " 528,\n",
       " 529,\n",
       " 530,\n",
       " 531,\n",
       " 532,\n",
       " 533,\n",
       " 533,\n",
       " 534,\n",
       " 535,\n",
       " 535,\n",
       " 538,\n",
       " 538,\n",
       " 541,\n",
       " 542,\n",
       " 542,\n",
       " 544,\n",
       " 544,\n",
       " 544,\n",
       " 544,\n",
       " 545,\n",
       " 545,\n",
       " 546,\n",
       " 546,\n",
       " 546,\n",
       " 551,\n",
       " 552,\n",
       " 552,\n",
       " 555,\n",
       " 556,\n",
       " 558,\n",
       " 560,\n",
       " 560,\n",
       " 560,\n",
       " 562,\n",
       " 562,\n",
       " 562,\n",
       " 563,\n",
       " 564,\n",
       " 565,\n",
       " 567,\n",
       " 567,\n",
       " 573,\n",
       " 573,\n",
       " 573,\n",
       " 575,\n",
       " 575,\n",
       " 577,\n",
       " 578,\n",
       " 579,\n",
       " 580,\n",
       " 580,\n",
       " 580,\n",
       " 582,\n",
       " 582,\n",
       " 582,\n",
       " 583,\n",
       " 584,\n",
       " 584,\n",
       " 585,\n",
       " 586,\n",
       " 587,\n",
       " 587,\n",
       " 589,\n",
       " 590,\n",
       " 593,\n",
       " 597,\n",
       " 599,\n",
       " 601,\n",
       " 603,\n",
       " 603,\n",
       " 603,\n",
       " 605,\n",
       " 605,\n",
       " 607,\n",
       " 608,\n",
       " 610,\n",
       " 611,\n",
       " 613,\n",
       " 613,\n",
       " 614,\n",
       " 615,\n",
       " 615,\n",
       " 617,\n",
       " 618,\n",
       " 619,\n",
       " 619,\n",
       " 620,\n",
       " 621,\n",
       " 622,\n",
       " 623,\n",
       " 623,\n",
       " 628,\n",
       " 630,\n",
       " 631,\n",
       " 633,\n",
       " 633,\n",
       " 635,\n",
       " 635,\n",
       " 637,\n",
       " 637,\n",
       " 638,\n",
       " 640,\n",
       " 641,\n",
       " 641,\n",
       " 644,\n",
       " 645,\n",
       " 645,\n",
       " 645,\n",
       " 645,\n",
       " 645,\n",
       " 645,\n",
       " 646,\n",
       " 646,\n",
       " 647,\n",
       " 648,\n",
       " 649,\n",
       " 650,\n",
       " 651,\n",
       " 654,\n",
       " 655,\n",
       " 657,\n",
       " 658,\n",
       " 659,\n",
       " 660,\n",
       " 661,\n",
       " 664,\n",
       " 667,\n",
       " 669,\n",
       " 670,\n",
       " 670,\n",
       " 672,\n",
       " 672,\n",
       " 675,\n",
       " 677,\n",
       " 679,\n",
       " 681,\n",
       " 682,\n",
       " 682,\n",
       " 683,\n",
       " 683,\n",
       " 684,\n",
       " 685,\n",
       " 685,\n",
       " 686,\n",
       " 686,\n",
       " 687,\n",
       " 688,\n",
       " 688,\n",
       " 689,\n",
       " 689,\n",
       " 690,\n",
       " 691,\n",
       " 691,\n",
       " 692,\n",
       " 693,\n",
       " 693,\n",
       " 694,\n",
       " 695,\n",
       " 695,\n",
       " 696,\n",
       " 696,\n",
       " 698,\n",
       " 699,\n",
       " 699,\n",
       " 699,\n",
       " 701,\n",
       " 701,\n",
       " 701,\n",
       " 702,\n",
       " 702,\n",
       " 703,\n",
       " 703,\n",
       " 703,\n",
       " 704,\n",
       " 704,\n",
       " 706,\n",
       " 708,\n",
       " 708,\n",
       " 708,\n",
       " 711,\n",
       " 712,\n",
       " 713,\n",
       " 714,\n",
       " 715,\n",
       " 716,\n",
       " 716,\n",
       " 717,\n",
       " 718,\n",
       " 719,\n",
       " 721,\n",
       " 722,\n",
       " 722,\n",
       " 723,\n",
       " 723,\n",
       " 724,\n",
       " 724,\n",
       " 726,\n",
       " 732,\n",
       " 734,\n",
       " 734,\n",
       " 734,\n",
       " 734,\n",
       " 738,\n",
       " 740,\n",
       " 740,\n",
       " 742,\n",
       " 742,\n",
       " 742,\n",
       " 742,\n",
       " 743,\n",
       " 743,\n",
       " 744,\n",
       " 744,\n",
       " 745,\n",
       " 745,\n",
       " 746,\n",
       " 747,\n",
       " 750,\n",
       " 751,\n",
       " 751,\n",
       " 751,\n",
       " 752,\n",
       " 753,\n",
       " 753,\n",
       " 755,\n",
       " 756,\n",
       " 758,\n",
       " 758,\n",
       " 758,\n",
       " 759,\n",
       " 759,\n",
       " 759,\n",
       " 760,\n",
       " 760,\n",
       " 761,\n",
       " 761,\n",
       " 762,\n",
       " 762,\n",
       " 763,\n",
       " 764,\n",
       " 767,\n",
       " 769,\n",
       " 770,\n",
       " 770,\n",
       " 771,\n",
       " 771,\n",
       " 772,\n",
       " 773,\n",
       " 775,\n",
       " 775,\n",
       " 775,\n",
       " 779,\n",
       " 779,\n",
       " 779,\n",
       " 780,\n",
       " 782,\n",
       " 782,\n",
       " 783,\n",
       " 785,\n",
       " 786,\n",
       " 786,\n",
       " 787,\n",
       " 787,\n",
       " 788,\n",
       " 788,\n",
       " 792,\n",
       " 792,\n",
       " 792,\n",
       " 793,\n",
       " 795,\n",
       " 796,\n",
       " 797,\n",
       " 798,\n",
       " 798,\n",
       " 799,\n",
       " 801,\n",
       " 801,\n",
       " 802,\n",
       " 805,\n",
       " 805,\n",
       " 806,\n",
       " 806,\n",
       " 812,\n",
       " 812,\n",
       " 815,\n",
       " 815,\n",
       " 816,\n",
       " 817,\n",
       " 817,\n",
       " 817,\n",
       " 822,\n",
       " 823,\n",
       " 824,\n",
       " 824,\n",
       " 824,\n",
       " 827,\n",
       " 827,\n",
       " 827,\n",
       " 830,\n",
       " 831,\n",
       " 831,\n",
       " 831,\n",
       " 832,\n",
       " 833,\n",
       " 833,\n",
       " 836,\n",
       " 837,\n",
       " 837,\n",
       " 837,\n",
       " 838,\n",
       " 840,\n",
       " 840,\n",
       " 840,\n",
       " 841,\n",
       " 843,\n",
       " 843,\n",
       " 844,\n",
       " 846,\n",
       " 847,\n",
       " 847,\n",
       " 848,\n",
       " 848,\n",
       " 848,\n",
       " 849,\n",
       " 849,\n",
       " 850,\n",
       " 851,\n",
       " 853,\n",
       " 854,\n",
       " 855,\n",
       " 855,\n",
       " 855,\n",
       " 857,\n",
       " 857,\n",
       " 858,\n",
       " 860,\n",
       " 861,\n",
       " 865,\n",
       " 865,\n",
       " 870,\n",
       " 871,\n",
       " 872,\n",
       " 872,\n",
       " 873,\n",
       " 873,\n",
       " 877,\n",
       " 877,\n",
       " 879,\n",
       " 879,\n",
       " 879,\n",
       " 881,\n",
       " 881,\n",
       " 881,\n",
       " 884,\n",
       " 888,\n",
       " 891,\n",
       " 891,\n",
       " 892,\n",
       " 893,\n",
       " 894,\n",
       " 894,\n",
       " 895,\n",
       " 896,\n",
       " 896,\n",
       " 897,\n",
       " 898,\n",
       " 899,\n",
       " 899,\n",
       " 900,\n",
       " 901,\n",
       " 903,\n",
       " 903,\n",
       " 903,\n",
       " 904,\n",
       " 904,\n",
       " 907,\n",
       " 907,\n",
       " 908,\n",
       " 910,\n",
       " 910,\n",
       " 910,\n",
       " 911,\n",
       " 913,\n",
       " 913,\n",
       " 913,\n",
       " 915,\n",
       " 915,\n",
       " 915,\n",
       " 918,\n",
       " 919,\n",
       " 920,\n",
       " 920,\n",
       " 921,\n",
       " 921,\n",
       " 923,\n",
       " 926,\n",
       " 927,\n",
       " 927,\n",
       " 929,\n",
       " 930,\n",
       " 931,\n",
       " 932,\n",
       " 932,\n",
       " 932,\n",
       " 933,\n",
       " 934,\n",
       " 934,\n",
       " 935,\n",
       " 935,\n",
       " 936,\n",
       " 937,\n",
       " 938,\n",
       " 938,\n",
       " 939,\n",
       " 940,\n",
       " 940,\n",
       " 942,\n",
       " 944,\n",
       " 945,\n",
       " 945,\n",
       " 946,\n",
       " 947,\n",
       " 949,\n",
       " 949,\n",
       " 950,\n",
       " 951,\n",
       " 951,\n",
       " 951,\n",
       " 952,\n",
       " 952,\n",
       " 953,\n",
       " 953,\n",
       " 954,\n",
       " 955,\n",
       " 956,\n",
       " 956,\n",
       " 957,\n",
       " 958,\n",
       " 959,\n",
       " 962,\n",
       " 962,\n",
       " 964,\n",
       " 965,\n",
       " 966,\n",
       " 966,\n",
       " 967,\n",
       " 968,\n",
       " 968,\n",
       " 968,\n",
       " 972,\n",
       " 973,\n",
       " 973,\n",
       " 973,\n",
       " 973,\n",
       " 974,\n",
       " 974,\n",
       " 975,\n",
       " 976,\n",
       " 976,\n",
       " 977,\n",
       " 980,\n",
       " 981,\n",
       " 982,\n",
       " 984,\n",
       " 984,\n",
       " 985,\n",
       " 986,\n",
       " 987,\n",
       " 988,\n",
       " 989,\n",
       " 990,\n",
       " 990,\n",
       " 991,\n",
       " 991,\n",
       " 992,\n",
       " 992,\n",
       " 994,\n",
       " 998,\n",
       " 998,\n",
       " 999,\n",
       " 1000]"
      ]
     },
     "execution_count": 30,
     "metadata": {},
     "output_type": "execute_result"
    }
   ],
   "source": [
    "ordenamiento1(aleatorios)"
   ]
  },
  {
   "cell_type": "markdown",
   "id": "9eaf3736",
   "metadata": {},
   "source": [
    "En Python existe una manera natural de hacerlo y es con la función `sorted` o con el método `lista.sort()`, en los cuales subyace el **método Timsort**, los cuales son supremamente eficientes:"
   ]
  },
  {
   "cell_type": "code",
   "execution_count": 31,
   "id": "94f1e407",
   "metadata": {},
   "outputs": [
    {
     "data": {
      "text/plain": [
       "[1, 1, 3, 3, 5, 7, 16]"
      ]
     },
     "execution_count": 31,
     "metadata": {},
     "output_type": "execute_result"
    }
   ],
   "source": [
    "l = [5,7,3,1,1,3,16]\n",
    "sorted(l)"
   ]
  },
  {
   "cell_type": "code",
   "execution_count": 32,
   "id": "bc13e8a5",
   "metadata": {},
   "outputs": [
    {
     "data": {
      "text/plain": [
       "[1, 1, 3, 3, 5, 7, 16]"
      ]
     },
     "execution_count": 32,
     "metadata": {},
     "output_type": "execute_result"
    }
   ],
   "source": [
    "l = [5,7,3,1,1,3,16]\n",
    "l.sort()\n",
    "l"
   ]
  },
  {
   "cell_type": "markdown",
   "id": "ad4c4801",
   "metadata": {},
   "source": [
    "Estas funciones tienen argumentos que pueden ser de gran ayuda para nosotros, por ejemplo, ordenar de mayor a menor la lista, requeriría definir una función nueva para nosotros, pero con éstas predefinidas basta con escribir lo siguiente:"
   ]
  },
  {
   "cell_type": "code",
   "execution_count": 33,
   "id": "57407a53",
   "metadata": {},
   "outputs": [
    {
     "data": {
      "text/plain": [
       "[16, 7, 5, 3, 3, 1, 1]"
      ]
     },
     "execution_count": 33,
     "metadata": {},
     "output_type": "execute_result"
    }
   ],
   "source": [
    "l = [5,7,3,1,1,3,16]\n",
    "l.sort(reverse=True)\n",
    "l"
   ]
  },
  {
   "cell_type": "markdown",
   "id": "f3b766a2",
   "metadata": {},
   "source": [
    "### Ejercicio:\n",
    "1. Como hemos visto hay diferentes métodos para ordenar listas, unos más eficientes que otros. Busque un método diferente a los expuestos en el cuaderno, haga una un resumen en palabras del método y escriba una función que permita hacer esta tarea.\n",
    "2. Cree una lista de 400 valores, en los cuales estén almacenadas las ventas de la última semana de un almacén, aplique los métodos vistos en clase y el que usted construyó y determine cual es más eficiente sobre dicha lista."
   ]
  },
  {
   "cell_type": "markdown",
   "id": "b490a058",
   "metadata": {},
   "source": [
    "## Filtros\n",
    "En muchas ocasiones nos será necesario elegir algunos valores de una lista que cumplan con un cierto criterio, por ejemplo de la lista `[10,20,50,70,90,60,40,30,40,8,95,74,69,45]`, extraigamos los valores que son mayores o iguales a 50:"
   ]
  },
  {
   "cell_type": "code",
   "execution_count": 34,
   "id": "e11d2bae",
   "metadata": {},
   "outputs": [
    {
     "data": {
      "text/plain": [
       "[50, 70, 90, 60, 95, 74, 69]"
      ]
     },
     "execution_count": 34,
     "metadata": {},
     "output_type": "execute_result"
    }
   ],
   "source": [
    "lista = [10,20,50,70,90,60,40,30,40,8,95,74,69,45]\n",
    "lista_filtrada = []\n",
    "for i in lista:\n",
    "    if i >= 50:\n",
    "        lista_filtrada.append(i)\n",
    "lista_filtrada        "
   ]
  },
  {
   "cell_type": "code",
   "execution_count": 35,
   "id": "2e8459fa",
   "metadata": {},
   "outputs": [],
   "source": [
    "lfiltrada = filter(lambda i:i>= 50,lista)"
   ]
  },
  {
   "cell_type": "markdown",
   "id": "d25426df",
   "metadata": {},
   "source": [
    "Si observamos el resultado de un filtro, éste un objeto tipo `filter`, para poder ver su contenido empleamos el comando `list`, así:"
   ]
  },
  {
   "cell_type": "code",
   "execution_count": 36,
   "id": "2c5e1471",
   "metadata": {},
   "outputs": [
    {
     "data": {
      "text/plain": [
       "[50, 70, 90, 60, 95, 74, 69]"
      ]
     },
     "execution_count": 36,
     "metadata": {},
     "output_type": "execute_result"
    }
   ],
   "source": [
    "list(lfiltrada)"
   ]
  },
  {
   "cell_type": "markdown",
   "id": "f2aed139",
   "metadata": {},
   "source": [
    "Si se llega a dar el caso que el filtro viene dado como el resultado de una función, primero debemos definir dicha función y luego aplicamos el filto, así:"
   ]
  },
  {
   "cell_type": "code",
   "execution_count": 37,
   "id": "5240c90b",
   "metadata": {},
   "outputs": [],
   "source": [
    "random.seed(2022)\n",
    "lista = [random.randint(0,250) for i in range(100)]"
   ]
  },
  {
   "cell_type": "code",
   "execution_count": 38,
   "id": "2e445839",
   "metadata": {},
   "outputs": [],
   "source": [
    "def par(x):\n",
    "    return x%2==0"
   ]
  },
  {
   "cell_type": "code",
   "execution_count": 39,
   "id": "9e15d7a3",
   "metadata": {},
   "outputs": [
    {
     "data": {
      "text/plain": [
       "42"
      ]
     },
     "execution_count": 39,
     "metadata": {},
     "output_type": "execute_result"
    }
   ],
   "source": [
    "len(list(filter(par,lista)))"
   ]
  },
  {
   "cell_type": "markdown",
   "id": "9004929a",
   "metadata": {},
   "source": [
    "La escritura de un filtro, es en gerenal, la siguiente:\n",
    "```python\n",
    "filter(función,lista)\n",
    "```\n",
    "### Ejercicios\n",
    "1. Use la lista de las 400 ventas de la semana anterior creada anteriormente. Calcule el promedio de dicha lista y aplique un filtro sobre ella para conocer la cantidad de ventas que están por encima de dicho valor y las que están por debajo de él. Guarda estas listas como *ventassobreprom* y *ventasbajoprom*, respectivamente.\n",
    "2. Cree una función que filtre las vocales y aplique el filtro sobre la siguiente cadena: \n",
    "```\n",
    "En un lugar de la Mancha, de cuyo nombre no quiero acordarme, no ha mucho tiempo que vivía un hidalgo de los de lanza en astillero, adarga antigua, rocín flaco y galgo corredor. Una olla de algo más vaca que carnero, salpicón las más noches, duelos y quebrantos los sábados, lantejas los viernes, algún palomino de añadidura los domingos, consumían las tres partes de su hacienda. El resto della concluían sayo de velarte, calzas de velludo para las fiestas, con sus pantuflos de lo mesmo, y los días de entresemana se honraba con su vellorí de lo más fino. Tenía en su casa una ama que pasaba de los cuarenta y una sobrina que no llegaba a los veinte, y un mozo de campo y plaza que así ensillaba el rocín como tomaba la podadera. Frisaba la edad de nuestro hidalgo con los cincuenta años. Era de complexión recia, seco de carnes, enjuto de rostro, gran madrugador y amigo de la caza. Quieren decir que tenía el sobrenombre de «Quijada», o «Quesada», que en esto hay alguna diferencia en los autores que deste caso escriben, aunque por conjeturas verisímilesII se deja entender que se llamaba «Quijana»III, . Pero esto importa poco a nuestro cuento: basta que en la narración dél no se salga un punto de la verdad.\n",
    "                                                                Don quijote de la mancha - Miguel de Cervantes Saavedra\n",
    "```\n",
    "## Mapear\n",
    "En otras oportunidades necesitaremos aplicar una función sobre todos los elementos de la lista, es allí cuando aplicamos la función `map`. El resultado de ésta función  es un objeto tipo `map` y el cual se puede volver una lista de la misma manera como hicimos con los filtros, por ejemplo"
   ]
  },
  {
   "cell_type": "code",
   "execution_count": 40,
   "id": "c08da422",
   "metadata": {},
   "outputs": [],
   "source": [
    "def f1(x):\n",
    "    return x**2+1"
   ]
  },
  {
   "cell_type": "code",
   "execution_count": 41,
   "id": "c99493c7",
   "metadata": {},
   "outputs": [
    {
     "data": {
      "text/plain": [
       "[2, 5, 10, 17, 26]"
      ]
     },
     "execution_count": 41,
     "metadata": {},
     "output_type": "execute_result"
    }
   ],
   "source": [
    "list(map(f1,[1,2,3,4,5]))"
   ]
  },
  {
   "cell_type": "markdown",
   "id": "3a5f1108",
   "metadata": {},
   "source": [
    "La diferencia entre `map`y `filter`, es que en `map` aplicamos una función sobre cada elemento de la lista y en `filter` buscamos un criterio de selección booleano.\n",
    "\n",
    "Los mapeos se pueden aplicar sobre cadenas de caracteres, por ejemplo:"
   ]
  },
  {
   "cell_type": "code",
   "execution_count": 42,
   "id": "2ec7560a",
   "metadata": {},
   "outputs": [],
   "source": [
    "cadena = list('Hoy es un gran día para aprender más herramientas de programación')"
   ]
  },
  {
   "cell_type": "code",
   "execution_count": 43,
   "id": "a1296ed1",
   "metadata": {
    "tags": []
   },
   "outputs": [
    {
     "data": {
      "text/plain": [
       "['H',\n",
       " 'O',\n",
       " 'Y',\n",
       " ' ',\n",
       " 'E',\n",
       " 'S',\n",
       " ' ',\n",
       " 'U',\n",
       " 'N',\n",
       " ' ',\n",
       " 'G',\n",
       " 'R',\n",
       " 'A',\n",
       " 'N',\n",
       " ' ',\n",
       " 'D',\n",
       " 'Í',\n",
       " 'A',\n",
       " ' ',\n",
       " 'P',\n",
       " 'A',\n",
       " 'R',\n",
       " 'A',\n",
       " ' ',\n",
       " 'A',\n",
       " 'P',\n",
       " 'R',\n",
       " 'E',\n",
       " 'N',\n",
       " 'D',\n",
       " 'E',\n",
       " 'R',\n",
       " ' ',\n",
       " 'M',\n",
       " 'Á',\n",
       " 'S',\n",
       " ' ',\n",
       " 'H',\n",
       " 'E',\n",
       " 'R',\n",
       " 'R',\n",
       " 'A',\n",
       " 'M',\n",
       " 'I',\n",
       " 'E',\n",
       " 'N',\n",
       " 'T',\n",
       " 'A',\n",
       " 'S',\n",
       " ' ',\n",
       " 'D',\n",
       " 'E',\n",
       " ' ',\n",
       " 'P',\n",
       " 'R',\n",
       " 'O',\n",
       " 'G',\n",
       " 'R',\n",
       " 'A',\n",
       " 'M',\n",
       " 'A',\n",
       " 'C',\n",
       " 'I',\n",
       " 'Ó',\n",
       " 'N']"
      ]
     },
     "execution_count": 43,
     "metadata": {},
     "output_type": "execute_result"
    }
   ],
   "source": [
    "list(map(lambda x:x.upper(),cadena))"
   ]
  },
  {
   "cell_type": "markdown",
   "id": "762fda1c",
   "metadata": {},
   "source": [
    "También podemos aplicar los mapeos sobre varias listas, siempre que la función lo permita:"
   ]
  },
  {
   "cell_type": "code",
   "execution_count": 44,
   "id": "330fa439",
   "metadata": {},
   "outputs": [
    {
     "name": "stdout",
     "output_type": "stream",
     "text": [
      "[5, 7, 9]\n"
     ]
    }
   ],
   "source": [
    "nume1 = [1, 2, 3]\n",
    "nume2 = [4, 5, 6]\n",
    "  \n",
    "result = map(lambda x, y: x + y, nume1, nume2)\n",
    "print(list(result))"
   ]
  },
  {
   "cell_type": "markdown",
   "id": "0db9a57b",
   "metadata": {},
   "source": [
    "### Ejercicio\n",
    "1. Aplica un mapeo sobre las listas ventassobreprom y ventasbajoprom, para obtener los valores de las ventas sin IVA, suponiendo que todos los productos consumidos están gravados con éste impuesto. A estas listas sería convieniente nombrarlas *ventassobreprom_iva* y *ventasbajoprom_iva*."
   ]
  },
  {
   "cell_type": "markdown",
   "id": "c629180c",
   "metadata": {},
   "source": [
    "## Reducir\n",
    "La función `reduce` del paquete `functools`, es una útil herramienta cuando deseamos aplicar una función sobre una lista y sus resultados de manera sucesiva. Por ejemplo, para calcular la suma de los elementos de una lista sabemos que existe la función `sum`, pero de manera alternativa podemos ejecutar el siguiente código:"
   ]
  },
  {
   "cell_type": "code",
   "execution_count": 45,
   "id": "f72bd7ca",
   "metadata": {},
   "outputs": [],
   "source": [
    "from functools import reduce"
   ]
  },
  {
   "cell_type": "code",
   "execution_count": 46,
   "id": "3c31a3e6",
   "metadata": {},
   "outputs": [
    {
     "data": {
      "text/plain": [
       "15"
      ]
     },
     "execution_count": 46,
     "metadata": {},
     "output_type": "execute_result"
    }
   ],
   "source": [
    "reduce(lambda x,y:x+y,[1,2,3,4,5])"
   ]
  },
  {
   "cell_type": "code",
   "execution_count": 47,
   "id": "e1199c58",
   "metadata": {},
   "outputs": [],
   "source": [
    "def fun(x,y):\n",
    "    return x+y"
   ]
  },
  {
   "cell_type": "code",
   "execution_count": 48,
   "id": "e9a51dc8",
   "metadata": {},
   "outputs": [
    {
     "data": {
      "text/plain": [
       "15"
      ]
     },
     "execution_count": 48,
     "metadata": {},
     "output_type": "execute_result"
    }
   ],
   "source": [
    "reduce(fun,[1,2,3,4,5])"
   ]
  },
  {
   "cell_type": "markdown",
   "id": "67a5820d",
   "metadata": {},
   "source": [
    "Notemos que la función `reduce` se aplica de izquierda a derecha, y la función que se aplica sobre la lista debe tener dos argumentos y su resultado es la acumulación de los resultados obtenidos de dicha función sobre la lista.\n",
    "\n",
    "El siguiente diagrama ayuda a entender de mejor manera su funcionamiento:\n",
    "\n",
    "<img src=\"https://github.com/CiDExt/Programacion1/blob/master/images/reduce.png?raw=true\" style=\"width:70%;\">\n",
    "\n",
    "`reduce` tiene un argumento adicional, el cual es opcional, dicho argumento es el valor inicial, por ejemplo, el siguiente resultado inicia en $10$ y a eso le suma $1$, al resultado luego le suma $2$ y así hasta agotar la lista:\n"
   ]
  },
  {
   "cell_type": "code",
   "execution_count": 49,
   "id": "611eb964",
   "metadata": {},
   "outputs": [
    {
     "data": {
      "text/plain": [
       "25"
      ]
     },
     "execution_count": 49,
     "metadata": {},
     "output_type": "execute_result"
    }
   ],
   "source": [
    "reduce(fun,[1,2,3,4,5],10)"
   ]
  },
  {
   "cell_type": "markdown",
   "id": "41294372",
   "metadata": {},
   "source": [
    "En general las reducciones se escriben de la siguiente manera:\n",
    "```python\n",
    "from functools import reduce\n",
    "reduce(función,lista,valor_inicial(opcional))\n",
    "```"
   ]
  },
  {
   "cell_type": "markdown",
   "id": "e6b1fd32",
   "metadata": {},
   "source": [
    "### Ejercicios:\n",
    "1. Halle el mínimo de las listas *ventassobreprom_iva* y *ventasbajoprom_iva*, empleando `reduce` y una función lambda.\n",
    "2. Halle el máximo de las listas *ventassobreprom_iva* y *ventasbajoprom_iva*, empleando `reduce` y una función lambda.\n",
    "3. Cree una función de dos argumentos ($1$ o $0$) que verifique la tabla de verdad del operador lógico **Y**. Utilice un `reduce` sobre diferentes listas de unos y ceros. ¿Qué puede concluir?\n",
    "4. Cree una función de dos argumentos ($1$ o $0$) que verifique la tabla de verdad del operador lógico **O**. Utilice un `reduce` sobre diferentes listas de unos y ceros. ¿Qué puede concluir?\n",
    "\n",
    "Estas herramientas que hemos adquirido durante el cuaderno, serán de gran utilidad en cursos futuros, en especial cuando se aborden las bases de datos. Por ello es fundamental que se reconozcan las diferencias entre los filtros, mapeos y reducciones:\n",
    "\n",
    "| Función   |      Descripción      |  Argumentos |\n",
    "|:----------:|:-------------:|:------:|\n",
    "| filtro |  verifica si se cumple una y extrae una sublista de la lista dada | función, lista |\n",
    "| mapeo |    Aplica una función a cada elemento de una lista dada   |   función, lista |\n",
    "| reducción | Aplica una función sobre una lista de manera reiterada, hasta reducirla a un único valor |   función, lista, valor inicial(opcional) |\n",
    "\n",
    "\n",
    "____\n",
    "**Observación:** Los filtros, mapeos y reducciones que vimos específicamente para listas, se pueden aplicar también sobre cualquier objeto iterable, es decir, *listas*, *tuplas*, *diccionarios* y *conjuntos*.\n",
    "____"
   ]
  },
  {
   "cell_type": "markdown",
   "id": "e809d9ac",
   "metadata": {},
   "source": [
    "## Listas n-dimensionales\n",
    "\n",
    "Para darnos una idea, iniciaremos tratando lo que son listas bidimensionales.\n",
    "\n",
    "Consideremos las siguientes listas:"
   ]
  },
  {
   "cell_type": "code",
   "execution_count": 50,
   "id": "1895fadc",
   "metadata": {},
   "outputs": [],
   "source": [
    "l1 = [0,1,2,3]\n",
    "l2 = [10,11,12,13]\n",
    "l3 = [20,21,22,23]"
   ]
  },
  {
   "cell_type": "markdown",
   "id": "c5c96370",
   "metadata": {},
   "source": [
    "Partiendo de ellas, podemos obtener la siguiente lista:"
   ]
  },
  {
   "cell_type": "code",
   "execution_count": 51,
   "id": "cabd4d79",
   "metadata": {},
   "outputs": [
    {
     "data": {
      "text/plain": [
       "[[0, 1, 2, 3], [10, 11, 12, 13], [20, 21, 22, 23]]"
      ]
     },
     "execution_count": 51,
     "metadata": {},
     "output_type": "execute_result"
    }
   ],
   "source": [
    "L = [l1,l2,l3]\n",
    "L"
   ]
  },
  {
   "cell_type": "markdown",
   "id": "4a06f024",
   "metadata": {},
   "source": [
    "`L` es una lista, y sus elementos son listas, es decir, es una lista de listas. Para acceder a un elemento en particular necesitamos tener dos índices, uno para acceder a la lista `L` y otro para la lista en la cual nos ubiquemos (`l1`, `l2`, `l3`). Por ejemplo, para acceder a la primera lista y a su primer elemento escribimos así:"
   ]
  },
  {
   "cell_type": "code",
   "execution_count": 52,
   "id": "42acbfa9",
   "metadata": {},
   "outputs": [
    {
     "data": {
      "text/plain": [
       "0"
      ]
     },
     "execution_count": 52,
     "metadata": {},
     "output_type": "execute_result"
    }
   ],
   "source": [
    "L[0][0]"
   ]
  },
  {
   "cell_type": "markdown",
   "id": "31a27d7b",
   "metadata": {},
   "source": [
    "Para entender un poco mejor la distribución de las listas de listas, podemos visualizarlas como una *matriz*, en la que, las filas van indicadas por el primer índice y las columnas por el segundo: \n",
    "\n",
    "<img src=\"https://github.com/CiDExt/Programacion1/blob/master/images/listasn1.png?raw=true\"  width=600 >\n",
    "\n",
    "Siguiendo esta idea, si quisiéramos sumar el elemento de la fila $1$ columna $2$, con el de la fila $2$ columna $1$, emplearíamos la siguiente línea de código:"
   ]
  },
  {
   "cell_type": "code",
   "execution_count": 53,
   "id": "8d0aae89",
   "metadata": {},
   "outputs": [
    {
     "data": {
      "text/plain": [
       "33"
      ]
     },
     "execution_count": 53,
     "metadata": {},
     "output_type": "execute_result"
    }
   ],
   "source": [
    "L[1][2]+L[2][1]"
   ]
  },
  {
   "cell_type": "markdown",
   "id": "4dde8aab",
   "metadata": {},
   "source": [
    "Para un arreglo arbitrario `a`, la idea es la misma, el primer índice es para las filas y el segundo para las columnas:\n",
    "\n",
    "<img src=\"https://github.com/CiDExt/Programacion1/blob/master/images/listasn2.png?raw=true\"  width=800 >\n",
    "\n"
   ]
  },
  {
   "cell_type": "markdown",
   "id": "2718348c",
   "metadata": {},
   "source": [
    "Esta misma idea se puede ampliar a tres dimensiones y más, en tres dimensiones podemos todavía visualizar la organización de los datos empleando un cubo, así:\n",
    "<img src=\"https://github.com/CiDExt/Programacion1/blob/master/images/listasn3.png?raw=true\" width=\"600\" >\n",
    "es decir, es un arreglo de matrices, como por ejemplo:"
   ]
  },
  {
   "cell_type": "code",
   "execution_count": 1,
   "id": "072dea4f",
   "metadata": {},
   "outputs": [],
   "source": [
    "Cubo = [[[1,2],[3,4],[5,6]],[[7,8,9],[10,11,12]],[[13,14,15,16],[17,18,19,20],[21,22,23,24]]]"
   ]
  },
  {
   "cell_type": "code",
   "execution_count": 2,
   "id": "045a6d88",
   "metadata": {},
   "outputs": [
    {
     "data": {
      "text/plain": [
       "[[[1, 2], [3, 4], [5, 6]],\n",
       " [[7, 8, 9], [10, 11, 12]],\n",
       " [[13, 14, 15, 16], [17, 18, 19, 20], [21, 22, 23, 24]]]"
      ]
     },
     "execution_count": 2,
     "metadata": {},
     "output_type": "execute_result"
    }
   ],
   "source": [
    "Cubo"
   ]
  },
  {
   "cell_type": "code",
   "execution_count": 3,
   "id": "9a8b4397",
   "metadata": {},
   "outputs": [
    {
     "data": {
      "text/plain": [
       "[[7, 8, 9], [10, 11, 12]]"
      ]
     },
     "execution_count": 3,
     "metadata": {},
     "output_type": "execute_result"
    }
   ],
   "source": [
    "Cubo[1]"
   ]
  },
  {
   "cell_type": "code",
   "execution_count": 4,
   "id": "111ef098",
   "metadata": {},
   "outputs": [
    {
     "data": {
      "text/plain": [
       "[7, 8, 9]"
      ]
     },
     "execution_count": 4,
     "metadata": {},
     "output_type": "execute_result"
    }
   ],
   "source": [
    "Cubo[1][0]"
   ]
  },
  {
   "cell_type": "code",
   "execution_count": 5,
   "id": "f33c07ee",
   "metadata": {},
   "outputs": [
    {
     "data": {
      "text/plain": [
       "9"
      ]
     },
     "execution_count": 5,
     "metadata": {},
     "output_type": "execute_result"
    }
   ],
   "source": [
    "Cubo[1][0][2]"
   ]
  },
  {
   "cell_type": "markdown",
   "id": "534766c8-f10f-4cd7-94fc-57e381144a00",
   "metadata": {},
   "source": [
    "# Cierre\n",
    "Las listas y las tuplas tienen una gran cantidad de aplicaciones, por eso entender el momento y la forma de usarlas es muy importante, ya que las listas son objetos mutables, mientras que las tuplas no, es por esto que si necesitamos modificar alguna de nuestras entradas luego de haber definido el objeto, se debe emplear una lista, pero si deseamos \"proteger\" las entradas de nuesto objeto, debemos emplear una tupla."
   ]
  },
  {
   "cell_type": "code",
   "execution_count": null,
   "id": "a09bd32e-8a4e-4ee4-9555-a7783a54ddbc",
   "metadata": {},
   "outputs": [],
   "source": []
  }
 ],
 "metadata": {
  "kernelspec": {
   "display_name": "Python 3",
   "language": "python",
   "name": "python3"
  },
  "language_info": {
   "codemirror_mode": {
    "name": "ipython",
    "version": 3
   },
   "file_extension": ".py",
   "mimetype": "text/x-python",
   "name": "python",
   "nbconvert_exporter": "python",
   "pygments_lexer": "ipython3",
   "version": "3.9.5"
  },
  "latex_envs": {
   "LaTeX_envs_menu_present": true,
   "autoclose": false,
   "autocomplete": true,
   "bibliofile": "biblio.bib",
   "cite_by": "apalike",
   "current_citInitial": 1,
   "eqLabelWithNumbers": true,
   "eqNumInitial": 1,
   "hotkeys": {
    "equation": "Ctrl-E",
    "itemize": "Ctrl-I"
   },
   "labels_anchors": false,
   "latex_user_defs": false,
   "report_style_numbering": false,
   "user_envs_cfg": false
  },
  "toc": {
   "base_numbering": 1,
   "nav_menu": {},
   "number_sections": true,
   "sideBar": true,
   "skip_h1_title": false,
   "title_cell": "Table of Contents",
   "title_sidebar": "Contents",
   "toc_cell": false,
   "toc_position": {},
   "toc_section_display": true,
   "toc_window_display": false
  }
 },
 "nbformat": 4,
 "nbformat_minor": 5
}