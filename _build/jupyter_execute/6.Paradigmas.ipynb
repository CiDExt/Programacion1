{
 "cells": [
  {
   "cell_type": "markdown",
   "id": "bd1fb346-eca3-48e8-acbc-4739b9350b02",
   "metadata": {},
   "source": [
    "# Intermezzo - Paradigmas de programación"
   ]
  },
  {
   "cell_type": "markdown",
   "id": "1f94f4b0-4f08-4969-b33c-875d546e151e",
   "metadata": {},
   "source": [
    ":::::{important} **Sección intermezzo**\n",
    "\n",
    "En esta sección nos daremos un respiro para estudiar conceptos importantes en el mundo de la programación, la idea es aclarar un concepto muy general, que ha sido ampliamente utilizado en diversas fuentes académicas, pero que muy frecuentemente es tergiversado porque no se entiende muy bien. \n",
    "\n",
    "Empezaremos definiendo los **paradigmas de programación**, veremos los más importantes, como se ejecutan en un lenguaje de programación y la importancia de tener claro el estilo según la necesidad y el diseño del algoritmo.\n",
    ":::::\n",
    "\n",
    "\n",
    "\n"
   ]
  },
  {
   "cell_type": "markdown",
   "id": "3ebfa0d1-76c7-4201-8aea-dae3a99c8aa4",
   "metadata": {},
   "source": [
    "Antes de definir a que nos referimos pensemos en el siguiente problema:\n",
    "\n"
   ]
  },
  {
   "cell_type": "markdown",
   "id": "f940dffd-1825-49e6-a106-312d1f886486",
   "metadata": {},
   "source": [
    ":::::{note} **Paradigmas de programación**\n",
    "\n",
    "Según las diferentes necesidades de los desarrolladores se ve conveniente seguir o no un tipo de solución, por ejemplo, si yo quisiera \n",
    ":::::"
   ]
  }
 ],
 "metadata": {
  "kernelspec": {
   "display_name": "Python 3 (ipykernel)",
   "language": "python",
   "name": "python3"
  },
  "language_info": {
   "codemirror_mode": {
    "name": "ipython",
    "version": 3
   },
   "file_extension": ".py",
   "mimetype": "text/x-python",
   "name": "python",
   "nbconvert_exporter": "python",
   "pygments_lexer": "ipython3",
   "version": "3.9.5"
  }
 },
 "nbformat": 4,
 "nbformat_minor": 5
}