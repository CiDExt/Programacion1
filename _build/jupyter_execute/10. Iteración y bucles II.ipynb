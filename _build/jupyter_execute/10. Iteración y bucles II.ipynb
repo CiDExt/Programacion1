{
 "cells": [
  {
   "cell_type": "markdown",
   "id": "48ffa0fa-d8f2-4358-973e-ae6be84cc194",
   "metadata": {},
   "source": [
    "# Bucles (for)\n",
    "\n",
    ":::::{important} ¿Cómo vamos?\n",
    "\n",
    "\n",
    "Hasta el momento debemos tener claro lo siguiente:\n",
    "\n",
    "\n",
    "````{tabbed} Paradigmas de Programación\n",
    "\n",
    ":::{admonition} Recordemos...\n",
    ":class: tip\n",
    "Un **paradigma de programación** indica las guías y métodos de realizar cálculos y la manera en que se deben estructurar y organizar las tareas que debe llevar a cabo un programa. Se asocian a cierto estilo de programación y al modelo de computación (operaciones permitidas) admitido en nuestro sistema.\n",
    ":::\n",
    "````\n",
    "\n",
    "\n",
    "````{tabbed} Variables\n",
    "\n",
    ":::{admonition} Recordemos...\n",
    ":class: tip\n",
    "Una variable en Python sirve para **guardar un valor específico**, ya sea **numérico**, **texto** u otro [**Tipo de Dato**](https://www.w3schools.com/python/python_datatypes.asp) con un nombre que nosotros escojamos. Debemos escribir una expresión de la forma:\n",
    "\n",
    "[Nombre de variable]=[Valor para guardar]\n",
    "\n",
    ":::\n",
    "````\n",
    ":::::\n",
    "\n",
    "\n"
   ]
  },
  {
   "cell_type": "markdown",
   "id": "dc5577c1-f663-42f5-bae5-a36c7ae11973",
   "metadata": {},
   "source": [
    "La iteración que veremos hoy es la iteración definida, en esta se repite un proceso para elementos alojados en una colección de objetos. El bucle que lo permite es `for` y funciona de la siguiente manera:\n",
    "\n",
    "```Python\n",
    "for objeto in colección_de_objetos:\n",
    "    instrucción_1\n",
    "    instrucción_2\n",
    "    ...\n",
    "    instrucción_n\n",
    "otras instrucciones\n",
    "otras instrucciones\n",
    "otras instrucciones    \n",
    "```"
   ]
  },
  {
   "cell_type": "markdown",
   "id": "5c94a4ee-2058-4700-82c3-de60de0d70f8",
   "metadata": {},
   "source": [
    "En las instrucciones dentro de `for` el valor de objeto varía conforme se vaya recorriendo la lista. Un ejemplo muy sencillo puede ser:"
   ]
  },
  {
   "cell_type": "code",
   "execution_count": 1,
   "id": "5647e079-03e1-409e-8f9f-6119f09828f6",
   "metadata": {},
   "outputs": [
    {
     "name": "stdout",
     "output_type": "stream",
     "text": [
      "Sentencia previa a iniciar el bucle.\n",
      "\n",
      " -> Instrucción inicial dentro del bucle para el:\n",
      " -> Elemento_1\n",
      " \n",
      " -> Fin de la iteración\n",
      "\n",
      "\n",
      " -> Instrucción inicial dentro del bucle para el:\n",
      " -> Elemento_2\n",
      " \n",
      " -> Fin de la iteración\n",
      "\n",
      "\n",
      " -> Instrucción inicial dentro del bucle para el:\n",
      " -> Elemento_3\n",
      " \n",
      " -> Fin de la iteración\n",
      "\n",
      "\n",
      "Fin del bucle\n"
     ]
    }
   ],
   "source": [
    "Lista=['Elemento_1','Elemento_2','Elemento_3']\n",
    "print('Sentencia previa a iniciar el bucle.\\n')\n",
    "for Elemento in Lista:\n",
    "    print(' -> Instrucción inicial dentro del bucle para el:')\n",
    "    print(' ->',Elemento)\n",
    "    print(' ')\n",
    "    print(' -> Fin de la iteración\\n\\n')\n",
    "print('Fin del bucle')"
   ]
  },
  {
   "cell_type": "markdown",
   "id": "a57df962-cbb5-41ff-af30-d84d26200d0c",
   "metadata": {},
   "source": [
    "En la colección que recorre el `for` debe haber un  elemento iterable. Hay elementos iterables que no son tan evidentes. Por ejemplo:"
   ]
  },
  {
   "cell_type": "code",
   "execution_count": 2,
   "id": "2fb01f59-20df-44b8-8c2f-238a1e2e0bf9",
   "metadata": {},
   "outputs": [
    {
     "name": "stdout",
     "output_type": "stream",
     "text": [
      "H\n",
      "o\n",
      "l\n",
      "a\n",
      " \n",
      "M\n",
      "u\n",
      "n\n",
      "d\n",
      "o\n"
     ]
    }
   ],
   "source": [
    "for i in 'Hola Mundo':\n",
    "    print(i)"
   ]
  },
  {
   "cell_type": "markdown",
   "id": "b8831706-551c-4a14-8268-7f703b6e011a",
   "metadata": {},
   "source": [
    "El ejemplo anterior recorrio cada caracter de la cadena de caractéres, esta cadena se reconoce como elemento iterable, al respecto tenemos los siguientes tipos de datos:\n",
    "\n",
    "* **Cadenas de caracteres**\n",
    "* **Listas**\n",
    "* **Tuplas**\n",
    "* **Conjuntos**\n",
    "* **Diccionarios**"
   ]
  },
  {
   "cell_type": "markdown",
   "id": "51c7b67a-8da9-431a-b786-8cda95c4bcaa",
   "metadata": {},
   "source": [
    "para saber si son iterables podemos utilizar la función `iter()`:"
   ]
  },
  {
   "cell_type": "code",
   "execution_count": 3,
   "id": "cdf20896-dc82-4077-97ff-e47442860ebb",
   "metadata": {},
   "outputs": [
    {
     "data": {
      "text/plain": [
       "<str_iterator at 0x7efcb04668b0>"
      ]
     },
     "execution_count": 3,
     "metadata": {},
     "output_type": "execute_result"
    }
   ],
   "source": [
    "iter('Hola')"
   ]
  },
  {
   "cell_type": "markdown",
   "id": "4a53ca03-2a49-4d09-a038-a99dc0ee2f1f",
   "metadata": {},
   "source": [
    "si el resultado es de la forma `<str_iterator at *****>` el objeto es iterable. En otro caso obtenemos una excepción:"
   ]
  },
  {
   "cell_type": "code",
   "execution_count": 4,
   "id": "b6d7b41e-9eaa-40ba-aec6-f3900cee7b06",
   "metadata": {},
   "outputs": [
    {
     "ename": "TypeError",
     "evalue": "'int' object is not iterable",
     "output_type": "error",
     "traceback": [
      "\u001b[0;31m---------------------------------------------------------------------------\u001b[0m",
      "\u001b[0;31mTypeError\u001b[0m                                 Traceback (most recent call last)",
      "\u001b[0;32m/tmp/ipykernel_5763/2035848844.py\u001b[0m in \u001b[0;36m<module>\u001b[0;34m\u001b[0m\n\u001b[0;32m----> 1\u001b[0;31m \u001b[0miter\u001b[0m\u001b[0;34m(\u001b[0m\u001b[0;36m20\u001b[0m\u001b[0;34m)\u001b[0m\u001b[0;34m\u001b[0m\u001b[0;34m\u001b[0m\u001b[0m\n\u001b[0m",
      "\u001b[0;31mTypeError\u001b[0m: 'int' object is not iterable"
     ]
    }
   ],
   "source": [
    "iter(20)"
   ]
  },
  {
   "cell_type": "markdown",
   "id": "653abbce-344c-4b2b-b9cf-21697fb0069e",
   "metadata": {},
   "source": [
    "A parte de los tipos de datos mencionados anteriormente en Python hay una gran cantidad de datos iterables, la función mencionada `iter` es la que permite recorrer los elementos de una lista. De hecho podemos utilizarla de nuestra parte usando su complemento `next()`. Veamos:"
   ]
  },
  {
   "cell_type": "code",
   "execution_count": 13,
   "id": "1c20176f-27aa-4e1c-a047-fcfc434e9482",
   "metadata": {},
   "outputs": [
    {
     "name": "stdout",
     "output_type": "stream",
     "text": [
      "Elemento_1\n",
      "Elemento_2\n",
      "Elemento_3\n"
     ]
    }
   ],
   "source": [
    "Lista=['Elemento_1','Elemento_2','Elemento_3']\n",
    "iterable=iter(Lista)\n",
    "print(next(iterable))\n",
    "print(next(iterable))\n",
    "print(next(iterable))"
   ]
  },
  {
   "cell_type": "markdown",
   "id": "6ec23351-33c8-408d-8c4d-307b6fd2530a",
   "metadata": {},
   "source": [
    "Si hacemos el siguiente `next` tendremos un problema:"
   ]
  },
  {
   "cell_type": "code",
   "execution_count": 14,
   "id": "6ee0874d-7322-424d-a9cf-ed80cce377c6",
   "metadata": {},
   "outputs": [
    {
     "ename": "StopIteration",
     "evalue": "",
     "output_type": "error",
     "traceback": [
      "\u001b[0;31m---------------------------------------------------------------------------\u001b[0m",
      "\u001b[0;31mStopIteration\u001b[0m                             Traceback (most recent call last)",
      "\u001b[0;32m/tmp/ipykernel_52973/1608679135.py\u001b[0m in \u001b[0;36m<module>\u001b[0;34m\u001b[0m\n\u001b[0;32m----> 1\u001b[0;31m \u001b[0mnext\u001b[0m\u001b[0;34m(\u001b[0m\u001b[0miterable\u001b[0m\u001b[0;34m)\u001b[0m\u001b[0;34m\u001b[0m\u001b[0;34m\u001b[0m\u001b[0m\n\u001b[0m",
      "\u001b[0;31mStopIteration\u001b[0m: "
     ]
    }
   ],
   "source": [
    "next(iterable)"
   ]
  },
  {
   "cell_type": "code",
   "execution_count": 16,
   "id": "db3475f3-1675-4da9-af7e-10cb1372fa88",
   "metadata": {},
   "outputs": [
    {
     "name": "stdout",
     "output_type": "stream",
     "text": [
      "<list_iterator object at 0x7efcc26b9280>\n"
     ]
    }
   ],
   "source": [
    "print(iterable)"
   ]
  },
  {
   "cell_type": "markdown",
   "id": "44adda61-4af6-4045-92a1-e96521a33dd1",
   "metadata": {},
   "source": [
    "Observemos el siguiente código, salvo por la excepción ¿Qué podríamos estar viendo?"
   ]
  },
  {
   "cell_type": "code",
   "execution_count": 27,
   "id": "5002cc68-19d8-43e5-98db-b5f8d1d13c76",
   "metadata": {},
   "outputs": [
    {
     "name": "stdout",
     "output_type": "stream",
     "text": [
      "Elemento_1\n",
      "Elemento_2\n",
      "Elemento_3\n",
      "Elemento_4\n",
      "Elemento_5\n"
     ]
    },
    {
     "ename": "StopIteration",
     "evalue": "",
     "output_type": "error",
     "traceback": [
      "\u001b[0;31m---------------------------------------------------------------------------\u001b[0m",
      "\u001b[0;31mStopIteration\u001b[0m                             Traceback (most recent call last)",
      "\u001b[0;32m/tmp/ipykernel_52973/1291867402.py\u001b[0m in \u001b[0;36m<module>\u001b[0;34m\u001b[0m\n\u001b[1;32m      2\u001b[0m \u001b[0miterable\u001b[0m\u001b[0;34m=\u001b[0m\u001b[0miter\u001b[0m\u001b[0;34m(\u001b[0m\u001b[0mLista\u001b[0m\u001b[0;34m)\u001b[0m\u001b[0;34m\u001b[0m\u001b[0;34m\u001b[0m\u001b[0m\n\u001b[1;32m      3\u001b[0m \u001b[0;32mwhile\u001b[0m \u001b[0;32mTrue\u001b[0m\u001b[0;34m:\u001b[0m\u001b[0;34m\u001b[0m\u001b[0;34m\u001b[0m\u001b[0m\n\u001b[0;32m----> 4\u001b[0;31m     \u001b[0melemento\u001b[0m\u001b[0;34m=\u001b[0m\u001b[0mnext\u001b[0m\u001b[0;34m(\u001b[0m\u001b[0miterable\u001b[0m\u001b[0;34m)\u001b[0m\u001b[0;34m\u001b[0m\u001b[0;34m\u001b[0m\u001b[0m\n\u001b[0m\u001b[1;32m      5\u001b[0m     \u001b[0mprint\u001b[0m\u001b[0;34m(\u001b[0m\u001b[0melemento\u001b[0m\u001b[0;34m)\u001b[0m\u001b[0;34m\u001b[0m\u001b[0;34m\u001b[0m\u001b[0m\n",
      "\u001b[0;31mStopIteration\u001b[0m: "
     ]
    }
   ],
   "source": [
    "Lista=['Elemento_1','Elemento_2','Elemento_3','Elemento_4','Elemento_5']\n",
    "iterable=iter(Lista)\n",
    "while True:\n",
    "    elemento=next(iterable)\n",
    "    print(elemento)"
   ]
  },
  {
   "cell_type": "markdown",
   "id": "53c1046a-77f5-4619-953b-d268c8cc4fed",
   "metadata": {},
   "source": [
    "Indiscutiblemente `for` recorre las listas ayudandose del itearable y la función next. `StopIteration` muestra el final del camino del for. Veremos a continuación unos elementos que son extremadamente útiles para trabajar con `for`."
   ]
  },
  {
   "cell_type": "markdown",
   "id": "4c26185c-34cb-443c-87d2-1f69d3e563e8",
   "metadata": {},
   "source": [
    "\n",
    "\n",
    "## Funciones útiles para trabajar con for\n",
    "\n",
    "### range()\n",
    "\n",
    "`range()`es una función de Python que genera un elemento iterable que recorre un rango numérico, si revisamos la ayuda de esta función tenemos:\n"
   ]
  },
  {
   "cell_type": "code",
   "execution_count": 28,
   "id": "03ebc23a-429e-40ed-9c62-be5f443eef7b",
   "metadata": {},
   "outputs": [
    {
     "name": "stdout",
     "output_type": "stream",
     "text": [
      "Help on class range in module builtins:\n",
      "\n",
      "class range(object)\n",
      " |  range(stop) -> range object\n",
      " |  range(start, stop[, step]) -> range object\n",
      " |  \n",
      " |  Return an object that produces a sequence of integers from start (inclusive)\n",
      " |  to stop (exclusive) by step.  range(i, j) produces i, i+1, i+2, ..., j-1.\n",
      " |  start defaults to 0, and stop is omitted!  range(4) produces 0, 1, 2, 3.\n",
      " |  These are exactly the valid indices for a list of 4 elements.\n",
      " |  When step is given, it specifies the increment (or decrement).\n",
      " |  \n",
      " |  Methods defined here:\n",
      " |  \n",
      " |  __bool__(self, /)\n",
      " |      self != 0\n",
      " |  \n",
      " |  __contains__(self, key, /)\n",
      " |      Return key in self.\n",
      " |  \n",
      " |  __eq__(self, value, /)\n",
      " |      Return self==value.\n",
      " |  \n",
      " |  __ge__(self, value, /)\n",
      " |      Return self>=value.\n",
      " |  \n",
      " |  __getattribute__(self, name, /)\n",
      " |      Return getattr(self, name).\n",
      " |  \n",
      " |  __getitem__(self, key, /)\n",
      " |      Return self[key].\n",
      " |  \n",
      " |  __gt__(self, value, /)\n",
      " |      Return self>value.\n",
      " |  \n",
      " |  __hash__(self, /)\n",
      " |      Return hash(self).\n",
      " |  \n",
      " |  __iter__(self, /)\n",
      " |      Implement iter(self).\n",
      " |  \n",
      " |  __le__(self, value, /)\n",
      " |      Return self<=value.\n",
      " |  \n",
      " |  __len__(self, /)\n",
      " |      Return len(self).\n",
      " |  \n",
      " |  __lt__(self, value, /)\n",
      " |      Return self<value.\n",
      " |  \n",
      " |  __ne__(self, value, /)\n",
      " |      Return self!=value.\n",
      " |  \n",
      " |  __reduce__(...)\n",
      " |      Helper for pickle.\n",
      " |  \n",
      " |  __repr__(self, /)\n",
      " |      Return repr(self).\n",
      " |  \n",
      " |  __reversed__(...)\n",
      " |      Return a reverse iterator.\n",
      " |  \n",
      " |  count(...)\n",
      " |      rangeobject.count(value) -> integer -- return number of occurrences of value\n",
      " |  \n",
      " |  index(...)\n",
      " |      rangeobject.index(value) -> integer -- return index of value.\n",
      " |      Raise ValueError if the value is not present.\n",
      " |  \n",
      " |  ----------------------------------------------------------------------\n",
      " |  Static methods defined here:\n",
      " |  \n",
      " |  __new__(*args, **kwargs) from builtins.type\n",
      " |      Create and return a new object.  See help(type) for accurate signature.\n",
      " |  \n",
      " |  ----------------------------------------------------------------------\n",
      " |  Data descriptors defined here:\n",
      " |  \n",
      " |  start\n",
      " |  \n",
      " |  step\n",
      " |  \n",
      " |  stop\n",
      "\n"
     ]
    }
   ],
   "source": [
    "\n",
    "help(range)"
   ]
  },
  {
   "cell_type": "markdown",
   "id": "faeebcce-679b-4cb5-8845-6451c6d16e7c",
   "metadata": {},
   "source": [
    "Podemos validar que:\n",
    "```Python \n",
    "range(start, stop, step) ## start hace referencia al inicio del rango numérico, \n",
    "                         ## por defecto es 0.\n",
    "                         ##\n",
    "                         ## stop  hace referencia el límite final del  \n",
    "                         ## rango numérico, no se toca por el rango.\n",
    "                         ##\n",
    "                         ## step hace referencia al paso del rango, \n",
    "                         ##por defecto es 1.\n",
    "        \n",
    "        \n",
    "```"
   ]
  },
  {
   "cell_type": "markdown",
   "id": "5bd99e9e-b920-4dec-b1c2-eccd3eeca13f",
   "metadata": {},
   "source": [
    "Así si quiero la lista de los números del 1 al 10 escribo:"
   ]
  },
  {
   "cell_type": "code",
   "execution_count": 30,
   "id": "f68898de-5c86-4611-9df0-dc8ec387b34f",
   "metadata": {},
   "outputs": [
    {
     "data": {
      "text/plain": [
       "range(1, 11)"
      ]
     },
     "execution_count": 30,
     "metadata": {},
     "output_type": "execute_result"
    }
   ],
   "source": [
    "range(1,11) "
   ]
  },
  {
   "cell_type": "markdown",
   "id": "5a800d3b-d571-4c06-8194-b27276bd3f00",
   "metadata": {},
   "source": [
    "para verificarlo, sabiendo que el rango numérico es iterable,  escribimos:"
   ]
  },
  {
   "cell_type": "code",
   "execution_count": 31,
   "id": "59ce75fc-a016-4cdf-98e7-5d5bbf22fe81",
   "metadata": {},
   "outputs": [
    {
     "name": "stdout",
     "output_type": "stream",
     "text": [
      "1\n",
      "2\n",
      "3\n",
      "4\n",
      "5\n",
      "6\n",
      "7\n",
      "8\n",
      "9\n",
      "10\n"
     ]
    }
   ],
   "source": [
    "for i in range(1,11):\n",
    "    print(i)"
   ]
  },
  {
   "cell_type": "markdown",
   "id": "0d61ad9f-38b6-49c4-8072-5afe465bc948",
   "metadata": {},
   "source": [
    "Si quiero la lista de los pares menores o iguales a 10 y mayores o iguales a 2 escribimos:"
   ]
  },
  {
   "cell_type": "code",
   "execution_count": 32,
   "id": "d55d75df-b3ba-47e3-ba30-c4ef53c731e0",
   "metadata": {},
   "outputs": [
    {
     "name": "stdout",
     "output_type": "stream",
     "text": [
      "2\n",
      "4\n",
      "6\n",
      "8\n",
      "10\n"
     ]
    }
   ],
   "source": [
    "lista=range(2,11,2)\n",
    "for i in lista:\n",
    "    print(i)\n"
   ]
  },
  {
   "cell_type": "markdown",
   "id": "796e4fd6-256c-479c-b281-ba2b2efb5a09",
   "metadata": {},
   "source": [
    "### enumerate()\n",
    "\n",
    "`enumerate()` convierte una lista en una lista de tuplas que indica el índice del elemento. `for`me permite desentrañar la función:"
   ]
  },
  {
   "cell_type": "code",
   "execution_count": 33,
   "id": "3ade3904-7348-4397-9789-b258430a85c8",
   "metadata": {},
   "outputs": [
    {
     "name": "stdout",
     "output_type": "stream",
     "text": [
      "(0, 'Elemento_1')\n",
      "(1, 'Elemento_2')\n",
      "(2, 'Elemento_3')\n",
      "(3, 'Elemento_4')\n",
      "(4, 'Elemento_5')\n"
     ]
    }
   ],
   "source": [
    "Lista=['Elemento_1','Elemento_2','Elemento_3','Elemento_4','Elemento_5']\n",
    "\n",
    "for i in enumerate(Lista):\n",
    "    print(i)"
   ]
  },
  {
   "cell_type": "markdown",
   "id": "d99a47d1-c92a-4558-8ecf-6f70c5864f04",
   "metadata": {},
   "source": [
    "Podemos referenciar los elementos por separado desde el mismo `for`:"
   ]
  },
  {
   "cell_type": "code",
   "execution_count": 34,
   "id": "5f985d44-d503-44f1-8d1e-bc9c514fab98",
   "metadata": {},
   "outputs": [
    {
     "name": "stdout",
     "output_type": "stream",
     "text": [
      "El índice de Elemento_1 es 0 \n",
      "\n",
      "El índice de Elemento_2 es 1 \n",
      "\n",
      "El índice de Elemento_3 es 2 \n",
      "\n",
      "El índice de Elemento_4 es 3 \n",
      "\n",
      "El índice de Elemento_5 es 4 \n",
      "\n"
     ]
    }
   ],
   "source": [
    "for i,j in enumerate(Lista):\n",
    "    print('El índice de', j, 'es', i,'\\n')"
   ]
  },
  {
   "cell_type": "markdown",
   "id": "685b4910-8838-4265-bb14-4598530eb104",
   "metadata": {},
   "source": [
    "Es una herramienta muy útil cuando requerimos la posición del elemento."
   ]
  },
  {
   "cell_type": "markdown",
   "id": "31c0dce2-ea08-465b-bd1b-364138253dd5",
   "metadata": {},
   "source": [
    "## break y continue en for\n",
    "\n",
    "Como en `while` podemos interrumpir el ciclo en `for`, usamos `break` y `continue`:\n",
    "<div style=\"width: 100%;\"><div style=\"position: relative; padding-bottom: 116.67%; padding-top: 0; height: 0;\"><iframe frameborder=\"0\" width=\"600\" height=\"700\" style=\"position: absolute; top: 0; left: 0; width: 100%; height: 100%;\" src=\"https://view.genial.ly/619837a5c909030d904263d9\" type=\"text/html\" allowscriptaccess=\"always\" allowfullscreen=\"true\" scrolling=\"yes\" allownetworking=\"all\"></iframe> </div> </div>"
   ]
  },
  {
   "cell_type": "code",
   "execution_count": 40,
   "id": "e042c2a8-4242-4035-b243-be6545d29e20",
   "metadata": {},
   "outputs": [
    {
     "name": "stdout",
     "output_type": "stream",
     "text": [
      "Elemento_1\n",
      "Elemento_2\n",
      "Bucle terminado.\n"
     ]
    }
   ],
   "source": [
    "Lista=['Elemento_1','Elemento_2','Elemento_3','Elemento_4','Elemento_5']\n",
    "for i in Lista:\n",
    "    if 'Elemento_3'==i:\n",
    "        break     \n",
    "    print(i)\n",
    "    \n",
    "print('Bucle terminado.')\n",
    "    "
   ]
  },
  {
   "cell_type": "code",
   "execution_count": 41,
   "id": "e597e896-67d1-4b8c-8f25-3bc987a58d3a",
   "metadata": {},
   "outputs": [
    {
     "name": "stdout",
     "output_type": "stream",
     "text": [
      "Elemento_1\n",
      "Elemento_2\n",
      "Elemento_4\n",
      "Elemento_5\n",
      "Bucle terminado.\n"
     ]
    }
   ],
   "source": [
    "Lista=['Elemento_1','Elemento_2','Elemento_3','Elemento_4','Elemento_5']\n",
    "for i in Lista:\n",
    "    if 'Elemento_3'==i:\n",
    "        continue   \n",
    "    print(i)\n",
    "    \n",
    "print('Bucle terminado.')"
   ]
  },
  {
   "cell_type": "markdown",
   "id": "80fead04-3b86-4a86-87a5-6fad9d583bb4",
   "metadata": {},
   "source": [
    "## else en for\n",
    "\n",
    "Igual que en `while` for puede contener `else`, su interpretación es similar:"
   ]
  },
  {
   "cell_type": "code",
   "execution_count": 44,
   "id": "3f928b29-df23-4ade-a1a8-03609f594726",
   "metadata": {},
   "outputs": [
    {
     "name": "stdout",
     "output_type": "stream",
     "text": [
      "Chocolate no fue encontrado en la lista.\n"
     ]
    }
   ],
   "source": [
    "FV = ['Papa', 'Limón', 'Cebolla', 'Arroz']\n",
    "s = 'Chocolate'\n",
    "\n",
    "for i in FV:\n",
    "    if i == s:\n",
    "        print(s, 'fue encontrado en la lista.')\n",
    "        break\n",
    "else:\n",
    "    print(s, 'no fue encontrado en la lista.')"
   ]
  },
  {
   "cell_type": "code",
   "execution_count": 45,
   "id": "c5346b7d-546a-44ba-a2f9-aad6b6540387",
   "metadata": {},
   "outputs": [
    {
     "name": "stdout",
     "output_type": "stream",
     "text": [
      "Chocolate fue encontrado en la lista.\n"
     ]
    }
   ],
   "source": [
    "FV = ['Papa', 'Limón', 'Cebolla', 'Arroz','Chocolate']\n",
    "s = 'Chocolate'\n",
    "\n",
    "for i in FV:\n",
    "    if i == s:\n",
    "        print(s, 'fue encontrado en la lista.')\n",
    "        break\n",
    "else:\n",
    "    print(s, 'no fue encontrado en la lista.')"
   ]
  },
  {
   "cell_type": "markdown",
   "id": "b37c47a4-12e2-4473-a01c-a8c1afadd5eb",
   "metadata": {},
   "source": [
    "## Cierre\n",
    "\n",
    "Hemos visto la iteración definida en Python, acabamos de recorrer listas y abrimos los ojos a nuevos algoritmos y formas de trabajar. Con eso completamos la revisión de estructuras de control fundamentales y según el [teorema de Böhm–Jacopini](https://en.wikipedia.org/wiki/Structured_program_theorem) ya podemos crear cualquier función computable. "
   ]
  },
  {
   "cell_type": "markdown",
   "id": "0b12fb13-3f5f-4bf4-a8fb-3900e7575ed0",
   "metadata": {},
   "source": [
    "## Ejercicio 1\n",
    "\n",
    "Defina una lista con los días de este mes. Utilice el paquete `datetime`. Defina un algoritmo para determinar cuales de esos días hacen referencia a días de fin de semana."
   ]
  },
  {
   "cell_type": "markdown",
   "id": "6bf51baa-113a-4143-b344-8250f0f6ce00",
   "metadata": {},
   "source": [
    "## Ejercicio 2\n",
    "\n",
    "Haga un algoritmo que identifoque los primeros 100 números primos."
   ]
  }
 ],
 "metadata": {
  "kernelspec": {
   "display_name": "Python 3 (ipykernel)",
   "language": "python",
   "name": "python3"
  },
  "language_info": {
   "codemirror_mode": {
    "name": "ipython",
    "version": 3
   },
   "file_extension": ".py",
   "mimetype": "text/x-python",
   "name": "python",
   "nbconvert_exporter": "python",
   "pygments_lexer": "ipython3",
   "version": "3.9.5"
  }
 },
 "nbformat": 4,
 "nbformat_minor": 5
}