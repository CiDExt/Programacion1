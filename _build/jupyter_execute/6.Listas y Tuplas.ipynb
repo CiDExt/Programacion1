{
 "cells": [
  {
   "cell_type": "markdown",
   "id": "a5e12450",
   "metadata": {},
   "source": [
    "# Listas y Tuplas"
   ]
  },
  {
   "cell_type": "markdown",
   "id": "c69b17c4-ca13-4766-a129-951f71b7212a",
   "metadata": {},
   "source": [
    ":::::{important} ¿Cómo vamos?\n",
    "\n",
    "\n",
    "Hasta el momento debemos tener claro lo siguiente:\n",
    "\n",
    "\n",
    "````{tabbed} Página en github\n",
    "\n",
    ":::{admonition} Recordemos...\n",
    ":class: tip\n",
    "Seguimos un tutorial detallado para empezar a manejar repositorios locales y en línea. Adicionalmente, vimos elementos básicos para la creación de páginas utilizando una rama adicional de los repositorios. Esperamos que en esas páginas haya una descripción completa de sus perfiles, ilusiones y los que serían sus próximos proyectos.\n",
    ":::\n",
    "````\n",
    "\n",
    "````{tabbed} ¿Qué hace un programador?\n",
    "\n",
    ":::{warning} \n",
    "\n",
    "**La respuesta es sencilla**\n",
    "\n",
    "Convertir **soluciones** en instrucciones que pueda seguir un computador\n",
    ":::\n",
    "\n",
    "se hace a través de algoritmos procesos libres de ambigüedades y con todos los pasos necesarios para llegar a la dichosa solución. Usamos herramientas de representación de los algoritmos: pseudocódigo o diagramas de flujo, que permiten resumir los pasos de un proceso.\n",
    "\n",
    "````\n",
    "\n",
    "````{tabbed} Variables\n",
    "\n",
    ":::{admonition} Recordemos...\n",
    ":class: tip\n",
    "Una variable en Python sirve para **guardar un valor específico**, ya sea **numérico**, **texto** u otro [**Tipo de Dato**](https://www.w3schools.com/python/python_datatypes.asp) con un nombre que nosotros escojamos. Debemos escribir una expresión de la forma:\n",
    "\n",
    "[Nombre de variable]=[Valor para guardar]\n",
    "\n",
    ":::\n",
    "````\n",
    ":::::\n"
   ]
  },
  {
   "cell_type": "markdown",
   "id": "eea6f218",
   "metadata": {},
   "source": [
    "En el ejercicio anterior tuvimos un breve acercamiento a diferentes tipos de datos guardados en variables, le brindamos una atención particular a las cadenas de caractéres porque permitían extraer subtextos, caracteres por separado, entre otros. Ese orden intrinseco en cada cadena lo extrapolaremos para organizar secuencias de cualquier tipo de objetos, en este sentido, nos referimos a las listas y a las tuplas. Nuestro objetivo es entender las similitudes y diferencias que hay entre ellas, como también tener presentes algunos de los métodos y funciones más útiles al trabajar con éstos objetos.\n"
   ]
  },
  {
   "cell_type": "markdown",
   "id": "de5745d3-af08-4425-8a29-404b35dc4ded",
   "metadata": {},
   "source": [
    "\n",
    "## Listas:\n",
    "\n",
    "\n",
    "Una lista es una estructura de datos en Python conformada como una secuencia de elementos ordenada y modificable. Cada elemento o valor que está dentro de una lista se llama elemento. Así como las cadenas se definen como caracteres entre comillas, las listas se definen teniendo sus elementos entre corchetes `[ ... ]` y separandolos con comas  `,`; es decir, para **crear una lista** basta con escribir entre corchetes los elementos que la componen separados por coma, así: \n",
    "\n",
    "```Python\n",
    "Lista = [Elemento_1,Elemento_2,Elemento_3,Elemento_4,Elemento_5]\n",
    "```\n",
    "\n",
    "Por ejemplo, el siguiente arreglo guarda los núumeros enteros de 0 a 3:\n"
   ]
  },
  {
   "cell_type": "code",
   "execution_count": 1,
   "id": "f06ca1a1",
   "metadata": {},
   "outputs": [
    {
     "data": {
      "text/plain": [
       "[0, 1, 2, 3]"
      ]
     },
     "execution_count": 1,
     "metadata": {},
     "output_type": "execute_result"
    }
   ],
   "source": [
    "l = [0, 1, 2, 3]\n",
    "l"
   ]
  },
  {
   "cell_type": "markdown",
   "id": "62cd4009",
   "metadata": {},
   "source": [
    "Las listas por lo general contienen elementos del mismo tipo, como ocurre con la lista que acabamos de definir, en la cual cada una de sus entradas es un número entero. Pero ellas pueden contener elementos de diferentes tipos, como por ejemplo:"
   ]
  },
  {
   "cell_type": "code",
   "execution_count": 2,
   "id": "08fdf05e",
   "metadata": {},
   "outputs": [
    {
     "data": {
      "text/plain": [
       "['hola', 1, 5.1, 140352222392448]"
      ]
     },
     "execution_count": 2,
     "metadata": {},
     "output_type": "execute_result"
    }
   ],
   "source": [
    "m = ['hola', 1, 5.1, id(l)]\n",
    "m"
   ]
  },
  {
   "cell_type": "markdown",
   "id": "2eeca28f",
   "metadata": {},
   "source": [
    "Aquí guardamos en `m` una lista con elementos del tipo `str`, `int`, `float` y el resultado de una función el cual es `int`.\n",
    "\n"
   ]
  },
  {
   "cell_type": "markdown",
   "id": "e0823edf-3f0f-4a28-8469-4c5b20ca8d86",
   "metadata": {},
   "source": [
    "### Explorar una lista\n",
    "\n",
    "Para **acceder a un elemento de la lista** se emplea una notación similar a la utilizada en las cadenas de carcatéres:\n",
    "\n",
    "```Python \n",
    "nombre_de_la_lista[índice]\n",
    "```\n",
    "\n"
   ]
  },
  {
   "cell_type": "markdown",
   "id": "b0e65e30-eede-41de-97b8-c3c9a5581b91",
   "metadata": {},
   "source": [
    "<div style=\"width: 100%;\"><div style=\"position: relative; padding-bottom: 25.00%; padding-top: 0; height: 0;\"><iframe frameborder=\"0\" width=\"800\" height=\"200\" style=\"position: absolute; top: 0; left: 0; width: 100%; height: 100%;\" src=\"https://view.genial.ly/6193e9d850419a0d7f19923b\" type=\"text/html\" allowscriptaccess=\"always\" allowfullscreen=\"true\" scrolling=\"yes\" allownetworking=\"all\"></iframe> </div> </div>"
   ]
  },
  {
   "cell_type": "markdown",
   "id": "46935c13-ae05-45ee-ab24-0ade7d17480f",
   "metadata": {},
   "source": [
    "\n",
    "El índice de la lista hace referencia a la posición en la cual se encuentra el elemento y éste es un número entero. El primer elemento de una lista tiene como índice el 0, el segundo es el índice 1 y así suscesivamente, lo anterior marca una gran diferencia con otros lenguajes de programación, en los cuales el primer elemento de una lista tiene índice 1."
   ]
  },
  {
   "cell_type": "code",
   "execution_count": 3,
   "id": "7c0e177f",
   "metadata": {},
   "outputs": [
    {
     "data": {
      "text/plain": [
       "'hola'"
      ]
     },
     "execution_count": 3,
     "metadata": {},
     "output_type": "execute_result"
    }
   ],
   "source": [
    "m[0]"
   ]
  },
  {
   "cell_type": "code",
   "execution_count": 4,
   "id": "6ac5b057",
   "metadata": {},
   "outputs": [
    {
     "data": {
      "text/plain": [
       "1"
      ]
     },
     "execution_count": 4,
     "metadata": {},
     "output_type": "execute_result"
    }
   ],
   "source": [
    "m[1]"
   ]
  },
  {
   "cell_type": "code",
   "execution_count": 5,
   "id": "4da62144",
   "metadata": {},
   "outputs": [
    {
     "data": {
      "text/plain": [
       "2"
      ]
     },
     "execution_count": 5,
     "metadata": {},
     "output_type": "execute_result"
    }
   ],
   "source": [
    "l[2]"
   ]
  },
  {
   "cell_type": "markdown",
   "id": "913e080b",
   "metadata": {},
   "source": [
    "Algunos índices negativos también se pueden utilizar, al emplear estos valores estamos indicando que la lista se recorre en orden inverso, es decir, el índice -1 es el último elemento de la lista, el -2 es el penúltimo, etc., como podemos ver a continuación:\n"
   ]
  },
  {
   "cell_type": "markdown",
   "id": "2bc4e19f-6fcd-488e-92b5-70c2cb838621",
   "metadata": {},
   "source": [
    "<div style=\"width: 100%;\"><div style=\"position: relative; padding-bottom: 25.00%; padding-top: 0; height: 0;\"><iframe frameborder=\"0\" width=\"800\" height=\"200\" style=\"position: absolute; top: 0; left: 0; width: 100%; height: 100%;\" src=\"https://view.genial.ly/6193ec1cc5d9760d8b0e94da\" type=\"text/html\" allowscriptaccess=\"always\" allowfullscreen=\"true\" scrolling=\"yes\" allownetworking=\"all\"></iframe> </div> </div>"
   ]
  },
  {
   "cell_type": "code",
   "execution_count": 6,
   "id": "f5220bce",
   "metadata": {},
   "outputs": [
    {
     "data": {
      "text/plain": [
       "3"
      ]
     },
     "execution_count": 6,
     "metadata": {},
     "output_type": "execute_result"
    }
   ],
   "source": [
    "l[-1]"
   ]
  },
  {
   "cell_type": "code",
   "execution_count": 7,
   "id": "8c673241",
   "metadata": {},
   "outputs": [
    {
     "data": {
      "text/plain": [
       "3"
      ]
     },
     "execution_count": 7,
     "metadata": {},
     "output_type": "execute_result"
    }
   ],
   "source": [
    "l[3]"
   ]
  },
  {
   "cell_type": "markdown",
   "id": "39f23f35",
   "metadata": {},
   "source": [
    "Para poder determinar con certeza el tamaño de la lista se emplea la función `len(lista)`, la cual arroja como resultado dicho valor, por ejemplo"
   ]
  },
  {
   "cell_type": "code",
   "execution_count": 8,
   "id": "1cc2e2c9",
   "metadata": {},
   "outputs": [
    {
     "data": {
      "text/plain": [
       "4"
      ]
     },
     "execution_count": 8,
     "metadata": {},
     "output_type": "execute_result"
    }
   ],
   "source": [
    "len(l)"
   ]
  },
  {
   "cell_type": "code",
   "execution_count": 9,
   "id": "121dcf3f",
   "metadata": {},
   "outputs": [
    {
     "data": {
      "text/plain": [
       "4"
      ]
     },
     "execution_count": 9,
     "metadata": {},
     "output_type": "execute_result"
    }
   ],
   "source": [
    "len(m)"
   ]
  },
  {
   "cell_type": "markdown",
   "id": "6a7a4adc",
   "metadata": {},
   "source": [
    "Si intentamos acceder a algún índice el cual no haga referencia a un índice de nuestra lista, obtendremos como resultado una excepción como la siguiente:"
   ]
  },
  {
   "cell_type": "code",
   "execution_count": 10,
   "id": "05330a03",
   "metadata": {},
   "outputs": [
    {
     "ename": "IndexError",
     "evalue": "list index out of range",
     "output_type": "error",
     "traceback": [
      "\u001b[0;31m---------------------------------------------------------------------------\u001b[0m",
      "\u001b[0;31mIndexError\u001b[0m                                Traceback (most recent call last)",
      "\u001b[0;32m/tmp/ipykernel_135819/2713866246.py\u001b[0m in \u001b[0;36m<module>\u001b[0;34m\u001b[0m\n\u001b[0;32m----> 1\u001b[0;31m \u001b[0mm\u001b[0m\u001b[0;34m[\u001b[0m\u001b[0;36m5\u001b[0m\u001b[0;34m]\u001b[0m\u001b[0;34m\u001b[0m\u001b[0;34m\u001b[0m\u001b[0m\n\u001b[0m",
      "\u001b[0;31mIndexError\u001b[0m: list index out of range"
     ]
    }
   ],
   "source": [
    "m[5]"
   ]
  },
  {
   "cell_type": "code",
   "execution_count": 12,
   "id": "91c64dea",
   "metadata": {},
   "outputs": [
    {
     "ename": "IndexError",
     "evalue": "list index out of range",
     "output_type": "error",
     "traceback": [
      "\u001b[1;31m---------------------------------------------------------------------------\u001b[0m",
      "\u001b[1;31mIndexError\u001b[0m                                Traceback (most recent call last)",
      "\u001b[1;32m<ipython-input-12-150bf7757436>\u001b[0m in \u001b[0;36m<module>\u001b[1;34m\u001b[0m\n\u001b[1;32m----> 1\u001b[1;33m \u001b[0ml\u001b[0m\u001b[1;33m[\u001b[0m\u001b[1;33m-\u001b[0m\u001b[1;36m5\u001b[0m\u001b[1;33m]\u001b[0m\u001b[1;33m\u001b[0m\u001b[1;33m\u001b[0m\u001b[0m\n\u001b[0m",
      "\u001b[1;31mIndexError\u001b[0m: list index out of range"
     ]
    }
   ],
   "source": [
    "l[-5]"
   ]
  },
  {
   "cell_type": "markdown",
   "id": "93bab4a3",
   "metadata": {},
   "source": [
    "En las listas podemos tener como índices números enteros, o expresiones que arrojen  un número entero, por ejemplo"
   ]
  },
  {
   "cell_type": "code",
   "execution_count": 13,
   "id": "af123c90",
   "metadata": {},
   "outputs": [
    {
     "data": {
      "text/plain": [
       "True"
      ]
     },
     "execution_count": 13,
     "metadata": {},
     "output_type": "execute_result"
    }
   ],
   "source": [
    "l[3] is l[2+1]"
   ]
  },
  {
   "cell_type": "markdown",
   "id": "f46e4371-a0fe-42b4-810e-7c29fa377ef1",
   "metadata": {},
   "source": [
    ":::{admonition} **Ejemplo 1**\n",
    ":class: tip\n",
    "*(Días de la semana)* Una lista que contengan los días de la semana.\n",
    ":::"
   ]
  },
  {
   "cell_type": "code",
   "execution_count": 3,
   "id": "ebef3dc9-87b2-4be5-98b8-326ffe605718",
   "metadata": {},
   "outputs": [],
   "source": [
    "Dias=[\"Lunes\",\"Martes\",\"Miércoles\",\"Jueves\",\"Viernes\",\"Sábado\",\"Domingo\"]"
   ]
  },
  {
   "cell_type": "markdown",
   "id": "ea3d290b-7b3e-4e1d-af3f-871d82f416fd",
   "metadata": {},
   "source": [
    ":::{admonition} **Ejemplo 2**\n",
    ":class: tip\n",
    "*(Frutas y verduras)* Haga una lista de frutas y verduras.\n",
    "\n",
    "`FV=[\"Fresas\",\"Papaya\",\"Limón\",\"Brocoli\",\"Acelgas\",\"Espinacas\"]`\n",
    ":::"
   ]
  },
  {
   "cell_type": "code",
   "execution_count": 4,
   "id": "84b32cb8-5824-4ab4-a269-4438069ca93b",
   "metadata": {},
   "outputs": [],
   "source": [
    "FV=[\"Fresas\",\"Papaya\",\"Limón\",\"Brocoli\",\"Acelgas\",\"Espinacas\"]"
   ]
  },
  {
   "cell_type": "code",
   "execution_count": 5,
   "id": "04529fda-8f8a-43c1-897d-3ead3afaf619",
   "metadata": {},
   "outputs": [
    {
     "data": {
      "text/plain": [
       "['Fresas', 'Papaya', 'Limón', 'Brocoli', 'Acelgas', 'Espinacas']"
      ]
     },
     "execution_count": 5,
     "metadata": {},
     "output_type": "execute_result"
    }
   ],
   "source": [
    "FV"
   ]
  },
  {
   "cell_type": "markdown",
   "id": "8cf95c8b",
   "metadata": {},
   "source": [
    "El contenido de las listas se puede modificar de manera muy sencilla, accedemos a la posición que deseamos modificar y asignamos el valor que deseamos esté allí, por ejemplo:"
   ]
  },
  {
   "cell_type": "code",
   "execution_count": 14,
   "id": "fc59e86b",
   "metadata": {},
   "outputs": [
    {
     "data": {
      "text/plain": [
       "[1, 1, 5.1, 2774874154304]"
      ]
     },
     "execution_count": 14,
     "metadata": {},
     "output_type": "execute_result"
    }
   ],
   "source": [
    "m[0] = 1\n",
    "m"
   ]
  },
  {
   "cell_type": "markdown",
   "id": "2906c969",
   "metadata": {},
   "source": [
    "Esto muestra que las listas son **objetos mutables**, es decir, que se pueden modificar. \n",
    "\n",
    "Pero no todas las secuencias de objetos lo son, por ejemplo, al definir la cadena `s = 'hola'`, no podemos modificar el elemento `s[0]`:"
   ]
  },
  {
   "cell_type": "code",
   "execution_count": 15,
   "id": "b8a13762",
   "metadata": {},
   "outputs": [],
   "source": [
    "s = 'hola'"
   ]
  },
  {
   "cell_type": "code",
   "execution_count": 16,
   "id": "d593af02",
   "metadata": {},
   "outputs": [
    {
     "data": {
      "text/plain": [
       "'h'"
      ]
     },
     "execution_count": 16,
     "metadata": {},
     "output_type": "execute_result"
    }
   ],
   "source": [
    "s[0]"
   ]
  },
  {
   "cell_type": "code",
   "execution_count": 17,
   "id": "21a17175",
   "metadata": {},
   "outputs": [
    {
     "ename": "TypeError",
     "evalue": "'str' object does not support item assignment",
     "output_type": "error",
     "traceback": [
      "\u001b[1;31m---------------------------------------------------------------------------\u001b[0m",
      "\u001b[1;31mTypeError\u001b[0m                                 Traceback (most recent call last)",
      "\u001b[1;32m<ipython-input-17-c86b3aa16af8>\u001b[0m in \u001b[0;36m<module>\u001b[1;34m\u001b[0m\n\u001b[1;32m----> 1\u001b[1;33m \u001b[0ms\u001b[0m\u001b[1;33m[\u001b[0m\u001b[1;36m0\u001b[0m\u001b[1;33m]\u001b[0m \u001b[1;33m=\u001b[0m \u001b[1;34m'B'\u001b[0m\u001b[1;33m\u001b[0m\u001b[1;33m\u001b[0m\u001b[0m\n\u001b[0m",
      "\u001b[1;31mTypeError\u001b[0m: 'str' object does not support item assignment"
     ]
    }
   ],
   "source": [
    "s[0] = 'B'"
   ]
  },
  {
   "cell_type": "code",
   "execution_count": null,
   "id": "24cca4e0-5c3b-47f9-b8db-9f8c44cf7305",
   "metadata": {},
   "outputs": [],
   "source": []
  },
  {
   "cell_type": "markdown",
   "id": "2bcb201f",
   "metadata": {},
   "source": [
    "Una necesidad recurrente es: **agregar elementos a una lista**, para ello la forma más natural de hacerlo es mediante el método `lista.append(elemento_a_agregar)`:"
   ]
  },
  {
   "cell_type": "code",
   "execution_count": 18,
   "id": "4e65f033",
   "metadata": {},
   "outputs": [
    {
     "data": {
      "text/plain": [
       "[0, 1, 2, 3]"
      ]
     },
     "execution_count": 18,
     "metadata": {},
     "output_type": "execute_result"
    }
   ],
   "source": [
    "l"
   ]
  },
  {
   "cell_type": "code",
   "execution_count": 19,
   "id": "f0258650",
   "metadata": {},
   "outputs": [
    {
     "data": {
      "text/plain": [
       "[0, 1, 2, 3, 'cuatro']"
      ]
     },
     "execution_count": 19,
     "metadata": {},
     "output_type": "execute_result"
    }
   ],
   "source": [
    "l.append('cuatro')\n",
    "l"
   ]
  },
  {
   "cell_type": "markdown",
   "id": "b500a117",
   "metadata": {},
   "source": [
    "Las listas pueden concatenarse, es decir, dadas dos listas, obtendremos como resultado una nueva lista que tenga los elementos de la primera lista seguido de los de la segunda, así:"
   ]
  },
  {
   "cell_type": "code",
   "execution_count": 20,
   "id": "b2e16079",
   "metadata": {},
   "outputs": [
    {
     "data": {
      "text/plain": [
       "[0, 1, 2, 3, 'cuatro', 1, 1, 5.1, 2774874154304]"
      ]
     },
     "execution_count": 20,
     "metadata": {},
     "output_type": "execute_result"
    }
   ],
   "source": [
    "M = l+m\n",
    "M"
   ]
  },
  {
   "cell_type": "markdown",
   "id": "0c64e46a",
   "metadata": {},
   "source": [
    "Esto nos permite agregar elementos a una lista de otra manera, empleando el operador `+=`, como podemos ver:"
   ]
  },
  {
   "cell_type": "code",
   "execution_count": 21,
   "id": "41a01475",
   "metadata": {},
   "outputs": [
    {
     "data": {
      "text/plain": [
       "[0, 1, 2, 3, 'cuatro', 5]"
      ]
     },
     "execution_count": 21,
     "metadata": {},
     "output_type": "execute_result"
    }
   ],
   "source": [
    "l += [5]\n",
    "l"
   ]
  },
  {
   "cell_type": "markdown",
   "id": "c718341d",
   "metadata": {},
   "source": [
    "### Ejercicio\n",
    "1. Crea un bloque de código que dada una lista en blanco vaya agregando elementos a ésta. Dichos elementos deberán ser la suma de los índices hasta la posición en que se halla el elemento.\n",
    "\n"
   ]
  },
  {
   "cell_type": "markdown",
   "id": "842e1492",
   "metadata": {},
   "source": [
    "En otras ocasiones es muy necesario eliminar elementos de las listas, por ejemplo, vamos a eliminar el segundo elemento de la lista `M` que creamos anteriormente:"
   ]
  },
  {
   "cell_type": "code",
   "execution_count": 22,
   "id": "adbc8372",
   "metadata": {},
   "outputs": [
    {
     "data": {
      "text/plain": [
       "[0, 1, 3, 'cuatro', 1, 1, 5.1, 2774874154304]"
      ]
     },
     "execution_count": 22,
     "metadata": {},
     "output_type": "execute_result"
    }
   ],
   "source": [
    "del M[2]\n",
    "M"
   ]
  },
  {
   "cell_type": "markdown",
   "id": "739d419e",
   "metadata": {},
   "source": [
    "Es decir, al seguir la línea de comando `del lista[índice_que_se_desea_eliminar]`, se borra la entrada de la lista."
   ]
  },
  {
   "cell_type": "markdown",
   "id": "d019d391",
   "metadata": {},
   "source": [
    "## Tuplas\n",
    "Las tuplas, a diferencia de las listas, son objetos inmutables en los cuales se almacenan datos, bien sean del mismo o de diferentes tipos, siendo éste último el uso más frecuente.\n",
    "\n",
    "De modo que definiremos nuestra primera tupa:"
   ]
  },
  {
   "cell_type": "code",
   "execution_count": 23,
   "id": "790153f8",
   "metadata": {},
   "outputs": [
    {
     "data": {
      "text/plain": [
       "('Enero', '01', 19)"
      ]
     },
     "execution_count": 23,
     "metadata": {},
     "output_type": "execute_result"
    }
   ],
   "source": [
    "temperatura = 'Enero', '01', 19\n",
    "#Equivalentemente\n",
    "#t = ('Enero', '01', 19)\n",
    "temperatura\n",
    "#Sin importar como la definamos, siempore se visualizarán sus elementos entre paréntesis y separados por una coma"
   ]
  },
  {
   "cell_type": "markdown",
   "id": "316497b4",
   "metadata": {},
   "source": [
    "Para conocer la cantidad de elementos que hay en una tupla, empleamos la misma función que para las listas, la función `len(tupla)`, así:"
   ]
  },
  {
   "cell_type": "code",
   "execution_count": 24,
   "id": "3840f53f",
   "metadata": {},
   "outputs": [
    {
     "data": {
      "text/plain": [
       "3"
      ]
     },
     "execution_count": 24,
     "metadata": {},
     "output_type": "execute_result"
    }
   ],
   "source": [
    "len(temperatura)"
   ]
  },
  {
   "cell_type": "markdown",
   "id": "00a47c3e",
   "metadata": {},
   "source": [
    "Si deseamos definir una tupla con un único elemento, debemos hacerlo de la siguiente manera:"
   ]
  },
  {
   "cell_type": "code",
   "execution_count": 25,
   "id": "f55136dd",
   "metadata": {},
   "outputs": [
    {
     "data": {
      "text/plain": [
       "(23,)"
      ]
     },
     "execution_count": 25,
     "metadata": {},
     "output_type": "execute_result"
    }
   ],
   "source": [
    "tupla1elemento = 23, #Observa la coma\n",
    "tupla1elemento"
   ]
  },
  {
   "cell_type": "markdown",
   "id": "e9f69ae4",
   "metadata": {},
   "source": [
    "La coma es la que indica que es una tupla, ya que se si hace sin ella, incluso entre paréntesis, se guardará el entero 23 y no la tupla cuyo único elemento es el 23.\n",
    "\n",
    "Para acceder a la información almacenada en las diferentes entradas de una tupla, lo hacemos de la misma manera que lo hicimos con las listas, es decir, `tupla[índice]`, así:"
   ]
  },
  {
   "cell_type": "code",
   "execution_count": 26,
   "id": "eeb7bc78",
   "metadata": {},
   "outputs": [
    {
     "data": {
      "text/plain": [
       "'Enero'"
      ]
     },
     "execution_count": 26,
     "metadata": {},
     "output_type": "execute_result"
    }
   ],
   "source": [
    "temperatura[0]"
   ]
  },
  {
   "cell_type": "markdown",
   "id": "cdb373e7",
   "metadata": {},
   "source": [
    "y éstas se pueden operar:"
   ]
  },
  {
   "cell_type": "code",
   "execution_count": 27,
   "id": "76b40f7b",
   "metadata": {},
   "outputs": [
    {
     "data": {
      "text/plain": [
       "'La temperatura máxima en Bogotá el 01 de Enero del 2021 fue de 19'"
      ]
     },
     "execution_count": 27,
     "metadata": {},
     "output_type": "execute_result"
    }
   ],
   "source": [
    "'La temperatura máxima en Bogotá el '+ temperatura[1]+' de '+temperatura[0]+' del 2021 fue de '+str(temperatura[-1])"
   ]
  },
  {
   "cell_type": "markdown",
   "id": "48d72ff7",
   "metadata": {},
   "source": [
    "¿Qué pasa si intentamos modificar una entrada de una tupla?"
   ]
  },
  {
   "cell_type": "code",
   "execution_count": 28,
   "id": "b731569e",
   "metadata": {},
   "outputs": [
    {
     "ename": "TypeError",
     "evalue": "'tuple' object does not support item assignment",
     "output_type": "error",
     "traceback": [
      "\u001b[1;31m---------------------------------------------------------------------------\u001b[0m",
      "\u001b[1;31mTypeError\u001b[0m                                 Traceback (most recent call last)",
      "\u001b[1;32m<ipython-input-28-342ba232b8dd>\u001b[0m in \u001b[0;36m<module>\u001b[1;34m\u001b[0m\n\u001b[1;32m----> 1\u001b[1;33m \u001b[0mtemperatura\u001b[0m\u001b[1;33m[\u001b[0m\u001b[1;36m0\u001b[0m\u001b[1;33m]\u001b[0m\u001b[1;33m=\u001b[0m\u001b[1;34m'hola'\u001b[0m\u001b[1;33m\u001b[0m\u001b[1;33m\u001b[0m\u001b[0m\n\u001b[0m",
      "\u001b[1;31mTypeError\u001b[0m: 'tuple' object does not support item assignment"
     ]
    }
   ],
   "source": [
    "temperatura[0]='hola'"
   ]
  },
  {
   "cell_type": "markdown",
   "id": "6e4c5da7",
   "metadata": {},
   "source": [
    "Como lo comentamos antes, las tuplas son **inmutables**.\n",
    "\n",
    "Para agregar elementos a una tupla empleamos el operador `+=`, de la misma manera que lo hicimos con las listas. Para las tuplas no disponemos del método `append`."
   ]
  },
  {
   "cell_type": "code",
   "execution_count": 29,
   "id": "37569169",
   "metadata": {},
   "outputs": [
    {
     "data": {
      "text/plain": [
       "(23, 'a')"
      ]
     },
     "execution_count": 29,
     "metadata": {},
     "output_type": "execute_result"
    }
   ],
   "source": [
    "tupla1elemento += ('a',)\n",
    "tupla1elemento"
   ]
  },
  {
   "cell_type": "markdown",
   "id": "6ba246ed",
   "metadata": {},
   "source": [
    "Como hemos recalcado las tuplas son inmutables, pero pueden contener elementos mutables, por ejemplo:"
   ]
  },
  {
   "cell_type": "code",
   "execution_count": 30,
   "id": "71525280",
   "metadata": {},
   "outputs": [
    {
     "data": {
      "text/plain": [
       "(23, 'a', [1, 2, 3, 4])"
      ]
     },
     "execution_count": 30,
     "metadata": {},
     "output_type": "execute_result"
    }
   ],
   "source": [
    "tupla1elemento += ([1,2,3,4],)\n",
    "tupla1elemento"
   ]
  },
  {
   "cell_type": "code",
   "execution_count": 31,
   "id": "68249d2d",
   "metadata": {},
   "outputs": [
    {
     "ename": "TypeError",
     "evalue": "'tuple' object does not support item assignment",
     "output_type": "error",
     "traceback": [
      "\u001b[1;31m---------------------------------------------------------------------------\u001b[0m",
      "\u001b[1;31mTypeError\u001b[0m                                 Traceback (most recent call last)",
      "\u001b[1;32m<ipython-input-31-4876424b0bcd>\u001b[0m in \u001b[0;36m<module>\u001b[1;34m\u001b[0m\n\u001b[1;32m----> 1\u001b[1;33m \u001b[0mtupla1elemento\u001b[0m\u001b[1;33m[\u001b[0m\u001b[1;36m2\u001b[0m\u001b[1;33m]\u001b[0m\u001b[1;33m=\u001b[0m\u001b[1;36m1\u001b[0m\u001b[1;33m\u001b[0m\u001b[1;33m\u001b[0m\u001b[0m\n\u001b[0m",
      "\u001b[1;31mTypeError\u001b[0m: 'tuple' object does not support item assignment"
     ]
    }
   ],
   "source": [
    "tupla1elemento[2]=1\n",
    "#genererá un error ya que no podemos modificar el elemento de la tupla"
   ]
  },
  {
   "cell_type": "code",
   "execution_count": 34,
   "id": "db84cb8d",
   "metadata": {},
   "outputs": [
    {
     "data": {
      "text/plain": [
       "(23, 'a', [1, 2, 3, 'cuatro'])"
      ]
     },
     "execution_count": 34,
     "metadata": {},
     "output_type": "execute_result"
    }
   ],
   "source": [
    "#Pero podemos modificar la lista que está dentro de la tupla\n",
    "tupla1elemento[2][3]='cuatro'\n",
    "tupla1elemento"
   ]
  }
 ],
 "metadata": {
  "kernelspec": {
   "display_name": "Python 3 (ipykernel)",
   "language": "python",
   "name": "python3"
  },
  "language_info": {
   "codemirror_mode": {
    "name": "ipython",
    "version": 3
   },
   "file_extension": ".py",
   "mimetype": "text/x-python",
   "name": "python",
   "nbconvert_exporter": "python",
   "pygments_lexer": "ipython3",
   "version": "3.9.5"
  },
  "latex_envs": {
   "LaTeX_envs_menu_present": true,
   "autoclose": false,
   "autocomplete": true,
   "bibliofile": "biblio.bib",
   "cite_by": "apalike",
   "current_citInitial": 1,
   "eqLabelWithNumbers": true,
   "eqNumInitial": 1,
   "hotkeys": {
    "equation": "Ctrl-E",
    "itemize": "Ctrl-I"
   },
   "labels_anchors": false,
   "latex_user_defs": false,
   "report_style_numbering": false,
   "user_envs_cfg": false
  },
  "toc": {
   "base_numbering": 1,
   "nav_menu": {},
   "number_sections": true,
   "sideBar": true,
   "skip_h1_title": false,
   "title_cell": "Table of Contents",
   "title_sidebar": "Contents",
   "toc_cell": false,
   "toc_position": {},
   "toc_section_display": true,
   "toc_window_display": false
  }
 },
 "nbformat": 4,
 "nbformat_minor": 5
}