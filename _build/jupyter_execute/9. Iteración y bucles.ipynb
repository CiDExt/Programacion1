{
 "cells": [
  {
   "cell_type": "markdown",
   "id": "48ffa0fa-d8f2-4358-973e-ae6be84cc194",
   "metadata": {},
   "source": [
    "# Bucles\n",
    "\n",
    ":::::{important} ¿Cómo vamos?\n",
    "\n",
    "\n",
    "Hasta el momento debemos tener claro lo siguiente:\n",
    "\n",
    "\n",
    "````{tabbed} Paradigmas de Programación\n",
    "\n",
    ":::{admonition} Recordemos...\n",
    ":class: tip\n",
    "Un **paradigma de programación** indica las guías y métodos de realizar cálculos y la manera en que se deben estructurar y organizar las tareas que debe llevar a cabo un programa. Se asocian a cierto estilo de programación y al modelo de computación (operaciones permitidas) admitido en nuestro sistema.\n",
    ":::\n",
    "````\n",
    "\n",
    "\n",
    "````{tabbed} Variables\n",
    "\n",
    ":::{admonition} Recordemos...\n",
    ":class: tip\n",
    "Una variable en Python sirve para **guardar un valor específico**, ya sea **numérico**, **texto** u otro [**Tipo de Dato**](https://www.w3schools.com/python/python_datatypes.asp) con un nombre que nosotros escojamos. Debemos escribir una expresión de la forma:\n",
    "\n",
    "[Nombre de variable]=[Valor para guardar]\n",
    "\n",
    ":::\n",
    "````\n",
    ":::::\n",
    "\n",
    "\n"
   ]
  },
  {
   "cell_type": "markdown",
   "id": "752edf1e-a117-4e2c-9fae-260953b87e62",
   "metadata": {},
   "source": [
    "## Iteración\n",
    "\n",
    "Una iteración consiste en una secuencia de instrucciones que se repiten cierta cantidad de veces, dicha operación puede depender de una condición de verdad (`while`), o recorrer una lista definida (`for`). \n",
    "\n",
    "<div style=\"width: 100%;\"><div style=\"position: relative; padding-bottom: 50.00%; padding-top: 0; height: 0;\"><iframe frameborder=\"0\" width=\"1000\" height=\"500\" style=\"position: absolute; top: 0; left: 0; width: 100%; height: 100%;\" src=\"https://view.genial.ly/61944099c121b10d88a24212\" type=\"text/html\" allowscriptaccess=\"always\" allowfullscreen=\"true\" scrolling=\"yes\" allownetworking=\"all\"></iframe> </div> </div>"
   ]
  },
  {
   "cell_type": "markdown",
   "id": "4f766eea-403b-4e50-ae96-7fafe626742e",
   "metadata": {},
   "source": [
    "## Bucle while\n",
    "\n",
    "Es similar al condicional, porque revisará si una condición es cierta o falsa, y se ejecutará mientras esa condición sea cierta. Es muy importante que la condición en while cambié a medida que avanza la iteración, porque si no el programa ejecutará indefinidamente las operaciones. Su sintáxis es:\n",
    "\n",
    "```Python\n",
    "while (condición):\n",
    "    instrucción_1\n",
    "    instrucción_2\n",
    "    ...\n",
    "    instrucción_n\n",
    "```\n",
    "\n",
    ":::{warning}\n",
    "¡Cuidado con la condición! Existe la posibilidad de escribir la condición de tal manera que siempre se cumpla y tendríamos un ciclo infinito.\n",
    ":::"
   ]
  },
  {
   "cell_type": "markdown",
   "id": "a23e61d7-4dc7-466f-b06c-d8c0fd9deaba",
   "metadata": {},
   "source": [
    "**Ejemplo**\n",
    "\n",
    "Mientras una variable a la que inicialmente se le asigno el valor 0 sea menor que 10 que el programa imprima  `Python es maravilloso`:"
   ]
  },
  {
   "cell_type": "code",
   "execution_count": 1,
   "id": "a6f198c0-8b58-4322-91ba-fd536522db73",
   "metadata": {},
   "outputs": [
    {
     "name": "stdout",
     "output_type": "stream",
     "text": [
      "1\n",
      "Python es maravilloso\n",
      "2\n",
      "Python es maravilloso\n",
      "3\n",
      "Python es maravilloso\n",
      "4\n",
      "Python es maravilloso\n",
      "5\n",
      "Python es maravilloso\n",
      "6\n",
      "Python es maravilloso\n",
      "7\n",
      "Python es maravilloso\n",
      "8\n",
      "Python es maravilloso\n",
      "9\n",
      "Python es maravilloso\n",
      "10\n",
      "Python es maravilloso\n"
     ]
    }
   ],
   "source": [
    "n=0\n",
    "while n<10:\n",
    "    n=n+1 # esta operación es fundamental, si no la incluimos el ciclo sería infinito...\n",
    "    print(n)\n",
    "    print('Python es maravilloso')\n",
    "    \n",
    "    "
   ]
  },
  {
   "cell_type": "markdown",
   "id": "92f93c6f-ee0b-496c-86ad-932d8aeed6db",
   "metadata": {},
   "source": [
    "¿Qué pasaría si escribimos el siguiente código?\n",
    "\n",
    "```Python\n",
    "n=0\n",
    "while n<10:\n",
    "    #n=n+1 # esta operación es fundamental, si no la incluimos el ciclo sería infinito...\n",
    "    print(n)\n",
    "    print('Python es maravilloso')\n",
    "```\n"
   ]
  },
  {
   "cell_type": "markdown",
   "id": "0353623c-f499-4911-a963-709703e2767c",
   "metadata": {},
   "source": [
    "Python permite utilizar ordenes que pueden interrumpir los búcles:\n",
    "\n",
    "* **break**: Una sentencia de Python que termina inmediatamente un ciclo por completo. El programa procede a la primera instrucción que sigue después de `break`.\n",
    "* **continue**: Una sentencia de Python que termina inmediatamente una iteración del ciclo. El programa procede a la primera instrucción que sigue después de `break`."
   ]
  }
 ],
 "metadata": {
  "kernelspec": {
   "display_name": "Python 3 (ipykernel)",
   "language": "python",
   "name": "python3"
  },
  "language_info": {
   "codemirror_mode": {
    "name": "ipython",
    "version": 3
   },
   "file_extension": ".py",
   "mimetype": "text/x-python",
   "name": "python",
   "nbconvert_exporter": "python",
   "pygments_lexer": "ipython3",
   "version": "3.9.5"
  }
 },
 "nbformat": 4,
 "nbformat_minor": 5
}