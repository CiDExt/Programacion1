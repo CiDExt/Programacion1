{
 "cells": [
  {
   "cell_type": "markdown",
   "id": "48ffa0fa-d8f2-4358-973e-ae6be84cc194",
   "metadata": {},
   "source": [
    "# Bucles (while)\n",
    "\n",
    ":::::{important} ¿Cómo vamos?\n",
    "\n",
    "\n",
    "Hasta el momento debemos tener claro lo siguiente:\n",
    "\n",
    "\n",
    "````{tabbed} Paradigmas de Programación\n",
    "\n",
    ":::{admonition} Recordemos...\n",
    ":class: tip\n",
    "Un **paradigma de programación** indica las guías y métodos de realizar cálculos y la manera en que se deben estructurar y organizar las tareas que debe llevar a cabo un programa. Se asocian a cierto estilo de programación y al modelo de computación (operaciones permitidas) admitido en nuestro sistema.\n",
    ":::\n",
    "````\n",
    "\n",
    "\n",
    "````{tabbed} Variables\n",
    "\n",
    ":::{admonition} Recordemos...\n",
    ":class: tip\n",
    "Una variable en Python sirve para **guardar un valor específico**, ya sea **numérico**, **texto** u otro [**Tipo de Dato**](https://www.w3schools.com/python/python_datatypes.asp) con un nombre que nosotros escojamos. Debemos escribir una expresión de la forma:\n",
    "\n",
    "[Nombre de variable]=[Valor para guardar]\n",
    "\n",
    ":::\n",
    "````\n",
    ":::::\n",
    "\n",
    "\n"
   ]
  },
  {
   "cell_type": "markdown",
   "id": "752edf1e-a117-4e2c-9fae-260953b87e62",
   "metadata": {},
   "source": [
    "## Iteración\n",
    "\n",
    "Una iteración consiste en una secuencia de instrucciones que se repiten cierta cantidad de veces, dicha operación puede depender de una condición de verdad (`while`), o recorrer una lista definida (`for`). \n",
    "\n",
    "<div style=\"width: 100%;\"><div style=\"position: relative; padding-bottom: 50.00%; padding-top: 0; height: 0;\"><iframe frameborder=\"0\" width=\"1000\" height=\"500\" style=\"position: absolute; top: 0; left: 0; width: 100%; height: 100%;\" src=\"https://view.genial.ly/61944099c121b10d88a24212\" type=\"text/html\" allowscriptaccess=\"always\" allowfullscreen=\"true\" scrolling=\"yes\" allownetworking=\"all\"></iframe> </div> </div>"
   ]
  },
  {
   "cell_type": "markdown",
   "id": "4f766eea-403b-4e50-ae96-7fafe626742e",
   "metadata": {},
   "source": [
    "## Bucle while\n",
    "\n",
    "Es similar al condicional, porque revisará si una condición es cierta o falsa, y se ejecutará mientras esa condición sea cierta. Es muy importante que la condición en while cambié a medida que avanza la iteración, porque si no el programa ejecutará indefinidamente las operaciones. Su sintáxis es:\n",
    "\n",
    "```Python\n",
    "while (condición):\n",
    "    instrucción_1\n",
    "    instrucción_2\n",
    "    ...\n",
    "    instrucción_n\n",
    "```\n",
    "\n",
    ":::{warning}\n",
    "¡Cuidado con la condición! Existe la posibilidad de escribir la condición de tal manera que siempre se cumpla y tendríamos un ciclo infinito.\n",
    ":::"
   ]
  },
  {
   "cell_type": "markdown",
   "id": "a23e61d7-4dc7-466f-b06c-d8c0fd9deaba",
   "metadata": {},
   "source": [
    "**Ejemplo**\n",
    "\n",
    "Mientras una variable a la que inicialmente se le asigno el valor 0 sea menor que 10 que el programa imprima  `Python es maravilloso`:"
   ]
  },
  {
   "cell_type": "code",
   "execution_count": 1,
   "id": "a6f198c0-8b58-4322-91ba-fd536522db73",
   "metadata": {},
   "outputs": [
    {
     "name": "stdout",
     "output_type": "stream",
     "text": [
      "1\n",
      "Python es maravilloso\n",
      "2\n",
      "Python es maravilloso\n",
      "3\n",
      "Python es maravilloso\n",
      "4\n",
      "Python es maravilloso\n",
      "5\n",
      "Python es maravilloso\n",
      "6\n",
      "Python es maravilloso\n",
      "7\n",
      "Python es maravilloso\n",
      "8\n",
      "Python es maravilloso\n",
      "9\n",
      "Python es maravilloso\n",
      "10\n",
      "Python es maravilloso\n"
     ]
    }
   ],
   "source": [
    "n=0\n",
    "while n<10:\n",
    "    n=n+1 # esta operación es fundamental, si no la incluimos el ciclo sería infinito...\n",
    "    print(n)\n",
    "    print('Python es maravilloso')\n",
    "    \n",
    "    "
   ]
  },
  {
   "cell_type": "markdown",
   "id": "92f93c6f-ee0b-496c-86ad-932d8aeed6db",
   "metadata": {},
   "source": [
    "¿Qué pasaría si escribimos el siguiente código?\n",
    "\n",
    "```Python\n",
    "n=0\n",
    "while n<10:\n",
    "    #n=n+1 # esta operación es fundamental, si no la incluimos el ciclo sería infinito...\n",
    "    print(n)\n",
    "    print('Python es maravilloso')\n",
    "```\n",
    "Si ejecutó estas instrucciones y su computador se quedó ejecutando entonces oprima [Ctrl]+[C] para cancelar la ejecución, si no el computador ejecutará la orden infinitamente."
   ]
  },
  {
   "cell_type": "markdown",
   "id": "0353623c-f499-4911-a963-709703e2767c",
   "metadata": {},
   "source": [
    "Python permite utilizar ordenes que pueden interrumpir los búcles:\n",
    "\n",
    "* **break**: Una sentencia de Python que termina inmediatamente un ciclo por completo. El programa procede a la primera instrucción que sigue después de `break`.\n",
    "* **continue**: Una sentencia de Python que termina inmediatamente una iteración del ciclo. El programa procede a la primera instrucción que sigue después de `break`."
   ]
  },
  {
   "cell_type": "markdown",
   "id": "d985fac9-776a-4503-8343-acd5c9ec1ce4",
   "metadata": {},
   "source": [
    "<div style=\"width: 100%;\"><div style=\"position: relative; padding-bottom: 116.67%; padding-top: 0; height: 0;\"><iframe frameborder=\"0\" width=\"600\" height=\"700\" style=\"position: absolute; top: 0; left: 0; width: 100%; height: 100%;\" src=\"https://view.genial.ly/6197bf60b2eaa20dad025cd1\" type=\"text/html\" allowscriptaccess=\"always\" allowfullscreen=\"true\" scrolling=\"yes\" allownetworking=\"all\"></iframe> </div> </div>"
   ]
  },
  {
   "cell_type": "markdown",
   "id": "46273748-627a-49f5-8140-075a3ff66a2c",
   "metadata": {},
   "source": [
    "Veamos un ejemplo:"
   ]
  },
  {
   "cell_type": "code",
   "execution_count": 2,
   "id": "6bcb992f-f5b9-4532-abfb-0d0e8135b457",
   "metadata": {},
   "outputs": [
    {
     "name": "stdout",
     "output_type": "stream",
     "text": [
      "1\n",
      "Bucle terminado.\n"
     ]
    }
   ],
   "source": [
    "n = 0\n",
    "while n < 5:\n",
    "    n += 1\n",
    "    if n == 2:\n",
    "        break     \n",
    "    print(n)\n",
    "print('Bucle terminado.')"
   ]
  },
  {
   "cell_type": "code",
   "execution_count": 3,
   "id": "52838aa2-d0bc-4525-b09d-f32c7416b2a6",
   "metadata": {},
   "outputs": [
    {
     "name": "stdout",
     "output_type": "stream",
     "text": [
      "1\n",
      "3\n",
      "4\n",
      "5\n",
      "Bucle terminado.\n"
     ]
    }
   ],
   "source": [
    "n = 0\n",
    "while n < 5:\n",
    "    n += 1\n",
    "    if n == 2:\n",
    "        continue     \n",
    "    print(n)\n",
    "print('Bucle terminado.')"
   ]
  },
  {
   "cell_type": "markdown",
   "id": "aef67c6a-7745-4cd4-bf6b-411d742bfe08",
   "metadata": {},
   "source": [
    "## Bucle `while:...  else:... `\n",
    "\n",
    "Esta es una propiedad caracterpística de Python, permite mostrar un resultado si y solo si un bucle termina. Si el bucle no pudo terminar no se mostrará:"
   ]
  },
  {
   "cell_type": "code",
   "execution_count": 4,
   "id": "c25de3c4-654f-40eb-a979-3892a01d1914",
   "metadata": {},
   "outputs": [
    {
     "name": "stdout",
     "output_type": "stream",
     "text": [
      "1\n",
      "2\n",
      "3\n",
      "4\n",
      "5\n",
      "Bucle terminado\n"
     ]
    }
   ],
   "source": [
    "n = 0\n",
    "while n<5:\n",
    "    n += 1\n",
    "    print(n)\n",
    "else:\n",
    "    print('Bucle terminado')\n"
   ]
  },
  {
   "cell_type": "code",
   "execution_count": 5,
   "id": "db002ed9-c930-4b06-8c46-86a28ff0a23e",
   "metadata": {},
   "outputs": [
    {
     "name": "stdout",
     "output_type": "stream",
     "text": [
      "1\n",
      "2\n",
      "3\n",
      "4\n",
      "Bucle roto\n",
      "Como no dice \"Bucle terminado\", el else no se ejecutó\n"
     ]
    }
   ],
   "source": [
    "n = 0\n",
    "while n<5:\n",
    "    n += 1\n",
    "    print(n)\n",
    "    if n==4:\n",
    "        print('Bucle roto')\n",
    "        break    \n",
    "else:\n",
    "    print('Bucle terminado')\n",
    "print('Como no dice \"Bucle terminado\", el else no se ejecutó')"
   ]
  },
  {
   "cell_type": "markdown",
   "id": "b3a8e3df-11a1-40c2-bf1a-821c61bf9ac0",
   "metadata": {},
   "source": [
    "Un ejemplo más interesante puede ser para buscar elementos en una lista:"
   ]
  },
  {
   "cell_type": "code",
   "execution_count": 6,
   "id": "7a209f76-fd32-4e39-905e-ac6261cc9006",
   "metadata": {},
   "outputs": [
    {
     "name": "stdout",
     "output_type": "stream",
     "text": [
      "Chocolate no fue encontrado en la lista.\n"
     ]
    }
   ],
   "source": [
    "FV = ['Papa', 'Limón', 'Cebolla', 'Arroz']\n",
    "s = 'Chocolate'\n",
    "\n",
    "i = 0\n",
    "while i < len(FV):\n",
    "    if FV[i] == s:\n",
    "        print(s, 'fue encontrado en la lista.')\n",
    "        break\n",
    "    i += 1\n",
    "else:\n",
    "    print(s, 'no fue encontrado en la lista.')"
   ]
  },
  {
   "cell_type": "code",
   "execution_count": 7,
   "id": "5a754420-1523-4586-9707-0ca49b3c3eeb",
   "metadata": {},
   "outputs": [
    {
     "name": "stdout",
     "output_type": "stream",
     "text": [
      "Chocolate fue encontrado en la lista.\n"
     ]
    }
   ],
   "source": [
    "FV = ['Papa', 'Limón', 'Cebolla', 'Arroz','Chocolate']\n",
    "s = 'Chocolate'\n",
    "\n",
    "i = 0\n",
    "while i < len(FV):\n",
    "    if FV[i] == s:\n",
    "        print(s, 'fue encontrado en la lista.')\n",
    "        break\n",
    "    i += 1\n",
    "else:\n",
    "    print(s, 'no fue encontrado en la lista.')\n",
    "    "
   ]
  },
  {
   "cell_type": "markdown",
   "id": "a247bff7-1dd9-4382-8091-c60e954c2f89",
   "metadata": {},
   "source": [
    "## Bucles anidados\n",
    "\n",
    "En general, las estructuras de control de Python se pueden anidar, es decir, poner unas dentro de otras. Por ejemplo:"
   ]
  },
  {
   "cell_type": "code",
   "execution_count": 8,
   "id": "64883b7d-7cba-4340-95fa-59ed7b1c25ef",
   "metadata": {},
   "outputs": [
    {
     "name": "stdout",
     "output_type": "stream",
     "text": [
      "Señor\n"
     ]
    }
   ],
   "source": [
    "su_edad=20\n",
    "genero='M'\n",
    "if su_edad < 10:\n",
    "    if genero == 'M':\n",
    "        print('Niño')\n",
    "    else:\n",
    "        print('Niña')\n",
    "elif su_edad >= 10 and su_edad < 18:\n",
    "    if genero == 'M':\n",
    "        print('chico')\n",
    "    else:\n",
    "        print('chica')\n",
    "else:\n",
    "    if genero == 'M':\n",
    "        print('Señor')\n",
    "    else:\n",
    "        print('Señora')"
   ]
  },
  {
   "cell_type": "markdown",
   "id": "6b4578f2-5b1b-4d71-addc-51e6ef19074b",
   "metadata": {},
   "source": [
    "En el caso de while podemos hacer algo muy parecido, por ejemplo:"
   ]
  },
  {
   "cell_type": "code",
   "execution_count": 9,
   "id": "a37ba0b0-3a5c-4c86-9ba0-2269a765074a",
   "metadata": {},
   "outputs": [
    {
     "name": "stdout",
     "output_type": "stream",
     "text": [
      "0 + 10 = 10\n",
      "0 + 9 = 9\n",
      "0 + 8 = 8\n",
      "0 + 7 = 7\n",
      "0 + 6 = 6\n",
      "1 + 10 = 11\n",
      "1 + 9 = 10\n",
      "1 + 8 = 9\n",
      "1 + 7 = 8\n",
      "1 + 6 = 7\n",
      "2 + 10 = 12\n",
      "2 + 9 = 11\n",
      "2 + 8 = 10\n",
      "2 + 7 = 9\n",
      "2 + 6 = 8\n",
      "3 + 10 = 13\n",
      "3 + 9 = 12\n",
      "3 + 8 = 11\n",
      "3 + 7 = 10\n",
      "3 + 6 = 9\n",
      "4 + 10 = 14\n",
      "4 + 9 = 13\n",
      "4 + 8 = 12\n",
      "4 + 7 = 11\n",
      "4 + 6 = 10\n"
     ]
    }
   ],
   "source": [
    "n=0\n",
    "while n<5: \n",
    "    m=10 #---> esto se ejecuta el primer while     \n",
    "    while  m>5:\n",
    "        print(n,'+',m,'=',n+m) #---> solo se ejecuta el segundo while \n",
    "        m-=1\n",
    "    n+=1  #---> esto se ejecuta el primer while "
   ]
  },
  {
   "cell_type": "markdown",
   "id": "a96fa693-a069-499b-97f5-fccf81cb737f",
   "metadata": {},
   "source": [
    "Podemos combinar `if` y  `while`"
   ]
  },
  {
   "cell_type": "code",
   "execution_count": 10,
   "id": "c51d0754-5673-402d-8a90-9a8b2d588c91",
   "metadata": {},
   "outputs": [
    {
     "name": "stdout",
     "output_type": "stream",
     "text": [
      "Tiene 8 años. Es una niña.\n",
      "Tiene 9 años. Es una niña.\n",
      "Tiene 10 años. Es una chica.\n",
      "Tiene 11 años. Es una chica.\n",
      "Tiene 12 años. Es una chica.\n",
      "Tiene 13 años. Es una chica.\n",
      "Tiene 14 años. Es una chica.\n",
      "Tiene 15 años. Es una chica.\n",
      "Tiene 16 años. Es una chica.\n",
      "Tiene 17 años. Es una chica.\n",
      "Tiene 18 años. Es una señora.\n",
      "Tiene 19 años. Es una señora.\n",
      "Tiene 20 años. Es una señora.\n",
      "Tiene 21 años. Es una señora.\n",
      "Tiene 22 años. Es una señora.\n",
      "Tiene 23 años. Es una señora.\n",
      "Tiene 24 años. Es una señora.\n"
     ]
    }
   ],
   "source": [
    "su_edad=8\n",
    "genero='F'\n",
    "while su_edad<25:\n",
    "    if su_edad < 10:\n",
    "        if genero == 'M':\n",
    "            print('Tiene',su_edad,'años. Es un niño.')\n",
    "        else:\n",
    "            print('Tiene',su_edad,'años. Es una niña.')\n",
    "    elif su_edad >= 10 and su_edad < 18:\n",
    "        if genero == 'M':\n",
    "            print('Tiene',su_edad,'años. Es un chico.')\n",
    "        else:\n",
    "            print('Tiene',su_edad,'años. Es una chica.')\n",
    "    else:\n",
    "        if genero == 'M':\n",
    "            print('Tiene',su_edad,'años. Es un señor.')\n",
    "        else:\n",
    "            print('Tiene',su_edad,'años. Es una señora.')\n",
    "    su_edad+=1"
   ]
  },
  {
   "cell_type": "markdown",
   "id": "51552f03-d5dc-4ddf-8fdb-762f0f7a353c",
   "metadata": {},
   "source": [
    "Como vemos, todas las estructuras de control de Python se pueden combinar en la medida que sea necesario. Esto hace que Python sea un lenguaje aclamdo, fácil y flexible. Usaremos muchos trucos de este estilo en diversos ejemplos."
   ]
  },
  {
   "cell_type": "markdown",
   "id": "ee0bb8d8-bdee-405b-ac45-aadaf082bb17",
   "metadata": {},
   "source": [
    "## Bucles de una línea\n",
    "\n",
    "Como `if` también puedo definir bucles de while en una sola línea:\n",
    "\n",
    "```Python\n",
    "while (condición): instrucción_1;instrucción_2\n",
    "```\n",
    "\n"
   ]
  },
  {
   "cell_type": "code",
   "execution_count": 11,
   "id": "ef19031d-5eb4-41fc-ae4a-6ffccfc1eea0",
   "metadata": {},
   "outputs": [
    {
     "name": "stdout",
     "output_type": "stream",
     "text": [
      "1\n",
      "2\n",
      "3\n",
      "4\n",
      "5\n"
     ]
    }
   ],
   "source": [
    "n=0\n",
    "while n<5:n+=1;print(n);"
   ]
  },
  {
   "cell_type": "markdown",
   "id": "2d4bbbdd-bd39-448d-88a7-ac03d2ee7542",
   "metadata": {},
   "source": [
    "Esto funciona solo para expresiones simples, si, por ejemplo, busamos anidar en una sola línea tendremos problemas. "
   ]
  },
  {
   "cell_type": "code",
   "execution_count": 12,
   "id": "5cb98cec-b8ff-4149-87e5-3ec952c75e9c",
   "metadata": {},
   "outputs": [
    {
     "ename": "SyntaxError",
     "evalue": "invalid syntax (2362488159.py, line 1)",
     "output_type": "error",
     "traceback": [
      "\u001b[0;36m  File \u001b[0;32m\"/tmp/ipykernel_6941/2362488159.py\"\u001b[0;36m, line \u001b[0;32m1\u001b[0m\n\u001b[0;31m    while n < 5: n -= 1; if True: print(n)\u001b[0m\n\u001b[0m                         ^\u001b[0m\n\u001b[0;31mSyntaxError\u001b[0m\u001b[0;31m:\u001b[0m invalid syntax\n"
     ]
    }
   ],
   "source": [
    "while n < 5: n -= 1; if True: print(n)"
   ]
  },
  {
   "cell_type": "markdown",
   "id": "5c73ce94-3275-46f7-8a32-72835a431740",
   "metadata": {},
   "source": [
    "## Cierre"
   ]
  },
  {
   "cell_type": "markdown",
   "id": "125299b0-6215-4f1d-925f-b673f755ac5a",
   "metadata": {},
   "source": [
    "Avanzamos en el mundo de la iteración utilizando while, nos enfrentamos a varios ejerciciocios que conforme vamos avanzando se vuelven más complejos. No dejes que la fuerza se termine, aún debemos hacer muchas cosas más."
   ]
  },
  {
   "cell_type": "markdown",
   "id": "f98c27c1-fa7c-483f-b374-8b8d23f1ac83",
   "metadata": {
    "tags": []
   },
   "source": [
    "## Ejercicio 1\n",
    "\n",
    "1. Utiliza un ciclo `while` para hallar el factorial de un número. Recuerda que el factorial de un número es el producto de todos los enteros positivos hasta él."
   ]
  },
  {
   "cell_type": "code",
   "execution_count": 15,
   "id": "32226f0f-c9bf-45b4-a21c-5f6f824bc430",
   "metadata": {},
   "outputs": [
    {
     "name": "stdout",
     "output_type": "stream",
     "text": [
      "3628800\n"
     ]
    }
   ],
   "source": [
    "n = 10\n",
    "i = 1\n",
    "factorial = 1\n",
    "while i<=n:\n",
    "    factorial = i*factorial\n",
    "    i = i+1 \n",
    "print(factorial)"
   ]
  },
  {
   "cell_type": "code",
   "execution_count": 17,
   "id": "95aee2ca-8c26-4115-b79c-8ed1b125b8f8",
   "metadata": {},
   "outputs": [
    {
     "name": "stdout",
     "output_type": "stream",
     "text": [
      "Los divisores de 100 son: 1 2 4 5 10 20 25 50 100 "
     ]
    }
   ],
   "source": [
    "n = 100\n",
    "i = 1\n",
    "print('Los divisores de {0:1d} son:'.format(n),end=' ')\n",
    "while i<=n:\n",
    "    if n%i==0:\n",
    "        print(i,end=' ')\n",
    "    i = i+1 "
   ]
  },
  {
   "cell_type": "markdown",
   "id": "e90cda3a-23a9-4b03-91f6-d177f5081476",
   "metadata": {},
   "source": [
    "## Ejercicio 2\n",
    "1. Elabora un código para determinar si un cierto número es primo o no."
   ]
  },
  {
   "cell_type": "markdown",
   "id": "ada93536-4092-437e-801d-9a59839a305b",
   "metadata": {},
   "source": [
    "una forma de aproximar la raíz cuadrada de un número $a$, es utilizando la aproximación \n",
    "\\begin{equation*}\n",
    "y=\\frac{x^2+a}{2x},\n",
    "\\end{equation*}\n",
    "siendo $x$ cualquier número positivo y $y$ la aproximación obtenida. Si se aplica la aproximación sobre el resultado inmediatamente anterior, se obtendrá una mejora notable, de modo que, emplearemos este hecho para aproximar raíces cuadradas:"
   ]
  },
  {
   "cell_type": "code",
   "execution_count": 26,
   "id": "2b74a424-a535-427f-b82f-73c8e1c6edf2",
   "metadata": {},
   "outputs": [
    {
     "name": "stdout",
     "output_type": "stream",
     "text": [
      "5.5\n",
      "3.659090909090909\n",
      "3.196005081874647\n",
      "3.1624556228038903\n",
      "3.1622776651756745\n"
     ]
    }
   ],
   "source": [
    "a = 10\n",
    "x = 1\n",
    "while abs(x**2-a)>0.001:\n",
    "    y = (x**2+a)/(2*x)\n",
    "    x = y\n",
    "    print(x)"
   ]
  }
 ],
 "metadata": {
  "kernelspec": {
   "display_name": "Python 3 (ipykernel)",
   "language": "python",
   "name": "python3"
  },
  "language_info": {
   "codemirror_mode": {
    "name": "ipython",
    "version": 3
   },
   "file_extension": ".py",
   "mimetype": "text/x-python",
   "name": "python",
   "nbconvert_exporter": "python",
   "pygments_lexer": "ipython3",
   "version": "3.9.5"
  }
 },
 "nbformat": 4,
 "nbformat_minor": 5
}