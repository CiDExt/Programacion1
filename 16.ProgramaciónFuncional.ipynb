{
 "cells": [
  {
   "cell_type": "markdown",
   "id": "95f9ba52-2884-4cc0-873b-7c886791e601",
   "metadata": {},
   "source": [
    "# Programación funcional"
   ]
  },
  {
   "cell_type": "markdown",
   "id": "3bc64f4b-602e-4708-b9b6-2f5ba7835a6c",
   "metadata": {},
   "source": [
    ":::::{important} ¿Cómo vamos?\n",
    "\n",
    "\n",
    "Hasta el momento debemos tener claro lo siguiente:\n",
    "\n",
    "\n",
    "````{tabbed} Funciones en Python\n",
    "\n",
    ":::{admonition} Recordemos...\n",
    ":class: tip\n",
    "Hemos logrado crear funciones en Python, así mismo estudiamos como documentarlas y las diferentes formas de definirlas según los argumentos que reciben.\n",
    ":::\n",
    "````\n",
    "\n",
    "\n",
    "````{tabbed} Variables\n",
    "\n",
    ":::{admonition} Recordemos...\n",
    ":class: tip\n",
    "Una variable en Python sirve para **guardar un valor específico**, ya sea **numérico**, **texto** u otro [**Tipo de Dato**](https://www.w3schools.com/python/python_datatypes.asp) con un nombre que nosotros escojamos. Debemos escribir una expresión de la forma:\n",
    "\n",
    "[Nombre de variable]=[Valor para guardar]\n",
    "\n",
    ":::\n",
    "````\n",
    ":::::"
   ]
  },
  {
   "cell_type": "markdown",
   "id": "5af1edad-f818-4cd6-af61-3707d77610c0",
   "metadata": {},
   "source": [
    "La **programación funcional** es un paradigma de programación en el que el método principal de cálculo es la evaluación de funciones. La programación funcional no es tan usada en Python, sin embargo, hay que conocerlo porque seguramente habrán situaciones en la que esa forma de trabajar puede mejorar la eficiencia algorítmica. "
   ]
  },
  {
   "cell_type": "markdown",
   "id": "275ffdd7-cb83-4054-9e4c-ea3d6a4305bf",
   "metadata": {},
   "source": [
    "En la programación funcional, cada programa consiste en la evaluación de funciones compuestas y el cálculo es libre de valores intermedios pues todo se contempla como entrada y salida de una función. En Python hay posibilidad de implementar este modelo de programación por dos razones:\n",
    "\n",
    "* Es posible tomar una función como argumento de otra y \n",
    "* es posible tener como salida una función.\n",
    "\n",
    "En gran medida esto es por una razón muy particular de Python: **¡Todo es objeto!**\n",
    "\n",
    "Es decir, las funciones están al nivel de las cadenas de caracteres y los números. En el siguiente ejemplo, se define una función y se estudia como una variable comun y corriente:\n",
    "\n",
    "\n",
    "\n",
    "\n"
   ]
  },
  {
   "cell_type": "code",
   "execution_count": 6,
   "id": "f2aed707-4922-432a-969b-9428d02a2e67",
   "metadata": {},
   "outputs": [],
   "source": [
    "def func(x):\n",
    "    return x*5\n",
    "\n",
    "otrafun=func"
   ]
  },
  {
   "cell_type": "code",
   "execution_count": 7,
   "id": "bcecb4d9-847b-4c93-b435-12aecab77007",
   "metadata": {},
   "outputs": [
    {
     "data": {
      "text/plain": [
       "100"
      ]
     },
     "execution_count": 7,
     "metadata": {},
     "output_type": "execute_result"
    }
   ],
   "source": [
    "otrafun(20)"
   ]
  },
  {
   "cell_type": "markdown",
   "id": "bfa22548-4c5f-496a-878c-2959b1d8fa28",
   "metadata": {},
   "source": [
    "Observa que:"
   ]
  },
  {
   "cell_type": "code",
   "execution_count": 8,
   "id": "6da61fa6-729e-4fee-b87b-6cc38431c071",
   "metadata": {},
   "outputs": [
    {
     "data": {
      "text/plain": [
       "139736025270448"
      ]
     },
     "execution_count": 8,
     "metadata": {},
     "output_type": "execute_result"
    }
   ],
   "source": [
    "id(func)"
   ]
  },
  {
   "cell_type": "code",
   "execution_count": 9,
   "id": "2bbbbd29-6613-4928-9fee-1596e7a39572",
   "metadata": {},
   "outputs": [
    {
     "data": {
      "text/plain": [
       "139736025270448"
      ]
     },
     "execution_count": 9,
     "metadata": {},
     "output_type": "execute_result"
    }
   ],
   "source": [
    "id(otrafun)"
   ]
  },
  {
   "cell_type": "markdown",
   "id": "076f2952-46d6-4bf8-811d-20598680bceb",
   "metadata": {},
   "source": [
    "Acabamos de ver que tiene un comportamiento de variable, hagamos un ejemplo más atrevido, incluiremosla función en una lista y la evaluaremos con la lista:"
   ]
  },
  {
   "cell_type": "code",
   "execution_count": 11,
   "id": "d62a04bd-39f3-4570-9921-2aacd36b80e6",
   "metadata": {},
   "outputs": [
    {
     "name": "stdout",
     "output_type": "stream",
     "text": [
      "[1, 2, <function func at 0x7f16d42608b0>]\n"
     ]
    }
   ],
   "source": [
    "Lista=[1,2,func]\n",
    "print(Lista)"
   ]
  },
  {
   "cell_type": "code",
   "execution_count": 12,
   "id": "098c4e14-451f-40ca-8c3c-f9614f88504f",
   "metadata": {},
   "outputs": [
    {
     "data": {
      "text/plain": [
       "50"
      ]
     },
     "execution_count": 12,
     "metadata": {},
     "output_type": "execute_result"
    }
   ],
   "source": [
    "Lista[2](10)"
   ]
  },
  {
   "cell_type": "markdown",
   "id": "a3c1fcad-db66-4a2a-ad6d-fa225fa379a7",
   "metadata": {},
   "source": [
    "La flexibilidad de la función permite que se evalúe una función como argumento de otra, veamos un ejemplo:"
   ]
  },
  {
   "cell_type": "code",
   "execution_count": 16,
   "id": "df1b29d6-9481-4445-84b5-db0998903f11",
   "metadata": {},
   "outputs": [],
   "source": [
    "def func(x):\n",
    "    return x*5\n",
    "\n",
    "def externa(funcion,x):\n",
    "    return funcion(x+52)    "
   ]
  },
  {
   "cell_type": "code",
   "execution_count": 17,
   "id": "d4b2a209-0463-4dfc-a965-403bf7994e32",
   "metadata": {},
   "outputs": [
    {
     "data": {
      "text/plain": [
       "310"
      ]
     },
     "execution_count": 17,
     "metadata": {},
     "output_type": "execute_result"
    }
   ],
   "source": [
    "externa(func,10)"
   ]
  },
  {
   "cell_type": "markdown",
   "id": "32d29824-faa0-49ea-8031-9636b6913f3a",
   "metadata": {},
   "source": [
    "***\n",
    ":::{note}\n",
    "Python permite usar decoradores para facilitar la sintáxis de esta composición de funciones, por ejemplo:\n",
    ":::"
   ]
  },
  {
   "cell_type": "code",
   "execution_count": 52,
   "id": "ceea5231-0d1c-45ac-a184-91f26cedfc5d",
   "metadata": {},
   "outputs": [
    {
     "name": "stdout",
     "output_type": "stream",
     "text": [
      "Something is happening before the function is called.\n",
      "310\n",
      "Something is happening after the function is called.\n"
     ]
    }
   ],
   "source": [
    "def decorador(x):\n",
    "    def wrapper(funcion):\n",
    "        print(\"Something is happening before the function is called.\")\n",
    "        funcion(x+52)\n",
    "        print(\"Something is happening after the function is called.\")\n",
    "    return wrapper\n",
    "\n",
    "@decorador(10)\n",
    "def func(x):\n",
    "    print(x*5)"
   ]
  },
  {
   "cell_type": "markdown",
   "id": "712cd950-1573-422d-a695-78efbf958a7d",
   "metadata": {},
   "source": [
    "Veámoslo con algo más sencillo:"
   ]
  },
  {
   "cell_type": "code",
   "execution_count": 38,
   "id": "7d6bf1eb-f234-48ff-a267-6286c7f5a8f3",
   "metadata": {},
   "outputs": [],
   "source": [
    "def my_decorator(func):\n",
    "    def wrapper():\n",
    "        print(\"Vamos a llamar a la función que dice !Viva la vida!\")\n",
    "        func()\n",
    "        print(\"Ya lo dijo.\")\n",
    "    return wrapper\n",
    "\n",
    "@my_decorator\n",
    "def vivalavida():\n",
    "    print(\"¡Viva la vida!\")"
   ]
  },
  {
   "cell_type": "code",
   "execution_count": 39,
   "id": "69b689a2-bab3-46ff-b970-5a1f54575375",
   "metadata": {},
   "outputs": [
    {
     "name": "stdout",
     "output_type": "stream",
     "text": [
      "Vamos a llamar a la función que dice !Viva la vida!\n",
      "¡Viva la vida!\n",
      "Ya lo dijo.\n"
     ]
    }
   ],
   "source": [
    "vivalavida()"
   ]
  },
  {
   "cell_type": "markdown",
   "id": "d2aa2eb9-e486-498c-945c-d9052a9d4f21",
   "metadata": {},
   "source": [
    "***"
   ]
  },
  {
   "cell_type": "markdown",
   "id": "bf92e483-bc54-4901-924a-b6c438cc16af",
   "metadata": {},
   "source": [
    "Los diferentes niveles de llamada de la función son importantes en la definición, tenemos por ejemplo:"
   ]
  },
  {
   "cell_type": "code",
   "execution_count": 55,
   "id": "63fafe06-3677-4ccc-b9fe-12db5c041874",
   "metadata": {},
   "outputs": [],
   "source": [
    "def funcion_1():\n",
    "    def funcion_2():\n",
    "        print('Hola, estoy metido en dos funciones')\n",
    "    return funcion_2 "
   ]
  },
  {
   "cell_type": "code",
   "execution_count": 57,
   "id": "73495250-6ec4-4687-90d6-937e3d98bb48",
   "metadata": {},
   "outputs": [],
   "source": [
    "otrafun=funcion_1()"
   ]
  },
  {
   "cell_type": "code",
   "execution_count": 58,
   "id": "857a9a61-2a91-46b7-b101-9ae06ac3b467",
   "metadata": {},
   "outputs": [
    {
     "name": "stdout",
     "output_type": "stream",
     "text": [
      "Hola, estoy metido en dos funciones\n"
     ]
    }
   ],
   "source": [
    "otrafun()"
   ]
  },
  {
   "cell_type": "code",
   "execution_count": 59,
   "id": "cbab585b-e0ca-4bdc-840c-f64598964257",
   "metadata": {},
   "outputs": [
    {
     "name": "stdout",
     "output_type": "stream",
     "text": [
      "Hola, estoy metido en dos funciones\n"
     ]
    }
   ],
   "source": [
    "funcion_1()()"
   ]
  },
  {
   "cell_type": "markdown",
   "id": "fc2b60d1-144d-432a-9906-500fb216b49f",
   "metadata": {},
   "source": [
    "Como se puede apreciar, para poder obtener el resultado tuvimos que poner dos paréntesis en la funcion_1."
   ]
  },
  {
   "cell_type": "markdown",
   "id": "d02c88a0-209d-4e49-a42b-023dee872f87",
   "metadata": {},
   "source": [
    "## Definición de funciones con *lambda*\n",
    "\n",
    "En Python podemos generar funciones rápidamente y de manera anónima, se trata de las expresiones lambda, una forma corta y concisa de declarar funciones en Python. Su sintáxis es la siguiente:\n",
    "\n",
    "```Python\n",
    "lambda argumentos: expresión\n",
    "\n",
    "```"
   ]
  },
  {
   "cell_type": "raw",
   "id": "4ae87bb0-d38f-4dc3-a2eb-8a411153b9a4",
   "metadata": {},
   "source": [
    "Por ejemplo, en la siguiente celda se evalúa, sin guardar, la función x+4 para x=2:"
   ]
  },
  {
   "cell_type": "code",
   "execution_count": 61,
   "id": "64246512-d633-469f-adae-ff9d302aab3e",
   "metadata": {},
   "outputs": [
    {
     "data": {
      "text/plain": [
       "6"
      ]
     },
     "execution_count": 61,
     "metadata": {},
     "output_type": "execute_result"
    }
   ],
   "source": [
    "(lambda x: x+4)(2)"
   ]
  },
  {
   "cell_type": "markdown",
   "id": "da73a0b0-33f2-445e-a4f5-5ce0ca9f72e5",
   "metadata": {},
   "source": [
    "Podriamos guardar la expresión lambda en una variable:"
   ]
  },
  {
   "cell_type": "code",
   "execution_count": 62,
   "id": "50cc4b9b-dffa-44c2-af82-9d62b48d46cf",
   "metadata": {},
   "outputs": [],
   "source": [
    "cuadrado= lambda x: x**2"
   ]
  },
  {
   "cell_type": "code",
   "execution_count": 63,
   "id": "4c17d67c-19c5-4ec9-95ad-f7fc07a2d1e8",
   "metadata": {},
   "outputs": [
    {
     "data": {
      "text/plain": [
       "100"
      ]
     },
     "execution_count": 63,
     "metadata": {},
     "output_type": "execute_result"
    }
   ],
   "source": [
    "cuadrado(10)"
   ]
  },
  {
   "cell_type": "markdown",
   "id": "801ffdda-361f-4c6e-9c54-120ab5ba10ac",
   "metadata": {},
   "source": [
    "Aprovechemos y miremos el tipo de dato que guarda una expresión lambda:"
   ]
  },
  {
   "cell_type": "code",
   "execution_count": 64,
   "id": "e348d5e6-93bb-47a3-9a03-73d8ee6ac874",
   "metadata": {},
   "outputs": [
    {
     "data": {
      "text/plain": [
       "function"
      ]
     },
     "execution_count": 64,
     "metadata": {},
     "output_type": "execute_result"
    }
   ],
   "source": [
    "type(cuadrado)"
   ]
  },
  {
   "cell_type": "markdown",
   "id": "76f7570b-e320-48ab-a7b0-70a4cc372a93",
   "metadata": {},
   "source": [
    "observe que pasa con la función definida de manera habitual:"
   ]
  },
  {
   "cell_type": "code",
   "execution_count": 66,
   "id": "050a1f06-2934-4c60-97b9-072dacd32767",
   "metadata": {},
   "outputs": [
    {
     "data": {
      "text/plain": [
       "function"
      ]
     },
     "execution_count": 66,
     "metadata": {},
     "output_type": "execute_result"
    }
   ],
   "source": [
    "def cuadrado(x):\n",
    "    return x**2\n",
    "type(cuadrado)"
   ]
  },
  {
   "cell_type": "markdown",
   "id": "97b63146-688d-48f7-b147-4821659bc130",
   "metadata": {},
   "source": [
    "La función lambda admite varios argumentos, por ejemplo:"
   ]
  },
  {
   "cell_type": "code",
   "execution_count": 67,
   "id": "a67e0b14-24fa-4502-bc62-0ec30a455aa5",
   "metadata": {},
   "outputs": [],
   "source": [
    "suma=lambda x,y: x+y"
   ]
  },
  {
   "cell_type": "code",
   "execution_count": 68,
   "id": "7977e80f-af37-4d73-bff3-44ce4d0fe021",
   "metadata": {},
   "outputs": [
    {
     "data": {
      "text/plain": [
       "8"
      ]
     },
     "execution_count": 68,
     "metadata": {},
     "output_type": "execute_result"
    }
   ],
   "source": [
    "suma(3,5)"
   ]
  },
  {
   "cell_type": "markdown",
   "id": "8d8e8855-6314-4973-9ff1-8e9cd2188337",
   "metadata": {},
   "source": [
    "Pero solo se deja una salida:"
   ]
  },
  {
   "cell_type": "code",
   "execution_count": 69,
   "id": "8d717972-021a-4baa-8a47-49143a3cefe0",
   "metadata": {},
   "outputs": [
    {
     "ename": "NameError",
     "evalue": "name 'x' is not defined",
     "output_type": "error",
     "traceback": [
      "\u001b[0;31m---------------------------------------------------------------------------\u001b[0m",
      "\u001b[0;31mNameError\u001b[0m                                 Traceback (most recent call last)",
      "\u001b[0;32m/tmp/ipykernel_41554/2828231163.py\u001b[0m in \u001b[0;36m<module>\u001b[0;34m\u001b[0m\n\u001b[0;32m----> 1\u001b[0;31m \u001b[0msuma_y_resta\u001b[0m\u001b[0;34m=\u001b[0m\u001b[0;32mlambda\u001b[0m \u001b[0mx\u001b[0m\u001b[0;34m,\u001b[0m\u001b[0my\u001b[0m\u001b[0;34m:\u001b[0m \u001b[0mx\u001b[0m\u001b[0;34m+\u001b[0m\u001b[0my\u001b[0m\u001b[0;34m,\u001b[0m\u001b[0mx\u001b[0m\u001b[0;34m-\u001b[0m\u001b[0my\u001b[0m\u001b[0;34m\u001b[0m\u001b[0;34m\u001b[0m\u001b[0m\n\u001b[0m",
      "\u001b[0;31mNameError\u001b[0m: name 'x' is not defined"
     ]
    }
   ],
   "source": [
    "suma_y_resta=lambda x,y: x+y,x-y"
   ]
  },
  {
   "cell_type": "markdown",
   "id": "579f9889-023b-42f4-8159-0ebf580ee428",
   "metadata": {},
   "source": [
    "El error es ocasionado porque no sale un solo elemento, podemos usar tuplas o listas para obtener varios datos:"
   ]
  },
  {
   "cell_type": "code",
   "execution_count": 70,
   "id": "86f813e1-02f3-47c0-a537-9b9dc927a266",
   "metadata": {},
   "outputs": [],
   "source": [
    "suma_y_resta=lambda x,y: (x+y,x-y)"
   ]
  },
  {
   "cell_type": "code",
   "execution_count": 71,
   "id": "921e28cb-fe88-45b9-aa70-d764dde875f2",
   "metadata": {},
   "outputs": [
    {
     "data": {
      "text/plain": [
       "(11, 5)"
      ]
     },
     "execution_count": 71,
     "metadata": {},
     "output_type": "execute_result"
    }
   ],
   "source": [
    "suma_y_resta(8,3)"
   ]
  },
  {
   "cell_type": "markdown",
   "id": "87dc53fc-190a-4a4d-914b-74767251d2c1",
   "metadata": {},
   "source": [
    "## Funciones especiales para aplicar funciones\n",
    "\n",
    "Para una adecuada implementación de un estilo funcional de programación, Python cuenta con tres métodos muy especiales que complementan muy bien este paradigma. Hablamos de `map()` y `filter()`. Veamos en detalle algunos ejemplos que nos pueden orientar en su practicidad:\n",
    "\n",
    "### `map()`\n",
    "\n",
    "La función `map()` es una función integrada de Python que aplica una función a cada elemento de un iterable. En el estiulo funcional se asemeja a una estructura de iteración y por lo tanto podría verse como un bucle declarado (vale la pena recordar esos dos tipos de programación: declarada e imperativa).\n",
    "\n",
    "La sintaxis de map es:\n",
    "\n",
    "```Python\n",
    "map(funcion,iterable)\n",
    "```\n",
    "\n"
   ]
  },
  {
   "cell_type": "code",
   "execution_count": 76,
   "id": "7c5772d8-cff1-418f-8fda-d6e2cbf712ce",
   "metadata": {},
   "outputs": [
    {
     "data": {
      "text/plain": [
       "<map at 0x7f16bd69ad90>"
      ]
     },
     "execution_count": 76,
     "metadata": {},
     "output_type": "execute_result"
    }
   ],
   "source": [
    "map(lambda x: x+'2','hola')"
   ]
  },
  {
   "cell_type": "markdown",
   "id": "c2508f31-779d-4189-8909-82ad5a540b45",
   "metadata": {},
   "source": [
    "El objeto que `map` guarda es un iterador, ya conocemos varias formas de verlo:\n"
   ]
  },
  {
   "cell_type": "code",
   "execution_count": 77,
   "id": "ba8549f0-3b7c-4e8d-ae15-f5ed06502ee0",
   "metadata": {},
   "outputs": [
    {
     "name": "stdout",
     "output_type": "stream",
     "text": [
      "h2\n",
      "o2\n",
      "l2\n",
      "a2\n"
     ]
    }
   ],
   "source": [
    "ejemplo=map(lambda x: x+'2','hola')\n",
    "for i in ejemplo:\n",
    "    print(i)"
   ]
  },
  {
   "cell_type": "code",
   "execution_count": 78,
   "id": "8026d750-dd47-4f29-bf3b-a98549a85357",
   "metadata": {},
   "outputs": [
    {
     "data": {
      "text/plain": [
       "['h2', 'o2', 'l2', 'a2']"
      ]
     },
     "execution_count": 78,
     "metadata": {},
     "output_type": "execute_result"
    }
   ],
   "source": [
    "ejemplo=map(lambda x: x+'2','hola')\n",
    "list(ejemplo)"
   ]
  },
  {
   "cell_type": "code",
   "execution_count": 80,
   "id": "373a9241-b015-41a2-be24-1b562eff6037",
   "metadata": {},
   "outputs": [
    {
     "data": {
      "text/plain": [
       "{'a2', 'h2', 'l2', 'o2'}"
      ]
     },
     "execution_count": 80,
     "metadata": {},
     "output_type": "execute_result"
    }
   ],
   "source": [
    "ejemplo=map(lambda x: x+'2','hola')\n",
    "set(ejemplo) ## No tan bueno"
   ]
  },
  {
   "cell_type": "markdown",
   "id": "0a5ff590-d333-4329-a36e-7de6925d7b36",
   "metadata": {},
   "source": [
    "Otro ejemplo bien interesante puede ser:"
   ]
  },
  {
   "cell_type": "code",
   "execution_count": 82,
   "id": "59da1716-cccb-407f-8411-963373f36325",
   "metadata": {},
   "outputs": [],
   "source": [
    "ejemplo2=map(lambda x: True if x**2 >= 5050 else False,range(100))"
   ]
  },
  {
   "cell_type": "markdown",
   "id": "143b8806-3f9c-4a31-b1e4-1dae19dd3deb",
   "metadata": {},
   "source": [
    "Recuerden usar `list` para ver el resultado:\n",
    "\n",
    "```Python\n",
    "list(ejemplo2)\n",
    "```"
   ]
  },
  {
   "cell_type": "markdown",
   "id": "86a645b5-becb-4289-b92a-aba03d7bcdb7",
   "metadata": {},
   "source": [
    "**map con varios iterables**\n",
    "\n",
    "`map()` admite varios iterables en sus argumentos, tenemos que:\n",
    "```Python\n",
    "map(funcion, iterable_1,iterable_2,...,iterable_n)\n",
    "```"
   ]
  },
  {
   "cell_type": "markdown",
   "id": "b38e7028-d964-4389-b2f2-014236d9a2e9",
   "metadata": {},
   "source": [
    "En este caso, la función admite $n$ variables y la longitud de la salida coincide con la de cada iterable. De hecho, usando notación matemática tenemos:\n",
    "\n",
    "$$map(f,[x_1,x_2,\\cdots, x_n],[y_1,y_2,\\cdots, y_n],[z_1,z_2,\\cdots, z_n])=[f(x_1,y_1,z_1),f(x_2,y_2,z_2),\\cdots,f(x_n,y_n,z_n)] $$"
   ]
  },
  {
   "cell_type": "code",
   "execution_count": 88,
   "id": "335075fa-f532-4894-92be-8cbe415c206b",
   "metadata": {},
   "outputs": [
    {
     "data": {
      "text/plain": [
       "['hac2', 'odh2', 'lia2', 'aoo2']"
      ]
     },
     "execution_count": 88,
     "metadata": {},
     "output_type": "execute_result"
    }
   ],
   "source": [
    "list(map(lambda x,y,z: x+y+z+'2','hola','adios','chao'))"
   ]
  },
  {
   "cell_type": "markdown",
   "id": "4eb73ecd-965d-4a42-95f1-c9c94313923e",
   "metadata": {},
   "source": [
    "Todos los iterables deben ser de la misma longitud, si no tendremos error:"
   ]
  },
  {
   "cell_type": "code",
   "execution_count": 87,
   "id": "52f8c11d-8eba-42a0-afa2-9faed012adf7",
   "metadata": {},
   "outputs": [
    {
     "ename": "TypeError",
     "evalue": "<lambda>() takes 3 positional arguments but 4 were given",
     "output_type": "error",
     "traceback": [
      "\u001b[0;31m---------------------------------------------------------------------------\u001b[0m",
      "\u001b[0;31mTypeError\u001b[0m                                 Traceback (most recent call last)",
      "\u001b[0;32m/tmp/ipykernel_41554/1713898509.py\u001b[0m in \u001b[0;36m<module>\u001b[0;34m\u001b[0m\n\u001b[0;32m----> 1\u001b[0;31m \u001b[0mlist\u001b[0m\u001b[0;34m(\u001b[0m\u001b[0mmap\u001b[0m\u001b[0;34m(\u001b[0m\u001b[0;32mlambda\u001b[0m \u001b[0mx\u001b[0m\u001b[0;34m,\u001b[0m\u001b[0my\u001b[0m\u001b[0;34m,\u001b[0m\u001b[0mz\u001b[0m\u001b[0;34m:\u001b[0m \u001b[0mx\u001b[0m\u001b[0;34m+\u001b[0m\u001b[0my\u001b[0m\u001b[0;34m+\u001b[0m\u001b[0mz\u001b[0m\u001b[0;34m+\u001b[0m\u001b[0;34m'2'\u001b[0m\u001b[0;34m,\u001b[0m\u001b[0;34m'hola'\u001b[0m\u001b[0;34m,\u001b[0m\u001b[0;34m'adios'\u001b[0m\u001b[0;34m,\u001b[0m\u001b[0;34m'chao'\u001b[0m\u001b[0;34m,\u001b[0m\u001b[0;34m'bye'\u001b[0m\u001b[0;34m)\u001b[0m\u001b[0;34m)\u001b[0m\u001b[0;34m\u001b[0m\u001b[0;34m\u001b[0m\u001b[0m\n\u001b[0m",
      "\u001b[0;31mTypeError\u001b[0m: <lambda>() takes 3 positional arguments but 4 were given"
     ]
    }
   ],
   "source": [
    "list(map(lambda x,y,z: x+y+z+'2','hola','adios','chao','bye'))"
   ]
  },
  {
   "cell_type": "markdown",
   "id": "057663f1-066d-4063-9e25-ddc2bc1bbca6",
   "metadata": {},
   "source": [
    "Otro ejemplo más aclarador:"
   ]
  },
  {
   "cell_type": "code",
   "execution_count": 89,
   "id": "ad64a649-f58a-4dd2-bc8d-3ee0208db645",
   "metadata": {},
   "outputs": [
    {
     "data": {
      "text/plain": [
       "['Aa1', 'Bb2', 'Cc3', 'Dd4', 'Ee5']"
      ]
     },
     "execution_count": 89,
     "metadata": {},
     "output_type": "execute_result"
    }
   ],
   "source": [
    "list(map(lambda x,y,z: x+y+z,'ABCDE','abcde','12345'))"
   ]
  },
  {
   "cell_type": "markdown",
   "id": "3bdc58ca-dc91-49e3-af67-fb3d49d07ba8",
   "metadata": {},
   "source": [
    "### `filter()`\n",
    "\n",
    "La función `filter()` permite seleccionar elementos de un iterable según la función dada, por ejemplo:"
   ]
  },
  {
   "cell_type": "code",
   "execution_count": 93,
   "id": "34dd19bc-a6cd-45b1-992f-39acbbfa2008",
   "metadata": {},
   "outputs": [
    {
     "data": {
      "text/plain": [
       "<filter at 0x7f16bda43790>"
      ]
     },
     "execution_count": 93,
     "metadata": {},
     "output_type": "execute_result"
    }
   ],
   "source": [
    "filter(lambda x:x if x!='a' else '','armadura')"
   ]
  },
  {
   "cell_type": "markdown",
   "id": "eb74d2ea-2b50-45d7-82df-4277556860ce",
   "metadata": {},
   "source": [
    "Lo convertimos en lista:"
   ]
  },
  {
   "cell_type": "code",
   "execution_count": 94,
   "id": "2d877312-1d56-47d7-b73c-12e389e63166",
   "metadata": {},
   "outputs": [
    {
     "data": {
      "text/plain": [
       "['r', 'm', 'd', 'u', 'r']"
      ]
     },
     "execution_count": 94,
     "metadata": {},
     "output_type": "execute_result"
    }
   ],
   "source": [
    "list(filter(lambda x:x if x!='a' else '','armadura'))"
   ]
  },
  {
   "cell_type": "markdown",
   "id": "0c12ca29-592c-40c4-a0cb-697460d02256",
   "metadata": {},
   "source": [
    "Por ejemplo podemos extraer los pares de la lista de los primeros 30 enteros positivos:"
   ]
  },
  {
   "cell_type": "code",
   "execution_count": 98,
   "id": "fb3cfdce-8ba4-48bb-b76c-b37f6dfd3e9b",
   "metadata": {},
   "outputs": [],
   "source": [
    "def es_par(x):\n",
    "    return x%2==0"
   ]
  },
  {
   "cell_type": "code",
   "execution_count": 99,
   "id": "c30c2b28-820d-4863-892b-ebc4a8872c0c",
   "metadata": {},
   "outputs": [
    {
     "data": {
      "text/plain": [
       "[2, 4, 6, 8, 10, 12, 14, 16, 18, 20, 22, 24, 26, 28, 30]"
      ]
     },
     "execution_count": 99,
     "metadata": {},
     "output_type": "execute_result"
    }
   ],
   "source": [
    "list(filter(es_par,range(1,31)))"
   ]
  },
  {
   "cell_type": "markdown",
   "id": "627e1b74-e1a4-4ce0-ab8a-6c441ba4140b",
   "metadata": {},
   "source": [
    "Es una función muy util, combina el poder de un bucle con un condicional. Resulta bastante útil para diferentes probemas de selección.\n"
   ]
  },
  {
   "cell_type": "markdown",
   "id": "c37da884-f92c-420a-b399-c04830f347be",
   "metadata": {},
   "source": [
    "## Cierre\n",
    "\n",
    "En esta sección exploramos conceptos elementales de la programación funcional, es evidente su diferencia con la programación estructurada que conociamos y posiblemente habrán muchos algoritmos que para nuestra formación inicial no se puedan llevar a cabo con este estilo de programación. NO obstante, la potencia de poder aplicar funciones y de crear algoritmos en este sentido se utiliza bastante en el análisis de tablas de datos, de hecho, siguiendo los lineamientos de este estilo es más fácil paralelizar la computación y el valor final de las ejecuciones es más transparente que lo que se obtiene por la programación estructurada.\n"
   ]
  }
 ],
 "metadata": {
  "kernelspec": {
   "display_name": "Python 3 (ipykernel)",
   "language": "python",
   "name": "python3"
  },
  "language_info": {
   "codemirror_mode": {
    "name": "ipython",
    "version": 3
   },
   "file_extension": ".py",
   "mimetype": "text/x-python",
   "name": "python",
   "nbconvert_exporter": "python",
   "pygments_lexer": "ipython3",
   "version": "3.9.5"
  }
 },
 "nbformat": 4,
 "nbformat_minor": 5
}
