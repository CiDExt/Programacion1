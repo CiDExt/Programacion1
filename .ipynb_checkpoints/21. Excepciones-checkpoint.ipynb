{
 "cells": [
  {
   "cell_type": "markdown",
   "id": "bfbeb357-a088-449a-8485-1cd69c715476",
   "metadata": {},
   "source": [
    "## Excepciones"
   ]
  },
  {
   "cell_type": "markdown",
   "id": "8c01f046-a92b-437b-9c08-5ea7538bb9c8",
   "metadata": {},
   "source": [
    ":::::{important} ¿Qué aprenderemos?\n",
    "\n",
    "\n",
    "Excepciones y errores\n",
    "\n",
    "````{tabbed} Excepciones \n",
    "\n",
    ":::{admonition} ¿Qué son?\n",
    ":class: tip\n",
    "Cada vez que Python se encuentra con un error este puede ser un error sintáctico o una excepción. Veremos como lidiar con las excepciones y grarantizar que Python continue sus ejecuciones a pesar de encontrar este tipo de problemas.\n",
    ":::\n",
    "````\n",
    "\n",
    ":::::"
   ]
  },
  {
   "cell_type": "markdown",
   "id": "94db0f8a-4ee8-41c7-b734-4fdf240a8d31",
   "metadata": {},
   "source": [
    "Como lo comentamos a inicio del curso hay varios tipos de errores, pero estos errores se engloban en dos grandes grupos:\n",
    "\n",
    "* Errorers sintácticos\n",
    "* Errores de excepción\n",
    "\n",
    "En el caso del **error sintáctico**, Python intenta mostrar donde se encuentra esa falla sintáctica:"
   ]
  },
  {
   "cell_type": "code",
   "execution_count": 1,
   "id": "e3f18a07-653b-4707-a6a9-5b4db1c157c5",
   "metadata": {},
   "outputs": [
    {
     "ename": "SyntaxError",
     "evalue": "EOL while scanning string literal (2365776858.py, line 1)",
     "output_type": "error",
     "traceback": [
      "\u001b[0;36m  File \u001b[0;32m\"/tmp/ipykernel_25301/2365776858.py\"\u001b[0;36m, line \u001b[0;32m1\u001b[0m\n\u001b[0;31m    print('Hola Mundo)\u001b[0m\n\u001b[0m                      ^\u001b[0m\n\u001b[0;31mSyntaxError\u001b[0m\u001b[0;31m:\u001b[0m EOL while scanning string literal\n"
     ]
    }
   ],
   "source": [
    "print('Hola Mundo)"
   ]
  },
  {
   "cell_type": "markdown",
   "id": "e8e838d5-30b7-42ac-b8df-314c6ade9fab",
   "metadata": {},
   "source": [
    "Observe la flecha mostrando que hace falta. Otro ejemplo es:"
   ]
  },
  {
   "cell_type": "code",
   "execution_count": 4,
   "id": "3f5d93d5-54ce-4da4-867f-c5ebb3abd863",
   "metadata": {},
   "outputs": [
    {
     "ename": "IndentationError",
     "evalue": "expected an indented block (3980477174.py, line 2)",
     "output_type": "error",
     "traceback": [
      "\u001b[0;36m  File \u001b[0;32m\"/tmp/ipykernel_25301/3980477174.py\"\u001b[0;36m, line \u001b[0;32m2\u001b[0m\n\u001b[0;31m    print('hola')\u001b[0m\n\u001b[0m    ^\u001b[0m\n\u001b[0;31mIndentationError\u001b[0m\u001b[0;31m:\u001b[0m expected an indented block\n"
     ]
    }
   ],
   "source": [
    "if 1==1:\n",
    "print('hola')"
   ]
  },
  {
   "cell_type": "markdown",
   "id": "3d42a4eb-ac9c-43c9-8367-85b29ca6cbc9",
   "metadata": {},
   "source": [
    "En el casdo de **excepciones** nos referimos a errores que provienen de una sintáxis correcta pero el resultado en sí es un error. Generalmente, la última línea indica como fue ese error:"
   ]
  },
  {
   "cell_type": "code",
   "execution_count": 5,
   "id": "35ee80bd-22ad-4cca-9762-5aee017cb3eb",
   "metadata": {},
   "outputs": [
    {
     "ename": "ZeroDivisionError",
     "evalue": "division by zero",
     "output_type": "error",
     "traceback": [
      "\u001b[0;31m---------------------------------------------------------------------------\u001b[0m",
      "\u001b[0;31mZeroDivisionError\u001b[0m                         Traceback (most recent call last)",
      "\u001b[0;32m/tmp/ipykernel_25301/1152173066.py\u001b[0m in \u001b[0;36m<module>\u001b[0;34m\u001b[0m\n\u001b[0;32m----> 1\u001b[0;31m \u001b[0mprint\u001b[0m\u001b[0;34m(\u001b[0m\u001b[0;36m5\u001b[0m\u001b[0;34m/\u001b[0m\u001b[0;36m0\u001b[0m\u001b[0;34m)\u001b[0m\u001b[0;34m\u001b[0m\u001b[0;34m\u001b[0m\u001b[0m\n\u001b[0m",
      "\u001b[0;31mZeroDivisionError\u001b[0m: division by zero"
     ]
    }
   ],
   "source": [
    "print(5/0)"
   ]
  },
  {
   "cell_type": "code",
   "execution_count": 6,
   "id": "11830df7-802d-4c4f-bd62-0a28829e4219",
   "metadata": {},
   "outputs": [
    {
     "ename": "NameError",
     "evalue": "name 'x' is not defined",
     "output_type": "error",
     "traceback": [
      "\u001b[0;31m---------------------------------------------------------------------------\u001b[0m",
      "\u001b[0;31mNameError\u001b[0m                                 Traceback (most recent call last)",
      "\u001b[0;32m/tmp/ipykernel_25301/1353120783.py\u001b[0m in \u001b[0;36m<module>\u001b[0;34m\u001b[0m\n\u001b[0;32m----> 1\u001b[0;31m \u001b[0mprint\u001b[0m\u001b[0;34m(\u001b[0m\u001b[0mx\u001b[0m\u001b[0;34m)\u001b[0m\u001b[0;34m\u001b[0m\u001b[0;34m\u001b[0m\u001b[0m\n\u001b[0m",
      "\u001b[0;31mNameError\u001b[0m: name 'x' is not defined"
     ]
    }
   ],
   "source": [
    "print(x)"
   ]
  },
  {
   "cell_type": "markdown",
   "id": "c3b9a343-41af-4058-a755-9e93e4b46571",
   "metadata": {},
   "source": [
    "Una lista de las excepciones incorpopradas en Python se puede encontrar [aquí: https://docs.python.org/es/3/library/exceptions.html](https://docs.python.org/es/3/library/exceptions.html) \n",
    "\n",
    "Revisemos esa lista e identifiquemos algunas de las más comunes."
   ]
  },
  {
   "cell_type": "markdown",
   "id": "193f36c6-c798-4fee-9194-c3f282413da4",
   "metadata": {},
   "source": [
    "## Nuestras propias excepciones\n",
    "\n",
    "Si en la mitad de nuestro algoritmo algo que no queremos que ocurra pasa, podemos plantear una excepción con raise, veamos:"
   ]
  },
  {
   "cell_type": "code",
   "execution_count": 7,
   "id": "f5e2ce7f-e3fc-4e5e-8fbf-1ab8f192ea92",
   "metadata": {},
   "outputs": [
    {
     "ename": "Exception",
     "evalue": "La nota debe ser mayor a 3.0 para los chicos pilos...",
     "output_type": "error",
     "traceback": [
      "\u001b[0;31m---------------------------------------------------------------------------\u001b[0m",
      "\u001b[0;31mException\u001b[0m                                 Traceback (most recent call last)",
      "\u001b[0;32m/tmp/ipykernel_25301/3946800556.py\u001b[0m in \u001b[0;36m<module>\u001b[0;34m\u001b[0m\n\u001b[1;32m      2\u001b[0m \u001b[0;34m\u001b[0m\u001b[0m\n\u001b[1;32m      3\u001b[0m \u001b[0;32mif\u001b[0m \u001b[0mNota\u001b[0m \u001b[0;34m<\u001b[0m\u001b[0;36m3\u001b[0m\u001b[0;34m:\u001b[0m\u001b[0;34m\u001b[0m\u001b[0;34m\u001b[0m\u001b[0m\n\u001b[0;32m----> 4\u001b[0;31m     \u001b[0;32mraise\u001b[0m \u001b[0mException\u001b[0m\u001b[0;34m(\u001b[0m\u001b[0;34m'La nota debe ser mayor a 3.0 para los chicos pilos...'\u001b[0m\u001b[0;34m)\u001b[0m\u001b[0;34m\u001b[0m\u001b[0;34m\u001b[0m\u001b[0m\n\u001b[0m",
      "\u001b[0;31mException\u001b[0m: La nota debe ser mayor a 3.0 para los chicos pilos..."
     ]
    }
   ],
   "source": [
    "Nota=2.5\n",
    "\n",
    "if Nota <3:\n",
    "    raise Exception('La nota debe ser mayor a 3.0 para los chicos pilos...')\n"
   ]
  },
  {
   "cell_type": "markdown",
   "id": "103a3197-f328-4fb9-8f0c-f16f035b6c86",
   "metadata": {},
   "source": [
    "Python detuvo la ejecución y mostró la (d)excepción por tener una nota menor a 3."
   ]
  },
  {
   "cell_type": "markdown",
   "id": "e0427163-2e83-4a0b-a8d2-8891146333a3",
   "metadata": {},
   "source": [
    "Los mensajes en pantalla también se puede mostrar para condiciones que se satisfacen. Usamos assert y verifica si las condiciones se cumplen:"
   ]
  },
  {
   "cell_type": "code",
   "execution_count": 9,
   "id": "212b2a0f-5c66-47c5-b928-e9d68296b440",
   "metadata": {},
   "outputs": [],
   "source": [
    "Nota=3.5\n",
    "assert (Nota > 3), \"Falta Nota\""
   ]
  },
  {
   "cell_type": "markdown",
   "id": "290f383d-61f4-4ef7-9296-30d15e6caa75",
   "metadata": {},
   "source": [
    "No paso nada porque cumplimos las condiciones, pero si:"
   ]
  },
  {
   "cell_type": "code",
   "execution_count": 10,
   "id": "1ab41016-3ead-482e-ad19-63c5982521f9",
   "metadata": {},
   "outputs": [
    {
     "ename": "AssertionError",
     "evalue": "Falta Nota",
     "output_type": "error",
     "traceback": [
      "\u001b[0;31m---------------------------------------------------------------------------\u001b[0m",
      "\u001b[0;31mAssertionError\u001b[0m                            Traceback (most recent call last)",
      "\u001b[0;32m/tmp/ipykernel_25301/3656861006.py\u001b[0m in \u001b[0;36m<module>\u001b[0;34m\u001b[0m\n\u001b[1;32m      1\u001b[0m \u001b[0mNota\u001b[0m\u001b[0;34m=\u001b[0m\u001b[0;36m2.5\u001b[0m\u001b[0;34m\u001b[0m\u001b[0;34m\u001b[0m\u001b[0m\n\u001b[0;32m----> 2\u001b[0;31m \u001b[0;32massert\u001b[0m \u001b[0;34m(\u001b[0m\u001b[0mNota\u001b[0m \u001b[0;34m>\u001b[0m \u001b[0;36m3\u001b[0m\u001b[0;34m)\u001b[0m\u001b[0;34m,\u001b[0m \u001b[0;34m\"Falta Nota\"\u001b[0m\u001b[0;34m\u001b[0m\u001b[0;34m\u001b[0m\u001b[0m\n\u001b[0m",
      "\u001b[0;31mAssertionError\u001b[0m: Falta Nota"
     ]
    }
   ],
   "source": [
    "Nota=2.5\n",
    "assert (Nota > 3), \"Falta Nota\""
   ]
  },
  {
   "cell_type": "markdown",
   "id": "43dc7860-411f-4c3b-859d-8570348fe96b",
   "metadata": {},
   "source": [
    "## Manejo de excepciones\n",
    "\n",
    "En python podemos usar el bloque `try` -> `except` que después de detectar una excepción sigue unas condiciones para realizar en vez de frenar el cálculo. Python ejecuta código siguiendo la declaración `try` y si encuentra un problema ejecutará las instruccione de  `except`:"
   ]
  },
  {
   "cell_type": "code",
   "execution_count": 13,
   "id": "5c569a04-719a-4806-92d9-a7eaa981e5a8",
   "metadata": {},
   "outputs": [
    {
     "name": "stdout",
     "output_type": "stream",
     "text": [
      "El inverso de 3 es 0.3333333333333333\n",
      "¡Uy! la lista tierne ceros\n",
      "El inverso de 5 es 0.2\n",
      "El inverso de 6 es 0.16666666666666666\n",
      "¡Uy! la lista tierne ceros\n",
      "El inverso de 1 es 1.0\n",
      "El inverso de 2 es 0.5\n"
     ]
    }
   ],
   "source": [
    "Lista=[3,0,5,6,0,1,2]\n",
    "for i in Lista:\n",
    "    try:\n",
    "        print('El inverso de',i,'es',1/i)\n",
    "    except:\n",
    "        print('¡Uy! la lista tierne ceros')"
   ]
  },
  {
   "cell_type": "markdown",
   "id": "3919d0f9-6f17-47a3-92d9-411921de37b3",
   "metadata": {},
   "source": [
    "Observe que sin el bloque `try` -> `except` tendriamos problemas en la ejecución del código:"
   ]
  },
  {
   "cell_type": "code",
   "execution_count": 12,
   "id": "1ea8bb6b-d179-4548-9540-6c5512535eb2",
   "metadata": {},
   "outputs": [
    {
     "name": "stdout",
     "output_type": "stream",
     "text": [
      "El inverso de 3 es 0.3333333333333333\n"
     ]
    },
    {
     "ename": "ZeroDivisionError",
     "evalue": "division by zero",
     "output_type": "error",
     "traceback": [
      "\u001b[0;31m---------------------------------------------------------------------------\u001b[0m",
      "\u001b[0;31mZeroDivisionError\u001b[0m                         Traceback (most recent call last)",
      "\u001b[0;32m/tmp/ipykernel_25301/663013805.py\u001b[0m in \u001b[0;36m<module>\u001b[0;34m\u001b[0m\n\u001b[1;32m      1\u001b[0m \u001b[0mLista\u001b[0m\u001b[0;34m=\u001b[0m\u001b[0;34m[\u001b[0m\u001b[0;36m3\u001b[0m\u001b[0;34m,\u001b[0m\u001b[0;36m0\u001b[0m\u001b[0;34m,\u001b[0m\u001b[0;36m5\u001b[0m\u001b[0;34m,\u001b[0m\u001b[0;36m6\u001b[0m\u001b[0;34m,\u001b[0m\u001b[0;36m0\u001b[0m\u001b[0;34m,\u001b[0m\u001b[0;36m1\u001b[0m\u001b[0;34m,\u001b[0m\u001b[0;36m2\u001b[0m\u001b[0;34m]\u001b[0m\u001b[0;34m\u001b[0m\u001b[0;34m\u001b[0m\u001b[0m\n\u001b[1;32m      2\u001b[0m \u001b[0;32mfor\u001b[0m \u001b[0mi\u001b[0m \u001b[0;32min\u001b[0m \u001b[0mLista\u001b[0m\u001b[0;34m:\u001b[0m\u001b[0;34m\u001b[0m\u001b[0;34m\u001b[0m\u001b[0m\n\u001b[0;32m----> 3\u001b[0;31m     \u001b[0mprint\u001b[0m\u001b[0;34m(\u001b[0m\u001b[0;34m'El inverso de'\u001b[0m\u001b[0;34m,\u001b[0m\u001b[0mi\u001b[0m\u001b[0;34m,\u001b[0m\u001b[0;34m'es'\u001b[0m\u001b[0;34m,\u001b[0m\u001b[0;36m1\u001b[0m\u001b[0;34m/\u001b[0m\u001b[0mi\u001b[0m\u001b[0;34m)\u001b[0m\u001b[0;34m\u001b[0m\u001b[0;34m\u001b[0m\u001b[0m\n\u001b[0m\u001b[1;32m      4\u001b[0m \u001b[0;34m\u001b[0m\u001b[0m\n",
      "\u001b[0;31mZeroDivisionError\u001b[0m: division by zero"
     ]
    }
   ],
   "source": [
    "Lista=[3,0,5,6,0,1,2]\n",
    "for i in Lista:\n",
    "    print('El inverso de',i,'es',1/i)\n",
    "    "
   ]
  },
  {
   "cell_type": "markdown",
   "id": "b0827ae8-1769-47aa-876a-821dd60d56a8",
   "metadata": {},
   "source": [
    "Pues al encontrar excepciones Python suspende la ejecución."
   ]
  },
  {
   "cell_type": "markdown",
   "id": "5375ab1c-4c3a-4e9f-9570-d8067acac2a8",
   "metadata": {},
   "source": [
    "<div style=\"width: 100%;\"><div style=\"position: relative; padding-bottom: 56.25%; padding-top: 0; height: 0;\"><iframe frameborder=\"0\" width=\"1200\" height=\"675\" style=\"position: absolute; top: 0; left: 0; width: 100%; height: 100%;\" src=\"https://view.genial.ly/61b017dc9395c70d8715984a\" type=\"text/html\" allowscriptaccess=\"always\" allowfullscreen=\"true\" scrolling=\"yes\" allownetworking=\"all\"></iframe> </div> </div>"
   ]
  },
  {
   "cell_type": "markdown",
   "id": "6db4449a-c055-4e93-9a02-60c5a8874298",
   "metadata": {
    "tags": []
   },
   "source": [
    "##  Clausula else\n",
    "\n",
    "En caso de no encontrar excepciones, podemos indicarle a Python que siga unas instrucciones usando `else`:\n",
    "\n",
    "<div style=\"width: 100%;\"><div style=\"position: relative; padding-bottom: 56.25%; padding-top: 0; height: 0;\"><iframe frameborder=\"0\" width=\"1200\" height=\"675\" style=\"position: absolute; top: 0; left: 0; width: 100%; height: 100%;\" src=\"https://view.genial.ly/61b018c689c14a0d7e792a31\" type=\"text/html\" allowscriptaccess=\"always\" allowfullscreen=\"true\" scrolling=\"yes\" allownetworking=\"all\"></iframe> </div> </div>"
   ]
  },
  {
   "cell_type": "markdown",
   "id": "c7561200-5fb8-425f-98dd-1187f4c50873",
   "metadata": {},
   "source": [
    "Veamos un ejemplo:"
   ]
  },
  {
   "cell_type": "code",
   "execution_count": 16,
   "id": "508e86f5-2488-425b-875f-9038ef728b57",
   "metadata": {},
   "outputs": [
    {
     "name": "stdout",
     "output_type": "stream",
     "text": [
      "El inverso de 3 es 0.3333333333333333\n",
      "¡Uy! la lista tierne ceros\n"
     ]
    }
   ],
   "source": [
    "Lista=[3,0,5,6,0,1,2]\n",
    "try:\n",
    "    for i in Lista:\n",
    "        print('El inverso de',i,'es',1/i)\n",
    "except:\n",
    "        print('¡Uy! la lista tierne ceros')\n",
    "else:\n",
    "        print('Este ejercicio se logró')"
   ]
  },
  {
   "cell_type": "markdown",
   "id": "f6dd16d0-5a35-4ef9-a167-cbda81ef327d",
   "metadata": {},
   "source": [
    "Tenga cuidado porque aquí cambiamos el orden de los bloques según el ejemplo anterior. ¿Cómo cambió?"
   ]
  },
  {
   "cell_type": "code",
   "execution_count": 18,
   "id": "e7338aa8-49bb-4480-8632-59578259c76b",
   "metadata": {},
   "outputs": [
    {
     "name": "stdout",
     "output_type": "stream",
     "text": [
      "El inverso de 3 es 0.3333333333333333\n",
      "El inverso de 5 es 0.2\n",
      "El inverso de 6 es 0.16666666666666666\n",
      "El inverso de 1 es 1.0\n",
      "El inverso de 2 es 0.5\n",
      "Este ejercicio se logró porque es una lista sincera\n"
     ]
    }
   ],
   "source": [
    "Lista=[3,5,6,1,2]\n",
    "try:\n",
    "    for i in Lista:\n",
    "        print('El inverso de',i,'es',1/i)\n",
    "except:\n",
    "        print('¡Uy! la lista tierne ceros')\n",
    "else:\n",
    "        print('Este ejercicio se logró porque es una lista sincera')"
   ]
  },
  {
   "cell_type": "markdown",
   "id": "9e2f05f6-24e9-4f70-8d8f-f82297e50dc0",
   "metadata": {},
   "source": [
    "## Clausula finally\n",
    "\n",
    "Finalmente la clausula finally, el código en este bloque simempre se corre, con excepciones o no:"
   ]
  },
  {
   "cell_type": "markdown",
   "id": "9658a5b3-2c4b-4fbc-bae5-9b11f12be555",
   "metadata": {},
   "source": [
    "<div style=\"width: 100%;\"><div style=\"position: relative; padding-bottom: 83.33%; padding-top: 0; height: 0;\"><iframe frameborder=\"0\" width=\"1200\" height=\"1000\" style=\"position: absolute; top: 0; left: 0; width: 100%; height: 100%;\" src=\"https://view.genial.ly/61b01a2fdf3d3b0d55e83bcd\" type=\"text/html\" allowscriptaccess=\"always\" allowfullscreen=\"true\" scrolling=\"yes\" allownetworking=\"all\"></iframe> </div> </div>"
   ]
  },
  {
   "cell_type": "markdown",
   "id": "5b6bc7b7-736e-4be7-ad5c-74cab1448d11",
   "metadata": {},
   "source": [
    "Veamos un ejemplo:"
   ]
  },
  {
   "cell_type": "code",
   "execution_count": 19,
   "id": "636ab6c3-6646-4890-bc7a-cc97397cb02e",
   "metadata": {},
   "outputs": [
    {
     "name": "stdout",
     "output_type": "stream",
     "text": [
      "El inverso de 3 es 0.3333333333333333\n",
      "El inverso de 5 es 0.2\n",
      "El inverso de 6 es 0.16666666666666666\n",
      "El inverso de 1 es 1.0\n",
      "El inverso de 2 es 0.5\n",
      "Este ejercicio se logró porque es una lista sincera\n",
      "Este ejercicio terminó\n"
     ]
    }
   ],
   "source": [
    "Lista=[3,5,6,1,2]\n",
    "try:\n",
    "    for i in Lista:\n",
    "        print('El inverso de',i,'es',1/i)\n",
    "except:\n",
    "        print('¡Uy! la lista tierne ceros')\n",
    "else:\n",
    "        print('Este ejercicio se logró porque es una lista sincera')\n",
    "finally:\n",
    "    print('Este ejercicio terminó')"
   ]
  },
  {
   "cell_type": "code",
   "execution_count": 20,
   "id": "f1b00272-b718-4539-8a26-bba48a35f3d9",
   "metadata": {},
   "outputs": [
    {
     "name": "stdout",
     "output_type": "stream",
     "text": [
      "El inverso de 3 es 0.3333333333333333\n",
      "¡Uy! la lista tierne ceros\n",
      "Este ejercicio terminó\n"
     ]
    }
   ],
   "source": [
    "Lista=[3,0,5,0,6,1,2]\n",
    "try:\n",
    "    for i in Lista:\n",
    "        print('El inverso de',i,'es',1/i)\n",
    "except:\n",
    "        print('¡Uy! la lista tierne ceros')\n",
    "else:\n",
    "        print('Este ejercicio se logró porque es una lista sincera')\n",
    "finally:\n",
    "    print('Este ejercicio terminó')"
   ]
  },
  {
   "cell_type": "markdown",
   "id": "2f21f9d8-3020-4459-99e7-693869957a8e",
   "metadata": {},
   "source": [
    "## Cierre\n",
    "\n",
    "Manejar excepciones resulta muy útil cuando no dependemos o no nos fiamos de los datos que utilizamos. Por ejemplo, si estamos leyendo páginmas en internet usando un raspador web, seguramente habrán momentos en que la conexión sufra, en este caso podemos establecer que hacer en ese momento y mantener el código corriendo mientras se recupera la conexión."
   ]
  }
 ],
 "metadata": {
  "kernelspec": {
   "display_name": "Python 3 (ipykernel)",
   "language": "python",
   "name": "python3"
  },
  "language_info": {
   "codemirror_mode": {
    "name": "ipython",
    "version": 3
   },
   "file_extension": ".py",
   "mimetype": "text/x-python",
   "name": "python",
   "nbconvert_exporter": "python",
   "pygments_lexer": "ipython3",
   "version": "3.9.5"
  }
 },
 "nbformat": 4,
 "nbformat_minor": 5
}
