{
 "cells": [
  {
   "cell_type": "markdown",
   "metadata": {},
   "source": [
    "# Controlador de versiones\n",
    "\n",
    "La generación de código es un que hacer bastante complicado, no solo por la dificultad de los algoritmos que debemos emplear en algunas soluciones o la complejidad de los los mismos,  sino porque también nos enfrentamos a la posibilidad de utilizar varias soluciones y debemos decidir cuál podría ser la mejor. En ese sentido, nuestro propio código se convierte en un laboratorio de pruebas y errores, que sin el cuidado adecuado puede destrozarse completamente solo cambiando la versión de un paquete o desconfigurando e inutilizando algún script o archivo vital en nuestro código. Desearemos muchas veces poder regresar el tiempo y gracias a los software de control de versiones de alguna manera lo podremos hacer.\n",
    "\n",
    "Un sistema de control de versiones (VCS) es un software que ayuda a gestionar los diferentes cambios que se hacen sobre un código fuente. Aunque tenemos varias herramientas que permiten realizar esta tarea: Git, BitKeeper, CVS, SourceSafe, Subversion, entre otros; en este curso usaremos Git, diseñado por [Linus Torvalds](https://es.wikipedia.org/wiki/Linus_Torvalds) en 2005 con el fin de mantener aplicaciones con muchos archivos en su código fuente. Fue publicado bajo licencia de software libre  GPLv2 de GNU.\n"
   ]
  },
  {
   "cell_type": "markdown",
   "metadata": {
    "tags": []
   },
   "source": [
    "## Git \n",
    "\n",
    "[![Linus](https://upload.wikimedia.org/wikipedia/commons/thumb/0/01/LinuxCon_Europe_Linus_Torvalds_03_%28cropped%29.jpg/220px-LinuxCon_Europe_Linus_Torvalds_03_%28cropped%29.jpg)](https://es.wikipedia.org/wiki/Linus_Torvalds)\n",
    "\n",
    "***Tomado de: Wikipedia***\n",
    "\n",
    "\n",
    "Más allá de tener un control de versiones, la idea fundamental detrás de Git es que, a pesar de que hay un repositorio central del proyecto, cada programador del equipo descarga una copia local (Sistema de control de versiones distribuido) permitiendo trabajar desde su propio dispositivo. Los cambios en el proyecto son fácilmente intercambiables entre los demás integrantes del proyecto y cuando la versión de ese archivo esté lista se puede subir al repositorio. Identificamos tres zonas de trabajo en git:\n",
    "\n",
    "![Zonas](images/gitzones.png)\n"
   ]
  },
  {
   "cell_type": "code",
   "execution_count": null,
   "metadata": {},
   "outputs": [],
   "source": []
  }
 ],
 "metadata": {
  "kernelspec": {
   "display_name": "Python 3",
   "language": "python",
   "name": "python3"
  },
  "language_info": {
   "codemirror_mode": {
    "name": "ipython",
    "version": 3
   },
   "file_extension": ".py",
   "mimetype": "text/x-python",
   "name": "python",
   "nbconvert_exporter": "python",
   "pygments_lexer": "ipython3",
   "version": "3.9.5"
  },
  "widgets": {
   "application/vnd.jupyter.widget-state+json": {
    "state": {},
    "version_major": 2,
    "version_minor": 0
   }
  }
 },
 "nbformat": 4,
 "nbformat_minor": 4
}
