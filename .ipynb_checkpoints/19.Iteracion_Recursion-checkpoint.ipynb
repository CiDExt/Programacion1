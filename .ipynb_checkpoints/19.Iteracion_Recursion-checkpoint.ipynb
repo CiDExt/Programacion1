{
 "cells": [
  {
   "cell_type": "markdown",
   "id": "8885939b-94e5-48d9-a4bc-0cde07301e3f",
   "metadata": {},
   "source": [
    "# Iteración y Recursión\n",
    "\n",
    ":::::{important} ¿Cómo vamos?\n",
    "\n",
    "\n",
    "Hasta el momento debemos tener claro lo siguiente:\n",
    "\n",
    "\n",
    "````{tabbed} Programación estructurada\n",
    "\n",
    ":::{admonition} Recordemos...\n",
    ":class: tip\n",
    "Un **paradigma de programación** indica las guías y métodos de realizar cálculos y la manera en que se deben estructurar y organizar las tareas que debe llevar a cabo un programa. Se asocian a cierto estilo de programación y al modelo de computación (operaciones permitidas) admitido en nuestro sistema.\n",
    ":::\n",
    "````\n",
    "\n",
    "\n",
    "````{tabbed} Secuencias en Python\n",
    "\n",
    ":::{admonition} Recordemos...\n",
    ":class: tip\n",
    "Una variable en Python sirve para **guardar un valor específico**, ya sea **numérico**, **texto** u otro [**Tipo de Dato**](https://www.w3schools.com/python/python_datatypes.asp) con un nombre que nosotros escojamos. Debemos escribir una expresión de la forma:\n",
    "\n",
    "[Nombre de variable]=[Valor para guardar]\n",
    "\n",
    ":::\n",
    "````\n",
    ":::::"
   ]
  }
 ],
 "metadata": {
  "kernelspec": {
   "display_name": "Python 3 (ipykernel)",
   "language": "python",
   "name": "python3"
  },
  "language_info": {
   "codemirror_mode": {
    "name": "ipython",
    "version": 3
   },
   "file_extension": ".py",
   "mimetype": "text/x-python",
   "name": "python",
   "nbconvert_exporter": "python",
   "pygments_lexer": "ipython3",
   "version": "3.9.5"
  }
 },
 "nbformat": 4,
 "nbformat_minor": 5
}
