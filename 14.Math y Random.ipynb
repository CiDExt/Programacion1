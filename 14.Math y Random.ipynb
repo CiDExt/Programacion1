{
 "cells": [
  {
   "cell_type": "markdown",
   "id": "a28ee25f",
   "metadata": {},
   "source": [
    "# Math y Random - introducción"
   ]
  },
  {
   "cell_type": "markdown",
   "id": "fc33c48b-d1a5-434c-a920-29dd68990644",
   "metadata": {},
   "source": [
    ":::::{important} ¿Qué debemos tener presente?\n",
    "\n",
    "\n",
    "Módulos y paquetes\n",
    "\n",
    "\n",
    "````{tabbed} Módulos\n",
    "\n",
    ":::{admonition} ¿Qué es?\n",
    ":class: tip\n",
    "Un módulo, es un archivo de Python cuyos objetos (funciones, clases y demás) pueden ser accedidos desde otro archivo.  \n",
    "Son una gran herramienta para organizar grandes códigos.\n",
    ":::\n",
    "````\n",
    "\n",
    "````{tabbed} Paquetes\n",
    "\n",
    ":::{admonition} ¿Qué son?\n",
    ":class: tip \n",
    "Son carpetas las cuales contienen varios módulos.\n",
    ":::\n",
    "````\n",
    "\n",
    ":::::"
   ]
  },
  {
   "cell_type": "markdown",
   "id": "b9d3b081",
   "metadata": {},
   "source": [
    "## Paquete  Math\n",
    "En muchos de los cálculos que debemos realizar, requerimos emplear funciones matemáticas y para ello debemos emplear el paquete `math`, primero lo importaremos:\n",
    "```python\n",
    "import math\n",
    "```"
   ]
  },
  {
   "cell_type": "markdown",
   "id": "3064966f",
   "metadata": {},
   "source": [
    "Una vez el paquete ha sido importado, podremos hacer uso de sus constantes y funciones. Algunas de las más relevantes son:\n",
    "<img src=\"https://github.com/CiDExt/Programacion1/blob/master/images/math1.png?raw=true\"  width=600 >\n",
    "<img src=\"https://github.com/CiDExt/Programacion1/blob/master/images/math2.png?raw=true\"  width=600 >\n",
    "<img src=\"https://github.com/CiDExt/Programacion1/blob/master/images/math3.png?raw=true\"  width=600 >\n",
    "<img src=\"https://github.com/CiDExt/Programacion1/blob/master/images/math4.png?raw=true\"  width=600 >\n"
   ]
  },
  {
   "cell_type": "markdown",
   "id": "b095ae71",
   "metadata": {},
   "source": [
    "## Paquete Random"
   ]
  },
  {
   "cell_type": "markdown",
   "id": "d3778882",
   "metadata": {},
   "source": [
    "En algunos de nuestros ejemplos hemos visto la forma de crear listas de números \"aleatorios\", ha llegado el momento de entender la forma de hacerlo:"
   ]
  },
  {
   "cell_type": "code",
   "execution_count": 1,
   "id": "422ceeb4",
   "metadata": {},
   "outputs": [],
   "source": [
    "import random"
   ]
  },
  {
   "cell_type": "markdown",
   "id": "22b8366c",
   "metadata": {},
   "source": [
    "La primera función que vamos a conocer es  `seed`, ésta permite crear una semilla, la cual permite que el experimento que se realice o el código que se ejecute sea reproducible, es decir, sin importar la máquina, el día ni la hora, se obtenga los mismos resultados."
   ]
  },
  {
   "cell_type": "code",
   "execution_count": 2,
   "id": "a8282b84",
   "metadata": {},
   "outputs": [
    {
     "data": {
      "text/plain": [
       "3"
      ]
     },
     "execution_count": 2,
     "metadata": {},
     "output_type": "execute_result"
    }
   ],
   "source": [
    "random.seed(a='hola')\n",
    "random.randrange(0, 10)"
   ]
  },
  {
   "cell_type": "code",
   "execution_count": 3,
   "id": "0c15cdd6",
   "metadata": {},
   "outputs": [
    {
     "data": {
      "text/plain": [
       "6"
      ]
     },
     "execution_count": 3,
     "metadata": {},
     "output_type": "execute_result"
    }
   ],
   "source": [
    "random.seed(a=4.3)\n",
    "random.randrange(0, 10)"
   ]
  },
  {
   "cell_type": "code",
   "execution_count": 4,
   "id": "2fecef25",
   "metadata": {},
   "outputs": [
    {
     "data": {
      "text/plain": [
       "8"
      ]
     },
     "execution_count": 4,
     "metadata": {},
     "output_type": "execute_result"
    }
   ],
   "source": [
    "random.seed(a='hola',version=1)\n",
    "random.randrange(0, 10)"
   ]
  },
  {
   "cell_type": "code",
   "execution_count": 5,
   "id": "3153cbc4",
   "metadata": {},
   "outputs": [
    {
     "data": {
      "text/plain": [
       "6"
      ]
     },
     "execution_count": 5,
     "metadata": {},
     "output_type": "execute_result"
    }
   ],
   "source": [
    "random.seed(a=4.3,version=1)\n",
    "random.randrange(0, 10)"
   ]
  },
  {
   "cell_type": "markdown",
   "id": "07a54834",
   "metadata": {},
   "source": [
    "La sintáxis de la función es la siguiente:\n",
    "```python\n",
    "random.seed(a = \"valor de la semilla\", version = n)\n",
    "```\n",
    "El valor de la semilla puede ser un objeto `int`, `float`, `bytes`, `bytearray` y `str`, mientras que la versión puede ser 1 o 2; la versión 1 es compatible con versiones anteriores de Python y no genera el mismo rango de valores para las semillas `str` y `bytes`, como pudimos ver con los ejemplos anteriores.\n",
    "\n",
    "La siguiente función a tener en cuenta, es la función `randrange` la cual nos permitirá elegir un valor en un determinado rango de valores e incluso permite incluir la separación entre las elecciones, la manera de emlearla es la siguiente:\n",
    "```python\n",
    "random.randrange(inicio, fin+1, salto)\n",
    "```\n",
    "Los valores inicial y final deben ser números enteros.\n",
    "\n",
    "### Ejercicio\n",
    "1. Crea una lista de 20 valores aleatorios desde el 20 hasta 49 cuyos elementos estén separados 3 unidades, entre sí.\n",
    "2. La diferencia en los resultados obtenidos al ejecutar el código en dos bloques diferentes y todo el código en un único bloque a qué se debe"
   ]
  },
  {
   "cell_type": "code",
   "execution_count": null,
   "id": "84f53cc6",
   "metadata": {
    "tags": []
   },
   "outputs": [],
   "source": [
    "import time\n",
    "lista1 = []\n",
    "random.seed(a=time.time())\n",
    "for i in range(10):\n",
    "    lista1.append(random.randrange(0, 10))    "
   ]
  },
  {
   "cell_type": "code",
   "execution_count": null,
   "id": "cc4edcf6",
   "metadata": {
    "tags": []
   },
   "outputs": [],
   "source": [
    "lista2 = []\n",
    "random.seed(a=time.time())\n",
    "for i in range(10):\n",
    "    lista2.append(random.randrange(0, 10))  \n",
    "print(lista1,lista2)"
   ]
  },
  {
   "cell_type": "code",
   "execution_count": null,
   "id": "825e9a38",
   "metadata": {},
   "outputs": [],
   "source": [
    "import time\n",
    "lista1 = []\n",
    "random.seed(a=time.time())\n",
    "for i in range(10):\n",
    "    lista1.append(random.randrange(0, 10))    \n",
    "lista2 = []\n",
    "random.seed(a=time.time())\n",
    "for i in range(10):\n",
    "    lista2.append(random.randrange(0, 10))  \n",
    "print(lista1,lista2)"
   ]
  },
  {
   "cell_type": "markdown",
   "id": "1e3fb0c1",
   "metadata": {},
   "source": [
    "Una función que permite elegir un número entero de manera aleatoria de en un intervalo dado es: `randint`. Los argumentos de ésta función son los extremos del intervalo, los cuales deben ser números enteros, en el cual estamos pensando elegir nuestro número aleatorio. Su sintáxis es la siguiente:\n",
    "```python\n",
    "random.randint(extremo_inferior,extremo_superior)\n",
    "```"
   ]
  },
  {
   "cell_type": "code",
   "execution_count": 6,
   "id": "2696ba45",
   "metadata": {},
   "outputs": [
    {
     "data": {
      "text/plain": [
       "1"
      ]
     },
     "execution_count": 6,
     "metadata": {},
     "output_type": "execute_result"
    }
   ],
   "source": [
    "random.randint(0,5)"
   ]
  },
  {
   "cell_type": "markdown",
   "id": "bba02a02",
   "metadata": {},
   "source": [
    "En ocasiones necesitaremos extraer un valor aleatorio de una lista que hallamos creado, para ello emplearemos la función `choice`: "
   ]
  },
  {
   "cell_type": "code",
   "execution_count": 7,
   "id": "7c7f59ec",
   "metadata": {},
   "outputs": [
    {
     "data": {
      "text/plain": [
       "1"
      ]
     },
     "execution_count": 7,
     "metadata": {},
     "output_type": "execute_result"
    }
   ],
   "source": [
    "random.choice(['cero',1,2,3.14,'cuatro'])"
   ]
  },
  {
   "cell_type": "markdown",
   "id": "4cf2ca22",
   "metadata": {},
   "source": [
    "Ésta función tiene un único argumento, el cual es la lista de la cual deseamos extraer el valor al azar:\n",
    "```python\n",
    "random.choice(lista)\n",
    "```"
   ]
  },
  {
   "cell_type": "markdown",
   "id": "5f76a244",
   "metadata": {},
   "source": [
    "### Ejercicio\n",
    "1. Modifica el siguiente código para que las dos elecciones siempre sean iguales."
   ]
  },
  {
   "cell_type": "code",
   "execution_count": null,
   "id": "6d95d34a",
   "metadata": {},
   "outputs": [],
   "source": [
    "random.seed(a=1)\n",
    "p = random.choice(lista1)\n",
    "q = random.choice(lista2)\n",
    "print(p,q)"
   ]
  },
  {
   "cell_type": "markdown",
   "id": "ec5fea00",
   "metadata": {},
   "source": [
    "No siempre necesitamos generar valores enteros, en oportunidades requerimos crear listas de números flotantes, tarea para la que usaremos la función `uniform`, ésta nos permite generar un número aleatorio de coma flotante entre los números mencionados en sus argumentos; el límite inferior se incluye y el superior no. "
   ]
  },
  {
   "cell_type": "code",
   "execution_count": 8,
   "id": "e36399a8",
   "metadata": {},
   "outputs": [
    {
     "data": {
      "text/plain": [
       "3.487379978556407"
      ]
     },
     "execution_count": 8,
     "metadata": {},
     "output_type": "execute_result"
    }
   ],
   "source": [
    "random.uniform(0,5)"
   ]
  },
  {
   "cell_type": "markdown",
   "id": "4f0690b3-1da5-4572-a335-050405c64bff",
   "metadata": {},
   "source": [
    "# Cierre\n",
    "En python existen una variedad inmensa de paquetes, cada uno con sus funciones específicas, En el cuaderno abordamos dos paquetes que nos servirán en el futuro, pero cabe mencionar que existen otros como `NumPy`, `SymPy` y `Matplotlib` que abordaremos más adelante."
   ]
  },
  {
   "cell_type": "code",
   "execution_count": null,
   "id": "2adc2c22-e943-4961-898d-eb840e36a7d8",
   "metadata": {},
   "outputs": [],
   "source": []
  }
 ],
 "metadata": {
  "kernelspec": {
   "display_name": "Python 3",
   "language": "python",
   "name": "python3"
  },
  "language_info": {
   "codemirror_mode": {
    "name": "ipython",
    "version": 3
   },
   "file_extension": ".py",
   "mimetype": "text/x-python",
   "name": "python",
   "nbconvert_exporter": "python",
   "pygments_lexer": "ipython3",
   "version": "3.8.8"
  },
  "latex_envs": {
   "LaTeX_envs_menu_present": true,
   "autoclose": false,
   "autocomplete": true,
   "bibliofile": "biblio.bib",
   "cite_by": "apalike",
   "current_citInitial": 1,
   "eqLabelWithNumbers": true,
   "eqNumInitial": 1,
   "hotkeys": {
    "equation": "Ctrl-E",
    "itemize": "Ctrl-I"
   },
   "labels_anchors": false,
   "latex_user_defs": false,
   "report_style_numbering": false,
   "user_envs_cfg": false
  },
  "toc": {
   "base_numbering": 1,
   "nav_menu": {},
   "number_sections": true,
   "sideBar": true,
   "skip_h1_title": false,
   "title_cell": "Table of Contents",
   "title_sidebar": "Contents",
   "toc_cell": false,
   "toc_position": {},
   "toc_section_display": true,
   "toc_window_display": false
  }
 },
 "nbformat": 4,
 "nbformat_minor": 5
}
