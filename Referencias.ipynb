{
 "cells": [
  {
   "cell_type": "markdown",
   "metadata": {
    "id": "y12eXACAvw0w"
   },
   "source": [
    "# Referencias (Apuntadores):\n",
    "En Python, el usuario relaciona las variables y su contenido mediante una referencia, la cual es a la dirección en la cual se encuentra alojado dicho objeto en la memoria del computador, esto en otros lenguajes se conoce como apuntador. Por ejemplo, en una asignación como la siguiente: `x = 1`, `x` no contiene el valor 1, pero sí información de un objeto en la memoria, en el cual se se encuentra alojado tal valor. En otras palabras, podríamos afirmar que `x` \"apunta\" o \"se refiere\" a un objeto en el cual se halla alojado el 1.\n",
    "\n",
    "Algo que debemos tener claro es que dos objetos diferentes no pueden estar alojados en la misma dirección, es decir, cada objeto tiene una única dirección en la memoria. No nos es posible acceder a la dirección de los objetos, pero podemos acceder al identificador único que ellos poseen, mediante la función `id(x)`, así:"
   ]
  },
  {
   "cell_type": "code",
   "execution_count": null,
   "metadata": {
    "id": "oztBuZNX3Wj-"
   },
   "outputs": [],
   "source": [
    "x = 1"
   ]
  },
  {
   "cell_type": "code",
   "execution_count": null,
   "metadata": {
    "colab": {
     "base_uri": "https://localhost:8080/"
    },
    "id": "mmohdmMc3Yxy",
    "outputId": "331866dc-4833-444c-bbd8-72c21757fb9a"
   },
   "outputs": [
    {
     "data": {
      "text/plain": [
       "94364952447488"
      ]
     },
     "execution_count": 2,
     "metadata": {},
     "output_type": "execute_result"
    }
   ],
   "source": [
    "id(x)"
   ]
  },
  {
   "cell_type": "markdown",
   "metadata": {
    "id": "lcqYY8x63lrL"
   },
   "source": [
    "Muy probablemente, este número entero que obtuvimos, conocido como la **identidad** del objeto, sea diferente en cada máquina y en cada oportunidad que reiniciemos el kernel. El siguiente es un ejempo muy claro en el cual podremos ver que la identidad de cada objeto es única:"
   ]
  },
  {
   "cell_type": "code",
   "execution_count": null,
   "metadata": {
    "id": "G8HYB5Am6g1P"
   },
   "outputs": [],
   "source": [
    "def cuadrado(x):\n",
    "  print('El valor es:',x,'su identidad es:',id(x))\n",
    "  print('Su cuadrado es:',x**2,'y su identidad es:',id(x**2))\n",
    "  return x**2"
   ]
  },
  {
   "cell_type": "code",
   "execution_count": null,
   "metadata": {
    "colab": {
     "base_uri": "https://localhost:8080/"
    },
    "id": "84R6jVWwA51I",
    "outputId": "b6ef787d-c7cc-46b2-9146-e7f430e0d8cd"
   },
   "outputs": [
    {
     "name": "stdout",
     "output_type": "stream",
     "text": [
      "El valor es: 1 su identidad es: 94364952447488\n",
      "Su cuadrado es: 1 y su identidad es: 94364952447488\n"
     ]
    },
    {
     "data": {
      "text/plain": [
       "1"
      ]
     },
     "execution_count": 12,
     "metadata": {},
     "output_type": "execute_result"
    }
   ],
   "source": [
    "cuadrado(1)"
   ]
  },
  {
   "cell_type": "code",
   "execution_count": null,
   "metadata": {
    "colab": {
     "base_uri": "https://localhost:8080/"
    },
    "id": "aUQAiR3dA9e3",
    "outputId": "4d90c872-d8b0-46b2-b015-4361db918fa9"
   },
   "outputs": [
    {
     "name": "stdout",
     "output_type": "stream",
     "text": [
      "El valor es: 1 su identidad es: 94364952447488\n",
      "Su cuadrado es: 1 y su identidad es: 94364952447488\n"
     ]
    },
    {
     "data": {
      "text/plain": [
       "1"
      ]
     },
     "execution_count": 13,
     "metadata": {},
     "output_type": "execute_result"
    }
   ],
   "source": [
    "cuadrado(x)"
   ]
  },
  {
   "cell_type": "markdown",
   "metadata": {
    "id": "Fv9hXDzFBQpI"
   },
   "source": [
    "Notemos que la función `cuadrado` regresa el mismo valor de identidad para 1, su cuadrado, $x$ y su cuadrado, ya que en ambos casos hablamos del mismo objeto, mientras que para el siguiente caso el valor de la identidad del parámetro y de su cuadrado cambian:  "
   ]
  },
  {
   "cell_type": "code",
   "execution_count": null,
   "metadata": {
    "colab": {
     "base_uri": "https://localhost:8080/"
    },
    "id": "45UaJ3bv3eXy",
    "outputId": "3825b6ce-ce3f-412c-e764-69bba42e29ed"
   },
   "outputs": [
    {
     "name": "stdout",
     "output_type": "stream",
     "text": [
      "El valor es: 2 su identidad es: 94364952447520\n",
      "Su cuadrado es: 4 y su identidad es: 94364952447584\n"
     ]
    },
    {
     "data": {
      "text/plain": [
       "4"
      ]
     },
     "execution_count": 14,
     "metadata": {},
     "output_type": "execute_result"
    }
   ],
   "source": [
    "cuadrado(2)"
   ]
  },
  {
   "cell_type": "markdown",
   "metadata": {
    "id": "3nLQlht_FjWA"
   },
   "source": [
    "Para comprobar que dos elementos tienen la misma identidad empleamos la función `is`, así:"
   ]
  },
  {
   "cell_type": "code",
   "execution_count": null,
   "metadata": {
    "colab": {
     "base_uri": "https://localhost:8080/"
    },
    "id": "f3JOuXrJ5tYQ",
    "outputId": "ce154616-2321-445d-eabb-9d3616de591e"
   },
   "outputs": [
    {
     "data": {
      "text/plain": [
       "True"
      ]
     },
     "execution_count": 15,
     "metadata": {},
     "output_type": "execute_result"
    }
   ],
   "source": [
    "x is 1"
   ]
  },
  {
   "cell_type": "code",
   "execution_count": null,
   "metadata": {
    "colab": {
     "base_uri": "https://localhost:8080/"
    },
    "id": "x3CEd5--E200",
    "outputId": "8c942548-2506-48c3-f324-61f4878fe814"
   },
   "outputs": [
    {
     "data": {
      "text/plain": [
       "True"
      ]
     },
     "execution_count": 16,
     "metadata": {},
     "output_type": "execute_result"
    }
   ],
   "source": [
    "2 is x+1"
   ]
  },
  {
   "cell_type": "markdown",
   "metadata": {
    "id": "jboNPbFnIK4R"
   },
   "source": [
    "Notemos que, la función puede recibir la referencia a un objeto inmutable o inmodificable, y por más cálculos que se hagan sobre dicho objeto, éste no se podrá afectar, por ejemplo: "
   ]
  },
  {
   "cell_type": "code",
   "execution_count": null,
   "metadata": {
    "id": "reLQbF6lHuaf"
   },
   "outputs": [],
   "source": [
    "y = 2"
   ]
  },
  {
   "cell_type": "code",
   "execution_count": null,
   "metadata": {
    "id": "uk0X5CSvE74C"
   },
   "outputs": [],
   "source": [
    "def cuadrado(x):\n",
    "  print('El valor es:',x,'su identidad es:',id(x))\n",
    "  x = x**2\n",
    "  print('Su cuadrado es:',x,'y su identidad es:',id(x))\n",
    "  return y"
   ]
  },
  {
   "cell_type": "code",
   "execution_count": null,
   "metadata": {
    "colab": {
     "base_uri": "https://localhost:8080/"
    },
    "id": "-JPEu6MBHxit",
    "outputId": "4927026a-1145-415e-f6cd-d006cf83101d"
   },
   "outputs": [
    {
     "name": "stdout",
     "output_type": "stream",
     "text": [
      "El valor es: 2 su identidad es: 94364952447520\n",
      "Su cuadrado es: 4 y su identidad es: 94364952447584\n"
     ]
    },
    {
     "data": {
      "text/plain": [
       "2"
      ]
     },
     "execution_count": 22,
     "metadata": {},
     "output_type": "execute_result"
    }
   ],
   "source": [
    "cuadrado(y)"
   ]
  },
  {
   "cell_type": "code",
   "execution_count": null,
   "metadata": {
    "colab": {
     "base_uri": "https://localhost:8080/"
    },
    "id": "VnruOetYH654",
    "outputId": "c952c632-8277-4370-b2d3-9c0f6cf4ed9b"
   },
   "outputs": [
    {
     "data": {
      "text/plain": [
       "2"
      ]
     },
     "execution_count": 23,
     "metadata": {},
     "output_type": "execute_result"
    }
   ],
   "source": [
    "y"
   ]
  },
  {
   "cell_type": "markdown",
   "metadata": {
    "id": "nhfZUy80LHNS"
   },
   "source": [
    "Cabe resaltar que si no hacemos uso de la referencia del valor original, se estará almacenando un poco de *basura* en nuestra memoria."
   ]
  },
  {
   "cell_type": "code",
   "execution_count": null,
   "metadata": {
    "id": "VxIfJMwfH-3M"
   },
   "outputs": [],
   "source": []
  }
 ],
 "metadata": {
  "colab": {
   "name": "Untitled2.ipynb",
   "provenance": []
  },
  "kernelspec": {
   "display_name": "Python 3 (ipykernel)",
   "language": "python",
   "name": "python3"
  },
  "language_info": {
   "codemirror_mode": {
    "name": "ipython",
    "version": 3
   },
   "file_extension": ".py",
   "mimetype": "text/x-python",
   "name": "python",
   "nbconvert_exporter": "python",
   "pygments_lexer": "ipython3",
   "version": "3.9.5"
  }
 },
 "nbformat": 4,
 "nbformat_minor": 4
}
